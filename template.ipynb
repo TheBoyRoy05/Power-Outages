{
 "cells": [
  {
   "cell_type": "markdown",
   "metadata": {},
   "source": [
    "# Predicting Power Outage Severity\n",
    "\n",
    "**Name**: Issac Roy\n",
    "\n",
    "**Website Link**: https://theboyroy05.github.io/Power-Outages/\n"
   ]
  },
  {
   "cell_type": "code",
   "execution_count": 1,
   "metadata": {
    "ExecuteTime": {
     "end_time": "2019-10-31T23:36:28.652554Z",
     "start_time": "2019-10-31T23:36:27.180520Z"
    }
   },
   "outputs": [],
   "source": [
    "import pandas as pd\n",
    "import numpy as np\n",
    "from pathlib import Path\n",
    "from datetime import datetime\n",
    "import seaborn as sns\n",
    "import requests\n",
    "import folium\n",
    "\n",
    "import plotly.express as px\n",
    "pd.options.plotting.backend = \"plotly\""
   ]
  },
  {
   "cell_type": "markdown",
   "metadata": {},
   "source": [
    "## Step 1: Introduction\n"
   ]
  },
  {
   "cell_type": "markdown",
   "metadata": {},
   "source": [
    "First, we'll read in the data to take a look at what we're working with\n"
   ]
  },
  {
   "cell_type": "code",
   "execution_count": 2,
   "metadata": {},
   "outputs": [
    {
     "data": {
      "text/html": [
       "<div>\n",
       "<style scoped>\n",
       "    .dataframe tbody tr th:only-of-type {\n",
       "        vertical-align: middle;\n",
       "    }\n",
       "\n",
       "    .dataframe tbody tr th {\n",
       "        vertical-align: top;\n",
       "    }\n",
       "\n",
       "    .dataframe thead th {\n",
       "        text-align: right;\n",
       "    }\n",
       "</style>\n",
       "<table border=\"1\" class=\"dataframe\">\n",
       "  <thead>\n",
       "    <tr style=\"text-align: right;\">\n",
       "      <th></th>\n",
       "      <th>Major power outage events in the continental U.S.</th>\n",
       "      <th>Unnamed: 1</th>\n",
       "      <th>Unnamed: 2</th>\n",
       "      <th>Unnamed: 3</th>\n",
       "      <th>Unnamed: 4</th>\n",
       "      <th>Unnamed: 5</th>\n",
       "      <th>Unnamed: 6</th>\n",
       "      <th>Unnamed: 7</th>\n",
       "      <th>Unnamed: 8</th>\n",
       "      <th>Unnamed: 9</th>\n",
       "      <th>...</th>\n",
       "      <th>Unnamed: 47</th>\n",
       "      <th>Unnamed: 48</th>\n",
       "      <th>Unnamed: 49</th>\n",
       "      <th>Unnamed: 50</th>\n",
       "      <th>Unnamed: 51</th>\n",
       "      <th>Unnamed: 52</th>\n",
       "      <th>Unnamed: 53</th>\n",
       "      <th>Unnamed: 54</th>\n",
       "      <th>Unnamed: 55</th>\n",
       "      <th>Unnamed: 56</th>\n",
       "    </tr>\n",
       "  </thead>\n",
       "  <tbody>\n",
       "    <tr>\n",
       "      <th>0</th>\n",
       "      <td>Time period: January 2000 - July 2016</td>\n",
       "      <td>NaN</td>\n",
       "      <td>NaN</td>\n",
       "      <td>NaN</td>\n",
       "      <td>NaN</td>\n",
       "      <td>NaN</td>\n",
       "      <td>NaN</td>\n",
       "      <td>NaN</td>\n",
       "      <td>NaN</td>\n",
       "      <td>NaN</td>\n",
       "      <td>...</td>\n",
       "      <td>NaN</td>\n",
       "      <td>NaN</td>\n",
       "      <td>NaN</td>\n",
       "      <td>NaN</td>\n",
       "      <td>NaN</td>\n",
       "      <td>NaN</td>\n",
       "      <td>NaN</td>\n",
       "      <td>NaN</td>\n",
       "      <td>NaN</td>\n",
       "      <td>NaN</td>\n",
       "    </tr>\n",
       "    <tr>\n",
       "      <th>1</th>\n",
       "      <td>Regions affected: Outages reported in this dat...</td>\n",
       "      <td>NaN</td>\n",
       "      <td>NaN</td>\n",
       "      <td>NaN</td>\n",
       "      <td>NaN</td>\n",
       "      <td>NaN</td>\n",
       "      <td>NaN</td>\n",
       "      <td>NaN</td>\n",
       "      <td>NaN</td>\n",
       "      <td>NaN</td>\n",
       "      <td>...</td>\n",
       "      <td>NaN</td>\n",
       "      <td>NaN</td>\n",
       "      <td>NaN</td>\n",
       "      <td>NaN</td>\n",
       "      <td>NaN</td>\n",
       "      <td>NaN</td>\n",
       "      <td>NaN</td>\n",
       "      <td>NaN</td>\n",
       "      <td>NaN</td>\n",
       "      <td>NaN</td>\n",
       "    </tr>\n",
       "    <tr>\n",
       "      <th>2</th>\n",
       "      <td>NaN</td>\n",
       "      <td>NaN</td>\n",
       "      <td>NaN</td>\n",
       "      <td>NaN</td>\n",
       "      <td>NaN</td>\n",
       "      <td>NaN</td>\n",
       "      <td>NaN</td>\n",
       "      <td>NaN</td>\n",
       "      <td>NaN</td>\n",
       "      <td>NaN</td>\n",
       "      <td>...</td>\n",
       "      <td>NaN</td>\n",
       "      <td>NaN</td>\n",
       "      <td>NaN</td>\n",
       "      <td>NaN</td>\n",
       "      <td>NaN</td>\n",
       "      <td>NaN</td>\n",
       "      <td>NaN</td>\n",
       "      <td>NaN</td>\n",
       "      <td>NaN</td>\n",
       "      <td>NaN</td>\n",
       "    </tr>\n",
       "    <tr>\n",
       "      <th>3</th>\n",
       "      <td>NaN</td>\n",
       "      <td>NaN</td>\n",
       "      <td>NaN</td>\n",
       "      <td>NaN</td>\n",
       "      <td>NaN</td>\n",
       "      <td>NaN</td>\n",
       "      <td>NaN</td>\n",
       "      <td>NaN</td>\n",
       "      <td>NaN</td>\n",
       "      <td>NaN</td>\n",
       "      <td>...</td>\n",
       "      <td>NaN</td>\n",
       "      <td>NaN</td>\n",
       "      <td>NaN</td>\n",
       "      <td>NaN</td>\n",
       "      <td>NaN</td>\n",
       "      <td>NaN</td>\n",
       "      <td>NaN</td>\n",
       "      <td>NaN</td>\n",
       "      <td>NaN</td>\n",
       "      <td>NaN</td>\n",
       "    </tr>\n",
       "    <tr>\n",
       "      <th>4</th>\n",
       "      <td>variables</td>\n",
       "      <td>OBS</td>\n",
       "      <td>YEAR</td>\n",
       "      <td>MONTH</td>\n",
       "      <td>U.S._STATE</td>\n",
       "      <td>POSTAL.CODE</td>\n",
       "      <td>NERC.REGION</td>\n",
       "      <td>CLIMATE.REGION</td>\n",
       "      <td>ANOMALY.LEVEL</td>\n",
       "      <td>CLIMATE.CATEGORY</td>\n",
       "      <td>...</td>\n",
       "      <td>POPPCT_URBAN</td>\n",
       "      <td>POPPCT_UC</td>\n",
       "      <td>POPDEN_URBAN</td>\n",
       "      <td>POPDEN_UC</td>\n",
       "      <td>POPDEN_RURAL</td>\n",
       "      <td>AREAPCT_URBAN</td>\n",
       "      <td>AREAPCT_UC</td>\n",
       "      <td>PCT_LAND</td>\n",
       "      <td>PCT_WATER_TOT</td>\n",
       "      <td>PCT_WATER_INLAND</td>\n",
       "    </tr>\n",
       "  </tbody>\n",
       "</table>\n",
       "<p>5 rows × 57 columns</p>\n",
       "</div>"
      ],
      "text/plain": [
       "   Major power outage events in the continental U.S. Unnamed: 1 Unnamed: 2  \\\n",
       "0              Time period: January 2000 - July 2016        NaN        NaN   \n",
       "1  Regions affected: Outages reported in this dat...        NaN        NaN   \n",
       "2                                                NaN        NaN        NaN   \n",
       "3                                                NaN        NaN        NaN   \n",
       "4                                          variables        OBS       YEAR   \n",
       "\n",
       "  Unnamed: 3  Unnamed: 4   Unnamed: 5   Unnamed: 6      Unnamed: 7  \\\n",
       "0        NaN         NaN          NaN          NaN             NaN   \n",
       "1        NaN         NaN          NaN          NaN             NaN   \n",
       "2        NaN         NaN          NaN          NaN             NaN   \n",
       "3        NaN         NaN          NaN          NaN             NaN   \n",
       "4      MONTH  U.S._STATE  POSTAL.CODE  NERC.REGION  CLIMATE.REGION   \n",
       "\n",
       "      Unnamed: 8        Unnamed: 9  ...   Unnamed: 47 Unnamed: 48  \\\n",
       "0            NaN               NaN  ...           NaN         NaN   \n",
       "1            NaN               NaN  ...           NaN         NaN   \n",
       "2            NaN               NaN  ...           NaN         NaN   \n",
       "3            NaN               NaN  ...           NaN         NaN   \n",
       "4  ANOMALY.LEVEL  CLIMATE.CATEGORY  ...  POPPCT_URBAN   POPPCT_UC   \n",
       "\n",
       "    Unnamed: 49 Unnamed: 50   Unnamed: 51    Unnamed: 52 Unnamed: 53  \\\n",
       "0           NaN         NaN           NaN            NaN         NaN   \n",
       "1           NaN         NaN           NaN            NaN         NaN   \n",
       "2           NaN         NaN           NaN            NaN         NaN   \n",
       "3           NaN         NaN           NaN            NaN         NaN   \n",
       "4  POPDEN_URBAN   POPDEN_UC  POPDEN_RURAL  AREAPCT_URBAN  AREAPCT_UC   \n",
       "\n",
       "  Unnamed: 54    Unnamed: 55       Unnamed: 56  \n",
       "0         NaN            NaN               NaN  \n",
       "1         NaN            NaN               NaN  \n",
       "2         NaN            NaN               NaN  \n",
       "3         NaN            NaN               NaN  \n",
       "4    PCT_LAND  PCT_WATER_TOT  PCT_WATER_INLAND  \n",
       "\n",
       "[5 rows x 57 columns]"
      ]
     },
     "execution_count": 2,
     "metadata": {},
     "output_type": "execute_result"
    }
   ],
   "source": [
    "raw = pd.read_excel(Path(\"data\") / \"outage.xlsx\")\n",
    "raw.head()"
   ]
  },
  {
   "cell_type": "markdown",
   "metadata": {},
   "source": [
    "From what we can see here, it's clear that the data needs to be cleaned before we can use it for anything. Taking a look at index 4, we can see the columns that we're working with here including month, year, state, and a multitude of other columns describing each outage.\n"
   ]
  },
  {
   "cell_type": "markdown",
   "metadata": {},
   "source": [
    "### Brainstorming\n"
   ]
  },
  {
   "cell_type": "markdown",
   "metadata": {},
   "source": [
    "## Step 2: Data Cleaning and Exploratory Data Analysis\n"
   ]
  },
  {
   "cell_type": "code",
   "execution_count": 3,
   "metadata": {},
   "outputs": [
    {
     "data": {
      "text/html": [
       "<div>\n",
       "<style scoped>\n",
       "    .dataframe tbody tr th:only-of-type {\n",
       "        vertical-align: middle;\n",
       "    }\n",
       "\n",
       "    .dataframe tbody tr th {\n",
       "        vertical-align: top;\n",
       "    }\n",
       "\n",
       "    .dataframe thead th {\n",
       "        text-align: right;\n",
       "    }\n",
       "</style>\n",
       "<table border=\"1\" class=\"dataframe\">\n",
       "  <thead>\n",
       "    <tr style=\"text-align: right;\">\n",
       "      <th></th>\n",
       "      <th>YEAR</th>\n",
       "      <th>MONTH</th>\n",
       "      <th>U.S._STATE</th>\n",
       "      <th>POSTAL.CODE</th>\n",
       "      <th>NERC.REGION</th>\n",
       "      <th>CLIMATE.REGION</th>\n",
       "      <th>ANOMALY.LEVEL</th>\n",
       "      <th>CLIMATE.CATEGORY</th>\n",
       "      <th>OUTAGE.START.DATE</th>\n",
       "      <th>OUTAGE.START.TIME</th>\n",
       "      <th>...</th>\n",
       "      <th>POPPCT_URBAN</th>\n",
       "      <th>POPPCT_UC</th>\n",
       "      <th>POPDEN_URBAN</th>\n",
       "      <th>POPDEN_UC</th>\n",
       "      <th>POPDEN_RURAL</th>\n",
       "      <th>AREAPCT_URBAN</th>\n",
       "      <th>AREAPCT_UC</th>\n",
       "      <th>PCT_LAND</th>\n",
       "      <th>PCT_WATER_TOT</th>\n",
       "      <th>PCT_WATER_INLAND</th>\n",
       "    </tr>\n",
       "  </thead>\n",
       "  <tbody>\n",
       "    <tr>\n",
       "      <th>0</th>\n",
       "      <td>2011</td>\n",
       "      <td>7</td>\n",
       "      <td>Minnesota</td>\n",
       "      <td>MN</td>\n",
       "      <td>MRO</td>\n",
       "      <td>East North Central</td>\n",
       "      <td>-0.3</td>\n",
       "      <td>normal</td>\n",
       "      <td>2011-07-01 00:00:00</td>\n",
       "      <td>17:00:00</td>\n",
       "      <td>...</td>\n",
       "      <td>73.27</td>\n",
       "      <td>15.28</td>\n",
       "      <td>2279</td>\n",
       "      <td>1700.5</td>\n",
       "      <td>18.2</td>\n",
       "      <td>2.14</td>\n",
       "      <td>0.6</td>\n",
       "      <td>91.592666</td>\n",
       "      <td>8.407334</td>\n",
       "      <td>5.478743</td>\n",
       "    </tr>\n",
       "    <tr>\n",
       "      <th>1</th>\n",
       "      <td>2014</td>\n",
       "      <td>5</td>\n",
       "      <td>Minnesota</td>\n",
       "      <td>MN</td>\n",
       "      <td>MRO</td>\n",
       "      <td>East North Central</td>\n",
       "      <td>-0.1</td>\n",
       "      <td>normal</td>\n",
       "      <td>2014-05-11 00:00:00</td>\n",
       "      <td>18:38:00</td>\n",
       "      <td>...</td>\n",
       "      <td>73.27</td>\n",
       "      <td>15.28</td>\n",
       "      <td>2279</td>\n",
       "      <td>1700.5</td>\n",
       "      <td>18.2</td>\n",
       "      <td>2.14</td>\n",
       "      <td>0.6</td>\n",
       "      <td>91.592666</td>\n",
       "      <td>8.407334</td>\n",
       "      <td>5.478743</td>\n",
       "    </tr>\n",
       "    <tr>\n",
       "      <th>2</th>\n",
       "      <td>2010</td>\n",
       "      <td>10</td>\n",
       "      <td>Minnesota</td>\n",
       "      <td>MN</td>\n",
       "      <td>MRO</td>\n",
       "      <td>East North Central</td>\n",
       "      <td>-1.5</td>\n",
       "      <td>cold</td>\n",
       "      <td>2010-10-26 00:00:00</td>\n",
       "      <td>20:00:00</td>\n",
       "      <td>...</td>\n",
       "      <td>73.27</td>\n",
       "      <td>15.28</td>\n",
       "      <td>2279</td>\n",
       "      <td>1700.5</td>\n",
       "      <td>18.2</td>\n",
       "      <td>2.14</td>\n",
       "      <td>0.6</td>\n",
       "      <td>91.592666</td>\n",
       "      <td>8.407334</td>\n",
       "      <td>5.478743</td>\n",
       "    </tr>\n",
       "    <tr>\n",
       "      <th>3</th>\n",
       "      <td>2012</td>\n",
       "      <td>6</td>\n",
       "      <td>Minnesota</td>\n",
       "      <td>MN</td>\n",
       "      <td>MRO</td>\n",
       "      <td>East North Central</td>\n",
       "      <td>-0.1</td>\n",
       "      <td>normal</td>\n",
       "      <td>2012-06-19 00:00:00</td>\n",
       "      <td>04:30:00</td>\n",
       "      <td>...</td>\n",
       "      <td>73.27</td>\n",
       "      <td>15.28</td>\n",
       "      <td>2279</td>\n",
       "      <td>1700.5</td>\n",
       "      <td>18.2</td>\n",
       "      <td>2.14</td>\n",
       "      <td>0.6</td>\n",
       "      <td>91.592666</td>\n",
       "      <td>8.407334</td>\n",
       "      <td>5.478743</td>\n",
       "    </tr>\n",
       "    <tr>\n",
       "      <th>4</th>\n",
       "      <td>2015</td>\n",
       "      <td>7</td>\n",
       "      <td>Minnesota</td>\n",
       "      <td>MN</td>\n",
       "      <td>MRO</td>\n",
       "      <td>East North Central</td>\n",
       "      <td>1.2</td>\n",
       "      <td>warm</td>\n",
       "      <td>2015-07-18 00:00:00</td>\n",
       "      <td>02:00:00</td>\n",
       "      <td>...</td>\n",
       "      <td>73.27</td>\n",
       "      <td>15.28</td>\n",
       "      <td>2279</td>\n",
       "      <td>1700.5</td>\n",
       "      <td>18.2</td>\n",
       "      <td>2.14</td>\n",
       "      <td>0.6</td>\n",
       "      <td>91.592666</td>\n",
       "      <td>8.407334</td>\n",
       "      <td>5.478743</td>\n",
       "    </tr>\n",
       "  </tbody>\n",
       "</table>\n",
       "<p>5 rows × 55 columns</p>\n",
       "</div>"
      ],
      "text/plain": [
       "   YEAR MONTH U.S._STATE POSTAL.CODE NERC.REGION      CLIMATE.REGION  \\\n",
       "0  2011     7  Minnesota          MN         MRO  East North Central   \n",
       "1  2014     5  Minnesota          MN         MRO  East North Central   \n",
       "2  2010    10  Minnesota          MN         MRO  East North Central   \n",
       "3  2012     6  Minnesota          MN         MRO  East North Central   \n",
       "4  2015     7  Minnesota          MN         MRO  East North Central   \n",
       "\n",
       "  ANOMALY.LEVEL CLIMATE.CATEGORY    OUTAGE.START.DATE OUTAGE.START.TIME  ...  \\\n",
       "0          -0.3           normal  2011-07-01 00:00:00          17:00:00  ...   \n",
       "1          -0.1           normal  2014-05-11 00:00:00          18:38:00  ...   \n",
       "2          -1.5             cold  2010-10-26 00:00:00          20:00:00  ...   \n",
       "3          -0.1           normal  2012-06-19 00:00:00          04:30:00  ...   \n",
       "4           1.2             warm  2015-07-18 00:00:00          02:00:00  ...   \n",
       "\n",
       "  POPPCT_URBAN POPPCT_UC POPDEN_URBAN POPDEN_UC POPDEN_RURAL AREAPCT_URBAN  \\\n",
       "0        73.27     15.28         2279    1700.5         18.2          2.14   \n",
       "1        73.27     15.28         2279    1700.5         18.2          2.14   \n",
       "2        73.27     15.28         2279    1700.5         18.2          2.14   \n",
       "3        73.27     15.28         2279    1700.5         18.2          2.14   \n",
       "4        73.27     15.28         2279    1700.5         18.2          2.14   \n",
       "\n",
       "  AREAPCT_UC   PCT_LAND PCT_WATER_TOT PCT_WATER_INLAND  \n",
       "0        0.6  91.592666      8.407334         5.478743  \n",
       "1        0.6  91.592666      8.407334         5.478743  \n",
       "2        0.6  91.592666      8.407334         5.478743  \n",
       "3        0.6  91.592666      8.407334         5.478743  \n",
       "4        0.6  91.592666      8.407334         5.478743  \n",
       "\n",
       "[5 rows x 55 columns]"
      ]
     },
     "execution_count": 3,
     "metadata": {},
     "output_type": "execute_result"
    }
   ],
   "source": [
    "df = (\n",
    "    raw[6:]\n",
    "    .reset_index(drop=True)\n",
    "    .rename(columns=raw.iloc[4])\n",
    "    .drop([\"variables\", \"OBS\"], axis=1)\n",
    ")\n",
    "df.head()"
   ]
  },
  {
   "cell_type": "code",
   "execution_count": 4,
   "metadata": {},
   "outputs": [
    {
     "data": {
      "text/html": [
       "<div>\n",
       "<style scoped>\n",
       "    .dataframe tbody tr th:only-of-type {\n",
       "        vertical-align: middle;\n",
       "    }\n",
       "\n",
       "    .dataframe tbody tr th {\n",
       "        vertical-align: top;\n",
       "    }\n",
       "\n",
       "    .dataframe thead th {\n",
       "        text-align: right;\n",
       "    }\n",
       "</style>\n",
       "<table border=\"1\" class=\"dataframe\">\n",
       "  <thead>\n",
       "    <tr style=\"text-align: right;\">\n",
       "      <th></th>\n",
       "      <th>YEAR</th>\n",
       "      <th>MONTH</th>\n",
       "      <th>U.S._STATE</th>\n",
       "      <th>POSTAL.CODE</th>\n",
       "      <th>NERC.REGION</th>\n",
       "      <th>CLIMATE.REGION</th>\n",
       "      <th>ANOMALY.LEVEL</th>\n",
       "      <th>CLIMATE.CATEGORY</th>\n",
       "      <th>CAUSE.CATEGORY</th>\n",
       "      <th>CAUSE.CATEGORY.DETAIL</th>\n",
       "      <th>...</th>\n",
       "      <th>POPDEN_URBAN</th>\n",
       "      <th>POPDEN_UC</th>\n",
       "      <th>POPDEN_RURAL</th>\n",
       "      <th>AREAPCT_URBAN</th>\n",
       "      <th>AREAPCT_UC</th>\n",
       "      <th>PCT_LAND</th>\n",
       "      <th>PCT_WATER_TOT</th>\n",
       "      <th>PCT_WATER_INLAND</th>\n",
       "      <th>OUTAGE.START</th>\n",
       "      <th>OUTAGE.RESTORATION</th>\n",
       "    </tr>\n",
       "  </thead>\n",
       "  <tbody>\n",
       "    <tr>\n",
       "      <th>0</th>\n",
       "      <td>2011</td>\n",
       "      <td>7</td>\n",
       "      <td>Minnesota</td>\n",
       "      <td>MN</td>\n",
       "      <td>MRO</td>\n",
       "      <td>East North Central</td>\n",
       "      <td>-0.3</td>\n",
       "      <td>normal</td>\n",
       "      <td>severe weather</td>\n",
       "      <td>NaN</td>\n",
       "      <td>...</td>\n",
       "      <td>2279</td>\n",
       "      <td>1700.5</td>\n",
       "      <td>18.2</td>\n",
       "      <td>2.14</td>\n",
       "      <td>0.6</td>\n",
       "      <td>91.592666</td>\n",
       "      <td>8.407334</td>\n",
       "      <td>5.478743</td>\n",
       "      <td>2011-07-01 17:00:00</td>\n",
       "      <td>2011-07-03 20:00:00</td>\n",
       "    </tr>\n",
       "    <tr>\n",
       "      <th>1</th>\n",
       "      <td>2014</td>\n",
       "      <td>5</td>\n",
       "      <td>Minnesota</td>\n",
       "      <td>MN</td>\n",
       "      <td>MRO</td>\n",
       "      <td>East North Central</td>\n",
       "      <td>-0.1</td>\n",
       "      <td>normal</td>\n",
       "      <td>intentional attack</td>\n",
       "      <td>vandalism</td>\n",
       "      <td>...</td>\n",
       "      <td>2279</td>\n",
       "      <td>1700.5</td>\n",
       "      <td>18.2</td>\n",
       "      <td>2.14</td>\n",
       "      <td>0.6</td>\n",
       "      <td>91.592666</td>\n",
       "      <td>8.407334</td>\n",
       "      <td>5.478743</td>\n",
       "      <td>2014-05-11 18:38:00</td>\n",
       "      <td>2014-05-11 18:39:00</td>\n",
       "    </tr>\n",
       "    <tr>\n",
       "      <th>2</th>\n",
       "      <td>2010</td>\n",
       "      <td>10</td>\n",
       "      <td>Minnesota</td>\n",
       "      <td>MN</td>\n",
       "      <td>MRO</td>\n",
       "      <td>East North Central</td>\n",
       "      <td>-1.5</td>\n",
       "      <td>cold</td>\n",
       "      <td>severe weather</td>\n",
       "      <td>heavy wind</td>\n",
       "      <td>...</td>\n",
       "      <td>2279</td>\n",
       "      <td>1700.5</td>\n",
       "      <td>18.2</td>\n",
       "      <td>2.14</td>\n",
       "      <td>0.6</td>\n",
       "      <td>91.592666</td>\n",
       "      <td>8.407334</td>\n",
       "      <td>5.478743</td>\n",
       "      <td>2010-10-26 20:00:00</td>\n",
       "      <td>2010-10-28 22:00:00</td>\n",
       "    </tr>\n",
       "    <tr>\n",
       "      <th>3</th>\n",
       "      <td>2012</td>\n",
       "      <td>6</td>\n",
       "      <td>Minnesota</td>\n",
       "      <td>MN</td>\n",
       "      <td>MRO</td>\n",
       "      <td>East North Central</td>\n",
       "      <td>-0.1</td>\n",
       "      <td>normal</td>\n",
       "      <td>severe weather</td>\n",
       "      <td>thunderstorm</td>\n",
       "      <td>...</td>\n",
       "      <td>2279</td>\n",
       "      <td>1700.5</td>\n",
       "      <td>18.2</td>\n",
       "      <td>2.14</td>\n",
       "      <td>0.6</td>\n",
       "      <td>91.592666</td>\n",
       "      <td>8.407334</td>\n",
       "      <td>5.478743</td>\n",
       "      <td>2012-06-19 04:30:00</td>\n",
       "      <td>2012-06-20 23:00:00</td>\n",
       "    </tr>\n",
       "    <tr>\n",
       "      <th>4</th>\n",
       "      <td>2015</td>\n",
       "      <td>7</td>\n",
       "      <td>Minnesota</td>\n",
       "      <td>MN</td>\n",
       "      <td>MRO</td>\n",
       "      <td>East North Central</td>\n",
       "      <td>1.2</td>\n",
       "      <td>warm</td>\n",
       "      <td>severe weather</td>\n",
       "      <td>NaN</td>\n",
       "      <td>...</td>\n",
       "      <td>2279</td>\n",
       "      <td>1700.5</td>\n",
       "      <td>18.2</td>\n",
       "      <td>2.14</td>\n",
       "      <td>0.6</td>\n",
       "      <td>91.592666</td>\n",
       "      <td>8.407334</td>\n",
       "      <td>5.478743</td>\n",
       "      <td>2015-07-18 02:00:00</td>\n",
       "      <td>2015-07-19 07:00:00</td>\n",
       "    </tr>\n",
       "  </tbody>\n",
       "</table>\n",
       "<p>5 rows × 53 columns</p>\n",
       "</div>"
      ],
      "text/plain": [
       "   YEAR MONTH U.S._STATE POSTAL.CODE NERC.REGION      CLIMATE.REGION  \\\n",
       "0  2011     7  Minnesota          MN         MRO  East North Central   \n",
       "1  2014     5  Minnesota          MN         MRO  East North Central   \n",
       "2  2010    10  Minnesota          MN         MRO  East North Central   \n",
       "3  2012     6  Minnesota          MN         MRO  East North Central   \n",
       "4  2015     7  Minnesota          MN         MRO  East North Central   \n",
       "\n",
       "  ANOMALY.LEVEL CLIMATE.CATEGORY      CAUSE.CATEGORY CAUSE.CATEGORY.DETAIL  \\\n",
       "0          -0.3           normal      severe weather                   NaN   \n",
       "1          -0.1           normal  intentional attack             vandalism   \n",
       "2          -1.5             cold      severe weather            heavy wind   \n",
       "3          -0.1           normal      severe weather          thunderstorm   \n",
       "4           1.2             warm      severe weather                   NaN   \n",
       "\n",
       "   ... POPDEN_URBAN POPDEN_UC POPDEN_RURAL AREAPCT_URBAN AREAPCT_UC  \\\n",
       "0  ...         2279    1700.5         18.2          2.14        0.6   \n",
       "1  ...         2279    1700.5         18.2          2.14        0.6   \n",
       "2  ...         2279    1700.5         18.2          2.14        0.6   \n",
       "3  ...         2279    1700.5         18.2          2.14        0.6   \n",
       "4  ...         2279    1700.5         18.2          2.14        0.6   \n",
       "\n",
       "    PCT_LAND PCT_WATER_TOT PCT_WATER_INLAND        OUTAGE.START  \\\n",
       "0  91.592666      8.407334         5.478743 2011-07-01 17:00:00   \n",
       "1  91.592666      8.407334         5.478743 2014-05-11 18:38:00   \n",
       "2  91.592666      8.407334         5.478743 2010-10-26 20:00:00   \n",
       "3  91.592666      8.407334         5.478743 2012-06-19 04:30:00   \n",
       "4  91.592666      8.407334         5.478743 2015-07-18 02:00:00   \n",
       "\n",
       "   OUTAGE.RESTORATION  \n",
       "0 2011-07-03 20:00:00  \n",
       "1 2014-05-11 18:39:00  \n",
       "2 2010-10-28 22:00:00  \n",
       "3 2012-06-20 23:00:00  \n",
       "4 2015-07-19 07:00:00  \n",
       "\n",
       "[5 rows x 53 columns]"
      ]
     },
     "execution_count": 4,
     "metadata": {},
     "output_type": "execute_result"
    }
   ],
   "source": [
    "cleaned = df.copy()\n",
    "\n",
    "\n",
    "def clean_datetime(row, col):\n",
    "    if pd.notna(row[f\"OUTAGE.{col}.DATE\"]) and pd.notna(row[f\"OUTAGE.{col}.TIME\"]):\n",
    "        return datetime.combine(\n",
    "            row[f\"OUTAGE.{col}.DATE\"].date(), row[f\"OUTAGE.{col}.TIME\"]\n",
    "        )\n",
    "\n",
    "\n",
    "for col in [\"START\", \"RESTORATION\"]:\n",
    "    cleaned[f\"OUTAGE.{col}\"] = df.apply(lambda row: clean_datetime(row, col), axis=1)\n",
    "    cleaned.drop([f\"OUTAGE.{col}.DATE\", f\"OUTAGE.{col}.TIME\"], axis=1, inplace=True)\n",
    "cleaned.head()"
   ]
  },
  {
   "cell_type": "code",
   "execution_count": 5,
   "metadata": {},
   "outputs": [],
   "source": [
    "state_geo = requests.get(\n",
    "    \"https://raw.githubusercontent.com/python-visualization/folium-example-data/main/us_states.json\"\n",
    ").json()\n",
    "\n",
    "def plot_geo(data, legend_name):\n",
    "    m = folium.Map(location=[48, -102], zoom_start=4)\n",
    "    folium.Choropleth(\n",
    "        geo_data=state_geo,\n",
    "        name=\"choropleth\",\n",
    "        data=data,\n",
    "        columns=[data.index, data],\n",
    "        key_on=\"feature.id\",\n",
    "        fill_color=\"YlOrRd\",\n",
    "        fill_opacity=0.7,\n",
    "        line_opacity=0.2,\n",
    "        legend_name=legend_name,\n",
    "    ).add_to(m)\n",
    "    return m"
   ]
  },
  {
   "cell_type": "code",
   "execution_count": 6,
   "metadata": {},
   "outputs": [
    {
     "data": {
      "text/html": [
       "<div style=\"width:100%;\"><div style=\"position:relative;width:100%;height:0;padding-bottom:60%;\"><span style=\"color:#565656\">Make this Notebook Trusted to load map: File -> Trust Notebook</span><iframe srcdoc=\"&lt;!DOCTYPE html&gt;\n",
       "&lt;html&gt;\n",
       "&lt;head&gt;\n",
       "    \n",
       "    &lt;meta http-equiv=&quot;content-type&quot; content=&quot;text/html; charset=UTF-8&quot; /&gt;\n",
       "    \n",
       "        &lt;script&gt;\n",
       "            L_NO_TOUCH = false;\n",
       "            L_DISABLE_3D = false;\n",
       "        &lt;/script&gt;\n",
       "    \n",
       "    &lt;style&gt;html, body {width: 100%;height: 100%;margin: 0;padding: 0;}&lt;/style&gt;\n",
       "    &lt;style&gt;#map {position:absolute;top:0;bottom:0;right:0;left:0;}&lt;/style&gt;\n",
       "    &lt;script src=&quot;https://cdn.jsdelivr.net/npm/leaflet@1.9.3/dist/leaflet.js&quot;&gt;&lt;/script&gt;\n",
       "    &lt;script src=&quot;https://code.jquery.com/jquery-3.7.1.min.js&quot;&gt;&lt;/script&gt;\n",
       "    &lt;script src=&quot;https://cdn.jsdelivr.net/npm/bootstrap@5.2.2/dist/js/bootstrap.bundle.min.js&quot;&gt;&lt;/script&gt;\n",
       "    &lt;script src=&quot;https://cdnjs.cloudflare.com/ajax/libs/Leaflet.awesome-markers/2.0.2/leaflet.awesome-markers.js&quot;&gt;&lt;/script&gt;\n",
       "    &lt;link rel=&quot;stylesheet&quot; href=&quot;https://cdn.jsdelivr.net/npm/leaflet@1.9.3/dist/leaflet.css&quot;/&gt;\n",
       "    &lt;link rel=&quot;stylesheet&quot; href=&quot;https://cdn.jsdelivr.net/npm/bootstrap@5.2.2/dist/css/bootstrap.min.css&quot;/&gt;\n",
       "    &lt;link rel=&quot;stylesheet&quot; href=&quot;https://netdna.bootstrapcdn.com/bootstrap/3.0.0/css/bootstrap-glyphicons.css&quot;/&gt;\n",
       "    &lt;link rel=&quot;stylesheet&quot; href=&quot;https://cdn.jsdelivr.net/npm/@fortawesome/fontawesome-free@6.2.0/css/all.min.css&quot;/&gt;\n",
       "    &lt;link rel=&quot;stylesheet&quot; href=&quot;https://cdnjs.cloudflare.com/ajax/libs/Leaflet.awesome-markers/2.0.2/leaflet.awesome-markers.css&quot;/&gt;\n",
       "    &lt;link rel=&quot;stylesheet&quot; href=&quot;https://cdn.jsdelivr.net/gh/python-visualization/folium/folium/templates/leaflet.awesome.rotate.min.css&quot;/&gt;\n",
       "    \n",
       "            &lt;meta name=&quot;viewport&quot; content=&quot;width=device-width,\n",
       "                initial-scale=1.0, maximum-scale=1.0, user-scalable=no&quot; /&gt;\n",
       "            &lt;style&gt;\n",
       "                #map_318472a93eed89aba66f0874540ec1a2 {\n",
       "                    position: relative;\n",
       "                    width: 100.0%;\n",
       "                    height: 100.0%;\n",
       "                    left: 0.0%;\n",
       "                    top: 0.0%;\n",
       "                }\n",
       "                .leaflet-container { font-size: 1rem; }\n",
       "            &lt;/style&gt;\n",
       "        \n",
       "    &lt;script src=&quot;https://cdnjs.cloudflare.com/ajax/libs/d3/3.5.5/d3.min.js&quot;&gt;&lt;/script&gt;\n",
       "&lt;/head&gt;\n",
       "&lt;body&gt;\n",
       "    \n",
       "    \n",
       "            &lt;div class=&quot;folium-map&quot; id=&quot;map_318472a93eed89aba66f0874540ec1a2&quot; &gt;&lt;/div&gt;\n",
       "        \n",
       "&lt;/body&gt;\n",
       "&lt;script&gt;\n",
       "    \n",
       "    \n",
       "            var map_318472a93eed89aba66f0874540ec1a2 = L.map(\n",
       "                &quot;map_318472a93eed89aba66f0874540ec1a2&quot;,\n",
       "                {\n",
       "                    center: [48.0, -102.0],\n",
       "                    crs: L.CRS.EPSG3857,\n",
       "                    zoom: 4,\n",
       "                    zoomControl: true,\n",
       "                    preferCanvas: false,\n",
       "                }\n",
       "            );\n",
       "\n",
       "            \n",
       "\n",
       "        \n",
       "    \n",
       "            var tile_layer_490a9a59f40e81df26ec7d522bcc79e5 = L.tileLayer(\n",
       "                &quot;https://tile.openstreetmap.org/{z}/{x}/{y}.png&quot;,\n",
       "                {&quot;attribution&quot;: &quot;\\u0026copy; \\u003ca href=\\&quot;https://www.openstreetmap.org/copyright\\&quot;\\u003eOpenStreetMap\\u003c/a\\u003e contributors&quot;, &quot;detectRetina&quot;: false, &quot;maxNativeZoom&quot;: 19, &quot;maxZoom&quot;: 19, &quot;minZoom&quot;: 0, &quot;noWrap&quot;: false, &quot;opacity&quot;: 1, &quot;subdomains&quot;: &quot;abc&quot;, &quot;tms&quot;: false}\n",
       "            );\n",
       "        \n",
       "    \n",
       "            tile_layer_490a9a59f40e81df26ec7d522bcc79e5.addTo(map_318472a93eed89aba66f0874540ec1a2);\n",
       "        \n",
       "    \n",
       "            var choropleth_462fb4a16f4d9edc982e9d873f55a4e7 = L.featureGroup(\n",
       "                {}\n",
       "            );\n",
       "        \n",
       "    \n",
       "        function geo_json_ed673a6849d30c18be737b6ca027fbd5_styler(feature) {\n",
       "            switch(feature.id) {\n",
       "                case &quot;AL&quot;: case &quot;AK&quot;: case &quot;AZ&quot;: case &quot;AR&quot;: case &quot;CO&quot;: case &quot;CT&quot;: case &quot;GA&quot;: case &quot;HI&quot;: case &quot;ID&quot;: case &quot;IA&quot;: case &quot;KS&quot;: case &quot;KY&quot;: case &quot;ME&quot;: case &quot;MA&quot;: case &quot;MN&quot;: case &quot;MS&quot;: case &quot;MO&quot;: case &quot;MT&quot;: case &quot;NE&quot;: case &quot;NV&quot;: case &quot;NH&quot;: case &quot;NJ&quot;: case &quot;NM&quot;: case &quot;ND&quot;: case &quot;OK&quot;: case &quot;OR&quot;: case &quot;SC&quot;: case &quot;SD&quot;: case &quot;TN&quot;: case &quot;VT&quot;: case &quot;WV&quot;: case &quot;WI&quot;: case &quot;WY&quot;: \n",
       "                    return {&quot;color&quot;: &quot;black&quot;, &quot;fillColor&quot;: &quot;#ffffb2&quot;, &quot;fillOpacity&quot;: 0.7, &quot;opacity&quot;: 0.2, &quot;weight&quot;: 1};\n",
       "                case &quot;CA&quot;: \n",
       "                    return {&quot;color&quot;: &quot;black&quot;, &quot;fillColor&quot;: &quot;#bd0026&quot;, &quot;fillOpacity&quot;: 0.7, &quot;opacity&quot;: 0.2, &quot;weight&quot;: 1};\n",
       "                case &quot;DE&quot;: case &quot;FL&quot;: case &quot;IL&quot;: case &quot;IN&quot;: case &quot;LA&quot;: case &quot;MD&quot;: case &quot;NC&quot;: case &quot;OH&quot;: case &quot;PA&quot;: case &quot;UT&quot;: case &quot;VA&quot;: \n",
       "                    return {&quot;color&quot;: &quot;black&quot;, &quot;fillColor&quot;: &quot;#fed976&quot;, &quot;fillOpacity&quot;: 0.7, &quot;opacity&quot;: 0.2, &quot;weight&quot;: 1};\n",
       "                case &quot;MI&quot;: case &quot;NY&quot;: case &quot;WA&quot;: \n",
       "                    return {&quot;color&quot;: &quot;black&quot;, &quot;fillColor&quot;: &quot;#feb24c&quot;, &quot;fillOpacity&quot;: 0.7, &quot;opacity&quot;: 0.2, &quot;weight&quot;: 1};\n",
       "                case &quot;RI&quot;: \n",
       "                    return {&quot;color&quot;: &quot;black&quot;, &quot;fillColor&quot;: &quot;black&quot;, &quot;fillOpacity&quot;: 0.7, &quot;opacity&quot;: 0.2, &quot;weight&quot;: 1};\n",
       "                default:\n",
       "                    return {&quot;color&quot;: &quot;black&quot;, &quot;fillColor&quot;: &quot;#fd8d3c&quot;, &quot;fillOpacity&quot;: 0.7, &quot;opacity&quot;: 0.2, &quot;weight&quot;: 1};\n",
       "            }\n",
       "        }\n",
       "\n",
       "        function geo_json_ed673a6849d30c18be737b6ca027fbd5_onEachFeature(feature, layer) {\n",
       "            layer.on({\n",
       "            });\n",
       "        };\n",
       "        var geo_json_ed673a6849d30c18be737b6ca027fbd5 = L.geoJson(null, {\n",
       "                onEachFeature: geo_json_ed673a6849d30c18be737b6ca027fbd5_onEachFeature,\n",
       "            \n",
       "                style: geo_json_ed673a6849d30c18be737b6ca027fbd5_styler,\n",
       "        });\n",
       "\n",
       "        function geo_json_ed673a6849d30c18be737b6ca027fbd5_add (data) {\n",
       "            geo_json_ed673a6849d30c18be737b6ca027fbd5\n",
       "                .addData(data);\n",
       "        }\n",
       "            geo_json_ed673a6849d30c18be737b6ca027fbd5_add({&quot;features&quot;: [{&quot;geometry&quot;: {&quot;coordinates&quot;: [[[-87.359296, 35.00118], [-85.606675, 34.984749], [-85.431413, 34.124869], [-85.184951, 32.859696], [-85.069935, 32.580372], [-84.960397, 32.421541], [-85.004212, 32.322956], [-84.889196, 32.262709], [-85.058981, 32.13674], [-85.053504, 32.01077], [-85.141136, 31.840985], [-85.042551, 31.539753], [-85.113751, 31.27686], [-85.004212, 31.003013], [-85.497137, 30.997536], [-87.600282, 30.997536], [-87.633143, 30.86609], [-87.408589, 30.674397], [-87.446927, 30.510088], [-87.37025, 30.427934], [-87.518128, 30.280057], [-87.655051, 30.247195], [-87.90699, 30.411504], [-87.934375, 30.657966], [-88.011052, 30.685351], [-88.10416, 30.499135], [-88.137022, 30.318396], [-88.394438, 30.367688], [-88.471115, 31.895754], [-88.241084, 33.796253], [-88.098683, 34.891641], [-88.202745, 34.995703], [-87.359296, 35.00118]]], &quot;type&quot;: &quot;Polygon&quot;}, &quot;id&quot;: &quot;AL&quot;, &quot;properties&quot;: {&quot;name&quot;: &quot;Alabama&quot;}, &quot;type&quot;: &quot;Feature&quot;}, {&quot;geometry&quot;: {&quot;coordinates&quot;: [[[[-131.602021, 55.117982], [-131.569159, 55.28229], [-131.355558, 55.183705], [-131.38842, 55.01392], [-131.645836, 55.035827], [-131.602021, 55.117982]]], [[[-131.832052, 55.42469], [-131.645836, 55.304197], [-131.749898, 55.128935], [-131.832052, 55.189182], [-131.832052, 55.42469]]], [[[-132.976733, 56.437924], [-132.735747, 56.459832], [-132.631685, 56.421493], [-132.664547, 56.273616], [-132.878148, 56.240754], [-133.069841, 56.333862], [-132.976733, 56.437924]]], [[[-133.595627, 56.350293], [-133.162949, 56.317431], [-133.05341, 56.125739], [-132.620732, 55.912138], [-132.472854, 55.780691], [-132.4619, 55.671152], [-132.357838, 55.649245], [-132.341408, 55.506844], [-132.166146, 55.364444], [-132.144238, 55.238474], [-132.029222, 55.276813], [-131.97993, 55.178228], [-131.958022, 54.789365], [-132.029222, 54.701734], [-132.308546, 54.718165], [-132.385223, 54.915335], [-132.483808, 54.898904], [-132.686455, 55.046781], [-132.746701, 54.997489], [-132.916486, 55.046781], [-132.889102, 54.898904], [-132.73027, 54.937242], [-132.626209, 54.882473], [-132.675501, 54.679826], [-132.867194, 54.701734], [-133.157472, 54.95915], [-133.239626, 55.090597], [-133.223195, 55.22752], [-133.453227, 55.216566], [-133.453227, 55.320628], [-133.277964, 55.331582], [-133.102702, 55.42469], [-133.17938, 55.588998], [-133.387503, 55.62186], [-133.420365, 55.884753], [-133.497042, 56.0162], [-133.639442, 55.923092], [-133.694212, 56.070969], [-133.546335, 56.142169], [-133.666827, 56.311955], [-133.595627, 56.350293]]], [[[-133.738027, 55.556137], [-133.546335, 55.490413], [-133.414888, 55.572568], [-133.283441, 55.534229], [-133.420365, 55.386352], [-133.633966, 55.430167], [-133.738027, 55.556137]]], [[[-133.907813, 56.930849], [-134.050213, 57.029434], [-133.885905, 57.095157], [-133.343688, 57.002049], [-133.102702, 57.007526], [-132.932917, 56.82131], [-132.620732, 56.667956], [-132.653593, 56.55294], [-132.817901, 56.492694], [-133.042456, 56.520078], [-133.201287, 56.448878], [-133.420365, 56.492694], [-133.66135, 56.448878], [-133.710643, 56.684386], [-133.688735, 56.837741], [-133.869474, 56.843218], [-133.907813, 56.930849]]], [[[-134.115936, 56.48174], [-134.25286, 56.558417], [-134.400737, 56.722725], [-134.417168, 56.848695], [-134.296675, 56.908941], [-134.170706, 56.848695], [-134.143321, 56.952757], [-133.748981, 56.772017], [-133.710643, 56.596755], [-133.847566, 56.574848], [-133.935197, 56.377678], [-133.836612, 56.322908], [-133.957105, 56.092877], [-134.110459, 56.142169], [-134.132367, 55.999769], [-134.230952, 56.070969], [-134.291198, 56.350293], [-134.115936, 56.48174]]], [[[-134.636246, 56.28457], [-134.669107, 56.169554], [-134.806031, 56.235277], [-135.178463, 56.67891], [-135.413971, 56.810356], [-135.331817, 56.914418], [-135.424925, 57.166357], [-135.687818, 57.369004], [-135.419448, 57.566174], [-135.298955, 57.48402], [-135.063447, 57.418296], [-134.849846, 57.407343], [-134.844369, 57.248511], [-134.636246, 56.728202], [-134.636246, 56.28457]]], [[[-134.712923, 58.223407], [-134.373353, 58.14673], [-134.176183, 58.157683], [-134.187137, 58.081006], [-133.902336, 57.807159], [-134.099505, 57.850975], [-134.148798, 57.757867], [-133.935197, 57.615466], [-133.869474, 57.363527], [-134.083075, 57.297804], [-134.154275, 57.210173], [-134.499322, 57.029434], [-134.603384, 57.034911], [-134.6472, 57.226604], [-134.575999, 57.341619], [-134.608861, 57.511404], [-134.729354, 57.719528], [-134.707446, 57.829067], [-134.784123, 58.097437], [-134.91557, 58.212453], [-134.953908, 58.409623], [-134.712923, 58.223407]]], [[[-135.857603, 57.330665], [-135.715203, 57.330665], [-135.567326, 57.149926], [-135.633049, 57.023957], [-135.857603, 56.996572], [-135.824742, 57.193742], [-135.857603, 57.330665]]], [[[-136.279328, 58.206976], [-135.978096, 58.201499], [-135.780926, 58.28913], [-135.496125, 58.168637], [-135.64948, 58.037191], [-135.59471, 57.987898], [-135.45231, 58.135776], [-135.107263, 58.086483], [-134.91557, 57.976944], [-135.025108, 57.779775], [-134.937477, 57.763344], [-134.822462, 57.500451], [-135.085355, 57.462112], [-135.572802, 57.675713], [-135.556372, 57.456635], [-135.709726, 57.369004], [-135.890465, 57.407343], [-136.000004, 57.544266], [-136.208128, 57.637374], [-136.366959, 57.829067], [-136.569606, 57.916698], [-136.558652, 58.075529], [-136.421728, 58.130299], [-136.377913, 58.267222], [-136.279328, 58.206976]]], [[[-147.079854, 60.200582], [-147.501579, 59.948643], [-147.53444, 59.850058], [-147.874011, 59.784335], [-147.80281, 59.937689], [-147.435855, 60.09652], [-147.205824, 60.271782], [-147.079854, 60.200582]]], [[[-147.561825, 60.578491], [-147.616594, 60.370367], [-147.758995, 60.156767], [-147.956165, 60.227967], [-147.791856, 60.474429], [-147.561825, 60.578491]]], [[[-147.786379, 70.245291], [-147.682318, 70.201475], [-147.162008, 70.15766], [-146.888161, 70.185044], [-146.510252, 70.185044], [-146.099482, 70.146706], [-145.858496, 70.168614], [-145.622988, 70.08646], [-145.195787, 69.993352], [-144.620708, 69.971444], [-144.461877, 70.026213], [-144.078491, 70.059075], [-143.914183, 70.130275], [-143.497935, 70.141229], [-143.503412, 70.091936], [-143.25695, 70.119321], [-142.747594, 70.042644], [-142.402547, 69.916674], [-142.079408, 69.856428], [-142.008207, 69.801659], [-141.712453, 69.790705], [-141.433129, 69.697597], [-141.378359, 69.63735], [-141.208574, 69.686643], [-141.00045, 69.648304], [-141.00045, 60.304644], [-140.53491, 60.22249], [-140.474664, 60.310121], [-139.987216, 60.184151], [-139.696939, 60.342983], [-139.088998, 60.359413], [-139.198537, 60.091043], [-139.045183, 59.997935], [-138.700135, 59.910304], [-138.623458, 59.767904], [-137.604747, 59.242118], [-137.445916, 58.908024], [-137.265177, 59.001132], [-136.827022, 59.159963], [-136.580559, 59.16544], [-136.465544, 59.285933], [-136.476498, 59.466672], [-136.301236, 59.466672], [-136.25742, 59.625503], [-135.945234, 59.663842], [-135.479694, 59.800766], [-135.025108, 59.565257], [-135.068924, 59.422857], [-134.959385, 59.280456], [-134.701969, 59.247595], [-134.378829, 59.033994], [-134.400737, 58.973748], [-134.25286, 58.858732], [-133.842089, 58.727285], [-133.173903, 58.152206], [-133.075318, 57.998852], [-132.867194, 57.845498], [-132.560485, 57.505928], [-132.253777, 57.21565], [-132.368792, 57.095157], [-132.05113, 57.051341], [-132.127807, 56.876079], [-131.870391, 56.804879], [-131.837529, 56.602232], [-131.580113, 56.613186], [-131.087188, 56.405062], [-130.78048, 56.366724], [-130.621648, 56.268139], [-130.468294, 56.240754], [-130.424478, 56.142169], [-130.101339, 56.114785], [-130.002754, 55.994292], [-130.150631, 55.769737], [-130.128724, 55.583521], [-129.986323, 55.276813], [-130.095862, 55.200136], [-130.336847, 54.920812], [-130.687372, 54.718165], [-130.785957, 54.822227], [-130.917403, 54.789365], [-131.010511, 54.997489], [-130.983126, 55.08512], [-131.092665, 55.189182], [-130.862634, 55.298721], [-130.928357, 55.337059], [-131.158389, 55.200136], [-131.284358, 55.287767], [-131.426759, 55.238474], [-131.843006, 55.457552], [-131.700606, 55.698537], [-131.963499, 55.616383], [-131.974453, 55.49589], [-132.182576, 55.588998], [-132.226392, 55.704014], [-132.083991, 55.829984], [-132.127807, 55.955953], [-132.324977, 55.851892], [-132.522147, 56.076446], [-132.642639, 56.032631], [-132.719317, 56.218847], [-132.527624, 56.339339], [-132.341408, 56.339339], [-132.396177, 56.487217], [-132.297592, 56.67891], [-132.450946, 56.673433], [-132.768609, 56.837741], [-132.993164, 57.034911], [-133.51895, 57.177311], [-133.507996, 57.577128], [-133.677781, 57.62642], [-133.639442, 57.790728], [-133.814705, 57.834544], [-134.072121, 58.053622], [-134.143321, 58.168637], [-134.586953, 58.206976], [-135.074401, 58.502731], [-135.282525, 59.192825], [-135.38111, 59.033994], [-135.337294, 58.891593], [-135.140124, 58.617746], [-135.189417, 58.573931], [-135.05797, 58.349376], [-135.085355, 58.201499], [-135.277048, 58.234361], [-135.430402, 58.398669], [-135.633049, 58.426053], [-135.91785, 58.382238], [-135.912373, 58.617746], [-136.087635, 58.814916], [-136.246466, 58.75467], [-136.876314, 58.962794], [-136.931084, 58.902547], [-136.586036, 58.836824], [-136.317666, 58.672516], [-136.213604, 58.667039], [-136.180743, 58.535592], [-136.043819, 58.382238], [-136.388867, 58.294607], [-136.591513, 58.349376], [-136.59699, 58.212453], [-136.859883, 58.316515], [-136.947514, 58.393192], [-137.111823, 58.393192], [-137.566409, 58.590362], [-137.900502, 58.765624], [-137.933364, 58.869686], [-138.11958, 59.02304], [-138.634412, 59.132579], [-138.919213, 59.247595], [-139.417615, 59.379041], [-139.746231, 59.505011], [-139.718846, 59.641934], [-139.625738, 59.598119], [-139.5162, 59.68575], [-139.625738, 59.88292], [-139.488815, 59.992458], [-139.554538, 60.041751], [-139.801, 59.833627], [-140.315833, 59.696704], [-140.92925, 59.745996], [-141.444083, 59.871966], [-141.46599, 59.970551], [-141.706976, 59.948643], [-141.964392, 60.019843], [-142.539471, 60.085566], [-142.873564, 60.091043], [-143.623905, 60.036274], [-143.892275, 59.997935], [-144.231845, 60.140336], [-144.65357, 60.206059], [-144.785016, 60.29369], [-144.834309, 60.441568], [-145.124586, 60.430614], [-145.223171, 60.299167], [-145.738004, 60.474429], [-145.820158, 60.551106], [-146.351421, 60.408706], [-146.608837, 60.238921], [-146.718376, 60.397752], [-146.608837, 60.485383], [-146.455483, 60.463475], [-145.951604, 60.578491], [-146.017328, 60.666122], [-146.252836, 60.622307], [-146.345944, 60.737322], [-146.565022, 60.753753], [-146.784099, 61.044031], [-146.866253, 60.972831], [-147.172962, 60.934492], [-147.271547, 60.972831], [-147.375609, 60.879723], [-147.758995, 60.912584], [-147.775426, 60.808523], [-148.032842, 60.781138], [-148.153334, 60.819476], [-148.065703, 61.005692], [-148.175242, 61.000215], [-148.350504, 60.803046], [-148.109519, 60.737322], [-148.087611, 60.594922], [-147.939734, 60.441568], [-148.027365, 60.277259], [-148.219058, 60.332029], [-148.273827, 60.249875], [-148.087611, 60.217013], [-147.983549, 59.997935], [-148.251919, 59.95412], [-148.399797, 59.997935], [-148.635305, 59.937689], [-148.755798, 59.986981], [-149.067984, 59.981505], [-149.05703, 60.063659], [-149.204907, 60.008889], [-149.287061, 59.904827], [-149.418508, 59.997935], [-149.582816, 59.866489], [-149.511616, 59.806242], [-149.741647, 59.729565], [-149.949771, 59.718611], [-150.031925, 59.61455], [-150.25648, 59.521442], [-150.409834, 59.554303], [-150.579619, 59.444764], [-150.716543, 59.450241], [-151.001343, 59.225687], [-151.308052, 59.209256], [-151.406637, 59.280456], [-151.592853, 59.159963], [-151.976239, 59.253071], [-151.888608, 59.422857], [-151.636669, 59.483103], [-151.47236, 59.472149], [-151.423068, 59.537872], [-151.127313, 59.669319], [-151.116359, 59.778858], [-151.505222, 59.63098], [-151.828361, 59.718611], [-151.8667, 59.778858], [-151.702392, 60.030797], [-151.423068, 60.211536], [-151.379252, 60.359413], [-151.297098, 60.386798], [-151.264237, 60.545629], [-151.406637, 60.720892], [-151.06159, 60.786615], [-150.404357, 61.038554], [-150.245526, 60.939969], [-150.042879, 60.912584], [-149.741647, 61.016646], [-150.075741, 61.15357], [-150.207187, 61.257632], [-150.47008, 61.246678], [-150.656296, 61.29597], [-150.711066, 61.252155], [-151.023251, 61.180954], [-151.165652, 61.044031], [-151.477837, 61.011169], [-151.800977, 60.852338], [-151.833838, 60.748276], [-152.080301, 60.693507], [-152.13507, 60.578491], [-152.310332, 60.507291], [-152.392486, 60.304644], [-152.732057, 60.173197], [-152.567748, 60.069136], [-152.704672, 59.915781], [-153.022334, 59.888397], [-153.049719, 59.691227], [-153.345474, 59.620026], [-153.438582, 59.702181], [-153.586459, 59.548826], [-153.761721, 59.543349], [-153.72886, 59.433811], [-154.117723, 59.368087], [-154.1944, 59.066856], [-153.750768, 59.050425], [-153.400243, 58.968271], [-153.301658, 58.869686], [-153.444059, 58.710854], [-153.679567, 58.612269], [-153.898645, 58.606793], [-153.920553, 58.519161], [-154.062953, 58.4863], [-153.99723, 58.376761], [-154.145107, 58.212453], [-154.46277, 58.059098], [-154.643509, 58.059098], [-154.818771, 58.004329], [-154.988556, 58.015283], [-155.120003, 57.955037], [-155.081664, 57.872883], [-155.328126, 57.829067], [-155.377419, 57.708574], [-155.547204, 57.785251], [-155.73342, 57.549743], [-156.045606, 57.566174], [-156.023698, 57.440204], [-156.209914, 57.473066], [-156.34136, 57.418296], [-156.34136, 57.248511], [-156.549484, 56.985618], [-156.883577, 56.952757], [-157.157424, 56.832264], [-157.20124, 56.766541], [-157.376502, 56.859649], [-157.672257, 56.607709], [-157.754411, 56.67891], [-157.918719, 56.657002], [-157.957058, 56.514601], [-158.126843, 56.459832], [-158.32949, 56.48174], [-158.488321, 56.339339], [-158.208997, 56.295524], [-158.510229, 55.977861], [-159.375585, 55.873799], [-159.616571, 55.594475], [-159.676817, 55.654722], [-159.643955, 55.829984], [-159.813741, 55.857368], [-160.027341, 55.791645], [-160.060203, 55.720445], [-160.394296, 55.605429], [-160.536697, 55.473983], [-160.580512, 55.567091], [-160.668143, 55.457552], [-160.865313, 55.528752], [-161.232268, 55.358967], [-161.506115, 55.364444], [-161.467776, 55.49589], [-161.588269, 55.62186], [-161.697808, 55.517798], [-161.686854, 55.408259], [-162.053809, 55.074166], [-162.179779, 55.15632], [-162.218117, 55.03035], [-162.470057, 55.052258], [-162.508395, 55.249428], [-162.661749, 55.293244], [-162.716519, 55.222043], [-162.579595, 55.134412], [-162.645319, 54.997489], [-162.847965, 54.926289], [-163.00132, 55.079643], [-163.187536, 55.090597], [-163.220397, 55.03035], [-163.034181, 54.942719], [-163.373752, 54.800319], [-163.14372, 54.76198], [-163.138243, 54.696257], [-163.329936, 54.74555], [-163.587352, 54.614103], [-164.085754, 54.61958], [-164.332216, 54.531949], [-164.354124, 54.466226], [-164.638925, 54.389548], [-164.847049, 54.416933], [-164.918249, 54.603149], [-164.710125, 54.663395], [-164.551294, 54.88795], [-164.34317, 54.893427], [-163.894061, 55.041304], [-163.532583, 55.046781], [-163.39566, 54.904381], [-163.291598, 55.008443], [-163.313505, 55.128935], [-163.105382, 55.183705], [-162.880827, 55.183705], [-162.579595, 55.446598], [-162.245502, 55.682106], [-161.807347, 55.89023], [-161.292514, 55.983338], [-161.078914, 55.939523], [-160.87079, 55.999769], [-160.816021, 55.912138], [-160.931036, 55.813553], [-160.805067, 55.736876], [-160.766728, 55.857368], [-160.509312, 55.868322], [-160.438112, 55.791645], [-160.27928, 55.76426], [-160.273803, 55.857368], [-160.536697, 55.939523], [-160.558604, 55.994292], [-160.383342, 56.251708], [-160.147834, 56.399586], [-159.830171, 56.541986], [-159.326293, 56.667956], [-158.959338, 56.848695], [-158.784076, 56.782971], [-158.641675, 56.810356], [-158.701922, 56.925372], [-158.658106, 57.034911], [-158.378782, 57.264942], [-157.995396, 57.41282], [-157.688688, 57.609989], [-157.705118, 57.719528], [-157.458656, 58.497254], [-157.07527, 58.705377], [-157.119086, 58.869686], [-158.039212, 58.634177], [-158.32949, 58.661562], [-158.40069, 58.760147], [-158.564998, 58.803962], [-158.619768, 58.913501], [-158.767645, 58.864209], [-158.860753, 58.694424], [-158.701922, 58.480823], [-158.893615, 58.387715], [-159.0634, 58.420577], [-159.392016, 58.760147], [-159.616571, 58.929932], [-159.731586, 58.929932], [-159.808264, 58.803962], [-159.906848, 58.782055], [-160.054726, 58.886116], [-160.235465, 58.902547], [-160.317619, 59.072332], [-160.854359, 58.88064], [-161.33633, 58.743716], [-161.374669, 58.667039], [-161.752577, 58.552023], [-161.938793, 58.656085], [-161.769008, 58.776578], [-161.829255, 59.061379], [-161.955224, 59.36261], [-161.703285, 59.48858], [-161.911409, 59.740519], [-162.092148, 59.88292], [-162.234548, 60.091043], [-162.448149, 60.178674], [-162.502918, 59.997935], [-162.760334, 59.959597], [-163.171105, 59.844581], [-163.66403, 59.795289], [-163.9324, 59.806242], [-164.162431, 59.866489], [-164.189816, 60.02532], [-164.386986, 60.074613], [-164.699171, 60.29369], [-164.962064, 60.337506], [-165.268773, 60.578491], [-165.060649, 60.68803], [-165.016834, 60.890677], [-165.175665, 60.846861], [-165.197573, 60.972831], [-165.120896, 61.076893], [-165.323543, 61.170001], [-165.34545, 61.071416], [-165.591913, 61.109754], [-165.624774, 61.279539], [-165.816467, 61.301447], [-165.920529, 61.416463], [-165.915052, 61.558863], [-166.106745, 61.49314], [-166.139607, 61.630064], [-165.904098, 61.662925], [-166.095791, 61.81628], [-165.756221, 61.827233], [-165.756221, 62.013449], [-165.674067, 62.139419], [-165.044219, 62.539236], [-164.912772, 62.659728], [-164.819664, 62.637821], [-164.874433, 62.807606], [-164.633448, 63.097884], [-164.425324, 63.212899], [-164.036462, 63.262192], [-163.73523, 63.212899], [-163.313505, 63.037637], [-163.039658, 63.059545], [-162.661749, 63.22933], [-162.272887, 63.486746], [-162.075717, 63.514131], [-162.026424, 63.448408], [-161.555408, 63.448408], [-161.13916, 63.503177], [-160.766728, 63.771547], [-160.766728, 63.837271], [-160.952944, 64.08921], [-160.974852, 64.237087], [-161.26513, 64.395918], [-161.374669, 64.532842], [-161.078914, 64.494503], [-160.79959, 64.609519], [-160.783159, 64.719058], [-161.144637, 64.921705], [-161.413007, 64.762873], [-161.664946, 64.790258], [-161.900455, 64.702627], [-162.168825, 64.680719], [-162.234548, 64.620473], [-162.541257, 64.532842], [-162.634365, 64.384965], [-162.787719, 64.324718], [-162.858919, 64.49998], [-163.045135, 64.538319], [-163.176582, 64.401395], [-163.253259, 64.467119], [-163.598306, 64.565704], [-164.304832, 64.560227], [-164.80871, 64.450688], [-165.000403, 64.434257], [-165.411174, 64.49998], [-166.188899, 64.576658], [-166.391546, 64.636904], [-166.484654, 64.735489], [-166.413454, 64.872412], [-166.692778, 64.987428], [-166.638008, 65.113398], [-166.462746, 65.179121], [-166.517516, 65.337952], [-166.796839, 65.337952], [-167.026871, 65.381768], [-167.47598, 65.414629], [-167.711489, 65.496784], [-168.072967, 65.578938], [-168.105828, 65.682999], [-167.541703, 65.819923], [-166.829701, 66.049954], [-166.3313, 66.186878], [-166.046499, 66.110201], [-165.756221, 66.09377], [-165.690498, 66.203309], [-165.86576, 66.21974], [-165.88219, 66.312848], [-165.186619, 66.466202], [-164.403417, 66.581218], [-163.981692, 66.592172], [-163.751661, 66.553833], [-163.872153, 66.389525], [-163.828338, 66.274509], [-163.915969, 66.192355], [-163.768091, 66.060908], [-163.494244, 66.082816], [-163.149197, 66.060908], [-162.749381, 66.088293], [-162.634365, 66.039001], [-162.371472, 66.028047], [-162.14144, 66.077339], [-161.840208, 66.02257], [-161.549931, 66.241647], [-161.341807, 66.252601], [-161.199406, 66.208786], [-161.128206, 66.334755], [-161.528023, 66.395002], [-161.911409, 66.345709], [-161.87307, 66.510017], [-162.174302, 66.68528], [-162.502918, 66.740049], [-162.601503, 66.89888], [-162.344087, 66.937219], [-162.015471, 66.778388], [-162.075717, 66.652418], [-161.916886, 66.553833], [-161.571838, 66.438817], [-161.489684, 66.55931], [-161.884024, 66.718141], [-161.714239, 67.002942], [-161.851162, 67.052235], [-162.240025, 66.991988], [-162.639842, 67.008419], [-162.700088, 67.057712], [-162.902735, 67.008419], [-163.740707, 67.128912], [-163.757138, 67.254881], [-164.009077, 67.534205], [-164.211724, 67.638267], [-164.534863, 67.725898], [-165.192096, 67.966884], [-165.493328, 68.059992], [-165.794559, 68.081899], [-166.243668, 68.246208], [-166.681824, 68.339316], [-166.703731, 68.372177], [-166.375115, 68.42147], [-166.227238, 68.574824], [-166.216284, 68.881533], [-165.329019, 68.859625], [-164.255539, 68.930825], [-163.976215, 68.985595], [-163.532583, 69.138949], [-163.110859, 69.374457], [-163.023228, 69.609966], [-162.842489, 69.812613], [-162.470057, 69.982398], [-162.311225, 70.108367], [-161.851162, 70.311014], [-161.779962, 70.256245], [-161.396576, 70.239814], [-160.837928, 70.343876], [-160.487404, 70.453415], [-159.649432, 70.792985], [-159.33177, 70.809416], [-159.298908, 70.760123], [-158.975769, 70.798462], [-158.658106, 70.787508], [-158.033735, 70.831323], [-157.420318, 70.979201], [-156.812377, 71.285909], [-156.565915, 71.351633], [-156.522099, 71.296863], [-155.585543, 71.170894], [-155.508865, 71.083263], [-155.832005, 70.968247], [-155.979882, 70.96277], [-155.974405, 70.809416], [-155.503388, 70.858708], [-155.476004, 70.940862], [-155.262403, 71.017539], [-155.191203, 70.973724], [-155.032372, 71.148986], [-154.566832, 70.990155], [-154.643509, 70.869662], [-154.353231, 70.8368], [-154.183446, 70.7656], [-153.931507, 70.880616], [-153.487874, 70.886093], [-153.235935, 70.924431], [-152.589656, 70.886093], [-152.26104, 70.842277], [-152.419871, 70.606769], [-151.817408, 70.546523], [-151.773592, 70.486276], [-151.187559, 70.382214], [-151.182082, 70.431507], [-150.760358, 70.49723], [-150.355064, 70.491753], [-150.349588, 70.436984], [-150.114079, 70.431507], [-149.867617, 70.508184], [-149.462323, 70.519138], [-149.177522, 70.486276], [-148.78866, 70.404122], [-148.607921, 70.420553], [-148.350504, 70.305537], [-148.202627, 70.349353], [-147.961642, 70.316491], [-147.786379, 70.245291]]], [[[-152.94018, 58.026237], [-152.945657, 57.982421], [-153.290705, 58.048145], [-153.044242, 58.305561], [-152.819688, 58.327469], [-152.666333, 58.562977], [-152.496548, 58.354853], [-152.354148, 58.426053], [-152.080301, 58.311038], [-152.080301, 58.152206], [-152.480117, 58.130299], [-152.655379, 58.059098], [-152.94018, 58.026237]]], [[[-153.958891, 57.538789], [-153.67409, 57.670236], [-153.931507, 57.69762], [-153.936983, 57.812636], [-153.723383, 57.889313], [-153.570028, 57.834544], [-153.548121, 57.719528], [-153.46049, 57.796205], [-153.455013, 57.96599], [-153.268797, 57.889313], [-153.235935, 57.998852], [-153.071627, 57.933129], [-152.874457, 57.933129], [-152.721103, 57.993375], [-152.469163, 57.889313], [-152.469163, 57.599035], [-152.151501, 57.620943], [-152.359625, 57.42925], [-152.74301, 57.505928], [-152.60061, 57.379958], [-152.710149, 57.275896], [-152.907319, 57.325188], [-152.912796, 57.128019], [-153.214027, 57.073249], [-153.312612, 56.991095], [-153.498828, 57.067772], [-153.695998, 56.859649], [-153.849352, 56.837741], [-154.013661, 56.744633], [-154.073907, 56.969187], [-154.303938, 56.848695], [-154.314892, 56.919895], [-154.523016, 56.991095], [-154.539447, 57.193742], [-154.742094, 57.275896], [-154.627078, 57.511404], [-154.227261, 57.659282], [-153.980799, 57.648328], [-153.958891, 57.538789]]], [[[-154.53397, 56.602232], [-154.742094, 56.399586], [-154.807817, 56.432447], [-154.53397, 56.602232]]], [[[-155.634835, 55.923092], [-155.476004, 55.912138], [-155.530773, 55.704014], [-155.793666, 55.731399], [-155.837482, 55.802599], [-155.634835, 55.923092]]], [[[-159.890418, 55.28229], [-159.950664, 55.068689], [-160.257373, 54.893427], [-160.109495, 55.161797], [-160.005433, 55.134412], [-159.890418, 55.28229]]], [[[-160.520266, 55.358967], [-160.33405, 55.358967], [-160.339527, 55.249428], [-160.525743, 55.128935], [-160.690051, 55.211089], [-160.794113, 55.134412], [-160.854359, 55.320628], [-160.79959, 55.380875], [-160.520266, 55.358967]]], [[[-162.256456, 54.981058], [-162.234548, 54.893427], [-162.349564, 54.838658], [-162.437195, 54.931766], [-162.256456, 54.981058]]], [[[-162.415287, 63.634624], [-162.563165, 63.536039], [-162.612457, 63.62367], [-162.415287, 63.634624]]], [[[-162.80415, 54.488133], [-162.590549, 54.449795], [-162.612457, 54.367641], [-162.782242, 54.373118], [-162.80415, 54.488133]]], [[[-165.548097, 54.29644], [-165.476897, 54.181425], [-165.630251, 54.132132], [-165.685021, 54.252625], [-165.548097, 54.29644]]], [[[-165.73979, 54.15404], [-166.046499, 54.044501], [-166.112222, 54.121178], [-165.980775, 54.219763], [-165.73979, 54.15404]]], [[[-166.364161, 60.359413], [-166.13413, 60.397752], [-166.084837, 60.326552], [-165.88219, 60.342983], [-165.685021, 60.277259], [-165.646682, 59.992458], [-165.750744, 59.89935], [-166.00816, 59.844581], [-166.062929, 59.745996], [-166.440838, 59.855535], [-166.6161, 59.850058], [-166.994009, 59.992458], [-167.125456, 59.992458], [-167.344534, 60.074613], [-167.421211, 60.206059], [-167.311672, 60.238921], [-166.93924, 60.206059], [-166.763978, 60.310121], [-166.577762, 60.321075], [-166.495608, 60.392275], [-166.364161, 60.359413]]], [[[-166.375115, 54.01164], [-166.210807, 53.934962], [-166.5449, 53.748746], [-166.539423, 53.715885], [-166.117699, 53.852808], [-166.112222, 53.776131], [-166.282007, 53.683023], [-166.555854, 53.622777], [-166.583239, 53.529669], [-166.878994, 53.431084], [-167.13641, 53.425607], [-167.306195, 53.332499], [-167.623857, 53.250345], [-167.793643, 53.337976], [-167.459549, 53.442038], [-167.355487, 53.425607], [-167.103548, 53.513238], [-167.163794, 53.611823], [-167.021394, 53.715885], [-166.807793, 53.666592], [-166.785886, 53.732316], [-167.015917, 53.754223], [-167.141887, 53.825424], [-167.032348, 53.945916], [-166.643485, 54.017116], [-166.561331, 53.880193], [-166.375115, 54.01164]]], [[[-168.790446, 53.157237], [-168.40706, 53.34893], [-168.385152, 53.431084], [-168.237275, 53.524192], [-168.007243, 53.568007], [-167.886751, 53.518715], [-167.842935, 53.387268], [-168.270136, 53.244868], [-168.500168, 53.036744], [-168.686384, 52.965544], [-168.790446, 53.157237]]], [[[-169.74891, 52.894344], [-169.705095, 52.795759], [-169.962511, 52.790282], [-169.989896, 52.856005], [-169.74891, 52.894344]]], [[[-170.148727, 57.221127], [-170.28565, 57.128019], [-170.313035, 57.221127], [-170.148727, 57.221127]]], [[[-170.669036, 52.697174], [-170.603313, 52.604066], [-170.789529, 52.538343], [-170.816914, 52.636928], [-170.669036, 52.697174]]], [[[-171.742517, 63.716778], [-170.94836, 63.5689], [-170.488297, 63.69487], [-170.280174, 63.683916], [-170.093958, 63.612716], [-170.044665, 63.492223], [-169.644848, 63.4265], [-169.518879, 63.366254], [-168.99857, 63.338869], [-168.686384, 63.295053], [-168.856169, 63.147176], [-169.108108, 63.180038], [-169.376478, 63.152653], [-169.513402, 63.08693], [-169.639372, 62.939052], [-169.831064, 63.075976], [-170.055619, 63.169084], [-170.263743, 63.180038], [-170.362328, 63.2841], [-170.866206, 63.415546], [-171.101715, 63.421023], [-171.463193, 63.306007], [-171.73704, 63.366254], [-171.852055, 63.486746], [-171.742517, 63.716778]]], [[[-172.432611, 52.390465], [-172.41618, 52.275449], [-172.607873, 52.253542], [-172.569535, 52.352127], [-172.432611, 52.390465]]], [[[-173.626584, 52.14948], [-173.495138, 52.105664], [-173.122706, 52.111141], [-173.106275, 52.07828], [-173.549907, 52.028987], [-173.626584, 52.14948]]], [[[-174.322156, 52.280926], [-174.327632, 52.379511], [-174.185232, 52.41785], [-173.982585, 52.319265], [-174.059262, 52.226157], [-174.179755, 52.231634], [-174.141417, 52.127572], [-174.333109, 52.116618], [-174.738403, 52.007079], [-174.968435, 52.039941], [-174.902711, 52.116618], [-174.656249, 52.105664], [-174.322156, 52.280926]]], [[[-176.469116, 51.853725], [-176.288377, 51.870156], [-176.288377, 51.744186], [-176.518409, 51.760617], [-176.80321, 51.61274], [-176.912748, 51.80991], [-176.792256, 51.815386], [-176.775825, 51.963264], [-176.627947, 51.968741], [-176.627947, 51.859202], [-176.469116, 51.853725]]], [[[-177.153734, 51.946833], [-177.044195, 51.897541], [-177.120872, 51.727755], [-177.274226, 51.678463], [-177.279703, 51.782525], [-177.153734, 51.946833]]], [[[-178.123152, 51.919448], [-177.953367, 51.913971], [-177.800013, 51.793479], [-177.964321, 51.651078], [-178.123152, 51.919448]]], [[[173.107557, 52.992929], [173.293773, 52.927205], [173.304726, 52.823143], [172.90491, 52.762897], [172.642017, 52.927205], [172.642017, 53.003883], [173.107557, 52.992929]]]], &quot;type&quot;: &quot;MultiPolygon&quot;}, &quot;id&quot;: &quot;AK&quot;, &quot;properties&quot;: {&quot;name&quot;: &quot;Alaska&quot;}, &quot;type&quot;: &quot;Feature&quot;}, {&quot;geometry&quot;: {&quot;coordinates&quot;: [[[-109.042503, 37.000263], [-109.04798, 31.331629], [-111.074448, 31.331629], [-112.246513, 31.704061], [-114.815198, 32.492741], [-114.72209, 32.717295], [-114.524921, 32.755634], [-114.470151, 32.843265], [-114.524921, 33.029481], [-114.661844, 33.034958], [-114.727567, 33.40739], [-114.524921, 33.54979], [-114.497536, 33.697668], [-114.535874, 33.933176], [-114.415382, 34.108438], [-114.256551, 34.174162], [-114.136058, 34.305608], [-114.333228, 34.448009], [-114.470151, 34.710902], [-114.634459, 34.87521], [-114.634459, 35.00118], [-114.574213, 35.138103], [-114.596121, 35.324319], [-114.678275, 35.516012], [-114.738521, 36.102045], [-114.371566, 36.140383], [-114.251074, 36.01989], [-114.152489, 36.025367], [-114.048427, 36.195153], [-114.048427, 37.000263], [-110.499369, 37.00574], [-109.042503, 37.000263]]], &quot;type&quot;: &quot;Polygon&quot;}, &quot;id&quot;: &quot;AZ&quot;, &quot;properties&quot;: {&quot;name&quot;: &quot;Arizona&quot;}, &quot;type&quot;: &quot;Feature&quot;}, {&quot;geometry&quot;: {&quot;coordinates&quot;: [[[-94.473842, 36.501861], [-90.152536, 36.496384], [-90.064905, 36.304691], [-90.218259, 36.184199], [-90.377091, 35.997983], [-89.730812, 35.997983], [-89.763673, 35.811767], [-89.911551, 35.756997], [-89.944412, 35.603643], [-90.130628, 35.439335], [-90.114197, 35.198349], [-90.212782, 35.023087], [-90.311367, 34.995703], [-90.251121, 34.908072], [-90.409952, 34.831394], [-90.481152, 34.661609], [-90.585214, 34.617794], [-90.568783, 34.420624], [-90.749522, 34.365854], [-90.744046, 34.300131], [-90.952169, 34.135823], [-90.891923, 34.026284], [-91.072662, 33.867453], [-91.231493, 33.560744], [-91.056231, 33.429298], [-91.143862, 33.347144], [-91.089093, 33.13902], [-91.16577, 33.002096], [-93.608485, 33.018527], [-94.041164, 33.018527], [-94.041164, 33.54979], [-94.183564, 33.593606], [-94.380734, 33.544313], [-94.484796, 33.637421], [-94.430026, 35.395519], [-94.616242, 36.501861], [-94.473842, 36.501861]]], &quot;type&quot;: &quot;Polygon&quot;}, &quot;id&quot;: &quot;AR&quot;, &quot;properties&quot;: {&quot;name&quot;: &quot;Arkansas&quot;}, &quot;type&quot;: &quot;Feature&quot;}, {&quot;geometry&quot;: {&quot;coordinates&quot;: [[[-123.233256, 42.006186], [-122.378853, 42.011663], [-121.037003, 41.995232], [-120.001861, 41.995232], [-119.996384, 40.264519], [-120.001861, 38.999346], [-118.71478, 38.101128], [-117.498899, 37.21934], [-116.540435, 36.501861], [-115.85034, 35.970598], [-114.634459, 35.00118], [-114.634459, 34.87521], [-114.470151, 34.710902], [-114.333228, 34.448009], [-114.136058, 34.305608], [-114.256551, 34.174162], [-114.415382, 34.108438], [-114.535874, 33.933176], [-114.497536, 33.697668], [-114.524921, 33.54979], [-114.727567, 33.40739], [-114.661844, 33.034958], [-114.524921, 33.029481], [-114.470151, 32.843265], [-114.524921, 32.755634], [-114.72209, 32.717295], [-116.04751, 32.624187], [-117.126467, 32.536556], [-117.24696, 32.668003], [-117.252437, 32.876127], [-117.329114, 33.122589], [-117.471515, 33.297851], [-117.7837, 33.538836], [-118.183517, 33.763391], [-118.260194, 33.703145], [-118.413548, 33.741483], [-118.391641, 33.840068], [-118.566903, 34.042715], [-118.802411, 33.998899], [-119.218659, 34.146777], [-119.278905, 34.26727], [-119.558229, 34.415147], [-119.875891, 34.40967], [-120.138784, 34.475393], [-120.472878, 34.448009], [-120.64814, 34.579455], [-120.609801, 34.858779], [-120.670048, 34.902595], [-120.631709, 35.099764], [-120.894602, 35.247642], [-120.905556, 35.450289], [-121.004141, 35.461243], [-121.168449, 35.636505], [-121.283465, 35.674843], [-121.332757, 35.784382], [-121.716143, 36.195153], [-121.896882, 36.315645], [-121.935221, 36.638785], [-121.858544, 36.6114], [-121.787344, 36.803093], [-121.929744, 36.978355], [-122.105006, 36.956447], [-122.335038, 37.115279], [-122.417192, 37.241248], [-122.400761, 37.361741], [-122.515777, 37.520572], [-122.515777, 37.783465], [-122.329561, 37.783465], [-122.406238, 38.15042], [-122.488392, 38.112082], [-122.504823, 37.931343], [-122.701993, 37.893004], [-122.937501, 38.029928], [-122.97584, 38.265436], [-123.129194, 38.451652], [-123.331841, 38.566668], [-123.44138, 38.698114], [-123.737134, 38.95553], [-123.687842, 39.032208], [-123.824765, 39.366301], [-123.764519, 39.552517], [-123.85215, 39.831841], [-124.109566, 40.105688], [-124.361506, 40.259042], [-124.410798, 40.439781], [-124.158859, 40.877937], [-124.109566, 41.025814], [-124.158859, 41.14083], [-124.065751, 41.442061], [-124.147905, 41.715908], [-124.257444, 41.781632], [-124.213628, 42.000709], [-123.233256, 42.006186]]], &quot;type&quot;: &quot;Polygon&quot;}, &quot;id&quot;: &quot;CA&quot;, &quot;properties&quot;: {&quot;name&quot;: &quot;California&quot;}, &quot;type&quot;: &quot;Feature&quot;}, {&quot;geometry&quot;: {&quot;coordinates&quot;: [[[-107.919731, 41.003906], [-105.728954, 40.998429], [-104.053011, 41.003906], [-102.053927, 41.003906], [-102.053927, 40.001626], [-102.042974, 36.994786], [-103.001438, 37.000263], [-104.337812, 36.994786], [-106.868158, 36.994786], [-107.421329, 37.000263], [-109.042503, 37.000263], [-109.042503, 38.166851], [-109.058934, 38.27639], [-109.053457, 39.125316], [-109.04798, 40.998429], [-107.919731, 41.003906]]], &quot;type&quot;: &quot;Polygon&quot;}, &quot;id&quot;: &quot;CO&quot;, &quot;properties&quot;: {&quot;name&quot;: &quot;Colorado&quot;}, &quot;type&quot;: &quot;Feature&quot;}, {&quot;geometry&quot;: {&quot;coordinates&quot;: [[[-73.053528, 42.039048], [-71.799309, 42.022617], [-71.799309, 42.006186], [-71.799309, 41.414677], [-71.859555, 41.321569], [-71.947186, 41.338], [-72.385341, 41.261322], [-72.905651, 41.28323], [-73.130205, 41.146307], [-73.371191, 41.102491], [-73.655992, 40.987475], [-73.727192, 41.102491], [-73.48073, 41.21203], [-73.55193, 41.294184], [-73.486206, 42.050002], [-73.053528, 42.039048]]], &quot;type&quot;: &quot;Polygon&quot;}, &quot;id&quot;: &quot;CT&quot;, &quot;properties&quot;: {&quot;name&quot;: &quot;Connecticut&quot;}, &quot;type&quot;: &quot;Feature&quot;}, {&quot;geometry&quot;: {&quot;coordinates&quot;: [[[-75.414089, 39.804456], [-75.507197, 39.683964], [-75.611259, 39.61824], [-75.589352, 39.459409], [-75.441474, 39.311532], [-75.403136, 39.065069], [-75.189535, 38.807653], [-75.09095, 38.796699], [-75.047134, 38.451652], [-75.693413, 38.462606], [-75.786521, 39.722302], [-75.616736, 39.831841], [-75.414089, 39.804456]]], &quot;type&quot;: &quot;Polygon&quot;}, &quot;id&quot;: &quot;DE&quot;, &quot;properties&quot;: {&quot;name&quot;: &quot;Delaware&quot;}, &quot;type&quot;: &quot;Feature&quot;}, {&quot;geometry&quot;: {&quot;coordinates&quot;: [[[-85.497137, 30.997536], [-85.004212, 31.003013], [-84.867289, 30.712735], [-83.498053, 30.647012], [-82.216449, 30.570335], [-82.167157, 30.356734], [-82.046664, 30.362211], [-82.002849, 30.564858], [-82.041187, 30.751074], [-81.948079, 30.827751], [-81.718048, 30.745597], [-81.444201, 30.707258], [-81.383954, 30.27458], [-81.257985, 29.787132], [-80.967707, 29.14633], [-80.524075, 28.461713], [-80.589798, 28.41242], [-80.56789, 28.094758], [-80.381674, 27.738757], [-80.091397, 27.021277], [-80.03115, 26.796723], [-80.036627, 26.566691], [-80.146166, 25.739673], [-80.239274, 25.723243], [-80.337859, 25.465826], [-80.304997, 25.383672], [-80.49669, 25.197456], [-80.573367, 25.241272], [-80.759583, 25.164595], [-81.077246, 25.120779], [-81.170354, 25.224841], [-81.126538, 25.378195], [-81.351093, 25.821827], [-81.526355, 25.903982], [-81.679709, 25.843735], [-81.800202, 26.090198], [-81.833064, 26.292844], [-82.041187, 26.517399], [-82.09048, 26.665276], [-82.057618, 26.878877], [-82.172634, 26.917216], [-82.145249, 26.791246], [-82.249311, 26.758384], [-82.566974, 27.300601], [-82.692943, 27.437525], [-82.391711, 27.837342], [-82.588881, 27.815434], [-82.720328, 27.689464], [-82.851774, 27.886634], [-82.676512, 28.434328], [-82.643651, 28.888914], [-82.764143, 28.998453], [-82.802482, 29.14633], [-82.994175, 29.179192], [-83.218729, 29.420177], [-83.399469, 29.518762], [-83.410422, 29.66664], [-83.536392, 29.721409], [-83.640454, 29.885717], [-84.02384, 30.104795], [-84.357933, 30.055502], [-84.341502, 29.902148], [-84.451041, 29.929533], [-84.867289, 29.743317], [-85.310921, 29.699501], [-85.299967, 29.80904], [-85.404029, 29.940487], [-85.924338, 30.236241], [-86.29677, 30.362211], [-86.630863, 30.395073], [-86.910187, 30.373165], [-87.518128, 30.280057], [-87.37025, 30.427934], [-87.446927, 30.510088], [-87.408589, 30.674397], [-87.633143, 30.86609], [-87.600282, 30.997536], [-85.497137, 30.997536]]], &quot;type&quot;: &quot;Polygon&quot;}, &quot;id&quot;: &quot;FL&quot;, &quot;properties&quot;: {&quot;name&quot;: &quot;Florida&quot;}, &quot;type&quot;: &quot;Feature&quot;}, {&quot;geometry&quot;: {&quot;coordinates&quot;: [[[-83.109191, 35.00118], [-83.322791, 34.787579], [-83.339222, 34.683517], [-83.005129, 34.469916], [-82.901067, 34.486347], [-82.747713, 34.26727], [-82.714851, 34.152254], [-82.55602, 33.94413], [-82.325988, 33.81816], [-82.194542, 33.631944], [-81.926172, 33.462159], [-81.937125, 33.347144], [-81.761863, 33.160928], [-81.493493, 33.007573], [-81.42777, 32.843265], [-81.416816, 32.629664], [-81.279893, 32.558464], [-81.121061, 32.290094], [-81.115584, 32.120309], [-80.885553, 32.032678], [-81.132015, 31.693108], [-81.175831, 31.517845], [-81.279893, 31.364491], [-81.290846, 31.20566], [-81.400385, 31.13446], [-81.444201, 30.707258], [-81.718048, 30.745597], [-81.948079, 30.827751], [-82.041187, 30.751074], [-82.002849, 30.564858], [-82.046664, 30.362211], [-82.167157, 30.356734], [-82.216449, 30.570335], [-83.498053, 30.647012], [-84.867289, 30.712735], [-85.004212, 31.003013], [-85.113751, 31.27686], [-85.042551, 31.539753], [-85.141136, 31.840985], [-85.053504, 32.01077], [-85.058981, 32.13674], [-84.889196, 32.262709], [-85.004212, 32.322956], [-84.960397, 32.421541], [-85.069935, 32.580372], [-85.184951, 32.859696], [-85.431413, 34.124869], [-85.606675, 34.984749], [-84.319594, 34.990226], [-83.618546, 34.984749], [-83.109191, 35.00118]]], &quot;type&quot;: &quot;Polygon&quot;}, &quot;id&quot;: &quot;GA&quot;, &quot;properties&quot;: {&quot;name&quot;: &quot;Georgia&quot;}, &quot;type&quot;: &quot;Feature&quot;}, {&quot;geometry&quot;: {&quot;coordinates&quot;: [[[[-155.634835, 18.948267], [-155.881297, 19.035898], [-155.919636, 19.123529], [-155.886774, 19.348084], [-156.062036, 19.73147], [-155.925113, 19.857439], [-155.826528, 20.032702], [-155.897728, 20.147717], [-155.87582, 20.26821], [-155.596496, 20.12581], [-155.284311, 20.021748], [-155.092618, 19.868393], [-155.092618, 19.736947], [-154.807817, 19.523346], [-154.983079, 19.348084], [-155.295265, 19.26593], [-155.514342, 19.134483], [-155.634835, 18.948267]]], [[[-156.587823, 21.029505], [-156.472807, 20.892581], [-156.324929, 20.952827], [-156.00179, 20.793996], [-156.051082, 20.651596], [-156.379699, 20.580396], [-156.445422, 20.60778], [-156.461853, 20.783042], [-156.631638, 20.821381], [-156.697361, 20.919966], [-156.587823, 21.029505]]], [[[-156.982162, 21.210244], [-157.080747, 21.106182], [-157.310779, 21.106182], [-157.239579, 21.221198], [-156.982162, 21.210244]]], [[[-157.951581, 21.697691], [-157.842042, 21.462183], [-157.896811, 21.325259], [-158.110412, 21.303352], [-158.252813, 21.582676], [-158.126843, 21.588153], [-157.951581, 21.697691]]], [[[-159.468693, 22.228955], [-159.353678, 22.218001], [-159.298908, 22.113939], [-159.33177, 21.966061], [-159.446786, 21.872953], [-159.764448, 21.987969], [-159.726109, 22.152277], [-159.468693, 22.228955]]]], &quot;type&quot;: &quot;MultiPolygon&quot;}, &quot;id&quot;: &quot;HI&quot;, &quot;properties&quot;: {&quot;name&quot;: &quot;Hawaii&quot;}, &quot;type&quot;: &quot;Feature&quot;}, {&quot;geometry&quot;: {&quot;coordinates&quot;: [[[-116.04751, 49.000239], [-116.04751, 47.976051], [-115.724371, 47.696727], [-115.718894, 47.42288], [-115.527201, 47.302388], [-115.324554, 47.258572], [-115.302646, 47.187372], [-114.930214, 46.919002], [-114.886399, 46.809463], [-114.623506, 46.705401], [-114.612552, 46.639678], [-114.322274, 46.645155], [-114.464674, 46.272723], [-114.492059, 46.037214], [-114.387997, 45.88386], [-114.568736, 45.774321], [-114.497536, 45.670259], [-114.546828, 45.560721], [-114.333228, 45.456659], [-114.086765, 45.593582], [-113.98818, 45.703121], [-113.807441, 45.604536], [-113.834826, 45.522382], [-113.736241, 45.330689], [-113.571933, 45.128042], [-113.45144, 45.056842], [-113.456917, 44.865149], [-113.341901, 44.782995], [-113.133778, 44.772041], [-113.002331, 44.448902], [-112.887315, 44.394132], [-112.783254, 44.48724], [-112.471068, 44.481763], [-112.241036, 44.569394], [-112.104113, 44.520102], [-111.868605, 44.563917], [-111.819312, 44.509148], [-111.616665, 44.547487], [-111.386634, 44.75561], [-111.227803, 44.580348], [-111.047063, 44.476286], [-111.047063, 42.000709], [-112.164359, 41.995232], [-114.04295, 41.995232], [-117.027882, 42.000709], [-117.027882, 43.830007], [-116.896436, 44.158624], [-116.97859, 44.240778], [-117.170283, 44.257209], [-117.241483, 44.394132], [-117.038836, 44.750133], [-116.934774, 44.782995], [-116.830713, 44.930872], [-116.847143, 45.02398], [-116.732128, 45.144473], [-116.671881, 45.319735], [-116.463758, 45.61549], [-116.545912, 45.752413], [-116.78142, 45.823614], [-116.918344, 45.993399], [-116.92382, 46.168661], [-117.055267, 46.343923], [-117.038836, 46.426077], [-117.044313, 47.762451], [-117.033359, 49.000239], [-116.04751, 49.000239]]], &quot;type&quot;: &quot;Polygon&quot;}, &quot;id&quot;: &quot;ID&quot;, &quot;properties&quot;: {&quot;name&quot;: &quot;Idaho&quot;}, &quot;type&quot;: &quot;Feature&quot;}, {&quot;geometry&quot;: {&quot;coordinates&quot;: [[[-90.639984, 42.510065], [-88.788778, 42.493634], [-87.802929, 42.493634], [-87.83579, 42.301941], [-87.682436, 42.077386], [-87.523605, 41.710431], [-87.529082, 39.34987], [-87.63862, 39.169131], [-87.512651, 38.95553], [-87.49622, 38.780268], [-87.62219, 38.637868], [-87.655051, 38.506421], [-87.83579, 38.292821], [-87.950806, 38.27639], [-87.923421, 38.15042], [-88.000098, 38.101128], [-88.060345, 37.865619], [-88.027483, 37.799896], [-88.15893, 37.657496], [-88.065822, 37.482234], [-88.476592, 37.389126], [-88.514931, 37.285064], [-88.421823, 37.153617], [-88.547792, 37.071463], [-88.914747, 37.224817], [-89.029763, 37.213863], [-89.183118, 37.038601], [-89.133825, 36.983832], [-89.292656, 36.994786], [-89.517211, 37.279587], [-89.435057, 37.34531], [-89.517211, 37.537003], [-89.517211, 37.690357], [-89.84035, 37.903958], [-89.949889, 37.88205], [-90.059428, 38.013497], [-90.355183, 38.216144], [-90.349706, 38.374975], [-90.179921, 38.632391], [-90.207305, 38.725499], [-90.10872, 38.845992], [-90.251121, 38.917192], [-90.470199, 38.961007], [-90.585214, 38.867899], [-90.661891, 38.928146], [-90.727615, 39.256762], [-91.061708, 39.470363], [-91.368417, 39.727779], [-91.494386, 40.034488], [-91.50534, 40.237135], [-91.417709, 40.379535], [-91.401278, 40.560274], [-91.121954, 40.669813], [-91.09457, 40.823167], [-90.963123, 40.921752], [-90.946692, 41.097014], [-91.111001, 41.239415], [-91.045277, 41.414677], [-90.656414, 41.463969], [-90.344229, 41.589939], [-90.311367, 41.743293], [-90.179921, 41.809016], [-90.141582, 42.000709], [-90.168967, 42.126679], [-90.393521, 42.225264], [-90.420906, 42.329326], [-90.639984, 42.510065]]], &quot;type&quot;: &quot;Polygon&quot;}, &quot;id&quot;: &quot;IL&quot;, &quot;properties&quot;: {&quot;name&quot;: &quot;Illinois&quot;}, &quot;type&quot;: &quot;Feature&quot;}, {&quot;geometry&quot;: {&quot;coordinates&quot;: [[[-85.990061, 41.759724], [-84.807042, 41.759724], [-84.807042, 41.694001], [-84.801565, 40.500028], [-84.817996, 39.103408], [-84.894673, 39.059592], [-84.812519, 38.785745], [-84.987781, 38.780268], [-85.173997, 38.68716], [-85.431413, 38.730976], [-85.42046, 38.533806], [-85.590245, 38.451652], [-85.655968, 38.325682], [-85.83123, 38.27639], [-85.924338, 38.024451], [-86.039354, 37.958727], [-86.263908, 38.051835], [-86.302247, 38.166851], [-86.521325, 38.040881], [-86.504894, 37.931343], [-86.729448, 37.893004], [-86.795172, 37.991589], [-87.047111, 37.893004], [-87.129265, 37.788942], [-87.381204, 37.93682], [-87.512651, 37.903958], [-87.600282, 37.975158], [-87.682436, 37.903958], [-87.934375, 37.893004], [-88.027483, 37.799896], [-88.060345, 37.865619], [-88.000098, 38.101128], [-87.923421, 38.15042], [-87.950806, 38.27639], [-87.83579, 38.292821], [-87.655051, 38.506421], [-87.62219, 38.637868], [-87.49622, 38.780268], [-87.512651, 38.95553], [-87.63862, 39.169131], [-87.529082, 39.34987], [-87.523605, 41.710431], [-87.42502, 41.644708], [-87.118311, 41.644708], [-86.822556, 41.759724], [-85.990061, 41.759724]]], &quot;type&quot;: &quot;Polygon&quot;}, &quot;id&quot;: &quot;IN&quot;, &quot;properties&quot;: {&quot;name&quot;: &quot;Indiana&quot;}, &quot;type&quot;: &quot;Feature&quot;}, {&quot;geometry&quot;: {&quot;coordinates&quot;: [[[-91.368417, 43.501391], [-91.215062, 43.501391], [-91.204109, 43.353514], [-91.056231, 43.254929], [-91.176724, 43.134436], [-91.143862, 42.909881], [-91.067185, 42.75105], [-90.711184, 42.636034], [-90.639984, 42.510065], [-90.420906, 42.329326], [-90.393521, 42.225264], [-90.168967, 42.126679], [-90.141582, 42.000709], [-90.179921, 41.809016], [-90.311367, 41.743293], [-90.344229, 41.589939], [-90.656414, 41.463969], [-91.045277, 41.414677], [-91.111001, 41.239415], [-90.946692, 41.097014], [-90.963123, 40.921752], [-91.09457, 40.823167], [-91.121954, 40.669813], [-91.401278, 40.560274], [-91.417709, 40.379535], [-91.527248, 40.412397], [-91.729895, 40.615043], [-91.833957, 40.609566], [-93.257961, 40.582182], [-94.632673, 40.571228], [-95.7664, 40.587659], [-95.881416, 40.719105], [-95.826646, 40.976521], [-95.925231, 41.201076], [-95.919754, 41.453015], [-96.095016, 41.540646], [-96.122401, 41.67757], [-96.062155, 41.798063], [-96.127878, 41.973325], [-96.264801, 42.039048], [-96.44554, 42.488157], [-96.631756, 42.707235], [-96.544125, 42.855112], [-96.511264, 43.052282], [-96.434587, 43.123482], [-96.560556, 43.222067], [-96.527695, 43.397329], [-96.582464, 43.479483], [-96.451017, 43.501391], [-91.368417, 43.501391]]], &quot;type&quot;: &quot;Polygon&quot;}, &quot;id&quot;: &quot;IA&quot;, &quot;properties&quot;: {&quot;name&quot;: &quot;Iowa&quot;}, &quot;type&quot;: &quot;Feature&quot;}, {&quot;geometry&quot;: {&quot;coordinates&quot;: [[[-101.90605, 40.001626], [-95.306337, 40.001626], [-95.207752, 39.908518], [-94.884612, 39.831841], [-95.109167, 39.541563], [-94.983197, 39.442978], [-94.824366, 39.20747], [-94.610765, 39.158177], [-94.616242, 37.000263], [-100.087706, 37.000263], [-102.042974, 36.994786], [-102.053927, 40.001626], [-101.90605, 40.001626]]], &quot;type&quot;: &quot;Polygon&quot;}, &quot;id&quot;: &quot;KS&quot;, &quot;properties&quot;: {&quot;name&quot;: &quot;Kansas&quot;}, &quot;type&quot;: &quot;Feature&quot;}, {&quot;geometry&quot;: {&quot;coordinates&quot;: [[[-83.903347, 38.769315], [-83.678792, 38.632391], [-83.519961, 38.703591], [-83.142052, 38.626914], [-83.032514, 38.725499], [-82.890113, 38.758361], [-82.846298, 38.588575], [-82.731282, 38.561191], [-82.594358, 38.424267], [-82.621743, 38.123036], [-82.50125, 37.931343], [-82.342419, 37.783465], [-82.293127, 37.668449], [-82.101434, 37.553434], [-81.969987, 37.537003], [-82.353373, 37.268633], [-82.720328, 37.120755], [-82.720328, 37.044078], [-82.868205, 36.978355], [-82.879159, 36.890724], [-83.070852, 36.852385], [-83.136575, 36.742847], [-83.673316, 36.600446], [-83.689746, 36.584015], [-84.544149, 36.594969], [-85.289013, 36.627831], [-85.486183, 36.616877], [-86.592525, 36.655216], [-87.852221, 36.633308], [-88.071299, 36.677123], [-88.054868, 36.496384], [-89.298133, 36.507338], [-89.418626, 36.496384], [-89.363857, 36.622354], [-89.215979, 36.578538], [-89.133825, 36.983832], [-89.183118, 37.038601], [-89.029763, 37.213863], [-88.914747, 37.224817], [-88.547792, 37.071463], [-88.421823, 37.153617], [-88.514931, 37.285064], [-88.476592, 37.389126], [-88.065822, 37.482234], [-88.15893, 37.657496], [-88.027483, 37.799896], [-87.934375, 37.893004], [-87.682436, 37.903958], [-87.600282, 37.975158], [-87.512651, 37.903958], [-87.381204, 37.93682], [-87.129265, 37.788942], [-87.047111, 37.893004], [-86.795172, 37.991589], [-86.729448, 37.893004], [-86.504894, 37.931343], [-86.521325, 38.040881], [-86.302247, 38.166851], [-86.263908, 38.051835], [-86.039354, 37.958727], [-85.924338, 38.024451], [-85.83123, 38.27639], [-85.655968, 38.325682], [-85.590245, 38.451652], [-85.42046, 38.533806], [-85.431413, 38.730976], [-85.173997, 38.68716], [-84.987781, 38.780268], [-84.812519, 38.785745], [-84.894673, 39.059592], [-84.817996, 39.103408], [-84.43461, 39.103408], [-84.231963, 38.895284], [-84.215533, 38.807653], [-83.903347, 38.769315]]], &quot;type&quot;: &quot;Polygon&quot;}, &quot;id&quot;: &quot;KY&quot;, &quot;properties&quot;: {&quot;name&quot;: &quot;Kentucky&quot;}, &quot;type&quot;: &quot;Feature&quot;}, {&quot;geometry&quot;: {&quot;coordinates&quot;: [[[-93.608485, 33.018527], [-91.16577, 33.002096], [-91.072662, 32.887081], [-91.143862, 32.843265], [-91.154816, 32.640618], [-91.006939, 32.514649], [-90.985031, 32.218894], [-91.105524, 31.988862], [-91.341032, 31.846462], [-91.401278, 31.621907], [-91.499863, 31.643815], [-91.516294, 31.27686], [-91.636787, 31.265906], [-91.565587, 31.068736], [-91.636787, 30.997536], [-89.747242, 30.997536], [-89.845827, 30.66892], [-89.681519, 30.449842], [-89.643181, 30.285534], [-89.522688, 30.181472], [-89.818443, 30.044549], [-89.84035, 29.945964], [-89.599365, 29.88024], [-89.495303, 30.039072], [-89.287179, 29.88024], [-89.30361, 29.754271], [-89.424103, 29.699501], [-89.648657, 29.748794], [-89.621273, 29.655686], [-89.69795, 29.513285], [-89.506257, 29.387316], [-89.199548, 29.348977], [-89.09001, 29.2011], [-89.002379, 29.179192], [-89.16121, 29.009407], [-89.336472, 29.042268], [-89.484349, 29.217531], [-89.851304, 29.310638], [-89.851304, 29.480424], [-90.032043, 29.425654], [-90.021089, 29.283254], [-90.103244, 29.151807], [-90.23469, 29.129899], [-90.333275, 29.277777], [-90.563307, 29.283254], [-90.645461, 29.129899], [-90.798815, 29.086084], [-90.963123, 29.179192], [-91.09457, 29.190146], [-91.220539, 29.436608], [-91.445094, 29.546147], [-91.532725, 29.529716], [-91.620356, 29.73784], [-91.883249, 29.710455], [-91.888726, 29.836425], [-92.146142, 29.715932], [-92.113281, 29.622824], [-92.31045, 29.535193], [-92.617159, 29.579009], [-92.97316, 29.715932], [-93.2251, 29.776178], [-93.767317, 29.726886], [-93.838517, 29.688547], [-93.926148, 29.787132], [-93.690639, 30.143133], [-93.767317, 30.334826], [-93.696116, 30.438888], [-93.728978, 30.575812], [-93.630393, 30.679874], [-93.526331, 30.93729], [-93.542762, 31.15089], [-93.816609, 31.556184], [-93.822086, 31.775262], [-94.041164, 31.994339], [-94.041164, 33.018527], [-93.608485, 33.018527]]], &quot;type&quot;: &quot;Polygon&quot;}, &quot;id&quot;: &quot;LA&quot;, &quot;properties&quot;: {&quot;name&quot;: &quot;Louisiana&quot;}, &quot;type&quot;: &quot;Feature&quot;}, {&quot;geometry&quot;: {&quot;coordinates&quot;: [[[-70.703921, 43.057759], [-70.824413, 43.128959], [-70.807983, 43.227544], [-70.966814, 43.34256], [-71.032537, 44.657025], [-71.08183, 45.303304], [-70.649151, 45.440228], [-70.720352, 45.511428], [-70.556043, 45.664782], [-70.386258, 45.735983], [-70.41912, 45.796229], [-70.260289, 45.889337], [-70.309581, 46.064599], [-70.210996, 46.327492], [-70.057642, 46.415123], [-69.997395, 46.694447], [-69.225147, 47.461219], [-69.044408, 47.428357], [-69.033454, 47.242141], [-68.902007, 47.176418], [-68.578868, 47.285957], [-68.376221, 47.285957], [-68.233821, 47.357157], [-67.954497, 47.198326], [-67.790188, 47.066879], [-67.779235, 45.944106], [-67.801142, 45.675736], [-67.456095, 45.604536], [-67.505388, 45.48952], [-67.417757, 45.379982], [-67.488957, 45.281397], [-67.346556, 45.128042], [-67.16034, 45.160904], [-66.979601, 44.804903], [-67.187725, 44.646072], [-67.308218, 44.706318], [-67.406803, 44.596779], [-67.549203, 44.624164], [-67.565634, 44.531056], [-67.75185, 44.54201], [-68.047605, 44.328409], [-68.118805, 44.476286], [-68.222867, 44.48724], [-68.173574, 44.328409], [-68.403606, 44.251732], [-68.458375, 44.377701], [-68.567914, 44.311978], [-68.82533, 44.311978], [-68.830807, 44.459856], [-68.984161, 44.426994], [-68.956777, 44.322932], [-69.099177, 44.103854], [-69.071793, 44.043608], [-69.258008, 43.923115], [-69.444224, 43.966931], [-69.553763, 43.840961], [-69.707118, 43.82453], [-69.833087, 43.720469], [-69.986442, 43.742376], [-70.030257, 43.851915], [-70.254812, 43.676653], [-70.194565, 43.567114], [-70.358873, 43.528776], [-70.369827, 43.435668], [-70.556043, 43.320652], [-70.703921, 43.057759]]], &quot;type&quot;: &quot;Polygon&quot;}, &quot;id&quot;: &quot;ME&quot;, &quot;properties&quot;: {&quot;name&quot;: &quot;Maine&quot;}, &quot;type&quot;: &quot;Feature&quot;}, {&quot;geometry&quot;: {&quot;coordinates&quot;: [[[[-75.994645, 37.95325], [-76.016553, 37.95325], [-76.043938, 37.95325], [-75.994645, 37.95325]]], [[[-79.477979, 39.722302], [-75.786521, 39.722302], [-75.693413, 38.462606], [-75.047134, 38.451652], [-75.244304, 38.029928], [-75.397659, 38.013497], [-75.671506, 37.95325], [-75.885106, 37.909435], [-75.879629, 38.073743], [-75.961783, 38.139466], [-75.846768, 38.210667], [-76.000122, 38.374975], [-76.049415, 38.303775], [-76.257538, 38.320205], [-76.328738, 38.500944], [-76.263015, 38.500944], [-76.257538, 38.736453], [-76.191815, 38.829561], [-76.279446, 39.147223], [-76.169907, 39.333439], [-76.000122, 39.366301], [-75.972737, 39.557994], [-76.098707, 39.536086], [-76.104184, 39.437501], [-76.367077, 39.311532], [-76.443754, 39.196516], [-76.460185, 38.906238], [-76.55877, 38.769315], [-76.514954, 38.539283], [-76.383508, 38.380452], [-76.399939, 38.259959], [-76.317785, 38.139466], [-76.3616, 38.057312], [-76.591632, 38.216144], [-76.920248, 38.292821], [-77.018833, 38.446175], [-77.205049, 38.358544], [-77.276249, 38.479037], [-77.128372, 38.632391], [-77.040741, 38.791222], [-76.909294, 38.895284], [-77.035264, 38.993869], [-77.117418, 38.933623], [-77.248864, 39.026731], [-77.456988, 39.076023], [-77.456988, 39.223901], [-77.566527, 39.306055], [-77.719881, 39.322485], [-77.834897, 39.601809], [-78.004682, 39.601809], [-78.174467, 39.694917], [-78.267575, 39.61824], [-78.431884, 39.623717], [-78.470222, 39.514178], [-78.765977, 39.585379], [-78.963147, 39.437501], [-79.094593, 39.470363], [-79.291763, 39.300578], [-79.488933, 39.20747], [-79.477979, 39.722302]]]], &quot;type&quot;: &quot;MultiPolygon&quot;}, &quot;id&quot;: &quot;MD&quot;, &quot;properties&quot;: {&quot;name&quot;: &quot;Maryland&quot;}, &quot;type&quot;: &quot;Feature&quot;}, {&quot;geometry&quot;: {&quot;coordinates&quot;: [[[-70.917521, 42.887974], [-70.818936, 42.871543], [-70.780598, 42.696281], [-70.824413, 42.55388], [-70.983245, 42.422434], [-70.988722, 42.269079], [-70.769644, 42.247172], [-70.638197, 42.08834], [-70.660105, 41.962371], [-70.550566, 41.929509], [-70.539613, 41.814493], [-70.260289, 41.715908], [-69.937149, 41.809016], [-70.008349, 41.672093], [-70.484843, 41.5516], [-70.660105, 41.546123], [-70.764167, 41.639231], [-70.928475, 41.611847], [-70.933952, 41.540646], [-71.120168, 41.496831], [-71.196845, 41.67757], [-71.22423, 41.710431], [-71.328292, 41.781632], [-71.383061, 42.01714], [-71.530939, 42.01714], [-71.799309, 42.006186], [-71.799309, 42.022617], [-73.053528, 42.039048], [-73.486206, 42.050002], [-73.508114, 42.08834], [-73.267129, 42.745573], [-72.456542, 42.729142], [-71.29543, 42.696281], [-71.185891, 42.789389], [-70.917521, 42.887974]]], &quot;type&quot;: &quot;Polygon&quot;}, &quot;id&quot;: &quot;MA&quot;, &quot;properties&quot;: {&quot;name&quot;: &quot;Massachusetts&quot;}, &quot;type&quot;: &quot;Feature&quot;}, {&quot;geometry&quot;: {&quot;coordinates&quot;: [[[[-83.454238, 41.732339], [-84.807042, 41.694001], [-84.807042, 41.759724], [-85.990061, 41.759724], [-86.822556, 41.759724], [-86.619909, 41.891171], [-86.482986, 42.115725], [-86.357016, 42.252649], [-86.263908, 42.444341], [-86.209139, 42.718189], [-86.231047, 43.013943], [-86.526801, 43.594499], [-86.433693, 43.813577], [-86.499417, 44.07647], [-86.269385, 44.34484], [-86.220093, 44.569394], [-86.252954, 44.689887], [-86.088646, 44.73918], [-86.066738, 44.903488], [-85.809322, 44.947303], [-85.612152, 45.128042], [-85.628583, 44.766564], [-85.524521, 44.750133], [-85.393075, 44.930872], [-85.387598, 45.237581], [-85.305444, 45.314258], [-85.031597, 45.363551], [-85.119228, 45.577151], [-84.938489, 45.75789], [-84.713934, 45.768844], [-84.461995, 45.653829], [-84.215533, 45.637398], [-84.09504, 45.494997], [-83.908824, 45.484043], [-83.596638, 45.352597], [-83.4871, 45.358074], [-83.317314, 45.144473], [-83.454238, 45.029457], [-83.322791, 44.88158], [-83.273499, 44.711795], [-83.333745, 44.339363], [-83.536392, 44.246255], [-83.585684, 44.054562], [-83.82667, 43.988839], [-83.958116, 43.758807], [-83.908824, 43.671176], [-83.667839, 43.589022], [-83.481623, 43.714992], [-83.262545, 43.972408], [-82.917498, 44.070993], [-82.747713, 43.994316], [-82.643651, 43.851915], [-82.539589, 43.435668], [-82.523158, 43.227544], [-82.413619, 42.975605], [-82.517681, 42.614127], [-82.681989, 42.559357], [-82.687466, 42.690804], [-82.797005, 42.652465], [-82.922975, 42.351234], [-83.125621, 42.236218], [-83.185868, 42.006186], [-83.437807, 41.814493], [-83.454238, 41.732339]]], [[[-85.508091, 45.730506], [-85.49166, 45.610013], [-85.623106, 45.588105], [-85.568337, 45.75789], [-85.508091, 45.730506]]], [[[-87.589328, 45.095181], [-87.742682, 45.199243], [-87.649574, 45.341643], [-87.885083, 45.363551], [-87.791975, 45.500474], [-87.781021, 45.675736], [-87.989145, 45.796229], [-88.10416, 45.922199], [-88.531362, 46.020784], [-88.662808, 45.987922], [-89.09001, 46.135799], [-90.119674, 46.338446], [-90.229213, 46.508231], [-90.415429, 46.568478], [-90.026566, 46.672539], [-89.851304, 46.793032], [-89.413149, 46.842325], [-89.128348, 46.990202], [-88.996902, 46.995679], [-88.887363, 47.099741], [-88.575177, 47.247618], [-88.416346, 47.373588], [-88.180837, 47.455742], [-87.956283, 47.384542], [-88.350623, 47.077833], [-88.443731, 46.973771], [-88.438254, 46.787555], [-88.246561, 46.929956], [-87.901513, 46.908048], [-87.633143, 46.809463], [-87.392158, 46.535616], [-87.260711, 46.486323], [-87.008772, 46.530139], [-86.948526, 46.469893], [-86.696587, 46.437031], [-86.159846, 46.667063], [-85.880522, 46.68897], [-85.508091, 46.678016], [-85.256151, 46.754694], [-85.064458, 46.760171], [-85.02612, 46.480847], [-84.82895, 46.442508], [-84.63178, 46.486323], [-84.549626, 46.4206], [-84.418179, 46.502754], [-84.127902, 46.530139], [-84.122425, 46.179615], [-83.990978, 46.031737], [-83.793808, 45.993399], [-83.7719, 46.091984], [-83.580208, 46.091984], [-83.476146, 45.987922], [-83.563777, 45.911245], [-84.111471, 45.976968], [-84.374364, 45.933153], [-84.659165, 46.053645], [-84.741319, 45.944106], [-84.70298, 45.850998], [-84.82895, 45.872906], [-85.015166, 46.00983], [-85.338305, 46.091984], [-85.502614, 46.097461], [-85.661445, 45.966014], [-85.924338, 45.933153], [-86.209139, 45.960537], [-86.324155, 45.905768], [-86.351539, 45.796229], [-86.663725, 45.703121], [-86.647294, 45.834568], [-86.784218, 45.861952], [-86.838987, 45.725029], [-87.069019, 45.719552], [-87.17308, 45.659305], [-87.326435, 45.423797], [-87.611236, 45.122565], [-87.589328, 45.095181]]], [[[-88.805209, 47.976051], [-89.057148, 47.850082], [-89.188594, 47.833651], [-89.177641, 47.937713], [-88.547792, 48.173221], [-88.668285, 48.008913], [-88.805209, 47.976051]]]], &quot;type&quot;: &quot;MultiPolygon&quot;}, &quot;id&quot;: &quot;MI&quot;, &quot;properties&quot;: {&quot;name&quot;: &quot;Michigan&quot;}, &quot;type&quot;: &quot;Feature&quot;}, {&quot;geometry&quot;: {&quot;coordinates&quot;: [[[-92.014696, 46.705401], [-92.091373, 46.749217], [-92.29402, 46.667063], [-92.29402, 46.075553], [-92.354266, 46.015307], [-92.639067, 45.933153], [-92.869098, 45.719552], [-92.885529, 45.577151], [-92.770513, 45.566198], [-92.644544, 45.440228], [-92.75956, 45.286874], [-92.737652, 45.117088], [-92.808852, 44.750133], [-92.545959, 44.569394], [-92.337835, 44.552964], [-92.233773, 44.443425], [-91.927065, 44.333886], [-91.877772, 44.202439], [-91.592971, 44.032654], [-91.43414, 43.994316], [-91.242447, 43.775238], [-91.269832, 43.616407], [-91.215062, 43.501391], [-91.368417, 43.501391], [-96.451017, 43.501391], [-96.451017, 45.297827], [-96.681049, 45.412843], [-96.856311, 45.604536], [-96.582464, 45.818137], [-96.560556, 45.933153], [-96.598895, 46.332969], [-96.719387, 46.437031], [-96.801542, 46.656109], [-96.785111, 46.924479], [-96.823449, 46.968294], [-96.856311, 47.609096], [-97.053481, 47.948667], [-97.130158, 48.140359], [-97.16302, 48.545653], [-97.097296, 48.682577], [-97.228743, 49.000239], [-95.152983, 49.000239], [-95.152983, 49.383625], [-94.955813, 49.372671], [-94.824366, 49.295994], [-94.69292, 48.775685], [-94.588858, 48.715438], [-94.260241, 48.699007], [-94.221903, 48.649715], [-93.838517, 48.627807], [-93.794701, 48.518268], [-93.466085, 48.545653], [-93.466085, 48.589469], [-93.208669, 48.644238], [-92.984114, 48.62233], [-92.726698, 48.540176], [-92.655498, 48.436114], [-92.50762, 48.447068], [-92.370697, 48.222514], [-92.304974, 48.315622], [-92.053034, 48.359437], [-92.009219, 48.266329], [-91.713464, 48.200606], [-91.713464, 48.112975], [-91.565587, 48.041775], [-91.264355, 48.080113], [-91.083616, 48.178698], [-90.837154, 48.238944], [-90.749522, 48.091067], [-90.579737, 48.123929], [-90.377091, 48.091067], [-90.141582, 48.112975], [-89.873212, 47.987005], [-89.615796, 48.008913], [-89.637704, 47.954144], [-89.971797, 47.828174], [-90.437337, 47.729589], [-90.738569, 47.625527], [-91.171247, 47.368111], [-91.357463, 47.20928], [-91.642264, 47.028541], [-92.091373, 46.787555], [-92.014696, 46.705401]]], &quot;type&quot;: &quot;Polygon&quot;}, &quot;id&quot;: &quot;MN&quot;, &quot;properties&quot;: {&quot;name&quot;: &quot;Minnesota&quot;}, &quot;type&quot;: &quot;Feature&quot;}, {&quot;geometry&quot;: {&quot;coordinates&quot;: [[[-88.471115, 34.995703], [-88.202745, 34.995703], [-88.098683, 34.891641], [-88.241084, 33.796253], [-88.471115, 31.895754], [-88.394438, 30.367688], [-88.503977, 30.323872], [-88.744962, 30.34578], [-88.843547, 30.411504], [-89.084533, 30.367688], [-89.418626, 30.252672], [-89.522688, 30.181472], [-89.643181, 30.285534], [-89.681519, 30.449842], [-89.845827, 30.66892], [-89.747242, 30.997536], [-91.636787, 30.997536], [-91.565587, 31.068736], [-91.636787, 31.265906], [-91.516294, 31.27686], [-91.499863, 31.643815], [-91.401278, 31.621907], [-91.341032, 31.846462], [-91.105524, 31.988862], [-90.985031, 32.218894], [-91.006939, 32.514649], [-91.154816, 32.640618], [-91.143862, 32.843265], [-91.072662, 32.887081], [-91.16577, 33.002096], [-91.089093, 33.13902], [-91.143862, 33.347144], [-91.056231, 33.429298], [-91.231493, 33.560744], [-91.072662, 33.867453], [-90.891923, 34.026284], [-90.952169, 34.135823], [-90.744046, 34.300131], [-90.749522, 34.365854], [-90.568783, 34.420624], [-90.585214, 34.617794], [-90.481152, 34.661609], [-90.409952, 34.831394], [-90.251121, 34.908072], [-90.311367, 34.995703], [-88.471115, 34.995703]]], &quot;type&quot;: &quot;Polygon&quot;}, &quot;id&quot;: &quot;MS&quot;, &quot;properties&quot;: {&quot;name&quot;: &quot;Mississippi&quot;}, &quot;type&quot;: &quot;Feature&quot;}, {&quot;geometry&quot;: {&quot;coordinates&quot;: [[[-91.833957, 40.609566], [-91.729895, 40.615043], [-91.527248, 40.412397], [-91.417709, 40.379535], [-91.50534, 40.237135], [-91.494386, 40.034488], [-91.368417, 39.727779], [-91.061708, 39.470363], [-90.727615, 39.256762], [-90.661891, 38.928146], [-90.585214, 38.867899], [-90.470199, 38.961007], [-90.251121, 38.917192], [-90.10872, 38.845992], [-90.207305, 38.725499], [-90.179921, 38.632391], [-90.349706, 38.374975], [-90.355183, 38.216144], [-90.059428, 38.013497], [-89.949889, 37.88205], [-89.84035, 37.903958], [-89.517211, 37.690357], [-89.517211, 37.537003], [-89.435057, 37.34531], [-89.517211, 37.279587], [-89.292656, 36.994786], [-89.133825, 36.983832], [-89.215979, 36.578538], [-89.363857, 36.622354], [-89.418626, 36.496384], [-89.484349, 36.496384], [-89.539119, 36.496384], [-89.533642, 36.249922], [-89.730812, 35.997983], [-90.377091, 35.997983], [-90.218259, 36.184199], [-90.064905, 36.304691], [-90.152536, 36.496384], [-94.473842, 36.501861], [-94.616242, 36.501861], [-94.616242, 37.000263], [-94.610765, 39.158177], [-94.824366, 39.20747], [-94.983197, 39.442978], [-95.109167, 39.541563], [-94.884612, 39.831841], [-95.207752, 39.908518], [-95.306337, 40.001626], [-95.552799, 40.264519], [-95.7664, 40.587659], [-94.632673, 40.571228], [-93.257961, 40.582182], [-91.833957, 40.609566]]], &quot;type&quot;: &quot;Polygon&quot;}, &quot;id&quot;: &quot;MO&quot;, &quot;properties&quot;: {&quot;name&quot;: &quot;Missouri&quot;}, &quot;type&quot;: &quot;Feature&quot;}, {&quot;geometry&quot;: {&quot;coordinates&quot;: [[[-104.047534, 49.000239], [-104.042057, 47.861036], [-104.047534, 45.944106], [-104.042057, 44.996596], [-104.058488, 44.996596], [-105.91517, 45.002073], [-109.080842, 45.002073], [-111.05254, 45.002073], [-111.047063, 44.476286], [-111.227803, 44.580348], [-111.386634, 44.75561], [-111.616665, 44.547487], [-111.819312, 44.509148], [-111.868605, 44.563917], [-112.104113, 44.520102], [-112.241036, 44.569394], [-112.471068, 44.481763], [-112.783254, 44.48724], [-112.887315, 44.394132], [-113.002331, 44.448902], [-113.133778, 44.772041], [-113.341901, 44.782995], [-113.456917, 44.865149], [-113.45144, 45.056842], [-113.571933, 45.128042], [-113.736241, 45.330689], [-113.834826, 45.522382], [-113.807441, 45.604536], [-113.98818, 45.703121], [-114.086765, 45.593582], [-114.333228, 45.456659], [-114.546828, 45.560721], [-114.497536, 45.670259], [-114.568736, 45.774321], [-114.387997, 45.88386], [-114.492059, 46.037214], [-114.464674, 46.272723], [-114.322274, 46.645155], [-114.612552, 46.639678], [-114.623506, 46.705401], [-114.886399, 46.809463], [-114.930214, 46.919002], [-115.302646, 47.187372], [-115.324554, 47.258572], [-115.527201, 47.302388], [-115.718894, 47.42288], [-115.724371, 47.696727], [-116.04751, 47.976051], [-116.04751, 49.000239], [-111.50165, 48.994762], [-109.453274, 49.000239], [-104.047534, 49.000239]]], &quot;type&quot;: &quot;Polygon&quot;}, &quot;id&quot;: &quot;MT&quot;, &quot;properties&quot;: {&quot;name&quot;: &quot;Montana&quot;}, &quot;type&quot;: &quot;Feature&quot;}, {&quot;geometry&quot;: {&quot;coordinates&quot;: [[[-103.324578, 43.002989], [-101.626726, 42.997512], [-98.499393, 42.997512], [-98.466531, 42.94822], [-97.951699, 42.767481], [-97.831206, 42.866066], [-97.688806, 42.844158], [-97.217789, 42.844158], [-96.692003, 42.657942], [-96.626279, 42.515542], [-96.44554, 42.488157], [-96.264801, 42.039048], [-96.127878, 41.973325], [-96.062155, 41.798063], [-96.122401, 41.67757], [-96.095016, 41.540646], [-95.919754, 41.453015], [-95.925231, 41.201076], [-95.826646, 40.976521], [-95.881416, 40.719105], [-95.7664, 40.587659], [-95.552799, 40.264519], [-95.306337, 40.001626], [-101.90605, 40.001626], [-102.053927, 40.001626], [-102.053927, 41.003906], [-104.053011, 41.003906], [-104.053011, 43.002989], [-103.324578, 43.002989]]], &quot;type&quot;: &quot;Polygon&quot;}, &quot;id&quot;: &quot;NE&quot;, &quot;properties&quot;: {&quot;name&quot;: &quot;Nebraska&quot;}, &quot;type&quot;: &quot;Feature&quot;}, {&quot;geometry&quot;: {&quot;coordinates&quot;: [[[-117.027882, 42.000709], [-114.04295, 41.995232], [-114.048427, 37.000263], [-114.048427, 36.195153], [-114.152489, 36.025367], [-114.251074, 36.01989], [-114.371566, 36.140383], [-114.738521, 36.102045], [-114.678275, 35.516012], [-114.596121, 35.324319], [-114.574213, 35.138103], [-114.634459, 35.00118], [-115.85034, 35.970598], [-116.540435, 36.501861], [-117.498899, 37.21934], [-118.71478, 38.101128], [-120.001861, 38.999346], [-119.996384, 40.264519], [-120.001861, 41.995232], [-118.698349, 41.989755], [-117.027882, 42.000709]]], &quot;type&quot;: &quot;Polygon&quot;}, &quot;id&quot;: &quot;NV&quot;, &quot;properties&quot;: {&quot;name&quot;: &quot;Nevada&quot;}, &quot;type&quot;: &quot;Feature&quot;}, {&quot;geometry&quot;: {&quot;coordinates&quot;: [[[-71.08183, 45.303304], [-71.032537, 44.657025], [-70.966814, 43.34256], [-70.807983, 43.227544], [-70.824413, 43.128959], [-70.703921, 43.057759], [-70.818936, 42.871543], [-70.917521, 42.887974], [-71.185891, 42.789389], [-71.29543, 42.696281], [-72.456542, 42.729142], [-72.544173, 42.80582], [-72.533219, 42.953697], [-72.445588, 43.008466], [-72.456542, 43.150867], [-72.379864, 43.572591], [-72.204602, 43.769761], [-72.116971, 43.994316], [-72.02934, 44.07647], [-72.034817, 44.322932], [-71.700724, 44.41604], [-71.536416, 44.585825], [-71.629524, 44.750133], [-71.4926, 44.914442], [-71.503554, 45.013027], [-71.361154, 45.270443], [-71.131122, 45.243058], [-71.08183, 45.303304]]], &quot;type&quot;: &quot;Polygon&quot;}, &quot;id&quot;: &quot;NH&quot;, &quot;properties&quot;: {&quot;name&quot;: &quot;New Hampshire&quot;}, &quot;type&quot;: &quot;Feature&quot;}, {&quot;geometry&quot;: {&quot;coordinates&quot;: [[[-74.236547, 41.14083], [-73.902454, 40.998429], [-74.022947, 40.708151], [-74.187255, 40.642428], [-74.274886, 40.489074], [-74.001039, 40.412397], [-73.979131, 40.297381], [-74.099624, 39.760641], [-74.411809, 39.360824], [-74.614456, 39.245808], [-74.795195, 38.993869], [-74.888303, 39.158177], [-75.178581, 39.240331], [-75.534582, 39.459409], [-75.55649, 39.607286], [-75.561967, 39.629194], [-75.507197, 39.683964], [-75.414089, 39.804456], [-75.145719, 39.88661], [-75.129289, 39.963288], [-74.82258, 40.127596], [-74.773287, 40.215227], [-75.058088, 40.417874], [-75.069042, 40.543843], [-75.195012, 40.576705], [-75.205966, 40.691721], [-75.052611, 40.866983], [-75.134765, 40.971045], [-74.882826, 41.179168], [-74.828057, 41.288707], [-74.69661, 41.359907], [-74.236547, 41.14083]]], &quot;type&quot;: &quot;Polygon&quot;}, &quot;id&quot;: &quot;NJ&quot;, &quot;properties&quot;: {&quot;name&quot;: &quot;New Jersey&quot;}, &quot;type&quot;: &quot;Feature&quot;}, {&quot;geometry&quot;: {&quot;coordinates&quot;: [[[-107.421329, 37.000263], [-106.868158, 36.994786], [-104.337812, 36.994786], [-103.001438, 37.000263], [-103.001438, 36.501861], [-103.039777, 36.501861], [-103.045254, 34.01533], [-103.067161, 33.002096], [-103.067161, 31.999816], [-106.616219, 31.999816], [-106.643603, 31.901231], [-106.528588, 31.786216], [-108.210008, 31.786216], [-108.210008, 31.331629], [-109.04798, 31.331629], [-109.042503, 37.000263], [-107.421329, 37.000263]]], &quot;type&quot;: &quot;Polygon&quot;}, &quot;id&quot;: &quot;NM&quot;, &quot;properties&quot;: {&quot;name&quot;: &quot;New Mexico&quot;}, &quot;type&quot;: &quot;Feature&quot;}, {&quot;geometry&quot;: {&quot;coordinates&quot;: [[[-73.343806, 45.013027], [-73.332852, 44.804903], [-73.387622, 44.618687], [-73.294514, 44.437948], [-73.321898, 44.246255], [-73.436914, 44.043608], [-73.349283, 43.769761], [-73.404052, 43.687607], [-73.245221, 43.523299], [-73.278083, 42.833204], [-73.267129, 42.745573], [-73.508114, 42.08834], [-73.486206, 42.050002], [-73.55193, 41.294184], [-73.48073, 41.21203], [-73.727192, 41.102491], [-73.655992, 40.987475], [-73.22879, 40.905321], [-73.141159, 40.965568], [-72.774204, 40.965568], [-72.587988, 40.998429], [-72.28128, 41.157261], [-72.259372, 41.042245], [-72.100541, 40.992952], [-72.467496, 40.845075], [-73.239744, 40.625997], [-73.562884, 40.582182], [-73.776484, 40.593136], [-73.935316, 40.543843], [-74.022947, 40.708151], [-73.902454, 40.998429], [-74.236547, 41.14083], [-74.69661, 41.359907], [-74.740426, 41.431108], [-74.89378, 41.436584], [-75.074519, 41.60637], [-75.052611, 41.754247], [-75.173104, 41.869263], [-75.249781, 41.863786], [-75.35932, 42.000709], [-79.76278, 42.000709], [-79.76278, 42.252649], [-79.76278, 42.269079], [-79.149363, 42.55388], [-79.050778, 42.690804], [-78.853608, 42.783912], [-78.930285, 42.953697], [-79.012439, 42.986559], [-79.072686, 43.260406], [-78.486653, 43.375421], [-77.966344, 43.369944], [-77.75822, 43.34256], [-77.533665, 43.233021], [-77.391265, 43.276836], [-76.958587, 43.271359], [-76.695693, 43.34256], [-76.41637, 43.523299], [-76.235631, 43.528776], [-76.230154, 43.802623], [-76.137046, 43.961454], [-76.3616, 44.070993], [-76.312308, 44.196962], [-75.912491, 44.366748], [-75.764614, 44.514625], [-75.282643, 44.848718], [-74.828057, 45.018503], [-74.148916, 44.991119], [-73.343806, 45.013027]]], &quot;type&quot;: &quot;Polygon&quot;}, &quot;id&quot;: &quot;NY&quot;, &quot;properties&quot;: {&quot;name&quot;: &quot;New York&quot;}, &quot;type&quot;: &quot;Feature&quot;}, {&quot;geometry&quot;: {&quot;coordinates&quot;: [[[-80.978661, 36.562108], [-80.294043, 36.545677], [-79.510841, 36.5402], [-75.868676, 36.551154], [-75.75366, 36.151337], [-76.032984, 36.189676], [-76.071322, 36.140383], [-76.410893, 36.080137], [-76.460185, 36.025367], [-76.68474, 36.008937], [-76.673786, 35.937736], [-76.399939, 35.987029], [-76.3616, 35.943213], [-76.060368, 35.992506], [-75.961783, 35.899398], [-75.781044, 35.937736], [-75.715321, 35.696751], [-75.775568, 35.581735], [-75.89606, 35.570781], [-76.147999, 35.324319], [-76.482093, 35.313365], [-76.536862, 35.14358], [-76.394462, 34.973795], [-76.279446, 34.940933], [-76.493047, 34.661609], [-76.673786, 34.694471], [-76.991448, 34.667086], [-77.210526, 34.60684], [-77.555573, 34.415147], [-77.82942, 34.163208], [-77.971821, 33.845545], [-78.179944, 33.916745], [-78.541422, 33.851022], [-79.675149, 34.80401], [-80.797922, 34.820441], [-80.781491, 34.935456], [-80.934845, 35.105241], [-81.038907, 35.044995], [-81.044384, 35.149057], [-82.276696, 35.198349], [-82.550543, 35.160011], [-82.764143, 35.066903], [-83.109191, 35.00118], [-83.618546, 34.984749], [-84.319594, 34.990226], [-84.29221, 35.225734], [-84.09504, 35.247642], [-84.018363, 35.41195], [-83.7719, 35.559827], [-83.498053, 35.565304], [-83.251591, 35.718659], [-82.994175, 35.773428], [-82.775097, 35.997983], [-82.638174, 36.063706], [-82.610789, 35.965121], [-82.216449, 36.156814], [-82.03571, 36.118475], [-81.909741, 36.304691], [-81.723525, 36.353984], [-81.679709, 36.589492], [-80.978661, 36.562108]]], &quot;type&quot;: &quot;Polygon&quot;}, &quot;id&quot;: &quot;NC&quot;, &quot;properties&quot;: {&quot;name&quot;: &quot;North Carolina&quot;}, &quot;type&quot;: &quot;Feature&quot;}, {&quot;geometry&quot;: {&quot;coordinates&quot;: [[[-97.228743, 49.000239], [-97.097296, 48.682577], [-97.16302, 48.545653], [-97.130158, 48.140359], [-97.053481, 47.948667], [-96.856311, 47.609096], [-96.823449, 46.968294], [-96.785111, 46.924479], [-96.801542, 46.656109], [-96.719387, 46.437031], [-96.598895, 46.332969], [-96.560556, 45.933153], [-104.047534, 45.944106], [-104.042057, 47.861036], [-104.047534, 49.000239], [-97.228743, 49.000239]]], &quot;type&quot;: &quot;Polygon&quot;}, &quot;id&quot;: &quot;ND&quot;, &quot;properties&quot;: {&quot;name&quot;: &quot;North Dakota&quot;}, &quot;type&quot;: &quot;Feature&quot;}, {&quot;geometry&quot;: {&quot;coordinates&quot;: [[[-80.518598, 41.978802], [-80.518598, 40.636951], [-80.666475, 40.582182], [-80.595275, 40.472643], [-80.600752, 40.319289], [-80.737675, 40.078303], [-80.830783, 39.711348], [-81.219646, 39.388209], [-81.345616, 39.344393], [-81.455155, 39.410117], [-81.57017, 39.267716], [-81.685186, 39.273193], [-81.811156, 39.0815], [-81.783771, 38.966484], [-81.887833, 38.873376], [-82.03571, 39.026731], [-82.221926, 38.785745], [-82.172634, 38.632391], [-82.293127, 38.577622], [-82.331465, 38.446175], [-82.594358, 38.424267], [-82.731282, 38.561191], [-82.846298, 38.588575], [-82.890113, 38.758361], [-83.032514, 38.725499], [-83.142052, 38.626914], [-83.519961, 38.703591], [-83.678792, 38.632391], [-83.903347, 38.769315], [-84.215533, 38.807653], [-84.231963, 38.895284], [-84.43461, 39.103408], [-84.817996, 39.103408], [-84.801565, 40.500028], [-84.807042, 41.694001], [-83.454238, 41.732339], [-83.065375, 41.595416], [-82.933929, 41.513262], [-82.835344, 41.589939], [-82.616266, 41.431108], [-82.479343, 41.381815], [-82.013803, 41.513262], [-81.739956, 41.485877], [-81.444201, 41.672093], [-81.011523, 41.852832], [-80.518598, 41.978802], [-80.518598, 41.978802]]], &quot;type&quot;: &quot;Polygon&quot;}, &quot;id&quot;: &quot;OH&quot;, &quot;properties&quot;: {&quot;name&quot;: &quot;Ohio&quot;}, &quot;type&quot;: &quot;Feature&quot;}, {&quot;geometry&quot;: {&quot;coordinates&quot;: [[[-100.087706, 37.000263], [-94.616242, 37.000263], [-94.616242, 36.501861], [-94.430026, 35.395519], [-94.484796, 33.637421], [-94.868182, 33.74696], [-94.966767, 33.861976], [-95.224183, 33.960561], [-95.289906, 33.87293], [-95.547322, 33.878407], [-95.602092, 33.933176], [-95.8376, 33.834591], [-95.936185, 33.889361], [-96.149786, 33.840068], [-96.346956, 33.686714], [-96.423633, 33.774345], [-96.631756, 33.845545], [-96.850834, 33.845545], [-96.922034, 33.960561], [-97.173974, 33.736006], [-97.256128, 33.861976], [-97.371143, 33.823637], [-97.458774, 33.905791], [-97.694283, 33.982469], [-97.869545, 33.851022], [-97.946222, 33.987946], [-98.088623, 34.004376], [-98.170777, 34.113915], [-98.36247, 34.157731], [-98.488439, 34.064623], [-98.570593, 34.146777], [-98.767763, 34.135823], [-98.986841, 34.223454], [-99.189488, 34.2125], [-99.260688, 34.404193], [-99.57835, 34.415147], [-99.698843, 34.382285], [-99.923398, 34.573978], [-100.000075, 34.563024], [-100.000075, 36.501861], [-101.812942, 36.501861], [-103.001438, 36.501861], [-103.001438, 37.000263], [-102.042974, 36.994786], [-100.087706, 37.000263]]], &quot;type&quot;: &quot;Polygon&quot;}, &quot;id&quot;: &quot;OK&quot;, &quot;properties&quot;: {&quot;name&quot;: &quot;Oklahoma&quot;}, &quot;type&quot;: &quot;Feature&quot;}, {&quot;geometry&quot;: {&quot;coordinates&quot;: [[[-123.211348, 46.174138], [-123.11824, 46.185092], [-122.904639, 46.08103], [-122.811531, 45.960537], [-122.762239, 45.659305], [-122.247407, 45.549767], [-121.809251, 45.708598], [-121.535404, 45.725029], [-121.217742, 45.670259], [-121.18488, 45.604536], [-120.637186, 45.746937], [-120.505739, 45.697644], [-120.209985, 45.725029], [-119.963522, 45.823614], [-119.525367, 45.911245], [-119.125551, 45.933153], [-118.988627, 45.998876], [-116.918344, 45.993399], [-116.78142, 45.823614], [-116.545912, 45.752413], [-116.463758, 45.61549], [-116.671881, 45.319735], [-116.732128, 45.144473], [-116.847143, 45.02398], [-116.830713, 44.930872], [-116.934774, 44.782995], [-117.038836, 44.750133], [-117.241483, 44.394132], [-117.170283, 44.257209], [-116.97859, 44.240778], [-116.896436, 44.158624], [-117.027882, 43.830007], [-117.027882, 42.000709], [-118.698349, 41.989755], [-120.001861, 41.995232], [-121.037003, 41.995232], [-122.378853, 42.011663], [-123.233256, 42.006186], [-124.213628, 42.000709], [-124.356029, 42.115725], [-124.432706, 42.438865], [-124.416275, 42.663419], [-124.553198, 42.838681], [-124.454613, 43.002989], [-124.383413, 43.271359], [-124.235536, 43.55616], [-124.169813, 43.8081], [-124.060274, 44.657025], [-124.076705, 44.772041], [-123.97812, 45.144473], [-123.939781, 45.659305], [-123.994551, 45.944106], [-123.945258, 46.113892], [-123.545441, 46.261769], [-123.370179, 46.146753], [-123.211348, 46.174138]]], &quot;type&quot;: &quot;Polygon&quot;}, &quot;id&quot;: &quot;OR&quot;, &quot;properties&quot;: {&quot;name&quot;: &quot;Oregon&quot;}, &quot;type&quot;: &quot;Feature&quot;}, {&quot;geometry&quot;: {&quot;coordinates&quot;: [[[-79.76278, 42.252649], [-79.76278, 42.000709], [-75.35932, 42.000709], [-75.249781, 41.863786], [-75.173104, 41.869263], [-75.052611, 41.754247], [-75.074519, 41.60637], [-74.89378, 41.436584], [-74.740426, 41.431108], [-74.69661, 41.359907], [-74.828057, 41.288707], [-74.882826, 41.179168], [-75.134765, 40.971045], [-75.052611, 40.866983], [-75.205966, 40.691721], [-75.195012, 40.576705], [-75.069042, 40.543843], [-75.058088, 40.417874], [-74.773287, 40.215227], [-74.82258, 40.127596], [-75.129289, 39.963288], [-75.145719, 39.88661], [-75.414089, 39.804456], [-75.616736, 39.831841], [-75.786521, 39.722302], [-79.477979, 39.722302], [-80.518598, 39.722302], [-80.518598, 40.636951], [-80.518598, 41.978802], [-80.518598, 41.978802], [-80.332382, 42.033571], [-79.76278, 42.269079], [-79.76278, 42.252649]]], &quot;type&quot;: &quot;Polygon&quot;}, &quot;id&quot;: &quot;PA&quot;, &quot;properties&quot;: {&quot;name&quot;: &quot;Pennsylvania&quot;}, &quot;type&quot;: &quot;Feature&quot;}, {&quot;geometry&quot;: {&quot;coordinates&quot;: [[[[-71.196845, 41.67757], [-71.120168, 41.496831], [-71.317338, 41.474923], [-71.196845, 41.67757]]], [[[-71.530939, 42.01714], [-71.383061, 42.01714], [-71.328292, 41.781632], [-71.22423, 41.710431], [-71.344723, 41.726862], [-71.448785, 41.578985], [-71.481646, 41.370861], [-71.859555, 41.321569], [-71.799309, 41.414677], [-71.799309, 42.006186], [-71.530939, 42.01714]]]], &quot;type&quot;: &quot;MultiPolygon&quot;}, &quot;id&quot;: &quot;RI&quot;, &quot;properties&quot;: {&quot;name&quot;: &quot;Rhode Island&quot;}, &quot;type&quot;: &quot;Feature&quot;}, {&quot;geometry&quot;: {&quot;coordinates&quot;: [[[-82.764143, 35.066903], [-82.550543, 35.160011], [-82.276696, 35.198349], [-81.044384, 35.149057], [-81.038907, 35.044995], [-80.934845, 35.105241], [-80.781491, 34.935456], [-80.797922, 34.820441], [-79.675149, 34.80401], [-78.541422, 33.851022], [-78.716684, 33.80173], [-78.935762, 33.637421], [-79.149363, 33.380005], [-79.187701, 33.171881], [-79.357487, 33.007573], [-79.582041, 33.007573], [-79.631334, 32.887081], [-79.866842, 32.755634], [-79.998289, 32.613234], [-80.206412, 32.552987], [-80.430967, 32.399633], [-80.452875, 32.328433], [-80.660998, 32.246279], [-80.885553, 32.032678], [-81.115584, 32.120309], [-81.121061, 32.290094], [-81.279893, 32.558464], [-81.416816, 32.629664], [-81.42777, 32.843265], [-81.493493, 33.007573], [-81.761863, 33.160928], [-81.937125, 33.347144], [-81.926172, 33.462159], [-82.194542, 33.631944], [-82.325988, 33.81816], [-82.55602, 33.94413], [-82.714851, 34.152254], [-82.747713, 34.26727], [-82.901067, 34.486347], [-83.005129, 34.469916], [-83.339222, 34.683517], [-83.322791, 34.787579], [-83.109191, 35.00118], [-82.764143, 35.066903]]], &quot;type&quot;: &quot;Polygon&quot;}, &quot;id&quot;: &quot;SC&quot;, &quot;properties&quot;: {&quot;name&quot;: &quot;South Carolina&quot;}, &quot;type&quot;: &quot;Feature&quot;}, {&quot;geometry&quot;: {&quot;coordinates&quot;: [[[-104.047534, 45.944106], [-96.560556, 45.933153], [-96.582464, 45.818137], [-96.856311, 45.604536], [-96.681049, 45.412843], [-96.451017, 45.297827], [-96.451017, 43.501391], [-96.582464, 43.479483], [-96.527695, 43.397329], [-96.560556, 43.222067], [-96.434587, 43.123482], [-96.511264, 43.052282], [-96.544125, 42.855112], [-96.631756, 42.707235], [-96.44554, 42.488157], [-96.626279, 42.515542], [-96.692003, 42.657942], [-97.217789, 42.844158], [-97.688806, 42.844158], [-97.831206, 42.866066], [-97.951699, 42.767481], [-98.466531, 42.94822], [-98.499393, 42.997512], [-101.626726, 42.997512], [-103.324578, 43.002989], [-104.053011, 43.002989], [-104.058488, 44.996596], [-104.042057, 44.996596], [-104.047534, 45.944106]]], &quot;type&quot;: &quot;Polygon&quot;}, &quot;id&quot;: &quot;SD&quot;, &quot;properties&quot;: {&quot;name&quot;: &quot;South Dakota&quot;}, &quot;type&quot;: &quot;Feature&quot;}, {&quot;geometry&quot;: {&quot;coordinates&quot;: [[[-88.054868, 36.496384], [-88.071299, 36.677123], [-87.852221, 36.633308], [-86.592525, 36.655216], [-85.486183, 36.616877], [-85.289013, 36.627831], [-84.544149, 36.594969], [-83.689746, 36.584015], [-83.673316, 36.600446], [-81.679709, 36.589492], [-81.723525, 36.353984], [-81.909741, 36.304691], [-82.03571, 36.118475], [-82.216449, 36.156814], [-82.610789, 35.965121], [-82.638174, 36.063706], [-82.775097, 35.997983], [-82.994175, 35.773428], [-83.251591, 35.718659], [-83.498053, 35.565304], [-83.7719, 35.559827], [-84.018363, 35.41195], [-84.09504, 35.247642], [-84.29221, 35.225734], [-84.319594, 34.990226], [-85.606675, 34.984749], [-87.359296, 35.00118], [-88.202745, 34.995703], [-88.471115, 34.995703], [-90.311367, 34.995703], [-90.212782, 35.023087], [-90.114197, 35.198349], [-90.130628, 35.439335], [-89.944412, 35.603643], [-89.911551, 35.756997], [-89.763673, 35.811767], [-89.730812, 35.997983], [-89.533642, 36.249922], [-89.539119, 36.496384], [-89.484349, 36.496384], [-89.418626, 36.496384], [-89.298133, 36.507338], [-88.054868, 36.496384]]], &quot;type&quot;: &quot;Polygon&quot;}, &quot;id&quot;: &quot;TN&quot;, &quot;properties&quot;: {&quot;name&quot;: &quot;Tennessee&quot;}, &quot;type&quot;: &quot;Feature&quot;}, {&quot;geometry&quot;: {&quot;coordinates&quot;: [[[-101.812942, 36.501861], [-100.000075, 36.501861], [-100.000075, 34.563024], [-99.923398, 34.573978], [-99.698843, 34.382285], [-99.57835, 34.415147], [-99.260688, 34.404193], [-99.189488, 34.2125], [-98.986841, 34.223454], [-98.767763, 34.135823], [-98.570593, 34.146777], [-98.488439, 34.064623], [-98.36247, 34.157731], [-98.170777, 34.113915], [-98.088623, 34.004376], [-97.946222, 33.987946], [-97.869545, 33.851022], [-97.694283, 33.982469], [-97.458774, 33.905791], [-97.371143, 33.823637], [-97.256128, 33.861976], [-97.173974, 33.736006], [-96.922034, 33.960561], [-96.850834, 33.845545], [-96.631756, 33.845545], [-96.423633, 33.774345], [-96.346956, 33.686714], [-96.149786, 33.840068], [-95.936185, 33.889361], [-95.8376, 33.834591], [-95.602092, 33.933176], [-95.547322, 33.878407], [-95.289906, 33.87293], [-95.224183, 33.960561], [-94.966767, 33.861976], [-94.868182, 33.74696], [-94.484796, 33.637421], [-94.380734, 33.544313], [-94.183564, 33.593606], [-94.041164, 33.54979], [-94.041164, 33.018527], [-94.041164, 31.994339], [-93.822086, 31.775262], [-93.816609, 31.556184], [-93.542762, 31.15089], [-93.526331, 30.93729], [-93.630393, 30.679874], [-93.728978, 30.575812], [-93.696116, 30.438888], [-93.767317, 30.334826], [-93.690639, 30.143133], [-93.926148, 29.787132], [-93.838517, 29.688547], [-94.002825, 29.68307], [-94.523134, 29.546147], [-94.70935, 29.622824], [-94.742212, 29.787132], [-94.873659, 29.672117], [-94.966767, 29.699501], [-95.016059, 29.557101], [-94.911997, 29.496854], [-94.895566, 29.310638], [-95.081782, 29.113469], [-95.383014, 28.867006], [-95.985477, 28.604113], [-96.045724, 28.647929], [-96.226463, 28.582205], [-96.23194, 28.642452], [-96.478402, 28.598636], [-96.593418, 28.724606], [-96.664618, 28.697221], [-96.401725, 28.439805], [-96.593418, 28.357651], [-96.774157, 28.406943], [-96.801542, 28.226204], [-97.026096, 28.039988], [-97.256128, 27.694941], [-97.404005, 27.333463], [-97.513544, 27.360848], [-97.540929, 27.229401], [-97.425913, 27.262263], [-97.480682, 26.99937], [-97.557359, 26.988416], [-97.562836, 26.840538], [-97.469728, 26.758384], [-97.442344, 26.457153], [-97.332805, 26.353091], [-97.30542, 26.161398], [-97.217789, 25.991613], [-97.524498, 25.887551], [-97.650467, 26.018997], [-97.885976, 26.06829], [-98.198161, 26.057336], [-98.466531, 26.221644], [-98.669178, 26.238075], [-98.822533, 26.369522], [-99.030656, 26.413337], [-99.173057, 26.539307], [-99.266165, 26.840538], [-99.446904, 27.021277], [-99.424996, 27.174632], [-99.50715, 27.33894], [-99.479765, 27.48134], [-99.605735, 27.640172], [-99.709797, 27.656603], [-99.879582, 27.799003], [-99.934351, 27.979742], [-100.082229, 28.14405], [-100.29583, 28.280974], [-100.399891, 28.582205], [-100.498476, 28.66436], [-100.629923, 28.905345], [-100.673738, 29.102515], [-100.799708, 29.244915], [-101.013309, 29.370885], [-101.062601, 29.458516], [-101.259771, 29.535193], [-101.413125, 29.754271], [-101.851281, 29.803563], [-102.114174, 29.792609], [-102.338728, 29.869286], [-102.388021, 29.765225], [-102.629006, 29.732363], [-102.809745, 29.524239], [-102.919284, 29.190146], [-102.97953, 29.184669], [-103.116454, 28.987499], [-103.280762, 28.982022], [-103.527224, 29.135376], [-104.146119, 29.381839], [-104.266611, 29.513285], [-104.507597, 29.639255], [-104.677382, 29.924056], [-104.688336, 30.181472], [-104.858121, 30.389596], [-104.896459, 30.570335], [-105.005998, 30.685351], [-105.394861, 30.855136], [-105.602985, 31.085167], [-105.77277, 31.167321], [-105.953509, 31.364491], [-106.205448, 31.468553], [-106.38071, 31.731446], [-106.528588, 31.786216], [-106.643603, 31.901231], [-106.616219, 31.999816], [-103.067161, 31.999816], [-103.067161, 33.002096], [-103.045254, 34.01533], [-103.039777, 36.501861], [-103.001438, 36.501861], [-101.812942, 36.501861]]], &quot;type&quot;: &quot;Polygon&quot;}, &quot;id&quot;: &quot;TX&quot;, &quot;properties&quot;: {&quot;name&quot;: &quot;Texas&quot;}, &quot;type&quot;: &quot;Feature&quot;}, {&quot;geometry&quot;: {&quot;coordinates&quot;: [[[-112.164359, 41.995232], [-111.047063, 42.000709], [-111.047063, 40.998429], [-109.04798, 40.998429], [-109.053457, 39.125316], [-109.058934, 38.27639], [-109.042503, 38.166851], [-109.042503, 37.000263], [-110.499369, 37.00574], [-114.048427, 37.000263], [-114.04295, 41.995232], [-112.164359, 41.995232]]], &quot;type&quot;: &quot;Polygon&quot;}, &quot;id&quot;: &quot;UT&quot;, &quot;properties&quot;: {&quot;name&quot;: &quot;Utah&quot;}, &quot;type&quot;: &quot;Feature&quot;}, {&quot;geometry&quot;: {&quot;coordinates&quot;: [[[-71.503554, 45.013027], [-71.4926, 44.914442], [-71.629524, 44.750133], [-71.536416, 44.585825], [-71.700724, 44.41604], [-72.034817, 44.322932], [-72.02934, 44.07647], [-72.116971, 43.994316], [-72.204602, 43.769761], [-72.379864, 43.572591], [-72.456542, 43.150867], [-72.445588, 43.008466], [-72.533219, 42.953697], [-72.544173, 42.80582], [-72.456542, 42.729142], [-73.267129, 42.745573], [-73.278083, 42.833204], [-73.245221, 43.523299], [-73.404052, 43.687607], [-73.349283, 43.769761], [-73.436914, 44.043608], [-73.321898, 44.246255], [-73.294514, 44.437948], [-73.387622, 44.618687], [-73.332852, 44.804903], [-73.343806, 45.013027], [-72.308664, 45.002073], [-71.503554, 45.013027]]], &quot;type&quot;: &quot;Polygon&quot;}, &quot;id&quot;: &quot;VT&quot;, &quot;properties&quot;: {&quot;name&quot;: &quot;Vermont&quot;}, &quot;type&quot;: &quot;Feature&quot;}, {&quot;geometry&quot;: {&quot;coordinates&quot;: [[[[-75.397659, 38.013497], [-75.244304, 38.029928], [-75.375751, 37.860142], [-75.512674, 37.799896], [-75.594828, 37.569865], [-75.802952, 37.197433], [-75.972737, 37.120755], [-76.027507, 37.257679], [-75.939876, 37.564388], [-75.671506, 37.95325], [-75.397659, 38.013497]]], [[[-76.016553, 37.95325], [-75.994645, 37.95325], [-76.043938, 37.95325], [-76.016553, 37.95325]]], [[[-78.349729, 39.464886], [-77.82942, 39.130793], [-77.719881, 39.322485], [-77.566527, 39.306055], [-77.456988, 39.223901], [-77.456988, 39.076023], [-77.248864, 39.026731], [-77.117418, 38.933623], [-77.040741, 38.791222], [-77.128372, 38.632391], [-77.248864, 38.588575], [-77.325542, 38.446175], [-77.281726, 38.342113], [-77.013356, 38.374975], [-76.964064, 38.216144], [-76.613539, 38.15042], [-76.514954, 38.024451], [-76.235631, 37.887527], [-76.3616, 37.608203], [-76.246584, 37.389126], [-76.383508, 37.285064], [-76.399939, 37.159094], [-76.273969, 37.082417], [-76.410893, 36.961924], [-76.619016, 37.120755], [-76.668309, 37.065986], [-76.48757, 36.95097], [-75.994645, 36.923586], [-75.868676, 36.551154], [-79.510841, 36.5402], [-80.294043, 36.545677], [-80.978661, 36.562108], [-81.679709, 36.589492], [-83.673316, 36.600446], [-83.136575, 36.742847], [-83.070852, 36.852385], [-82.879159, 36.890724], [-82.868205, 36.978355], [-82.720328, 37.044078], [-82.720328, 37.120755], [-82.353373, 37.268633], [-81.969987, 37.537003], [-81.986418, 37.454849], [-81.849494, 37.285064], [-81.679709, 37.20291], [-81.55374, 37.208387], [-81.362047, 37.339833], [-81.225123, 37.235771], [-80.967707, 37.290541], [-80.513121, 37.482234], [-80.474782, 37.421987], [-80.29952, 37.509618], [-80.294043, 37.690357], [-80.184505, 37.849189], [-79.998289, 37.997066], [-79.921611, 38.177805], [-79.724442, 38.364021], [-79.647764, 38.594052], [-79.477979, 38.457129], [-79.313671, 38.413313], [-79.209609, 38.495467], [-78.996008, 38.851469], [-78.870039, 38.763838], [-78.404499, 39.169131], [-78.349729, 39.464886]]]], &quot;type&quot;: &quot;MultiPolygon&quot;}, &quot;id&quot;: &quot;VA&quot;, &quot;properties&quot;: {&quot;name&quot;: &quot;Virginia&quot;}, &quot;type&quot;: &quot;Feature&quot;}, {&quot;geometry&quot;: {&quot;coordinates&quot;: [[[[-117.033359, 49.000239], [-117.044313, 47.762451], [-117.038836, 46.426077], [-117.055267, 46.343923], [-116.92382, 46.168661], [-116.918344, 45.993399], [-118.988627, 45.998876], [-119.125551, 45.933153], [-119.525367, 45.911245], [-119.963522, 45.823614], [-120.209985, 45.725029], [-120.505739, 45.697644], [-120.637186, 45.746937], [-121.18488, 45.604536], [-121.217742, 45.670259], [-121.535404, 45.725029], [-121.809251, 45.708598], [-122.247407, 45.549767], [-122.762239, 45.659305], [-122.811531, 45.960537], [-122.904639, 46.08103], [-123.11824, 46.185092], [-123.211348, 46.174138], [-123.370179, 46.146753], [-123.545441, 46.261769], [-123.72618, 46.300108], [-123.874058, 46.239861], [-124.065751, 46.327492], [-124.027412, 46.464416], [-123.895966, 46.535616], [-124.098612, 46.74374], [-124.235536, 47.285957], [-124.31769, 47.357157], [-124.427229, 47.740543], [-124.624399, 47.88842], [-124.706553, 48.184175], [-124.597014, 48.381345], [-124.394367, 48.288237], [-123.983597, 48.162267], [-123.704273, 48.167744], [-123.424949, 48.118452], [-123.162056, 48.167744], [-123.036086, 48.080113], [-122.800578, 48.08559], [-122.636269, 47.866512], [-122.515777, 47.882943], [-122.493869, 47.587189], [-122.422669, 47.318818], [-122.324084, 47.346203], [-122.422669, 47.576235], [-122.395284, 47.800789], [-122.230976, 48.030821], [-122.362422, 48.123929], [-122.373376, 48.288237], [-122.471961, 48.468976], [-122.422669, 48.600422], [-122.488392, 48.753777], [-122.647223, 48.775685], [-122.795101, 48.8907], [-122.756762, 49.000239], [-117.033359, 49.000239]]], [[[-122.718423, 48.310145], [-122.586977, 48.35396], [-122.608885, 48.151313], [-122.767716, 48.227991], [-122.718423, 48.310145]]], [[[-123.025132, 48.583992], [-122.915593, 48.715438], [-122.767716, 48.556607], [-122.811531, 48.419683], [-123.041563, 48.458022], [-123.025132, 48.583992]]]], &quot;type&quot;: &quot;MultiPolygon&quot;}, &quot;id&quot;: &quot;WA&quot;, &quot;properties&quot;: {&quot;name&quot;: &quot;Washington&quot;}, &quot;type&quot;: &quot;Feature&quot;}, {&quot;geometry&quot;: {&quot;coordinates&quot;: [[[-80.518598, 40.636951], [-80.518598, 39.722302], [-79.477979, 39.722302], [-79.488933, 39.20747], [-79.291763, 39.300578], [-79.094593, 39.470363], [-78.963147, 39.437501], [-78.765977, 39.585379], [-78.470222, 39.514178], [-78.431884, 39.623717], [-78.267575, 39.61824], [-78.174467, 39.694917], [-78.004682, 39.601809], [-77.834897, 39.601809], [-77.719881, 39.322485], [-77.82942, 39.130793], [-78.349729, 39.464886], [-78.404499, 39.169131], [-78.870039, 38.763838], [-78.996008, 38.851469], [-79.209609, 38.495467], [-79.313671, 38.413313], [-79.477979, 38.457129], [-79.647764, 38.594052], [-79.724442, 38.364021], [-79.921611, 38.177805], [-79.998289, 37.997066], [-80.184505, 37.849189], [-80.294043, 37.690357], [-80.29952, 37.509618], [-80.474782, 37.421987], [-80.513121, 37.482234], [-80.967707, 37.290541], [-81.225123, 37.235771], [-81.362047, 37.339833], [-81.55374, 37.208387], [-81.679709, 37.20291], [-81.849494, 37.285064], [-81.986418, 37.454849], [-81.969987, 37.537003], [-82.101434, 37.553434], [-82.293127, 37.668449], [-82.342419, 37.783465], [-82.50125, 37.931343], [-82.621743, 38.123036], [-82.594358, 38.424267], [-82.331465, 38.446175], [-82.293127, 38.577622], [-82.172634, 38.632391], [-82.221926, 38.785745], [-82.03571, 39.026731], [-81.887833, 38.873376], [-81.783771, 38.966484], [-81.811156, 39.0815], [-81.685186, 39.273193], [-81.57017, 39.267716], [-81.455155, 39.410117], [-81.345616, 39.344393], [-81.219646, 39.388209], [-80.830783, 39.711348], [-80.737675, 40.078303], [-80.600752, 40.319289], [-80.595275, 40.472643], [-80.666475, 40.582182], [-80.518598, 40.636951]]], &quot;type&quot;: &quot;Polygon&quot;}, &quot;id&quot;: &quot;WV&quot;, &quot;properties&quot;: {&quot;name&quot;: &quot;West Virginia&quot;}, &quot;type&quot;: &quot;Feature&quot;}, {&quot;geometry&quot;: {&quot;coordinates&quot;: [[[-90.415429, 46.568478], [-90.229213, 46.508231], [-90.119674, 46.338446], [-89.09001, 46.135799], [-88.662808, 45.987922], [-88.531362, 46.020784], [-88.10416, 45.922199], [-87.989145, 45.796229], [-87.781021, 45.675736], [-87.791975, 45.500474], [-87.885083, 45.363551], [-87.649574, 45.341643], [-87.742682, 45.199243], [-87.589328, 45.095181], [-87.627666, 44.974688], [-87.819359, 44.95278], [-87.983668, 44.722749], [-88.043914, 44.563917], [-87.928898, 44.536533], [-87.775544, 44.640595], [-87.611236, 44.837764], [-87.403112, 44.914442], [-87.238804, 45.166381], [-87.03068, 45.22115], [-87.047111, 45.089704], [-87.189511, 44.969211], [-87.468835, 44.552964], [-87.545512, 44.322932], [-87.540035, 44.158624], [-87.644097, 44.103854], [-87.737205, 43.8793], [-87.704344, 43.687607], [-87.791975, 43.561637], [-87.912467, 43.249452], [-87.885083, 43.002989], [-87.76459, 42.783912], [-87.802929, 42.493634], [-88.788778, 42.493634], [-90.639984, 42.510065], [-90.711184, 42.636034], [-91.067185, 42.75105], [-91.143862, 42.909881], [-91.176724, 43.134436], [-91.056231, 43.254929], [-91.204109, 43.353514], [-91.215062, 43.501391], [-91.269832, 43.616407], [-91.242447, 43.775238], [-91.43414, 43.994316], [-91.592971, 44.032654], [-91.877772, 44.202439], [-91.927065, 44.333886], [-92.233773, 44.443425], [-92.337835, 44.552964], [-92.545959, 44.569394], [-92.808852, 44.750133], [-92.737652, 45.117088], [-92.75956, 45.286874], [-92.644544, 45.440228], [-92.770513, 45.566198], [-92.885529, 45.577151], [-92.869098, 45.719552], [-92.639067, 45.933153], [-92.354266, 46.015307], [-92.29402, 46.075553], [-92.29402, 46.667063], [-92.091373, 46.749217], [-92.014696, 46.705401], [-91.790141, 46.694447], [-91.09457, 46.864232], [-90.837154, 46.95734], [-90.749522, 46.88614], [-90.886446, 46.754694], [-90.55783, 46.584908], [-90.415429, 46.568478]]], &quot;type&quot;: &quot;Polygon&quot;}, &quot;id&quot;: &quot;WI&quot;, &quot;properties&quot;: {&quot;name&quot;: &quot;Wisconsin&quot;}, &quot;type&quot;: &quot;Feature&quot;}, {&quot;geometry&quot;: {&quot;coordinates&quot;: [[[-109.080842, 45.002073], [-105.91517, 45.002073], [-104.058488, 44.996596], [-104.053011, 43.002989], [-104.053011, 41.003906], [-105.728954, 40.998429], [-107.919731, 41.003906], [-109.04798, 40.998429], [-111.047063, 40.998429], [-111.047063, 42.000709], [-111.047063, 44.476286], [-111.05254, 45.002073], [-109.080842, 45.002073]]], &quot;type&quot;: &quot;Polygon&quot;}, &quot;id&quot;: &quot;WY&quot;, &quot;properties&quot;: {&quot;name&quot;: &quot;Wyoming&quot;}, &quot;type&quot;: &quot;Feature&quot;}], &quot;type&quot;: &quot;FeatureCollection&quot;});\n",
       "\n",
       "        \n",
       "    \n",
       "            geo_json_ed673a6849d30c18be737b6ca027fbd5.addTo(choropleth_462fb4a16f4d9edc982e9d873f55a4e7);\n",
       "        \n",
       "    \n",
       "    var color_map_5c59c87cd704048a8e41a16b06946af7 = {};\n",
       "\n",
       "    \n",
       "    color_map_5c59c87cd704048a8e41a16b06946af7.color = d3.scale.threshold()\n",
       "              .domain([1.0, 1.4188376753507015, 1.8376753507014028, 2.2565130260521045, 2.6753507014028055, 3.094188376753507, 3.5130260521042085, 3.93186372745491, 4.350701402805611, 4.7695390781563125, 5.188376753507014, 5.6072144288577155, 6.026052104208417, 6.4448897795591185, 6.86372745490982, 7.282565130260521, 7.701402805611222, 8.120240480961924, 8.539078156312625, 8.957915831663327, 9.376753507014028, 9.79559118236473, 10.214428857715431, 10.633266533066132, 11.052104208416834, 11.470941883767535, 11.889779559118237, 12.308617234468938, 12.72745490981964, 13.146292585170341, 13.565130260521043, 13.983967935871744, 14.402805611222444, 14.821643286573146, 15.240480961923847, 15.659318637274549, 16.07815631262525, 16.49699398797595, 16.915831663326653, 17.334669338677354, 17.753507014028056, 18.172344689378757, 18.59118236472946, 19.01002004008016, 19.428857715430862, 19.847695390781563, 20.266533066132265, 20.685370741482966, 21.104208416833668, 21.52304609218437, 21.94188376753507, 22.360721442885772, 22.779559118236474, 23.198396793587175, 23.617234468937877, 24.03607214428858, 24.45490981963928, 24.87374749498998, 25.292585170340683, 25.711422845691384, 26.130260521042086, 26.549098196392787, 26.96793587174349, 27.386773547094187, 27.805611222444888, 28.22444889779559, 28.64328657314629, 29.062124248496993, 29.480961923847694, 29.899799599198396, 30.318637274549097, 30.7374749498998, 31.1563126252505, 31.5751503006012, 31.993987975951903, 32.412825651302605, 32.831663326653306, 33.25050100200401, 33.66933867735471, 34.08817635270541, 34.50701402805611, 34.92585170340681, 35.344689378757515, 35.763527054108216, 36.18236472945892, 36.60120240480962, 37.02004008016032, 37.43887775551102, 37.857715430861724, 38.276553106212425, 38.69539078156313, 39.11422845691383, 39.53306613226453, 39.95190380761523, 40.37074148296593, 40.789579158316634, 41.208416833667336, 41.62725450901804, 42.04609218436874, 42.46492985971944, 42.88376753507014, 43.30260521042084, 43.721442885771545, 44.140280561122246, 44.55911823647295, 44.97795591182365, 45.39679358717435, 45.81563126252505, 46.234468937875754, 46.653306613226455, 47.07214428857716, 47.49098196392786, 47.90981963927856, 48.32865731462926, 48.74749498997996, 49.166332665330664, 49.585170340681366, 50.00400801603207, 50.42284569138277, 50.84168336673347, 51.26052104208417, 51.67935871743487, 52.098196392785574, 52.517034068136276, 52.93587174348698, 53.35470941883767, 53.77354709418837, 54.192384769539075, 54.611222444889776, 55.03006012024048, 55.44889779559118, 55.86773547094188, 56.28657314629258, 56.705410821643284, 57.124248496993985, 57.54308617234469, 57.96192384769539, 58.38076152304609, 58.79959919839679, 59.21843687374749, 59.637274549098194, 60.056112224448896, 60.4749498997996, 60.8937875751503, 61.312625250501, 61.7314629258517, 62.1503006012024, 62.569138276553105, 62.987975951903806, 63.40681362725451, 63.82565130260521, 64.24448897795591, 64.66332665330661, 65.08216432865731, 65.50100200400801, 65.91983967935872, 66.33867735470942, 66.75751503006012, 67.17635270541082, 67.59519038076152, 68.01402805611222, 68.43286573146293, 68.85170340681363, 69.27054108216433, 69.68937875751503, 70.10821643286573, 70.52705410821643, 70.94589178356713, 71.36472945891784, 71.78356713426854, 72.20240480961924, 72.62124248496994, 73.04008016032064, 73.45891783567134, 73.87775551102204, 74.29659318637275, 74.71543086172345, 75.13426853707415, 75.55310621242485, 75.97194388777555, 76.39078156312625, 76.80961923847696, 77.22845691382766, 77.64729458917836, 78.06613226452906, 78.48496993987976, 78.90380761523046, 79.32264529058116, 79.74148296593187, 80.16032064128257, 80.57915831663327, 80.99799599198397, 81.41683366733467, 81.83567134268537, 82.25450901803607, 82.67334669338678, 83.09218436873748, 83.51102204408818, 83.92985971943888, 84.34869739478958, 84.76753507014028, 85.18637274549098, 85.60521042084169, 86.02404809619239, 86.44288577154309, 86.86172344689379, 87.28056112224449, 87.6993987975952, 88.1182364729459, 88.5370741482966, 88.9559118236473, 89.374749498998, 89.7935871743487, 90.2124248496994, 90.6312625250501, 91.0501002004008, 91.46893787575151, 91.88777555110221, 92.30661322645291, 92.72545090180361, 93.14428857715431, 93.56312625250501, 93.98196392785572, 94.40080160320642, 94.81963927855712, 95.23847695390782, 95.65731462925852, 96.07615230460922, 96.49498997995993, 96.91382765531063, 97.33266533066133, 97.75150300601203, 98.17034068136273, 98.58917835671343, 99.00801603206413, 99.42685370741484, 99.84569138276554, 100.26452905811624, 100.68336673346694, 101.10220440881764, 101.52104208416834, 101.93987975951904, 102.35871743486975, 102.77755511022045, 103.19639278557115, 103.61523046092185, 104.03406813627255, 104.45290581162325, 104.87174348697395, 105.29058116232466, 105.70941883767534, 106.12825651302605, 106.54709418837675, 106.96593186372745, 107.38476953907815, 107.80360721442885, 108.22244488977955, 108.64128256513025, 109.06012024048096, 109.47895791583166, 109.89779559118236, 110.31663326653306, 110.73547094188376, 111.15430861723446, 111.57314629258516, 111.99198396793587, 112.41082164328657, 112.82965931863727, 113.24849699398797, 113.66733466933867, 114.08617234468937, 114.50501002004007, 114.92384769539078, 115.34268537074148, 115.76152304609218, 116.18036072144288, 116.59919839679358, 117.01803607214428, 117.43687374749499, 117.85571142284569, 118.27454909819639, 118.69338677354709, 119.11222444889779, 119.53106212424849, 119.9498997995992, 120.3687374749499, 120.7875751503006, 121.2064128256513, 121.625250501002, 122.0440881763527, 122.4629258517034, 122.8817635270541, 123.3006012024048, 123.71943887775551, 124.13827655310621, 124.55711422845691, 124.97595190380761, 125.39478957915831, 125.81362725450902, 126.23246492985972, 126.65130260521042, 127.07014028056112, 127.48897795591182, 127.90781563126252, 128.32665330661322, 128.74549098196394, 129.16432865731463, 129.58316633266534, 130.00200400801603, 130.42084168336675, 130.83967935871743, 131.25851703406815, 131.67735470941884, 132.09619238476955, 132.51503006012024, 132.93386773547095, 133.35270541082164, 133.77154308617236, 134.19038076152304, 134.60921843687376, 135.02805611222445, 135.44689378757516, 135.86573146292585, 136.28456913827657, 136.70340681362725, 137.12224448897797, 137.54108216432866, 137.95991983967937, 138.37875751503006, 138.79759519038078, 139.21643286573146, 139.63527054108218, 140.05410821643287, 140.47294589178355, 140.89178356713427, 141.31062124248496, 141.72945891783567, 142.14829659318636, 142.56713426853707, 142.98597194388776, 143.40480961923848, 143.82364729458916, 144.24248496993988, 144.66132264529057, 145.08016032064128, 145.49899799599197, 145.9178356713427, 146.33667334669337, 146.7555110220441, 147.17434869739478, 147.5931863727455, 148.01202404809618, 148.4308617234469, 148.84969939879758, 149.2685370741483, 149.68737474949899, 150.1062124248497, 150.5250501002004, 150.9438877755511, 151.3627254509018, 151.7815631262525, 152.2004008016032, 152.6192384769539, 153.0380761523046, 153.4569138276553, 153.875751503006, 154.29458917835672, 154.7134268537074, 155.13226452905812, 155.5511022044088, 155.96993987975952, 156.3887775551102, 156.80761523046093, 157.2264529058116, 157.64529058116233, 158.06412825651302, 158.48296593186373, 158.90180360721442, 159.32064128256513, 159.73947895791582, 160.15831663326654, 160.57715430861722, 160.99599198396794, 161.41482965931863, 161.83366733466934, 162.25250501002003, 162.67134268537075, 163.09018036072143, 163.50901803607215, 163.92785571142284, 164.34669338677355, 164.76553106212424, 165.18436873747495, 165.60320641282564, 166.02204408817636, 166.44088176352705, 166.85971943887776, 167.27855711422845, 167.69739478957916, 168.11623246492985, 168.53507014028057, 168.95390781563125, 169.37274549098197, 169.79158316633266, 170.21042084168337, 170.62925851703406, 171.04809619238478, 171.46693386773546, 171.88577154308618, 172.30460921843687, 172.72344689378758, 173.14228456913827, 173.56112224448898, 173.97995991983967, 174.3987975951904, 174.81763527054107, 175.2364729458918, 175.65531062124248, 176.0741482965932, 176.49298597194388, 176.9118236472946, 177.33066132264528, 177.749498997996, 178.1683366733467, 178.5871743486974, 179.0060120240481, 179.4248496993988, 179.8436873747495, 180.2625250501002, 180.6813627254509, 181.1002004008016, 181.5190380761523, 181.93787575150301, 182.3567134268537, 182.77555110220442, 183.1943887775551, 183.61322645290582, 184.0320641282565, 184.45090180360722, 184.8697394789579, 185.28857715430863, 185.7074148296593, 186.12625250501003, 186.54509018036072, 186.96392785571143, 187.38276553106212, 187.80160320641284, 188.22044088176352, 188.63927855711424, 189.05811623246493, 189.47695390781564, 189.89579158316633, 190.31462925851704, 190.73346693386773, 191.15230460921845, 191.57114228456913, 191.98997995991985, 192.40881763527054, 192.82765531062125, 193.24649298597194, 193.66533066132266, 194.08416833667334, 194.50300601202406, 194.92184368737475, 195.34068136272546, 195.75951903807615, 196.17835671342687, 196.59719438877755, 197.01603206412827, 197.43486973947896, 197.85370741482967, 198.27254509018036, 198.69138276553107, 199.11022044088176, 199.52905811623248, 199.94789579158316, 200.36673346693388, 200.78557114228457, 201.20440881763528, 201.62324649298597, 202.0420841683367, 202.46092184368737, 202.8797595190381, 203.29859719438878, 203.7174348697395, 204.13627254509018, 204.5551102204409, 204.97394789579158, 205.3927855711423, 205.81162324649299, 206.2304609218437, 206.6492985971944, 207.0681362725451, 207.4869739478958, 207.9058116232465, 208.3246492985972, 208.7434869739479, 209.1623246492986, 209.5811623246493, 210.0])\n",
       "              .range([&#x27;#ffffb2ff&#x27;, &#x27;#ffffb2ff&#x27;, &#x27;#ffffb2ff&#x27;, &#x27;#ffffb2ff&#x27;, &#x27;#ffffb2ff&#x27;, &#x27;#ffffb2ff&#x27;, &#x27;#ffffb2ff&#x27;, &#x27;#ffffb2ff&#x27;, &#x27;#ffffb2ff&#x27;, &#x27;#ffffb2ff&#x27;, &#x27;#ffffb2ff&#x27;, &#x27;#ffffb2ff&#x27;, &#x27;#ffffb2ff&#x27;, &#x27;#ffffb2ff&#x27;, &#x27;#ffffb2ff&#x27;, &#x27;#ffffb2ff&#x27;, &#x27;#ffffb2ff&#x27;, &#x27;#ffffb2ff&#x27;, &#x27;#ffffb2ff&#x27;, &#x27;#ffffb2ff&#x27;, &#x27;#ffffb2ff&#x27;, &#x27;#ffffb2ff&#x27;, &#x27;#ffffb2ff&#x27;, &#x27;#ffffb2ff&#x27;, &#x27;#ffffb2ff&#x27;, &#x27;#ffffb2ff&#x27;, &#x27;#ffffb2ff&#x27;, &#x27;#ffffb2ff&#x27;, &#x27;#ffffb2ff&#x27;, &#x27;#ffffb2ff&#x27;, &#x27;#ffffb2ff&#x27;, &#x27;#ffffb2ff&#x27;, &#x27;#ffffb2ff&#x27;, &#x27;#ffffb2ff&#x27;, &#x27;#ffffb2ff&#x27;, &#x27;#ffffb2ff&#x27;, &#x27;#ffffb2ff&#x27;, &#x27;#ffffb2ff&#x27;, &#x27;#ffffb2ff&#x27;, &#x27;#ffffb2ff&#x27;, &#x27;#ffffb2ff&#x27;, &#x27;#ffffb2ff&#x27;, &#x27;#ffffb2ff&#x27;, &#x27;#ffffb2ff&#x27;, &#x27;#ffffb2ff&#x27;, &#x27;#ffffb2ff&#x27;, &#x27;#ffffb2ff&#x27;, &#x27;#ffffb2ff&#x27;, &#x27;#ffffb2ff&#x27;, &#x27;#ffffb2ff&#x27;, &#x27;#ffffb2ff&#x27;, &#x27;#ffffb2ff&#x27;, &#x27;#ffffb2ff&#x27;, &#x27;#ffffb2ff&#x27;, &#x27;#ffffb2ff&#x27;, &#x27;#ffffb2ff&#x27;, &#x27;#ffffb2ff&#x27;, &#x27;#ffffb2ff&#x27;, &#x27;#ffffb2ff&#x27;, &#x27;#ffffb2ff&#x27;, &#x27;#ffffb2ff&#x27;, &#x27;#ffffb2ff&#x27;, &#x27;#ffffb2ff&#x27;, &#x27;#ffffb2ff&#x27;, &#x27;#ffffb2ff&#x27;, &#x27;#ffffb2ff&#x27;, &#x27;#ffffb2ff&#x27;, &#x27;#ffffb2ff&#x27;, &#x27;#ffffb2ff&#x27;, &#x27;#ffffb2ff&#x27;, &#x27;#ffffb2ff&#x27;, &#x27;#ffffb2ff&#x27;, &#x27;#ffffb2ff&#x27;, &#x27;#ffffb2ff&#x27;, &#x27;#ffffb2ff&#x27;, &#x27;#ffffb2ff&#x27;, &#x27;#ffffb2ff&#x27;, &#x27;#ffffb2ff&#x27;, &#x27;#ffffb2ff&#x27;, &#x27;#ffffb2ff&#x27;, &#x27;#ffffb2ff&#x27;, &#x27;#ffffb2ff&#x27;, &#x27;#ffffb2ff&#x27;, &#x27;#ffffb2ff&#x27;, &#x27;#fed976ff&#x27;, &#x27;#fed976ff&#x27;, &#x27;#fed976ff&#x27;, &#x27;#fed976ff&#x27;, &#x27;#fed976ff&#x27;, &#x27;#fed976ff&#x27;, &#x27;#fed976ff&#x27;, &#x27;#fed976ff&#x27;, &#x27;#fed976ff&#x27;, &#x27;#fed976ff&#x27;, &#x27;#fed976ff&#x27;, &#x27;#fed976ff&#x27;, &#x27;#fed976ff&#x27;, &#x27;#fed976ff&#x27;, &#x27;#fed976ff&#x27;, &#x27;#fed976ff&#x27;, &#x27;#fed976ff&#x27;, &#x27;#fed976ff&#x27;, &#x27;#fed976ff&#x27;, &#x27;#fed976ff&#x27;, &#x27;#fed976ff&#x27;, &#x27;#fed976ff&#x27;, &#x27;#fed976ff&#x27;, &#x27;#fed976ff&#x27;, &#x27;#fed976ff&#x27;, &#x27;#fed976ff&#x27;, &#x27;#fed976ff&#x27;, &#x27;#fed976ff&#x27;, &#x27;#fed976ff&#x27;, &#x27;#fed976ff&#x27;, &#x27;#fed976ff&#x27;, &#x27;#fed976ff&#x27;, &#x27;#fed976ff&#x27;, &#x27;#fed976ff&#x27;, &#x27;#fed976ff&#x27;, &#x27;#fed976ff&#x27;, &#x27;#fed976ff&#x27;, &#x27;#fed976ff&#x27;, &#x27;#fed976ff&#x27;, &#x27;#fed976ff&#x27;, &#x27;#fed976ff&#x27;, &#x27;#fed976ff&#x27;, &#x27;#fed976ff&#x27;, &#x27;#fed976ff&#x27;, &#x27;#fed976ff&#x27;, &#x27;#fed976ff&#x27;, &#x27;#fed976ff&#x27;, &#x27;#fed976ff&#x27;, &#x27;#fed976ff&#x27;, &#x27;#fed976ff&#x27;, &#x27;#fed976ff&#x27;, &#x27;#fed976ff&#x27;, &#x27;#fed976ff&#x27;, &#x27;#fed976ff&#x27;, &#x27;#fed976ff&#x27;, &#x27;#fed976ff&#x27;, &#x27;#fed976ff&#x27;, &#x27;#fed976ff&#x27;, &#x27;#fed976ff&#x27;, &#x27;#fed976ff&#x27;, &#x27;#fed976ff&#x27;, &#x27;#fed976ff&#x27;, &#x27;#fed976ff&#x27;, &#x27;#fed976ff&#x27;, &#x27;#fed976ff&#x27;, &#x27;#fed976ff&#x27;, &#x27;#fed976ff&#x27;, &#x27;#fed976ff&#x27;, &#x27;#fed976ff&#x27;, &#x27;#fed976ff&#x27;, &#x27;#fed976ff&#x27;, &#x27;#fed976ff&#x27;, &#x27;#fed976ff&#x27;, &#x27;#fed976ff&#x27;, &#x27;#fed976ff&#x27;, &#x27;#fed976ff&#x27;, &#x27;#fed976ff&#x27;, &#x27;#fed976ff&#x27;, &#x27;#fed976ff&#x27;, &#x27;#fed976ff&#x27;, &#x27;#fed976ff&#x27;, &#x27;#fed976ff&#x27;, &#x27;#fed976ff&#x27;, &#x27;#feb24cff&#x27;, &#x27;#feb24cff&#x27;, &#x27;#feb24cff&#x27;, &#x27;#feb24cff&#x27;, &#x27;#feb24cff&#x27;, &#x27;#feb24cff&#x27;, &#x27;#feb24cff&#x27;, &#x27;#feb24cff&#x27;, &#x27;#feb24cff&#x27;, &#x27;#feb24cff&#x27;, &#x27;#feb24cff&#x27;, &#x27;#feb24cff&#x27;, &#x27;#feb24cff&#x27;, &#x27;#feb24cff&#x27;, &#x27;#feb24cff&#x27;, &#x27;#feb24cff&#x27;, &#x27;#feb24cff&#x27;, &#x27;#feb24cff&#x27;, &#x27;#feb24cff&#x27;, &#x27;#feb24cff&#x27;, &#x27;#feb24cff&#x27;, &#x27;#feb24cff&#x27;, &#x27;#feb24cff&#x27;, &#x27;#feb24cff&#x27;, &#x27;#feb24cff&#x27;, &#x27;#feb24cff&#x27;, &#x27;#feb24cff&#x27;, &#x27;#feb24cff&#x27;, &#x27;#feb24cff&#x27;, &#x27;#feb24cff&#x27;, &#x27;#feb24cff&#x27;, &#x27;#feb24cff&#x27;, &#x27;#feb24cff&#x27;, &#x27;#feb24cff&#x27;, &#x27;#feb24cff&#x27;, &#x27;#feb24cff&#x27;, &#x27;#feb24cff&#x27;, &#x27;#feb24cff&#x27;, &#x27;#feb24cff&#x27;, &#x27;#feb24cff&#x27;, &#x27;#feb24cff&#x27;, &#x27;#feb24cff&#x27;, &#x27;#feb24cff&#x27;, &#x27;#feb24cff&#x27;, &#x27;#feb24cff&#x27;, &#x27;#feb24cff&#x27;, &#x27;#feb24cff&#x27;, &#x27;#feb24cff&#x27;, &#x27;#feb24cff&#x27;, &#x27;#feb24cff&#x27;, &#x27;#feb24cff&#x27;, &#x27;#feb24cff&#x27;, &#x27;#feb24cff&#x27;, &#x27;#feb24cff&#x27;, &#x27;#feb24cff&#x27;, &#x27;#feb24cff&#x27;, &#x27;#feb24cff&#x27;, &#x27;#feb24cff&#x27;, &#x27;#feb24cff&#x27;, &#x27;#feb24cff&#x27;, &#x27;#feb24cff&#x27;, &#x27;#feb24cff&#x27;, &#x27;#feb24cff&#x27;, &#x27;#feb24cff&#x27;, &#x27;#feb24cff&#x27;, &#x27;#feb24cff&#x27;, &#x27;#feb24cff&#x27;, &#x27;#feb24cff&#x27;, &#x27;#feb24cff&#x27;, &#x27;#feb24cff&#x27;, &#x27;#feb24cff&#x27;, &#x27;#feb24cff&#x27;, &#x27;#feb24cff&#x27;, &#x27;#feb24cff&#x27;, &#x27;#feb24cff&#x27;, &#x27;#feb24cff&#x27;, &#x27;#feb24cff&#x27;, &#x27;#feb24cff&#x27;, &#x27;#feb24cff&#x27;, &#x27;#feb24cff&#x27;, &#x27;#feb24cff&#x27;, &#x27;#feb24cff&#x27;, &#x27;#feb24cff&#x27;, &#x27;#fd8d3cff&#x27;, &#x27;#fd8d3cff&#x27;, &#x27;#fd8d3cff&#x27;, &#x27;#fd8d3cff&#x27;, &#x27;#fd8d3cff&#x27;, &#x27;#fd8d3cff&#x27;, &#x27;#fd8d3cff&#x27;, &#x27;#fd8d3cff&#x27;, &#x27;#fd8d3cff&#x27;, &#x27;#fd8d3cff&#x27;, &#x27;#fd8d3cff&#x27;, &#x27;#fd8d3cff&#x27;, &#x27;#fd8d3cff&#x27;, &#x27;#fd8d3cff&#x27;, &#x27;#fd8d3cff&#x27;, &#x27;#fd8d3cff&#x27;, &#x27;#fd8d3cff&#x27;, &#x27;#fd8d3cff&#x27;, &#x27;#fd8d3cff&#x27;, &#x27;#fd8d3cff&#x27;, &#x27;#fd8d3cff&#x27;, &#x27;#fd8d3cff&#x27;, &#x27;#fd8d3cff&#x27;, &#x27;#fd8d3cff&#x27;, &#x27;#fd8d3cff&#x27;, &#x27;#fd8d3cff&#x27;, &#x27;#fd8d3cff&#x27;, &#x27;#fd8d3cff&#x27;, &#x27;#fd8d3cff&#x27;, &#x27;#fd8d3cff&#x27;, &#x27;#fd8d3cff&#x27;, &#x27;#fd8d3cff&#x27;, &#x27;#fd8d3cff&#x27;, &#x27;#fd8d3cff&#x27;, &#x27;#fd8d3cff&#x27;, &#x27;#fd8d3cff&#x27;, &#x27;#fd8d3cff&#x27;, &#x27;#fd8d3cff&#x27;, &#x27;#fd8d3cff&#x27;, &#x27;#fd8d3cff&#x27;, &#x27;#fd8d3cff&#x27;, &#x27;#fd8d3cff&#x27;, &#x27;#fd8d3cff&#x27;, &#x27;#fd8d3cff&#x27;, &#x27;#fd8d3cff&#x27;, &#x27;#fd8d3cff&#x27;, &#x27;#fd8d3cff&#x27;, &#x27;#fd8d3cff&#x27;, &#x27;#fd8d3cff&#x27;, &#x27;#fd8d3cff&#x27;, &#x27;#fd8d3cff&#x27;, &#x27;#fd8d3cff&#x27;, &#x27;#fd8d3cff&#x27;, &#x27;#fd8d3cff&#x27;, &#x27;#fd8d3cff&#x27;, &#x27;#fd8d3cff&#x27;, &#x27;#fd8d3cff&#x27;, &#x27;#fd8d3cff&#x27;, &#x27;#fd8d3cff&#x27;, &#x27;#fd8d3cff&#x27;, &#x27;#fd8d3cff&#x27;, &#x27;#fd8d3cff&#x27;, &#x27;#fd8d3cff&#x27;, &#x27;#fd8d3cff&#x27;, &#x27;#fd8d3cff&#x27;, &#x27;#fd8d3cff&#x27;, &#x27;#fd8d3cff&#x27;, &#x27;#fd8d3cff&#x27;, &#x27;#fd8d3cff&#x27;, &#x27;#fd8d3cff&#x27;, &#x27;#fd8d3cff&#x27;, &#x27;#fd8d3cff&#x27;, &#x27;#fd8d3cff&#x27;, &#x27;#fd8d3cff&#x27;, &#x27;#fd8d3cff&#x27;, &#x27;#fd8d3cff&#x27;, &#x27;#fd8d3cff&#x27;, &#x27;#fd8d3cff&#x27;, &#x27;#fd8d3cff&#x27;, &#x27;#fd8d3cff&#x27;, &#x27;#fd8d3cff&#x27;, &#x27;#fd8d3cff&#x27;, &#x27;#fd8d3cff&#x27;, &#x27;#f03b20ff&#x27;, &#x27;#f03b20ff&#x27;, &#x27;#f03b20ff&#x27;, &#x27;#f03b20ff&#x27;, &#x27;#f03b20ff&#x27;, &#x27;#f03b20ff&#x27;, &#x27;#f03b20ff&#x27;, &#x27;#f03b20ff&#x27;, &#x27;#f03b20ff&#x27;, &#x27;#f03b20ff&#x27;, &#x27;#f03b20ff&#x27;, &#x27;#f03b20ff&#x27;, &#x27;#f03b20ff&#x27;, &#x27;#f03b20ff&#x27;, &#x27;#f03b20ff&#x27;, &#x27;#f03b20ff&#x27;, &#x27;#f03b20ff&#x27;, &#x27;#f03b20ff&#x27;, &#x27;#f03b20ff&#x27;, &#x27;#f03b20ff&#x27;, &#x27;#f03b20ff&#x27;, &#x27;#f03b20ff&#x27;, &#x27;#f03b20ff&#x27;, &#x27;#f03b20ff&#x27;, &#x27;#f03b20ff&#x27;, &#x27;#f03b20ff&#x27;, &#x27;#f03b20ff&#x27;, &#x27;#f03b20ff&#x27;, &#x27;#f03b20ff&#x27;, &#x27;#f03b20ff&#x27;, &#x27;#f03b20ff&#x27;, &#x27;#f03b20ff&#x27;, &#x27;#f03b20ff&#x27;, &#x27;#f03b20ff&#x27;, &#x27;#f03b20ff&#x27;, &#x27;#f03b20ff&#x27;, &#x27;#f03b20ff&#x27;, &#x27;#f03b20ff&#x27;, &#x27;#f03b20ff&#x27;, &#x27;#f03b20ff&#x27;, &#x27;#f03b20ff&#x27;, &#x27;#f03b20ff&#x27;, &#x27;#f03b20ff&#x27;, &#x27;#f03b20ff&#x27;, &#x27;#f03b20ff&#x27;, &#x27;#f03b20ff&#x27;, &#x27;#f03b20ff&#x27;, &#x27;#f03b20ff&#x27;, &#x27;#f03b20ff&#x27;, &#x27;#f03b20ff&#x27;, &#x27;#f03b20ff&#x27;, &#x27;#f03b20ff&#x27;, &#x27;#f03b20ff&#x27;, &#x27;#f03b20ff&#x27;, &#x27;#f03b20ff&#x27;, &#x27;#f03b20ff&#x27;, &#x27;#f03b20ff&#x27;, &#x27;#f03b20ff&#x27;, &#x27;#f03b20ff&#x27;, &#x27;#f03b20ff&#x27;, &#x27;#f03b20ff&#x27;, &#x27;#f03b20ff&#x27;, &#x27;#f03b20ff&#x27;, &#x27;#f03b20ff&#x27;, &#x27;#f03b20ff&#x27;, &#x27;#f03b20ff&#x27;, &#x27;#f03b20ff&#x27;, &#x27;#f03b20ff&#x27;, &#x27;#f03b20ff&#x27;, &#x27;#f03b20ff&#x27;, &#x27;#f03b20ff&#x27;, &#x27;#f03b20ff&#x27;, &#x27;#f03b20ff&#x27;, &#x27;#f03b20ff&#x27;, &#x27;#f03b20ff&#x27;, &#x27;#f03b20ff&#x27;, &#x27;#f03b20ff&#x27;, &#x27;#f03b20ff&#x27;, &#x27;#f03b20ff&#x27;, &#x27;#f03b20ff&#x27;, &#x27;#f03b20ff&#x27;, &#x27;#f03b20ff&#x27;, &#x27;#f03b20ff&#x27;, &#x27;#bd0026ff&#x27;, &#x27;#bd0026ff&#x27;, &#x27;#bd0026ff&#x27;, &#x27;#bd0026ff&#x27;, &#x27;#bd0026ff&#x27;, &#x27;#bd0026ff&#x27;, &#x27;#bd0026ff&#x27;, &#x27;#bd0026ff&#x27;, &#x27;#bd0026ff&#x27;, &#x27;#bd0026ff&#x27;, &#x27;#bd0026ff&#x27;, &#x27;#bd0026ff&#x27;, &#x27;#bd0026ff&#x27;, &#x27;#bd0026ff&#x27;, &#x27;#bd0026ff&#x27;, &#x27;#bd0026ff&#x27;, &#x27;#bd0026ff&#x27;, &#x27;#bd0026ff&#x27;, &#x27;#bd0026ff&#x27;, &#x27;#bd0026ff&#x27;, &#x27;#bd0026ff&#x27;, &#x27;#bd0026ff&#x27;, &#x27;#bd0026ff&#x27;, &#x27;#bd0026ff&#x27;, &#x27;#bd0026ff&#x27;, &#x27;#bd0026ff&#x27;, &#x27;#bd0026ff&#x27;, &#x27;#bd0026ff&#x27;, &#x27;#bd0026ff&#x27;, &#x27;#bd0026ff&#x27;, &#x27;#bd0026ff&#x27;, &#x27;#bd0026ff&#x27;, &#x27;#bd0026ff&#x27;, &#x27;#bd0026ff&#x27;, &#x27;#bd0026ff&#x27;, &#x27;#bd0026ff&#x27;, &#x27;#bd0026ff&#x27;, &#x27;#bd0026ff&#x27;, &#x27;#bd0026ff&#x27;, &#x27;#bd0026ff&#x27;, &#x27;#bd0026ff&#x27;, &#x27;#bd0026ff&#x27;, &#x27;#bd0026ff&#x27;, &#x27;#bd0026ff&#x27;, &#x27;#bd0026ff&#x27;, &#x27;#bd0026ff&#x27;, &#x27;#bd0026ff&#x27;, &#x27;#bd0026ff&#x27;, &#x27;#bd0026ff&#x27;, &#x27;#bd0026ff&#x27;, &#x27;#bd0026ff&#x27;, &#x27;#bd0026ff&#x27;, &#x27;#bd0026ff&#x27;, &#x27;#bd0026ff&#x27;, &#x27;#bd0026ff&#x27;, &#x27;#bd0026ff&#x27;, &#x27;#bd0026ff&#x27;, &#x27;#bd0026ff&#x27;, &#x27;#bd0026ff&#x27;, &#x27;#bd0026ff&#x27;, &#x27;#bd0026ff&#x27;, &#x27;#bd0026ff&#x27;, &#x27;#bd0026ff&#x27;, &#x27;#bd0026ff&#x27;, &#x27;#bd0026ff&#x27;, &#x27;#bd0026ff&#x27;, &#x27;#bd0026ff&#x27;, &#x27;#bd0026ff&#x27;, &#x27;#bd0026ff&#x27;, &#x27;#bd0026ff&#x27;, &#x27;#bd0026ff&#x27;, &#x27;#bd0026ff&#x27;, &#x27;#bd0026ff&#x27;, &#x27;#bd0026ff&#x27;, &#x27;#bd0026ff&#x27;, &#x27;#bd0026ff&#x27;, &#x27;#bd0026ff&#x27;, &#x27;#bd0026ff&#x27;, &#x27;#bd0026ff&#x27;, &#x27;#bd0026ff&#x27;, &#x27;#bd0026ff&#x27;, &#x27;#bd0026ff&#x27;, &#x27;#bd0026ff&#x27;, &#x27;#bd0026ff&#x27;]);\n",
       "    \n",
       "\n",
       "    color_map_5c59c87cd704048a8e41a16b06946af7.x = d3.scale.linear()\n",
       "              .domain([1.0, 210.0])\n",
       "              .range([0, 450 - 50]);\n",
       "\n",
       "    color_map_5c59c87cd704048a8e41a16b06946af7.legend = L.control({position: &#x27;topright&#x27;});\n",
       "    color_map_5c59c87cd704048a8e41a16b06946af7.legend.onAdd = function (map) {var div = L.DomUtil.create(&#x27;div&#x27;, &#x27;legend&#x27;); return div};\n",
       "    color_map_5c59c87cd704048a8e41a16b06946af7.legend.addTo(map_318472a93eed89aba66f0874540ec1a2);\n",
       "\n",
       "    color_map_5c59c87cd704048a8e41a16b06946af7.xAxis = d3.svg.axis()\n",
       "        .scale(color_map_5c59c87cd704048a8e41a16b06946af7.x)\n",
       "        .orient(&quot;top&quot;)\n",
       "        .tickSize(1)\n",
       "        .tickValues([1.0, 35.833333333333336, 70.66666666666667, 105.5, 140.33333333333334, 175.16666666666669, 210.0]);\n",
       "\n",
       "    color_map_5c59c87cd704048a8e41a16b06946af7.svg = d3.select(&quot;.legend.leaflet-control&quot;).append(&quot;svg&quot;)\n",
       "        .attr(&quot;id&quot;, &#x27;legend&#x27;)\n",
       "        .attr(&quot;width&quot;, 450)\n",
       "        .attr(&quot;height&quot;, 40);\n",
       "\n",
       "    color_map_5c59c87cd704048a8e41a16b06946af7.g = color_map_5c59c87cd704048a8e41a16b06946af7.svg.append(&quot;g&quot;)\n",
       "        .attr(&quot;class&quot;, &quot;key&quot;)\n",
       "        .attr(&quot;transform&quot;, &quot;translate(25,16)&quot;);\n",
       "\n",
       "    color_map_5c59c87cd704048a8e41a16b06946af7.g.selectAll(&quot;rect&quot;)\n",
       "        .data(color_map_5c59c87cd704048a8e41a16b06946af7.color.range().map(function(d, i) {\n",
       "          return {\n",
       "            x0: i ? color_map_5c59c87cd704048a8e41a16b06946af7.x(color_map_5c59c87cd704048a8e41a16b06946af7.color.domain()[i - 1]) : color_map_5c59c87cd704048a8e41a16b06946af7.x.range()[0],\n",
       "            x1: i &lt; color_map_5c59c87cd704048a8e41a16b06946af7.color.domain().length ? color_map_5c59c87cd704048a8e41a16b06946af7.x(color_map_5c59c87cd704048a8e41a16b06946af7.color.domain()[i]) : color_map_5c59c87cd704048a8e41a16b06946af7.x.range()[1],\n",
       "            z: d\n",
       "          };\n",
       "        }))\n",
       "      .enter().append(&quot;rect&quot;)\n",
       "        .attr(&quot;height&quot;, 40 - 30)\n",
       "        .attr(&quot;x&quot;, function(d) { return d.x0; })\n",
       "        .attr(&quot;width&quot;, function(d) { return d.x1 - d.x0; })\n",
       "        .style(&quot;fill&quot;, function(d) { return d.z; });\n",
       "\n",
       "    color_map_5c59c87cd704048a8e41a16b06946af7.g.call(color_map_5c59c87cd704048a8e41a16b06946af7.xAxis).append(&quot;text&quot;)\n",
       "        .attr(&quot;class&quot;, &quot;caption&quot;)\n",
       "        .attr(&quot;y&quot;, 21)\n",
       "        .text(&quot;Number of Power Outages&quot;);\n",
       "    \n",
       "            choropleth_462fb4a16f4d9edc982e9d873f55a4e7.addTo(map_318472a93eed89aba66f0874540ec1a2);\n",
       "        \n",
       "&lt;/script&gt;\n",
       "&lt;/html&gt;\" style=\"position:absolute;width:100%;height:100%;left:0;top:0;border:none !important;\" allowfullscreen webkitallowfullscreen mozallowfullscreen></iframe></div></div>"
      ],
      "text/plain": [
       "<folium.folium.Map at 0x208042e9ac0>"
      ]
     },
     "execution_count": 6,
     "metadata": {},
     "output_type": "execute_result"
    }
   ],
   "source": [
    "plot_geo(cleaned.groupby(\"POSTAL.CODE\").size(), legend_name=\"Number of Power Outages\")"
   ]
  },
  {
   "cell_type": "code",
   "execution_count": 7,
   "metadata": {},
   "outputs": [
    {
     "data": {
      "application/vnd.plotly.v1+json": {
       "config": {
        "plotlyServerURL": "https://plot.ly"
       },
       "data": [
        {
         "alignmentgroup": "True",
         "hovertemplate": "variable=0<br>YEAR=%{x}<br>value=%{y}<extra></extra>",
         "legendgroup": "0",
         "marker": {
          "color": "#636efa",
          "pattern": {
           "shape": ""
          }
         },
         "name": "0",
         "offsetgroup": "0",
         "orientation": "v",
         "showlegend": true,
         "textposition": "auto",
         "type": "bar",
         "x": [
          2000,
          2001,
          2002,
          2003,
          2004,
          2005,
          2006,
          2007,
          2008,
          2009,
          2010,
          2011,
          2012,
          2013,
          2014,
          2015,
          2016
         ],
         "xaxis": "x",
         "y": [
          26,
          15,
          17,
          46,
          71,
          55,
          67,
          56,
          111,
          78,
          106,
          269,
          174,
          153,
          112,
          119,
          59
         ],
         "yaxis": "y"
        }
       ],
       "layout": {
        "barmode": "relative",
        "legend": {
         "title": {
          "text": "variable"
         },
         "tracegroupgap": 0
        },
        "template": {
         "data": {
          "bar": [
           {
            "error_x": {
             "color": "#2a3f5f"
            },
            "error_y": {
             "color": "#2a3f5f"
            },
            "marker": {
             "line": {
              "color": "#E5ECF6",
              "width": 0.5
             },
             "pattern": {
              "fillmode": "overlay",
              "size": 10,
              "solidity": 0.2
             }
            },
            "type": "bar"
           }
          ],
          "barpolar": [
           {
            "marker": {
             "line": {
              "color": "#E5ECF6",
              "width": 0.5
             },
             "pattern": {
              "fillmode": "overlay",
              "size": 10,
              "solidity": 0.2
             }
            },
            "type": "barpolar"
           }
          ],
          "carpet": [
           {
            "aaxis": {
             "endlinecolor": "#2a3f5f",
             "gridcolor": "white",
             "linecolor": "white",
             "minorgridcolor": "white",
             "startlinecolor": "#2a3f5f"
            },
            "baxis": {
             "endlinecolor": "#2a3f5f",
             "gridcolor": "white",
             "linecolor": "white",
             "minorgridcolor": "white",
             "startlinecolor": "#2a3f5f"
            },
            "type": "carpet"
           }
          ],
          "choropleth": [
           {
            "colorbar": {
             "outlinewidth": 0,
             "ticks": ""
            },
            "type": "choropleth"
           }
          ],
          "contour": [
           {
            "colorbar": {
             "outlinewidth": 0,
             "ticks": ""
            },
            "colorscale": [
             [
              0,
              "#0d0887"
             ],
             [
              0.1111111111111111,
              "#46039f"
             ],
             [
              0.2222222222222222,
              "#7201a8"
             ],
             [
              0.3333333333333333,
              "#9c179e"
             ],
             [
              0.4444444444444444,
              "#bd3786"
             ],
             [
              0.5555555555555556,
              "#d8576b"
             ],
             [
              0.6666666666666666,
              "#ed7953"
             ],
             [
              0.7777777777777778,
              "#fb9f3a"
             ],
             [
              0.8888888888888888,
              "#fdca26"
             ],
             [
              1,
              "#f0f921"
             ]
            ],
            "type": "contour"
           }
          ],
          "contourcarpet": [
           {
            "colorbar": {
             "outlinewidth": 0,
             "ticks": ""
            },
            "type": "contourcarpet"
           }
          ],
          "heatmap": [
           {
            "colorbar": {
             "outlinewidth": 0,
             "ticks": ""
            },
            "colorscale": [
             [
              0,
              "#0d0887"
             ],
             [
              0.1111111111111111,
              "#46039f"
             ],
             [
              0.2222222222222222,
              "#7201a8"
             ],
             [
              0.3333333333333333,
              "#9c179e"
             ],
             [
              0.4444444444444444,
              "#bd3786"
             ],
             [
              0.5555555555555556,
              "#d8576b"
             ],
             [
              0.6666666666666666,
              "#ed7953"
             ],
             [
              0.7777777777777778,
              "#fb9f3a"
             ],
             [
              0.8888888888888888,
              "#fdca26"
             ],
             [
              1,
              "#f0f921"
             ]
            ],
            "type": "heatmap"
           }
          ],
          "heatmapgl": [
           {
            "colorbar": {
             "outlinewidth": 0,
             "ticks": ""
            },
            "colorscale": [
             [
              0,
              "#0d0887"
             ],
             [
              0.1111111111111111,
              "#46039f"
             ],
             [
              0.2222222222222222,
              "#7201a8"
             ],
             [
              0.3333333333333333,
              "#9c179e"
             ],
             [
              0.4444444444444444,
              "#bd3786"
             ],
             [
              0.5555555555555556,
              "#d8576b"
             ],
             [
              0.6666666666666666,
              "#ed7953"
             ],
             [
              0.7777777777777778,
              "#fb9f3a"
             ],
             [
              0.8888888888888888,
              "#fdca26"
             ],
             [
              1,
              "#f0f921"
             ]
            ],
            "type": "heatmapgl"
           }
          ],
          "histogram": [
           {
            "marker": {
             "pattern": {
              "fillmode": "overlay",
              "size": 10,
              "solidity": 0.2
             }
            },
            "type": "histogram"
           }
          ],
          "histogram2d": [
           {
            "colorbar": {
             "outlinewidth": 0,
             "ticks": ""
            },
            "colorscale": [
             [
              0,
              "#0d0887"
             ],
             [
              0.1111111111111111,
              "#46039f"
             ],
             [
              0.2222222222222222,
              "#7201a8"
             ],
             [
              0.3333333333333333,
              "#9c179e"
             ],
             [
              0.4444444444444444,
              "#bd3786"
             ],
             [
              0.5555555555555556,
              "#d8576b"
             ],
             [
              0.6666666666666666,
              "#ed7953"
             ],
             [
              0.7777777777777778,
              "#fb9f3a"
             ],
             [
              0.8888888888888888,
              "#fdca26"
             ],
             [
              1,
              "#f0f921"
             ]
            ],
            "type": "histogram2d"
           }
          ],
          "histogram2dcontour": [
           {
            "colorbar": {
             "outlinewidth": 0,
             "ticks": ""
            },
            "colorscale": [
             [
              0,
              "#0d0887"
             ],
             [
              0.1111111111111111,
              "#46039f"
             ],
             [
              0.2222222222222222,
              "#7201a8"
             ],
             [
              0.3333333333333333,
              "#9c179e"
             ],
             [
              0.4444444444444444,
              "#bd3786"
             ],
             [
              0.5555555555555556,
              "#d8576b"
             ],
             [
              0.6666666666666666,
              "#ed7953"
             ],
             [
              0.7777777777777778,
              "#fb9f3a"
             ],
             [
              0.8888888888888888,
              "#fdca26"
             ],
             [
              1,
              "#f0f921"
             ]
            ],
            "type": "histogram2dcontour"
           }
          ],
          "mesh3d": [
           {
            "colorbar": {
             "outlinewidth": 0,
             "ticks": ""
            },
            "type": "mesh3d"
           }
          ],
          "parcoords": [
           {
            "line": {
             "colorbar": {
              "outlinewidth": 0,
              "ticks": ""
             }
            },
            "type": "parcoords"
           }
          ],
          "pie": [
           {
            "automargin": true,
            "type": "pie"
           }
          ],
          "scatter": [
           {
            "fillpattern": {
             "fillmode": "overlay",
             "size": 10,
             "solidity": 0.2
            },
            "type": "scatter"
           }
          ],
          "scatter3d": [
           {
            "line": {
             "colorbar": {
              "outlinewidth": 0,
              "ticks": ""
             }
            },
            "marker": {
             "colorbar": {
              "outlinewidth": 0,
              "ticks": ""
             }
            },
            "type": "scatter3d"
           }
          ],
          "scattercarpet": [
           {
            "marker": {
             "colorbar": {
              "outlinewidth": 0,
              "ticks": ""
             }
            },
            "type": "scattercarpet"
           }
          ],
          "scattergeo": [
           {
            "marker": {
             "colorbar": {
              "outlinewidth": 0,
              "ticks": ""
             }
            },
            "type": "scattergeo"
           }
          ],
          "scattergl": [
           {
            "marker": {
             "colorbar": {
              "outlinewidth": 0,
              "ticks": ""
             }
            },
            "type": "scattergl"
           }
          ],
          "scattermapbox": [
           {
            "marker": {
             "colorbar": {
              "outlinewidth": 0,
              "ticks": ""
             }
            },
            "type": "scattermapbox"
           }
          ],
          "scatterpolar": [
           {
            "marker": {
             "colorbar": {
              "outlinewidth": 0,
              "ticks": ""
             }
            },
            "type": "scatterpolar"
           }
          ],
          "scatterpolargl": [
           {
            "marker": {
             "colorbar": {
              "outlinewidth": 0,
              "ticks": ""
             }
            },
            "type": "scatterpolargl"
           }
          ],
          "scatterternary": [
           {
            "marker": {
             "colorbar": {
              "outlinewidth": 0,
              "ticks": ""
             }
            },
            "type": "scatterternary"
           }
          ],
          "surface": [
           {
            "colorbar": {
             "outlinewidth": 0,
             "ticks": ""
            },
            "colorscale": [
             [
              0,
              "#0d0887"
             ],
             [
              0.1111111111111111,
              "#46039f"
             ],
             [
              0.2222222222222222,
              "#7201a8"
             ],
             [
              0.3333333333333333,
              "#9c179e"
             ],
             [
              0.4444444444444444,
              "#bd3786"
             ],
             [
              0.5555555555555556,
              "#d8576b"
             ],
             [
              0.6666666666666666,
              "#ed7953"
             ],
             [
              0.7777777777777778,
              "#fb9f3a"
             ],
             [
              0.8888888888888888,
              "#fdca26"
             ],
             [
              1,
              "#f0f921"
             ]
            ],
            "type": "surface"
           }
          ],
          "table": [
           {
            "cells": {
             "fill": {
              "color": "#EBF0F8"
             },
             "line": {
              "color": "white"
             }
            },
            "header": {
             "fill": {
              "color": "#C8D4E3"
             },
             "line": {
              "color": "white"
             }
            },
            "type": "table"
           }
          ]
         },
         "layout": {
          "annotationdefaults": {
           "arrowcolor": "#2a3f5f",
           "arrowhead": 0,
           "arrowwidth": 1
          },
          "autotypenumbers": "strict",
          "coloraxis": {
           "colorbar": {
            "outlinewidth": 0,
            "ticks": ""
           }
          },
          "colorscale": {
           "diverging": [
            [
             0,
             "#8e0152"
            ],
            [
             0.1,
             "#c51b7d"
            ],
            [
             0.2,
             "#de77ae"
            ],
            [
             0.3,
             "#f1b6da"
            ],
            [
             0.4,
             "#fde0ef"
            ],
            [
             0.5,
             "#f7f7f7"
            ],
            [
             0.6,
             "#e6f5d0"
            ],
            [
             0.7,
             "#b8e186"
            ],
            [
             0.8,
             "#7fbc41"
            ],
            [
             0.9,
             "#4d9221"
            ],
            [
             1,
             "#276419"
            ]
           ],
           "sequential": [
            [
             0,
             "#0d0887"
            ],
            [
             0.1111111111111111,
             "#46039f"
            ],
            [
             0.2222222222222222,
             "#7201a8"
            ],
            [
             0.3333333333333333,
             "#9c179e"
            ],
            [
             0.4444444444444444,
             "#bd3786"
            ],
            [
             0.5555555555555556,
             "#d8576b"
            ],
            [
             0.6666666666666666,
             "#ed7953"
            ],
            [
             0.7777777777777778,
             "#fb9f3a"
            ],
            [
             0.8888888888888888,
             "#fdca26"
            ],
            [
             1,
             "#f0f921"
            ]
           ],
           "sequentialminus": [
            [
             0,
             "#0d0887"
            ],
            [
             0.1111111111111111,
             "#46039f"
            ],
            [
             0.2222222222222222,
             "#7201a8"
            ],
            [
             0.3333333333333333,
             "#9c179e"
            ],
            [
             0.4444444444444444,
             "#bd3786"
            ],
            [
             0.5555555555555556,
             "#d8576b"
            ],
            [
             0.6666666666666666,
             "#ed7953"
            ],
            [
             0.7777777777777778,
             "#fb9f3a"
            ],
            [
             0.8888888888888888,
             "#fdca26"
            ],
            [
             1,
             "#f0f921"
            ]
           ]
          },
          "colorway": [
           "#636efa",
           "#EF553B",
           "#00cc96",
           "#ab63fa",
           "#FFA15A",
           "#19d3f3",
           "#FF6692",
           "#B6E880",
           "#FF97FF",
           "#FECB52"
          ],
          "font": {
           "color": "#2a3f5f"
          },
          "geo": {
           "bgcolor": "white",
           "lakecolor": "white",
           "landcolor": "#E5ECF6",
           "showlakes": true,
           "showland": true,
           "subunitcolor": "white"
          },
          "hoverlabel": {
           "align": "left"
          },
          "hovermode": "closest",
          "mapbox": {
           "style": "light"
          },
          "paper_bgcolor": "white",
          "plot_bgcolor": "#E5ECF6",
          "polar": {
           "angularaxis": {
            "gridcolor": "white",
            "linecolor": "white",
            "ticks": ""
           },
           "bgcolor": "#E5ECF6",
           "radialaxis": {
            "gridcolor": "white",
            "linecolor": "white",
            "ticks": ""
           }
          },
          "scene": {
           "xaxis": {
            "backgroundcolor": "#E5ECF6",
            "gridcolor": "white",
            "gridwidth": 2,
            "linecolor": "white",
            "showbackground": true,
            "ticks": "",
            "zerolinecolor": "white"
           },
           "yaxis": {
            "backgroundcolor": "#E5ECF6",
            "gridcolor": "white",
            "gridwidth": 2,
            "linecolor": "white",
            "showbackground": true,
            "ticks": "",
            "zerolinecolor": "white"
           },
           "zaxis": {
            "backgroundcolor": "#E5ECF6",
            "gridcolor": "white",
            "gridwidth": 2,
            "linecolor": "white",
            "showbackground": true,
            "ticks": "",
            "zerolinecolor": "white"
           }
          },
          "shapedefaults": {
           "line": {
            "color": "#2a3f5f"
           }
          },
          "ternary": {
           "aaxis": {
            "gridcolor": "white",
            "linecolor": "white",
            "ticks": ""
           },
           "baxis": {
            "gridcolor": "white",
            "linecolor": "white",
            "ticks": ""
           },
           "bgcolor": "#E5ECF6",
           "caxis": {
            "gridcolor": "white",
            "linecolor": "white",
            "ticks": ""
           }
          },
          "title": {
           "x": 0.05
          },
          "xaxis": {
           "automargin": true,
           "gridcolor": "white",
           "linecolor": "white",
           "ticks": "",
           "title": {
            "standoff": 15
           },
           "zerolinecolor": "white",
           "zerolinewidth": 2
          },
          "yaxis": {
           "automargin": true,
           "gridcolor": "white",
           "linecolor": "white",
           "ticks": "",
           "title": {
            "standoff": 15
           },
           "zerolinecolor": "white",
           "zerolinewidth": 2
          }
         }
        },
        "title": {
         "text": "Number of Power Outages per Year"
        },
        "xaxis": {
         "anchor": "y",
         "domain": [
          0,
          1
         ],
         "title": {
          "text": "YEAR"
         }
        },
        "yaxis": {
         "anchor": "x",
         "domain": [
          0,
          1
         ],
         "title": {
          "text": "value"
         }
        }
       }
      }
     },
     "metadata": {},
     "output_type": "display_data"
    }
   ],
   "source": [
    "cleaned.groupby(\"YEAR\").size().plot(\n",
    "    kind=\"bar\", title=\"Number of Power Outages per Year\"\n",
    ")"
   ]
  },
  {
   "cell_type": "code",
   "execution_count": 8,
   "metadata": {},
   "outputs": [
    {
     "data": {
      "application/vnd.plotly.v1+json": {
       "config": {
        "plotlyServerURL": "https://plot.ly"
       },
       "data": [
        {
         "hovertemplate": "variable=0<br>TIME=%{x}<br>value=%{y}<extra></extra>",
         "legendgroup": "0",
         "line": {
          "color": "#636efa",
          "dash": "solid"
         },
         "marker": {
          "symbol": "circle"
         },
         "mode": "lines",
         "name": "0",
         "orientation": "v",
         "showlegend": true,
         "type": "scatter",
         "x": [
          "2000-01",
          "2000-03",
          "2000-05",
          "2000-06",
          "2000-08",
          "2000-12",
          "2001-01",
          "2001-03",
          "2001-05",
          "2001-06",
          "2001-08",
          "2002-01",
          "2002-02",
          "2002-03",
          "2002-04",
          "2002-08",
          "2002-10",
          "2002-11",
          "2002-12",
          "2003-01",
          "2003-02",
          "2003-04",
          "2003-05",
          "2003-06",
          "2003-07",
          "2003-08",
          "2003-09",
          "2003-10",
          "2003-11",
          "2003-12",
          "2004-01",
          "2004-02",
          "2004-03",
          "2004-04",
          "2004-05",
          "2004-06",
          "2004-07",
          "2004-08",
          "2004-09",
          "2004-10",
          "2004-11",
          "2004-12",
          "2005-01",
          "2005-03",
          "2005-04",
          "2005-05",
          "2005-06",
          "2005-07",
          "2005-08",
          "2005-09",
          "2005-10",
          "2005-11",
          "2005-12",
          "2006-01",
          "2006-02",
          "2006-03",
          "2006-04",
          "2006-05",
          "2006-06",
          "2006-07",
          "2006-08",
          "2006-09",
          "2006-10",
          "2006-11",
          "2006-12",
          "2007-01",
          "2007-02",
          "2007-03",
          "2007-04",
          "2007-05",
          "2007-06",
          "2007-07",
          "2007-08",
          "2007-09",
          "2007-10",
          "2007-12",
          "2008-01",
          "2008-02",
          "2008-03",
          "2008-04",
          "2008-05",
          "2008-06",
          "2008-07",
          "2008-08",
          "2008-09",
          "2008-10",
          "2008-11",
          "2008-12",
          "2009-01",
          "2009-02",
          "2009-03",
          "2009-04",
          "2009-05",
          "2009-06",
          "2009-07",
          "2009-08",
          "2009-10",
          "2009-11",
          "2009-12",
          "2010-01",
          "2010-02",
          "2010-03",
          "2010-04",
          "2010-05",
          "2010-06",
          "2010-07",
          "2010-08",
          "2010-09",
          "2010-10",
          "2010-11",
          "2010-12",
          "2011-01",
          "2011-02",
          "2011-03",
          "2011-04",
          "2011-05",
          "2011-06",
          "2011-07",
          "2011-08",
          "2011-09",
          "2011-10",
          "2011-11",
          "2011-12",
          "2012-01",
          "2012-02",
          "2012-03",
          "2012-04",
          "2012-05",
          "2012-06",
          "2012-07",
          "2012-08",
          "2012-09",
          "2012-10",
          "2012-11",
          "2012-12",
          "2013-01",
          "2013-02",
          "2013-03",
          "2013-04",
          "2013-05",
          "2013-06",
          "2013-07",
          "2013-08",
          "2013-09",
          "2013-10",
          "2013-11",
          "2013-12",
          "2014-01",
          "2014-02",
          "2014-03",
          "2014-04",
          "2014-05",
          "2014-06",
          "2015-01",
          "2015-02",
          "2015-03",
          "2015-04",
          "2015-05",
          "2015-06",
          "2015-07",
          "2015-08",
          "2015-09",
          "2015-10",
          "2015-11",
          "2015-12",
          "2016-01",
          "2016-02",
          "2016-03",
          "2016-04",
          "2016-05",
          "2016-06",
          "2016-07"
         ],
         "xaxis": "x",
         "y": [
          2,
          3,
          6,
          3,
          4,
          1,
          2,
          6,
          3,
          3,
          1,
          2,
          1,
          1,
          1,
          2,
          1,
          2,
          6,
          1,
          1,
          4,
          2,
          1,
          11,
          7,
          5,
          1,
          7,
          6,
          7,
          4,
          3,
          3,
          10,
          6,
          8,
          9,
          11,
          5,
          2,
          3,
          5,
          1,
          3,
          2,
          8,
          7,
          9,
          11,
          3,
          4,
          2,
          2,
          10,
          1,
          7,
          2,
          4,
          12,
          2,
          3,
          8,
          4,
          11,
          2,
          4,
          1,
          6,
          6,
          4,
          7,
          8,
          7,
          6,
          5,
          6,
          16,
          1,
          1,
          8,
          22,
          12,
          7,
          18,
          2,
          3,
          15,
          14,
          6,
          5,
          7,
          3,
          12,
          11,
          8,
          5,
          1,
          6,
          7,
          9,
          8,
          3,
          1,
          23,
          13,
          13,
          8,
          8,
          7,
          6,
          14,
          21,
          17,
          21,
          30,
          27,
          35,
          45,
          19,
          19,
          6,
          15,
          15,
          11,
          12,
          18,
          7,
          22,
          21,
          11,
          5,
          36,
          9,
          7,
          10,
          12,
          8,
          10,
          17,
          21,
          15,
          19,
          3,
          7,
          18,
          13,
          38,
          20,
          15,
          9,
          12,
          18,
          4,
          12,
          8,
          9,
          8,
          18,
          16,
          8,
          4,
          8,
          9,
          15,
          5,
          9,
          10,
          9,
          10,
          3,
          13
         ],
         "yaxis": "y"
        }
       ],
       "layout": {
        "legend": {
         "title": {
          "text": "variable"
         },
         "tracegroupgap": 0
        },
        "margin": {
         "t": 60
        },
        "template": {
         "data": {
          "bar": [
           {
            "error_x": {
             "color": "#2a3f5f"
            },
            "error_y": {
             "color": "#2a3f5f"
            },
            "marker": {
             "line": {
              "color": "#E5ECF6",
              "width": 0.5
             },
             "pattern": {
              "fillmode": "overlay",
              "size": 10,
              "solidity": 0.2
             }
            },
            "type": "bar"
           }
          ],
          "barpolar": [
           {
            "marker": {
             "line": {
              "color": "#E5ECF6",
              "width": 0.5
             },
             "pattern": {
              "fillmode": "overlay",
              "size": 10,
              "solidity": 0.2
             }
            },
            "type": "barpolar"
           }
          ],
          "carpet": [
           {
            "aaxis": {
             "endlinecolor": "#2a3f5f",
             "gridcolor": "white",
             "linecolor": "white",
             "minorgridcolor": "white",
             "startlinecolor": "#2a3f5f"
            },
            "baxis": {
             "endlinecolor": "#2a3f5f",
             "gridcolor": "white",
             "linecolor": "white",
             "minorgridcolor": "white",
             "startlinecolor": "#2a3f5f"
            },
            "type": "carpet"
           }
          ],
          "choropleth": [
           {
            "colorbar": {
             "outlinewidth": 0,
             "ticks": ""
            },
            "type": "choropleth"
           }
          ],
          "contour": [
           {
            "colorbar": {
             "outlinewidth": 0,
             "ticks": ""
            },
            "colorscale": [
             [
              0,
              "#0d0887"
             ],
             [
              0.1111111111111111,
              "#46039f"
             ],
             [
              0.2222222222222222,
              "#7201a8"
             ],
             [
              0.3333333333333333,
              "#9c179e"
             ],
             [
              0.4444444444444444,
              "#bd3786"
             ],
             [
              0.5555555555555556,
              "#d8576b"
             ],
             [
              0.6666666666666666,
              "#ed7953"
             ],
             [
              0.7777777777777778,
              "#fb9f3a"
             ],
             [
              0.8888888888888888,
              "#fdca26"
             ],
             [
              1,
              "#f0f921"
             ]
            ],
            "type": "contour"
           }
          ],
          "contourcarpet": [
           {
            "colorbar": {
             "outlinewidth": 0,
             "ticks": ""
            },
            "type": "contourcarpet"
           }
          ],
          "heatmap": [
           {
            "colorbar": {
             "outlinewidth": 0,
             "ticks": ""
            },
            "colorscale": [
             [
              0,
              "#0d0887"
             ],
             [
              0.1111111111111111,
              "#46039f"
             ],
             [
              0.2222222222222222,
              "#7201a8"
             ],
             [
              0.3333333333333333,
              "#9c179e"
             ],
             [
              0.4444444444444444,
              "#bd3786"
             ],
             [
              0.5555555555555556,
              "#d8576b"
             ],
             [
              0.6666666666666666,
              "#ed7953"
             ],
             [
              0.7777777777777778,
              "#fb9f3a"
             ],
             [
              0.8888888888888888,
              "#fdca26"
             ],
             [
              1,
              "#f0f921"
             ]
            ],
            "type": "heatmap"
           }
          ],
          "heatmapgl": [
           {
            "colorbar": {
             "outlinewidth": 0,
             "ticks": ""
            },
            "colorscale": [
             [
              0,
              "#0d0887"
             ],
             [
              0.1111111111111111,
              "#46039f"
             ],
             [
              0.2222222222222222,
              "#7201a8"
             ],
             [
              0.3333333333333333,
              "#9c179e"
             ],
             [
              0.4444444444444444,
              "#bd3786"
             ],
             [
              0.5555555555555556,
              "#d8576b"
             ],
             [
              0.6666666666666666,
              "#ed7953"
             ],
             [
              0.7777777777777778,
              "#fb9f3a"
             ],
             [
              0.8888888888888888,
              "#fdca26"
             ],
             [
              1,
              "#f0f921"
             ]
            ],
            "type": "heatmapgl"
           }
          ],
          "histogram": [
           {
            "marker": {
             "pattern": {
              "fillmode": "overlay",
              "size": 10,
              "solidity": 0.2
             }
            },
            "type": "histogram"
           }
          ],
          "histogram2d": [
           {
            "colorbar": {
             "outlinewidth": 0,
             "ticks": ""
            },
            "colorscale": [
             [
              0,
              "#0d0887"
             ],
             [
              0.1111111111111111,
              "#46039f"
             ],
             [
              0.2222222222222222,
              "#7201a8"
             ],
             [
              0.3333333333333333,
              "#9c179e"
             ],
             [
              0.4444444444444444,
              "#bd3786"
             ],
             [
              0.5555555555555556,
              "#d8576b"
             ],
             [
              0.6666666666666666,
              "#ed7953"
             ],
             [
              0.7777777777777778,
              "#fb9f3a"
             ],
             [
              0.8888888888888888,
              "#fdca26"
             ],
             [
              1,
              "#f0f921"
             ]
            ],
            "type": "histogram2d"
           }
          ],
          "histogram2dcontour": [
           {
            "colorbar": {
             "outlinewidth": 0,
             "ticks": ""
            },
            "colorscale": [
             [
              0,
              "#0d0887"
             ],
             [
              0.1111111111111111,
              "#46039f"
             ],
             [
              0.2222222222222222,
              "#7201a8"
             ],
             [
              0.3333333333333333,
              "#9c179e"
             ],
             [
              0.4444444444444444,
              "#bd3786"
             ],
             [
              0.5555555555555556,
              "#d8576b"
             ],
             [
              0.6666666666666666,
              "#ed7953"
             ],
             [
              0.7777777777777778,
              "#fb9f3a"
             ],
             [
              0.8888888888888888,
              "#fdca26"
             ],
             [
              1,
              "#f0f921"
             ]
            ],
            "type": "histogram2dcontour"
           }
          ],
          "mesh3d": [
           {
            "colorbar": {
             "outlinewidth": 0,
             "ticks": ""
            },
            "type": "mesh3d"
           }
          ],
          "parcoords": [
           {
            "line": {
             "colorbar": {
              "outlinewidth": 0,
              "ticks": ""
             }
            },
            "type": "parcoords"
           }
          ],
          "pie": [
           {
            "automargin": true,
            "type": "pie"
           }
          ],
          "scatter": [
           {
            "fillpattern": {
             "fillmode": "overlay",
             "size": 10,
             "solidity": 0.2
            },
            "type": "scatter"
           }
          ],
          "scatter3d": [
           {
            "line": {
             "colorbar": {
              "outlinewidth": 0,
              "ticks": ""
             }
            },
            "marker": {
             "colorbar": {
              "outlinewidth": 0,
              "ticks": ""
             }
            },
            "type": "scatter3d"
           }
          ],
          "scattercarpet": [
           {
            "marker": {
             "colorbar": {
              "outlinewidth": 0,
              "ticks": ""
             }
            },
            "type": "scattercarpet"
           }
          ],
          "scattergeo": [
           {
            "marker": {
             "colorbar": {
              "outlinewidth": 0,
              "ticks": ""
             }
            },
            "type": "scattergeo"
           }
          ],
          "scattergl": [
           {
            "marker": {
             "colorbar": {
              "outlinewidth": 0,
              "ticks": ""
             }
            },
            "type": "scattergl"
           }
          ],
          "scattermapbox": [
           {
            "marker": {
             "colorbar": {
              "outlinewidth": 0,
              "ticks": ""
             }
            },
            "type": "scattermapbox"
           }
          ],
          "scatterpolar": [
           {
            "marker": {
             "colorbar": {
              "outlinewidth": 0,
              "ticks": ""
             }
            },
            "type": "scatterpolar"
           }
          ],
          "scatterpolargl": [
           {
            "marker": {
             "colorbar": {
              "outlinewidth": 0,
              "ticks": ""
             }
            },
            "type": "scatterpolargl"
           }
          ],
          "scatterternary": [
           {
            "marker": {
             "colorbar": {
              "outlinewidth": 0,
              "ticks": ""
             }
            },
            "type": "scatterternary"
           }
          ],
          "surface": [
           {
            "colorbar": {
             "outlinewidth": 0,
             "ticks": ""
            },
            "colorscale": [
             [
              0,
              "#0d0887"
             ],
             [
              0.1111111111111111,
              "#46039f"
             ],
             [
              0.2222222222222222,
              "#7201a8"
             ],
             [
              0.3333333333333333,
              "#9c179e"
             ],
             [
              0.4444444444444444,
              "#bd3786"
             ],
             [
              0.5555555555555556,
              "#d8576b"
             ],
             [
              0.6666666666666666,
              "#ed7953"
             ],
             [
              0.7777777777777778,
              "#fb9f3a"
             ],
             [
              0.8888888888888888,
              "#fdca26"
             ],
             [
              1,
              "#f0f921"
             ]
            ],
            "type": "surface"
           }
          ],
          "table": [
           {
            "cells": {
             "fill": {
              "color": "#EBF0F8"
             },
             "line": {
              "color": "white"
             }
            },
            "header": {
             "fill": {
              "color": "#C8D4E3"
             },
             "line": {
              "color": "white"
             }
            },
            "type": "table"
           }
          ]
         },
         "layout": {
          "annotationdefaults": {
           "arrowcolor": "#2a3f5f",
           "arrowhead": 0,
           "arrowwidth": 1
          },
          "autotypenumbers": "strict",
          "coloraxis": {
           "colorbar": {
            "outlinewidth": 0,
            "ticks": ""
           }
          },
          "colorscale": {
           "diverging": [
            [
             0,
             "#8e0152"
            ],
            [
             0.1,
             "#c51b7d"
            ],
            [
             0.2,
             "#de77ae"
            ],
            [
             0.3,
             "#f1b6da"
            ],
            [
             0.4,
             "#fde0ef"
            ],
            [
             0.5,
             "#f7f7f7"
            ],
            [
             0.6,
             "#e6f5d0"
            ],
            [
             0.7,
             "#b8e186"
            ],
            [
             0.8,
             "#7fbc41"
            ],
            [
             0.9,
             "#4d9221"
            ],
            [
             1,
             "#276419"
            ]
           ],
           "sequential": [
            [
             0,
             "#0d0887"
            ],
            [
             0.1111111111111111,
             "#46039f"
            ],
            [
             0.2222222222222222,
             "#7201a8"
            ],
            [
             0.3333333333333333,
             "#9c179e"
            ],
            [
             0.4444444444444444,
             "#bd3786"
            ],
            [
             0.5555555555555556,
             "#d8576b"
            ],
            [
             0.6666666666666666,
             "#ed7953"
            ],
            [
             0.7777777777777778,
             "#fb9f3a"
            ],
            [
             0.8888888888888888,
             "#fdca26"
            ],
            [
             1,
             "#f0f921"
            ]
           ],
           "sequentialminus": [
            [
             0,
             "#0d0887"
            ],
            [
             0.1111111111111111,
             "#46039f"
            ],
            [
             0.2222222222222222,
             "#7201a8"
            ],
            [
             0.3333333333333333,
             "#9c179e"
            ],
            [
             0.4444444444444444,
             "#bd3786"
            ],
            [
             0.5555555555555556,
             "#d8576b"
            ],
            [
             0.6666666666666666,
             "#ed7953"
            ],
            [
             0.7777777777777778,
             "#fb9f3a"
            ],
            [
             0.8888888888888888,
             "#fdca26"
            ],
            [
             1,
             "#f0f921"
            ]
           ]
          },
          "colorway": [
           "#636efa",
           "#EF553B",
           "#00cc96",
           "#ab63fa",
           "#FFA15A",
           "#19d3f3",
           "#FF6692",
           "#B6E880",
           "#FF97FF",
           "#FECB52"
          ],
          "font": {
           "color": "#2a3f5f"
          },
          "geo": {
           "bgcolor": "white",
           "lakecolor": "white",
           "landcolor": "#E5ECF6",
           "showlakes": true,
           "showland": true,
           "subunitcolor": "white"
          },
          "hoverlabel": {
           "align": "left"
          },
          "hovermode": "closest",
          "mapbox": {
           "style": "light"
          },
          "paper_bgcolor": "white",
          "plot_bgcolor": "#E5ECF6",
          "polar": {
           "angularaxis": {
            "gridcolor": "white",
            "linecolor": "white",
            "ticks": ""
           },
           "bgcolor": "#E5ECF6",
           "radialaxis": {
            "gridcolor": "white",
            "linecolor": "white",
            "ticks": ""
           }
          },
          "scene": {
           "xaxis": {
            "backgroundcolor": "#E5ECF6",
            "gridcolor": "white",
            "gridwidth": 2,
            "linecolor": "white",
            "showbackground": true,
            "ticks": "",
            "zerolinecolor": "white"
           },
           "yaxis": {
            "backgroundcolor": "#E5ECF6",
            "gridcolor": "white",
            "gridwidth": 2,
            "linecolor": "white",
            "showbackground": true,
            "ticks": "",
            "zerolinecolor": "white"
           },
           "zaxis": {
            "backgroundcolor": "#E5ECF6",
            "gridcolor": "white",
            "gridwidth": 2,
            "linecolor": "white",
            "showbackground": true,
            "ticks": "",
            "zerolinecolor": "white"
           }
          },
          "shapedefaults": {
           "line": {
            "color": "#2a3f5f"
           }
          },
          "ternary": {
           "aaxis": {
            "gridcolor": "white",
            "linecolor": "white",
            "ticks": ""
           },
           "baxis": {
            "gridcolor": "white",
            "linecolor": "white",
            "ticks": ""
           },
           "bgcolor": "#E5ECF6",
           "caxis": {
            "gridcolor": "white",
            "linecolor": "white",
            "ticks": ""
           }
          },
          "title": {
           "x": 0.05
          },
          "xaxis": {
           "automargin": true,
           "gridcolor": "white",
           "linecolor": "white",
           "ticks": "",
           "title": {
            "standoff": 15
           },
           "zerolinecolor": "white",
           "zerolinewidth": 2
          },
          "yaxis": {
           "automargin": true,
           "gridcolor": "white",
           "linecolor": "white",
           "ticks": "",
           "title": {
            "standoff": 15
           },
           "zerolinecolor": "white",
           "zerolinewidth": 2
          }
         }
        },
        "xaxis": {
         "anchor": "y",
         "domain": [
          0,
          1
         ],
         "title": {
          "text": "TIME"
         }
        },
        "yaxis": {
         "anchor": "x",
         "domain": [
          0,
          1
         ],
         "title": {
          "text": "value"
         }
        }
       }
      }
     },
     "metadata": {},
     "output_type": "display_data"
    }
   ],
   "source": [
    "(\n",
    "    cleaned.assign(TIME=cleaned[\"OUTAGE.START\"].dt.strftime(\"%Y-%m\"))\n",
    "    .groupby(\"TIME\")\n",
    "    .size()\n",
    "    .plot()\n",
    ")"
   ]
  },
  {
   "cell_type": "code",
   "execution_count": 9,
   "metadata": {},
   "outputs": [
    {
     "data": {
      "application/vnd.plotly.v1+json": {
       "config": {
        "plotlyServerURL": "https://plot.ly"
       },
       "data": [
        {
         "hovertemplate": "CUSTOMERS.AFFECTED=%{x}<br>DEMAND.LOSS.MW=%{y}<extra></extra>",
         "legendgroup": "",
         "marker": {
          "color": "#636efa",
          "symbol": "circle"
         },
         "mode": "markers",
         "name": "",
         "orientation": "v",
         "showlegend": false,
         "type": "scatter",
         "x": [
          250000,
          300000,
          5941,
          64000,
          63000,
          73000,
          215,
          38500,
          105000,
          63000,
          136000,
          48000,
          7000,
          52000,
          110000,
          7600,
          120000,
          51160,
          265000,
          113000,
          53000,
          245000,
          2100000,
          425000,
          78213,
          140000,
          70793,
          134288,
          105000,
          201580,
          118000,
          131000,
          160000,
          248209,
          285000,
          122000,
          252089,
          2,
          80000,
          130000,
          60175,
          101000,
          239663,
          150000,
          111393,
          250000,
          75000,
          358000,
          127534,
          122600,
          140735,
          66000,
          160000,
          114711,
          159870,
          99000,
          272355,
          315000,
          190000,
          82000,
          103000,
          129607,
          65000,
          30000,
          86013,
          3314,
          119000,
          489478,
          108000,
          98700,
          79000,
          200000,
          200000,
          68530,
          67000,
          2142678,
          60000,
          262000,
          192000,
          71823,
          73000,
          64801,
          211266,
          83000,
          100000,
          70000,
          80000,
          78000,
          715000,
          100000,
          1069730,
          51404,
          175000,
          43000,
          85000,
          68000,
          17311,
          24506,
          158000,
          73000,
          63000,
          123000,
          9000,
          113247,
          500000,
          82000,
          132000,
          81586,
          62500,
          243000,
          135000,
          9700,
          124000,
          9700,
          9700,
          7500,
          61705,
          9800,
          114791,
          186000,
          215387,
          9600,
          141000,
          9700,
          75000,
          65000,
          111644,
          10000,
          51500,
          127000,
          200000,
          65400,
          135000,
          51000,
          130000,
          68800,
          92090,
          250000,
          145000,
          63992,
          426000,
          76300,
          110433,
          93300,
          89000,
          8000,
          123535,
          175000,
          200000,
          172060,
          123827,
          75000,
          50000,
          187000,
          64000,
          160000,
          47000,
          40911,
          2713,
          69000,
          30000,
          90000,
          60000,
          70000,
          60000,
          122000,
          180000,
          104195,
          650000,
          70000,
          1,
          1,
          181000,
          110000,
          133000,
          85091,
          138000,
          153000,
          155183,
          124000,
          760113,
          600000,
          120000,
          52000,
          82861,
          185000,
          62000,
          124596,
          105000,
          160875,
          132000,
          55000,
          120001,
          106000,
          284000,
          110,
          190000,
          18000,
          3500,
          5763,
          85179,
          74031,
          281000,
          127000,
          95000,
          45000,
          134500,
          175000,
          184000,
          246990,
          1203000,
          50636,
          564728,
          184000,
          245164,
          2000,
          23000,
          100000,
          60000,
          72000,
          12000,
          70135,
          6100,
          1200,
          103776,
          203345,
          50718,
          130000,
          1200,
          340000,
          71000,
          51600,
          12000,
          50000,
          112000,
          136000,
          61377,
          175000,
          50000,
          320000,
          370900,
          156338,
          100000,
          197000,
          135000,
          73000,
          156729,
          140000,
          130000,
          75654,
          665000,
          360000,
          125000,
          677858,
          120124,
          133000,
          150000,
          81000,
          677858,
          2500,
          71000,
          3,
          84500,
          52000,
          40000,
          425000,
          83000,
          62500,
          53000,
          20000,
          95000,
          18400,
          140000,
          215000,
          21000,
          160000,
          300000,
          56645,
          18600,
          190000,
          54316,
          68000,
          3125350,
          137000,
          200000,
          50280,
          18600,
          61000,
          120000,
          250000,
          18600,
          59057,
          1,
          143000,
          11000,
          11000,
          150000,
          50000,
          190000,
          50000,
          21800,
          28000,
          125000,
          68018,
          584384,
          25000,
          105000,
          150000,
          1200000,
          179000,
          42124,
          53965,
          31000,
          2775093,
          37,
          110000,
          78000,
          84900,
          56000,
          47661,
          722000,
          104498,
          832898,
          32593,
          285300,
          268000,
          3241437,
          26000,
          502000,
          23000,
          26000,
          87000,
          20900,
          16500,
          128050,
          124000,
          900000,
          37784,
          6810,
          15000,
          26000,
          150000,
          290000,
          10000,
          850068,
          70000,
          10008,
          407440,
          477,
          50000,
          130000,
          727,
          484,
          1,
          48400,
          58850,
          94000,
          433,
          55655,
          442000,
          30000,
          89500,
          4300,
          100000,
          1271893,
          80000,
          80000,
          505000,
          409000,
          65255,
          939000,
          6800,
          2606931,
          109750,
          7077,
          1700000,
          255000,
          59458,
          95000,
          50000,
          2035,
          241000,
          78164,
          9956,
          182000,
          859554,
          70,
          165000,
          140000,
          1667316,
          280000,
          385000,
          125000,
          55677,
          1,
          127,
          133900,
          32000,
          4,
          2650,
          5314,
          200000,
          54332,
          6635,
          70,
          128000,
          2674,
          940,
          20345,
          70848,
          300000,
          90323,
          263000,
          104000,
          638,
          1400000,
          158977,
          1500000,
          1400000,
          68780,
          9956,
          7077,
          123000,
          1,
          115500,
          1,
          60000,
          671189,
          120000,
          400000,
          215700,
          13000,
          7935,
          25159,
          8000,
          50797,
          115000,
          51580,
          88000,
          88110,
          67000,
          37000,
          60000,
          119000,
          150084,
          156000,
          56000,
          175000,
          107000,
          81000,
          880000,
          119000,
          217000,
          253800,
          114618,
          233000,
          130000,
          75000,
          80000,
          58500,
          67000,
          126000,
          283000,
          190000,
          126000,
          120212,
          15000,
          35500,
          500000,
          47165,
          82000,
          30689,
          150000,
          218783,
          93828,
          52659,
          186035,
          109000,
          80539,
          83450,
          66445,
          102000,
          373835,
          85455,
          169000,
          56400,
          75000,
          50246,
          1881134,
          14500,
          92748,
          56874,
          1500,
          29250,
          130000,
          380000,
          50500,
          300000,
          1,
          63000,
          50462,
          110000,
          35230,
          86058,
          31000,
          30379,
          270000,
          95000,
          211000,
          294000,
          62000,
          59886,
          29300,
          291000,
          35000,
          34500,
          14273
         ],
         "xaxis": "x",
         "y": [
          250,
          75,
          20,
          100,
          300,
          300,
          1,
          494,
          300,
          359,
          860,
          10,
          15,
          150,
          600,
          30,
          424,
          220,
          700,
          250,
          366,
          82,
          11000,
          300,
          585,
          50,
          75,
          50,
          55,
          1826,
          212,
          82,
          262,
          200,
          240,
          60,
          100,
          240,
          340,
          371,
          210,
          1007,
          125,
          500,
          218,
          630,
          400,
          100,
          540,
          303,
          350,
          500,
          75,
          1000,
          700,
          75,
          408,
          150,
          190,
          400,
          254,
          500,
          254,
          350,
          400,
          12,
          150,
          380,
          265,
          399,
          485,
          1000,
          260,
          212,
          179,
          8087,
          399,
          294,
          476,
          153,
          491,
          350,
          703,
          221,
          300,
          220,
          544,
          473,
          1950,
          400,
          4000,
          108,
          920,
          46,
          100,
          260,
          117,
          350,
          176,
          51,
          300,
          328,
          40,
          650,
          1900,
          219,
          250,
          746,
          85,
          672,
          600,
          47,
          15,
          50,
          57,
          38,
          535,
          49,
          545,
          1000,
          1024,
          50,
          200,
          41,
          506,
          217,
          366,
          30,
          350,
          127,
          200,
          200,
          300,
          371,
          80,
          300,
          184,
          250,
          150,
          180,
          1600,
          115,
          260,
          244,
          900,
          100,
          420,
          750,
          175,
          360,
          150,
          280,
          50,
          300,
          1200,
          5299,
          1000,
          138,
          2,
          3963,
          200,
          440,
          354,
          300,
          300,
          270,
          500,
          400,
          2000,
          335,
          1,
          1,
          800,
          375,
          625,
          60,
          160,
          1500,
          400,
          480,
          1114,
          1465,
          15,
          156,
          389,
          750,
          200,
          72,
          600,
          546,
          130,
          90,
          150,
          250,
          110,
          2,
          600,
          70,
          21,
          6,
          461,
          2818,
          392,
          177,
          1000,
          380,
          11000,
          500,
          168,
          250,
          7000,
          400,
          469,
          168,
          430,
          7,
          206,
          475,
          215,
          70,
          40,
          300,
          48,
          3,
          400,
          600,
          300,
          500,
          2,
          1000,
          300,
          180,
          40,
          600,
          400,
          200,
          250,
          1000,
          175,
          1655,
          1500,
          198,
          400,
          125,
          55,
          90,
          438,
          320,
          80,
          215,
          500,
          100,
          450,
          4545,
          700,
          450,
          600,
          300,
          4853,
          12,
          210,
          32,
          350,
          140,
          700,
          3000,
          266,
          200,
          135,
          200,
          210,
          95,
          400,
          750,
          200,
          225,
          650,
          82,
          100,
          200,
          50,
          400,
          11202,
          460,
          250,
          180,
          100,
          200,
          353,
          600,
          30,
          350,
          150,
          300,
          32,
          33,
          400,
          40,
          700,
          300,
          103,
          163,
          350,
          150,
          3200,
          51,
          280,
          500,
          1400,
          250,
          283,
          318,
          55,
          6000,
          180,
          350,
          250,
          148,
          120,
          140,
          1800,
          297,
          2100,
          113,
          1250,
          1100,
          10000,
          125,
          1300,
          65,
          125,
          206,
          150,
          27,
          197,
          685,
          2578,
          119,
          13850,
          31,
          180,
          300,
          324,
          30,
          420,
          300,
          10,
          140,
          3,
          2650,
          308,
          5,
          5,
          80,
          55,
          300,
          90,
          115,
          300,
          120,
          300,
          150,
          7,
          300,
          200,
          91,
          91,
          240,
          864,
          240,
          270,
          15,
          500,
          220,
          22,
          290,
          300,
          103,
          100,
          110,
          3,
          160,
          160,
          24,
          480,
          350,
          1,
          295,
          250,
          800,
          512,
          56,
          250,
          88,
          200,
          5,
          206,
          130,
          20,
          3,
          10,
          208,
          150,
          9,
          30,
          91,
          16,
          662,
          280,
          225,
          700,
          451,
          170,
          240,
          1,
          3900,
          200,
          180,
          3300,
          199,
          29,
          22,
          200,
          136,
          211,
          1,
          75,
          110,
          150,
          430,
          600,
          50,
          45,
          84,
          40,
          650,
          900,
          150,
          293,
          120,
          300,
          143,
          240,
          188,
          600,
          520,
          250,
          790,
          72,
          950,
          5000,
          475,
          210,
          850,
          170,
          400,
          63,
          300,
          120,
          100,
          335,
          250,
          900,
          600,
          650,
          428,
          400,
          101,
          1040,
          10,
          83,
          150,
          2200,
          729,
          312,
          75,
          620,
          363,
          100,
          100,
          221,
          290,
          1246,
          854,
          563,
          130,
          75,
          50,
          500,
          92,
          500,
          280,
          8,
          51,
          340,
          22700,
          200,
          630,
          1,
          75,
          50,
          180,
          123,
          150,
          300,
          120,
          550,
          500,
          200,
          1060,
          220,
          110,
          120,
          1170,
          157,
          155,
          35
         ],
         "yaxis": "y"
        },
        {
         "hovertemplate": "<b>OLS trendline</b><br>log10(DEMAND.LOSS.MW) = 0.446256 * log10(CUSTOMERS.AFFECTED) + 0.176905<br>R<sup>2</sup>=0.419219<br><br>CUSTOMERS.AFFECTED=%{x}<br>DEMAND.LOSS.MW=%{y} <b>(trend)</b><extra></extra>",
         "legendgroup": "",
         "line": {
          "color": "red"
         },
         "marker": {
          "color": "#636efa",
          "symbol": "circle"
         },
         "mode": "lines",
         "name": "",
         "showlegend": false,
         "type": "scatter",
         "x": [
          1,
          1,
          1,
          1,
          1,
          1,
          1,
          1,
          2,
          3,
          4,
          37,
          70,
          70,
          110,
          127,
          215,
          433,
          477,
          484,
          638,
          727,
          940,
          1200,
          1200,
          1500,
          2000,
          2035,
          2500,
          2650,
          2674,
          2713,
          3314,
          3500,
          4300,
          5314,
          5763,
          5941,
          6100,
          6635,
          6800,
          6810,
          7000,
          7077,
          7077,
          7500,
          7600,
          7935,
          8000,
          8000,
          9000,
          9600,
          9700,
          9700,
          9700,
          9700,
          9800,
          9956,
          9956,
          10000,
          10000,
          10008,
          11000,
          11000,
          12000,
          12000,
          13000,
          14273,
          14500,
          15000,
          15000,
          16500,
          17311,
          18000,
          18400,
          18600,
          18600,
          18600,
          20000,
          20345,
          20900,
          21000,
          21800,
          23000,
          23000,
          24506,
          25000,
          25159,
          26000,
          26000,
          26000,
          28000,
          29250,
          29300,
          30000,
          30000,
          30000,
          30379,
          30689,
          31000,
          31000,
          32000,
          32593,
          34500,
          35000,
          35230,
          35500,
          37000,
          37784,
          38500,
          40000,
          40911,
          42124,
          43000,
          45000,
          47000,
          47165,
          47661,
          48000,
          48400,
          50000,
          50000,
          50000,
          50000,
          50000,
          50000,
          50000,
          50246,
          50280,
          50462,
          50500,
          50636,
          50718,
          50797,
          51000,
          51160,
          51404,
          51500,
          51580,
          51600,
          52000,
          52000,
          52000,
          52659,
          53000,
          53000,
          53965,
          54316,
          54332,
          55000,
          55655,
          55677,
          56000,
          56000,
          56400,
          56645,
          56874,
          58500,
          58850,
          59057,
          59458,
          59886,
          60000,
          60000,
          60000,
          60000,
          60000,
          60000,
          60175,
          61000,
          61377,
          61705,
          62000,
          62000,
          62500,
          62500,
          63000,
          63000,
          63000,
          63000,
          63992,
          64000,
          64000,
          64801,
          65000,
          65000,
          65255,
          65400,
          66000,
          66445,
          67000,
          67000,
          67000,
          68000,
          68000,
          68018,
          68530,
          68780,
          68800,
          69000,
          70000,
          70000,
          70000,
          70000,
          70135,
          70793,
          70848,
          71000,
          71000,
          71823,
          72000,
          73000,
          73000,
          73000,
          73000,
          74031,
          75000,
          75000,
          75000,
          75000,
          75000,
          75654,
          76300,
          78000,
          78000,
          78164,
          78213,
          79000,
          80000,
          80000,
          80000,
          80000,
          80000,
          80539,
          81000,
          81000,
          81586,
          82000,
          82000,
          82000,
          82861,
          83000,
          83000,
          83450,
          84500,
          84900,
          85000,
          85091,
          85179,
          85455,
          86013,
          86058,
          87000,
          88000,
          88110,
          89000,
          89500,
          90000,
          90323,
          92090,
          92748,
          93300,
          93828,
          94000,
          95000,
          95000,
          95000,
          95000,
          98700,
          99000,
          100000,
          100000,
          100000,
          100000,
          100000,
          101000,
          102000,
          103000,
          103776,
          104000,
          104195,
          104498,
          105000,
          105000,
          105000,
          105000,
          106000,
          107000,
          108000,
          109000,
          109750,
          110000,
          110000,
          110000,
          110000,
          110433,
          111393,
          111644,
          112000,
          113000,
          113247,
          114618,
          114711,
          114791,
          115000,
          115500,
          118000,
          119000,
          119000,
          119000,
          120000,
          120000,
          120000,
          120000,
          120001,
          120124,
          120212,
          122000,
          122000,
          122600,
          123000,
          123000,
          123535,
          123827,
          124000,
          124000,
          124000,
          124596,
          125000,
          125000,
          125000,
          126000,
          126000,
          127000,
          127000,
          127534,
          128000,
          128050,
          129607,
          130000,
          130000,
          130000,
          130000,
          130000,
          130000,
          130000,
          131000,
          132000,
          132000,
          133000,
          133000,
          133900,
          134288,
          134500,
          135000,
          135000,
          135000,
          136000,
          136000,
          137000,
          138000,
          140000,
          140000,
          140000,
          140000,
          140735,
          141000,
          143000,
          145000,
          150000,
          150000,
          150000,
          150000,
          150000,
          150000,
          150084,
          153000,
          155183,
          156000,
          156338,
          156729,
          158000,
          158977,
          159870,
          160000,
          160000,
          160000,
          160000,
          160875,
          165000,
          169000,
          172060,
          175000,
          175000,
          175000,
          175000,
          175000,
          179000,
          180000,
          181000,
          182000,
          184000,
          184000,
          185000,
          186000,
          186035,
          187000,
          190000,
          190000,
          190000,
          190000,
          190000,
          192000,
          197000,
          200000,
          200000,
          200000,
          200000,
          200000,
          200000,
          201580,
          203345,
          211000,
          211266,
          215000,
          215387,
          215700,
          217000,
          218783,
          233000,
          239663,
          241000,
          243000,
          245000,
          245164,
          246990,
          248209,
          250000,
          250000,
          250000,
          250000,
          252089,
          253800,
          255000,
          262000,
          263000,
          265000,
          268000,
          270000,
          272355,
          280000,
          281000,
          283000,
          284000,
          285000,
          285300,
          290000,
          291000,
          294000,
          300000,
          300000,
          300000,
          300000,
          315000,
          320000,
          340000,
          358000,
          360000,
          370900,
          373835,
          380000,
          385000,
          400000,
          407440,
          409000,
          425000,
          425000,
          426000,
          442000,
          489478,
          500000,
          500000,
          502000,
          505000,
          564728,
          584384,
          600000,
          650000,
          665000,
          671189,
          677858,
          677858,
          715000,
          722000,
          760113,
          832898,
          850068,
          859554,
          880000,
          900000,
          939000,
          1069730,
          1200000,
          1203000,
          1271893,
          1400000,
          1400000,
          1500000,
          1667316,
          1700000,
          1881134,
          2100000,
          2142678,
          2606931,
          2775093,
          3125350,
          3241437
         ],
         "xaxis": "x",
         "y": [
          1.5028117541872164,
          1.5028117541872164,
          1.5028117541872164,
          1.5028117541872164,
          1.5028117541872164,
          1.5028117541872164,
          1.5028117541872164,
          1.5028117541872164,
          2.047581141870954,
          2.453708448056223,
          2.789829478551749,
          7.528778365028765,
          10.006708370881201,
          10.006708370881201,
          12.243031559379848,
          13.053900200419106,
          16.51087103442833,
          22.56596797822045,
          23.56190149615805,
          23.715582269377,
          26.827088094392927,
          28.436909558477304,
          31.8919941497324,
          35.56384201458171,
          35.56384201458171,
          39.28758901412981,
          44.66939585249929,
          45.01656576227277,
          49.346548807716275,
          50.64652898477153,
          50.850709434379944,
          51.18034987251192,
          55.96082830303401,
          57.341274787894626,
          62.85833051966323,
          69.0871840886753,
          71.63376767970847,
          72.6128121318294,
          73.47370537680139,
          76.28255802554737,
          77.1233532475954,
          77.17394557276901,
          78.12749173633804,
          78.50984407434578,
          78.50984407434578,
          80.57033314688066,
          81.0479757699715,
          82.62320611170912,
          82.92455591405692,
          82.92455591405692,
          87.39977021208897,
          89.95354553909642,
          90.37049538098776,
          90.37049538098776,
          90.37049538098776,
          90.37049538098776,
          90.78507170985384,
          91.42715995031188,
          91.42715995031188,
          91.60725296763225,
          91.60725296763225,
          91.63994997914179,
          95.58761098370488,
          95.58761098370488,
          99.37221985337843,
          99.37221985337843,
          102.98590769480606,
          107.37007930797765,
          108.12879192528361,
          109.77708571027121,
          109.77708571027121,
          114.54692749607784,
          117.02607208271114,
          119.08219428781105,
          120.25592606725529,
          120.83749526722484,
          120.83749526722484,
          120.83749526722484,
          124.81488989722014,
          125.77115678251657,
          127.29084320736855,
          127.56227515839196,
          129.70843195352785,
          132.84744088973179,
          132.84744088973179,
          136.66117220397643,
          137.88375550412312,
          138.27440897401888,
          140.31830792300144,
          140.31830792300144,
          140.31830792300144,
          145.0363819181246,
          147.89090799267808,
          148.0036704616497,
          149.57128854203827,
          149.57128854203827,
          149.57128854203827,
          150.41159696992563,
          151.09461414831227,
          151.77600630727764,
          151.77600630727764,
          153.94168294216598,
          155.2082627582755,
          159.1970551730781,
          160.22255870328422,
          160.69156602505439,
          161.2399815135779,
          164.24549640357918,
          165.78955779456123,
          167.18426888703598,
          170.06029801548218,
          171.77793157095536,
          174.03241326781722,
          175.63827433085515,
          179.2379929553892,
          182.7501644192207,
          183.036191181467,
          183.89268392064642,
          184.47523285843533,
          185.15968379420582,
          187.86662850749588,
          187.86662850749588,
          187.86662850749588,
          187.86662850749588,
          187.86662850749588,
          187.86662850749588,
          187.86662850749588,
          188.27854447258875,
          188.33538803527264,
          188.63930698195702,
          188.7026859532383,
          188.92929982785216,
          189.06577182643696,
          189.19713543732024,
          189.5341720689761,
          189.79929355209578,
          190.2027213418494,
          190.36115630233212,
          190.49306055402275,
          190.52601891294165,
          191.18370638361841,
          191.18370638361841,
          191.18370638361841,
          192.26116535904,
          192.81576677330636,
          192.81576677330636,
          194.3746155777398,
          194.9377845151906,
          194.963407940861,
          196.02948042705475,
          197.06786639635644,
          197.1026257076536,
          197.61208260003355,
          197.61208260003355,
          198.240738900057,
          198.6245723238783,
          198.98250874105926,
          201.50137461744606,
          202.03847664311655,
          202.355302018432,
          202.96731071226486,
          203.6180106195539,
          203.7908932577217,
          203.7908932577217,
          203.7908932577217,
          203.7908932577217,
          203.7908932577217,
          203.7908932577217,
          204.05592972025855,
          205.2996749100459,
          205.86492774080938,
          206.3551506952586,
          206.7948213988704,
          206.7948213988704,
          207.53738831835005,
          207.53738831835005,
          208.27667293479666,
          208.27667293479666,
          208.27667293479666,
          208.27667293479666,
          209.73385555669543,
          209.74555599662196,
          209.74555599662196,
          210.91298871082898,
          211.20178409064968,
          211.20178409064968,
          211.5711337985614,
          211.78079981190268,
          212.64565845701836,
          213.28428697158873,
          214.0774687274941,
          214.0774687274941,
          214.0774687274941,
          215.49749353873227,
          215.49749353873227,
          215.52294767522216,
          216.24542038782167,
          216.59710431982214,
          216.62520843317958,
          216.90600110463092,
          218.3032497510576,
          218.3032497510576,
          218.3032497510576,
          218.3032497510576,
          218.49102942424807,
          219.4034287599217,
          219.47948008238106,
          219.68948841592177,
          219.68948841592177,
          220.82227323771372,
          221.06495711729346,
          222.42988739202718,
          222.42988739202718,
          222.42988739202718,
          222.42988739202718,
          223.82633329774194,
          225.12901884585466,
          225.12901884585466,
          225.12901884585466,
          225.12901884585466,
          225.12901884585466,
          226.00297021766448,
          226.86213350735565,
          229.10402224917044,
          229.10402224917044,
          229.3188615445005,
          229.38300289482422,
          230.4101580939847,
          231.70717039392827,
          231.70717039392827,
          231.70717039392827,
          231.70717039392827,
          231.70717039392827,
          232.40253815362385,
          232.995235742005,
          232.995235742005,
          233.74595314322568,
          234.27452518224794,
          234.27452518224794,
          234.27452518224794,
          235.36908924385173,
          235.54520444941298,
          235.54520444941298,
          236.11424403511577,
          237.4354293652194,
          237.93634547916614,
          238.0613702044189,
          238.17507194029653,
          238.28496124430112,
          238.62920685964693,
          239.32330594588743,
          239.37917288717813,
          240.54496100999526,
          241.77490480557827,
          241.9097251335624,
          242.99713321649935,
          243.60539626571583,
          244.21178052386563,
          244.60251348301324,
          246.72648367611944,
          247.5116410690632,
          248.16793818986977,
          248.793691718165,
          248.99711443965458,
          250.1757425166872,
          250.1757425166872,
          250.1757425166872,
          250.1757425166872,
          254.4779589354446,
          254.82284336810324,
          255.96829719160095,
          255.96829719160095,
          255.96829719160095,
          255.96829719160095,
          255.96829719160095,
          257.1074255319627,
          258.24032543480683,
          259.3670915225264,
          260.23729419226896,
          260.48781607767705,
          260.70566116405774,
          261.04371144814854,
          261.60258912272025,
          261.60258912272025,
          261.60258912272025,
          261.60258912272025,
          262.71149849632206,
          263.81462992637813,
          264.9120670999398,
          266.0038917302015,
          266.8191250482163,
          267.09018362069236,
          267.09018362069236,
          267.09018362069236,
          267.09018362069236,
          267.55885118587133,
          268.59431328962035,
          268.86422784280563,
          269.24647921489867,
          270.3166335187709,
          270.5801531916135,
          272.03709431589226,
          272.13557364790626,
          272.2202516846437,
          272.4413189709015,
          272.9692869431195,
          275.5903328572836,
          276.6301347327402,
          276.6301347327402,
          276.6301347327402,
          277.66510925729943,
          277.66510925729943,
          277.66510925729943,
          277.66510925729943,
          277.66614183666405,
          277.7931127811151,
          277.8839096091295,
          279.72082438588575,
          279.72082438588575,
          280.3338947677102,
          280.74168581118465,
          280.74168581118465,
          281.285960078792,
          281.5824714138475,
          281.7579616030533,
          281.7579616030533,
          281.7579616030533,
          282.36150465556136,
          282.769709093494,
          282.769709093494,
          282.769709093494,
          283.77698444577504,
          283.77698444577504,
          284.77984268732365,
          284.77984268732365,
          285.31357853568994,
          285.77833774144085,
          285.8281489129649,
          287.3739123230661,
          287.7624486424143,
          287.7624486424143,
          287.7624486424143,
          287.7624486424143,
          287.7624486424143,
          287.7624486424143,
          287.7624486424143,
          288.74816708520615,
          289.72972758841,
          289.72972758841,
          290.7071789926628,
          290.7071789926628,
          291.5834115891145,
          291.96015901537726,
          292.16575608040296,
          292.6499452122941,
          292.6499452122941,
          292.6499452122941,
          293.61535312785196,
          293.61535312785196,
          294.5768381918877,
          295.5344448052234,
          297.4381962038643,
          297.4381962038643,
          297.4381962038643,
          297.4381962038643,
          298.1340378128523,
          298.384425773691,
          300.2657988911463,
          302.1326570755174,
          306.7383071714093,
          306.7383071714093,
          306.7383071714093,
          306.7383071714093,
          306.7383071714093,
          306.7383071714093,
          306.81495027807165,
          309.4609806618877,
          311.423645580691,
          312.15424964379423,
          312.45588720317636,
          312.8043728156066,
          313.93385984255116,
          314.79866489983283,
          315.5865455375122,
          315.7010392106523,
          315.7010392106523,
          315.7010392106523,
          315.7010392106523,
          316.4703330197386,
          320.06616321156,
          323.50579254232423,
          326.10678309191593,
          328.58175460261685,
          328.58175460261685,
          328.58175460261685,
          328.58175460261685,
          328.58175460261685,
          331.91237296480546,
          332.7385715676947,
          333.5622323802895,
          334.38337715447085,
          336.01820407725336,
          336.01820407725336,
          336.83192822933955,
          337.6432203613667,
          337.6715717860875,
          338.45210075910245,
          340.86447028608814,
          340.86447028608814,
          340.86447028608814,
          340.86447028608814,
          340.86447028608814,
          342.4610176605301,
          346.4125309437578,
          348.75682651937075,
          348.75682651937075,
          348.75682651937075,
          348.75682651937075,
          348.75682651937075,
          348.75682651937075,
          349.9836641703843,
          351.34787052301925,
          357.18998559849587,
          357.3908631101305,
          360.1960474360164,
          360.48523494850036,
          360.71891523076454,
          361.6874683800718,
          363.0106654229269,
          373.3542337651614,
          378.0815811361013,
          379.0213713759896,
          380.4218171065675,
          381.81589465099563,
          381.9299289972232,
          383.19676115985243,
          384.03958769075365,
          385.273752496911,
          385.273752496911,
          385.273752496911,
          385.273752496911,
          386.70709720128957,
          387.87618896283556,
          388.69352305694906,
          393.41940201501586,
          394.08879410898527,
          395.42336281590804,
          397.41480014755103,
          398.7355750423623,
          400.28386098846465,
          405.25956742235724,
          405.90482150708783,
          407.1915257665052,
          407.832989862507,
          408.4732044459782,
          408.66502618508173,
          411.6557707560523,
          412.28862907945194,
          414.1800108358144,
          417.9309694002792,
          417.9309694002792,
          417.9309694002792,
          417.9309694002792,
          427.13033164354266,
          430.1426925599254,
          441.9386702627364,
          452.2306361676947,
          453.3563318338364,
          459.431362549339,
          461.0502163237896,
          464.42786952322314,
          467.1450265991256,
          475.1812055569417,
          479.10526578932445,
          479.9230082293569,
          488.21229268801835,
          488.21229268801835,
          488.72458930114976,
          496.83244096976586,
          519.9768013234784,
          524.9355202822404,
          524.9355202822404,
          525.8715078577355,
          527.2716257084851,
          554.2417374891337,
          562.7689763252981,
          569.4309810683395,
          590.1384364905393,
          596.1774404432106,
          598.647137045559,
          601.2943013659244,
          601.2943013659244,
          615.7800989155403,
          618.4631513668727,
          632.8249956359736,
          659.1831480023911,
          665.2130370454054,
          668.5155035053682,
          675.5656204275866,
          682.3747202299568,
          695.4154679978637,
          737.0658408562927,
          775.8497597479903,
          776.7147310379887,
          796.2587699527562,
          831.0995705650653,
          831.0995705650653,
          857.085870677094,
          898.5027224794708,
          906.3204637157045,
          948.2089244772599,
          995.9439436954553,
          1004.9260661714937,
          1096.8391254829437,
          1127.867033538827,
          1189.3074871499691,
          1208.822050233853
         ],
         "yaxis": "y"
        }
       ],
       "layout": {
        "legend": {
         "tracegroupgap": 0
        },
        "margin": {
         "t": 60
        },
        "template": {
         "data": {
          "bar": [
           {
            "error_x": {
             "color": "#2a3f5f"
            },
            "error_y": {
             "color": "#2a3f5f"
            },
            "marker": {
             "line": {
              "color": "#E5ECF6",
              "width": 0.5
             },
             "pattern": {
              "fillmode": "overlay",
              "size": 10,
              "solidity": 0.2
             }
            },
            "type": "bar"
           }
          ],
          "barpolar": [
           {
            "marker": {
             "line": {
              "color": "#E5ECF6",
              "width": 0.5
             },
             "pattern": {
              "fillmode": "overlay",
              "size": 10,
              "solidity": 0.2
             }
            },
            "type": "barpolar"
           }
          ],
          "carpet": [
           {
            "aaxis": {
             "endlinecolor": "#2a3f5f",
             "gridcolor": "white",
             "linecolor": "white",
             "minorgridcolor": "white",
             "startlinecolor": "#2a3f5f"
            },
            "baxis": {
             "endlinecolor": "#2a3f5f",
             "gridcolor": "white",
             "linecolor": "white",
             "minorgridcolor": "white",
             "startlinecolor": "#2a3f5f"
            },
            "type": "carpet"
           }
          ],
          "choropleth": [
           {
            "colorbar": {
             "outlinewidth": 0,
             "ticks": ""
            },
            "type": "choropleth"
           }
          ],
          "contour": [
           {
            "colorbar": {
             "outlinewidth": 0,
             "ticks": ""
            },
            "colorscale": [
             [
              0,
              "#0d0887"
             ],
             [
              0.1111111111111111,
              "#46039f"
             ],
             [
              0.2222222222222222,
              "#7201a8"
             ],
             [
              0.3333333333333333,
              "#9c179e"
             ],
             [
              0.4444444444444444,
              "#bd3786"
             ],
             [
              0.5555555555555556,
              "#d8576b"
             ],
             [
              0.6666666666666666,
              "#ed7953"
             ],
             [
              0.7777777777777778,
              "#fb9f3a"
             ],
             [
              0.8888888888888888,
              "#fdca26"
             ],
             [
              1,
              "#f0f921"
             ]
            ],
            "type": "contour"
           }
          ],
          "contourcarpet": [
           {
            "colorbar": {
             "outlinewidth": 0,
             "ticks": ""
            },
            "type": "contourcarpet"
           }
          ],
          "heatmap": [
           {
            "colorbar": {
             "outlinewidth": 0,
             "ticks": ""
            },
            "colorscale": [
             [
              0,
              "#0d0887"
             ],
             [
              0.1111111111111111,
              "#46039f"
             ],
             [
              0.2222222222222222,
              "#7201a8"
             ],
             [
              0.3333333333333333,
              "#9c179e"
             ],
             [
              0.4444444444444444,
              "#bd3786"
             ],
             [
              0.5555555555555556,
              "#d8576b"
             ],
             [
              0.6666666666666666,
              "#ed7953"
             ],
             [
              0.7777777777777778,
              "#fb9f3a"
             ],
             [
              0.8888888888888888,
              "#fdca26"
             ],
             [
              1,
              "#f0f921"
             ]
            ],
            "type": "heatmap"
           }
          ],
          "heatmapgl": [
           {
            "colorbar": {
             "outlinewidth": 0,
             "ticks": ""
            },
            "colorscale": [
             [
              0,
              "#0d0887"
             ],
             [
              0.1111111111111111,
              "#46039f"
             ],
             [
              0.2222222222222222,
              "#7201a8"
             ],
             [
              0.3333333333333333,
              "#9c179e"
             ],
             [
              0.4444444444444444,
              "#bd3786"
             ],
             [
              0.5555555555555556,
              "#d8576b"
             ],
             [
              0.6666666666666666,
              "#ed7953"
             ],
             [
              0.7777777777777778,
              "#fb9f3a"
             ],
             [
              0.8888888888888888,
              "#fdca26"
             ],
             [
              1,
              "#f0f921"
             ]
            ],
            "type": "heatmapgl"
           }
          ],
          "histogram": [
           {
            "marker": {
             "pattern": {
              "fillmode": "overlay",
              "size": 10,
              "solidity": 0.2
             }
            },
            "type": "histogram"
           }
          ],
          "histogram2d": [
           {
            "colorbar": {
             "outlinewidth": 0,
             "ticks": ""
            },
            "colorscale": [
             [
              0,
              "#0d0887"
             ],
             [
              0.1111111111111111,
              "#46039f"
             ],
             [
              0.2222222222222222,
              "#7201a8"
             ],
             [
              0.3333333333333333,
              "#9c179e"
             ],
             [
              0.4444444444444444,
              "#bd3786"
             ],
             [
              0.5555555555555556,
              "#d8576b"
             ],
             [
              0.6666666666666666,
              "#ed7953"
             ],
             [
              0.7777777777777778,
              "#fb9f3a"
             ],
             [
              0.8888888888888888,
              "#fdca26"
             ],
             [
              1,
              "#f0f921"
             ]
            ],
            "type": "histogram2d"
           }
          ],
          "histogram2dcontour": [
           {
            "colorbar": {
             "outlinewidth": 0,
             "ticks": ""
            },
            "colorscale": [
             [
              0,
              "#0d0887"
             ],
             [
              0.1111111111111111,
              "#46039f"
             ],
             [
              0.2222222222222222,
              "#7201a8"
             ],
             [
              0.3333333333333333,
              "#9c179e"
             ],
             [
              0.4444444444444444,
              "#bd3786"
             ],
             [
              0.5555555555555556,
              "#d8576b"
             ],
             [
              0.6666666666666666,
              "#ed7953"
             ],
             [
              0.7777777777777778,
              "#fb9f3a"
             ],
             [
              0.8888888888888888,
              "#fdca26"
             ],
             [
              1,
              "#f0f921"
             ]
            ],
            "type": "histogram2dcontour"
           }
          ],
          "mesh3d": [
           {
            "colorbar": {
             "outlinewidth": 0,
             "ticks": ""
            },
            "type": "mesh3d"
           }
          ],
          "parcoords": [
           {
            "line": {
             "colorbar": {
              "outlinewidth": 0,
              "ticks": ""
             }
            },
            "type": "parcoords"
           }
          ],
          "pie": [
           {
            "automargin": true,
            "type": "pie"
           }
          ],
          "scatter": [
           {
            "fillpattern": {
             "fillmode": "overlay",
             "size": 10,
             "solidity": 0.2
            },
            "type": "scatter"
           }
          ],
          "scatter3d": [
           {
            "line": {
             "colorbar": {
              "outlinewidth": 0,
              "ticks": ""
             }
            },
            "marker": {
             "colorbar": {
              "outlinewidth": 0,
              "ticks": ""
             }
            },
            "type": "scatter3d"
           }
          ],
          "scattercarpet": [
           {
            "marker": {
             "colorbar": {
              "outlinewidth": 0,
              "ticks": ""
             }
            },
            "type": "scattercarpet"
           }
          ],
          "scattergeo": [
           {
            "marker": {
             "colorbar": {
              "outlinewidth": 0,
              "ticks": ""
             }
            },
            "type": "scattergeo"
           }
          ],
          "scattergl": [
           {
            "marker": {
             "colorbar": {
              "outlinewidth": 0,
              "ticks": ""
             }
            },
            "type": "scattergl"
           }
          ],
          "scattermapbox": [
           {
            "marker": {
             "colorbar": {
              "outlinewidth": 0,
              "ticks": ""
             }
            },
            "type": "scattermapbox"
           }
          ],
          "scatterpolar": [
           {
            "marker": {
             "colorbar": {
              "outlinewidth": 0,
              "ticks": ""
             }
            },
            "type": "scatterpolar"
           }
          ],
          "scatterpolargl": [
           {
            "marker": {
             "colorbar": {
              "outlinewidth": 0,
              "ticks": ""
             }
            },
            "type": "scatterpolargl"
           }
          ],
          "scatterternary": [
           {
            "marker": {
             "colorbar": {
              "outlinewidth": 0,
              "ticks": ""
             }
            },
            "type": "scatterternary"
           }
          ],
          "surface": [
           {
            "colorbar": {
             "outlinewidth": 0,
             "ticks": ""
            },
            "colorscale": [
             [
              0,
              "#0d0887"
             ],
             [
              0.1111111111111111,
              "#46039f"
             ],
             [
              0.2222222222222222,
              "#7201a8"
             ],
             [
              0.3333333333333333,
              "#9c179e"
             ],
             [
              0.4444444444444444,
              "#bd3786"
             ],
             [
              0.5555555555555556,
              "#d8576b"
             ],
             [
              0.6666666666666666,
              "#ed7953"
             ],
             [
              0.7777777777777778,
              "#fb9f3a"
             ],
             [
              0.8888888888888888,
              "#fdca26"
             ],
             [
              1,
              "#f0f921"
             ]
            ],
            "type": "surface"
           }
          ],
          "table": [
           {
            "cells": {
             "fill": {
              "color": "#EBF0F8"
             },
             "line": {
              "color": "white"
             }
            },
            "header": {
             "fill": {
              "color": "#C8D4E3"
             },
             "line": {
              "color": "white"
             }
            },
            "type": "table"
           }
          ]
         },
         "layout": {
          "annotationdefaults": {
           "arrowcolor": "#2a3f5f",
           "arrowhead": 0,
           "arrowwidth": 1
          },
          "autotypenumbers": "strict",
          "coloraxis": {
           "colorbar": {
            "outlinewidth": 0,
            "ticks": ""
           }
          },
          "colorscale": {
           "diverging": [
            [
             0,
             "#8e0152"
            ],
            [
             0.1,
             "#c51b7d"
            ],
            [
             0.2,
             "#de77ae"
            ],
            [
             0.3,
             "#f1b6da"
            ],
            [
             0.4,
             "#fde0ef"
            ],
            [
             0.5,
             "#f7f7f7"
            ],
            [
             0.6,
             "#e6f5d0"
            ],
            [
             0.7,
             "#b8e186"
            ],
            [
             0.8,
             "#7fbc41"
            ],
            [
             0.9,
             "#4d9221"
            ],
            [
             1,
             "#276419"
            ]
           ],
           "sequential": [
            [
             0,
             "#0d0887"
            ],
            [
             0.1111111111111111,
             "#46039f"
            ],
            [
             0.2222222222222222,
             "#7201a8"
            ],
            [
             0.3333333333333333,
             "#9c179e"
            ],
            [
             0.4444444444444444,
             "#bd3786"
            ],
            [
             0.5555555555555556,
             "#d8576b"
            ],
            [
             0.6666666666666666,
             "#ed7953"
            ],
            [
             0.7777777777777778,
             "#fb9f3a"
            ],
            [
             0.8888888888888888,
             "#fdca26"
            ],
            [
             1,
             "#f0f921"
            ]
           ],
           "sequentialminus": [
            [
             0,
             "#0d0887"
            ],
            [
             0.1111111111111111,
             "#46039f"
            ],
            [
             0.2222222222222222,
             "#7201a8"
            ],
            [
             0.3333333333333333,
             "#9c179e"
            ],
            [
             0.4444444444444444,
             "#bd3786"
            ],
            [
             0.5555555555555556,
             "#d8576b"
            ],
            [
             0.6666666666666666,
             "#ed7953"
            ],
            [
             0.7777777777777778,
             "#fb9f3a"
            ],
            [
             0.8888888888888888,
             "#fdca26"
            ],
            [
             1,
             "#f0f921"
            ]
           ]
          },
          "colorway": [
           "#636efa",
           "#EF553B",
           "#00cc96",
           "#ab63fa",
           "#FFA15A",
           "#19d3f3",
           "#FF6692",
           "#B6E880",
           "#FF97FF",
           "#FECB52"
          ],
          "font": {
           "color": "#2a3f5f"
          },
          "geo": {
           "bgcolor": "white",
           "lakecolor": "white",
           "landcolor": "#E5ECF6",
           "showlakes": true,
           "showland": true,
           "subunitcolor": "white"
          },
          "hoverlabel": {
           "align": "left"
          },
          "hovermode": "closest",
          "mapbox": {
           "style": "light"
          },
          "paper_bgcolor": "white",
          "plot_bgcolor": "#E5ECF6",
          "polar": {
           "angularaxis": {
            "gridcolor": "white",
            "linecolor": "white",
            "ticks": ""
           },
           "bgcolor": "#E5ECF6",
           "radialaxis": {
            "gridcolor": "white",
            "linecolor": "white",
            "ticks": ""
           }
          },
          "scene": {
           "xaxis": {
            "backgroundcolor": "#E5ECF6",
            "gridcolor": "white",
            "gridwidth": 2,
            "linecolor": "white",
            "showbackground": true,
            "ticks": "",
            "zerolinecolor": "white"
           },
           "yaxis": {
            "backgroundcolor": "#E5ECF6",
            "gridcolor": "white",
            "gridwidth": 2,
            "linecolor": "white",
            "showbackground": true,
            "ticks": "",
            "zerolinecolor": "white"
           },
           "zaxis": {
            "backgroundcolor": "#E5ECF6",
            "gridcolor": "white",
            "gridwidth": 2,
            "linecolor": "white",
            "showbackground": true,
            "ticks": "",
            "zerolinecolor": "white"
           }
          },
          "shapedefaults": {
           "line": {
            "color": "#2a3f5f"
           }
          },
          "ternary": {
           "aaxis": {
            "gridcolor": "white",
            "linecolor": "white",
            "ticks": ""
           },
           "baxis": {
            "gridcolor": "white",
            "linecolor": "white",
            "ticks": ""
           },
           "bgcolor": "#E5ECF6",
           "caxis": {
            "gridcolor": "white",
            "linecolor": "white",
            "ticks": ""
           }
          },
          "title": {
           "x": 0.05
          },
          "xaxis": {
           "automargin": true,
           "gridcolor": "white",
           "linecolor": "white",
           "ticks": "",
           "title": {
            "standoff": 15
           },
           "zerolinecolor": "white",
           "zerolinewidth": 2
          },
          "yaxis": {
           "automargin": true,
           "gridcolor": "white",
           "linecolor": "white",
           "ticks": "",
           "title": {
            "standoff": 15
           },
           "zerolinecolor": "white",
           "zerolinewidth": 2
          }
         }
        },
        "xaxis": {
         "anchor": "y",
         "domain": [
          0,
          1
         ],
         "title": {
          "text": "CUSTOMERS.AFFECTED"
         },
         "type": "log"
        },
        "yaxis": {
         "anchor": "x",
         "domain": [
          0,
          1
         ],
         "title": {
          "text": "DEMAND.LOSS.MW"
         },
         "type": "log"
        }
       }
      }
     },
     "metadata": {},
     "output_type": "display_data"
    }
   ],
   "source": [
    "no_zeros = cleaned.drop(\n",
    "    cleaned[\n",
    "        (cleaned[\"DEMAND.LOSS.MW\"] <= 0) & (cleaned[\"CUSTOMERS.AFFECTED\"] <= 0)\n",
    "    ].index\n",
    ")\n",
    "\n",
    "no_zeros[[\"DEMAND.LOSS.MW\", \"CUSTOMERS.AFFECTED\"]].dropna().plot(\n",
    "    kind=\"scatter\",\n",
    "    x=\"CUSTOMERS.AFFECTED\",\n",
    "    y=\"DEMAND.LOSS.MW\",\n",
    "    log_x=True,\n",
    "    log_y=True,\n",
    "    trendline=\"ols\",\n",
    "    trendline_color_override=\"red\",\n",
    "    trendline_options=dict(log_x=True, log_y=True),\n",
    ")"
   ]
  },
  {
   "cell_type": "code",
   "execution_count": 10,
   "metadata": {},
   "outputs": [
    {
     "data": {
      "text/html": [
       "<div>\n",
       "<style scoped>\n",
       "    .dataframe tbody tr th:only-of-type {\n",
       "        vertical-align: middle;\n",
       "    }\n",
       "\n",
       "    .dataframe tbody tr th {\n",
       "        vertical-align: top;\n",
       "    }\n",
       "\n",
       "    .dataframe thead th {\n",
       "        text-align: right;\n",
       "    }\n",
       "</style>\n",
       "<table border=\"1\" class=\"dataframe\">\n",
       "  <thead>\n",
       "    <tr style=\"text-align: right;\">\n",
       "      <th>CLIMATE.REGION</th>\n",
       "      <th>Central</th>\n",
       "      <th>East North Central</th>\n",
       "      <th>Northeast</th>\n",
       "      <th>Northwest</th>\n",
       "      <th>South</th>\n",
       "      <th>Southeast</th>\n",
       "      <th>Southwest</th>\n",
       "      <th>West</th>\n",
       "      <th>West North Central</th>\n",
       "    </tr>\n",
       "    <tr>\n",
       "      <th>CLIMATE.CATEGORY</th>\n",
       "      <th></th>\n",
       "      <th></th>\n",
       "      <th></th>\n",
       "      <th></th>\n",
       "      <th></th>\n",
       "      <th></th>\n",
       "      <th></th>\n",
       "      <th></th>\n",
       "      <th></th>\n",
       "    </tr>\n",
       "  </thead>\n",
       "  <tbody>\n",
       "    <tr>\n",
       "      <th>cold</th>\n",
       "      <td>97364</td>\n",
       "      <td>120777</td>\n",
       "      <td>120320</td>\n",
       "      <td>63350</td>\n",
       "      <td>186070</td>\n",
       "      <td>142545</td>\n",
       "      <td>63196</td>\n",
       "      <td>171929</td>\n",
       "      <td>53500</td>\n",
       "    </tr>\n",
       "    <tr>\n",
       "      <th>normal</th>\n",
       "      <td>154125</td>\n",
       "      <td>154612</td>\n",
       "      <td>125290</td>\n",
       "      <td>42961</td>\n",
       "      <td>218077</td>\n",
       "      <td>164578</td>\n",
       "      <td>24918</td>\n",
       "      <td>186293</td>\n",
       "      <td>60106</td>\n",
       "    </tr>\n",
       "    <tr>\n",
       "      <th>warm</th>\n",
       "      <td>91868</td>\n",
       "      <td>101710</td>\n",
       "      <td>115443</td>\n",
       "      <td>118436</td>\n",
       "      <td>107234</td>\n",
       "      <td>268593</td>\n",
       "      <td>29596</td>\n",
       "      <td>231771</td>\n",
       "      <td>25250</td>\n",
       "    </tr>\n",
       "  </tbody>\n",
       "</table>\n",
       "</div>"
      ],
      "text/plain": [
       "CLIMATE.REGION    Central  East North Central  Northeast  Northwest   South  \\\n",
       "CLIMATE.CATEGORY                                                              \n",
       "cold                97364              120777     120320      63350  186070   \n",
       "normal             154125              154612     125290      42961  218077   \n",
       "warm                91868              101710     115443     118436  107234   \n",
       "\n",
       "CLIMATE.REGION    Southeast  Southwest    West  West North Central  \n",
       "CLIMATE.CATEGORY                                                    \n",
       "cold                 142545      63196  171929               53500  \n",
       "normal               164578      24918  186293               60106  \n",
       "warm                 268593      29596  231771               25250  "
      ]
     },
     "execution_count": 10,
     "metadata": {},
     "output_type": "execute_result"
    }
   ],
   "source": [
    "pd.pivot_table(\n",
    "    cleaned,\n",
    "    index=\"CLIMATE.CATEGORY\",\n",
    "    columns=\"CLIMATE.REGION\",\n",
    "    values=\"CUSTOMERS.AFFECTED\",\n",
    "    aggfunc=\"mean\",\n",
    ").astype(int)"
   ]
  },
  {
   "cell_type": "markdown",
   "metadata": {},
   "source": [
    "## Step 3: Assessment of Missingness\n"
   ]
  },
  {
   "cell_type": "code",
   "execution_count": 11,
   "metadata": {},
   "outputs": [
    {
     "data": {
      "text/plain": [
       "HURRICANE.NAMES          1462\n",
       "DEMAND.LOSS.MW            705\n",
       "CAUSE.CATEGORY.DETAIL     471\n",
       "CUSTOMERS.AFFECTED        443\n",
       "OUTAGE.DURATION            58\n",
       "dtype: int64"
      ]
     },
     "execution_count": 11,
     "metadata": {},
     "output_type": "execute_result"
    }
   ],
   "source": [
    "cleaned.apply(lambda x: x.isna().sum()).sort_values(ascending=False).head()"
   ]
  },
  {
   "cell_type": "code",
   "execution_count": 12,
   "metadata": {},
   "outputs": [],
   "source": [
    "def assess_missingness_on_cause(col, plot=True):\n",
    "    category_dist = cleaned[\"CAUSE.CATEGORY\"].value_counts(normalize=True)\n",
    "    missing_dist = cleaned[cleaned[col].isna()][\"CAUSE.CATEGORY\"].value_counts(\n",
    "        normalize=True\n",
    "    )\n",
    "\n",
    "    if plot:\n",
    "        fig = px.bar(pd.DataFrame({\"Missing\": missing_dist, \"Total\": category_dist}))\n",
    "        fig.update_layout(barmode=\"group\", xaxis={\"categoryorder\": \"total descending\"})\n",
    "        fig.show()\n",
    "\n",
    "    tvd = lambda x, y: np.abs(x - y).sum() / 2\n",
    "    category_dist = cleaned[\"CAUSE.CATEGORY\"].value_counts(normalize=True).values\n",
    "    missing_dist = (\n",
    "        cleaned[cleaned[col].isna()][\"CAUSE.CATEGORY\"]\n",
    "        .value_counts(normalize=True)\n",
    "        .values\n",
    "    )\n",
    "    observed = tvd(missing_dist, category_dist)\n",
    "\n",
    "    stats = [\n",
    "        tvd(\n",
    "            cleaned.sample(n=cleaned[col].isna().sum())[\"CAUSE.CATEGORY\"]\n",
    "            .value_counts(normalize=True)\n",
    "            .values,\n",
    "            category_dist,\n",
    "        )\n",
    "        for _ in range(1000)\n",
    "    ]\n",
    "\n",
    "    pval = (np.array(stats) >= observed).mean()\n",
    "    result = \"Reject\" if pval < 0.01 else \"Fail to Reject\"\n",
    "    print(f\"p-value: {pval}\\nHypothesis: {result}\")"
   ]
  },
  {
   "cell_type": "code",
   "execution_count": 13,
   "metadata": {},
   "outputs": [
    {
     "data": {
      "application/vnd.plotly.v1+json": {
       "config": {
        "plotlyServerURL": "https://plot.ly"
       },
       "data": [
        {
         "alignmentgroup": "True",
         "hovertemplate": "variable=Missing<br>CAUSE.CATEGORY=%{x}<br>value=%{y}<extra></extra>",
         "legendgroup": "Missing",
         "marker": {
          "color": "#636efa",
          "pattern": {
           "shape": ""
          }
         },
         "name": "Missing",
         "offsetgroup": "Missing",
         "orientation": "v",
         "showlegend": true,
         "textposition": "auto",
         "type": "bar",
         "x": [
          "equipment failure",
          "fuel supply emergency",
          "intentional attack",
          "islanding",
          "public appeal",
          "severe weather",
          "system operability disruption"
         ],
         "xaxis": "x",
         "y": [
          0.014184397163120567,
          0.03404255319148936,
          0.3304964539007092,
          0.009929078014184398,
          0.05531914893617021,
          0.524822695035461,
          0.031205673758865248
         ],
         "yaxis": "y"
        },
        {
         "alignmentgroup": "True",
         "hovertemplate": "variable=Total<br>CAUSE.CATEGORY=%{x}<br>value=%{y}<extra></extra>",
         "legendgroup": "Total",
         "marker": {
          "color": "#EF553B",
          "pattern": {
           "shape": ""
          }
         },
         "name": "Total",
         "offsetgroup": "Total",
         "orientation": "v",
         "showlegend": true,
         "textposition": "auto",
         "type": "bar",
         "x": [
          "equipment failure",
          "fuel supply emergency",
          "intentional attack",
          "islanding",
          "public appeal",
          "severe weather",
          "system operability disruption"
         ],
         "xaxis": "x",
         "y": [
          0.03911342894393742,
          0.033246414602346806,
          0.27249022164276404,
          0.02998696219035202,
          0.044980443285528034,
          0.4973924380704042,
          0.08279009126466753
         ],
         "yaxis": "y"
        }
       ],
       "layout": {
        "barmode": "group",
        "legend": {
         "title": {
          "text": "variable"
         },
         "tracegroupgap": 0
        },
        "margin": {
         "t": 60
        },
        "template": {
         "data": {
          "bar": [
           {
            "error_x": {
             "color": "#2a3f5f"
            },
            "error_y": {
             "color": "#2a3f5f"
            },
            "marker": {
             "line": {
              "color": "#E5ECF6",
              "width": 0.5
             },
             "pattern": {
              "fillmode": "overlay",
              "size": 10,
              "solidity": 0.2
             }
            },
            "type": "bar"
           }
          ],
          "barpolar": [
           {
            "marker": {
             "line": {
              "color": "#E5ECF6",
              "width": 0.5
             },
             "pattern": {
              "fillmode": "overlay",
              "size": 10,
              "solidity": 0.2
             }
            },
            "type": "barpolar"
           }
          ],
          "carpet": [
           {
            "aaxis": {
             "endlinecolor": "#2a3f5f",
             "gridcolor": "white",
             "linecolor": "white",
             "minorgridcolor": "white",
             "startlinecolor": "#2a3f5f"
            },
            "baxis": {
             "endlinecolor": "#2a3f5f",
             "gridcolor": "white",
             "linecolor": "white",
             "minorgridcolor": "white",
             "startlinecolor": "#2a3f5f"
            },
            "type": "carpet"
           }
          ],
          "choropleth": [
           {
            "colorbar": {
             "outlinewidth": 0,
             "ticks": ""
            },
            "type": "choropleth"
           }
          ],
          "contour": [
           {
            "colorbar": {
             "outlinewidth": 0,
             "ticks": ""
            },
            "colorscale": [
             [
              0,
              "#0d0887"
             ],
             [
              0.1111111111111111,
              "#46039f"
             ],
             [
              0.2222222222222222,
              "#7201a8"
             ],
             [
              0.3333333333333333,
              "#9c179e"
             ],
             [
              0.4444444444444444,
              "#bd3786"
             ],
             [
              0.5555555555555556,
              "#d8576b"
             ],
             [
              0.6666666666666666,
              "#ed7953"
             ],
             [
              0.7777777777777778,
              "#fb9f3a"
             ],
             [
              0.8888888888888888,
              "#fdca26"
             ],
             [
              1,
              "#f0f921"
             ]
            ],
            "type": "contour"
           }
          ],
          "contourcarpet": [
           {
            "colorbar": {
             "outlinewidth": 0,
             "ticks": ""
            },
            "type": "contourcarpet"
           }
          ],
          "heatmap": [
           {
            "colorbar": {
             "outlinewidth": 0,
             "ticks": ""
            },
            "colorscale": [
             [
              0,
              "#0d0887"
             ],
             [
              0.1111111111111111,
              "#46039f"
             ],
             [
              0.2222222222222222,
              "#7201a8"
             ],
             [
              0.3333333333333333,
              "#9c179e"
             ],
             [
              0.4444444444444444,
              "#bd3786"
             ],
             [
              0.5555555555555556,
              "#d8576b"
             ],
             [
              0.6666666666666666,
              "#ed7953"
             ],
             [
              0.7777777777777778,
              "#fb9f3a"
             ],
             [
              0.8888888888888888,
              "#fdca26"
             ],
             [
              1,
              "#f0f921"
             ]
            ],
            "type": "heatmap"
           }
          ],
          "heatmapgl": [
           {
            "colorbar": {
             "outlinewidth": 0,
             "ticks": ""
            },
            "colorscale": [
             [
              0,
              "#0d0887"
             ],
             [
              0.1111111111111111,
              "#46039f"
             ],
             [
              0.2222222222222222,
              "#7201a8"
             ],
             [
              0.3333333333333333,
              "#9c179e"
             ],
             [
              0.4444444444444444,
              "#bd3786"
             ],
             [
              0.5555555555555556,
              "#d8576b"
             ],
             [
              0.6666666666666666,
              "#ed7953"
             ],
             [
              0.7777777777777778,
              "#fb9f3a"
             ],
             [
              0.8888888888888888,
              "#fdca26"
             ],
             [
              1,
              "#f0f921"
             ]
            ],
            "type": "heatmapgl"
           }
          ],
          "histogram": [
           {
            "marker": {
             "pattern": {
              "fillmode": "overlay",
              "size": 10,
              "solidity": 0.2
             }
            },
            "type": "histogram"
           }
          ],
          "histogram2d": [
           {
            "colorbar": {
             "outlinewidth": 0,
             "ticks": ""
            },
            "colorscale": [
             [
              0,
              "#0d0887"
             ],
             [
              0.1111111111111111,
              "#46039f"
             ],
             [
              0.2222222222222222,
              "#7201a8"
             ],
             [
              0.3333333333333333,
              "#9c179e"
             ],
             [
              0.4444444444444444,
              "#bd3786"
             ],
             [
              0.5555555555555556,
              "#d8576b"
             ],
             [
              0.6666666666666666,
              "#ed7953"
             ],
             [
              0.7777777777777778,
              "#fb9f3a"
             ],
             [
              0.8888888888888888,
              "#fdca26"
             ],
             [
              1,
              "#f0f921"
             ]
            ],
            "type": "histogram2d"
           }
          ],
          "histogram2dcontour": [
           {
            "colorbar": {
             "outlinewidth": 0,
             "ticks": ""
            },
            "colorscale": [
             [
              0,
              "#0d0887"
             ],
             [
              0.1111111111111111,
              "#46039f"
             ],
             [
              0.2222222222222222,
              "#7201a8"
             ],
             [
              0.3333333333333333,
              "#9c179e"
             ],
             [
              0.4444444444444444,
              "#bd3786"
             ],
             [
              0.5555555555555556,
              "#d8576b"
             ],
             [
              0.6666666666666666,
              "#ed7953"
             ],
             [
              0.7777777777777778,
              "#fb9f3a"
             ],
             [
              0.8888888888888888,
              "#fdca26"
             ],
             [
              1,
              "#f0f921"
             ]
            ],
            "type": "histogram2dcontour"
           }
          ],
          "mesh3d": [
           {
            "colorbar": {
             "outlinewidth": 0,
             "ticks": ""
            },
            "type": "mesh3d"
           }
          ],
          "parcoords": [
           {
            "line": {
             "colorbar": {
              "outlinewidth": 0,
              "ticks": ""
             }
            },
            "type": "parcoords"
           }
          ],
          "pie": [
           {
            "automargin": true,
            "type": "pie"
           }
          ],
          "scatter": [
           {
            "fillpattern": {
             "fillmode": "overlay",
             "size": 10,
             "solidity": 0.2
            },
            "type": "scatter"
           }
          ],
          "scatter3d": [
           {
            "line": {
             "colorbar": {
              "outlinewidth": 0,
              "ticks": ""
             }
            },
            "marker": {
             "colorbar": {
              "outlinewidth": 0,
              "ticks": ""
             }
            },
            "type": "scatter3d"
           }
          ],
          "scattercarpet": [
           {
            "marker": {
             "colorbar": {
              "outlinewidth": 0,
              "ticks": ""
             }
            },
            "type": "scattercarpet"
           }
          ],
          "scattergeo": [
           {
            "marker": {
             "colorbar": {
              "outlinewidth": 0,
              "ticks": ""
             }
            },
            "type": "scattergeo"
           }
          ],
          "scattergl": [
           {
            "marker": {
             "colorbar": {
              "outlinewidth": 0,
              "ticks": ""
             }
            },
            "type": "scattergl"
           }
          ],
          "scattermapbox": [
           {
            "marker": {
             "colorbar": {
              "outlinewidth": 0,
              "ticks": ""
             }
            },
            "type": "scattermapbox"
           }
          ],
          "scatterpolar": [
           {
            "marker": {
             "colorbar": {
              "outlinewidth": 0,
              "ticks": ""
             }
            },
            "type": "scatterpolar"
           }
          ],
          "scatterpolargl": [
           {
            "marker": {
             "colorbar": {
              "outlinewidth": 0,
              "ticks": ""
             }
            },
            "type": "scatterpolargl"
           }
          ],
          "scatterternary": [
           {
            "marker": {
             "colorbar": {
              "outlinewidth": 0,
              "ticks": ""
             }
            },
            "type": "scatterternary"
           }
          ],
          "surface": [
           {
            "colorbar": {
             "outlinewidth": 0,
             "ticks": ""
            },
            "colorscale": [
             [
              0,
              "#0d0887"
             ],
             [
              0.1111111111111111,
              "#46039f"
             ],
             [
              0.2222222222222222,
              "#7201a8"
             ],
             [
              0.3333333333333333,
              "#9c179e"
             ],
             [
              0.4444444444444444,
              "#bd3786"
             ],
             [
              0.5555555555555556,
              "#d8576b"
             ],
             [
              0.6666666666666666,
              "#ed7953"
             ],
             [
              0.7777777777777778,
              "#fb9f3a"
             ],
             [
              0.8888888888888888,
              "#fdca26"
             ],
             [
              1,
              "#f0f921"
             ]
            ],
            "type": "surface"
           }
          ],
          "table": [
           {
            "cells": {
             "fill": {
              "color": "#EBF0F8"
             },
             "line": {
              "color": "white"
             }
            },
            "header": {
             "fill": {
              "color": "#C8D4E3"
             },
             "line": {
              "color": "white"
             }
            },
            "type": "table"
           }
          ]
         },
         "layout": {
          "annotationdefaults": {
           "arrowcolor": "#2a3f5f",
           "arrowhead": 0,
           "arrowwidth": 1
          },
          "autotypenumbers": "strict",
          "coloraxis": {
           "colorbar": {
            "outlinewidth": 0,
            "ticks": ""
           }
          },
          "colorscale": {
           "diverging": [
            [
             0,
             "#8e0152"
            ],
            [
             0.1,
             "#c51b7d"
            ],
            [
             0.2,
             "#de77ae"
            ],
            [
             0.3,
             "#f1b6da"
            ],
            [
             0.4,
             "#fde0ef"
            ],
            [
             0.5,
             "#f7f7f7"
            ],
            [
             0.6,
             "#e6f5d0"
            ],
            [
             0.7,
             "#b8e186"
            ],
            [
             0.8,
             "#7fbc41"
            ],
            [
             0.9,
             "#4d9221"
            ],
            [
             1,
             "#276419"
            ]
           ],
           "sequential": [
            [
             0,
             "#0d0887"
            ],
            [
             0.1111111111111111,
             "#46039f"
            ],
            [
             0.2222222222222222,
             "#7201a8"
            ],
            [
             0.3333333333333333,
             "#9c179e"
            ],
            [
             0.4444444444444444,
             "#bd3786"
            ],
            [
             0.5555555555555556,
             "#d8576b"
            ],
            [
             0.6666666666666666,
             "#ed7953"
            ],
            [
             0.7777777777777778,
             "#fb9f3a"
            ],
            [
             0.8888888888888888,
             "#fdca26"
            ],
            [
             1,
             "#f0f921"
            ]
           ],
           "sequentialminus": [
            [
             0,
             "#0d0887"
            ],
            [
             0.1111111111111111,
             "#46039f"
            ],
            [
             0.2222222222222222,
             "#7201a8"
            ],
            [
             0.3333333333333333,
             "#9c179e"
            ],
            [
             0.4444444444444444,
             "#bd3786"
            ],
            [
             0.5555555555555556,
             "#d8576b"
            ],
            [
             0.6666666666666666,
             "#ed7953"
            ],
            [
             0.7777777777777778,
             "#fb9f3a"
            ],
            [
             0.8888888888888888,
             "#fdca26"
            ],
            [
             1,
             "#f0f921"
            ]
           ]
          },
          "colorway": [
           "#636efa",
           "#EF553B",
           "#00cc96",
           "#ab63fa",
           "#FFA15A",
           "#19d3f3",
           "#FF6692",
           "#B6E880",
           "#FF97FF",
           "#FECB52"
          ],
          "font": {
           "color": "#2a3f5f"
          },
          "geo": {
           "bgcolor": "white",
           "lakecolor": "white",
           "landcolor": "#E5ECF6",
           "showlakes": true,
           "showland": true,
           "subunitcolor": "white"
          },
          "hoverlabel": {
           "align": "left"
          },
          "hovermode": "closest",
          "mapbox": {
           "style": "light"
          },
          "paper_bgcolor": "white",
          "plot_bgcolor": "#E5ECF6",
          "polar": {
           "angularaxis": {
            "gridcolor": "white",
            "linecolor": "white",
            "ticks": ""
           },
           "bgcolor": "#E5ECF6",
           "radialaxis": {
            "gridcolor": "white",
            "linecolor": "white",
            "ticks": ""
           }
          },
          "scene": {
           "xaxis": {
            "backgroundcolor": "#E5ECF6",
            "gridcolor": "white",
            "gridwidth": 2,
            "linecolor": "white",
            "showbackground": true,
            "ticks": "",
            "zerolinecolor": "white"
           },
           "yaxis": {
            "backgroundcolor": "#E5ECF6",
            "gridcolor": "white",
            "gridwidth": 2,
            "linecolor": "white",
            "showbackground": true,
            "ticks": "",
            "zerolinecolor": "white"
           },
           "zaxis": {
            "backgroundcolor": "#E5ECF6",
            "gridcolor": "white",
            "gridwidth": 2,
            "linecolor": "white",
            "showbackground": true,
            "ticks": "",
            "zerolinecolor": "white"
           }
          },
          "shapedefaults": {
           "line": {
            "color": "#2a3f5f"
           }
          },
          "ternary": {
           "aaxis": {
            "gridcolor": "white",
            "linecolor": "white",
            "ticks": ""
           },
           "baxis": {
            "gridcolor": "white",
            "linecolor": "white",
            "ticks": ""
           },
           "bgcolor": "#E5ECF6",
           "caxis": {
            "gridcolor": "white",
            "linecolor": "white",
            "ticks": ""
           }
          },
          "title": {
           "x": 0.05
          },
          "xaxis": {
           "automargin": true,
           "gridcolor": "white",
           "linecolor": "white",
           "ticks": "",
           "title": {
            "standoff": 15
           },
           "zerolinecolor": "white",
           "zerolinewidth": 2
          },
          "yaxis": {
           "automargin": true,
           "gridcolor": "white",
           "linecolor": "white",
           "ticks": "",
           "title": {
            "standoff": 15
           },
           "zerolinecolor": "white",
           "zerolinewidth": 2
          }
         }
        },
        "xaxis": {
         "anchor": "y",
         "categoryorder": "total descending",
         "domain": [
          0,
          1
         ],
         "title": {
          "text": "CAUSE.CATEGORY"
         }
        },
        "yaxis": {
         "anchor": "x",
         "domain": [
          0,
          1
         ],
         "title": {
          "text": "value"
         }
        }
       }
      }
     },
     "metadata": {},
     "output_type": "display_data"
    },
    {
     "name": "stdout",
     "output_type": "stream",
     "text": [
      "p-value: 0.0\n",
      "Hypothesis: Reject\n"
     ]
    }
   ],
   "source": [
    "assess_missingness_on_cause(\"DEMAND.LOSS.MW\")"
   ]
  },
  {
   "cell_type": "code",
   "execution_count": 14,
   "metadata": {},
   "outputs": [
    {
     "data": {
      "application/vnd.plotly.v1+json": {
       "config": {
        "plotlyServerURL": "https://plot.ly"
       },
       "data": [
        {
         "alignmentgroup": "True",
         "hovertemplate": "variable=Missing<br>CAUSE.CATEGORY=%{x}<br>value=%{y}<extra></extra>",
         "legendgroup": "Missing",
         "marker": {
          "color": "#636efa",
          "pattern": {
           "shape": ""
          }
         },
         "name": "Missing",
         "offsetgroup": "Missing",
         "orientation": "v",
         "showlegend": true,
         "textposition": "auto",
         "type": "bar",
         "x": [
          "equipment failure",
          "fuel supply emergency",
          "intentional attack",
          "islanding",
          "public appeal",
          "severe weather",
          "system operability disruption"
         ],
         "xaxis": "x",
         "y": [
          0.025477707006369428,
          0.040339702760084924,
          0.10191082802547771,
          0.09766454352441614,
          0.1464968152866242,
          0.3970276008492569,
          0.1910828025477707
         ],
         "yaxis": "y"
        },
        {
         "alignmentgroup": "True",
         "hovertemplate": "variable=Total<br>CAUSE.CATEGORY=%{x}<br>value=%{y}<extra></extra>",
         "legendgroup": "Total",
         "marker": {
          "color": "#EF553B",
          "pattern": {
           "shape": ""
          }
         },
         "name": "Total",
         "offsetgroup": "Total",
         "orientation": "v",
         "showlegend": true,
         "textposition": "auto",
         "type": "bar",
         "x": [
          "equipment failure",
          "fuel supply emergency",
          "intentional attack",
          "islanding",
          "public appeal",
          "severe weather",
          "system operability disruption"
         ],
         "xaxis": "x",
         "y": [
          0.03911342894393742,
          0.033246414602346806,
          0.27249022164276404,
          0.02998696219035202,
          0.044980443285528034,
          0.4973924380704042,
          0.08279009126466753
         ],
         "yaxis": "y"
        }
       ],
       "layout": {
        "barmode": "group",
        "legend": {
         "title": {
          "text": "variable"
         },
         "tracegroupgap": 0
        },
        "margin": {
         "t": 60
        },
        "template": {
         "data": {
          "bar": [
           {
            "error_x": {
             "color": "#2a3f5f"
            },
            "error_y": {
             "color": "#2a3f5f"
            },
            "marker": {
             "line": {
              "color": "#E5ECF6",
              "width": 0.5
             },
             "pattern": {
              "fillmode": "overlay",
              "size": 10,
              "solidity": 0.2
             }
            },
            "type": "bar"
           }
          ],
          "barpolar": [
           {
            "marker": {
             "line": {
              "color": "#E5ECF6",
              "width": 0.5
             },
             "pattern": {
              "fillmode": "overlay",
              "size": 10,
              "solidity": 0.2
             }
            },
            "type": "barpolar"
           }
          ],
          "carpet": [
           {
            "aaxis": {
             "endlinecolor": "#2a3f5f",
             "gridcolor": "white",
             "linecolor": "white",
             "minorgridcolor": "white",
             "startlinecolor": "#2a3f5f"
            },
            "baxis": {
             "endlinecolor": "#2a3f5f",
             "gridcolor": "white",
             "linecolor": "white",
             "minorgridcolor": "white",
             "startlinecolor": "#2a3f5f"
            },
            "type": "carpet"
           }
          ],
          "choropleth": [
           {
            "colorbar": {
             "outlinewidth": 0,
             "ticks": ""
            },
            "type": "choropleth"
           }
          ],
          "contour": [
           {
            "colorbar": {
             "outlinewidth": 0,
             "ticks": ""
            },
            "colorscale": [
             [
              0,
              "#0d0887"
             ],
             [
              0.1111111111111111,
              "#46039f"
             ],
             [
              0.2222222222222222,
              "#7201a8"
             ],
             [
              0.3333333333333333,
              "#9c179e"
             ],
             [
              0.4444444444444444,
              "#bd3786"
             ],
             [
              0.5555555555555556,
              "#d8576b"
             ],
             [
              0.6666666666666666,
              "#ed7953"
             ],
             [
              0.7777777777777778,
              "#fb9f3a"
             ],
             [
              0.8888888888888888,
              "#fdca26"
             ],
             [
              1,
              "#f0f921"
             ]
            ],
            "type": "contour"
           }
          ],
          "contourcarpet": [
           {
            "colorbar": {
             "outlinewidth": 0,
             "ticks": ""
            },
            "type": "contourcarpet"
           }
          ],
          "heatmap": [
           {
            "colorbar": {
             "outlinewidth": 0,
             "ticks": ""
            },
            "colorscale": [
             [
              0,
              "#0d0887"
             ],
             [
              0.1111111111111111,
              "#46039f"
             ],
             [
              0.2222222222222222,
              "#7201a8"
             ],
             [
              0.3333333333333333,
              "#9c179e"
             ],
             [
              0.4444444444444444,
              "#bd3786"
             ],
             [
              0.5555555555555556,
              "#d8576b"
             ],
             [
              0.6666666666666666,
              "#ed7953"
             ],
             [
              0.7777777777777778,
              "#fb9f3a"
             ],
             [
              0.8888888888888888,
              "#fdca26"
             ],
             [
              1,
              "#f0f921"
             ]
            ],
            "type": "heatmap"
           }
          ],
          "heatmapgl": [
           {
            "colorbar": {
             "outlinewidth": 0,
             "ticks": ""
            },
            "colorscale": [
             [
              0,
              "#0d0887"
             ],
             [
              0.1111111111111111,
              "#46039f"
             ],
             [
              0.2222222222222222,
              "#7201a8"
             ],
             [
              0.3333333333333333,
              "#9c179e"
             ],
             [
              0.4444444444444444,
              "#bd3786"
             ],
             [
              0.5555555555555556,
              "#d8576b"
             ],
             [
              0.6666666666666666,
              "#ed7953"
             ],
             [
              0.7777777777777778,
              "#fb9f3a"
             ],
             [
              0.8888888888888888,
              "#fdca26"
             ],
             [
              1,
              "#f0f921"
             ]
            ],
            "type": "heatmapgl"
           }
          ],
          "histogram": [
           {
            "marker": {
             "pattern": {
              "fillmode": "overlay",
              "size": 10,
              "solidity": 0.2
             }
            },
            "type": "histogram"
           }
          ],
          "histogram2d": [
           {
            "colorbar": {
             "outlinewidth": 0,
             "ticks": ""
            },
            "colorscale": [
             [
              0,
              "#0d0887"
             ],
             [
              0.1111111111111111,
              "#46039f"
             ],
             [
              0.2222222222222222,
              "#7201a8"
             ],
             [
              0.3333333333333333,
              "#9c179e"
             ],
             [
              0.4444444444444444,
              "#bd3786"
             ],
             [
              0.5555555555555556,
              "#d8576b"
             ],
             [
              0.6666666666666666,
              "#ed7953"
             ],
             [
              0.7777777777777778,
              "#fb9f3a"
             ],
             [
              0.8888888888888888,
              "#fdca26"
             ],
             [
              1,
              "#f0f921"
             ]
            ],
            "type": "histogram2d"
           }
          ],
          "histogram2dcontour": [
           {
            "colorbar": {
             "outlinewidth": 0,
             "ticks": ""
            },
            "colorscale": [
             [
              0,
              "#0d0887"
             ],
             [
              0.1111111111111111,
              "#46039f"
             ],
             [
              0.2222222222222222,
              "#7201a8"
             ],
             [
              0.3333333333333333,
              "#9c179e"
             ],
             [
              0.4444444444444444,
              "#bd3786"
             ],
             [
              0.5555555555555556,
              "#d8576b"
             ],
             [
              0.6666666666666666,
              "#ed7953"
             ],
             [
              0.7777777777777778,
              "#fb9f3a"
             ],
             [
              0.8888888888888888,
              "#fdca26"
             ],
             [
              1,
              "#f0f921"
             ]
            ],
            "type": "histogram2dcontour"
           }
          ],
          "mesh3d": [
           {
            "colorbar": {
             "outlinewidth": 0,
             "ticks": ""
            },
            "type": "mesh3d"
           }
          ],
          "parcoords": [
           {
            "line": {
             "colorbar": {
              "outlinewidth": 0,
              "ticks": ""
             }
            },
            "type": "parcoords"
           }
          ],
          "pie": [
           {
            "automargin": true,
            "type": "pie"
           }
          ],
          "scatter": [
           {
            "fillpattern": {
             "fillmode": "overlay",
             "size": 10,
             "solidity": 0.2
            },
            "type": "scatter"
           }
          ],
          "scatter3d": [
           {
            "line": {
             "colorbar": {
              "outlinewidth": 0,
              "ticks": ""
             }
            },
            "marker": {
             "colorbar": {
              "outlinewidth": 0,
              "ticks": ""
             }
            },
            "type": "scatter3d"
           }
          ],
          "scattercarpet": [
           {
            "marker": {
             "colorbar": {
              "outlinewidth": 0,
              "ticks": ""
             }
            },
            "type": "scattercarpet"
           }
          ],
          "scattergeo": [
           {
            "marker": {
             "colorbar": {
              "outlinewidth": 0,
              "ticks": ""
             }
            },
            "type": "scattergeo"
           }
          ],
          "scattergl": [
           {
            "marker": {
             "colorbar": {
              "outlinewidth": 0,
              "ticks": ""
             }
            },
            "type": "scattergl"
           }
          ],
          "scattermapbox": [
           {
            "marker": {
             "colorbar": {
              "outlinewidth": 0,
              "ticks": ""
             }
            },
            "type": "scattermapbox"
           }
          ],
          "scatterpolar": [
           {
            "marker": {
             "colorbar": {
              "outlinewidth": 0,
              "ticks": ""
             }
            },
            "type": "scatterpolar"
           }
          ],
          "scatterpolargl": [
           {
            "marker": {
             "colorbar": {
              "outlinewidth": 0,
              "ticks": ""
             }
            },
            "type": "scatterpolargl"
           }
          ],
          "scatterternary": [
           {
            "marker": {
             "colorbar": {
              "outlinewidth": 0,
              "ticks": ""
             }
            },
            "type": "scatterternary"
           }
          ],
          "surface": [
           {
            "colorbar": {
             "outlinewidth": 0,
             "ticks": ""
            },
            "colorscale": [
             [
              0,
              "#0d0887"
             ],
             [
              0.1111111111111111,
              "#46039f"
             ],
             [
              0.2222222222222222,
              "#7201a8"
             ],
             [
              0.3333333333333333,
              "#9c179e"
             ],
             [
              0.4444444444444444,
              "#bd3786"
             ],
             [
              0.5555555555555556,
              "#d8576b"
             ],
             [
              0.6666666666666666,
              "#ed7953"
             ],
             [
              0.7777777777777778,
              "#fb9f3a"
             ],
             [
              0.8888888888888888,
              "#fdca26"
             ],
             [
              1,
              "#f0f921"
             ]
            ],
            "type": "surface"
           }
          ],
          "table": [
           {
            "cells": {
             "fill": {
              "color": "#EBF0F8"
             },
             "line": {
              "color": "white"
             }
            },
            "header": {
             "fill": {
              "color": "#C8D4E3"
             },
             "line": {
              "color": "white"
             }
            },
            "type": "table"
           }
          ]
         },
         "layout": {
          "annotationdefaults": {
           "arrowcolor": "#2a3f5f",
           "arrowhead": 0,
           "arrowwidth": 1
          },
          "autotypenumbers": "strict",
          "coloraxis": {
           "colorbar": {
            "outlinewidth": 0,
            "ticks": ""
           }
          },
          "colorscale": {
           "diverging": [
            [
             0,
             "#8e0152"
            ],
            [
             0.1,
             "#c51b7d"
            ],
            [
             0.2,
             "#de77ae"
            ],
            [
             0.3,
             "#f1b6da"
            ],
            [
             0.4,
             "#fde0ef"
            ],
            [
             0.5,
             "#f7f7f7"
            ],
            [
             0.6,
             "#e6f5d0"
            ],
            [
             0.7,
             "#b8e186"
            ],
            [
             0.8,
             "#7fbc41"
            ],
            [
             0.9,
             "#4d9221"
            ],
            [
             1,
             "#276419"
            ]
           ],
           "sequential": [
            [
             0,
             "#0d0887"
            ],
            [
             0.1111111111111111,
             "#46039f"
            ],
            [
             0.2222222222222222,
             "#7201a8"
            ],
            [
             0.3333333333333333,
             "#9c179e"
            ],
            [
             0.4444444444444444,
             "#bd3786"
            ],
            [
             0.5555555555555556,
             "#d8576b"
            ],
            [
             0.6666666666666666,
             "#ed7953"
            ],
            [
             0.7777777777777778,
             "#fb9f3a"
            ],
            [
             0.8888888888888888,
             "#fdca26"
            ],
            [
             1,
             "#f0f921"
            ]
           ],
           "sequentialminus": [
            [
             0,
             "#0d0887"
            ],
            [
             0.1111111111111111,
             "#46039f"
            ],
            [
             0.2222222222222222,
             "#7201a8"
            ],
            [
             0.3333333333333333,
             "#9c179e"
            ],
            [
             0.4444444444444444,
             "#bd3786"
            ],
            [
             0.5555555555555556,
             "#d8576b"
            ],
            [
             0.6666666666666666,
             "#ed7953"
            ],
            [
             0.7777777777777778,
             "#fb9f3a"
            ],
            [
             0.8888888888888888,
             "#fdca26"
            ],
            [
             1,
             "#f0f921"
            ]
           ]
          },
          "colorway": [
           "#636efa",
           "#EF553B",
           "#00cc96",
           "#ab63fa",
           "#FFA15A",
           "#19d3f3",
           "#FF6692",
           "#B6E880",
           "#FF97FF",
           "#FECB52"
          ],
          "font": {
           "color": "#2a3f5f"
          },
          "geo": {
           "bgcolor": "white",
           "lakecolor": "white",
           "landcolor": "#E5ECF6",
           "showlakes": true,
           "showland": true,
           "subunitcolor": "white"
          },
          "hoverlabel": {
           "align": "left"
          },
          "hovermode": "closest",
          "mapbox": {
           "style": "light"
          },
          "paper_bgcolor": "white",
          "plot_bgcolor": "#E5ECF6",
          "polar": {
           "angularaxis": {
            "gridcolor": "white",
            "linecolor": "white",
            "ticks": ""
           },
           "bgcolor": "#E5ECF6",
           "radialaxis": {
            "gridcolor": "white",
            "linecolor": "white",
            "ticks": ""
           }
          },
          "scene": {
           "xaxis": {
            "backgroundcolor": "#E5ECF6",
            "gridcolor": "white",
            "gridwidth": 2,
            "linecolor": "white",
            "showbackground": true,
            "ticks": "",
            "zerolinecolor": "white"
           },
           "yaxis": {
            "backgroundcolor": "#E5ECF6",
            "gridcolor": "white",
            "gridwidth": 2,
            "linecolor": "white",
            "showbackground": true,
            "ticks": "",
            "zerolinecolor": "white"
           },
           "zaxis": {
            "backgroundcolor": "#E5ECF6",
            "gridcolor": "white",
            "gridwidth": 2,
            "linecolor": "white",
            "showbackground": true,
            "ticks": "",
            "zerolinecolor": "white"
           }
          },
          "shapedefaults": {
           "line": {
            "color": "#2a3f5f"
           }
          },
          "ternary": {
           "aaxis": {
            "gridcolor": "white",
            "linecolor": "white",
            "ticks": ""
           },
           "baxis": {
            "gridcolor": "white",
            "linecolor": "white",
            "ticks": ""
           },
           "bgcolor": "#E5ECF6",
           "caxis": {
            "gridcolor": "white",
            "linecolor": "white",
            "ticks": ""
           }
          },
          "title": {
           "x": 0.05
          },
          "xaxis": {
           "automargin": true,
           "gridcolor": "white",
           "linecolor": "white",
           "ticks": "",
           "title": {
            "standoff": 15
           },
           "zerolinecolor": "white",
           "zerolinewidth": 2
          },
          "yaxis": {
           "automargin": true,
           "gridcolor": "white",
           "linecolor": "white",
           "ticks": "",
           "title": {
            "standoff": 15
           },
           "zerolinecolor": "white",
           "zerolinewidth": 2
          }
         }
        },
        "xaxis": {
         "anchor": "y",
         "categoryorder": "total descending",
         "domain": [
          0,
          1
         ],
         "title": {
          "text": "CAUSE.CATEGORY"
         }
        },
        "yaxis": {
         "anchor": "x",
         "domain": [
          0,
          1
         ],
         "title": {
          "text": "value"
         }
        }
       }
      }
     },
     "metadata": {},
     "output_type": "display_data"
    },
    {
     "name": "stdout",
     "output_type": "stream",
     "text": [
      "p-value: 0.0\n",
      "Hypothesis: Reject\n"
     ]
    }
   ],
   "source": [
    "assess_missingness_on_cause(\"CAUSE.CATEGORY.DETAIL\")"
   ]
  },
  {
   "cell_type": "markdown",
   "metadata": {},
   "source": [
    "## Step 4: Hypothesis Testing\n"
   ]
  },
  {
   "cell_type": "code",
   "execution_count": 15,
   "metadata": {
    "ExecuteTime": {
     "end_time": "2019-10-31T23:36:28.666489Z",
     "start_time": "2019-10-31T23:36:28.664381Z"
    }
   },
   "outputs": [
    {
     "name": "stdout",
     "output_type": "stream",
     "text": [
      "p-value: 0.0\n",
      "Hypothesis: Reject\n"
     ]
    }
   ],
   "source": [
    "tvd = lambda x, y: np.abs(x - y).sum() / 2\n",
    "uniform = np.ones(12) / 12\n",
    "month_props = cleaned.value_counts(\"MONTH\", normalize=True).values\n",
    "observed = tvd(month_props, uniform)\n",
    "\n",
    "stats = np.array([])\n",
    "for _ in range(1000):\n",
    "    rand = np.random.choice(12, size=cleaned.shape[0], p=uniform)\n",
    "    stat = pd.Series(rand).value_counts(normalize=True)\n",
    "    stats = np.append(stats, tvd(stat, uniform))\n",
    "\n",
    "pval = (stats >= observed).mean()\n",
    "result = \"Reject\" if pval < 0.01 else \"Fail to Reject\"\n",
    "print(f\"p-value: {pval}\\nHypothesis: {result}\")"
   ]
  },
  {
   "cell_type": "markdown",
   "metadata": {},
   "source": [
    "## Step 5: Framing a Prediction Problem\n"
   ]
  },
  {
   "cell_type": "code",
   "execution_count": 16,
   "metadata": {
    "ExecuteTime": {
     "end_time": "2019-10-31T23:36:28.657068Z",
     "start_time": "2019-10-31T23:36:28.654650Z"
    }
   },
   "outputs": [
    {
     "data": {
      "application/vnd.plotly.v1+json": {
       "config": {
        "plotlyServerURL": "https://plot.ly"
       },
       "data": [
        {
         "hovertemplate": "variable=LOG_DEMAND_LOSS_MW<br>TIME=%{x}<br>value=%{y}<extra></extra>",
         "legendgroup": "LOG_DEMAND_LOSS_MW",
         "line": {
          "color": "#636efa",
          "dash": "solid"
         },
         "marker": {
          "symbol": "circle"
         },
         "mode": "lines",
         "name": "LOG_DEMAND_LOSS_MW",
         "orientation": "v",
         "showlegend": true,
         "type": "scatter",
         "x": [
          "2001-05",
          "2002-02",
          "2002-11",
          "2002-12",
          "2003-07",
          "2003-12",
          "2004-01",
          "2004-02",
          "2004-03",
          "2004-05",
          "2004-08",
          "2004-10",
          "2004-12",
          "2005-01",
          "2005-07",
          "2005-08",
          "2005-09",
          "2005-12",
          "2006-05",
          "2006-07",
          "2006-10",
          "2006-12",
          "2007-02",
          "2007-04",
          "2007-08",
          "2007-10",
          "2008-01",
          "2008-02",
          "2008-06",
          "2008-07",
          "2008-09",
          "2008-11",
          "2008-12",
          "2009-04",
          "2009-06",
          "2009-07",
          "2009-10",
          "2010-01",
          "2010-03",
          "2010-06",
          "2010-09",
          "2010-10",
          "2010-11",
          "2010-12",
          "2011-02",
          "2011-03",
          "2011-06",
          "2011-12",
          "2012-02",
          "2012-08",
          "2012-10",
          "2012-12",
          "2013-02",
          "2013-03",
          "2013-04",
          "2013-06",
          "2013-07",
          "2013-08",
          "2013-10",
          "2013-11",
          "2014-05",
          "2015-06",
          "2015-07",
          "2015-10",
          "2015-12",
          "2016-02"
         ],
         "xaxis": "x",
         "y": [
          5.41610040220442,
          5.703782474656201,
          5.598421958998375,
          4.60915427081268,
          5.298317366548036,
          5.159812218560815,
          5.135798437050262,
          5.480638923341991,
          5.703782474656201,
          6.495265555937008,
          6.173786103901937,
          4.78818570541947,
          4.605170185988092,
          4.787491742782046,
          5.305539948763785,
          6.761572768804055,
          7.8547691834991324,
          6.684611727667927,
          5.703782474656201,
          5.298317366548036,
          5.730099782973574,
          6.040254711277414,
          4.700480365792417,
          5.298317366548036,
          5.19295685089021,
          5.814256205156363,
          5.959195286539196,
          2.302585092994046,
          1.0986122886681098,
          5.058330786406424,
          3.4011973816621555,
          5.645701420008639,
          2.3502401828962083,
          6.238324625039508,
          0,
          4.912654885736052,
          5.1788714124068616,
          6.4186594388723295,
          5.780743515792329,
          1.0986122886681098,
          3.4339872044851463,
          2.772588722239781,
          3.468087613482872,
          2.644133515347268,
          4.51085950651685,
          4.479130089513784,
          2.302585092994046,
          5.703782474656201,
          0,
          1.6094379124341003,
          1.0986122886681098,
          5.521460917862246,
          9.536040511615484,
          5.703782474656201,
          4.382026634673881,
          5.480638923341991,
          5.298317366548036,
          6.529418838262226,
          4.74493212836325,
          4.508984239664363,
          8.268731832117737,
          1.6094379124341003,
          4.238185598447991,
          4.477336814478207,
          3.27267483016721,
          1.9459101490553132
         ],
         "yaxis": "y"
        },
        {
         "hovertemplate": "variable=LOG_OUTAGE_DURATION<br>TIME=%{x}<br>value=%{y}<extra></extra>",
         "legendgroup": "LOG_OUTAGE_DURATION",
         "line": {
          "color": "#EF553B",
          "dash": "solid"
         },
         "marker": {
          "symbol": "circle"
         },
         "mode": "lines",
         "name": "LOG_OUTAGE_DURATION",
         "orientation": "v",
         "showlegend": true,
         "type": "scatter",
         "x": [
          "2001-05",
          "2002-02",
          "2002-11",
          "2002-12",
          "2003-07",
          "2003-12",
          "2004-01",
          "2004-02",
          "2004-03",
          "2004-05",
          "2004-08",
          "2004-10",
          "2004-12",
          "2005-01",
          "2005-07",
          "2005-08",
          "2005-09",
          "2005-12",
          "2006-05",
          "2006-07",
          "2006-10",
          "2006-12",
          "2007-02",
          "2007-04",
          "2007-08",
          "2007-10",
          "2008-01",
          "2008-02",
          "2008-06",
          "2008-07",
          "2008-09",
          "2008-11",
          "2008-12",
          "2009-04",
          "2009-06",
          "2009-07",
          "2009-10",
          "2010-01",
          "2010-03",
          "2010-06",
          "2010-09",
          "2010-10",
          "2010-11",
          "2010-12",
          "2011-02",
          "2011-03",
          "2011-06",
          "2011-12",
          "2012-02",
          "2012-08",
          "2012-10",
          "2012-12",
          "2013-02",
          "2013-03",
          "2013-04",
          "2013-06",
          "2013-07",
          "2013-08",
          "2013-10",
          "2013-11",
          "2014-05",
          "2015-06",
          "2015-07",
          "2015-10",
          "2015-12",
          "2016-02"
         ],
         "xaxis": "x",
         "y": [
          4.68213122712422,
          3.8501476017100584,
          8.548691858475609,
          8.383112272433301,
          4.8283137373023015,
          7.607330273232665,
          7.575584651557793,
          7.922623574217286,
          3.4965075614664802,
          5.598421958998375,
          4.1588830833596715,
          6.507600619899938,
          6.802394763324311,
          8.463792414689122,
          5.321460883523693,
          5.517452896464707,
          4.430816798843313,
          8.99961934066053,
          5.8998973535824915,
          8.905308661189288,
          5.811140992976701,
          9.044521887281242,
          8.313852267398207,
          7.114769448366463,
          4.1588830833596715,
          4.644711843994601,
          7.943657757507273,
          5.598421958998375,
          5.4116460518550396,
          6.244888408306366,
          1.0986122886681098,
          6.629346929007151,
          6.1987389105285855,
          4.820281565605037,
          5.991464547107982,
          6.812345094177479,
          5.397230238212996,
          7.512296739088517,
          4.02535169073515,
          3.912023005428146,
          4.969813299576001,
          2.3978952727983707,
          6.330773498761045,
          3.6002124464724785,
          8.314414235209062,
          5.990119841217083,
          3.970291913552122,
          7.60887062919126,
          5.262690188904886,
          3.258096538021482,
          2.6390573296152584,
          8.039157390473237,
          7.134093721192866,
          5.438079308923196,
          5.272999558563747,
          5.099866427824199,
          6.429719478039138,
          6.486160788944089,
          2.70805020110221,
          3.060148709475475,
          6.424869023905388,
          4.9694756084058485,
          5.084116796852426,
          6.8966943316227125,
          3.4923581600591325,
          5.407171771460119
         ],
         "yaxis": "y"
        },
        {
         "hovertemplate": "variable=LOG_CUSTOMERS_AFFECTED<br>TIME=%{x}<br>value=%{y}<extra></extra>",
         "legendgroup": "LOG_CUSTOMERS_AFFECTED",
         "line": {
          "color": "#00cc96",
          "dash": "solid"
         },
         "marker": {
          "symbol": "circle"
         },
         "mode": "lines",
         "name": "LOG_CUSTOMERS_AFFECTED",
         "orientation": "v",
         "showlegend": true,
         "type": "scatter",
         "x": [
          "2001-05",
          "2002-02",
          "2002-11",
          "2002-12",
          "2003-07",
          "2003-12",
          "2004-01",
          "2004-02",
          "2004-03",
          "2004-05",
          "2004-08",
          "2004-10",
          "2004-12",
          "2005-01",
          "2005-07",
          "2005-08",
          "2005-09",
          "2005-12",
          "2006-05",
          "2006-07",
          "2006-10",
          "2006-12",
          "2007-02",
          "2007-04",
          "2007-08",
          "2007-10",
          "2008-01",
          "2008-02",
          "2008-06",
          "2008-07",
          "2008-09",
          "2008-11",
          "2008-12",
          "2009-04",
          "2009-06",
          "2009-07",
          "2009-10",
          "2010-01",
          "2010-03",
          "2010-06",
          "2010-09",
          "2010-10",
          "2010-11",
          "2010-12",
          "2011-02",
          "2011-03",
          "2011-06",
          "2011-12",
          "2012-02",
          "2012-08",
          "2012-10",
          "2012-12",
          "2013-02",
          "2013-03",
          "2013-04",
          "2013-06",
          "2013-07",
          "2013-08",
          "2013-10",
          "2013-11",
          "2014-05",
          "2015-06",
          "2015-07",
          "2015-10",
          "2015-12",
          "2016-02"
         ],
         "xaxis": "x",
         "y": [
          11.168292016068309,
          12.449018824140563,
          13.7525707581904,
          13.54098713967118,
          0,
          11.897919855058129,
          12.479909311159902,
          13.132313708257497,
          11.156250521031495,
          6.84587987526405,
          12.111761966058932,
          11.955337210743508,
          11.461632170582678,
          12.999065161059836,
          11.782512311653468,
          12.921470435024938,
          13.710150042306449,
          14.32672570585589,
          10.926927199927325,
          14.056016899847107,
          11.77528972943772,
          13.65307162526667,
          13.416806045443032,
          11.976514816650907,
          10.165851817003619,
          11.326818017938109,
          13.346037399220043,
          9.211140052146748,
          6.1675164908883415,
          11.372856828553063,
          9.210340371976184,
          12.135214445541848,
          8.639058283877537,
          12.542544882151386,
          4.248495242049359,
          0,
          12.557609495154383,
          11.824956584693673,
          12.577636201962656,
          7.882314918980268,
          9.615805480084347,
          7.891330757661889,
          7.084333190133305,
          8.832359657421046,
          11.289781913656018,
          10.875258209472763,
          8.57810012631976,
          11.512925464970229,
          0,
          4.844187086458591,
          7.618251097876695,
          11.736069016284437,
          8.826147399143558,
          10.982747112688422,
          0,
          11.086057950601628,
          11.719939634354555,
          11.728036844587175,
          6.07073772800249,
          11.094624498483835,
          14.151982794585487,
          6.385505692125076,
          7.757529852264597,
          10.927322414246413,
          9.205930663487482,
          8.366370301681654
         ],
         "yaxis": "y"
        }
       ],
       "layout": {
        "legend": {
         "title": {
          "text": "variable"
         },
         "tracegroupgap": 0
        },
        "margin": {
         "t": 60
        },
        "template": {
         "data": {
          "bar": [
           {
            "error_x": {
             "color": "#2a3f5f"
            },
            "error_y": {
             "color": "#2a3f5f"
            },
            "marker": {
             "line": {
              "color": "#E5ECF6",
              "width": 0.5
             },
             "pattern": {
              "fillmode": "overlay",
              "size": 10,
              "solidity": 0.2
             }
            },
            "type": "bar"
           }
          ],
          "barpolar": [
           {
            "marker": {
             "line": {
              "color": "#E5ECF6",
              "width": 0.5
             },
             "pattern": {
              "fillmode": "overlay",
              "size": 10,
              "solidity": 0.2
             }
            },
            "type": "barpolar"
           }
          ],
          "carpet": [
           {
            "aaxis": {
             "endlinecolor": "#2a3f5f",
             "gridcolor": "white",
             "linecolor": "white",
             "minorgridcolor": "white",
             "startlinecolor": "#2a3f5f"
            },
            "baxis": {
             "endlinecolor": "#2a3f5f",
             "gridcolor": "white",
             "linecolor": "white",
             "minorgridcolor": "white",
             "startlinecolor": "#2a3f5f"
            },
            "type": "carpet"
           }
          ],
          "choropleth": [
           {
            "colorbar": {
             "outlinewidth": 0,
             "ticks": ""
            },
            "type": "choropleth"
           }
          ],
          "contour": [
           {
            "colorbar": {
             "outlinewidth": 0,
             "ticks": ""
            },
            "colorscale": [
             [
              0,
              "#0d0887"
             ],
             [
              0.1111111111111111,
              "#46039f"
             ],
             [
              0.2222222222222222,
              "#7201a8"
             ],
             [
              0.3333333333333333,
              "#9c179e"
             ],
             [
              0.4444444444444444,
              "#bd3786"
             ],
             [
              0.5555555555555556,
              "#d8576b"
             ],
             [
              0.6666666666666666,
              "#ed7953"
             ],
             [
              0.7777777777777778,
              "#fb9f3a"
             ],
             [
              0.8888888888888888,
              "#fdca26"
             ],
             [
              1,
              "#f0f921"
             ]
            ],
            "type": "contour"
           }
          ],
          "contourcarpet": [
           {
            "colorbar": {
             "outlinewidth": 0,
             "ticks": ""
            },
            "type": "contourcarpet"
           }
          ],
          "heatmap": [
           {
            "colorbar": {
             "outlinewidth": 0,
             "ticks": ""
            },
            "colorscale": [
             [
              0,
              "#0d0887"
             ],
             [
              0.1111111111111111,
              "#46039f"
             ],
             [
              0.2222222222222222,
              "#7201a8"
             ],
             [
              0.3333333333333333,
              "#9c179e"
             ],
             [
              0.4444444444444444,
              "#bd3786"
             ],
             [
              0.5555555555555556,
              "#d8576b"
             ],
             [
              0.6666666666666666,
              "#ed7953"
             ],
             [
              0.7777777777777778,
              "#fb9f3a"
             ],
             [
              0.8888888888888888,
              "#fdca26"
             ],
             [
              1,
              "#f0f921"
             ]
            ],
            "type": "heatmap"
           }
          ],
          "heatmapgl": [
           {
            "colorbar": {
             "outlinewidth": 0,
             "ticks": ""
            },
            "colorscale": [
             [
              0,
              "#0d0887"
             ],
             [
              0.1111111111111111,
              "#46039f"
             ],
             [
              0.2222222222222222,
              "#7201a8"
             ],
             [
              0.3333333333333333,
              "#9c179e"
             ],
             [
              0.4444444444444444,
              "#bd3786"
             ],
             [
              0.5555555555555556,
              "#d8576b"
             ],
             [
              0.6666666666666666,
              "#ed7953"
             ],
             [
              0.7777777777777778,
              "#fb9f3a"
             ],
             [
              0.8888888888888888,
              "#fdca26"
             ],
             [
              1,
              "#f0f921"
             ]
            ],
            "type": "heatmapgl"
           }
          ],
          "histogram": [
           {
            "marker": {
             "pattern": {
              "fillmode": "overlay",
              "size": 10,
              "solidity": 0.2
             }
            },
            "type": "histogram"
           }
          ],
          "histogram2d": [
           {
            "colorbar": {
             "outlinewidth": 0,
             "ticks": ""
            },
            "colorscale": [
             [
              0,
              "#0d0887"
             ],
             [
              0.1111111111111111,
              "#46039f"
             ],
             [
              0.2222222222222222,
              "#7201a8"
             ],
             [
              0.3333333333333333,
              "#9c179e"
             ],
             [
              0.4444444444444444,
              "#bd3786"
             ],
             [
              0.5555555555555556,
              "#d8576b"
             ],
             [
              0.6666666666666666,
              "#ed7953"
             ],
             [
              0.7777777777777778,
              "#fb9f3a"
             ],
             [
              0.8888888888888888,
              "#fdca26"
             ],
             [
              1,
              "#f0f921"
             ]
            ],
            "type": "histogram2d"
           }
          ],
          "histogram2dcontour": [
           {
            "colorbar": {
             "outlinewidth": 0,
             "ticks": ""
            },
            "colorscale": [
             [
              0,
              "#0d0887"
             ],
             [
              0.1111111111111111,
              "#46039f"
             ],
             [
              0.2222222222222222,
              "#7201a8"
             ],
             [
              0.3333333333333333,
              "#9c179e"
             ],
             [
              0.4444444444444444,
              "#bd3786"
             ],
             [
              0.5555555555555556,
              "#d8576b"
             ],
             [
              0.6666666666666666,
              "#ed7953"
             ],
             [
              0.7777777777777778,
              "#fb9f3a"
             ],
             [
              0.8888888888888888,
              "#fdca26"
             ],
             [
              1,
              "#f0f921"
             ]
            ],
            "type": "histogram2dcontour"
           }
          ],
          "mesh3d": [
           {
            "colorbar": {
             "outlinewidth": 0,
             "ticks": ""
            },
            "type": "mesh3d"
           }
          ],
          "parcoords": [
           {
            "line": {
             "colorbar": {
              "outlinewidth": 0,
              "ticks": ""
             }
            },
            "type": "parcoords"
           }
          ],
          "pie": [
           {
            "automargin": true,
            "type": "pie"
           }
          ],
          "scatter": [
           {
            "fillpattern": {
             "fillmode": "overlay",
             "size": 10,
             "solidity": 0.2
            },
            "type": "scatter"
           }
          ],
          "scatter3d": [
           {
            "line": {
             "colorbar": {
              "outlinewidth": 0,
              "ticks": ""
             }
            },
            "marker": {
             "colorbar": {
              "outlinewidth": 0,
              "ticks": ""
             }
            },
            "type": "scatter3d"
           }
          ],
          "scattercarpet": [
           {
            "marker": {
             "colorbar": {
              "outlinewidth": 0,
              "ticks": ""
             }
            },
            "type": "scattercarpet"
           }
          ],
          "scattergeo": [
           {
            "marker": {
             "colorbar": {
              "outlinewidth": 0,
              "ticks": ""
             }
            },
            "type": "scattergeo"
           }
          ],
          "scattergl": [
           {
            "marker": {
             "colorbar": {
              "outlinewidth": 0,
              "ticks": ""
             }
            },
            "type": "scattergl"
           }
          ],
          "scattermapbox": [
           {
            "marker": {
             "colorbar": {
              "outlinewidth": 0,
              "ticks": ""
             }
            },
            "type": "scattermapbox"
           }
          ],
          "scatterpolar": [
           {
            "marker": {
             "colorbar": {
              "outlinewidth": 0,
              "ticks": ""
             }
            },
            "type": "scatterpolar"
           }
          ],
          "scatterpolargl": [
           {
            "marker": {
             "colorbar": {
              "outlinewidth": 0,
              "ticks": ""
             }
            },
            "type": "scatterpolargl"
           }
          ],
          "scatterternary": [
           {
            "marker": {
             "colorbar": {
              "outlinewidth": 0,
              "ticks": ""
             }
            },
            "type": "scatterternary"
           }
          ],
          "surface": [
           {
            "colorbar": {
             "outlinewidth": 0,
             "ticks": ""
            },
            "colorscale": [
             [
              0,
              "#0d0887"
             ],
             [
              0.1111111111111111,
              "#46039f"
             ],
             [
              0.2222222222222222,
              "#7201a8"
             ],
             [
              0.3333333333333333,
              "#9c179e"
             ],
             [
              0.4444444444444444,
              "#bd3786"
             ],
             [
              0.5555555555555556,
              "#d8576b"
             ],
             [
              0.6666666666666666,
              "#ed7953"
             ],
             [
              0.7777777777777778,
              "#fb9f3a"
             ],
             [
              0.8888888888888888,
              "#fdca26"
             ],
             [
              1,
              "#f0f921"
             ]
            ],
            "type": "surface"
           }
          ],
          "table": [
           {
            "cells": {
             "fill": {
              "color": "#EBF0F8"
             },
             "line": {
              "color": "white"
             }
            },
            "header": {
             "fill": {
              "color": "#C8D4E3"
             },
             "line": {
              "color": "white"
             }
            },
            "type": "table"
           }
          ]
         },
         "layout": {
          "annotationdefaults": {
           "arrowcolor": "#2a3f5f",
           "arrowhead": 0,
           "arrowwidth": 1
          },
          "autotypenumbers": "strict",
          "coloraxis": {
           "colorbar": {
            "outlinewidth": 0,
            "ticks": ""
           }
          },
          "colorscale": {
           "diverging": [
            [
             0,
             "#8e0152"
            ],
            [
             0.1,
             "#c51b7d"
            ],
            [
             0.2,
             "#de77ae"
            ],
            [
             0.3,
             "#f1b6da"
            ],
            [
             0.4,
             "#fde0ef"
            ],
            [
             0.5,
             "#f7f7f7"
            ],
            [
             0.6,
             "#e6f5d0"
            ],
            [
             0.7,
             "#b8e186"
            ],
            [
             0.8,
             "#7fbc41"
            ],
            [
             0.9,
             "#4d9221"
            ],
            [
             1,
             "#276419"
            ]
           ],
           "sequential": [
            [
             0,
             "#0d0887"
            ],
            [
             0.1111111111111111,
             "#46039f"
            ],
            [
             0.2222222222222222,
             "#7201a8"
            ],
            [
             0.3333333333333333,
             "#9c179e"
            ],
            [
             0.4444444444444444,
             "#bd3786"
            ],
            [
             0.5555555555555556,
             "#d8576b"
            ],
            [
             0.6666666666666666,
             "#ed7953"
            ],
            [
             0.7777777777777778,
             "#fb9f3a"
            ],
            [
             0.8888888888888888,
             "#fdca26"
            ],
            [
             1,
             "#f0f921"
            ]
           ],
           "sequentialminus": [
            [
             0,
             "#0d0887"
            ],
            [
             0.1111111111111111,
             "#46039f"
            ],
            [
             0.2222222222222222,
             "#7201a8"
            ],
            [
             0.3333333333333333,
             "#9c179e"
            ],
            [
             0.4444444444444444,
             "#bd3786"
            ],
            [
             0.5555555555555556,
             "#d8576b"
            ],
            [
             0.6666666666666666,
             "#ed7953"
            ],
            [
             0.7777777777777778,
             "#fb9f3a"
            ],
            [
             0.8888888888888888,
             "#fdca26"
            ],
            [
             1,
             "#f0f921"
            ]
           ]
          },
          "colorway": [
           "#636efa",
           "#EF553B",
           "#00cc96",
           "#ab63fa",
           "#FFA15A",
           "#19d3f3",
           "#FF6692",
           "#B6E880",
           "#FF97FF",
           "#FECB52"
          ],
          "font": {
           "color": "#2a3f5f"
          },
          "geo": {
           "bgcolor": "white",
           "lakecolor": "white",
           "landcolor": "#E5ECF6",
           "showlakes": true,
           "showland": true,
           "subunitcolor": "white"
          },
          "hoverlabel": {
           "align": "left"
          },
          "hovermode": "closest",
          "mapbox": {
           "style": "light"
          },
          "paper_bgcolor": "white",
          "plot_bgcolor": "#E5ECF6",
          "polar": {
           "angularaxis": {
            "gridcolor": "white",
            "linecolor": "white",
            "ticks": ""
           },
           "bgcolor": "#E5ECF6",
           "radialaxis": {
            "gridcolor": "white",
            "linecolor": "white",
            "ticks": ""
           }
          },
          "scene": {
           "xaxis": {
            "backgroundcolor": "#E5ECF6",
            "gridcolor": "white",
            "gridwidth": 2,
            "linecolor": "white",
            "showbackground": true,
            "ticks": "",
            "zerolinecolor": "white"
           },
           "yaxis": {
            "backgroundcolor": "#E5ECF6",
            "gridcolor": "white",
            "gridwidth": 2,
            "linecolor": "white",
            "showbackground": true,
            "ticks": "",
            "zerolinecolor": "white"
           },
           "zaxis": {
            "backgroundcolor": "#E5ECF6",
            "gridcolor": "white",
            "gridwidth": 2,
            "linecolor": "white",
            "showbackground": true,
            "ticks": "",
            "zerolinecolor": "white"
           }
          },
          "shapedefaults": {
           "line": {
            "color": "#2a3f5f"
           }
          },
          "ternary": {
           "aaxis": {
            "gridcolor": "white",
            "linecolor": "white",
            "ticks": ""
           },
           "baxis": {
            "gridcolor": "white",
            "linecolor": "white",
            "ticks": ""
           },
           "bgcolor": "#E5ECF6",
           "caxis": {
            "gridcolor": "white",
            "linecolor": "white",
            "ticks": ""
           }
          },
          "title": {
           "x": 0.05
          },
          "xaxis": {
           "automargin": true,
           "gridcolor": "white",
           "linecolor": "white",
           "ticks": "",
           "title": {
            "standoff": 15
           },
           "zerolinecolor": "white",
           "zerolinewidth": 2
          },
          "yaxis": {
           "automargin": true,
           "gridcolor": "white",
           "linecolor": "white",
           "ticks": "",
           "title": {
            "standoff": 15
           },
           "zerolinecolor": "white",
           "zerolinewidth": 2
          }
         }
        },
        "xaxis": {
         "anchor": "y",
         "domain": [
          0,
          1
         ],
         "title": {
          "text": "TIME"
         }
        },
        "yaxis": {
         "anchor": "x",
         "domain": [
          0,
          1
         ],
         "title": {
          "text": "value"
         }
        }
       }
      }
     },
     "metadata": {},
     "output_type": "display_data"
    }
   ],
   "source": [
    "def plot_monthly_average(df, cols):\n",
    "    return px.line(\n",
    "        df.dropna(subset=cols)\n",
    "        .assign(TIME=df[\"OUTAGE.START\"].dt.strftime(\"%Y-%m\"))\n",
    "        .groupby(\"TIME\")[cols]\n",
    "        .mean()\n",
    "    )\n",
    "\n",
    "\n",
    "log = lambda x: np.log(x) if x else np.nan\n",
    "extra_features = cleaned.assign(\n",
    "    LOG_DEMAND_LOSS_MW=cleaned[\"DEMAND.LOSS.MW\"].apply(log),\n",
    "    LOG_OUTAGE_DURATION=cleaned[\"OUTAGE.DURATION\"].apply(log),\n",
    "    LOG_CUSTOMERS_AFFECTED=cleaned[\"CUSTOMERS.AFFECTED\"].apply(log),\n",
    "    START_HR=cleaned[\"OUTAGE.START\"].dt.hour,\n",
    "    START_DAY=cleaned[\"OUTAGE.START\"].dt.day,\n",
    "    START_DAYOFWEEK=cleaned[\"OUTAGE.START\"].dt.dayofweek,\n",
    "    RESTORATION_HR=cleaned[\"OUTAGE.RESTORATION\"].dt.hour,\n",
    "    RESTORATION_DAY=cleaned[\"OUTAGE.RESTORATION\"].dt.day,\n",
    "    RESTORATION_DAYOFWEEK=cleaned[\"OUTAGE.RESTORATION\"].dt.dayofweek,\n",
    ")\n",
    "plot_monthly_average(\n",
    "    extra_features.query(\"`POSTAL.CODE` == 'CA'\"),\n",
    "    [\"LOG_DEMAND_LOSS_MW\", \"LOG_OUTAGE_DURATION\", \"LOG_CUSTOMERS_AFFECTED\"],\n",
    ")"
   ]
  },
  {
   "cell_type": "code",
   "execution_count": 17,
   "metadata": {},
   "outputs": [
    {
     "data": {
      "text/plain": [
       "<Axes: >"
      ]
     },
     "execution_count": 17,
     "metadata": {},
     "output_type": "execute_result"
    },
    {
     "data": {
      "image/png": "[encoded data removed]",
      "text/plain": [
       "<Figure size 640x480 with 2 Axes>"
      ]
     },
     "metadata": {},
     "output_type": "display_data"
    }
   ],
   "source": [
    "cat_cols = [\n",
    "    \"U.S._STATE\",\n",
    "    \"POSTAL.CODE\",\n",
    "    \"NERC.REGION\",\n",
    "    \"CLIMATE.REGION\",\n",
    "    \"CLIMATE.CATEGORY\",\n",
    "    \"CAUSE.CATEGORY\",\n",
    "    \"CAUSE.CATEGORY.DETAIL\",\n",
    "    \"HURRICANE.NAMES\",\n",
    "]\n",
    "corr_matrix = extra_features.drop(cat_cols, axis=1).corr()\n",
    "sns.heatmap(corr_matrix, cmap=\"coolwarm\")"
   ]
  },
  {
   "cell_type": "code",
   "execution_count": 18,
   "metadata": {},
   "outputs": [
    {
     "data": {
      "application/vnd.plotly.v1+json": {
       "config": {
        "plotlyServerURL": "https://plot.ly"
       },
       "data": [
        {
         "alignmentgroup": "True",
         "bingroup": "x",
         "hovertemplate": "LOG_OUTAGE_DURATION=%{x}<br>count=%{y}<extra></extra>",
         "legendgroup": "",
         "marker": {
          "color": "#636efa",
          "pattern": {
           "shape": ""
          }
         },
         "name": "",
         "nbinsx": 100,
         "offsetgroup": "",
         "orientation": "v",
         "showlegend": false,
         "type": "histogram",
         "x": [
          8.026170194946426,
          0,
          8.006367567650246,
          7.843848638152472,
          7.461640392208575,
          7.528331766707247,
          7.996317231796746,
          8.283999304248526,
          5.043425116919247,
          8.19450550976564,
          8.954156966583772,
          9.091556835986216,
          null,
          7.186901020411631,
          4.0943445622221,
          2.9444389791664403,
          null,
          3.044522437723423,
          5.278114659230517,
          6.733401891837359,
          6.840546529288687,
          7.138866999945524,
          null,
          6.428105272684596,
          5.0106352940962555,
          6.635946555686647,
          null,
          6.492239835020471,
          0,
          7.90100705199242,
          0,
          8.501267040865978,
          4.553876891600541,
          5.5254529391317835,
          8.324821298768782,
          7.843848638152472,
          null,
          7.090076835776092,
          5.736572297479192,
          7.943782692458625,
          8.52793528794814,
          4.912654885736052,
          6.269096283706261,
          5.0106352940962555,
          3.828641396489095,
          0,
          7.560080465021827,
          null,
          3.4657359027997265,
          null,
          4.90527477843843,
          8.006367567650246,
          3.4657359027997265,
          11.595914596900252,
          9.044049632254756,
          6.866933284461882,
          3.784189633918261,
          7.380879035564116,
          8.391629968440892,
          5.961005339623274,
          6.173786103901937,
          7.105786129481271,
          4.499809670330265,
          9.834137474401334,
          6.2878585601617845,
          4.6443908991413725,
          4.0943445622221,
          7.148345743900068,
          4.0943445622221,
          0,
          6.907755278982137,
          9.760713578544673,
          9.16701524723781,
          8.035926369891792,
          8.781094735202615,
          8.669055540725484,
          6.982862751468942,
          7.321849713788356,
          8.482601746646619,
          8.02322468471667,
          8.34283980427146,
          7.642524134232902,
          8.653470809708786,
          8.364042011922063,
          7.8898337513942955,
          8.17188200612782,
          8.19891444498699,
          7.444248649496705,
          8.371010681238156,
          8.272570608424903,
          8.045588280803528,
          8.431635303054591,
          8.92665032079394,
          8.523970175695261,
          9.006999447958153,
          8.101677747454572,
          8.371010681238156,
          7.478734825567875,
          9.19593714166544,
          8.313852267398207,
          8.642944396721798,
          8.648221453822641,
          7.598399329323964,
          5.703782474656201,
          8.539932678385727,
          7.8898337513942955,
          8.942460926820582,
          8.37516869138682,
          6.634633357861686,
          8.658692753689937,
          7.944492163932159,
          8.32117830749028,
          8.11969625295725,
          8.011355109161286,
          5.44673737166631,
          9.352273867864849,
          8.767173396684006,
          10.738134295369774,
          8.648221453822641,
          8.632305998516742,
          11.269285795950942,
          5.598421958998375,
          8.306472160100585,
          8.676757761087575,
          0,
          7.751475318021456,
          8.335671314792847,
          8.408493774492896,
          7.898782356970309,
          5.123963979403259,
          8.626944055375356,
          6.558197802812269,
          9.380083146563278,
          8.158802490694002,
          8.425077902508432,
          7.9229859587111955,
          8.658692753689937,
          9.09627541568821,
          8.704502289721232,
          8.961879012677683,
          8.352790135124629,
          8.045588280803528,
          8.648221453822641,
          6.802394763324311,
          6.952728644624869,
          8.938531648680692,
          8.196987927258897,
          7.138866999945524,
          8.672486075822272,
          8.663887570567042,
          7.944492163932159,
          6.396929655216146,
          8.356789669923213,
          7.985824666418917,
          8.865029186687766,
          8.1886891244442,
          7.370230641807081,
          8.357024439263416,
          7.90100705199242,
          5.298317366548036,
          9.039552050995901,
          4.442651256490317,
          9.121509158269568,
          6.926577033222725,
          6.040254711277414,
          7.038783541388542,
          8.914626127827137,
          8.402455513945814,
          5.921578419643816,
          7.0925737159746784,
          6.7661917146603505,
          7.282761179605593,
          5.327876168789581,
          7.085901464365611,
          7.351799869057777,
          6.802394763324311,
          7.897296472595885,
          8.539932678385727,
          1.6094379124341003,
          5.241747015059643,
          7.669495251007694,
          5.886104031450156,
          null,
          5.41610040220442,
          7.757906208351747,
          6.173786103901937,
          9.157572306437528,
          6.173786103901937,
          8.006367567650246,
          5.703782474656201,
          8.013012110368916,
          6.641182169740591,
          null,
          7.19668657083435,
          5.2832037287379885,
          5.501258210544727,
          8.08794755464267,
          9.407550541263888,
          6.981934677156389,
          6.396929655216146,
          5.225746673713202,
          6.536691597591305,
          10.229115487402662,
          5.996452088619021,
          7.791522819150732,
          5.7899601708972535,
          0,
          7.528331766707247,
          5.393627546352362,
          6.12029741895095,
          5.762051382780177,
          6.6293632534374485,
          6.741700694652055,
          6.016157159698354,
          5.3706380281276624,
          1.6094379124341003,
          6.345636360828596,
          9.402942238177694,
          7.884199933676039,
          9.911455722185305,
          7.272398392570047,
          6.396929655216146,
          3.6635616461296463,
          5.198497031265826,
          7.077498053569231,
          7.313220387090301,
          null,
          5.602118820879701,
          7.528331766707247,
          7.090076835776092,
          7.677400430514807,
          8.748304912379623,
          null,
          7.3901814282264295,
          5.4116460518550396,
          4.248495242049359,
          7.436617265234227,
          4.553876891600541,
          7.705262474866325,
          null,
          8.963032193662675,
          7.090076835776092,
          4.795790545596741,
          4.143134726391533,
          8.629628620746026,
          0,
          6.322565239927284,
          5.480638923341991,
          8.11969625295725,
          6.529418838262226,
          7.731930721948486,
          5.3471075307174685,
          5.117993812416755,
          7.560080465021827,
          8.18004072349016,
          8.101677747454572,
          2.302585092994046,
          7.352441100243583,
          6.733401891837359,
          5.480638923341991,
          6.897704943128636,
          8.699514748210191,
          9.79059877045751,
          7.156176637480615,
          6.984716320118266,
          8.927977461002001,
          7.1853870155804165,
          7.01211529430638,
          10.229115487402662,
          4.867534450455582,
          8.019612794400267,
          5.976350909297934,
          9.224243277145174,
          9.911455722185305,
          9.977666950710379,
          3.8066624897703196,
          0,
          7.090076835776092,
          6.309918278226516,
          6.802394763324311,
          6.785587645007929,
          6.84587987526405,
          null,
          8.022896869601457,
          7.512071245835466,
          8.699514748210191,
          7.313220387090301,
          5.0106352940962555,
          7.578145472419466,
          7.705262474866325,
          5.799092654460526,
          4.30406509320417,
          6.040254711277414,
          7.272398392570047,
          5.541263545158426,
          6.966024187106113,
          9.412464556066316,
          8.565983355585669,
          8.371010681238156,
          4.787491742782046,
          5.4510384535657,
          null,
          4.174387269895637,
          7.659171367666058,
          4.564348191467836,
          1.0986122886681098,
          8.371010681238156,
          4.174387269895637,
          7.671360923190644,
          4.564348191467836,
          8.302017809751204,
          7.855544677915663,
          1.791759469228055,
          6.343880434126331,
          null,
          9.67721410821299,
          5.298317366548036,
          7.590852123688581,
          8.305236829492593,
          7.912056888179006,
          8.105911197986508,
          8.898228985601227,
          0,
          3.8501476017100584,
          7.272398392570047,
          5.62040086571715,
          null,
          null,
          8.201385955238608,
          7.029972911706386,
          7.965545573129992,
          6.240275845170769,
          3.5553480614894135,
          10.076305761898272,
          2.302585092994046,
          8.261526448396468,
          10.05134705577498,
          9.412464556066316,
          5.966146739123692,
          null,
          8.090708716083997,
          7.114769448366463,
          6.688354713946762,
          4.343805421853684,
          3.4011973816621555,
          5.703782474656201,
          0,
          1.6094379124341003,
          7.27931883541462,
          7.893572073504902,
          null,
          8.937087036176523,
          5.0106352940962555,
          8.006367567650246,
          6.040254711277414,
          6.171700597410915,
          7.426549072397305,
          7.90100705199242,
          5.003946305945459,
          7.01211529430638,
          7.933796874815411,
          6.490723534502507,
          7.1853870155804165,
          7.512071245835466,
          8.006367567650246,
          null,
          6.76849321164863,
          6.697034247666484,
          7.197435354096591,
          7.43543801981455,
          5.886104031450156,
          5.886104031450156,
          4.787491742782046,
          8.006367567650246,
          7.162397497355718,
          7.333023014386481,
          7.7706452341291765,
          7.090076835776092,
          7.090076835776092,
          4.499809670330265,
          4.787491742782046,
          7.090076835776092,
          7.923348211930154,
          6.579251212010101,
          7.02108396428914,
          7.649692623711514,
          6.866933284461882,
          6.1092475827643655,
          7.272398392570047,
          6.927557906278317,
          null,
          7.605890001053122,
          4.787491742782046,
          9.130214327496898,
          7.122866658599083,
          6.142037405587356,
          null,
          7.807916628926408,
          7.075808863978387,
          9.091556835986216,
          5.976350909297934,
          5.389071729816501,
          6.18826412308259,
          2.9444389791664403,
          3.332204510175204,
          null,
          0,
          8.582980931954241,
          9.09829086816756,
          6.1463292576688975,
          null,
          7.560080465021827,
          null,
          3.2188758248682006,
          6.040254711277414,
          7.620705086838262,
          null,
          0,
          7.260522598089852,
          4.0943445622221,
          7.3901814282264295,
          8.101677747454572,
          5.953243334287785,
          6.4967749901858625,
          4.812184355372417,
          7.151485463904735,
          7.5595594960077,
          null,
          6.0867747269123065,
          8.808369153122275,
          null,
          null,
          null,
          6.57507584059962,
          7.093404625868766,
          5.676753802268282,
          5.746203190540153,
          0,
          1.6094379124341003,
          8.744488113852924,
          null,
          4.30406509320417,
          null,
          null,
          5.5134287461649825,
          0,
          7.90100705199242,
          3.2188758248682006,
          4.836281906951478,
          0,
          5.541263545158426,
          7.095893221097532,
          null,
          null,
          5.501258210544727,
          6.16541785423142,
          null,
          null,
          null,
          0,
          7.878155336503324,
          6.218600119691729,
          6.306275286948016,
          5.910796644040527,
          8.776475789346321,
          2.70805020110221,
          1.6094379124341003,
          null,
          0,
          null,
          6.068425588244111,
          3.044522437723423,
          7.436617265234227,
          null,
          7.869019376499023,
          9.172638504792172,
          8.162516250140179,
          7.944492163932159,
          5.749392985908253,
          8.675051276031818,
          null,
          null,
          0,
          10.033155240658164,
          4.248495242049359,
          8.36287583103188,
          5.872117789475416,
          null,
          7.832014180505469,
          null,
          5.19295685089021,
          6.317164686747284,
          3.912023005428146,
          4.248495242049359,
          5.19295685089021,
          8.253748343328501,
          3.5553480614894135,
          0,
          5.241747015059643,
          10.80608495727828,
          8.34283980427146,
          5.8664680569332965,
          0,
          4.465908118654584,
          4.189654742026425,
          null,
          0,
          5.424950017481403,
          null,
          7.272398392570047,
          0,
          7.90100705199242,
          null,
          10.80608495727828,
          0.6931471805599453,
          5.3706380281276624,
          6.111467339502679,
          6.035481432524756,
          4.605170185988092,
          7.611347717403621,
          7.421177528595393,
          8.278428259199071,
          8.405143687607614,
          7.731492029245684,
          8.39840965542627,
          7.9229859587111955,
          null,
          0,
          null,
          0,
          7.517520850603031,
          6.059123195581797,
          5.802118375377063,
          7.590852123688581,
          0,
          0,
          7.575584651557793,
          8.01862546504575,
          0,
          0,
          7.086737934510577,
          8.63550941823428,
          7.272398392570047,
          8.948975607841776,
          0.6931471805599453,
          9.464207095933233,
          8.350429973538136,
          4.553876891600541,
          7.867105500316739,
          8.371010681238156,
          2.833213344056216,
          4.727387818712341,
          null,
          7.826842098158293,
          null,
          0,
          8.501063809486354,
          0,
          8.313852267398207,
          null,
          6.866933284461882,
          5.220355825078324,
          7.1853870155804165,
          7.422373700986824,
          7.956827122090111,
          8.026170194946426,
          6.336825731146441,
          0,
          0,
          8.895355616996392,
          8.663887570567042,
          8.019612794400267,
          9.367344120785848,
          8.985570498917388,
          5.717027701406222,
          8.415603335654604,
          null,
          8.025516386489008,
          9.50159106930499,
          7.9603236291488395,
          5.0238805208462765,
          5.940171252720432,
          9.153770020487789,
          8.962263554116761,
          8.626764827845529,
          9.102643796520809,
          8.476371196895983,
          8.026170194946426,
          8.474703139795285,
          8.267192185932146,
          7.471363088187097,
          7.965545573129992,
          8.001355025826703,
          5.099866427824199,
          8.080856419640986,
          7.7488913372555315,
          8.37516869138682,
          7.965545573129992,
          7.446585099157725,
          4.499809670330265,
          4.07753744390572,
          8.328209491748732,
          9.261983605128021,
          8.844768827529695,
          6.835184586147301,
          5.627621113690637,
          5.700443573390687,
          8.57922858233569,
          7.965545573129992,
          0,
          8.357024439263416,
          8.811801223938751,
          8.548691858475609,
          7.272398392570047,
          4.356708826689592,
          8.925720273560222,
          7.889084407035514,
          0,
          5.929589143389895,
          7.188412736496954,
          8.84505705350085,
          7.895063498091573,
          3.9889840465642745,
          4.605170185988092,
          6.579251212010101,
          7.965545573129992,
          8.067462667010057,
          7.933796874815411,
          9.523617089089445,
          7.952615111651,
          9.509555680241636,
          7.403670290012373,
          8.950143756459262,
          8.865029186687766,
          7.272398392570047,
          0,
          7.426549072397305,
          7.364547014255642,
          6.480044561926653,
          4.68213122712422,
          5.703782474656201,
          6.927557906278317,
          8.180320874773685,
          8.778325928634482,
          10.073230327123223,
          9.259035293514941,
          9.627734050949622,
          null,
          4.787491742782046,
          0,
          0,
          0,
          0,
          0,
          0,
          4.0943445622221,
          4.727387818712341,
          5.318119993844216,
          3.4339872044851463,
          4.04305126783455,
          2.5649493574615367,
          0.6931471805599453,
          2.3978952727983707,
          5.645446897643238,
          null,
          0,
          6.769641976852503,
          7.396948602621014,
          4.02535169073515,
          2.70805020110221,
          2.70805020110221,
          2.995732273553991,
          4.0943445622221,
          0,
          4.553876891600541,
          5.703782474656201,
          0,
          8.066521490469993,
          6.354370040797351,
          7.729735331385051,
          2.70805020110221,
          0,
          3.784189633918261,
          3.044522437723423,
          0,
          4.736198448394496,
          0,
          4.0943445622221,
          8.501063809486354,
          null,
          8.501063809486354,
          6.040254711277414,
          null,
          1.9459101490553132,
          3.044522437723423,
          5.8289456176102075,
          8.34283980427146,
          6.690842277418564,
          8.525161361065415,
          8.913281137711804,
          8.610683534503575,
          5.10594547390058,
          8.196987927258897,
          9.36220272128543,
          7.371489295214277,
          8.051022208190679,
          7.272398392570047,
          8.977146484808472,
          5.886104031450156,
          null,
          7.272398392570047,
          7.22402480828583,
          8.776475789346321,
          7.691656822810547,
          5.652489180268651,
          4.31748811353631,
          7.519149957669823,
          0,
          9.352794339771116,
          7.258412150595307,
          null,
          6.835184586147301,
          9.343121483210002,
          null,
          5.863631175598097,
          null,
          6.866933284461882,
          7.457609289715606,
          8.213381737034572,
          9.270400128403846,
          6.452048954437226,
          9.33078652505205,
          7.272398392570047,
          5.19295685089021,
          7.3613754289773485,
          3.8066624897703196,
          6.333279628139691,
          5.961005339623274,
          5.921578419643816,
          8.414052432496725,
          5.66988092298052,
          7.575584651557793,
          5.598421958998375,
          7.2115567333138015,
          7.183870715062453,
          7.820037989458753,
          7.142827401161621,
          5.272999558563747,
          8.045588280803528,
          8.127995055771946,
          6.932447891572509,
          6.897704943128636,
          5.480638923341991,
          7.3031700512368,
          4.859812404361672,
          null,
          7.331714969726466,
          7.5443321080536885,
          7.844240718141811,
          6.892641641172089,
          6.003887067106539,
          7.437206366871292,
          5.117993812416755,
          7.286191714702382,
          5.204006687076795,
          8.321907968230423,
          null,
          6.785587645007929,
          2.70805020110221,
          3.7376696182833684,
          6.956545443151569,
          0,
          4.882801922586371,
          8.32845106681936,
          7.965545573129992,
          null,
          9.343996756788856,
          8.188411308079031,
          null,
          7.9865049385539955,
          null,
          8.714403360703942,
          7.21890970761906,
          5.926926025970411,
          7.832014180505469,
          9.21830854162536,
          4.330733340286331,
          null,
          8.221478947267192,
          5.808142489980444,
          null,
          5.8664680569332965,
          9.335826992017598,
          null,
          null,
          8.856518497019858,
          9.310909426897878,
          null,
          9.144200569471638,
          8.101677747454572,
          8.113426639943654,
          7.965545573129992,
          9.357034751126987,
          9.169518377455928,
          9.488047863280759,
          9.181838011503471,
          6.1903154058531475,
          7.789454566086673,
          5.19295685089021,
          8.337348564497175,
          8.914626127827137,
          8.15478757276852,
          8.794824928014517,
          5.703782474656201,
          7.330405211844402,
          4.0943445622221,
          5.3471075307174685,
          0.6931471805599453,
          7.2078598714324755,
          4.290459441148391,
          0,
          5.298317366548036,
          null,
          null,
          8.384804003370492,
          null,
          4.787491742782046,
          7.893572073504902,
          6.733401891837359,
          6.8966943316227125,
          8.369388996647842,
          5.365976015021851,
          1.3862943611198906,
          5.099866427824199,
          4.51085950651685,
          6.956545443151569,
          6.731018100482083,
          4.0943445622221,
          0,
          0,
          9.198874893866904,
          7.793586803371584,
          5.966146739123692,
          9.581903928408666,
          8.803874763534434,
          5.0689042022202315,
          3.9889840465642745,
          3.4011973816621555,
          8.996775795442296,
          6.75110146893676,
          4.174387269895637,
          6.697034247666484,
          8.330863613224745,
          8.463792414689122,
          3.2188758248682006,
          null,
          null,
          7.635303886259415,
          6.76849321164863,
          9.445570584425539,
          7.965545573129992,
          4.787491742782046,
          7.089243155027514,
          null,
          7.293017679772782,
          8.32845106681936,
          9.64342064711732,
          3.912023005428146,
          null,
          0,
          0,
          null,
          null,
          null,
          6.124683390894205,
          0,
          0,
          null,
          3.4011973816621555,
          0,
          0,
          4.174387269895637,
          0,
          null,
          null,
          null,
          0,
          null,
          0,
          null,
          0,
          0,
          4.700480365792417,
          3.6635616461296463,
          0,
          0,
          0,
          0,
          0,
          0,
          6.2285110035911835,
          5.3612921657094255,
          8.355614995760183,
          0,
          0,
          3.970291913552122,
          null,
          null,
          5.5254529391317835,
          5.849324779946859,
          7.400620577371135,
          9.969275293074132,
          7.6783263565068856,
          7.965545573129992,
          6.950814768442584,
          9.067624069774588,
          4.02535169073515,
          4.532599493153256,
          2.5649493574615367,
          7.644440761556566,
          9.91739045770512,
          9.591444479171411,
          7.965545573129992,
          6.523562306149512,
          6.202535517187923,
          0,
          8.585785982881848,
          null,
          8.279697133877628,
          8.101677747454572,
          5.25227342804663,
          null,
          4.290459441148391,
          8.451053388911692,
          9.759039648170255,
          9.21830854162536,
          9.280425979542871,
          0,
          1.6094379124341003,
          7.83002808253384,
          10.16277015046621,
          7.912056888179006,
          9.156939595249067,
          8.594154232552366,
          3.4011973816621555,
          8.18423477409482,
          8.1886891244442,
          8.674196940225903,
          8.457443187010464,
          0,
          7.4570320891223805,
          null,
          10.044987114809828,
          7.495541943884256,
          8.711772645605693,
          null,
          3.8918202981106265,
          7.740229524763182,
          8.658692753689937,
          6.040254711277414,
          8.898365606955357,
          7.965545573129992,
          6.104793232414985,
          7.832014180505469,
          9.837187480778896,
          8.614864218589684,
          3.044522437723423,
          7.649692623711514,
          8.045588280803528,
          9.014447135152134,
          8.083328608786376,
          7.965545573129992,
          5.541263545158426,
          7.764296006450518,
          5.081404364984463,
          3.912023005428146,
          5.552959584921617,
          9.483416292038601,
          9.064157861798101,
          9.811372263628323,
          9.648079040634643,
          9.020147920801659,
          null,
          5.703782474656201,
          9.574983485564092,
          8.982435503560263,
          7.783224016336037,
          9.332203959733024,
          3.871201010907891,
          11.010068010853415,
          10.246012860870419,
          5.703782474656201,
          8.9939241414114,
          7.928406026180535,
          7.928406026180535,
          7.67786350067821,
          7.649692623711514,
          7.928406026180535,
          8.064636475774222,
          7.928406026180535,
          7.272398392570047,
          6.063785208687608,
          7.663407664893479,
          7.470224135899966,
          null,
          6.539585955617669,
          6.595780513961311,
          1.9459101490553132,
          6.234410725718371,
          6.040254711277414,
          9.48910782703839,
          6.322565239927284,
          5.703782474656201,
          9.787627666441592,
          9.924074186144516,
          8.738735461363474,
          6.1463292576688975,
          8.028455164114252,
          8.026170194946426,
          5.872117789475416,
          6.063785208687608,
          5.703782474656201,
          5.424950017481403,
          3.9512437185814275,
          null,
          7.965545573129992,
          9.841824892144022,
          7.532088143541722,
          7.432483807917119,
          5.68697535633982,
          2.833213344056216,
          5.480638923341991,
          9.771098364490383,
          9.010547069270189,
          5.204006687076795,
          8.669055540725484,
          4.418840607796598,
          5.438079308923196,
          7.605392364814935,
          6.579251212010101,
          5.043425116919247,
          8.371010681238156,
          8.371010681238156,
          6.173786103901937,
          6.912742820493176,
          5.3981627015177525,
          5.918893854273146,
          9.505246289517283,
          8.371010681238156,
          4.51085950651685,
          7.257707677160043,
          8.1886891244442,
          9.21830854162536,
          8.531293315795018,
          5.0238805208462765,
          8.830543010616596,
          5.3981627015177525,
          10.117792155183134,
          3.6375861597263857,
          4.110873864173311,
          8.930626469173578,
          4.499809670330265,
          9.24763615671988,
          5.981414211254481,
          7.620705086838262,
          9.397649470281177,
          6.984716320118266,
          7.426549072397305,
          9.54108193388841,
          9.55400099583723,
          7.002155954403621,
          7.807916628926408,
          6.29156913955832,
          3.9512437185814275,
          6.704414354964107,
          6.040254711277414,
          5.043425116919247,
          6.07993319509559,
          5.5093883366279774,
          6.29156913955832,
          7.034387929915503,
          6.07993319509559,
          5.19295685089021,
          5.14166355650266,
          6.486160788944089,
          4.430816798843313,
          5.308267697401205,
          5.541263545158426,
          6.960347729101308,
          0,
          7.134093721192866,
          7.283448228756631,
          5.176149732573829,
          4.663439094112067,
          3.4657359027997265,
          7.80954132465341,
          4.007333185232471,
          4.969813299576001,
          4.248495242049359,
          4.1588830833596715,
          9.090768236835338,
          6.851184927493743,
          null,
          6.259581464064923,
          4.02535169073515,
          1.0986122886681098,
          9.044521887281242,
          5.043425116919247,
          3.4965075614664802,
          6.618738983517219,
          5.0689042022202315,
          null,
          5.598421958998375,
          7.933796874815411,
          5.4116460518550396,
          7.293017679772782,
          5.811140992976701,
          7.6255950721324535,
          5.91350300563827,
          3.258096538021482,
          6.680854678790215,
          2.4849066497880004,
          5.272999558563747,
          0,
          5.438079308923196,
          4.8283137373023015,
          2.70805020110221,
          5.755742213586912,
          5.8998973535824915,
          7.352441100243583,
          8.463792414689122,
          5.683579767338681,
          6.12029741895095,
          7.964850887447313,
          5.817111159963204,
          5.68697535633982,
          6.173786103901937,
          3.2188758248682006,
          null,
          5.407171771460119,
          7.8804263442924,
          7.60887062919126,
          8.905308661189288,
          5.886104031450156,
          8.133880887949207,
          8.21554741194707,
          8.494947582468917,
          0,
          6.769641976852503,
          7.922623574217286,
          5.521460917862246,
          8.101980731853192,
          5.517452896464707,
          5.099866427824199,
          6.075346031088684,
          6.040254711277414,
          6.74993119378857,
          8.548691858475609,
          4.890349128221754,
          9.627734050949622,
          7.628031126930335,
          6.111467339502679,
          4.941642422609304,
          5.293304824724492,
          6.580639137284949,
          5.187385805840755,
          7.329093736246592,
          4.356708826689592,
          5.5909869805108565,
          3.6635616461296463,
          0,
          9.560292770154089,
          3.8501476017100584,
          5.081404364984463,
          6.802394763324311,
          8.711113884053544,
          6.546785410760524,
          5.455321115357702,
          2.6390573296152584,
          8.684401110400144,
          null,
          10.445521103426312,
          3.6888794541139363,
          5.111987788356544,
          5.204006687076795,
          6.720220155135295,
          2.70805020110221,
          4.1588830833596715,
          2.5649493574615367,
          5.501258210544727,
          6.984716320118266,
          null,
          5.966146739123692,
          3.8501476017100584,
          5.594711379601839,
          null,
          5.991464547107982,
          6.492239835020471,
          5.3612921657094255,
          null,
          6.634633357861686,
          8.99961934066053,
          5.19295685089021,
          4.820281565605037,
          8.371010681238156,
          7.944492163932159,
          8.039157390473237,
          10.80825211257166,
          6.8966943316227125,
          4.8283137373023015,
          3.784189633918261,
          3.258096538021482,
          5.501258210544727,
          null,
          4.584967478670572,
          0,
          null,
          4.90527477843843,
          3.912023005428146,
          6.915723448631314,
          3.970291913552122,
          6.317164686747284,
          7.138866999945524,
          7.970740390007095,
          4.48863636973214,
          4.584967478670572,
          6.762729506931879,
          4.852030263919617,
          5.438079308923196,
          5.529429087511423,
          4.867534450455582,
          1.6094379124341003,
          5.056245805348308,
          8.84130362048157,
          2.3978952727983707,
          2.5649493574615367,
          7.965545573129992,
          5.598421958998375,
          6.8690144506657065,
          3.8501476017100584,
          null,
          2.995732273553991,
          4.68213122712422,
          9.19573421958682,
          4.31748811353631,
          2.833213344056216,
          3.044522437723423,
          7.575584651557793,
          9.38151671766514,
          4.948759890378168,
          6.8658910748834385,
          6.942156705699469,
          6.424869023905388,
          7.114769448366463,
          6.349138991379798,
          5.780743515792329,
          7.51479976048867,
          8.821732380934442,
          6.802394763324311,
          null,
          3.6109179126442243,
          4.276666119016055,
          0,
          5.5254529391317835,
          6.429719478039138,
          4.48863636973214,
          6.812345094177479,
          5.4638318050256105,
          5.786897381366708,
          5.703782474656201,
          6.621405651764134,
          4.804021044733257,
          5.365976015021851,
          5.262690188904886,
          2.0794415416798357,
          8.561592778712923,
          null,
          7.254177846456518,
          6.104793232414985,
          8.434897948689407,
          8.313852267398207,
          null,
          7.5569505720129,
          6.63200177739563,
          0,
          9.237371711027214,
          1.0986122886681098,
          7.90100705199242,
          4.653960350157523,
          5.480638923341991,
          5.3471075307174685,
          0,
          7.0909098220799835,
          3.4011973816621555,
          7.939515260662406,
          7.111512116496157,
          5.703782474656201,
          5.327876168789581,
          5.598421958998375,
          7.965545573129992,
          6.240275845170769,
          9.006999447958153,
          8.105911197986508,
          6.025865973825314,
          4.836281906951478,
          4.0943445622221,
          5.652489180268651,
          4.700480365792417,
          4.127134385045092,
          7.767687277186908,
          6.049733455231958,
          5.19295685089021,
          null,
          6.104793232414985,
          0.6931471805599453,
          6.436150368369428,
          7.79770203551669,
          4.875197323201151,
          null,
          5.337538079701318,
          4.634728988229636,
          7.2115567333138015,
          7.328437352895162,
          4.499809670330265,
          7.094234845924755,
          5.953243334287785,
          4.969813299576001,
          5.459585514144159,
          5.484796933490655,
          8.822764296703758,
          7.198183577101943,
          7.422373700986824,
          8.121480374750751,
          7.878534196140362,
          7.509883061154913,
          6.345636360828596,
          7.355641102974253,
          7.897668150726906,
          6.977281341630747,
          4.74493212836325,
          6.704414354964107,
          5.123963979403259,
          3.4011973816621555,
          5.075173815233827,
          6.184148890937483,
          7.318539548567902,
          7.170888478512505,
          5.0689042022202315,
          4.0943445622221,
          1.3862943611198906,
          9.169518377455928,
          4.663439094112067,
          null,
          null,
          0,
          3.4657359027997265,
          4.110873864173311,
          5.749392985908253,
          3.4011973816621555,
          null,
          4.5217885770490405,
          5.966146739123692,
          5.081404364984463,
          4.0943445622221,
          4.330733340286331,
          0,
          0,
          5.075173815233827,
          2.995732273553991,
          0,
          0,
          4.248495242049359,
          3.912023005428146,
          2.70805020110221,
          6.697034247666484,
          7.22983877815125,
          7.495541943884256,
          7.352441100243583,
          7.627544390488503,
          7.280697195384741,
          7.5310163320779155,
          7.6004023345004,
          4.787491742782046,
          7.575584651557793,
          5.886104031450156,
          6.99117688712121,
          7.090076835776092,
          8.324093761450404,
          5.886104031450156,
          6.4692503167957724,
          4.68213122712422,
          null,
          0,
          7.272398392570047,
          8.425077902508432,
          0,
          0,
          4.700480365792417,
          5.3471075307174685,
          4.787491742782046,
          null,
          8.357024439263416,
          4.330733340286331,
          5.3471075307174685,
          8.103191752285786,
          8.679312040892672,
          4.976733742420574,
          4.0943445622221,
          7.878534196140362,
          6.948897222313312,
          4.700480365792417,
          9.382611592916636,
          7.716460800176355,
          6.891625897052253,
          8.881836305004146,
          7.2305631534092925,
          4.997212273764115,
          9.544810605926722,
          null,
          6.679599185844383,
          5.703782474656201,
          null,
          7.867871490396322,
          8.006367567650246,
          6.066108090103747,
          8.577347114235984,
          7.4570320891223805,
          null,
          8.807621489536043,
          8.101677747454572,
          5.634789603169249,
          4.762173934797756,
          7.970740390007095,
          6.173786103901937,
          3.4339872044851463,
          0,
          null,
          null,
          4.634728988229636,
          8.464846711044029,
          5.726847747587197,
          7.412160334945205,
          8.16763571524637,
          5.924255797414532,
          6.97354301952014,
          7.358193752733032,
          4.736198448394496,
          4.74493212836325,
          2.70805020110221,
          7.969357742016346,
          0,
          7.424165281042028,
          null,
          null,
          8.189799618728228,
          5.272999558563747,
          0,
          null,
          7.653494909661253,
          5.288267030694535,
          8.207129168071326,
          6.9440872082295275,
          6.511745329644728,
          null,
          7.883069351305753,
          5.703782474656201,
          6.78105762593618,
          6.42648845745769,
          7.079184394609668,
          6.856461984594587,
          7.837948916025283,
          3.295836866004329,
          4.68213122712422,
          4.290459441148391,
          5.298317366548036,
          1.6094379124341003,
          4.31748811353631,
          null,
          4.343805421853684,
          6.492239835020471,
          null,
          4.5217885770490405,
          3.4011973816621555,
          3.4965075614664802,
          7.546974117516527,
          5.6131281063880705,
          0,
          7.335633981927201,
          0,
          4.0943445622221,
          4.68213122712422,
          0.6931471805599453,
          5.1647859739235145,
          null,
          7.620705086838262,
          7.904703913873747,
          5.648974238161206,
          4.653960350157523,
          8.2987883944492,
          0,
          5.968707559985366,
          6.0844994130751715,
          1.6094379124341003,
          5.303304908059076,
          7.668561108015897,
          4.634728988229636,
          null,
          5.231108616854587,
          7.2485040723706105,
          5.8522024797744745,
          9.521494800613105,
          4.499809670330265,
          6.816735880594968,
          null,
          9.549665677579801,
          7.220373836723949,
          5.159055299214529,
          6.297109319933935,
          5.4680601411351315,
          7.552762084214147,
          5.4116460518550396,
          null,
          4.553876891600541,
          5.886104031450156,
          7.344719054149673,
          6.76849321164863,
          null,
          null,
          5.393627546352362,
          6.579251212010101,
          null,
          4.07753744390572,
          5.198497031265826,
          null
         ],
         "xaxis": "x",
         "yaxis": "y"
        }
       ],
       "layout": {
        "barmode": "relative",
        "legend": {
         "tracegroupgap": 0
        },
        "margin": {
         "t": 60
        },
        "shapes": [
         {
          "line": {
           "color": "red"
          },
          "type": "line",
          "x0": 6.769641976852503,
          "x1": 6.769641976852503,
          "xref": "x",
          "y0": 0,
          "y1": 1,
          "yref": "y domain"
         }
        ],
        "template": {
         "data": {
          "bar": [
           {
            "error_x": {
             "color": "#2a3f5f"
            },
            "error_y": {
             "color": "#2a3f5f"
            },
            "marker": {
             "line": {
              "color": "#E5ECF6",
              "width": 0.5
             },
             "pattern": {
              "fillmode": "overlay",
              "size": 10,
              "solidity": 0.2
             }
            },
            "type": "bar"
           }
          ],
          "barpolar": [
           {
            "marker": {
             "line": {
              "color": "#E5ECF6",
              "width": 0.5
             },
             "pattern": {
              "fillmode": "overlay",
              "size": 10,
              "solidity": 0.2
             }
            },
            "type": "barpolar"
           }
          ],
          "carpet": [
           {
            "aaxis": {
             "endlinecolor": "#2a3f5f",
             "gridcolor": "white",
             "linecolor": "white",
             "minorgridcolor": "white",
             "startlinecolor": "#2a3f5f"
            },
            "baxis": {
             "endlinecolor": "#2a3f5f",
             "gridcolor": "white",
             "linecolor": "white",
             "minorgridcolor": "white",
             "startlinecolor": "#2a3f5f"
            },
            "type": "carpet"
           }
          ],
          "choropleth": [
           {
            "colorbar": {
             "outlinewidth": 0,
             "ticks": ""
            },
            "type": "choropleth"
           }
          ],
          "contour": [
           {
            "colorbar": {
             "outlinewidth": 0,
             "ticks": ""
            },
            "colorscale": [
             [
              0,
              "#0d0887"
             ],
             [
              0.1111111111111111,
              "#46039f"
             ],
             [
              0.2222222222222222,
              "#7201a8"
             ],
             [
              0.3333333333333333,
              "#9c179e"
             ],
             [
              0.4444444444444444,
              "#bd3786"
             ],
             [
              0.5555555555555556,
              "#d8576b"
             ],
             [
              0.6666666666666666,
              "#ed7953"
             ],
             [
              0.7777777777777778,
              "#fb9f3a"
             ],
             [
              0.8888888888888888,
              "#fdca26"
             ],
             [
              1,
              "#f0f921"
             ]
            ],
            "type": "contour"
           }
          ],
          "contourcarpet": [
           {
            "colorbar": {
             "outlinewidth": 0,
             "ticks": ""
            },
            "type": "contourcarpet"
           }
          ],
          "heatmap": [
           {
            "colorbar": {
             "outlinewidth": 0,
             "ticks": ""
            },
            "colorscale": [
             [
              0,
              "#0d0887"
             ],
             [
              0.1111111111111111,
              "#46039f"
             ],
             [
              0.2222222222222222,
              "#7201a8"
             ],
             [
              0.3333333333333333,
              "#9c179e"
             ],
             [
              0.4444444444444444,
              "#bd3786"
             ],
             [
              0.5555555555555556,
              "#d8576b"
             ],
             [
              0.6666666666666666,
              "#ed7953"
             ],
             [
              0.7777777777777778,
              "#fb9f3a"
             ],
             [
              0.8888888888888888,
              "#fdca26"
             ],
             [
              1,
              "#f0f921"
             ]
            ],
            "type": "heatmap"
           }
          ],
          "heatmapgl": [
           {
            "colorbar": {
             "outlinewidth": 0,
             "ticks": ""
            },
            "colorscale": [
             [
              0,
              "#0d0887"
             ],
             [
              0.1111111111111111,
              "#46039f"
             ],
             [
              0.2222222222222222,
              "#7201a8"
             ],
             [
              0.3333333333333333,
              "#9c179e"
             ],
             [
              0.4444444444444444,
              "#bd3786"
             ],
             [
              0.5555555555555556,
              "#d8576b"
             ],
             [
              0.6666666666666666,
              "#ed7953"
             ],
             [
              0.7777777777777778,
              "#fb9f3a"
             ],
             [
              0.8888888888888888,
              "#fdca26"
             ],
             [
              1,
              "#f0f921"
             ]
            ],
            "type": "heatmapgl"
           }
          ],
          "histogram": [
           {
            "marker": {
             "pattern": {
              "fillmode": "overlay",
              "size": 10,
              "solidity": 0.2
             }
            },
            "type": "histogram"
           }
          ],
          "histogram2d": [
           {
            "colorbar": {
             "outlinewidth": 0,
             "ticks": ""
            },
            "colorscale": [
             [
              0,
              "#0d0887"
             ],
             [
              0.1111111111111111,
              "#46039f"
             ],
             [
              0.2222222222222222,
              "#7201a8"
             ],
             [
              0.3333333333333333,
              "#9c179e"
             ],
             [
              0.4444444444444444,
              "#bd3786"
             ],
             [
              0.5555555555555556,
              "#d8576b"
             ],
             [
              0.6666666666666666,
              "#ed7953"
             ],
             [
              0.7777777777777778,
              "#fb9f3a"
             ],
             [
              0.8888888888888888,
              "#fdca26"
             ],
             [
              1,
              "#f0f921"
             ]
            ],
            "type": "histogram2d"
           }
          ],
          "histogram2dcontour": [
           {
            "colorbar": {
             "outlinewidth": 0,
             "ticks": ""
            },
            "colorscale": [
             [
              0,
              "#0d0887"
             ],
             [
              0.1111111111111111,
              "#46039f"
             ],
             [
              0.2222222222222222,
              "#7201a8"
             ],
             [
              0.3333333333333333,
              "#9c179e"
             ],
             [
              0.4444444444444444,
              "#bd3786"
             ],
             [
              0.5555555555555556,
              "#d8576b"
             ],
             [
              0.6666666666666666,
              "#ed7953"
             ],
             [
              0.7777777777777778,
              "#fb9f3a"
             ],
             [
              0.8888888888888888,
              "#fdca26"
             ],
             [
              1,
              "#f0f921"
             ]
            ],
            "type": "histogram2dcontour"
           }
          ],
          "mesh3d": [
           {
            "colorbar": {
             "outlinewidth": 0,
             "ticks": ""
            },
            "type": "mesh3d"
           }
          ],
          "parcoords": [
           {
            "line": {
             "colorbar": {
              "outlinewidth": 0,
              "ticks": ""
             }
            },
            "type": "parcoords"
           }
          ],
          "pie": [
           {
            "automargin": true,
            "type": "pie"
           }
          ],
          "scatter": [
           {
            "fillpattern": {
             "fillmode": "overlay",
             "size": 10,
             "solidity": 0.2
            },
            "type": "scatter"
           }
          ],
          "scatter3d": [
           {
            "line": {
             "colorbar": {
              "outlinewidth": 0,
              "ticks": ""
             }
            },
            "marker": {
             "colorbar": {
              "outlinewidth": 0,
              "ticks": ""
             }
            },
            "type": "scatter3d"
           }
          ],
          "scattercarpet": [
           {
            "marker": {
             "colorbar": {
              "outlinewidth": 0,
              "ticks": ""
             }
            },
            "type": "scattercarpet"
           }
          ],
          "scattergeo": [
           {
            "marker": {
             "colorbar": {
              "outlinewidth": 0,
              "ticks": ""
             }
            },
            "type": "scattergeo"
           }
          ],
          "scattergl": [
           {
            "marker": {
             "colorbar": {
              "outlinewidth": 0,
              "ticks": ""
             }
            },
            "type": "scattergl"
           }
          ],
          "scattermapbox": [
           {
            "marker": {
             "colorbar": {
              "outlinewidth": 0,
              "ticks": ""
             }
            },
            "type": "scattermapbox"
           }
          ],
          "scatterpolar": [
           {
            "marker": {
             "colorbar": {
              "outlinewidth": 0,
              "ticks": ""
             }
            },
            "type": "scatterpolar"
           }
          ],
          "scatterpolargl": [
           {
            "marker": {
             "colorbar": {
              "outlinewidth": 0,
              "ticks": ""
             }
            },
            "type": "scatterpolargl"
           }
          ],
          "scatterternary": [
           {
            "marker": {
             "colorbar": {
              "outlinewidth": 0,
              "ticks": ""
             }
            },
            "type": "scatterternary"
           }
          ],
          "surface": [
           {
            "colorbar": {
             "outlinewidth": 0,
             "ticks": ""
            },
            "colorscale": [
             [
              0,
              "#0d0887"
             ],
             [
              0.1111111111111111,
              "#46039f"
             ],
             [
              0.2222222222222222,
              "#7201a8"
             ],
             [
              0.3333333333333333,
              "#9c179e"
             ],
             [
              0.4444444444444444,
              "#bd3786"
             ],
             [
              0.5555555555555556,
              "#d8576b"
             ],
             [
              0.6666666666666666,
              "#ed7953"
             ],
             [
              0.7777777777777778,
              "#fb9f3a"
             ],
             [
              0.8888888888888888,
              "#fdca26"
             ],
             [
              1,
              "#f0f921"
             ]
            ],
            "type": "surface"
           }
          ],
          "table": [
           {
            "cells": {
             "fill": {
              "color": "#EBF0F8"
             },
             "line": {
              "color": "white"
             }
            },
            "header": {
             "fill": {
              "color": "#C8D4E3"
             },
             "line": {
              "color": "white"
             }
            },
            "type": "table"
           }
          ]
         },
         "layout": {
          "annotationdefaults": {
           "arrowcolor": "#2a3f5f",
           "arrowhead": 0,
           "arrowwidth": 1
          },
          "autotypenumbers": "strict",
          "coloraxis": {
           "colorbar": {
            "outlinewidth": 0,
            "ticks": ""
           }
          },
          "colorscale": {
           "diverging": [
            [
             0,
             "#8e0152"
            ],
            [
             0.1,
             "#c51b7d"
            ],
            [
             0.2,
             "#de77ae"
            ],
            [
             0.3,
             "#f1b6da"
            ],
            [
             0.4,
             "#fde0ef"
            ],
            [
             0.5,
             "#f7f7f7"
            ],
            [
             0.6,
             "#e6f5d0"
            ],
            [
             0.7,
             "#b8e186"
            ],
            [
             0.8,
             "#7fbc41"
            ],
            [
             0.9,
             "#4d9221"
            ],
            [
             1,
             "#276419"
            ]
           ],
           "sequential": [
            [
             0,
             "#0d0887"
            ],
            [
             0.1111111111111111,
             "#46039f"
            ],
            [
             0.2222222222222222,
             "#7201a8"
            ],
            [
             0.3333333333333333,
             "#9c179e"
            ],
            [
             0.4444444444444444,
             "#bd3786"
            ],
            [
             0.5555555555555556,
             "#d8576b"
            ],
            [
             0.6666666666666666,
             "#ed7953"
            ],
            [
             0.7777777777777778,
             "#fb9f3a"
            ],
            [
             0.8888888888888888,
             "#fdca26"
            ],
            [
             1,
             "#f0f921"
            ]
           ],
           "sequentialminus": [
            [
             0,
             "#0d0887"
            ],
            [
             0.1111111111111111,
             "#46039f"
            ],
            [
             0.2222222222222222,
             "#7201a8"
            ],
            [
             0.3333333333333333,
             "#9c179e"
            ],
            [
             0.4444444444444444,
             "#bd3786"
            ],
            [
             0.5555555555555556,
             "#d8576b"
            ],
            [
             0.6666666666666666,
             "#ed7953"
            ],
            [
             0.7777777777777778,
             "#fb9f3a"
            ],
            [
             0.8888888888888888,
             "#fdca26"
            ],
            [
             1,
             "#f0f921"
            ]
           ]
          },
          "colorway": [
           "#636efa",
           "#EF553B",
           "#00cc96",
           "#ab63fa",
           "#FFA15A",
           "#19d3f3",
           "#FF6692",
           "#B6E880",
           "#FF97FF",
           "#FECB52"
          ],
          "font": {
           "color": "#2a3f5f"
          },
          "geo": {
           "bgcolor": "white",
           "lakecolor": "white",
           "landcolor": "#E5ECF6",
           "showlakes": true,
           "showland": true,
           "subunitcolor": "white"
          },
          "hoverlabel": {
           "align": "left"
          },
          "hovermode": "closest",
          "mapbox": {
           "style": "light"
          },
          "paper_bgcolor": "white",
          "plot_bgcolor": "#E5ECF6",
          "polar": {
           "angularaxis": {
            "gridcolor": "white",
            "linecolor": "white",
            "ticks": ""
           },
           "bgcolor": "#E5ECF6",
           "radialaxis": {
            "gridcolor": "white",
            "linecolor": "white",
            "ticks": ""
           }
          },
          "scene": {
           "xaxis": {
            "backgroundcolor": "#E5ECF6",
            "gridcolor": "white",
            "gridwidth": 2,
            "linecolor": "white",
            "showbackground": true,
            "ticks": "",
            "zerolinecolor": "white"
           },
           "yaxis": {
            "backgroundcolor": "#E5ECF6",
            "gridcolor": "white",
            "gridwidth": 2,
            "linecolor": "white",
            "showbackground": true,
            "ticks": "",
            "zerolinecolor": "white"
           },
           "zaxis": {
            "backgroundcolor": "#E5ECF6",
            "gridcolor": "white",
            "gridwidth": 2,
            "linecolor": "white",
            "showbackground": true,
            "ticks": "",
            "zerolinecolor": "white"
           }
          },
          "shapedefaults": {
           "line": {
            "color": "#2a3f5f"
           }
          },
          "ternary": {
           "aaxis": {
            "gridcolor": "white",
            "linecolor": "white",
            "ticks": ""
           },
           "baxis": {
            "gridcolor": "white",
            "linecolor": "white",
            "ticks": ""
           },
           "bgcolor": "#E5ECF6",
           "caxis": {
            "gridcolor": "white",
            "linecolor": "white",
            "ticks": ""
           }
          },
          "title": {
           "x": 0.05
          },
          "xaxis": {
           "automargin": true,
           "gridcolor": "white",
           "linecolor": "white",
           "ticks": "",
           "title": {
            "standoff": 15
           },
           "zerolinecolor": "white",
           "zerolinewidth": 2
          },
          "yaxis": {
           "automargin": true,
           "gridcolor": "white",
           "linecolor": "white",
           "ticks": "",
           "title": {
            "standoff": 15
           },
           "zerolinecolor": "white",
           "zerolinewidth": 2
          }
         }
        },
        "xaxis": {
         "anchor": "y",
         "domain": [
          0,
          1
         ],
         "title": {
          "text": "LOG_OUTAGE_DURATION"
         }
        },
        "yaxis": {
         "anchor": "x",
         "domain": [
          0,
          1
         ],
         "title": {
          "text": "count"
         }
        }
       }
      }
     },
     "metadata": {},
     "output_type": "display_data"
    }
   ],
   "source": [
    "MID = extra_features[\"LOG_OUTAGE_DURATION\"].quantile(0.5)\n",
    "fig = extra_features.plot(x=\"LOG_OUTAGE_DURATION\", kind=\"hist\", nbins=100)\n",
    "fig.add_vline(MID, line_color=\"red\")"
   ]
  },
  {
   "cell_type": "code",
   "execution_count": 19,
   "metadata": {
    "ExecuteTime": {
     "end_time": "2019-10-31T23:36:28.662099Z",
     "start_time": "2019-10-31T23:36:28.660016Z"
    }
   },
   "outputs": [
    {
     "data": {
      "text/plain": [
       "SEVERITY\n",
       "LOW     700\n",
       "HIGH    698\n",
       "Name: count, dtype: int64"
      ]
     },
     "execution_count": 19,
     "metadata": {},
     "output_type": "execute_result"
    }
   ],
   "source": [
    "def get_severity(row):\n",
    "    if np.isnan(row[\"LOG_OUTAGE_DURATION\"]):\n",
    "        return np.nan\n",
    "    if row[\"LOG_OUTAGE_DURATION\"] > MID:\n",
    "        return \"HIGH\"\n",
    "    return \"LOW\"\n",
    "\n",
    "\n",
    "severity = extra_features.assign(SEVERITY=extra_features.apply(get_severity, axis=1))\n",
    "severity[\"SEVERITY\"].value_counts()"
   ]
  },
  {
   "cell_type": "code",
   "execution_count": 20,
   "metadata": {},
   "outputs": [
    {
     "data": {
      "application/vnd.plotly.v1+json": {
       "config": {
        "plotlyServerURL": "https://plot.ly"
       },
       "data": [
        {
         "alignmentgroup": "True",
         "bingroup": "x",
         "hovertemplate": "SEVERITY=HIGH<br>LOG_OUTAGE_DURATION=%{x}<br>count=%{y}<extra></extra>",
         "legendgroup": "HIGH",
         "marker": {
          "color": "#636efa",
          "pattern": {
           "shape": ""
          }
         },
         "name": "HIGH",
         "nbinsx": 100,
         "offsetgroup": "HIGH",
         "orientation": "v",
         "showlegend": true,
         "type": "histogram",
         "x": [
          8.026170194946426,
          8.006367567650246,
          7.843848638152472,
          7.461640392208575,
          7.528331766707247,
          7.996317231796746,
          8.283999304248526,
          8.19450550976564,
          8.954156966583772,
          9.091556835986216,
          7.186901020411631,
          6.840546529288687,
          7.138866999945524,
          7.90100705199242,
          8.501267040865978,
          8.324821298768782,
          7.843848638152472,
          7.090076835776092,
          7.943782692458625,
          8.52793528794814,
          7.560080465021827,
          8.006367567650246,
          11.595914596900252,
          9.044049632254756,
          6.866933284461882,
          7.380879035564116,
          8.391629968440892,
          7.105786129481271,
          9.834137474401334,
          7.148345743900068,
          6.907755278982137,
          9.760713578544673,
          9.16701524723781,
          8.035926369891792,
          8.781094735202615,
          8.669055540725484,
          6.982862751468942,
          7.321849713788356,
          8.482601746646619,
          8.02322468471667,
          8.34283980427146,
          7.642524134232902,
          8.653470809708786,
          8.364042011922063,
          7.8898337513942955,
          8.17188200612782,
          8.19891444498699,
          7.444248649496705,
          8.371010681238156,
          8.272570608424903,
          8.045588280803528,
          8.431635303054591,
          8.92665032079394,
          8.523970175695261,
          9.006999447958153,
          8.101677747454572,
          8.371010681238156,
          7.478734825567875,
          9.19593714166544,
          8.313852267398207,
          8.642944396721798,
          8.648221453822641,
          7.598399329323964,
          8.539932678385727,
          7.8898337513942955,
          8.942460926820582,
          8.37516869138682,
          8.658692753689937,
          7.944492163932159,
          8.32117830749028,
          8.11969625295725,
          8.011355109161286,
          9.352273867864849,
          8.767173396684006,
          10.738134295369774,
          8.648221453822641,
          8.632305998516742,
          11.269285795950942,
          8.306472160100585,
          8.676757761087575,
          7.751475318021456,
          8.335671314792847,
          8.408493774492896,
          7.898782356970309,
          8.626944055375356,
          9.380083146563278,
          8.158802490694002,
          8.425077902508432,
          7.9229859587111955,
          8.658692753689937,
          9.09627541568821,
          8.704502289721232,
          8.961879012677683,
          8.352790135124629,
          8.045588280803528,
          8.648221453822641,
          6.802394763324311,
          6.952728644624869,
          8.938531648680692,
          8.196987927258897,
          7.138866999945524,
          8.672486075822272,
          8.663887570567042,
          7.944492163932159,
          8.356789669923213,
          7.985824666418917,
          8.865029186687766,
          8.1886891244442,
          7.370230641807081,
          8.357024439263416,
          7.90100705199242,
          9.039552050995901,
          9.121509158269568,
          6.926577033222725,
          7.038783541388542,
          8.914626127827137,
          8.402455513945814,
          7.0925737159746784,
          7.282761179605593,
          7.085901464365611,
          7.351799869057777,
          6.802394763324311,
          7.897296472595885,
          8.539932678385727,
          7.669495251007694,
          7.757906208351747,
          9.157572306437528,
          8.006367567650246,
          8.013012110368916,
          7.19668657083435,
          8.08794755464267,
          9.407550541263888,
          6.981934677156389,
          10.229115487402662,
          7.791522819150732,
          7.528331766707247,
          9.402942238177694,
          7.884199933676039,
          9.911455722185305,
          7.272398392570047,
          7.077498053569231,
          7.313220387090301,
          7.528331766707247,
          7.090076835776092,
          7.677400430514807,
          8.748304912379623,
          7.3901814282264295,
          7.436617265234227,
          7.705262474866325,
          8.963032193662675,
          7.090076835776092,
          8.629628620746026,
          8.11969625295725,
          7.731930721948486,
          7.560080465021827,
          8.18004072349016,
          8.101677747454572,
          7.352441100243583,
          6.897704943128636,
          8.699514748210191,
          9.79059877045751,
          7.156176637480615,
          6.984716320118266,
          8.927977461002001,
          7.1853870155804165,
          7.01211529430638,
          10.229115487402662,
          8.019612794400267,
          9.224243277145174,
          9.911455722185305,
          9.977666950710379,
          7.090076835776092,
          6.802394763324311,
          6.785587645007929,
          6.84587987526405,
          8.022896869601457,
          7.512071245835466,
          8.699514748210191,
          7.313220387090301,
          7.578145472419466,
          7.705262474866325,
          7.272398392570047,
          6.966024187106113,
          9.412464556066316,
          8.565983355585669,
          8.371010681238156,
          7.659171367666058,
          8.371010681238156,
          7.671360923190644,
          8.302017809751204,
          7.855544677915663,
          9.67721410821299,
          7.590852123688581,
          8.305236829492593,
          7.912056888179006,
          8.105911197986508,
          8.898228985601227,
          7.272398392570047,
          8.201385955238608,
          7.029972911706386,
          7.965545573129992,
          10.076305761898272,
          8.261526448396468,
          10.05134705577498,
          9.412464556066316,
          8.090708716083997,
          7.114769448366463,
          7.27931883541462,
          7.893572073504902,
          8.937087036176523,
          8.006367567650246,
          7.426549072397305,
          7.90100705199242,
          7.01211529430638,
          7.933796874815411,
          7.1853870155804165,
          7.512071245835466,
          8.006367567650246,
          7.197435354096591,
          7.43543801981455,
          8.006367567650246,
          7.162397497355718,
          7.333023014386481,
          7.7706452341291765,
          7.090076835776092,
          7.090076835776092,
          7.090076835776092,
          7.923348211930154,
          7.02108396428914,
          7.649692623711514,
          6.866933284461882,
          7.272398392570047,
          6.927557906278317,
          7.605890001053122,
          9.130214327496898,
          7.122866658599083,
          7.807916628926408,
          7.075808863978387,
          9.091556835986216,
          8.582980931954241,
          9.09829086816756,
          7.560080465021827,
          7.620705086838262,
          7.260522598089852,
          7.3901814282264295,
          8.101677747454572,
          7.151485463904735,
          7.5595594960077,
          8.808369153122275,
          7.093404625868766,
          8.744488113852924,
          7.90100705199242,
          7.095893221097532,
          7.878155336503324,
          8.776475789346321,
          7.436617265234227,
          7.869019376499023,
          9.172638504792172,
          8.162516250140179,
          7.944492163932159,
          8.675051276031818,
          10.033155240658164,
          8.36287583103188,
          7.832014180505469,
          8.253748343328501,
          10.80608495727828,
          8.34283980427146,
          7.272398392570047,
          7.90100705199242,
          10.80608495727828,
          7.611347717403621,
          7.421177528595393,
          8.278428259199071,
          8.405143687607614,
          7.731492029245684,
          8.39840965542627,
          7.9229859587111955,
          7.517520850603031,
          7.590852123688581,
          7.575584651557793,
          8.01862546504575,
          7.086737934510577,
          8.63550941823428,
          7.272398392570047,
          8.948975607841776,
          9.464207095933233,
          8.350429973538136,
          7.867105500316739,
          8.371010681238156,
          7.826842098158293,
          8.501063809486354,
          8.313852267398207,
          6.866933284461882,
          7.1853870155804165,
          7.422373700986824,
          7.956827122090111,
          8.026170194946426,
          8.895355616996392,
          8.663887570567042,
          8.019612794400267,
          9.367344120785848,
          8.985570498917388,
          8.415603335654604,
          8.025516386489008,
          9.50159106930499,
          7.9603236291488395,
          9.153770020487789,
          8.962263554116761,
          8.626764827845529,
          9.102643796520809,
          8.476371196895983,
          8.026170194946426,
          8.474703139795285,
          8.267192185932146,
          7.471363088187097,
          7.965545573129992,
          8.001355025826703,
          8.080856419640986,
          7.7488913372555315,
          8.37516869138682,
          7.965545573129992,
          7.446585099157725,
          8.328209491748732,
          9.261983605128021,
          8.844768827529695,
          6.835184586147301,
          8.57922858233569,
          7.965545573129992,
          8.357024439263416,
          8.811801223938751,
          8.548691858475609,
          7.272398392570047,
          8.925720273560222,
          7.889084407035514,
          7.188412736496954,
          8.84505705350085,
          7.895063498091573,
          7.965545573129992,
          8.067462667010057,
          7.933796874815411,
          9.523617089089445,
          7.952615111651,
          9.509555680241636,
          7.403670290012373,
          8.950143756459262,
          8.865029186687766,
          7.272398392570047,
          7.426549072397305,
          7.364547014255642,
          6.927557906278317,
          8.180320874773685,
          8.778325928634482,
          10.073230327123223,
          9.259035293514941,
          9.627734050949622,
          7.396948602621014,
          8.066521490469993,
          7.729735331385051,
          8.501063809486354,
          8.501063809486354,
          8.34283980427146,
          8.525161361065415,
          8.913281137711804,
          8.610683534503575,
          8.196987927258897,
          9.36220272128543,
          7.371489295214277,
          8.051022208190679,
          7.272398392570047,
          8.977146484808472,
          7.272398392570047,
          7.22402480828583,
          8.776475789346321,
          7.691656822810547,
          7.519149957669823,
          9.352794339771116,
          7.258412150595307,
          6.835184586147301,
          9.343121483210002,
          6.866933284461882,
          7.457609289715606,
          8.213381737034572,
          9.270400128403846,
          9.33078652505205,
          7.272398392570047,
          7.3613754289773485,
          8.414052432496725,
          7.575584651557793,
          7.2115567333138015,
          7.183870715062453,
          7.820037989458753,
          7.142827401161621,
          8.045588280803528,
          8.127995055771946,
          6.932447891572509,
          6.897704943128636,
          7.3031700512368,
          7.331714969726466,
          7.5443321080536885,
          7.844240718141811,
          6.892641641172089,
          7.437206366871292,
          7.286191714702382,
          8.321907968230423,
          6.785587645007929,
          6.956545443151569,
          8.32845106681936,
          7.965545573129992,
          9.343996756788856,
          8.188411308079031,
          7.9865049385539955,
          8.714403360703942,
          7.21890970761906,
          7.832014180505469,
          9.21830854162536,
          8.221478947267192,
          9.335826992017598,
          8.856518497019858,
          9.310909426897878,
          9.144200569471638,
          8.101677747454572,
          8.113426639943654,
          7.965545573129992,
          9.357034751126987,
          9.169518377455928,
          9.488047863280759,
          9.181838011503471,
          7.789454566086673,
          8.337348564497175,
          8.914626127827137,
          8.15478757276852,
          8.794824928014517,
          7.330405211844402,
          7.2078598714324755,
          8.384804003370492,
          7.893572073504902,
          6.8966943316227125,
          8.369388996647842,
          6.956545443151569,
          9.198874893866904,
          7.793586803371584,
          9.581903928408666,
          8.803874763534434,
          8.996775795442296,
          8.330863613224745,
          8.463792414689122,
          7.635303886259415,
          9.445570584425539,
          7.965545573129992,
          7.089243155027514,
          7.293017679772782,
          8.32845106681936,
          9.64342064711732,
          8.355614995760183,
          7.400620577371135,
          9.969275293074132,
          7.6783263565068856,
          7.965545573129992,
          6.950814768442584,
          9.067624069774588,
          7.644440761556566,
          9.91739045770512,
          9.591444479171411,
          7.965545573129992,
          8.585785982881848,
          8.279697133877628,
          8.101677747454572,
          8.451053388911692,
          9.759039648170255,
          9.21830854162536,
          9.280425979542871,
          7.83002808253384,
          10.16277015046621,
          7.912056888179006,
          9.156939595249067,
          8.594154232552366,
          8.18423477409482,
          8.1886891244442,
          8.674196940225903,
          8.457443187010464,
          7.4570320891223805,
          10.044987114809828,
          7.495541943884256,
          8.711772645605693,
          7.740229524763182,
          8.658692753689937,
          8.898365606955357,
          7.965545573129992,
          7.832014180505469,
          9.837187480778896,
          8.614864218589684,
          7.649692623711514,
          8.045588280803528,
          9.014447135152134,
          8.083328608786376,
          7.965545573129992,
          7.764296006450518,
          9.483416292038601,
          9.064157861798101,
          9.811372263628323,
          9.648079040634643,
          9.020147920801659,
          9.574983485564092,
          8.982435503560263,
          7.783224016336037,
          9.332203959733024,
          11.010068010853415,
          10.246012860870419,
          8.9939241414114,
          7.928406026180535,
          7.928406026180535,
          7.67786350067821,
          7.649692623711514,
          7.928406026180535,
          8.064636475774222,
          7.928406026180535,
          7.272398392570047,
          7.663407664893479,
          7.470224135899966,
          9.48910782703839,
          9.787627666441592,
          9.924074186144516,
          8.738735461363474,
          8.028455164114252,
          8.026170194946426,
          7.965545573129992,
          9.841824892144022,
          7.532088143541722,
          7.432483807917119,
          9.771098364490383,
          9.010547069270189,
          8.669055540725484,
          7.605392364814935,
          8.371010681238156,
          8.371010681238156,
          6.912742820493176,
          9.505246289517283,
          8.371010681238156,
          7.257707677160043,
          8.1886891244442,
          9.21830854162536,
          8.531293315795018,
          8.830543010616596,
          10.117792155183134,
          8.930626469173578,
          9.24763615671988,
          7.620705086838262,
          9.397649470281177,
          6.984716320118266,
          7.426549072397305,
          9.54108193388841,
          9.55400099583723,
          7.002155954403621,
          7.807916628926408,
          7.034387929915503,
          6.960347729101308,
          7.134093721192866,
          7.283448228756631,
          7.80954132465341,
          9.090768236835338,
          6.851184927493743,
          9.044521887281242,
          7.933796874815411,
          7.293017679772782,
          7.6255950721324535,
          7.352441100243583,
          8.463792414689122,
          7.964850887447313,
          7.8804263442924,
          7.60887062919126,
          8.905308661189288,
          8.133880887949207,
          8.21554741194707,
          8.494947582468917,
          7.922623574217286,
          8.101980731853192,
          8.548691858475609,
          9.627734050949622,
          7.628031126930335,
          7.329093736246592,
          9.560292770154089,
          6.802394763324311,
          8.711113884053544,
          8.684401110400144,
          10.445521103426312,
          6.984716320118266,
          8.99961934066053,
          8.371010681238156,
          7.944492163932159,
          8.039157390473237,
          10.80825211257166,
          6.8966943316227125,
          6.915723448631314,
          7.138866999945524,
          7.970740390007095,
          8.84130362048157,
          7.965545573129992,
          6.8690144506657065,
          9.19573421958682,
          7.575584651557793,
          9.38151671766514,
          6.8658910748834385,
          6.942156705699469,
          7.114769448366463,
          7.51479976048867,
          8.821732380934442,
          6.802394763324311,
          6.812345094177479,
          8.561592778712923,
          7.254177846456518,
          8.434897948689407,
          8.313852267398207,
          7.5569505720129,
          9.237371711027214,
          7.90100705199242,
          7.0909098220799835,
          7.939515260662406,
          7.111512116496157,
          7.965545573129992,
          9.006999447958153,
          8.105911197986508,
          7.767687277186908,
          7.79770203551669,
          7.2115567333138015,
          7.328437352895162,
          7.094234845924755,
          8.822764296703758,
          7.198183577101943,
          7.422373700986824,
          8.121480374750751,
          7.878534196140362,
          7.509883061154913,
          7.355641102974253,
          7.897668150726906,
          6.977281341630747,
          7.318539548567902,
          7.170888478512505,
          9.169518377455928,
          7.22983877815125,
          7.495541943884256,
          7.352441100243583,
          7.627544390488503,
          7.280697195384741,
          7.5310163320779155,
          7.6004023345004,
          7.575584651557793,
          6.99117688712121,
          7.090076835776092,
          8.324093761450404,
          7.272398392570047,
          8.425077902508432,
          8.357024439263416,
          8.103191752285786,
          8.679312040892672,
          7.878534196140362,
          6.948897222313312,
          9.382611592916636,
          7.716460800176355,
          6.891625897052253,
          8.881836305004146,
          7.2305631534092925,
          9.544810605926722,
          7.867871490396322,
          8.006367567650246,
          8.577347114235984,
          7.4570320891223805,
          8.807621489536043,
          8.101677747454572,
          7.970740390007095,
          8.464846711044029,
          7.412160334945205,
          8.16763571524637,
          6.97354301952014,
          7.358193752733032,
          7.969357742016346,
          7.424165281042028,
          8.189799618728228,
          7.653494909661253,
          8.207129168071326,
          6.9440872082295275,
          7.883069351305753,
          6.78105762593618,
          7.079184394609668,
          6.856461984594587,
          7.837948916025283,
          7.546974117516527,
          7.335633981927201,
          7.620705086838262,
          7.904703913873747,
          8.2987883944492,
          7.668561108015897,
          7.2485040723706105,
          9.521494800613105,
          6.816735880594968,
          9.549665677579801,
          7.220373836723949,
          7.552762084214147,
          7.344719054149673
         ],
         "xaxis": "x",
         "yaxis": "y"
        },
        {
         "alignmentgroup": "True",
         "bingroup": "x",
         "hovertemplate": "SEVERITY=LOW<br>LOG_OUTAGE_DURATION=%{x}<br>count=%{y}<extra></extra>",
         "legendgroup": "LOW",
         "marker": {
          "color": "#EF553B",
          "pattern": {
           "shape": ""
          }
         },
         "name": "LOW",
         "nbinsx": 100,
         "offsetgroup": "LOW",
         "orientation": "v",
         "showlegend": true,
         "type": "histogram",
         "x": [
          0,
          5.043425116919247,
          4.0943445622221,
          2.9444389791664403,
          3.044522437723423,
          5.278114659230517,
          6.733401891837359,
          6.428105272684596,
          5.0106352940962555,
          6.635946555686647,
          6.492239835020471,
          0,
          0,
          4.553876891600541,
          5.5254529391317835,
          5.736572297479192,
          4.912654885736052,
          6.269096283706261,
          5.0106352940962555,
          3.828641396489095,
          0,
          3.4657359027997265,
          4.90527477843843,
          3.4657359027997265,
          3.784189633918261,
          5.961005339623274,
          6.173786103901937,
          4.499809670330265,
          6.2878585601617845,
          4.6443908991413725,
          4.0943445622221,
          4.0943445622221,
          0,
          5.703782474656201,
          6.634633357861686,
          5.44673737166631,
          5.598421958998375,
          0,
          5.123963979403259,
          6.558197802812269,
          6.396929655216146,
          5.298317366548036,
          4.442651256490317,
          6.040254711277414,
          5.921578419643816,
          6.7661917146603505,
          5.327876168789581,
          1.6094379124341003,
          5.241747015059643,
          5.886104031450156,
          5.41610040220442,
          6.173786103901937,
          6.173786103901937,
          5.703782474656201,
          6.641182169740591,
          5.2832037287379885,
          5.501258210544727,
          6.396929655216146,
          5.225746673713202,
          6.536691597591305,
          5.996452088619021,
          5.7899601708972535,
          0,
          5.393627546352362,
          6.12029741895095,
          5.762051382780177,
          6.6293632534374485,
          6.741700694652055,
          6.016157159698354,
          5.3706380281276624,
          1.6094379124341003,
          6.345636360828596,
          6.396929655216146,
          3.6635616461296463,
          5.198497031265826,
          5.602118820879701,
          5.4116460518550396,
          4.248495242049359,
          4.553876891600541,
          4.795790545596741,
          4.143134726391533,
          0,
          6.322565239927284,
          5.480638923341991,
          6.529418838262226,
          5.3471075307174685,
          5.117993812416755,
          2.302585092994046,
          6.733401891837359,
          5.480638923341991,
          4.867534450455582,
          5.976350909297934,
          3.8066624897703196,
          0,
          6.309918278226516,
          5.0106352940962555,
          5.799092654460526,
          4.30406509320417,
          6.040254711277414,
          5.541263545158426,
          4.787491742782046,
          5.4510384535657,
          4.174387269895637,
          4.564348191467836,
          1.0986122886681098,
          4.174387269895637,
          4.564348191467836,
          1.791759469228055,
          6.343880434126331,
          5.298317366548036,
          0,
          3.8501476017100584,
          5.62040086571715,
          6.240275845170769,
          3.5553480614894135,
          2.302585092994046,
          5.966146739123692,
          6.688354713946762,
          4.343805421853684,
          3.4011973816621555,
          5.703782474656201,
          0,
          1.6094379124341003,
          5.0106352940962555,
          6.040254711277414,
          6.171700597410915,
          5.003946305945459,
          6.490723534502507,
          6.76849321164863,
          6.697034247666484,
          5.886104031450156,
          5.886104031450156,
          4.787491742782046,
          4.499809670330265,
          4.787491742782046,
          6.579251212010101,
          6.1092475827643655,
          4.787491742782046,
          6.142037405587356,
          5.976350909297934,
          5.389071729816501,
          6.18826412308259,
          2.9444389791664403,
          3.332204510175204,
          0,
          6.1463292576688975,
          3.2188758248682006,
          6.040254711277414,
          0,
          4.0943445622221,
          5.953243334287785,
          6.4967749901858625,
          4.812184355372417,
          6.0867747269123065,
          6.57507584059962,
          5.676753802268282,
          5.746203190540153,
          0,
          1.6094379124341003,
          4.30406509320417,
          5.5134287461649825,
          0,
          3.2188758248682006,
          4.836281906951478,
          0,
          5.541263545158426,
          5.501258210544727,
          6.16541785423142,
          0,
          6.218600119691729,
          6.306275286948016,
          5.910796644040527,
          2.70805020110221,
          1.6094379124341003,
          0,
          6.068425588244111,
          3.044522437723423,
          5.749392985908253,
          0,
          4.248495242049359,
          5.872117789475416,
          5.19295685089021,
          6.317164686747284,
          3.912023005428146,
          4.248495242049359,
          5.19295685089021,
          3.5553480614894135,
          0,
          5.241747015059643,
          5.8664680569332965,
          0,
          4.465908118654584,
          4.189654742026425,
          0,
          5.424950017481403,
          0,
          0.6931471805599453,
          5.3706380281276624,
          6.111467339502679,
          6.035481432524756,
          4.605170185988092,
          0,
          0,
          6.059123195581797,
          5.802118375377063,
          0,
          0,
          0,
          0,
          0.6931471805599453,
          4.553876891600541,
          2.833213344056216,
          4.727387818712341,
          0,
          0,
          5.220355825078324,
          6.336825731146441,
          0,
          0,
          5.717027701406222,
          5.0238805208462765,
          5.940171252720432,
          5.099866427824199,
          4.499809670330265,
          4.07753744390572,
          5.627621113690637,
          5.700443573390687,
          0,
          4.356708826689592,
          0,
          5.929589143389895,
          3.9889840465642745,
          4.605170185988092,
          6.579251212010101,
          0,
          6.480044561926653,
          4.68213122712422,
          5.703782474656201,
          4.787491742782046,
          0,
          0,
          0,
          0,
          0,
          0,
          4.0943445622221,
          4.727387818712341,
          5.318119993844216,
          3.4339872044851463,
          4.04305126783455,
          2.5649493574615367,
          0.6931471805599453,
          2.3978952727983707,
          5.645446897643238,
          0,
          6.769641976852503,
          4.02535169073515,
          2.70805020110221,
          2.70805020110221,
          2.995732273553991,
          4.0943445622221,
          0,
          4.553876891600541,
          5.703782474656201,
          0,
          6.354370040797351,
          2.70805020110221,
          0,
          3.784189633918261,
          3.044522437723423,
          0,
          4.736198448394496,
          0,
          4.0943445622221,
          6.040254711277414,
          1.9459101490553132,
          3.044522437723423,
          5.8289456176102075,
          6.690842277418564,
          5.10594547390058,
          5.886104031450156,
          5.652489180268651,
          4.31748811353631,
          0,
          5.863631175598097,
          6.452048954437226,
          5.19295685089021,
          3.8066624897703196,
          6.333279628139691,
          5.961005339623274,
          5.921578419643816,
          5.66988092298052,
          5.598421958998375,
          5.272999558563747,
          5.480638923341991,
          4.859812404361672,
          6.003887067106539,
          5.117993812416755,
          5.204006687076795,
          2.70805020110221,
          3.7376696182833684,
          0,
          4.882801922586371,
          5.926926025970411,
          4.330733340286331,
          5.808142489980444,
          5.8664680569332965,
          6.1903154058531475,
          5.19295685089021,
          5.703782474656201,
          4.0943445622221,
          5.3471075307174685,
          0.6931471805599453,
          4.290459441148391,
          0,
          5.298317366548036,
          4.787491742782046,
          6.733401891837359,
          5.365976015021851,
          1.3862943611198906,
          5.099866427824199,
          4.51085950651685,
          6.731018100482083,
          4.0943445622221,
          0,
          0,
          5.966146739123692,
          5.0689042022202315,
          3.9889840465642745,
          3.4011973816621555,
          6.75110146893676,
          4.174387269895637,
          6.697034247666484,
          3.2188758248682006,
          6.76849321164863,
          4.787491742782046,
          3.912023005428146,
          0,
          0,
          6.124683390894205,
          0,
          0,
          3.4011973816621555,
          0,
          0,
          4.174387269895637,
          0,
          0,
          0,
          0,
          0,
          4.700480365792417,
          3.6635616461296463,
          0,
          0,
          0,
          0,
          0,
          0,
          6.2285110035911835,
          5.3612921657094255,
          0,
          0,
          3.970291913552122,
          5.5254529391317835,
          5.849324779946859,
          4.02535169073515,
          4.532599493153256,
          2.5649493574615367,
          6.523562306149512,
          6.202535517187923,
          0,
          5.25227342804663,
          4.290459441148391,
          0,
          1.6094379124341003,
          3.4011973816621555,
          0,
          3.8918202981106265,
          6.040254711277414,
          6.104793232414985,
          3.044522437723423,
          5.541263545158426,
          5.081404364984463,
          3.912023005428146,
          5.552959584921617,
          5.703782474656201,
          3.871201010907891,
          5.703782474656201,
          6.063785208687608,
          6.539585955617669,
          6.595780513961311,
          1.9459101490553132,
          6.234410725718371,
          6.040254711277414,
          6.322565239927284,
          5.703782474656201,
          6.1463292576688975,
          5.872117789475416,
          6.063785208687608,
          5.703782474656201,
          5.424950017481403,
          3.9512437185814275,
          5.68697535633982,
          2.833213344056216,
          5.480638923341991,
          5.204006687076795,
          4.418840607796598,
          5.438079308923196,
          6.579251212010101,
          5.043425116919247,
          6.173786103901937,
          5.3981627015177525,
          5.918893854273146,
          4.51085950651685,
          5.0238805208462765,
          5.3981627015177525,
          3.6375861597263857,
          4.110873864173311,
          4.499809670330265,
          5.981414211254481,
          6.29156913955832,
          3.9512437185814275,
          6.704414354964107,
          6.040254711277414,
          5.043425116919247,
          6.07993319509559,
          5.5093883366279774,
          6.29156913955832,
          6.07993319509559,
          5.19295685089021,
          5.14166355650266,
          6.486160788944089,
          4.430816798843313,
          5.308267697401205,
          5.541263545158426,
          0,
          5.176149732573829,
          4.663439094112067,
          3.4657359027997265,
          4.007333185232471,
          4.969813299576001,
          4.248495242049359,
          4.1588830833596715,
          6.259581464064923,
          4.02535169073515,
          1.0986122886681098,
          5.043425116919247,
          3.4965075614664802,
          6.618738983517219,
          5.0689042022202315,
          5.598421958998375,
          5.4116460518550396,
          5.811140992976701,
          5.91350300563827,
          3.258096538021482,
          6.680854678790215,
          2.4849066497880004,
          5.272999558563747,
          0,
          5.438079308923196,
          4.8283137373023015,
          2.70805020110221,
          5.755742213586912,
          5.8998973535824915,
          5.683579767338681,
          6.12029741895095,
          5.817111159963204,
          5.68697535633982,
          6.173786103901937,
          3.2188758248682006,
          5.407171771460119,
          5.886104031450156,
          0,
          6.769641976852503,
          5.521460917862246,
          5.517452896464707,
          5.099866427824199,
          6.075346031088684,
          6.040254711277414,
          6.74993119378857,
          4.890349128221754,
          6.111467339502679,
          4.941642422609304,
          5.293304824724492,
          6.580639137284949,
          5.187385805840755,
          4.356708826689592,
          5.5909869805108565,
          3.6635616461296463,
          0,
          3.8501476017100584,
          5.081404364984463,
          6.546785410760524,
          5.455321115357702,
          2.6390573296152584,
          3.6888794541139363,
          5.111987788356544,
          5.204006687076795,
          6.720220155135295,
          2.70805020110221,
          4.1588830833596715,
          2.5649493574615367,
          5.501258210544727,
          5.966146739123692,
          3.8501476017100584,
          5.594711379601839,
          5.991464547107982,
          6.492239835020471,
          5.3612921657094255,
          6.634633357861686,
          5.19295685089021,
          4.820281565605037,
          4.8283137373023015,
          3.784189633918261,
          3.258096538021482,
          5.501258210544727,
          4.584967478670572,
          0,
          4.90527477843843,
          3.912023005428146,
          3.970291913552122,
          6.317164686747284,
          4.48863636973214,
          4.584967478670572,
          6.762729506931879,
          4.852030263919617,
          5.438079308923196,
          5.529429087511423,
          4.867534450455582,
          1.6094379124341003,
          5.056245805348308,
          2.3978952727983707,
          2.5649493574615367,
          5.598421958998375,
          3.8501476017100584,
          2.995732273553991,
          4.68213122712422,
          4.31748811353631,
          2.833213344056216,
          3.044522437723423,
          4.948759890378168,
          6.424869023905388,
          6.349138991379798,
          5.780743515792329,
          3.6109179126442243,
          4.276666119016055,
          0,
          5.5254529391317835,
          6.429719478039138,
          4.48863636973214,
          5.4638318050256105,
          5.786897381366708,
          5.703782474656201,
          6.621405651764134,
          4.804021044733257,
          5.365976015021851,
          5.262690188904886,
          2.0794415416798357,
          6.104793232414985,
          6.63200177739563,
          0,
          1.0986122886681098,
          4.653960350157523,
          5.480638923341991,
          5.3471075307174685,
          0,
          3.4011973816621555,
          5.703782474656201,
          5.327876168789581,
          5.598421958998375,
          6.240275845170769,
          6.025865973825314,
          4.836281906951478,
          4.0943445622221,
          5.652489180268651,
          4.700480365792417,
          4.127134385045092,
          6.049733455231958,
          5.19295685089021,
          6.104793232414985,
          0.6931471805599453,
          6.436150368369428,
          4.875197323201151,
          5.337538079701318,
          4.634728988229636,
          4.499809670330265,
          5.953243334287785,
          4.969813299576001,
          5.459585514144159,
          5.484796933490655,
          6.345636360828596,
          4.74493212836325,
          6.704414354964107,
          5.123963979403259,
          3.4011973816621555,
          5.075173815233827,
          6.184148890937483,
          5.0689042022202315,
          4.0943445622221,
          1.3862943611198906,
          4.663439094112067,
          0,
          3.4657359027997265,
          4.110873864173311,
          5.749392985908253,
          3.4011973816621555,
          4.5217885770490405,
          5.966146739123692,
          5.081404364984463,
          4.0943445622221,
          4.330733340286331,
          0,
          0,
          5.075173815233827,
          2.995732273553991,
          0,
          0,
          4.248495242049359,
          3.912023005428146,
          2.70805020110221,
          6.697034247666484,
          4.787491742782046,
          5.886104031450156,
          5.886104031450156,
          6.4692503167957724,
          4.68213122712422,
          0,
          0,
          0,
          4.700480365792417,
          5.3471075307174685,
          4.787491742782046,
          4.330733340286331,
          5.3471075307174685,
          4.976733742420574,
          4.0943445622221,
          4.700480365792417,
          4.997212273764115,
          6.679599185844383,
          5.703782474656201,
          6.066108090103747,
          5.634789603169249,
          4.762173934797756,
          6.173786103901937,
          3.4339872044851463,
          0,
          4.634728988229636,
          5.726847747587197,
          5.924255797414532,
          4.736198448394496,
          4.74493212836325,
          2.70805020110221,
          0,
          5.272999558563747,
          0,
          5.288267030694535,
          6.511745329644728,
          5.703782474656201,
          6.42648845745769,
          3.295836866004329,
          4.68213122712422,
          4.290459441148391,
          5.298317366548036,
          1.6094379124341003,
          4.31748811353631,
          4.343805421853684,
          6.492239835020471,
          4.5217885770490405,
          3.4011973816621555,
          3.4965075614664802,
          5.6131281063880705,
          0,
          0,
          4.0943445622221,
          4.68213122712422,
          0.6931471805599453,
          5.1647859739235145,
          5.648974238161206,
          4.653960350157523,
          0,
          5.968707559985366,
          6.0844994130751715,
          1.6094379124341003,
          5.303304908059076,
          4.634728988229636,
          5.231108616854587,
          5.8522024797744745,
          4.499809670330265,
          5.159055299214529,
          6.297109319933935,
          5.4680601411351315,
          5.4116460518550396,
          4.553876891600541,
          5.886104031450156,
          6.76849321164863,
          5.393627546352362,
          6.579251212010101,
          4.07753744390572,
          5.198497031265826
         ],
         "xaxis": "x",
         "yaxis": "y"
        }
       ],
       "layout": {
        "barmode": "relative",
        "legend": {
         "title": {
          "text": "SEVERITY"
         },
         "tracegroupgap": 0
        },
        "margin": {
         "t": 60
        },
        "shapes": [
         {
          "line": {
           "color": "red"
          },
          "type": "line",
          "x0": 6.769641976852503,
          "x1": 6.769641976852503,
          "xref": "x",
          "y0": 0,
          "y1": 1,
          "yref": "y domain"
         }
        ],
        "template": {
         "data": {
          "bar": [
           {
            "error_x": {
             "color": "#2a3f5f"
            },
            "error_y": {
             "color": "#2a3f5f"
            },
            "marker": {
             "line": {
              "color": "#E5ECF6",
              "width": 0.5
             },
             "pattern": {
              "fillmode": "overlay",
              "size": 10,
              "solidity": 0.2
             }
            },
            "type": "bar"
           }
          ],
          "barpolar": [
           {
            "marker": {
             "line": {
              "color": "#E5ECF6",
              "width": 0.5
             },
             "pattern": {
              "fillmode": "overlay",
              "size": 10,
              "solidity": 0.2
             }
            },
            "type": "barpolar"
           }
          ],
          "carpet": [
           {
            "aaxis": {
             "endlinecolor": "#2a3f5f",
             "gridcolor": "white",
             "linecolor": "white",
             "minorgridcolor": "white",
             "startlinecolor": "#2a3f5f"
            },
            "baxis": {
             "endlinecolor": "#2a3f5f",
             "gridcolor": "white",
             "linecolor": "white",
             "minorgridcolor": "white",
             "startlinecolor": "#2a3f5f"
            },
            "type": "carpet"
           }
          ],
          "choropleth": [
           {
            "colorbar": {
             "outlinewidth": 0,
             "ticks": ""
            },
            "type": "choropleth"
           }
          ],
          "contour": [
           {
            "colorbar": {
             "outlinewidth": 0,
             "ticks": ""
            },
            "colorscale": [
             [
              0,
              "#0d0887"
             ],
             [
              0.1111111111111111,
              "#46039f"
             ],
             [
              0.2222222222222222,
              "#7201a8"
             ],
             [
              0.3333333333333333,
              "#9c179e"
             ],
             [
              0.4444444444444444,
              "#bd3786"
             ],
             [
              0.5555555555555556,
              "#d8576b"
             ],
             [
              0.6666666666666666,
              "#ed7953"
             ],
             [
              0.7777777777777778,
              "#fb9f3a"
             ],
             [
              0.8888888888888888,
              "#fdca26"
             ],
             [
              1,
              "#f0f921"
             ]
            ],
            "type": "contour"
           }
          ],
          "contourcarpet": [
           {
            "colorbar": {
             "outlinewidth": 0,
             "ticks": ""
            },
            "type": "contourcarpet"
           }
          ],
          "heatmap": [
           {
            "colorbar": {
             "outlinewidth": 0,
             "ticks": ""
            },
            "colorscale": [
             [
              0,
              "#0d0887"
             ],
             [
              0.1111111111111111,
              "#46039f"
             ],
             [
              0.2222222222222222,
              "#7201a8"
             ],
             [
              0.3333333333333333,
              "#9c179e"
             ],
             [
              0.4444444444444444,
              "#bd3786"
             ],
             [
              0.5555555555555556,
              "#d8576b"
             ],
             [
              0.6666666666666666,
              "#ed7953"
             ],
             [
              0.7777777777777778,
              "#fb9f3a"
             ],
             [
              0.8888888888888888,
              "#fdca26"
             ],
             [
              1,
              "#f0f921"
             ]
            ],
            "type": "heatmap"
           }
          ],
          "heatmapgl": [
           {
            "colorbar": {
             "outlinewidth": 0,
             "ticks": ""
            },
            "colorscale": [
             [
              0,
              "#0d0887"
             ],
             [
              0.1111111111111111,
              "#46039f"
             ],
             [
              0.2222222222222222,
              "#7201a8"
             ],
             [
              0.3333333333333333,
              "#9c179e"
             ],
             [
              0.4444444444444444,
              "#bd3786"
             ],
             [
              0.5555555555555556,
              "#d8576b"
             ],
             [
              0.6666666666666666,
              "#ed7953"
             ],
             [
              0.7777777777777778,
              "#fb9f3a"
             ],
             [
              0.8888888888888888,
              "#fdca26"
             ],
             [
              1,
              "#f0f921"
             ]
            ],
            "type": "heatmapgl"
           }
          ],
          "histogram": [
           {
            "marker": {
             "pattern": {
              "fillmode": "overlay",
              "size": 10,
              "solidity": 0.2
             }
            },
            "type": "histogram"
           }
          ],
          "histogram2d": [
           {
            "colorbar": {
             "outlinewidth": 0,
             "ticks": ""
            },
            "colorscale": [
             [
              0,
              "#0d0887"
             ],
             [
              0.1111111111111111,
              "#46039f"
             ],
             [
              0.2222222222222222,
              "#7201a8"
             ],
             [
              0.3333333333333333,
              "#9c179e"
             ],
             [
              0.4444444444444444,
              "#bd3786"
             ],
             [
              0.5555555555555556,
              "#d8576b"
             ],
             [
              0.6666666666666666,
              "#ed7953"
             ],
             [
              0.7777777777777778,
              "#fb9f3a"
             ],
             [
              0.8888888888888888,
              "#fdca26"
             ],
             [
              1,
              "#f0f921"
             ]
            ],
            "type": "histogram2d"
           }
          ],
          "histogram2dcontour": [
           {
            "colorbar": {
             "outlinewidth": 0,
             "ticks": ""
            },
            "colorscale": [
             [
              0,
              "#0d0887"
             ],
             [
              0.1111111111111111,
              "#46039f"
             ],
             [
              0.2222222222222222,
              "#7201a8"
             ],
             [
              0.3333333333333333,
              "#9c179e"
             ],
             [
              0.4444444444444444,
              "#bd3786"
             ],
             [
              0.5555555555555556,
              "#d8576b"
             ],
             [
              0.6666666666666666,
              "#ed7953"
             ],
             [
              0.7777777777777778,
              "#fb9f3a"
             ],
             [
              0.8888888888888888,
              "#fdca26"
             ],
             [
              1,
              "#f0f921"
             ]
            ],
            "type": "histogram2dcontour"
           }
          ],
          "mesh3d": [
           {
            "colorbar": {
             "outlinewidth": 0,
             "ticks": ""
            },
            "type": "mesh3d"
           }
          ],
          "parcoords": [
           {
            "line": {
             "colorbar": {
              "outlinewidth": 0,
              "ticks": ""
             }
            },
            "type": "parcoords"
           }
          ],
          "pie": [
           {
            "automargin": true,
            "type": "pie"
           }
          ],
          "scatter": [
           {
            "fillpattern": {
             "fillmode": "overlay",
             "size": 10,
             "solidity": 0.2
            },
            "type": "scatter"
           }
          ],
          "scatter3d": [
           {
            "line": {
             "colorbar": {
              "outlinewidth": 0,
              "ticks": ""
             }
            },
            "marker": {
             "colorbar": {
              "outlinewidth": 0,
              "ticks": ""
             }
            },
            "type": "scatter3d"
           }
          ],
          "scattercarpet": [
           {
            "marker": {
             "colorbar": {
              "outlinewidth": 0,
              "ticks": ""
             }
            },
            "type": "scattercarpet"
           }
          ],
          "scattergeo": [
           {
            "marker": {
             "colorbar": {
              "outlinewidth": 0,
              "ticks": ""
             }
            },
            "type": "scattergeo"
           }
          ],
          "scattergl": [
           {
            "marker": {
             "colorbar": {
              "outlinewidth": 0,
              "ticks": ""
             }
            },
            "type": "scattergl"
           }
          ],
          "scattermapbox": [
           {
            "marker": {
             "colorbar": {
              "outlinewidth": 0,
              "ticks": ""
             }
            },
            "type": "scattermapbox"
           }
          ],
          "scatterpolar": [
           {
            "marker": {
             "colorbar": {
              "outlinewidth": 0,
              "ticks": ""
             }
            },
            "type": "scatterpolar"
           }
          ],
          "scatterpolargl": [
           {
            "marker": {
             "colorbar": {
              "outlinewidth": 0,
              "ticks": ""
             }
            },
            "type": "scatterpolargl"
           }
          ],
          "scatterternary": [
           {
            "marker": {
             "colorbar": {
              "outlinewidth": 0,
              "ticks": ""
             }
            },
            "type": "scatterternary"
           }
          ],
          "surface": [
           {
            "colorbar": {
             "outlinewidth": 0,
             "ticks": ""
            },
            "colorscale": [
             [
              0,
              "#0d0887"
             ],
             [
              0.1111111111111111,
              "#46039f"
             ],
             [
              0.2222222222222222,
              "#7201a8"
             ],
             [
              0.3333333333333333,
              "#9c179e"
             ],
             [
              0.4444444444444444,
              "#bd3786"
             ],
             [
              0.5555555555555556,
              "#d8576b"
             ],
             [
              0.6666666666666666,
              "#ed7953"
             ],
             [
              0.7777777777777778,
              "#fb9f3a"
             ],
             [
              0.8888888888888888,
              "#fdca26"
             ],
             [
              1,
              "#f0f921"
             ]
            ],
            "type": "surface"
           }
          ],
          "table": [
           {
            "cells": {
             "fill": {
              "color": "#EBF0F8"
             },
             "line": {
              "color": "white"
             }
            },
            "header": {
             "fill": {
              "color": "#C8D4E3"
             },
             "line": {
              "color": "white"
             }
            },
            "type": "table"
           }
          ]
         },
         "layout": {
          "annotationdefaults": {
           "arrowcolor": "#2a3f5f",
           "arrowhead": 0,
           "arrowwidth": 1
          },
          "autotypenumbers": "strict",
          "coloraxis": {
           "colorbar": {
            "outlinewidth": 0,
            "ticks": ""
           }
          },
          "colorscale": {
           "diverging": [
            [
             0,
             "#8e0152"
            ],
            [
             0.1,
             "#c51b7d"
            ],
            [
             0.2,
             "#de77ae"
            ],
            [
             0.3,
             "#f1b6da"
            ],
            [
             0.4,
             "#fde0ef"
            ],
            [
             0.5,
             "#f7f7f7"
            ],
            [
             0.6,
             "#e6f5d0"
            ],
            [
             0.7,
             "#b8e186"
            ],
            [
             0.8,
             "#7fbc41"
            ],
            [
             0.9,
             "#4d9221"
            ],
            [
             1,
             "#276419"
            ]
           ],
           "sequential": [
            [
             0,
             "#0d0887"
            ],
            [
             0.1111111111111111,
             "#46039f"
            ],
            [
             0.2222222222222222,
             "#7201a8"
            ],
            [
             0.3333333333333333,
             "#9c179e"
            ],
            [
             0.4444444444444444,
             "#bd3786"
            ],
            [
             0.5555555555555556,
             "#d8576b"
            ],
            [
             0.6666666666666666,
             "#ed7953"
            ],
            [
             0.7777777777777778,
             "#fb9f3a"
            ],
            [
             0.8888888888888888,
             "#fdca26"
            ],
            [
             1,
             "#f0f921"
            ]
           ],
           "sequentialminus": [
            [
             0,
             "#0d0887"
            ],
            [
             0.1111111111111111,
             "#46039f"
            ],
            [
             0.2222222222222222,
             "#7201a8"
            ],
            [
             0.3333333333333333,
             "#9c179e"
            ],
            [
             0.4444444444444444,
             "#bd3786"
            ],
            [
             0.5555555555555556,
             "#d8576b"
            ],
            [
             0.6666666666666666,
             "#ed7953"
            ],
            [
             0.7777777777777778,
             "#fb9f3a"
            ],
            [
             0.8888888888888888,
             "#fdca26"
            ],
            [
             1,
             "#f0f921"
            ]
           ]
          },
          "colorway": [
           "#636efa",
           "#EF553B",
           "#00cc96",
           "#ab63fa",
           "#FFA15A",
           "#19d3f3",
           "#FF6692",
           "#B6E880",
           "#FF97FF",
           "#FECB52"
          ],
          "font": {
           "color": "#2a3f5f"
          },
          "geo": {
           "bgcolor": "white",
           "lakecolor": "white",
           "landcolor": "#E5ECF6",
           "showlakes": true,
           "showland": true,
           "subunitcolor": "white"
          },
          "hoverlabel": {
           "align": "left"
          },
          "hovermode": "closest",
          "mapbox": {
           "style": "light"
          },
          "paper_bgcolor": "white",
          "plot_bgcolor": "#E5ECF6",
          "polar": {
           "angularaxis": {
            "gridcolor": "white",
            "linecolor": "white",
            "ticks": ""
           },
           "bgcolor": "#E5ECF6",
           "radialaxis": {
            "gridcolor": "white",
            "linecolor": "white",
            "ticks": ""
           }
          },
          "scene": {
           "xaxis": {
            "backgroundcolor": "#E5ECF6",
            "gridcolor": "white",
            "gridwidth": 2,
            "linecolor": "white",
            "showbackground": true,
            "ticks": "",
            "zerolinecolor": "white"
           },
           "yaxis": {
            "backgroundcolor": "#E5ECF6",
            "gridcolor": "white",
            "gridwidth": 2,
            "linecolor": "white",
            "showbackground": true,
            "ticks": "",
            "zerolinecolor": "white"
           },
           "zaxis": {
            "backgroundcolor": "#E5ECF6",
            "gridcolor": "white",
            "gridwidth": 2,
            "linecolor": "white",
            "showbackground": true,
            "ticks": "",
            "zerolinecolor": "white"
           }
          },
          "shapedefaults": {
           "line": {
            "color": "#2a3f5f"
           }
          },
          "ternary": {
           "aaxis": {
            "gridcolor": "white",
            "linecolor": "white",
            "ticks": ""
           },
           "baxis": {
            "gridcolor": "white",
            "linecolor": "white",
            "ticks": ""
           },
           "bgcolor": "#E5ECF6",
           "caxis": {
            "gridcolor": "white",
            "linecolor": "white",
            "ticks": ""
           }
          },
          "title": {
           "x": 0.05
          },
          "xaxis": {
           "automargin": true,
           "gridcolor": "white",
           "linecolor": "white",
           "ticks": "",
           "title": {
            "standoff": 15
           },
           "zerolinecolor": "white",
           "zerolinewidth": 2
          },
          "yaxis": {
           "automargin": true,
           "gridcolor": "white",
           "linecolor": "white",
           "ticks": "",
           "title": {
            "standoff": 15
           },
           "zerolinecolor": "white",
           "zerolinewidth": 2
          }
         }
        },
        "xaxis": {
         "anchor": "y",
         "domain": [
          0,
          1
         ],
         "title": {
          "text": "LOG_OUTAGE_DURATION"
         }
        },
        "yaxis": {
         "anchor": "x",
         "domain": [
          0,
          1
         ],
         "title": {
          "text": "count"
         }
        }
       }
      }
     },
     "metadata": {},
     "output_type": "display_data"
    }
   ],
   "source": [
    "fig = severity.plot(x=\"LOG_OUTAGE_DURATION\", kind=\"hist\", nbins=100, color=\"SEVERITY\")\n",
    "fig.add_vline(MID, line_color=\"red\")"
   ]
  },
  {
   "cell_type": "code",
   "execution_count": 21,
   "metadata": {},
   "outputs": [
    {
     "data": {
      "text/plain": [
       "OUTAGE.DURATION           0.505447\n",
       "LOG_CUSTOMERS_AFFECTED    0.353215\n",
       "YEAR                      0.324978\n",
       "OUTAGE.START              0.324300\n",
       "OUTAGE.RESTORATION        0.322864\n",
       "CUSTOMERS.AFFECTED        0.247294\n",
       "LOG_DEMAND_LOSS_MW        0.231851\n",
       "PC.REALGSP.USA            0.215041\n",
       "RESTORATION_HR            0.201543\n",
       "UTIL.CONTRI               0.200287\n",
       "Name: LOG_OUTAGE_DURATION, dtype: float64"
      ]
     },
     "execution_count": 21,
     "metadata": {},
     "output_type": "execute_result"
    }
   ],
   "source": [
    "corr_matrix[\"LOG_OUTAGE_DURATION\"].apply(abs).sort_values(ascending=False).iloc[1:11]"
   ]
  },
  {
   "cell_type": "code",
   "execution_count": 22,
   "metadata": {},
   "outputs": [
    {
     "data": {
      "text/plain": [
       "OUTAGE.DURATION\n",
       "1       97\n",
       "0       78\n",
       "2880    15\n",
       "60      14\n",
       "300     14\n",
       "Name: count, dtype: int64"
      ]
     },
     "execution_count": 22,
     "metadata": {},
     "output_type": "execute_result"
    }
   ],
   "source": [
    "severity[\"OUTAGE.DURATION\"].value_counts().head()"
   ]
  },
  {
   "cell_type": "code",
   "execution_count": 23,
   "metadata": {},
   "outputs": [],
   "source": [
    "def plot_duration(col, log_=True):\n",
    "    return (\n",
    "        severity.groupby(col)[\"OUTAGE.DURATION\"]\n",
    "        .median()\n",
    "        .apply(log if log_ else lambda x: x)\n",
    "        .sort_values(ascending=False)\n",
    "        .reset_index()\n",
    "        .plot(x=col, y=\"OUTAGE.DURATION\", kind=\"bar\")\n",
    "    )"
   ]
  },
  {
   "cell_type": "code",
   "execution_count": 24,
   "metadata": {},
   "outputs": [
    {
     "data": {
      "application/vnd.plotly.v1+json": {
       "config": {
        "plotlyServerURL": "https://plot.ly"
       },
       "data": [
        {
         "alignmentgroup": "True",
         "hovertemplate": "START_HR=%{x}<br>OUTAGE.DURATION=%{y}<extra></extra>",
         "legendgroup": "",
         "marker": {
          "color": "#636efa",
          "pattern": {
           "shape": ""
          }
         },
         "name": "",
         "offsetgroup": "",
         "orientation": "v",
         "showlegend": false,
         "textposition": "auto",
         "type": "bar",
         "x": [
          1,
          20,
          2,
          5,
          18,
          22,
          0,
          17,
          16,
          21,
          4,
          19,
          3,
          6,
          23,
          7,
          15,
          8,
          10,
          11,
          9,
          14,
          12,
          13
         ],
         "xaxis": "x",
         "y": [
          2445,
          2142,
          1785,
          1781,
          1676,
          1513,
          1440,
          1402.5,
          1200,
          1125.5,
          1080,
          1052,
          1005,
          959,
          900,
          569,
          385,
          375,
          360,
          333,
          305,
          237,
          234,
          182
         ],
         "yaxis": "y"
        }
       ],
       "layout": {
        "barmode": "relative",
        "legend": {
         "tracegroupgap": 0
        },
        "margin": {
         "t": 60
        },
        "template": {
         "data": {
          "bar": [
           {
            "error_x": {
             "color": "#2a3f5f"
            },
            "error_y": {
             "color": "#2a3f5f"
            },
            "marker": {
             "line": {
              "color": "#E5ECF6",
              "width": 0.5
             },
             "pattern": {
              "fillmode": "overlay",
              "size": 10,
              "solidity": 0.2
             }
            },
            "type": "bar"
           }
          ],
          "barpolar": [
           {
            "marker": {
             "line": {
              "color": "#E5ECF6",
              "width": 0.5
             },
             "pattern": {
              "fillmode": "overlay",
              "size": 10,
              "solidity": 0.2
             }
            },
            "type": "barpolar"
           }
          ],
          "carpet": [
           {
            "aaxis": {
             "endlinecolor": "#2a3f5f",
             "gridcolor": "white",
             "linecolor": "white",
             "minorgridcolor": "white",
             "startlinecolor": "#2a3f5f"
            },
            "baxis": {
             "endlinecolor": "#2a3f5f",
             "gridcolor": "white",
             "linecolor": "white",
             "minorgridcolor": "white",
             "startlinecolor": "#2a3f5f"
            },
            "type": "carpet"
           }
          ],
          "choropleth": [
           {
            "colorbar": {
             "outlinewidth": 0,
             "ticks": ""
            },
            "type": "choropleth"
           }
          ],
          "contour": [
           {
            "colorbar": {
             "outlinewidth": 0,
             "ticks": ""
            },
            "colorscale": [
             [
              0,
              "#0d0887"
             ],
             [
              0.1111111111111111,
              "#46039f"
             ],
             [
              0.2222222222222222,
              "#7201a8"
             ],
             [
              0.3333333333333333,
              "#9c179e"
             ],
             [
              0.4444444444444444,
              "#bd3786"
             ],
             [
              0.5555555555555556,
              "#d8576b"
             ],
             [
              0.6666666666666666,
              "#ed7953"
             ],
             [
              0.7777777777777778,
              "#fb9f3a"
             ],
             [
              0.8888888888888888,
              "#fdca26"
             ],
             [
              1,
              "#f0f921"
             ]
            ],
            "type": "contour"
           }
          ],
          "contourcarpet": [
           {
            "colorbar": {
             "outlinewidth": 0,
             "ticks": ""
            },
            "type": "contourcarpet"
           }
          ],
          "heatmap": [
           {
            "colorbar": {
             "outlinewidth": 0,
             "ticks": ""
            },
            "colorscale": [
             [
              0,
              "#0d0887"
             ],
             [
              0.1111111111111111,
              "#46039f"
             ],
             [
              0.2222222222222222,
              "#7201a8"
             ],
             [
              0.3333333333333333,
              "#9c179e"
             ],
             [
              0.4444444444444444,
              "#bd3786"
             ],
             [
              0.5555555555555556,
              "#d8576b"
             ],
             [
              0.6666666666666666,
              "#ed7953"
             ],
             [
              0.7777777777777778,
              "#fb9f3a"
             ],
             [
              0.8888888888888888,
              "#fdca26"
             ],
             [
              1,
              "#f0f921"
             ]
            ],
            "type": "heatmap"
           }
          ],
          "heatmapgl": [
           {
            "colorbar": {
             "outlinewidth": 0,
             "ticks": ""
            },
            "colorscale": [
             [
              0,
              "#0d0887"
             ],
             [
              0.1111111111111111,
              "#46039f"
             ],
             [
              0.2222222222222222,
              "#7201a8"
             ],
             [
              0.3333333333333333,
              "#9c179e"
             ],
             [
              0.4444444444444444,
              "#bd3786"
             ],
             [
              0.5555555555555556,
              "#d8576b"
             ],
             [
              0.6666666666666666,
              "#ed7953"
             ],
             [
              0.7777777777777778,
              "#fb9f3a"
             ],
             [
              0.8888888888888888,
              "#fdca26"
             ],
             [
              1,
              "#f0f921"
             ]
            ],
            "type": "heatmapgl"
           }
          ],
          "histogram": [
           {
            "marker": {
             "pattern": {
              "fillmode": "overlay",
              "size": 10,
              "solidity": 0.2
             }
            },
            "type": "histogram"
           }
          ],
          "histogram2d": [
           {
            "colorbar": {
             "outlinewidth": 0,
             "ticks": ""
            },
            "colorscale": [
             [
              0,
              "#0d0887"
             ],
             [
              0.1111111111111111,
              "#46039f"
             ],
             [
              0.2222222222222222,
              "#7201a8"
             ],
             [
              0.3333333333333333,
              "#9c179e"
             ],
             [
              0.4444444444444444,
              "#bd3786"
             ],
             [
              0.5555555555555556,
              "#d8576b"
             ],
             [
              0.6666666666666666,
              "#ed7953"
             ],
             [
              0.7777777777777778,
              "#fb9f3a"
             ],
             [
              0.8888888888888888,
              "#fdca26"
             ],
             [
              1,
              "#f0f921"
             ]
            ],
            "type": "histogram2d"
           }
          ],
          "histogram2dcontour": [
           {
            "colorbar": {
             "outlinewidth": 0,
             "ticks": ""
            },
            "colorscale": [
             [
              0,
              "#0d0887"
             ],
             [
              0.1111111111111111,
              "#46039f"
             ],
             [
              0.2222222222222222,
              "#7201a8"
             ],
             [
              0.3333333333333333,
              "#9c179e"
             ],
             [
              0.4444444444444444,
              "#bd3786"
             ],
             [
              0.5555555555555556,
              "#d8576b"
             ],
             [
              0.6666666666666666,
              "#ed7953"
             ],
             [
              0.7777777777777778,
              "#fb9f3a"
             ],
             [
              0.8888888888888888,
              "#fdca26"
             ],
             [
              1,
              "#f0f921"
             ]
            ],
            "type": "histogram2dcontour"
           }
          ],
          "mesh3d": [
           {
            "colorbar": {
             "outlinewidth": 0,
             "ticks": ""
            },
            "type": "mesh3d"
           }
          ],
          "parcoords": [
           {
            "line": {
             "colorbar": {
              "outlinewidth": 0,
              "ticks": ""
             }
            },
            "type": "parcoords"
           }
          ],
          "pie": [
           {
            "automargin": true,
            "type": "pie"
           }
          ],
          "scatter": [
           {
            "fillpattern": {
             "fillmode": "overlay",
             "size": 10,
             "solidity": 0.2
            },
            "type": "scatter"
           }
          ],
          "scatter3d": [
           {
            "line": {
             "colorbar": {
              "outlinewidth": 0,
              "ticks": ""
             }
            },
            "marker": {
             "colorbar": {
              "outlinewidth": 0,
              "ticks": ""
             }
            },
            "type": "scatter3d"
           }
          ],
          "scattercarpet": [
           {
            "marker": {
             "colorbar": {
              "outlinewidth": 0,
              "ticks": ""
             }
            },
            "type": "scattercarpet"
           }
          ],
          "scattergeo": [
           {
            "marker": {
             "colorbar": {
              "outlinewidth": 0,
              "ticks": ""
             }
            },
            "type": "scattergeo"
           }
          ],
          "scattergl": [
           {
            "marker": {
             "colorbar": {
              "outlinewidth": 0,
              "ticks": ""
             }
            },
            "type": "scattergl"
           }
          ],
          "scattermapbox": [
           {
            "marker": {
             "colorbar": {
              "outlinewidth": 0,
              "ticks": ""
             }
            },
            "type": "scattermapbox"
           }
          ],
          "scatterpolar": [
           {
            "marker": {
             "colorbar": {
              "outlinewidth": 0,
              "ticks": ""
             }
            },
            "type": "scatterpolar"
           }
          ],
          "scatterpolargl": [
           {
            "marker": {
             "colorbar": {
              "outlinewidth": 0,
              "ticks": ""
             }
            },
            "type": "scatterpolargl"
           }
          ],
          "scatterternary": [
           {
            "marker": {
             "colorbar": {
              "outlinewidth": 0,
              "ticks": ""
             }
            },
            "type": "scatterternary"
           }
          ],
          "surface": [
           {
            "colorbar": {
             "outlinewidth": 0,
             "ticks": ""
            },
            "colorscale": [
             [
              0,
              "#0d0887"
             ],
             [
              0.1111111111111111,
              "#46039f"
             ],
             [
              0.2222222222222222,
              "#7201a8"
             ],
             [
              0.3333333333333333,
              "#9c179e"
             ],
             [
              0.4444444444444444,
              "#bd3786"
             ],
             [
              0.5555555555555556,
              "#d8576b"
             ],
             [
              0.6666666666666666,
              "#ed7953"
             ],
             [
              0.7777777777777778,
              "#fb9f3a"
             ],
             [
              0.8888888888888888,
              "#fdca26"
             ],
             [
              1,
              "#f0f921"
             ]
            ],
            "type": "surface"
           }
          ],
          "table": [
           {
            "cells": {
             "fill": {
              "color": "#EBF0F8"
             },
             "line": {
              "color": "white"
             }
            },
            "header": {
             "fill": {
              "color": "#C8D4E3"
             },
             "line": {
              "color": "white"
             }
            },
            "type": "table"
           }
          ]
         },
         "layout": {
          "annotationdefaults": {
           "arrowcolor": "#2a3f5f",
           "arrowhead": 0,
           "arrowwidth": 1
          },
          "autotypenumbers": "strict",
          "coloraxis": {
           "colorbar": {
            "outlinewidth": 0,
            "ticks": ""
           }
          },
          "colorscale": {
           "diverging": [
            [
             0,
             "#8e0152"
            ],
            [
             0.1,
             "#c51b7d"
            ],
            [
             0.2,
             "#de77ae"
            ],
            [
             0.3,
             "#f1b6da"
            ],
            [
             0.4,
             "#fde0ef"
            ],
            [
             0.5,
             "#f7f7f7"
            ],
            [
             0.6,
             "#e6f5d0"
            ],
            [
             0.7,
             "#b8e186"
            ],
            [
             0.8,
             "#7fbc41"
            ],
            [
             0.9,
             "#4d9221"
            ],
            [
             1,
             "#276419"
            ]
           ],
           "sequential": [
            [
             0,
             "#0d0887"
            ],
            [
             0.1111111111111111,
             "#46039f"
            ],
            [
             0.2222222222222222,
             "#7201a8"
            ],
            [
             0.3333333333333333,
             "#9c179e"
            ],
            [
             0.4444444444444444,
             "#bd3786"
            ],
            [
             0.5555555555555556,
             "#d8576b"
            ],
            [
             0.6666666666666666,
             "#ed7953"
            ],
            [
             0.7777777777777778,
             "#fb9f3a"
            ],
            [
             0.8888888888888888,
             "#fdca26"
            ],
            [
             1,
             "#f0f921"
            ]
           ],
           "sequentialminus": [
            [
             0,
             "#0d0887"
            ],
            [
             0.1111111111111111,
             "#46039f"
            ],
            [
             0.2222222222222222,
             "#7201a8"
            ],
            [
             0.3333333333333333,
             "#9c179e"
            ],
            [
             0.4444444444444444,
             "#bd3786"
            ],
            [
             0.5555555555555556,
             "#d8576b"
            ],
            [
             0.6666666666666666,
             "#ed7953"
            ],
            [
             0.7777777777777778,
             "#fb9f3a"
            ],
            [
             0.8888888888888888,
             "#fdca26"
            ],
            [
             1,
             "#f0f921"
            ]
           ]
          },
          "colorway": [
           "#636efa",
           "#EF553B",
           "#00cc96",
           "#ab63fa",
           "#FFA15A",
           "#19d3f3",
           "#FF6692",
           "#B6E880",
           "#FF97FF",
           "#FECB52"
          ],
          "font": {
           "color": "#2a3f5f"
          },
          "geo": {
           "bgcolor": "white",
           "lakecolor": "white",
           "landcolor": "#E5ECF6",
           "showlakes": true,
           "showland": true,
           "subunitcolor": "white"
          },
          "hoverlabel": {
           "align": "left"
          },
          "hovermode": "closest",
          "mapbox": {
           "style": "light"
          },
          "paper_bgcolor": "white",
          "plot_bgcolor": "#E5ECF6",
          "polar": {
           "angularaxis": {
            "gridcolor": "white",
            "linecolor": "white",
            "ticks": ""
           },
           "bgcolor": "#E5ECF6",
           "radialaxis": {
            "gridcolor": "white",
            "linecolor": "white",
            "ticks": ""
           }
          },
          "scene": {
           "xaxis": {
            "backgroundcolor": "#E5ECF6",
            "gridcolor": "white",
            "gridwidth": 2,
            "linecolor": "white",
            "showbackground": true,
            "ticks": "",
            "zerolinecolor": "white"
           },
           "yaxis": {
            "backgroundcolor": "#E5ECF6",
            "gridcolor": "white",
            "gridwidth": 2,
            "linecolor": "white",
            "showbackground": true,
            "ticks": "",
            "zerolinecolor": "white"
           },
           "zaxis": {
            "backgroundcolor": "#E5ECF6",
            "gridcolor": "white",
            "gridwidth": 2,
            "linecolor": "white",
            "showbackground": true,
            "ticks": "",
            "zerolinecolor": "white"
           }
          },
          "shapedefaults": {
           "line": {
            "color": "#2a3f5f"
           }
          },
          "ternary": {
           "aaxis": {
            "gridcolor": "white",
            "linecolor": "white",
            "ticks": ""
           },
           "baxis": {
            "gridcolor": "white",
            "linecolor": "white",
            "ticks": ""
           },
           "bgcolor": "#E5ECF6",
           "caxis": {
            "gridcolor": "white",
            "linecolor": "white",
            "ticks": ""
           }
          },
          "title": {
           "x": 0.05
          },
          "xaxis": {
           "automargin": true,
           "gridcolor": "white",
           "linecolor": "white",
           "ticks": "",
           "title": {
            "standoff": 15
           },
           "zerolinecolor": "white",
           "zerolinewidth": 2
          },
          "yaxis": {
           "automargin": true,
           "gridcolor": "white",
           "linecolor": "white",
           "ticks": "",
           "title": {
            "standoff": 15
           },
           "zerolinecolor": "white",
           "zerolinewidth": 2
          }
         }
        },
        "xaxis": {
         "anchor": "y",
         "domain": [
          0,
          1
         ],
         "title": {
          "text": "START_HR"
         }
        },
        "yaxis": {
         "anchor": "x",
         "domain": [
          0,
          1
         ],
         "title": {
          "text": "OUTAGE.DURATION"
         }
        }
       }
      }
     },
     "metadata": {},
     "output_type": "display_data"
    }
   ],
   "source": [
    "plot_duration(\"START_HR\", log_=False)"
   ]
  },
  {
   "cell_type": "markdown",
   "metadata": {},
   "source": [
    "## Step 6: Baseline Model\n"
   ]
  },
  {
   "cell_type": "code",
   "execution_count": 25,
   "metadata": {},
   "outputs": [],
   "source": [
    "import plotly.graph_objects as go\n",
    "\n",
    "def plot_accuracy_surface(grid_search):\n",
    "    df = pd.DataFrame(grid_search.cv_results_)\n",
    "    grouped = (\n",
    "        df.groupby([\"param_classifier__n_estimators\", \"param_classifier__max_depth\"])[\n",
    "            \"mean_test_score\"\n",
    "        ]\n",
    "        .max()\n",
    "        .reset_index()\n",
    "    )\n",
    "    pivot_table = grouped.pivot(\n",
    "        index=\"param_classifier__n_estimators\",\n",
    "        columns=\"param_classifier__max_depth\",\n",
    "        values=\"mean_test_score\",\n",
    "    )\n",
    "\n",
    "    surface = go.Surface(\n",
    "        z=pivot_table.values, x=pivot_table.columns, y=pivot_table.index\n",
    "    )\n",
    "    fig = go.Figure(data=[surface])\n",
    "    fig.update_layout(\n",
    "        title=\"Grid Search Results\",\n",
    "        scene=dict(\n",
    "            xaxis_title=\"Max Depth\",\n",
    "            yaxis_title=\"Number of Estimators\",\n",
    "            zaxis_title=\"Mean Test Score\",\n",
    "        ),\n",
    "        autosize=False,\n",
    "        width=1000,\n",
    "        height=800,\n",
    "    )\n",
    "    fig.show()"
   ]
  },
  {
   "cell_type": "code",
   "execution_count": 26,
   "metadata": {},
   "outputs": [
    {
     "name": "stdout",
     "output_type": "stream",
     "text": [
      "Fitting 5 folds for each of 500 candidates, totalling 2500 fits\n"
     ]
    },
    {
     "data": {
      "application/vnd.plotly.v1+json": {
       "config": {
        "plotlyServerURL": "https://plot.ly"
       },
       "data": [
        {
         "type": "surface",
         "x": [
          1,
          2,
          3,
          4,
          5,
          6,
          7,
          8,
          9,
          10
         ],
         "y": [
          50,
          51,
          52,
          53,
          54,
          55,
          56,
          57,
          58,
          59,
          60,
          61,
          62,
          63,
          64,
          65,
          66,
          67,
          68,
          69,
          70,
          71,
          72,
          73,
          74,
          75,
          76,
          77,
          78,
          79,
          80,
          81,
          82,
          83,
          84,
          85,
          86,
          87,
          88,
          89,
          90,
          91,
          92,
          93,
          94,
          95,
          96,
          97,
          98,
          99
         ],
         "z": [
          [
           0.6399393772389088,
           0.6368310829429596,
           0.5907247175530449,
           0.5980766051253789,
           0.5991292367043263,
           0.5928465141912372,
           0.5907522733535409,
           0.5697712868558832,
           0.5330669605952053,
           0.5592559933866079
          ],
          [
           0.6399393772389088,
           0.6389253237806558,
           0.5959603196472857,
           0.5970294847065307,
           0.5980821162854781,
           0.5886580325158446,
           0.5865362358776522,
           0.5676770460181869,
           0.5320143290162579,
           0.5582088729677597
          ],
          [
           0.6388867456599614,
           0.6378726922017084,
           0.6043372829980711,
           0.5970239735464316,
           0.6001818682832736,
           0.5938991457701845,
           0.5938991457701845,
           0.5834554973821989,
           0.5456379167814825,
           0.564497106640948
          ],
          [
           0.6399338660788095,
           0.6378726922017084,
           0.6053844034169193,
           0.5970294847065307,
           0.5991347478644254,
           0.5939046569302838,
           0.5938991457701845,
           0.5697767980159825,
           0.5445907963626344,
           0.5634499862220997
          ],
          [
           0.6388867456599614,
           0.6357784513640121,
           0.6169027280242491,
           0.5980766051253789,
           0.5991347478644254,
           0.5959988977679802,
           0.5802920914852576,
           0.5750124001102233,
           0.5456379167814825,
           0.5613557453844034
          ],
          [
           0.6388867456599614,
           0.6368255717828604,
           0.6284210526315789,
           0.5875392670157067,
           0.5928575365114357,
           0.594951777349132,
           0.5812730779829154,
           0.5771066409479195,
           0.5299311104987601,
           0.5582088729677597
          ],
          [
           0.6388867456599614,
           0.6399669330394049,
           0.6127142463488564,
           0.5980766051253789,
           0.594951777349132,
           0.5970460181868283,
           0.594951777349132,
           0.5781537613667677,
           0.5309782309176082,
           0.558214384127859
          ],
          [
           0.6388867456599614,
           0.6399669330394049,
           0.609572885092312,
           0.5980766051253789,
           0.5928575365114357,
           0.5959988977679802,
           0.5939046569302838,
           0.5697767980159825,
           0.5299311104987601,
           0.5582088729677597
          ],
          [
           0.6388867456599614,
           0.6399669330394049,
           0.5991016809038303,
           0.5980766051253789,
           0.594951777349132,
           0.5844805731606504,
           0.5698208872967759,
           0.5760595205290714,
           0.5330614494351061,
           0.5592559933866079
          ],
          [
           0.6399338660788095,
           0.6399669330394049,
           0.6085257646734638,
           0.5980766051253789,
           0.5970460181868283,
           0.5844805731606504,
           0.5813337007440067,
           0.5739542573711767,
           0.5320088178561587,
           0.5582033618076605
          ],
          [
           0.6399338660788095,
           0.6378726922017084,
           0.6137613667677047,
           0.5980766051253789,
           0.6064701019564618,
           0.5844805731606504,
           0.5939046569302839,
           0.5697602645356847,
           0.5403802700468449,
           0.558192339487462
          ],
          [
           0.6399338660788095,
           0.6378726922017084,
           0.6242325709561862,
           0.5980766051253789,
           0.60751722237531,
           0.5938936346100855,
           0.5928520253513365,
           0.5739542573711767,
           0.5456213833011849,
           0.5697767980159824
          ],
          [
           0.6535464315238357,
           0.6378726922017084,
           0.613827500688895,
           0.6096555524937999,
           0.594951777349132,
           0.5938936346100855,
           0.5928520253513365,
           0.5897327087351887,
           0.5445742628823368,
           0.5718710388536787
          ],
          [
           0.6420281069165059,
           0.6378726922017084,
           0.6399999999999999,
           0.6096555524937999,
           0.6127528244695508,
           0.5917993937723891,
           0.5907467621934417,
           0.5876384678974924,
           0.5572058418297052,
           0.5708294295949298
          ],
          [
           0.654593551942684,
           0.6368255717828604,
           0.6410471204188481,
           0.6148911545880408,
           0.6011738771011298,
           0.579233948746211,
           0.5823808211628547,
           0.5855442270597961,
           0.5446403968035272,
           0.5708294295949298
          ],
          [
           0.651441168365941,
           0.6368255717828604,
           0.644193992835492,
           0.6148911545880408,
           0.6127528244695508,
           0.5949407550289336,
           0.5781813171672636,
           0.586585836318545,
           0.5320033066960594,
           0.5697823091760815
          ],
          [
           0.6535464315238357,
           0.6378726922017084,
           0.644193992835492,
           0.6043593276384679,
           0.6011738771011298,
           0.5949407550289336,
           0.5781813171672636,
           0.5760540093689722,
           0.541427390465693,
           0.556103609809865
          ],
          [
           0.6640176357123174,
           0.6472912648112427,
           0.6672306420501515,
           0.6253623587765225,
           0.615833562965004,
           0.5949407550289336,
           0.5959988977679802,
           0.5771011297878204,
           0.5435271424634885,
           0.5581978506475613
          ],
          [
           0.6629705152934693,
           0.6430807384954532,
           0.6661835216313033,
           0.6264039680352715,
           0.6295067511711215,
           0.5949407550289336,
           0.5959988977679802,
           0.5750013777900248,
           0.5445687517222375,
           0.5581868283273629
          ],
          [
           0.6629705152934693,
           0.6462220997519978,
           0.6724662441443924,
           0.618027004684486,
           0.6158941857260953,
           0.6054119592174152,
           0.5928410030311382,
           0.5750013777900248,
           0.5278148250206669,
           0.5560925874896665
          ],
          [
           0.6629705152934693,
           0.6472747313309453,
           0.6672306420501515,
           0.6159327638467899,
           0.6117057040507026,
           0.609600440892808,
           0.5938936346100855,
           0.5865858363185451,
           0.5278148250206669,
           0.5676770460181869
          ],
          [
           0.6629705152934693,
           0.6462220997519978,
           0.6661780104712043,
           0.6169798842656379,
           0.5939046569302838,
           0.609600440892808,
           0.5834334527418021,
           0.5865858363185451,
           0.5299145770184623,
           0.5676770460181869
          ],
          [
           0.6629705152934693,
           0.6472747313309453,
           0.6672306420501517,
           0.6169798842656379,
           0.5939046569302838,
           0.6054119592174153,
           0.5897161752548912,
           0.5876329567373932,
           0.5446459079636263,
           0.5676660236979885
          ],
          [
           0.6608652521355746,
           0.6472747313309453,
           0.6661835216313035,
           0.6159327638467899,
           0.6085643427941582,
           0.6064590796362634,
           0.5876109120969965,
           0.5865858363185451,
           0.533061449435106,
           0.5708128961146322
          ],
          [
           0.6629705152934693,
           0.6483824745108845,
           0.6515183246073298,
           0.6169798842656379,
           0.5896941306144944,
           0.6012234775420227,
           0.5876109120969965,
           0.5886800771562414,
           0.5320143290162579,
           0.559233948746211
          ],
          [
           0.6640176357123174,
           0.6483824745108845,
           0.652565445026178,
           0.6159327638467899,
           0.6033011848994214,
           0.6001763571231745,
           0.5918104160925874,
           0.587627445577294,
           0.5320143290162579,
           0.5718655276935796
          ],
          [
           0.6640176357123174,
           0.6483824745108845,
           0.652565445026178,
           0.6159327638467899,
           0.6033011848994214,
           0.6033177183797189,
           0.5855276935794984,
           0.5886690548360429,
           0.5341085698539543,
           0.5718655276935796
          ],
          [
           0.6619123725544227,
           0.6441939928354918,
           0.6410471204188481,
           0.6138385230090935,
           0.6211959217415266,
           0.5949407550289336,
           0.5834224304216038,
           0.5897216864149903,
           0.5446459079636263,
           0.5697712868558831
          ],
          [
           0.6629594929732708,
           0.6441939928354918,
           0.6399999999999999,
           0.6138385230090935,
           0.6211297878203362,
           0.6001763571231744,
           0.5813281895839074,
           0.5886745659961422,
           0.5309672085974098,
           0.5697712868558831
          ],
          [
           0.6629594929732708,
           0.6441939928354918,
           0.6410471204188481,
           0.6138385230090935,
           0.6337613667677047,
           0.6001763571231744,
           0.5834224304216038,
           0.5886745659961422,
           0.5446459079636263,
           0.5708184072747313
          ],
          [
           0.6629594929732708,
           0.6462882336731882,
           0.6410471204188481,
           0.6159327638467899,
           0.6327087351887573,
           0.6012234775420227,
           0.5949352438688343,
           0.5886745659961422,
           0.5561642325709563,
           0.5718655276935796
          ],
          [
           0.6629594929732708,
           0.6462882336731882,
           0.6410471204188481,
           0.616979884265638,
           0.6327087351887573,
           0.5813281895839074,
           0.5949352438688343,
           0.5886745659961422,
           0.5561642325709563,
           0.5718655276935796
          ],
          [
           0.6629594929732708,
           0.6494351060898319,
           0.6400055111600992,
           0.6169853954257372,
           0.6295673739322127,
           0.5959878754477818,
           0.5949352438688343,
           0.6033342518600164,
           0.5613998346651969,
           0.575006888950124
          ],
          [
           0.6640066133921191,
           0.6494351060898319,
           0.6431468724166438,
           0.6190796362634334,
           0.6358500964453018,
           0.5959878754477818,
           0.5949352438688343,
           0.6033342518600164,
           0.5593055938275007,
           0.575006888950124
          ],
          [
           0.6650537338109672,
           0.6473408652521355,
           0.6420997519977956,
           0.6190796362634334,
           0.6358556076054009,
           0.5813281895839074,
           0.5949352438688343,
           0.5918159272526867,
           0.5593055938275007,
           0.5760540093689721
          ],
          [
           0.6650537338109672,
           0.6473408652521355,
           0.6410526315789473,
           0.6169853954257372,
           0.6327087351887573,
           0.579233948746211,
           0.5959878754477818,
           0.5886690548360429,
           0.5593055938275007,
           0.5613943235050979
          ],
          [
           0.6650537338109672,
           0.6473408652521355,
           0.6284871865527695,
           0.6169853954257372,
           0.6180490493248829,
           0.5813281895839075,
           0.5959878754477818,
           0.5897216864149903,
           0.5624745108845411,
           0.5729126481124277
          ],
          [
           0.6650537338109672,
           0.6494351060898319,
           0.6431468724166438,
           0.6159382750068889,
           0.6337558556076054,
           0.579233948746211,
           0.5959878754477818,
           0.5907688068338385,
           0.5687296775971342,
           0.5613943235050979
          ],
          [
           0.6640066133921191,
           0.6494351060898319,
           0.6420997519977956,
           0.6180325158445853,
           0.6337558556076054,
           0.5938936346100855,
           0.5959878754477818,
           0.5907688068338385,
           0.5750399559107192,
           0.5729126481124277
          ],
          [
           0.6640066133921191,
           0.6494351060898319,
           0.64524111325434,
           0.6190796362634334,
           0.6389914577018463,
           0.5802810691650593,
           0.5897051529346927,
           0.6033342518600164,
           0.561427390465693,
           0.5634995866629926
          ],
          [
           0.6640066133921191,
           0.6536456324056215,
           0.64524111325434,
           0.6180325158445853,
           0.6075117112152107,
           0.5792284375861119,
           0.5917938826122899,
           0.5897161752548912,
           0.5635216313033894,
           0.5645522182419399
          ],
          [
           0.6650537338109672,
           0.6536456324056215,
           0.64524111325434,
           0.6211738771011298,
           0.6075117112152107,
           0.5792284375861119,
           0.5907467621934417,
           0.5907688068338385,
           0.5624800220446404,
           0.5634995866629926
          ],
          [
           0.6629594929732708,
           0.6473408652521355,
           0.6337227886470103,
           0.6190796362634334,
           0.6211904105814273,
           0.583427941581703,
           0.5907577845136401,
           0.6022705979608707,
           0.5635271424634886,
           0.573965279691375
          ],
          [
           0.6650647561311656,
           0.6473408652521355,
           0.6201102232019841,
           0.6148856434279416,
           0.6180490493248829,
           0.5813337007440067,
           0.5781923394874621,
           0.5834224304216037,
           0.5635271424634886,
           0.5613943235050979
          ],
          [
           0.6713474786442546,
           0.6462882336731882,
           0.6211573436208322,
           0.6148856434279416,
           0.6180490493248829,
           0.5813337007440067,
           0.5781923394874621,
           0.5844695508404519,
           0.5635271424634886,
           0.5613943235050979
          ],
          [
           0.6692422154863599,
           0.6452356020942408,
           0.6274345549738221,
           0.6159382750068889,
           0.6180490493248829,
           0.5928410030311382,
           0.5760870763295675,
           0.5823753100027556,
           0.5624855332047396,
           0.5624469550840452
          ],
          [
           0.6703003582254065,
           0.6452356020942408,
           0.6263874345549738,
           0.6180325158445853,
           0.6180490493248829,
           0.5918049049324884,
           0.5771341967484156,
           0.5802810691650593,
           0.5624855332047396,
           0.5603637365665473
          ],
          [
           0.6681950950675117,
           0.6452356020942408,
           0.6159162303664922,
           0.6180325158445853,
           0.619096169743731,
           0.5918049049324884,
           0.589710664094792,
           0.5876109120969965,
           0.5750509782309177,
           0.5750509782309177
          ],
          [
           0.6681950950675117,
           0.6462827225130889,
           0.6159162303664922,
           0.6180325158445853,
           0.6201432901625792,
           0.5949462661890328,
           0.589710664094792,
           0.5876109120969965,
           0.5750509782309177,
           0.5624579774042436
          ],
          [
           0.6692422154863599,
           0.6483769633507852,
           0.6190575916230366,
           0.6232681179388262,
           0.6327087351887573,
           0.5949462661890328,
           0.6043703499586663,
           0.5960044089280794,
           0.5750509782309177,
           0.5624579774042436
          ]
         ]
        }
       ],
       "layout": {
        "autosize": false,
        "height": 800,
        "scene": {
         "xaxis": {
          "title": {
           "text": "Max Depth"
          }
         },
         "yaxis": {
          "title": {
           "text": "Number of Estimators"
          }
         },
         "zaxis": {
          "title": {
           "text": "Mean Test Score"
          }
         }
        },
        "template": {
         "data": {
          "bar": [
           {
            "error_x": {
             "color": "#2a3f5f"
            },
            "error_y": {
             "color": "#2a3f5f"
            },
            "marker": {
             "line": {
              "color": "#E5ECF6",
              "width": 0.5
             },
             "pattern": {
              "fillmode": "overlay",
              "size": 10,
              "solidity": 0.2
             }
            },
            "type": "bar"
           }
          ],
          "barpolar": [
           {
            "marker": {
             "line": {
              "color": "#E5ECF6",
              "width": 0.5
             },
             "pattern": {
              "fillmode": "overlay",
              "size": 10,
              "solidity": 0.2
             }
            },
            "type": "barpolar"
           }
          ],
          "carpet": [
           {
            "aaxis": {
             "endlinecolor": "#2a3f5f",
             "gridcolor": "white",
             "linecolor": "white",
             "minorgridcolor": "white",
             "startlinecolor": "#2a3f5f"
            },
            "baxis": {
             "endlinecolor": "#2a3f5f",
             "gridcolor": "white",
             "linecolor": "white",
             "minorgridcolor": "white",
             "startlinecolor": "#2a3f5f"
            },
            "type": "carpet"
           }
          ],
          "choropleth": [
           {
            "colorbar": {
             "outlinewidth": 0,
             "ticks": ""
            },
            "type": "choropleth"
           }
          ],
          "contour": [
           {
            "colorbar": {
             "outlinewidth": 0,
             "ticks": ""
            },
            "colorscale": [
             [
              0,
              "#0d0887"
             ],
             [
              0.1111111111111111,
              "#46039f"
             ],
             [
              0.2222222222222222,
              "#7201a8"
             ],
             [
              0.3333333333333333,
              "#9c179e"
             ],
             [
              0.4444444444444444,
              "#bd3786"
             ],
             [
              0.5555555555555556,
              "#d8576b"
             ],
             [
              0.6666666666666666,
              "#ed7953"
             ],
             [
              0.7777777777777778,
              "#fb9f3a"
             ],
             [
              0.8888888888888888,
              "#fdca26"
             ],
             [
              1,
              "#f0f921"
             ]
            ],
            "type": "contour"
           }
          ],
          "contourcarpet": [
           {
            "colorbar": {
             "outlinewidth": 0,
             "ticks": ""
            },
            "type": "contourcarpet"
           }
          ],
          "heatmap": [
           {
            "colorbar": {
             "outlinewidth": 0,
             "ticks": ""
            },
            "colorscale": [
             [
              0,
              "#0d0887"
             ],
             [
              0.1111111111111111,
              "#46039f"
             ],
             [
              0.2222222222222222,
              "#7201a8"
             ],
             [
              0.3333333333333333,
              "#9c179e"
             ],
             [
              0.4444444444444444,
              "#bd3786"
             ],
             [
              0.5555555555555556,
              "#d8576b"
             ],
             [
              0.6666666666666666,
              "#ed7953"
             ],
             [
              0.7777777777777778,
              "#fb9f3a"
             ],
             [
              0.8888888888888888,
              "#fdca26"
             ],
             [
              1,
              "#f0f921"
             ]
            ],
            "type": "heatmap"
           }
          ],
          "heatmapgl": [
           {
            "colorbar": {
             "outlinewidth": 0,
             "ticks": ""
            },
            "colorscale": [
             [
              0,
              "#0d0887"
             ],
             [
              0.1111111111111111,
              "#46039f"
             ],
             [
              0.2222222222222222,
              "#7201a8"
             ],
             [
              0.3333333333333333,
              "#9c179e"
             ],
             [
              0.4444444444444444,
              "#bd3786"
             ],
             [
              0.5555555555555556,
              "#d8576b"
             ],
             [
              0.6666666666666666,
              "#ed7953"
             ],
             [
              0.7777777777777778,
              "#fb9f3a"
             ],
             [
              0.8888888888888888,
              "#fdca26"
             ],
             [
              1,
              "#f0f921"
             ]
            ],
            "type": "heatmapgl"
           }
          ],
          "histogram": [
           {
            "marker": {
             "pattern": {
              "fillmode": "overlay",
              "size": 10,
              "solidity": 0.2
             }
            },
            "type": "histogram"
           }
          ],
          "histogram2d": [
           {
            "colorbar": {
             "outlinewidth": 0,
             "ticks": ""
            },
            "colorscale": [
             [
              0,
              "#0d0887"
             ],
             [
              0.1111111111111111,
              "#46039f"
             ],
             [
              0.2222222222222222,
              "#7201a8"
             ],
             [
              0.3333333333333333,
              "#9c179e"
             ],
             [
              0.4444444444444444,
              "#bd3786"
             ],
             [
              0.5555555555555556,
              "#d8576b"
             ],
             [
              0.6666666666666666,
              "#ed7953"
             ],
             [
              0.7777777777777778,
              "#fb9f3a"
             ],
             [
              0.8888888888888888,
              "#fdca26"
             ],
             [
              1,
              "#f0f921"
             ]
            ],
            "type": "histogram2d"
           }
          ],
          "histogram2dcontour": [
           {
            "colorbar": {
             "outlinewidth": 0,
             "ticks": ""
            },
            "colorscale": [
             [
              0,
              "#0d0887"
             ],
             [
              0.1111111111111111,
              "#46039f"
             ],
             [
              0.2222222222222222,
              "#7201a8"
             ],
             [
              0.3333333333333333,
              "#9c179e"
             ],
             [
              0.4444444444444444,
              "#bd3786"
             ],
             [
              0.5555555555555556,
              "#d8576b"
             ],
             [
              0.6666666666666666,
              "#ed7953"
             ],
             [
              0.7777777777777778,
              "#fb9f3a"
             ],
             [
              0.8888888888888888,
              "#fdca26"
             ],
             [
              1,
              "#f0f921"
             ]
            ],
            "type": "histogram2dcontour"
           }
          ],
          "mesh3d": [
           {
            "colorbar": {
             "outlinewidth": 0,
             "ticks": ""
            },
            "type": "mesh3d"
           }
          ],
          "parcoords": [
           {
            "line": {
             "colorbar": {
              "outlinewidth": 0,
              "ticks": ""
             }
            },
            "type": "parcoords"
           }
          ],
          "pie": [
           {
            "automargin": true,
            "type": "pie"
           }
          ],
          "scatter": [
           {
            "fillpattern": {
             "fillmode": "overlay",
             "size": 10,
             "solidity": 0.2
            },
            "type": "scatter"
           }
          ],
          "scatter3d": [
           {
            "line": {
             "colorbar": {
              "outlinewidth": 0,
              "ticks": ""
             }
            },
            "marker": {
             "colorbar": {
              "outlinewidth": 0,
              "ticks": ""
             }
            },
            "type": "scatter3d"
           }
          ],
          "scattercarpet": [
           {
            "marker": {
             "colorbar": {
              "outlinewidth": 0,
              "ticks": ""
             }
            },
            "type": "scattercarpet"
           }
          ],
          "scattergeo": [
           {
            "marker": {
             "colorbar": {
              "outlinewidth": 0,
              "ticks": ""
             }
            },
            "type": "scattergeo"
           }
          ],
          "scattergl": [
           {
            "marker": {
             "colorbar": {
              "outlinewidth": 0,
              "ticks": ""
             }
            },
            "type": "scattergl"
           }
          ],
          "scattermapbox": [
           {
            "marker": {
             "colorbar": {
              "outlinewidth": 0,
              "ticks": ""
             }
            },
            "type": "scattermapbox"
           }
          ],
          "scatterpolar": [
           {
            "marker": {
             "colorbar": {
              "outlinewidth": 0,
              "ticks": ""
             }
            },
            "type": "scatterpolar"
           }
          ],
          "scatterpolargl": [
           {
            "marker": {
             "colorbar": {
              "outlinewidth": 0,
              "ticks": ""
             }
            },
            "type": "scatterpolargl"
           }
          ],
          "scatterternary": [
           {
            "marker": {
             "colorbar": {
              "outlinewidth": 0,
              "ticks": ""
             }
            },
            "type": "scatterternary"
           }
          ],
          "surface": [
           {
            "colorbar": {
             "outlinewidth": 0,
             "ticks": ""
            },
            "colorscale": [
             [
              0,
              "#0d0887"
             ],
             [
              0.1111111111111111,
              "#46039f"
             ],
             [
              0.2222222222222222,
              "#7201a8"
             ],
             [
              0.3333333333333333,
              "#9c179e"
             ],
             [
              0.4444444444444444,
              "#bd3786"
             ],
             [
              0.5555555555555556,
              "#d8576b"
             ],
             [
              0.6666666666666666,
              "#ed7953"
             ],
             [
              0.7777777777777778,
              "#fb9f3a"
             ],
             [
              0.8888888888888888,
              "#fdca26"
             ],
             [
              1,
              "#f0f921"
             ]
            ],
            "type": "surface"
           }
          ],
          "table": [
           {
            "cells": {
             "fill": {
              "color": "#EBF0F8"
             },
             "line": {
              "color": "white"
             }
            },
            "header": {
             "fill": {
              "color": "#C8D4E3"
             },
             "line": {
              "color": "white"
             }
            },
            "type": "table"
           }
          ]
         },
         "layout": {
          "annotationdefaults": {
           "arrowcolor": "#2a3f5f",
           "arrowhead": 0,
           "arrowwidth": 1
          },
          "autotypenumbers": "strict",
          "coloraxis": {
           "colorbar": {
            "outlinewidth": 0,
            "ticks": ""
           }
          },
          "colorscale": {
           "diverging": [
            [
             0,
             "#8e0152"
            ],
            [
             0.1,
             "#c51b7d"
            ],
            [
             0.2,
             "#de77ae"
            ],
            [
             0.3,
             "#f1b6da"
            ],
            [
             0.4,
             "#fde0ef"
            ],
            [
             0.5,
             "#f7f7f7"
            ],
            [
             0.6,
             "#e6f5d0"
            ],
            [
             0.7,
             "#b8e186"
            ],
            [
             0.8,
             "#7fbc41"
            ],
            [
             0.9,
             "#4d9221"
            ],
            [
             1,
             "#276419"
            ]
           ],
           "sequential": [
            [
             0,
             "#0d0887"
            ],
            [
             0.1111111111111111,
             "#46039f"
            ],
            [
             0.2222222222222222,
             "#7201a8"
            ],
            [
             0.3333333333333333,
             "#9c179e"
            ],
            [
             0.4444444444444444,
             "#bd3786"
            ],
            [
             0.5555555555555556,
             "#d8576b"
            ],
            [
             0.6666666666666666,
             "#ed7953"
            ],
            [
             0.7777777777777778,
             "#fb9f3a"
            ],
            [
             0.8888888888888888,
             "#fdca26"
            ],
            [
             1,
             "#f0f921"
            ]
           ],
           "sequentialminus": [
            [
             0,
             "#0d0887"
            ],
            [
             0.1111111111111111,
             "#46039f"
            ],
            [
             0.2222222222222222,
             "#7201a8"
            ],
            [
             0.3333333333333333,
             "#9c179e"
            ],
            [
             0.4444444444444444,
             "#bd3786"
            ],
            [
             0.5555555555555556,
             "#d8576b"
            ],
            [
             0.6666666666666666,
             "#ed7953"
            ],
            [
             0.7777777777777778,
             "#fb9f3a"
            ],
            [
             0.8888888888888888,
             "#fdca26"
            ],
            [
             1,
             "#f0f921"
            ]
           ]
          },
          "colorway": [
           "#636efa",
           "#EF553B",
           "#00cc96",
           "#ab63fa",
           "#FFA15A",
           "#19d3f3",
           "#FF6692",
           "#B6E880",
           "#FF97FF",
           "#FECB52"
          ],
          "font": {
           "color": "#2a3f5f"
          },
          "geo": {
           "bgcolor": "white",
           "lakecolor": "white",
           "landcolor": "#E5ECF6",
           "showlakes": true,
           "showland": true,
           "subunitcolor": "white"
          },
          "hoverlabel": {
           "align": "left"
          },
          "hovermode": "closest",
          "mapbox": {
           "style": "light"
          },
          "paper_bgcolor": "white",
          "plot_bgcolor": "#E5ECF6",
          "polar": {
           "angularaxis": {
            "gridcolor": "white",
            "linecolor": "white",
            "ticks": ""
           },
           "bgcolor": "#E5ECF6",
           "radialaxis": {
            "gridcolor": "white",
            "linecolor": "white",
            "ticks": ""
           }
          },
          "scene": {
           "xaxis": {
            "backgroundcolor": "#E5ECF6",
            "gridcolor": "white",
            "gridwidth": 2,
            "linecolor": "white",
            "showbackground": true,
            "ticks": "",
            "zerolinecolor": "white"
           },
           "yaxis": {
            "backgroundcolor": "#E5ECF6",
            "gridcolor": "white",
            "gridwidth": 2,
            "linecolor": "white",
            "showbackground": true,
            "ticks": "",
            "zerolinecolor": "white"
           },
           "zaxis": {
            "backgroundcolor": "#E5ECF6",
            "gridcolor": "white",
            "gridwidth": 2,
            "linecolor": "white",
            "showbackground": true,
            "ticks": "",
            "zerolinecolor": "white"
           }
          },
          "shapedefaults": {
           "line": {
            "color": "#2a3f5f"
           }
          },
          "ternary": {
           "aaxis": {
            "gridcolor": "white",
            "linecolor": "white",
            "ticks": ""
           },
           "baxis": {
            "gridcolor": "white",
            "linecolor": "white",
            "ticks": ""
           },
           "bgcolor": "#E5ECF6",
           "caxis": {
            "gridcolor": "white",
            "linecolor": "white",
            "ticks": ""
           }
          },
          "title": {
           "x": 0.05
          },
          "xaxis": {
           "automargin": true,
           "gridcolor": "white",
           "linecolor": "white",
           "ticks": "",
           "title": {
            "standoff": 15
           },
           "zerolinecolor": "white",
           "zerolinewidth": 2
          },
          "yaxis": {
           "automargin": true,
           "gridcolor": "white",
           "linecolor": "white",
           "ticks": "",
           "title": {
            "standoff": 15
           },
           "zerolinecolor": "white",
           "zerolinewidth": 2
          }
         }
        },
        "title": {
         "text": "Grid Search Results"
        },
        "width": 1000
       }
      }
     },
     "metadata": {},
     "output_type": "display_data"
    },
    {
     "name": "stdout",
     "output_type": "stream",
     "text": [
      "Best score: 0.6724662441443924\n",
      "Best params: {'classifier__max_depth': np.int64(3), 'classifier__n_estimators': np.int64(69)}\n"
     ]
    }
   ],
   "source": [
    "from sklearn.ensemble import RandomForestClassifier\n",
    "from sklearn.pipeline import Pipeline\n",
    "from sklearn.compose import ColumnTransformer\n",
    "from sklearn.preprocessing import OneHotEncoder\n",
    "from sklearn.model_selection import GridSearchCV\n",
    "from sklearn.metrics import make_scorer, accuracy_score\n",
    "\n",
    "cat_transformer = (\n",
    "    \"categorical\",\n",
    "    OneHotEncoder(handle_unknown=\"ignore\"),\n",
    "    [\"CAUSE.CATEGORY.DETAIL\", \"POSTAL.CODE\"],\n",
    ")\n",
    "preprocessor = ColumnTransformer([cat_transformer], remainder=\"drop\")\n",
    "\n",
    "pipeline = Pipeline(\n",
    "    [\n",
    "        (\"preprocessor\", preprocessor),\n",
    "        (\"classifier\", RandomForestClassifier(random_state=42)),\n",
    "    ]\n",
    ")\n",
    "\n",
    "param_grid = {\n",
    "    \"classifier__max_depth\": np.arange(1, 11),\n",
    "    \"classifier__n_estimators\": np.arange(50, 100),\n",
    "}\n",
    "\n",
    "grid_search = GridSearchCV(\n",
    "    pipeline,\n",
    "    param_grid,\n",
    "    scoring=make_scorer(accuracy_score),\n",
    "    cv=5,\n",
    "    n_jobs=-1,\n",
    "    verbose=1,\n",
    ")\n",
    "\n",
    "dropped_na = severity.dropna(\n",
    "    subset=[\"CLIMATE.REGION\", \"CAUSE.CATEGORY.DETAIL\", \"SEVERITY\"]\n",
    ")\n",
    "X = dropped_na.drop(\"SEVERITY\", axis=1)\n",
    "y = dropped_na[\"SEVERITY\"]\n",
    "\n",
    "grid_search.fit(X, y)\n",
    "plot_accuracy_surface(grid_search)\n",
    "print(f'Best score: {grid_search.best_score_}\\nBest params: {grid_search.best_params_}')"
   ]
  },
  {
   "cell_type": "markdown",
   "metadata": {},
   "source": [
    "## Step 7: Final Model\n"
   ]
  },
  {
   "cell_type": "code",
   "execution_count": 27,
   "metadata": {},
   "outputs": [
    {
     "data": {
      "application/vnd.plotly.v1+json": {
       "config": {
        "plotlyServerURL": "https://plot.ly"
       },
       "data": [
        {
         "alignmentgroup": "True",
         "hovertemplate": "CAUSE.CATEGORY.DETAIL= Coal<br>CAUSE.CATEGORY=%{x}<br>value=%{y}<extra></extra>",
         "legendgroup": " Coal",
         "marker": {
          "color": "#636efa",
          "pattern": {
           "shape": ""
          }
         },
         "name": " Coal",
         "offsetgroup": " Coal",
         "orientation": "v",
         "showlegend": true,
         "textposition": "auto",
         "type": "bar",
         "x": [
          "equipment failure",
          "fuel supply emergency",
          "intentional attack",
          "severe weather",
          "system operability disruption"
         ],
         "xaxis": "x",
         "y": [
          0,
          0.3125,
          0,
          0,
          0
         ],
         "yaxis": "y"
        },
        {
         "alignmentgroup": "True",
         "hovertemplate": "CAUSE.CATEGORY.DETAIL= Hydro<br>CAUSE.CATEGORY=%{x}<br>value=%{y}<extra></extra>",
         "legendgroup": " Hydro",
         "marker": {
          "color": "#EF553B",
          "pattern": {
           "shape": ""
          }
         },
         "name": " Hydro",
         "offsetgroup": " Hydro",
         "orientation": "v",
         "showlegend": true,
         "textposition": "auto",
         "type": "bar",
         "x": [
          "equipment failure",
          "fuel supply emergency",
          "intentional attack",
          "severe weather",
          "system operability disruption"
         ],
         "xaxis": "x",
         "y": [
          0,
          0.03125,
          0,
          0,
          0
         ],
         "yaxis": "y"
        },
        {
         "alignmentgroup": "True",
         "hovertemplate": "CAUSE.CATEGORY.DETAIL= Natural Gas<br>CAUSE.CATEGORY=%{x}<br>value=%{y}<extra></extra>",
         "legendgroup": " Natural Gas",
         "marker": {
          "color": "#00cc96",
          "pattern": {
           "shape": ""
          }
         },
         "name": " Natural Gas",
         "offsetgroup": " Natural Gas",
         "orientation": "v",
         "showlegend": true,
         "textposition": "auto",
         "type": "bar",
         "x": [
          "equipment failure",
          "fuel supply emergency",
          "intentional attack",
          "severe weather",
          "system operability disruption"
         ],
         "xaxis": "x",
         "y": [
          0,
          0.21875,
          0,
          0,
          0
         ],
         "yaxis": "y"
        },
        {
         "alignmentgroup": "True",
         "hovertemplate": "CAUSE.CATEGORY.DETAIL=100 MW loadshed<br>CAUSE.CATEGORY=%{x}<br>value=%{y}<extra></extra>",
         "legendgroup": "100 MW loadshed",
         "marker": {
          "color": "#ab63fa",
          "pattern": {
           "shape": ""
          }
         },
         "name": "100 MW loadshed",
         "offsetgroup": "100 MW loadshed",
         "orientation": "v",
         "showlegend": true,
         "textposition": "auto",
         "type": "bar",
         "x": [
          "equipment failure",
          "fuel supply emergency",
          "intentional attack",
          "severe weather",
          "system operability disruption"
         ],
         "xaxis": "x",
         "y": [
          0,
          0,
          0,
          0,
          0.02702702702702703
         ],
         "yaxis": "y"
        },
        {
         "alignmentgroup": "True",
         "hovertemplate": "CAUSE.CATEGORY.DETAIL=Coal<br>CAUSE.CATEGORY=%{x}<br>value=%{y}<extra></extra>",
         "legendgroup": "Coal",
         "marker": {
          "color": "#FFA15A",
          "pattern": {
           "shape": ""
          }
         },
         "name": "Coal",
         "offsetgroup": "Coal",
         "orientation": "v",
         "showlegend": true,
         "textposition": "auto",
         "type": "bar",
         "x": [
          "equipment failure",
          "fuel supply emergency",
          "intentional attack",
          "severe weather",
          "system operability disruption"
         ],
         "xaxis": "x",
         "y": [
          0,
          0.25,
          0,
          0,
          0
         ],
         "yaxis": "y"
        },
        {
         "alignmentgroup": "True",
         "hovertemplate": "CAUSE.CATEGORY.DETAIL=HVSubstation interruption<br>CAUSE.CATEGORY=%{x}<br>value=%{y}<extra></extra>",
         "legendgroup": "HVSubstation interruption",
         "marker": {
          "color": "#19d3f3",
          "pattern": {
           "shape": ""
          }
         },
         "name": "HVSubstation interruption",
         "offsetgroup": "HVSubstation interruption",
         "orientation": "v",
         "showlegend": true,
         "textposition": "auto",
         "type": "bar",
         "x": [
          "equipment failure",
          "fuel supply emergency",
          "intentional attack",
          "severe weather",
          "system operability disruption"
         ],
         "xaxis": "x",
         "y": [
          0,
          0,
          0,
          0,
          0.02702702702702703
         ],
         "yaxis": "y"
        },
        {
         "alignmentgroup": "True",
         "hovertemplate": "CAUSE.CATEGORY.DETAIL=Hydro<br>CAUSE.CATEGORY=%{x}<br>value=%{y}<extra></extra>",
         "legendgroup": "Hydro",
         "marker": {
          "color": "#FF6692",
          "pattern": {
           "shape": ""
          }
         },
         "name": "Hydro",
         "offsetgroup": "Hydro",
         "orientation": "v",
         "showlegend": true,
         "textposition": "auto",
         "type": "bar",
         "x": [
          "equipment failure",
          "fuel supply emergency",
          "intentional attack",
          "severe weather",
          "system operability disruption"
         ],
         "xaxis": "x",
         "y": [
          0,
          0.15625,
          0,
          0,
          0
         ],
         "yaxis": "y"
        },
        {
         "alignmentgroup": "True",
         "hovertemplate": "CAUSE.CATEGORY.DETAIL=Petroleum<br>CAUSE.CATEGORY=%{x}<br>value=%{y}<extra></extra>",
         "legendgroup": "Petroleum",
         "marker": {
          "color": "#B6E880",
          "pattern": {
           "shape": ""
          }
         },
         "name": "Petroleum",
         "offsetgroup": "Petroleum",
         "orientation": "v",
         "showlegend": true,
         "textposition": "auto",
         "type": "bar",
         "x": [
          "equipment failure",
          "fuel supply emergency",
          "intentional attack",
          "severe weather",
          "system operability disruption"
         ],
         "xaxis": "x",
         "y": [
          0,
          0.03125,
          0,
          0,
          0
         ],
         "yaxis": "y"
        },
        {
         "alignmentgroup": "True",
         "hovertemplate": "CAUSE.CATEGORY.DETAIL=breaker trip<br>CAUSE.CATEGORY=%{x}<br>value=%{y}<extra></extra>",
         "legendgroup": "breaker trip",
         "marker": {
          "color": "#FF97FF",
          "pattern": {
           "shape": ""
          }
         },
         "name": "breaker trip",
         "offsetgroup": "breaker trip",
         "orientation": "v",
         "showlegend": true,
         "textposition": "auto",
         "type": "bar",
         "x": [
          "equipment failure",
          "fuel supply emergency",
          "intentional attack",
          "severe weather",
          "system operability disruption"
         ],
         "xaxis": "x",
         "y": [
          0.08333333333333333,
          0,
          0,
          0,
          0
         ],
         "yaxis": "y"
        },
        {
         "alignmentgroup": "True",
         "hovertemplate": "CAUSE.CATEGORY.DETAIL=cables<br>CAUSE.CATEGORY=%{x}<br>value=%{y}<extra></extra>",
         "legendgroup": "cables",
         "marker": {
          "color": "#FECB52",
          "pattern": {
           "shape": ""
          }
         },
         "name": "cables",
         "offsetgroup": "cables",
         "orientation": "v",
         "showlegend": true,
         "textposition": "auto",
         "type": "bar",
         "x": [
          "equipment failure",
          "fuel supply emergency",
          "intentional attack",
          "severe weather",
          "system operability disruption"
         ],
         "xaxis": "x",
         "y": [
          0.020833333333333332,
          0,
          0,
          0,
          0
         ],
         "yaxis": "y"
        },
        {
         "alignmentgroup": "True",
         "hovertemplate": "CAUSE.CATEGORY.DETAIL=computer hardware<br>CAUSE.CATEGORY=%{x}<br>value=%{y}<extra></extra>",
         "legendgroup": "computer hardware",
         "marker": {
          "color": "#636efa",
          "pattern": {
           "shape": ""
          }
         },
         "name": "computer hardware",
         "offsetgroup": "computer hardware",
         "orientation": "v",
         "showlegend": true,
         "textposition": "auto",
         "type": "bar",
         "x": [
          "equipment failure",
          "fuel supply emergency",
          "intentional attack",
          "severe weather",
          "system operability disruption"
         ],
         "xaxis": "x",
         "y": [
          0.020833333333333332,
          0,
          0,
          0,
          0
         ],
         "yaxis": "y"
        },
        {
         "alignmentgroup": "True",
         "hovertemplate": "CAUSE.CATEGORY.DETAIL=distribution interruption<br>CAUSE.CATEGORY=%{x}<br>value=%{y}<extra></extra>",
         "legendgroup": "distribution interruption",
         "marker": {
          "color": "#EF553B",
          "pattern": {
           "shape": ""
          }
         },
         "name": "distribution interruption",
         "offsetgroup": "distribution interruption",
         "orientation": "v",
         "showlegend": true,
         "textposition": "auto",
         "type": "bar",
         "x": [
          "equipment failure",
          "fuel supply emergency",
          "intentional attack",
          "severe weather",
          "system operability disruption"
         ],
         "xaxis": "x",
         "y": [
          0,
          0,
          0,
          0,
          0.05405405405405406
         ],
         "yaxis": "y"
        },
        {
         "alignmentgroup": "True",
         "hovertemplate": "CAUSE.CATEGORY.DETAIL=earthquake<br>CAUSE.CATEGORY=%{x}<br>value=%{y}<extra></extra>",
         "legendgroup": "earthquake",
         "marker": {
          "color": "#00cc96",
          "pattern": {
           "shape": ""
          }
         },
         "name": "earthquake",
         "offsetgroup": "earthquake",
         "orientation": "v",
         "showlegend": true,
         "textposition": "auto",
         "type": "bar",
         "x": [
          "equipment failure",
          "fuel supply emergency",
          "intentional attack",
          "severe weather",
          "system operability disruption"
         ],
         "xaxis": "x",
         "y": [
          0,
          0,
          0,
          0.006944444444444444,
          0
         ],
         "yaxis": "y"
        },
        {
         "alignmentgroup": "True",
         "hovertemplate": "CAUSE.CATEGORY.DETAIL=failure<br>CAUSE.CATEGORY=%{x}<br>value=%{y}<extra></extra>",
         "legendgroup": "failure",
         "marker": {
          "color": "#ab63fa",
          "pattern": {
           "shape": ""
          }
         },
         "name": "failure",
         "offsetgroup": "failure",
         "orientation": "v",
         "showlegend": true,
         "textposition": "auto",
         "type": "bar",
         "x": [
          "equipment failure",
          "fuel supply emergency",
          "intentional attack",
          "severe weather",
          "system operability disruption"
         ],
         "xaxis": "x",
         "y": [
          0.020833333333333332,
          0,
          0,
          0,
          0
         ],
         "yaxis": "y"
        },
        {
         "alignmentgroup": "True",
         "hovertemplate": "CAUSE.CATEGORY.DETAIL=feeder shutdown<br>CAUSE.CATEGORY=%{x}<br>value=%{y}<extra></extra>",
         "legendgroup": "feeder shutdown",
         "marker": {
          "color": "#FFA15A",
          "pattern": {
           "shape": ""
          }
         },
         "name": "feeder shutdown",
         "offsetgroup": "feeder shutdown",
         "orientation": "v",
         "showlegend": true,
         "textposition": "auto",
         "type": "bar",
         "x": [
          "equipment failure",
          "fuel supply emergency",
          "intentional attack",
          "severe weather",
          "system operability disruption"
         ],
         "xaxis": "x",
         "y": [
          0.020833333333333332,
          0,
          0,
          0,
          0
         ],
         "yaxis": "y"
        },
        {
         "alignmentgroup": "True",
         "hovertemplate": "CAUSE.CATEGORY.DETAIL=flooding<br>CAUSE.CATEGORY=%{x}<br>value=%{y}<extra></extra>",
         "legendgroup": "flooding",
         "marker": {
          "color": "#19d3f3",
          "pattern": {
           "shape": ""
          }
         },
         "name": "flooding",
         "offsetgroup": "flooding",
         "orientation": "v",
         "showlegend": true,
         "textposition": "auto",
         "type": "bar",
         "x": [
          "equipment failure",
          "fuel supply emergency",
          "intentional attack",
          "severe weather",
          "system operability disruption"
         ],
         "xaxis": "x",
         "y": [
          0,
          0,
          0,
          0.006944444444444444,
          0
         ],
         "yaxis": "y"
        },
        {
         "alignmentgroup": "True",
         "hovertemplate": "CAUSE.CATEGORY.DETAIL=fog<br>CAUSE.CATEGORY=%{x}<br>value=%{y}<extra></extra>",
         "legendgroup": "fog",
         "marker": {
          "color": "#FF6692",
          "pattern": {
           "shape": ""
          }
         },
         "name": "fog",
         "offsetgroup": "fog",
         "orientation": "v",
         "showlegend": true,
         "textposition": "auto",
         "type": "bar",
         "x": [
          "equipment failure",
          "fuel supply emergency",
          "intentional attack",
          "severe weather",
          "system operability disruption"
         ],
         "xaxis": "x",
         "y": [
          0,
          0,
          0,
          0.001736111111111111,
          0
         ],
         "yaxis": "y"
        },
        {
         "alignmentgroup": "True",
         "hovertemplate": "CAUSE.CATEGORY.DETAIL=generator trip<br>CAUSE.CATEGORY=%{x}<br>value=%{y}<extra></extra>",
         "legendgroup": "generator trip",
         "marker": {
          "color": "#B6E880",
          "pattern": {
           "shape": ""
          }
         },
         "name": "generator trip",
         "offsetgroup": "generator trip",
         "orientation": "v",
         "showlegend": true,
         "textposition": "auto",
         "type": "bar",
         "x": [
          "equipment failure",
          "fuel supply emergency",
          "intentional attack",
          "severe weather",
          "system operability disruption"
         ],
         "xaxis": "x",
         "y": [
          0.3333333333333333,
          0,
          0,
          0,
          0
         ],
         "yaxis": "y"
        },
        {
         "alignmentgroup": "True",
         "hovertemplate": "CAUSE.CATEGORY.DETAIL=hailstorm<br>CAUSE.CATEGORY=%{x}<br>value=%{y}<extra></extra>",
         "legendgroup": "hailstorm",
         "marker": {
          "color": "#FF97FF",
          "pattern": {
           "shape": ""
          }
         },
         "name": "hailstorm",
         "offsetgroup": "hailstorm",
         "orientation": "v",
         "showlegend": true,
         "textposition": "auto",
         "type": "bar",
         "x": [
          "equipment failure",
          "fuel supply emergency",
          "intentional attack",
          "severe weather",
          "system operability disruption"
         ],
         "xaxis": "x",
         "y": [
          0,
          0,
          0,
          0.005208333333333333,
          0
         ],
         "yaxis": "y"
        },
        {
         "alignmentgroup": "True",
         "hovertemplate": "CAUSE.CATEGORY.DETAIL=heatwave<br>CAUSE.CATEGORY=%{x}<br>value=%{y}<extra></extra>",
         "legendgroup": "heatwave",
         "marker": {
          "color": "#FECB52",
          "pattern": {
           "shape": ""
          }
         },
         "name": "heatwave",
         "offsetgroup": "heatwave",
         "orientation": "v",
         "showlegend": true,
         "textposition": "auto",
         "type": "bar",
         "x": [
          "equipment failure",
          "fuel supply emergency",
          "intentional attack",
          "severe weather",
          "system operability disruption"
         ],
         "xaxis": "x",
         "y": [
          0,
          0,
          0,
          0.017361111111111112,
          0
         ],
         "yaxis": "y"
        },
        {
         "alignmentgroup": "True",
         "hovertemplate": "CAUSE.CATEGORY.DETAIL=heavy wind<br>CAUSE.CATEGORY=%{x}<br>value=%{y}<extra></extra>",
         "legendgroup": "heavy wind",
         "marker": {
          "color": "#636efa",
          "pattern": {
           "shape": ""
          }
         },
         "name": "heavy wind",
         "offsetgroup": "heavy wind",
         "orientation": "v",
         "showlegend": true,
         "textposition": "auto",
         "type": "bar",
         "x": [
          "equipment failure",
          "fuel supply emergency",
          "intentional attack",
          "severe weather",
          "system operability disruption"
         ],
         "xaxis": "x",
         "y": [
          0,
          0,
          0,
          0.10590277777777778,
          0
         ],
         "yaxis": "y"
        },
        {
         "alignmentgroup": "True",
         "hovertemplate": "CAUSE.CATEGORY.DETAIL=hurricanes<br>CAUSE.CATEGORY=%{x}<br>value=%{y}<extra></extra>",
         "legendgroup": "hurricanes",
         "marker": {
          "color": "#EF553B",
          "pattern": {
           "shape": ""
          }
         },
         "name": "hurricanes",
         "offsetgroup": "hurricanes",
         "orientation": "v",
         "showlegend": true,
         "textposition": "auto",
         "type": "bar",
         "x": [
          "equipment failure",
          "fuel supply emergency",
          "intentional attack",
          "severe weather",
          "system operability disruption"
         ],
         "xaxis": "x",
         "y": [
          0,
          0,
          0,
          0.1284722222222222,
          0
         ],
         "yaxis": "y"
        },
        {
         "alignmentgroup": "True",
         "hovertemplate": "CAUSE.CATEGORY.DETAIL=lightning<br>CAUSE.CATEGORY=%{x}<br>value=%{y}<extra></extra>",
         "legendgroup": "lightning",
         "marker": {
          "color": "#00cc96",
          "pattern": {
           "shape": ""
          }
         },
         "name": "lightning",
         "offsetgroup": "lightning",
         "orientation": "v",
         "showlegend": true,
         "textposition": "auto",
         "type": "bar",
         "x": [
          "equipment failure",
          "fuel supply emergency",
          "intentional attack",
          "severe weather",
          "system operability disruption"
         ],
         "xaxis": "x",
         "y": [
          0,
          0,
          0,
          0.005208333333333333,
          0
         ],
         "yaxis": "y"
        },
        {
         "alignmentgroup": "True",
         "hovertemplate": "CAUSE.CATEGORY.DETAIL=line fault<br>CAUSE.CATEGORY=%{x}<br>value=%{y}<extra></extra>",
         "legendgroup": "line fault",
         "marker": {
          "color": "#ab63fa",
          "pattern": {
           "shape": ""
          }
         },
         "name": "line fault",
         "offsetgroup": "line fault",
         "orientation": "v",
         "showlegend": true,
         "textposition": "auto",
         "type": "bar",
         "x": [
          "equipment failure",
          "fuel supply emergency",
          "intentional attack",
          "severe weather",
          "system operability disruption"
         ],
         "xaxis": "x",
         "y": [
          0.041666666666666664,
          0,
          0,
          0,
          0
         ],
         "yaxis": "y"
        },
        {
         "alignmentgroup": "True",
         "hovertemplate": "CAUSE.CATEGORY.DETAIL=majorsystem interruption<br>CAUSE.CATEGORY=%{x}<br>value=%{y}<extra></extra>",
         "legendgroup": "majorsystem interruption",
         "marker": {
          "color": "#FFA15A",
          "pattern": {
           "shape": ""
          }
         },
         "name": "majorsystem interruption",
         "offsetgroup": "majorsystem interruption",
         "orientation": "v",
         "showlegend": true,
         "textposition": "auto",
         "type": "bar",
         "x": [
          "equipment failure",
          "fuel supply emergency",
          "intentional attack",
          "severe weather",
          "system operability disruption"
         ],
         "xaxis": "x",
         "y": [
          0,
          0,
          0,
          0,
          0.02702702702702703
         ],
         "yaxis": "y"
        },
        {
         "alignmentgroup": "True",
         "hovertemplate": "CAUSE.CATEGORY.DETAIL=plant trip<br>CAUSE.CATEGORY=%{x}<br>value=%{y}<extra></extra>",
         "legendgroup": "plant trip",
         "marker": {
          "color": "#19d3f3",
          "pattern": {
           "shape": ""
          }
         },
         "name": "plant trip",
         "offsetgroup": "plant trip",
         "orientation": "v",
         "showlegend": true,
         "textposition": "auto",
         "type": "bar",
         "x": [
          "equipment failure",
          "fuel supply emergency",
          "intentional attack",
          "severe weather",
          "system operability disruption"
         ],
         "xaxis": "x",
         "y": [
          0.020833333333333332,
          0,
          0,
          0,
          0
         ],
         "yaxis": "y"
        },
        {
         "alignmentgroup": "True",
         "hovertemplate": "CAUSE.CATEGORY.DETAIL=public appeal<br>CAUSE.CATEGORY=%{x}<br>value=%{y}<extra></extra>",
         "legendgroup": "public appeal",
         "marker": {
          "color": "#FF6692",
          "pattern": {
           "shape": ""
          }
         },
         "name": "public appeal",
         "offsetgroup": "public appeal",
         "orientation": "v",
         "showlegend": true,
         "textposition": "auto",
         "type": "bar",
         "x": [
          "equipment failure",
          "fuel supply emergency",
          "intentional attack",
          "severe weather",
          "system operability disruption"
         ],
         "xaxis": "x",
         "y": [
          0,
          0,
          0,
          0.001736111111111111,
          0.02702702702702703
         ],
         "yaxis": "y"
        },
        {
         "alignmentgroup": "True",
         "hovertemplate": "CAUSE.CATEGORY.DETAIL=relaying malfunction<br>CAUSE.CATEGORY=%{x}<br>value=%{y}<extra></extra>",
         "legendgroup": "relaying malfunction",
         "marker": {
          "color": "#B6E880",
          "pattern": {
           "shape": ""
          }
         },
         "name": "relaying malfunction",
         "offsetgroup": "relaying malfunction",
         "orientation": "v",
         "showlegend": true,
         "textposition": "auto",
         "type": "bar",
         "x": [
          "equipment failure",
          "fuel supply emergency",
          "intentional attack",
          "severe weather",
          "system operability disruption"
         ],
         "xaxis": "x",
         "y": [
          0.0625,
          0,
          0,
          0,
          0
         ],
         "yaxis": "y"
        },
        {
         "alignmentgroup": "True",
         "hovertemplate": "CAUSE.CATEGORY.DETAIL=sabotage<br>CAUSE.CATEGORY=%{x}<br>value=%{y}<extra></extra>",
         "legendgroup": "sabotage",
         "marker": {
          "color": "#FF97FF",
          "pattern": {
           "shape": ""
          }
         },
         "name": "sabotage",
         "offsetgroup": "sabotage",
         "orientation": "v",
         "showlegend": true,
         "textposition": "auto",
         "type": "bar",
         "x": [
          "equipment failure",
          "fuel supply emergency",
          "intentional attack",
          "severe weather",
          "system operability disruption"
         ],
         "xaxis": "x",
         "y": [
          0,
          0,
          0.08648648648648649,
          0,
          0
         ],
         "yaxis": "y"
        },
        {
         "alignmentgroup": "True",
         "hovertemplate": "CAUSE.CATEGORY.DETAIL=shed load<br>CAUSE.CATEGORY=%{x}<br>value=%{y}<extra></extra>",
         "legendgroup": "shed load",
         "marker": {
          "color": "#FECB52",
          "pattern": {
           "shape": ""
          }
         },
         "name": "shed load",
         "offsetgroup": "shed load",
         "orientation": "v",
         "showlegend": true,
         "textposition": "auto",
         "type": "bar",
         "x": [
          "equipment failure",
          "fuel supply emergency",
          "intentional attack",
          "severe weather",
          "system operability disruption"
         ],
         "xaxis": "x",
         "y": [
          0,
          0,
          0,
          0,
          0.02702702702702703
         ],
         "yaxis": "y"
        },
        {
         "alignmentgroup": "True",
         "hovertemplate": "CAUSE.CATEGORY.DETAIL=snow/ice <br>CAUSE.CATEGORY=%{x}<br>value=%{y}<extra></extra>",
         "legendgroup": "snow/ice ",
         "marker": {
          "color": "#636efa",
          "pattern": {
           "shape": ""
          }
         },
         "name": "snow/ice ",
         "offsetgroup": "snow/ice ",
         "orientation": "v",
         "showlegend": true,
         "textposition": "auto",
         "type": "bar",
         "x": [
          "equipment failure",
          "fuel supply emergency",
          "intentional attack",
          "severe weather",
          "system operability disruption"
         ],
         "xaxis": "x",
         "y": [
          0,
          0,
          0,
          0.022569444444444444,
          0
         ],
         "yaxis": "y"
        },
        {
         "alignmentgroup": "True",
         "hovertemplate": "CAUSE.CATEGORY.DETAIL=snow/ice storm<br>CAUSE.CATEGORY=%{x}<br>value=%{y}<extra></extra>",
         "legendgroup": "snow/ice storm",
         "marker": {
          "color": "#EF553B",
          "pattern": {
           "shape": ""
          }
         },
         "name": "snow/ice storm",
         "offsetgroup": "snow/ice storm",
         "orientation": "v",
         "showlegend": true,
         "textposition": "auto",
         "type": "bar",
         "x": [
          "equipment failure",
          "fuel supply emergency",
          "intentional attack",
          "severe weather",
          "system operability disruption"
         ],
         "xaxis": "x",
         "y": [
          0,
          0,
          0,
          0.001736111111111111,
          0
         ],
         "yaxis": "y"
        },
        {
         "alignmentgroup": "True",
         "hovertemplate": "CAUSE.CATEGORY.DETAIL=storm<br>CAUSE.CATEGORY=%{x}<br>value=%{y}<extra></extra>",
         "legendgroup": "storm",
         "marker": {
          "color": "#00cc96",
          "pattern": {
           "shape": ""
          }
         },
         "name": "storm",
         "offsetgroup": "storm",
         "orientation": "v",
         "showlegend": true,
         "textposition": "auto",
         "type": "bar",
         "x": [
          "equipment failure",
          "fuel supply emergency",
          "intentional attack",
          "severe weather",
          "system operability disruption"
         ],
         "xaxis": "x",
         "y": [
          0,
          0,
          0,
          0.07118055555555555,
          0
         ],
         "yaxis": "y"
        },
        {
         "alignmentgroup": "True",
         "hovertemplate": "CAUSE.CATEGORY.DETAIL=substation<br>CAUSE.CATEGORY=%{x}<br>value=%{y}<extra></extra>",
         "legendgroup": "substation",
         "marker": {
          "color": "#ab63fa",
          "pattern": {
           "shape": ""
          }
         },
         "name": "substation",
         "offsetgroup": "substation",
         "orientation": "v",
         "showlegend": true,
         "textposition": "auto",
         "type": "bar",
         "x": [
          "equipment failure",
          "fuel supply emergency",
          "intentional attack",
          "severe weather",
          "system operability disruption"
         ],
         "xaxis": "x",
         "y": [
          0.041666666666666664,
          0,
          0,
          0,
          0
         ],
         "yaxis": "y"
        },
        {
         "alignmentgroup": "True",
         "hovertemplate": "CAUSE.CATEGORY.DETAIL=suspicious activity<br>CAUSE.CATEGORY=%{x}<br>value=%{y}<extra></extra>",
         "legendgroup": "suspicious activity",
         "marker": {
          "color": "#FFA15A",
          "pattern": {
           "shape": ""
          }
         },
         "name": "suspicious activity",
         "offsetgroup": "suspicious activity",
         "orientation": "v",
         "showlegend": true,
         "textposition": "auto",
         "type": "bar",
         "x": [
          "equipment failure",
          "fuel supply emergency",
          "intentional attack",
          "severe weather",
          "system operability disruption"
         ],
         "xaxis": "x",
         "y": [
          0,
          0,
          0.008108108108108109,
          0,
          0
         ],
         "yaxis": "y"
        },
        {
         "alignmentgroup": "True",
         "hovertemplate": "CAUSE.CATEGORY.DETAIL=switching<br>CAUSE.CATEGORY=%{x}<br>value=%{y}<extra></extra>",
         "legendgroup": "switching",
         "marker": {
          "color": "#19d3f3",
          "pattern": {
           "shape": ""
          }
         },
         "name": "switching",
         "offsetgroup": "switching",
         "orientation": "v",
         "showlegend": true,
         "textposition": "auto",
         "type": "bar",
         "x": [
          "equipment failure",
          "fuel supply emergency",
          "intentional attack",
          "severe weather",
          "system operability disruption"
         ],
         "xaxis": "x",
         "y": [
          0.041666666666666664,
          0,
          0,
          0,
          0
         ],
         "yaxis": "y"
        },
        {
         "alignmentgroup": "True",
         "hovertemplate": "CAUSE.CATEGORY.DETAIL=thunderstorm<br>CAUSE.CATEGORY=%{x}<br>value=%{y}<extra></extra>",
         "legendgroup": "thunderstorm",
         "marker": {
          "color": "#FF6692",
          "pattern": {
           "shape": ""
          }
         },
         "name": "thunderstorm",
         "offsetgroup": "thunderstorm",
         "orientation": "v",
         "showlegend": true,
         "textposition": "auto",
         "type": "bar",
         "x": [
          "equipment failure",
          "fuel supply emergency",
          "intentional attack",
          "severe weather",
          "system operability disruption"
         ],
         "xaxis": "x",
         "y": [
          0,
          0,
          0,
          0.3090277777777778,
          0
         ],
         "yaxis": "y"
        },
        {
         "alignmentgroup": "True",
         "hovertemplate": "CAUSE.CATEGORY.DETAIL=thunderstorm; islanding<br>CAUSE.CATEGORY=%{x}<br>value=%{y}<extra></extra>",
         "legendgroup": "thunderstorm; islanding",
         "marker": {
          "color": "#B6E880",
          "pattern": {
           "shape": ""
          }
         },
         "name": "thunderstorm; islanding",
         "offsetgroup": "thunderstorm; islanding",
         "orientation": "v",
         "showlegend": true,
         "textposition": "auto",
         "type": "bar",
         "x": [
          "equipment failure",
          "fuel supply emergency",
          "intentional attack",
          "severe weather",
          "system operability disruption"
         ],
         "xaxis": "x",
         "y": [
          0,
          0,
          0,
          0.001736111111111111,
          0
         ],
         "yaxis": "y"
        },
        {
         "alignmentgroup": "True",
         "hovertemplate": "CAUSE.CATEGORY.DETAIL=tornadoes<br>CAUSE.CATEGORY=%{x}<br>value=%{y}<extra></extra>",
         "legendgroup": "tornadoes",
         "marker": {
          "color": "#FF97FF",
          "pattern": {
           "shape": ""
          }
         },
         "name": "tornadoes",
         "offsetgroup": "tornadoes",
         "orientation": "v",
         "showlegend": true,
         "textposition": "auto",
         "type": "bar",
         "x": [
          "equipment failure",
          "fuel supply emergency",
          "intentional attack",
          "severe weather",
          "system operability disruption"
         ],
         "xaxis": "x",
         "y": [
          0,
          0,
          0,
          0.013888888888888888,
          0
         ],
         "yaxis": "y"
        },
        {
         "alignmentgroup": "True",
         "hovertemplate": "CAUSE.CATEGORY.DETAIL=transformer outage<br>CAUSE.CATEGORY=%{x}<br>value=%{y}<extra></extra>",
         "legendgroup": "transformer outage",
         "marker": {
          "color": "#FECB52",
          "pattern": {
           "shape": ""
          }
         },
         "name": "transformer outage",
         "offsetgroup": "transformer outage",
         "orientation": "v",
         "showlegend": true,
         "textposition": "auto",
         "type": "bar",
         "x": [
          "equipment failure",
          "fuel supply emergency",
          "intentional attack",
          "severe weather",
          "system operability disruption"
         ],
         "xaxis": "x",
         "y": [
          0.0625,
          0,
          0,
          0,
          0
         ],
         "yaxis": "y"
        },
        {
         "alignmentgroup": "True",
         "hovertemplate": "CAUSE.CATEGORY.DETAIL=transmission<br>CAUSE.CATEGORY=%{x}<br>value=%{y}<extra></extra>",
         "legendgroup": "transmission",
         "marker": {
          "color": "#636efa",
          "pattern": {
           "shape": ""
          }
         },
         "name": "transmission",
         "offsetgroup": "transmission",
         "orientation": "v",
         "showlegend": true,
         "textposition": "auto",
         "type": "bar",
         "x": [
          "equipment failure",
          "fuel supply emergency",
          "intentional attack",
          "severe weather",
          "system operability disruption"
         ],
         "xaxis": "x",
         "y": [
          0.0625,
          0,
          0,
          0,
          0
         ],
         "yaxis": "y"
        },
        {
         "alignmentgroup": "True",
         "hovertemplate": "CAUSE.CATEGORY.DETAIL=transmission interruption<br>CAUSE.CATEGORY=%{x}<br>value=%{y}<extra></extra>",
         "legendgroup": "transmission interruption",
         "marker": {
          "color": "#EF553B",
          "pattern": {
           "shape": ""
          }
         },
         "name": "transmission interruption",
         "offsetgroup": "transmission interruption",
         "orientation": "v",
         "showlegend": true,
         "textposition": "auto",
         "type": "bar",
         "x": [
          "equipment failure",
          "fuel supply emergency",
          "intentional attack",
          "severe weather",
          "system operability disruption"
         ],
         "xaxis": "x",
         "y": [
          0.041666666666666664,
          0,
          0,
          0,
          0.4594594594594595
         ],
         "yaxis": "y"
        },
        {
         "alignmentgroup": "True",
         "hovertemplate": "CAUSE.CATEGORY.DETAIL=transmission trip<br>CAUSE.CATEGORY=%{x}<br>value=%{y}<extra></extra>",
         "legendgroup": "transmission trip",
         "marker": {
          "color": "#00cc96",
          "pattern": {
           "shape": ""
          }
         },
         "name": "transmission trip",
         "offsetgroup": "transmission trip",
         "orientation": "v",
         "showlegend": true,
         "textposition": "auto",
         "type": "bar",
         "x": [
          "equipment failure",
          "fuel supply emergency",
          "intentional attack",
          "severe weather",
          "system operability disruption"
         ],
         "xaxis": "x",
         "y": [
          0.125,
          0,
          0,
          0,
          0
         ],
         "yaxis": "y"
        },
        {
         "alignmentgroup": "True",
         "hovertemplate": "CAUSE.CATEGORY.DETAIL=uncontrolled loss<br>CAUSE.CATEGORY=%{x}<br>value=%{y}<extra></extra>",
         "legendgroup": "uncontrolled loss",
         "marker": {
          "color": "#ab63fa",
          "pattern": {
           "shape": ""
          }
         },
         "name": "uncontrolled loss",
         "offsetgroup": "uncontrolled loss",
         "orientation": "v",
         "showlegend": true,
         "textposition": "auto",
         "type": "bar",
         "x": [
          "equipment failure",
          "fuel supply emergency",
          "intentional attack",
          "severe weather",
          "system operability disruption"
         ],
         "xaxis": "x",
         "y": [
          0,
          0,
          0,
          0.003472222222222222,
          0.32432432432432434
         ],
         "yaxis": "y"
        },
        {
         "alignmentgroup": "True",
         "hovertemplate": "CAUSE.CATEGORY.DETAIL=vandalism<br>CAUSE.CATEGORY=%{x}<br>value=%{y}<extra></extra>",
         "legendgroup": "vandalism",
         "marker": {
          "color": "#FFA15A",
          "pattern": {
           "shape": ""
          }
         },
         "name": "vandalism",
         "offsetgroup": "vandalism",
         "orientation": "v",
         "showlegend": true,
         "textposition": "auto",
         "type": "bar",
         "x": [
          "equipment failure",
          "fuel supply emergency",
          "intentional attack",
          "severe weather",
          "system operability disruption"
         ],
         "xaxis": "x",
         "y": [
          0,
          0,
          0.9054054054054054,
          0,
          0
         ],
         "yaxis": "y"
        },
        {
         "alignmentgroup": "True",
         "hovertemplate": "CAUSE.CATEGORY.DETAIL=voltage reduction<br>CAUSE.CATEGORY=%{x}<br>value=%{y}<extra></extra>",
         "legendgroup": "voltage reduction",
         "marker": {
          "color": "#19d3f3",
          "pattern": {
           "shape": ""
          }
         },
         "name": "voltage reduction",
         "offsetgroup": "voltage reduction",
         "orientation": "v",
         "showlegend": true,
         "textposition": "auto",
         "type": "bar",
         "x": [
          "equipment failure",
          "fuel supply emergency",
          "intentional attack",
          "severe weather",
          "system operability disruption"
         ],
         "xaxis": "x",
         "y": [
          0,
          0,
          0,
          0,
          0.02702702702702703
         ],
         "yaxis": "y"
        },
        {
         "alignmentgroup": "True",
         "hovertemplate": "CAUSE.CATEGORY.DETAIL=wildfire<br>CAUSE.CATEGORY=%{x}<br>value=%{y}<extra></extra>",
         "legendgroup": "wildfire",
         "marker": {
          "color": "#FF6692",
          "pattern": {
           "shape": ""
          }
         },
         "name": "wildfire",
         "offsetgroup": "wildfire",
         "orientation": "v",
         "showlegend": true,
         "textposition": "auto",
         "type": "bar",
         "x": [
          "equipment failure",
          "fuel supply emergency",
          "intentional attack",
          "severe weather",
          "system operability disruption"
         ],
         "xaxis": "x",
         "y": [
          0,
          0,
          0,
          0.04513888888888889,
          0
         ],
         "yaxis": "y"
        },
        {
         "alignmentgroup": "True",
         "hovertemplate": "CAUSE.CATEGORY.DETAIL=wind<br>CAUSE.CATEGORY=%{x}<br>value=%{y}<extra></extra>",
         "legendgroup": "wind",
         "marker": {
          "color": "#B6E880",
          "pattern": {
           "shape": ""
          }
         },
         "name": "wind",
         "offsetgroup": "wind",
         "orientation": "v",
         "showlegend": true,
         "textposition": "auto",
         "type": "bar",
         "x": [
          "equipment failure",
          "fuel supply emergency",
          "intentional attack",
          "severe weather",
          "system operability disruption"
         ],
         "xaxis": "x",
         "y": [
          0,
          0,
          0,
          0.005208333333333333,
          0
         ],
         "yaxis": "y"
        },
        {
         "alignmentgroup": "True",
         "hovertemplate": "CAUSE.CATEGORY.DETAIL=wind storm<br>CAUSE.CATEGORY=%{x}<br>value=%{y}<extra></extra>",
         "legendgroup": "wind storm",
         "marker": {
          "color": "#FF97FF",
          "pattern": {
           "shape": ""
          }
         },
         "name": "wind storm",
         "offsetgroup": "wind storm",
         "orientation": "v",
         "showlegend": true,
         "textposition": "auto",
         "type": "bar",
         "x": [
          "equipment failure",
          "fuel supply emergency",
          "intentional attack",
          "severe weather",
          "system operability disruption"
         ],
         "xaxis": "x",
         "y": [
          0,
          0,
          0,
          0.010416666666666666,
          0
         ],
         "yaxis": "y"
        },
        {
         "alignmentgroup": "True",
         "hovertemplate": "CAUSE.CATEGORY.DETAIL=wind/rain<br>CAUSE.CATEGORY=%{x}<br>value=%{y}<extra></extra>",
         "legendgroup": "wind/rain",
         "marker": {
          "color": "#FECB52",
          "pattern": {
           "shape": ""
          }
         },
         "name": "wind/rain",
         "offsetgroup": "wind/rain",
         "orientation": "v",
         "showlegend": true,
         "textposition": "auto",
         "type": "bar",
         "x": [
          "equipment failure",
          "fuel supply emergency",
          "intentional attack",
          "severe weather",
          "system operability disruption"
         ],
         "xaxis": "x",
         "y": [
          0,
          0,
          0,
          0.020833333333333332,
          0
         ],
         "yaxis": "y"
        },
        {
         "alignmentgroup": "True",
         "hovertemplate": "CAUSE.CATEGORY.DETAIL=winter<br>CAUSE.CATEGORY=%{x}<br>value=%{y}<extra></extra>",
         "legendgroup": "winter",
         "marker": {
          "color": "#636efa",
          "pattern": {
           "shape": ""
          }
         },
         "name": "winter",
         "offsetgroup": "winter",
         "orientation": "v",
         "showlegend": true,
         "textposition": "auto",
         "type": "bar",
         "x": [
          "equipment failure",
          "fuel supply emergency",
          "intentional attack",
          "severe weather",
          "system operability disruption"
         ],
         "xaxis": "x",
         "y": [
          0,
          0,
          0,
          0.03993055555555555,
          0
         ],
         "yaxis": "y"
        },
        {
         "alignmentgroup": "True",
         "hovertemplate": "CAUSE.CATEGORY.DETAIL=winter storm<br>CAUSE.CATEGORY=%{x}<br>value=%{y}<extra></extra>",
         "legendgroup": "winter storm",
         "marker": {
          "color": "#EF553B",
          "pattern": {
           "shape": ""
          }
         },
         "name": "winter storm",
         "offsetgroup": "winter storm",
         "orientation": "v",
         "showlegend": true,
         "textposition": "auto",
         "type": "bar",
         "x": [
          "equipment failure",
          "fuel supply emergency",
          "intentional attack",
          "severe weather",
          "system operability disruption"
         ],
         "xaxis": "x",
         "y": [
          0,
          0,
          0,
          0.1753472222222222,
          0
         ],
         "yaxis": "y"
        }
       ],
       "layout": {
        "barmode": "relative",
        "legend": {
         "title": {
          "text": "CAUSE.CATEGORY.DETAIL"
         },
         "tracegroupgap": 0
        },
        "margin": {
         "t": 60
        },
        "template": {
         "data": {
          "bar": [
           {
            "error_x": {
             "color": "#2a3f5f"
            },
            "error_y": {
             "color": "#2a3f5f"
            },
            "marker": {
             "line": {
              "color": "#E5ECF6",
              "width": 0.5
             },
             "pattern": {
              "fillmode": "overlay",
              "size": 10,
              "solidity": 0.2
             }
            },
            "type": "bar"
           }
          ],
          "barpolar": [
           {
            "marker": {
             "line": {
              "color": "#E5ECF6",
              "width": 0.5
             },
             "pattern": {
              "fillmode": "overlay",
              "size": 10,
              "solidity": 0.2
             }
            },
            "type": "barpolar"
           }
          ],
          "carpet": [
           {
            "aaxis": {
             "endlinecolor": "#2a3f5f",
             "gridcolor": "white",
             "linecolor": "white",
             "minorgridcolor": "white",
             "startlinecolor": "#2a3f5f"
            },
            "baxis": {
             "endlinecolor": "#2a3f5f",
             "gridcolor": "white",
             "linecolor": "white",
             "minorgridcolor": "white",
             "startlinecolor": "#2a3f5f"
            },
            "type": "carpet"
           }
          ],
          "choropleth": [
           {
            "colorbar": {
             "outlinewidth": 0,
             "ticks": ""
            },
            "type": "choropleth"
           }
          ],
          "contour": [
           {
            "colorbar": {
             "outlinewidth": 0,
             "ticks": ""
            },
            "colorscale": [
             [
              0,
              "#0d0887"
             ],
             [
              0.1111111111111111,
              "#46039f"
             ],
             [
              0.2222222222222222,
              "#7201a8"
             ],
             [
              0.3333333333333333,
              "#9c179e"
             ],
             [
              0.4444444444444444,
              "#bd3786"
             ],
             [
              0.5555555555555556,
              "#d8576b"
             ],
             [
              0.6666666666666666,
              "#ed7953"
             ],
             [
              0.7777777777777778,
              "#fb9f3a"
             ],
             [
              0.8888888888888888,
              "#fdca26"
             ],
             [
              1,
              "#f0f921"
             ]
            ],
            "type": "contour"
           }
          ],
          "contourcarpet": [
           {
            "colorbar": {
             "outlinewidth": 0,
             "ticks": ""
            },
            "type": "contourcarpet"
           }
          ],
          "heatmap": [
           {
            "colorbar": {
             "outlinewidth": 0,
             "ticks": ""
            },
            "colorscale": [
             [
              0,
              "#0d0887"
             ],
             [
              0.1111111111111111,
              "#46039f"
             ],
             [
              0.2222222222222222,
              "#7201a8"
             ],
             [
              0.3333333333333333,
              "#9c179e"
             ],
             [
              0.4444444444444444,
              "#bd3786"
             ],
             [
              0.5555555555555556,
              "#d8576b"
             ],
             [
              0.6666666666666666,
              "#ed7953"
             ],
             [
              0.7777777777777778,
              "#fb9f3a"
             ],
             [
              0.8888888888888888,
              "#fdca26"
             ],
             [
              1,
              "#f0f921"
             ]
            ],
            "type": "heatmap"
           }
          ],
          "heatmapgl": [
           {
            "colorbar": {
             "outlinewidth": 0,
             "ticks": ""
            },
            "colorscale": [
             [
              0,
              "#0d0887"
             ],
             [
              0.1111111111111111,
              "#46039f"
             ],
             [
              0.2222222222222222,
              "#7201a8"
             ],
             [
              0.3333333333333333,
              "#9c179e"
             ],
             [
              0.4444444444444444,
              "#bd3786"
             ],
             [
              0.5555555555555556,
              "#d8576b"
             ],
             [
              0.6666666666666666,
              "#ed7953"
             ],
             [
              0.7777777777777778,
              "#fb9f3a"
             ],
             [
              0.8888888888888888,
              "#fdca26"
             ],
             [
              1,
              "#f0f921"
             ]
            ],
            "type": "heatmapgl"
           }
          ],
          "histogram": [
           {
            "marker": {
             "pattern": {
              "fillmode": "overlay",
              "size": 10,
              "solidity": 0.2
             }
            },
            "type": "histogram"
           }
          ],
          "histogram2d": [
           {
            "colorbar": {
             "outlinewidth": 0,
             "ticks": ""
            },
            "colorscale": [
             [
              0,
              "#0d0887"
             ],
             [
              0.1111111111111111,
              "#46039f"
             ],
             [
              0.2222222222222222,
              "#7201a8"
             ],
             [
              0.3333333333333333,
              "#9c179e"
             ],
             [
              0.4444444444444444,
              "#bd3786"
             ],
             [
              0.5555555555555556,
              "#d8576b"
             ],
             [
              0.6666666666666666,
              "#ed7953"
             ],
             [
              0.7777777777777778,
              "#fb9f3a"
             ],
             [
              0.8888888888888888,
              "#fdca26"
             ],
             [
              1,
              "#f0f921"
             ]
            ],
            "type": "histogram2d"
           }
          ],
          "histogram2dcontour": [
           {
            "colorbar": {
             "outlinewidth": 0,
             "ticks": ""
            },
            "colorscale": [
             [
              0,
              "#0d0887"
             ],
             [
              0.1111111111111111,
              "#46039f"
             ],
             [
              0.2222222222222222,
              "#7201a8"
             ],
             [
              0.3333333333333333,
              "#9c179e"
             ],
             [
              0.4444444444444444,
              "#bd3786"
             ],
             [
              0.5555555555555556,
              "#d8576b"
             ],
             [
              0.6666666666666666,
              "#ed7953"
             ],
             [
              0.7777777777777778,
              "#fb9f3a"
             ],
             [
              0.8888888888888888,
              "#fdca26"
             ],
             [
              1,
              "#f0f921"
             ]
            ],
            "type": "histogram2dcontour"
           }
          ],
          "mesh3d": [
           {
            "colorbar": {
             "outlinewidth": 0,
             "ticks": ""
            },
            "type": "mesh3d"
           }
          ],
          "parcoords": [
           {
            "line": {
             "colorbar": {
              "outlinewidth": 0,
              "ticks": ""
             }
            },
            "type": "parcoords"
           }
          ],
          "pie": [
           {
            "automargin": true,
            "type": "pie"
           }
          ],
          "scatter": [
           {
            "fillpattern": {
             "fillmode": "overlay",
             "size": 10,
             "solidity": 0.2
            },
            "type": "scatter"
           }
          ],
          "scatter3d": [
           {
            "line": {
             "colorbar": {
              "outlinewidth": 0,
              "ticks": ""
             }
            },
            "marker": {
             "colorbar": {
              "outlinewidth": 0,
              "ticks": ""
             }
            },
            "type": "scatter3d"
           }
          ],
          "scattercarpet": [
           {
            "marker": {
             "colorbar": {
              "outlinewidth": 0,
              "ticks": ""
             }
            },
            "type": "scattercarpet"
           }
          ],
          "scattergeo": [
           {
            "marker": {
             "colorbar": {
              "outlinewidth": 0,
              "ticks": ""
             }
            },
            "type": "scattergeo"
           }
          ],
          "scattergl": [
           {
            "marker": {
             "colorbar": {
              "outlinewidth": 0,
              "ticks": ""
             }
            },
            "type": "scattergl"
           }
          ],
          "scattermapbox": [
           {
            "marker": {
             "colorbar": {
              "outlinewidth": 0,
              "ticks": ""
             }
            },
            "type": "scattermapbox"
           }
          ],
          "scatterpolar": [
           {
            "marker": {
             "colorbar": {
              "outlinewidth": 0,
              "ticks": ""
             }
            },
            "type": "scatterpolar"
           }
          ],
          "scatterpolargl": [
           {
            "marker": {
             "colorbar": {
              "outlinewidth": 0,
              "ticks": ""
             }
            },
            "type": "scatterpolargl"
           }
          ],
          "scatterternary": [
           {
            "marker": {
             "colorbar": {
              "outlinewidth": 0,
              "ticks": ""
             }
            },
            "type": "scatterternary"
           }
          ],
          "surface": [
           {
            "colorbar": {
             "outlinewidth": 0,
             "ticks": ""
            },
            "colorscale": [
             [
              0,
              "#0d0887"
             ],
             [
              0.1111111111111111,
              "#46039f"
             ],
             [
              0.2222222222222222,
              "#7201a8"
             ],
             [
              0.3333333333333333,
              "#9c179e"
             ],
             [
              0.4444444444444444,
              "#bd3786"
             ],
             [
              0.5555555555555556,
              "#d8576b"
             ],
             [
              0.6666666666666666,
              "#ed7953"
             ],
             [
              0.7777777777777778,
              "#fb9f3a"
             ],
             [
              0.8888888888888888,
              "#fdca26"
             ],
             [
              1,
              "#f0f921"
             ]
            ],
            "type": "surface"
           }
          ],
          "table": [
           {
            "cells": {
             "fill": {
              "color": "#EBF0F8"
             },
             "line": {
              "color": "white"
             }
            },
            "header": {
             "fill": {
              "color": "#C8D4E3"
             },
             "line": {
              "color": "white"
             }
            },
            "type": "table"
           }
          ]
         },
         "layout": {
          "annotationdefaults": {
           "arrowcolor": "#2a3f5f",
           "arrowhead": 0,
           "arrowwidth": 1
          },
          "autotypenumbers": "strict",
          "coloraxis": {
           "colorbar": {
            "outlinewidth": 0,
            "ticks": ""
           }
          },
          "colorscale": {
           "diverging": [
            [
             0,
             "#8e0152"
            ],
            [
             0.1,
             "#c51b7d"
            ],
            [
             0.2,
             "#de77ae"
            ],
            [
             0.3,
             "#f1b6da"
            ],
            [
             0.4,
             "#fde0ef"
            ],
            [
             0.5,
             "#f7f7f7"
            ],
            [
             0.6,
             "#e6f5d0"
            ],
            [
             0.7,
             "#b8e186"
            ],
            [
             0.8,
             "#7fbc41"
            ],
            [
             0.9,
             "#4d9221"
            ],
            [
             1,
             "#276419"
            ]
           ],
           "sequential": [
            [
             0,
             "#0d0887"
            ],
            [
             0.1111111111111111,
             "#46039f"
            ],
            [
             0.2222222222222222,
             "#7201a8"
            ],
            [
             0.3333333333333333,
             "#9c179e"
            ],
            [
             0.4444444444444444,
             "#bd3786"
            ],
            [
             0.5555555555555556,
             "#d8576b"
            ],
            [
             0.6666666666666666,
             "#ed7953"
            ],
            [
             0.7777777777777778,
             "#fb9f3a"
            ],
            [
             0.8888888888888888,
             "#fdca26"
            ],
            [
             1,
             "#f0f921"
            ]
           ],
           "sequentialminus": [
            [
             0,
             "#0d0887"
            ],
            [
             0.1111111111111111,
             "#46039f"
            ],
            [
             0.2222222222222222,
             "#7201a8"
            ],
            [
             0.3333333333333333,
             "#9c179e"
            ],
            [
             0.4444444444444444,
             "#bd3786"
            ],
            [
             0.5555555555555556,
             "#d8576b"
            ],
            [
             0.6666666666666666,
             "#ed7953"
            ],
            [
             0.7777777777777778,
             "#fb9f3a"
            ],
            [
             0.8888888888888888,
             "#fdca26"
            ],
            [
             1,
             "#f0f921"
            ]
           ]
          },
          "colorway": [
           "#636efa",
           "#EF553B",
           "#00cc96",
           "#ab63fa",
           "#FFA15A",
           "#19d3f3",
           "#FF6692",
           "#B6E880",
           "#FF97FF",
           "#FECB52"
          ],
          "font": {
           "color": "#2a3f5f"
          },
          "geo": {
           "bgcolor": "white",
           "lakecolor": "white",
           "landcolor": "#E5ECF6",
           "showlakes": true,
           "showland": true,
           "subunitcolor": "white"
          },
          "hoverlabel": {
           "align": "left"
          },
          "hovermode": "closest",
          "mapbox": {
           "style": "light"
          },
          "paper_bgcolor": "white",
          "plot_bgcolor": "#E5ECF6",
          "polar": {
           "angularaxis": {
            "gridcolor": "white",
            "linecolor": "white",
            "ticks": ""
           },
           "bgcolor": "#E5ECF6",
           "radialaxis": {
            "gridcolor": "white",
            "linecolor": "white",
            "ticks": ""
           }
          },
          "scene": {
           "xaxis": {
            "backgroundcolor": "#E5ECF6",
            "gridcolor": "white",
            "gridwidth": 2,
            "linecolor": "white",
            "showbackground": true,
            "ticks": "",
            "zerolinecolor": "white"
           },
           "yaxis": {
            "backgroundcolor": "#E5ECF6",
            "gridcolor": "white",
            "gridwidth": 2,
            "linecolor": "white",
            "showbackground": true,
            "ticks": "",
            "zerolinecolor": "white"
           },
           "zaxis": {
            "backgroundcolor": "#E5ECF6",
            "gridcolor": "white",
            "gridwidth": 2,
            "linecolor": "white",
            "showbackground": true,
            "ticks": "",
            "zerolinecolor": "white"
           }
          },
          "shapedefaults": {
           "line": {
            "color": "#2a3f5f"
           }
          },
          "ternary": {
           "aaxis": {
            "gridcolor": "white",
            "linecolor": "white",
            "ticks": ""
           },
           "baxis": {
            "gridcolor": "white",
            "linecolor": "white",
            "ticks": ""
           },
           "bgcolor": "#E5ECF6",
           "caxis": {
            "gridcolor": "white",
            "linecolor": "white",
            "ticks": ""
           }
          },
          "title": {
           "x": 0.05
          },
          "xaxis": {
           "automargin": true,
           "gridcolor": "white",
           "linecolor": "white",
           "ticks": "",
           "title": {
            "standoff": 15
           },
           "zerolinecolor": "white",
           "zerolinewidth": 2
          },
          "yaxis": {
           "automargin": true,
           "gridcolor": "white",
           "linecolor": "white",
           "ticks": "",
           "title": {
            "standoff": 15
           },
           "zerolinecolor": "white",
           "zerolinewidth": 2
          }
         }
        },
        "xaxis": {
         "anchor": "y",
         "domain": [
          0,
          1
         ],
         "title": {
          "text": "CAUSE.CATEGORY"
         }
        },
        "yaxis": {
         "anchor": "x",
         "domain": [
          0,
          1
         ],
         "title": {
          "text": "value"
         }
        }
       }
      }
     },
     "metadata": {},
     "output_type": "display_data"
    }
   ],
   "source": [
    "import numpy as np\n",
    "\n",
    "def impute_details(df, plot=True):\n",
    "    missing_detail = df[\"CAUSE.CATEGORY.DETAIL\"].isna()\n",
    "    conditional_probs = (\n",
    "        df.loc[~missing_detail]\n",
    "        .groupby(\"CAUSE.CATEGORY\")[\"CAUSE.CATEGORY.DETAIL\"]\n",
    "        .value_counts(normalize=True)\n",
    "        .unstack(fill_value=0)\n",
    "    )\n",
    "\n",
    "    if plot: \n",
    "        fig = conditional_probs.plot(kind=\"bar\")\n",
    "        fig.show()\n",
    "    \n",
    "    def sample_from_distribution(row):\n",
    "        if row[\"CAUSE.CATEGORY\"] not in conditional_probs.index: \n",
    "            return row[\"CAUSE.CATEGORY\"]\n",
    "        \n",
    "        probs = conditional_probs.loc[row[\"CAUSE.CATEGORY\"]]\n",
    "        return np.random.choice(probs.index, p=probs.values)\n",
    "\n",
    "    result = df.dropna(subset=[\"START_HR\", \"CLIMATE.REGION\", \"SEVERITY\"])\n",
    "    result.loc[missing_detail, \"CAUSE.CATEGORY.DETAIL\"] = df.loc[missing_detail].apply(\n",
    "        sample_from_distribution, axis=1\n",
    "    )\n",
    "\n",
    "    return result\n",
    "\n",
    "final = impute_details(severity)"
   ]
  },
  {
   "cell_type": "code",
   "execution_count": 28,
   "metadata": {},
   "outputs": [
    {
     "name": "stdout",
     "output_type": "stream",
     "text": [
      "Fitting 5 folds for each of 500 candidates, totalling 2500 fits\n"
     ]
    },
    {
     "data": {
      "application/vnd.plotly.v1+json": {
       "config": {
        "plotlyServerURL": "https://plot.ly"
       },
       "data": [
        {
         "type": "surface",
         "x": [
          1,
          3,
          5,
          7,
          9,
          11,
          13,
          15,
          17,
          19
         ],
         "y": [
          30,
          31,
          32,
          33,
          34,
          35,
          36,
          37,
          38,
          39,
          40,
          41,
          42,
          43,
          44,
          45,
          46,
          47,
          48,
          49,
          50,
          51,
          52,
          53,
          54,
          55,
          56,
          57,
          58,
          59,
          60,
          61,
          62,
          63,
          64,
          65,
          66,
          67,
          68,
          69,
          70,
          71,
          72,
          73,
          74,
          75,
          76,
          77,
          78,
          79
         ],
         "z": [
          [
           0.7673396766457802,
           0.7694902142801887,
           0.7737938681313014,
           0.7745158711740285,
           0.7745132925917331,
           0.7752327170521647,
           0.7781104148938913,
           0.7781104148938913,
           0.7781104148938913,
           0.7781104148938913
          ],
          [
           0.768775946984348,
           0.7694902142801887,
           0.7737938681313014,
           0.774518449756324,
           0.7752352956344603,
           0.7766715659730281,
           0.7773909904334597,
           0.7781104148938913,
           0.7781104148938913,
           0.7781104148938913
          ],
          [
           0.7680565225239164,
           0.7694902142801887,
           0.7730744436708697,
           0.774518449756324,
           0.7745158711740285,
           0.7730770222531652,
           0.7766715659730281,
           0.7773909904334597,
           0.7773909904334597,
           0.7773909904334597
          ],
          [
           0.7666228307676439,
           0.7694902142801887,
           0.7737938681313014,
           0.7737990252958923,
           0.7737964467135969,
           0.7766715659730281,
           0.7773909904334597,
           0.7781104148938913,
           0.7781104148938913,
           0.7781104148938913
          ],
          [
           0.7723524406281427,
           0.7687733684020526,
           0.7737964467135969,
           0.7737990252958923,
           0.7745158711740286,
           0.7759521415125964,
           0.7773909904334597,
           0.7781104148938913,
           0.7781104148938913,
           0.7781104148938913
          ],
          [
           0.7723524406281427,
           0.7694902142801887,
           0.7745158711740285,
           0.7737990252958923,
           0.7752352956344601,
           0.776671565973028,
           0.7781104148938913,
           0.7781104148938913,
           0.7781104148938913,
           0.7781104148938913
          ],
          [
           0.7709187488718703,
           0.7687733684020526,
           0.7745158711740285,
           0.7752352956344603,
           0.7745158711740285,
           0.7752327170521647,
           0.7781104148938913,
           0.7773909904334597,
           0.7781104148938913,
           0.7781104148938913
          ],
          [
           0.7709187488718703,
           0.7694902142801887,
           0.7752352956344601,
           0.7752378742167557,
           0.7759521415125964,
           0.7766715659730281,
           0.7773909904334597,
           0.7781104148938913,
           0.7781104148938913,
           0.7781104148938913
          ],
          [
           0.7709187488718703,
           0.7694902142801887,
           0.776671565973028,
           0.774518449756324,
           0.7781104148938913,
           0.7766715659730281,
           0.7781104148938913,
           0.7781104148938913,
           0.7781104148938913,
           0.7781104148938913
          ],
          [
           0.7709187488718703,
           0.7694902142801887,
           0.7781104148938913,
           0.774518449756324,
           0.7781104148938913,
           0.7773909904334596,
           0.7795492638147546,
           0.7795492638147546,
           0.7795492638147546,
           0.7795492638147546
          ],
          [
           0.7709187488718703,
           0.7694902142801887,
           0.778829839354323,
           0.7773961475980506,
           0.7788324179366185,
           0.7795492638147546,
           0.7795492638147546,
           0.780988112735618,
           0.780988112735618,
           0.780988112735618
          ],
          [
           0.7709187488718703,
           0.7694902142801887,
           0.778829839354323,
           0.776676723137619,
           0.7781129934761869,
           0.7773909904334597,
           0.7788298393543229,
           0.7795492638147546,
           0.7795492638147546,
           0.7795492638147546
          ],
          [
           0.7709187488718703,
           0.7702096387406204,
           0.7773909904334597,
           0.776676723137619,
           0.7788324179366185,
           0.7781104148938913,
           0.7788298393543229,
           0.7788298393543229,
           0.7788298393543229,
           0.7788298393543229
          ],
          [
           0.7723524406281427,
           0.7694927928624842,
           0.7773909904334597,
           0.7773961475980506,
           0.7788324179366185,
           0.7795492638147546,
           0.7795492638147546,
           0.7795492638147546,
           0.7795492638147546,
           0.7795492638147546
          ],
          [
           0.7687604754905754,
           0.7694927928624843,
           0.7773935690157552,
           0.7752378742167557,
           0.7788324179366185,
           0.7788298393543229,
           0.7788298393543229,
           0.7802686882751864,
           0.7802686882751864,
           0.7802686882751864
          ],
          [
           0.7687604754905754,
           0.7694927928624843,
           0.7788324179366185,
           0.7773961475980506,
           0.7795518423970502,
           0.7802712668574818,
           0.780988112735618,
           0.7817075371960496,
           0.7817075371960496,
           0.7817075371960496
          ],
          [
           0.7709187488718703,
           0.7702122173229159,
           0.7773935690157552,
           0.7773961475980506,
           0.7788324179366185,
           0.7788298393543229,
           0.7788298393543229,
           0.780988112735618,
           0.780988112735618,
           0.780988112735618
          ],
          [
           0.770201902993734,
           0.7702122173229159,
           0.7773935690157552,
           0.7781155720584823,
           0.7788324179366185,
           0.7788298393543229,
           0.7795492638147546,
           0.780988112735618,
           0.780988112735618,
           0.780988112735618
          ],
          [
           0.7709187488718703,
           0.7694927928624842,
           0.775954720094892,
           0.774518449756324,
           0.7781129934761868,
           0.7773909904334596,
           0.7781104148938913,
           0.778829839354323,
           0.778829839354323,
           0.778829839354323
          ],
          [
           0.770201902993734,
           0.7702122173229159,
           0.7737990252958923,
           0.7752378742167556,
           0.7781129934761868,
           0.7781104148938913,
           0.7795492638147545,
           0.7795492638147545,
           0.7795492638147545,
           0.7795492638147545
          ],
          [
           0.770201902993734,
           0.7702122173229159,
           0.7759572986771873,
           0.7752378742167556,
           0.7773935690157552,
           0.7781104148938913,
           0.7795492638147545,
           0.7795492638147545,
           0.7795492638147545,
           0.7795492638147545
          ],
          [
           0.7687630540728707,
           0.7702122173229159,
           0.7766741445553235,
           0.775954720094892,
           0.7781129934761868,
           0.7781104148938913,
           0.7795492638147545,
           0.7795492638147545,
           0.7795492638147545,
           0.7795492638147545
          ],
          [
           0.7694850571155978,
           0.7702096387406204,
           0.7759572986771873,
           0.7773935690157552,
           0.7781129934761869,
           0.7802686882751864,
           0.7802686882751864,
           0.780988112735618,
           0.780988112735618,
           0.780988112735618
          ],
          [
           0.7709239060364611,
           0.7702096387406204,
           0.778834996518914,
           0.7781129934761869,
           0.7788324179366185,
           0.7795492638147546,
           0.7802686882751864,
           0.7817075371960496,
           0.780988112735618,
           0.780988112735618
          ],
          [
           0.7694850571155978,
           0.7709290632010521,
           0.7773935690157552,
           0.7788324179366185,
           0.7781129934761869,
           0.7795492638147546,
           0.7802686882751864,
           0.780988112735618,
           0.7802686882751864,
           0.7802686882751864
          ],
          [
           0.7694850571155978,
           0.7709290632010521,
           0.7773909904334596,
           0.775954720094892,
           0.7773935690157552,
           0.7773909904334596,
           0.7788298393543229,
           0.7795492638147545,
           0.7788298393543229,
           0.7788298393543229
          ],
          [
           0.7694850571155978,
           0.7709290632010521,
           0.7773909904334596,
           0.7766741445553235,
           0.7773935690157552,
           0.7781104148938913,
           0.7788298393543229,
           0.7795492638147545,
           0.7788298393543229,
           0.7788298393543229
          ],
          [
           0.7694850571155978,
           0.7709290632010521,
           0.7766741445553235,
           0.7773935690157552,
           0.7795492638147546,
           0.7795492638147546,
           0.7802686882751864,
           0.7817075371960496,
           0.780988112735618,
           0.780988112735618
          ],
          [
           0.7694850571155978,
           0.7709290632010521,
           0.7766741445553235,
           0.7766741445553235,
           0.7795492638147546,
           0.7788298393543229,
           0.7795492638147546,
           0.780988112735618,
           0.7802686882751864,
           0.7802686882751864
          ],
          [
           0.7694850571155978,
           0.7709290632010521,
           0.7795518423970502,
           0.7781104148938913,
           0.7795492638147546,
           0.7781104148938913,
           0.7795492638147546,
           0.7802686882751864,
           0.7802686882751864,
           0.7802686882751864
          ],
          [
           0.7694850571155978,
           0.7709290632010521,
           0.7788324179366185,
           0.7781104148938913,
           0.778829839354323,
           0.778829839354323,
           0.7802686882751864,
           0.7802686882751864,
           0.7802686882751864,
           0.7802686882751864
          ],
          [
           0.7694850571155978,
           0.7709290632010521,
           0.7781155720584823,
           0.7781104148938913,
           0.778829839354323,
           0.778829839354323,
           0.7795492638147546,
           0.7802686882751864,
           0.7802686882751864,
           0.7802686882751864
          ],
          [
           0.7694850571155978,
           0.7709290632010521,
           0.7759572986771873,
           0.7781104148938913,
           0.7773909904334596,
           0.778829839354323,
           0.7795492638147546,
           0.7795492638147546,
           0.778829839354323,
           0.778829839354323
          ],
          [
           0.7694850571155978,
           0.7702122173229158,
           0.7759572986771873,
           0.7773935690157552,
           0.7781104148938913,
           0.778829839354323,
           0.7795492638147546,
           0.7795492638147546,
           0.7788298393543229,
           0.7788298393543229
          ],
          [
           0.7687682112374616,
           0.7702122173229158,
           0.7766741445553235,
           0.7766715659730281,
           0.7773909904334596,
           0.778829839354323,
           0.7781104148938913,
           0.7788298393543229,
           0.7781104148938913,
           0.7781104148938913
          ],
          [
           0.770207060158325,
           0.7702122173229158,
           0.7766741445553235,
           0.7773935690157552,
           0.7773909904334596,
           0.776671565973028,
           0.7773909904334597,
           0.7788298393543229,
           0.7788298393543229,
           0.7788298393543229
          ],
          [
           0.7644722931332353,
           0.7702122173229158,
           0.7759572986771873,
           0.7766741445553236,
           0.778107836311596,
           0.7773909904334597,
           0.7781104148938913,
           0.7781104148938913,
           0.7781104148938913,
           0.7781104148938913
          ],
          [
           0.7694902142801887,
           0.7702122173229158,
           0.7766741445553235,
           0.7766741445553236,
           0.7773909904334596,
           0.7773909904334597,
           0.7781104148938913,
           0.7781104148938913,
           0.7781104148938913,
           0.7781104148938913
          ],
          [
           0.7694902142801887,
           0.7694927928624843,
           0.7752352956344603,
           0.7773935690157552,
           0.7781104148938913,
           0.778829839354323,
           0.7781104148938913,
           0.7781104148938913,
           0.7781104148938913,
           0.7781104148938913
          ],
          [
           0.770207060158325,
           0.7694927928624843,
           0.7766741445553235,
           0.778829839354323,
           0.7773909904334596,
           0.7773909904334597,
           0.7781104148938913,
           0.7781104148938913,
           0.7781104148938913,
           0.7781104148938913
          ],
          [
           0.7709239060364611,
           0.7694927928624843,
           0.775954720094892,
           0.7773935690157552,
           0.7773909904334596,
           0.7773909904334597,
           0.7781104148938913,
           0.7781104148938913,
           0.7781104148938913,
           0.7781104148938913
          ],
          [
           0.7709239060364611,
           0.7694927928624843,
           0.775954720094892,
           0.7781129934761869,
           0.7781104148938913,
           0.7781104148938913,
           0.7781104148938913,
           0.7781104148938913,
           0.7781104148938913,
           0.7781104148938913
          ],
          [
           0.770207060158325,
           0.7694927928624843,
           0.7752378742167556,
           0.7766741445553236,
           0.7781104148938913,
           0.7773909904334597,
           0.7781104148938913,
           0.7781104148938913,
           0.7781104148938913,
           0.7781104148938913
          ],
          [
           0.770207060158325,
           0.7694927928624843,
           0.7752378742167556,
           0.7766741445553236,
           0.7773909904334596,
           0.7781104148938913,
           0.7781104148938913,
           0.778829839354323,
           0.7781104148938913,
           0.7781104148938913
          ],
          [
           0.770207060158325,
           0.7694927928624843,
           0.774518449756324,
           0.7766741445553236,
           0.7781104148938913,
           0.7773909904334597,
           0.7781104148938913,
           0.7781104148938913,
           0.7781104148938913,
           0.7781104148938913
          ],
          [
           0.770207060158325,
           0.7694927928624843,
           0.7752352956344601,
           0.7759547200948919,
           0.7781104148938913,
           0.7773909904334597,
           0.7781104148938913,
           0.7781104148938913,
           0.7781104148938913,
           0.7781104148938913
          ],
          [
           0.7694902142801887,
           0.7694927928624843,
           0.774518449756324,
           0.7766741445553236,
           0.7781104148938913,
           0.7773909904334597,
           0.7781104148938913,
           0.7781104148938913,
           0.7781104148938913,
           0.7781104148938913
          ],
          [
           0.7623217554988267,
           0.7687733684020526,
           0.7752378742167556,
           0.7773935690157552,
           0.7766715659730281,
           0.7781104148938913,
           0.7781104148938913,
           0.778829839354323,
           0.7781104148938913,
           0.7781104148938913
          ],
          [
           0.7623217554988267,
           0.7687733684020526,
           0.7752378742167556,
           0.7773935690157552,
           0.7766715659730281,
           0.7781104148938913,
           0.7781104148938913,
           0.778829839354323,
           0.778829839354323,
           0.778829839354323
          ],
          [
           0.7623217554988267,
           0.7687733684020526,
           0.7738016038781877,
           0.7766741445553236,
           0.7766715659730281,
           0.7781104148938913,
           0.7781104148938913,
           0.7781104148938913,
           0.7781104148938913,
           0.7781104148938913
          ]
         ]
        }
       ],
       "layout": {
        "autosize": false,
        "height": 800,
        "scene": {
         "xaxis": {
          "title": {
           "text": "Max Depth"
          }
         },
         "yaxis": {
          "title": {
           "text": "Number of Estimators"
          }
         },
         "zaxis": {
          "title": {
           "text": "Mean Test Score"
          }
         }
        },
        "template": {
         "data": {
          "bar": [
           {
            "error_x": {
             "color": "#2a3f5f"
            },
            "error_y": {
             "color": "#2a3f5f"
            },
            "marker": {
             "line": {
              "color": "#E5ECF6",
              "width": 0.5
             },
             "pattern": {
              "fillmode": "overlay",
              "size": 10,
              "solidity": 0.2
             }
            },
            "type": "bar"
           }
          ],
          "barpolar": [
           {
            "marker": {
             "line": {
              "color": "#E5ECF6",
              "width": 0.5
             },
             "pattern": {
              "fillmode": "overlay",
              "size": 10,
              "solidity": 0.2
             }
            },
            "type": "barpolar"
           }
          ],
          "carpet": [
           {
            "aaxis": {
             "endlinecolor": "#2a3f5f",
             "gridcolor": "white",
             "linecolor": "white",
             "minorgridcolor": "white",
             "startlinecolor": "#2a3f5f"
            },
            "baxis": {
             "endlinecolor": "#2a3f5f",
             "gridcolor": "white",
             "linecolor": "white",
             "minorgridcolor": "white",
             "startlinecolor": "#2a3f5f"
            },
            "type": "carpet"
           }
          ],
          "choropleth": [
           {
            "colorbar": {
             "outlinewidth": 0,
             "ticks": ""
            },
            "type": "choropleth"
           }
          ],
          "contour": [
           {
            "colorbar": {
             "outlinewidth": 0,
             "ticks": ""
            },
            "colorscale": [
             [
              0,
              "#0d0887"
             ],
             [
              0.1111111111111111,
              "#46039f"
             ],
             [
              0.2222222222222222,
              "#7201a8"
             ],
             [
              0.3333333333333333,
              "#9c179e"
             ],
             [
              0.4444444444444444,
              "#bd3786"
             ],
             [
              0.5555555555555556,
              "#d8576b"
             ],
             [
              0.6666666666666666,
              "#ed7953"
             ],
             [
              0.7777777777777778,
              "#fb9f3a"
             ],
             [
              0.8888888888888888,
              "#fdca26"
             ],
             [
              1,
              "#f0f921"
             ]
            ],
            "type": "contour"
           }
          ],
          "contourcarpet": [
           {
            "colorbar": {
             "outlinewidth": 0,
             "ticks": ""
            },
            "type": "contourcarpet"
           }
          ],
          "heatmap": [
           {
            "colorbar": {
             "outlinewidth": 0,
             "ticks": ""
            },
            "colorscale": [
             [
              0,
              "#0d0887"
             ],
             [
              0.1111111111111111,
              "#46039f"
             ],
             [
              0.2222222222222222,
              "#7201a8"
             ],
             [
              0.3333333333333333,
              "#9c179e"
             ],
             [
              0.4444444444444444,
              "#bd3786"
             ],
             [
              0.5555555555555556,
              "#d8576b"
             ],
             [
              0.6666666666666666,
              "#ed7953"
             ],
             [
              0.7777777777777778,
              "#fb9f3a"
             ],
             [
              0.8888888888888888,
              "#fdca26"
             ],
             [
              1,
              "#f0f921"
             ]
            ],
            "type": "heatmap"
           }
          ],
          "heatmapgl": [
           {
            "colorbar": {
             "outlinewidth": 0,
             "ticks": ""
            },
            "colorscale": [
             [
              0,
              "#0d0887"
             ],
             [
              0.1111111111111111,
              "#46039f"
             ],
             [
              0.2222222222222222,
              "#7201a8"
             ],
             [
              0.3333333333333333,
              "#9c179e"
             ],
             [
              0.4444444444444444,
              "#bd3786"
             ],
             [
              0.5555555555555556,
              "#d8576b"
             ],
             [
              0.6666666666666666,
              "#ed7953"
             ],
             [
              0.7777777777777778,
              "#fb9f3a"
             ],
             [
              0.8888888888888888,
              "#fdca26"
             ],
             [
              1,
              "#f0f921"
             ]
            ],
            "type": "heatmapgl"
           }
          ],
          "histogram": [
           {
            "marker": {
             "pattern": {
              "fillmode": "overlay",
              "size": 10,
              "solidity": 0.2
             }
            },
            "type": "histogram"
           }
          ],
          "histogram2d": [
           {
            "colorbar": {
             "outlinewidth": 0,
             "ticks": ""
            },
            "colorscale": [
             [
              0,
              "#0d0887"
             ],
             [
              0.1111111111111111,
              "#46039f"
             ],
             [
              0.2222222222222222,
              "#7201a8"
             ],
             [
              0.3333333333333333,
              "#9c179e"
             ],
             [
              0.4444444444444444,
              "#bd3786"
             ],
             [
              0.5555555555555556,
              "#d8576b"
             ],
             [
              0.6666666666666666,
              "#ed7953"
             ],
             [
              0.7777777777777778,
              "#fb9f3a"
             ],
             [
              0.8888888888888888,
              "#fdca26"
             ],
             [
              1,
              "#f0f921"
             ]
            ],
            "type": "histogram2d"
           }
          ],
          "histogram2dcontour": [
           {
            "colorbar": {
             "outlinewidth": 0,
             "ticks": ""
            },
            "colorscale": [
             [
              0,
              "#0d0887"
             ],
             [
              0.1111111111111111,
              "#46039f"
             ],
             [
              0.2222222222222222,
              "#7201a8"
             ],
             [
              0.3333333333333333,
              "#9c179e"
             ],
             [
              0.4444444444444444,
              "#bd3786"
             ],
             [
              0.5555555555555556,
              "#d8576b"
             ],
             [
              0.6666666666666666,
              "#ed7953"
             ],
             [
              0.7777777777777778,
              "#fb9f3a"
             ],
             [
              0.8888888888888888,
              "#fdca26"
             ],
             [
              1,
              "#f0f921"
             ]
            ],
            "type": "histogram2dcontour"
           }
          ],
          "mesh3d": [
           {
            "colorbar": {
             "outlinewidth": 0,
             "ticks": ""
            },
            "type": "mesh3d"
           }
          ],
          "parcoords": [
           {
            "line": {
             "colorbar": {
              "outlinewidth": 0,
              "ticks": ""
             }
            },
            "type": "parcoords"
           }
          ],
          "pie": [
           {
            "automargin": true,
            "type": "pie"
           }
          ],
          "scatter": [
           {
            "fillpattern": {
             "fillmode": "overlay",
             "size": 10,
             "solidity": 0.2
            },
            "type": "scatter"
           }
          ],
          "scatter3d": [
           {
            "line": {
             "colorbar": {
              "outlinewidth": 0,
              "ticks": ""
             }
            },
            "marker": {
             "colorbar": {
              "outlinewidth": 0,
              "ticks": ""
             }
            },
            "type": "scatter3d"
           }
          ],
          "scattercarpet": [
           {
            "marker": {
             "colorbar": {
              "outlinewidth": 0,
              "ticks": ""
             }
            },
            "type": "scattercarpet"
           }
          ],
          "scattergeo": [
           {
            "marker": {
             "colorbar": {
              "outlinewidth": 0,
              "ticks": ""
             }
            },
            "type": "scattergeo"
           }
          ],
          "scattergl": [
           {
            "marker": {
             "colorbar": {
              "outlinewidth": 0,
              "ticks": ""
             }
            },
            "type": "scattergl"
           }
          ],
          "scattermapbox": [
           {
            "marker": {
             "colorbar": {
              "outlinewidth": 0,
              "ticks": ""
             }
            },
            "type": "scattermapbox"
           }
          ],
          "scatterpolar": [
           {
            "marker": {
             "colorbar": {
              "outlinewidth": 0,
              "ticks": ""
             }
            },
            "type": "scatterpolar"
           }
          ],
          "scatterpolargl": [
           {
            "marker": {
             "colorbar": {
              "outlinewidth": 0,
              "ticks": ""
             }
            },
            "type": "scatterpolargl"
           }
          ],
          "scatterternary": [
           {
            "marker": {
             "colorbar": {
              "outlinewidth": 0,
              "ticks": ""
             }
            },
            "type": "scatterternary"
           }
          ],
          "surface": [
           {
            "colorbar": {
             "outlinewidth": 0,
             "ticks": ""
            },
            "colorscale": [
             [
              0,
              "#0d0887"
             ],
             [
              0.1111111111111111,
              "#46039f"
             ],
             [
              0.2222222222222222,
              "#7201a8"
             ],
             [
              0.3333333333333333,
              "#9c179e"
             ],
             [
              0.4444444444444444,
              "#bd3786"
             ],
             [
              0.5555555555555556,
              "#d8576b"
             ],
             [
              0.6666666666666666,
              "#ed7953"
             ],
             [
              0.7777777777777778,
              "#fb9f3a"
             ],
             [
              0.8888888888888888,
              "#fdca26"
             ],
             [
              1,
              "#f0f921"
             ]
            ],
            "type": "surface"
           }
          ],
          "table": [
           {
            "cells": {
             "fill": {
              "color": "#EBF0F8"
             },
             "line": {
              "color": "white"
             }
            },
            "header": {
             "fill": {
              "color": "#C8D4E3"
             },
             "line": {
              "color": "white"
             }
            },
            "type": "table"
           }
          ]
         },
         "layout": {
          "annotationdefaults": {
           "arrowcolor": "#2a3f5f",
           "arrowhead": 0,
           "arrowwidth": 1
          },
          "autotypenumbers": "strict",
          "coloraxis": {
           "colorbar": {
            "outlinewidth": 0,
            "ticks": ""
           }
          },
          "colorscale": {
           "diverging": [
            [
             0,
             "#8e0152"
            ],
            [
             0.1,
             "#c51b7d"
            ],
            [
             0.2,
             "#de77ae"
            ],
            [
             0.3,
             "#f1b6da"
            ],
            [
             0.4,
             "#fde0ef"
            ],
            [
             0.5,
             "#f7f7f7"
            ],
            [
             0.6,
             "#e6f5d0"
            ],
            [
             0.7,
             "#b8e186"
            ],
            [
             0.8,
             "#7fbc41"
            ],
            [
             0.9,
             "#4d9221"
            ],
            [
             1,
             "#276419"
            ]
           ],
           "sequential": [
            [
             0,
             "#0d0887"
            ],
            [
             0.1111111111111111,
             "#46039f"
            ],
            [
             0.2222222222222222,
             "#7201a8"
            ],
            [
             0.3333333333333333,
             "#9c179e"
            ],
            [
             0.4444444444444444,
             "#bd3786"
            ],
            [
             0.5555555555555556,
             "#d8576b"
            ],
            [
             0.6666666666666666,
             "#ed7953"
            ],
            [
             0.7777777777777778,
             "#fb9f3a"
            ],
            [
             0.8888888888888888,
             "#fdca26"
            ],
            [
             1,
             "#f0f921"
            ]
           ],
           "sequentialminus": [
            [
             0,
             "#0d0887"
            ],
            [
             0.1111111111111111,
             "#46039f"
            ],
            [
             0.2222222222222222,
             "#7201a8"
            ],
            [
             0.3333333333333333,
             "#9c179e"
            ],
            [
             0.4444444444444444,
             "#bd3786"
            ],
            [
             0.5555555555555556,
             "#d8576b"
            ],
            [
             0.6666666666666666,
             "#ed7953"
            ],
            [
             0.7777777777777778,
             "#fb9f3a"
            ],
            [
             0.8888888888888888,
             "#fdca26"
            ],
            [
             1,
             "#f0f921"
            ]
           ]
          },
          "colorway": [
           "#636efa",
           "#EF553B",
           "#00cc96",
           "#ab63fa",
           "#FFA15A",
           "#19d3f3",
           "#FF6692",
           "#B6E880",
           "#FF97FF",
           "#FECB52"
          ],
          "font": {
           "color": "#2a3f5f"
          },
          "geo": {
           "bgcolor": "white",
           "lakecolor": "white",
           "landcolor": "#E5ECF6",
           "showlakes": true,
           "showland": true,
           "subunitcolor": "white"
          },
          "hoverlabel": {
           "align": "left"
          },
          "hovermode": "closest",
          "mapbox": {
           "style": "light"
          },
          "paper_bgcolor": "white",
          "plot_bgcolor": "#E5ECF6",
          "polar": {
           "angularaxis": {
            "gridcolor": "white",
            "linecolor": "white",
            "ticks": ""
           },
           "bgcolor": "#E5ECF6",
           "radialaxis": {
            "gridcolor": "white",
            "linecolor": "white",
            "ticks": ""
           }
          },
          "scene": {
           "xaxis": {
            "backgroundcolor": "#E5ECF6",
            "gridcolor": "white",
            "gridwidth": 2,
            "linecolor": "white",
            "showbackground": true,
            "ticks": "",
            "zerolinecolor": "white"
           },
           "yaxis": {
            "backgroundcolor": "#E5ECF6",
            "gridcolor": "white",
            "gridwidth": 2,
            "linecolor": "white",
            "showbackground": true,
            "ticks": "",
            "zerolinecolor": "white"
           },
           "zaxis": {
            "backgroundcolor": "#E5ECF6",
            "gridcolor": "white",
            "gridwidth": 2,
            "linecolor": "white",
            "showbackground": true,
            "ticks": "",
            "zerolinecolor": "white"
           }
          },
          "shapedefaults": {
           "line": {
            "color": "#2a3f5f"
           }
          },
          "ternary": {
           "aaxis": {
            "gridcolor": "white",
            "linecolor": "white",
            "ticks": ""
           },
           "baxis": {
            "gridcolor": "white",
            "linecolor": "white",
            "ticks": ""
           },
           "bgcolor": "#E5ECF6",
           "caxis": {
            "gridcolor": "white",
            "linecolor": "white",
            "ticks": ""
           }
          },
          "title": {
           "x": 0.05
          },
          "xaxis": {
           "automargin": true,
           "gridcolor": "white",
           "linecolor": "white",
           "ticks": "",
           "title": {
            "standoff": 15
           },
           "zerolinecolor": "white",
           "zerolinewidth": 2
          },
          "yaxis": {
           "automargin": true,
           "gridcolor": "white",
           "linecolor": "white",
           "ticks": "",
           "title": {
            "standoff": 15
           },
           "zerolinecolor": "white",
           "zerolinewidth": 2
          }
         }
        },
        "title": {
         "text": "Grid Search Results"
        },
        "width": 1000
       }
      }
     },
     "metadata": {},
     "output_type": "display_data"
    },
    {
     "name": "stdout",
     "output_type": "stream",
     "text": [
      "Best score: 0.7817075371960496\n",
      "Best params: {'classifier__max_depth': np.int64(15), 'classifier__n_estimators': np.int64(45)}\n"
     ]
    }
   ],
   "source": [
    "from sklearn.ensemble import RandomForestClassifier\n",
    "from sklearn.pipeline import Pipeline\n",
    "from sklearn.compose import ColumnTransformer\n",
    "from sklearn.preprocessing import OneHotEncoder, StandardScaler\n",
    "from sklearn.model_selection import GridSearchCV\n",
    "from sklearn.metrics import make_scorer, accuracy_score\n",
    "\n",
    "cat_transformer = (\n",
    "    \"categorical\",\n",
    "    OneHotEncoder(handle_unknown=\"ignore\"),\n",
    "    [\"CAUSE.CATEGORY.DETAIL\", \"CAUSE.CATEGORY\"],\n",
    ")\n",
    "\n",
    "preprocessor = ColumnTransformer(\n",
    "    [\n",
    "        cat_transformer,\n",
    "        (\"numeric\", StandardScaler(), [\"START_HR\", \"START_DAYOFWEEK\"]),\n",
    "    ],\n",
    "    remainder=\"drop\",\n",
    ")\n",
    "\n",
    "pipeline = Pipeline(\n",
    "    [\n",
    "        (\"preprocessor\", preprocessor),\n",
    "        (\"classifier\", RandomForestClassifier(min_samples_leaf=7, random_state=42)),\n",
    "    ]\n",
    ")\n",
    "\n",
    "param_grid = {\n",
    "    \"classifier__max_depth\": np.arange(1, 21, 2),\n",
    "    \"classifier__n_estimators\": np.arange(30, 80),\n",
    "}\n",
    "\n",
    "grid_search = GridSearchCV(\n",
    "    pipeline,\n",
    "    param_grid,\n",
    "    scoring=make_scorer(accuracy_score),\n",
    "    cv=5,\n",
    "    n_jobs=-1,\n",
    "    verbose=3,\n",
    ")\n",
    "\n",
    "X = final.drop(\"SEVERITY\", axis=1)\n",
    "y = final[\"SEVERITY\"]\n",
    "grid_search.fit(X, y)\n",
    "model = grid_search.best_estimator_\n",
    "\n",
    "plot_accuracy_surface(grid_search)\n",
    "print(f'Best score: {grid_search.best_score_}\\nBest params: {grid_search.best_params_}')"
   ]
  },
  {
   "cell_type": "markdown",
   "metadata": {},
   "source": [
    "## Step 8: Fairness Analysis\n"
   ]
  },
  {
   "cell_type": "code",
   "execution_count": 29,
   "metadata": {},
   "outputs": [
    {
     "data": {
      "application/vnd.plotly.v1+json": {
       "config": {
        "plotlyServerURL": "https://plot.ly"
       },
       "data": [
        {
         "colorscale": [
          [
           0,
           "rgb(39, 26, 44)"
          ],
          [
           0.09090909090909091,
           "rgb(54, 43, 77)"
          ],
          [
           0.18181818181818182,
           "rgb(64, 60, 115)"
          ],
          [
           0.2727272727272727,
           "rgb(62, 82, 143)"
          ],
          [
           0.36363636363636365,
           "rgb(62, 108, 150)"
          ],
          [
           0.45454545454545453,
           "rgb(68, 130, 155)"
          ],
          [
           0.5454545454545454,
           "rgb(76, 153, 160)"
          ],
          [
           0.6363636363636364,
           "rgb(86, 177, 163)"
          ],
          [
           0.7272727272727273,
           "rgb(111, 201, 163)"
          ],
          [
           0.8181818181818182,
           "rgb(156, 219, 165)"
          ],
          [
           0.9090909090909091,
           "rgb(206, 236, 179)"
          ],
          [
           1,
           "rgb(253, 253, 204)"
          ]
         ],
         "reversescale": false,
         "showscale": false,
         "type": "heatmap",
         "x": [
          "LOW",
          "HIGH"
         ],
         "y": [
          "LOW",
          "HIGH"
         ],
         "z": [
          [
           0.36324479540559945,
           0.13711414213926776
          ],
          [
           0.07609475951184494,
           0.4235463029432879
          ]
         ]
        }
       ],
       "layout": {
        "annotations": [
         {
          "font": {
           "color": "#000000"
          },
          "showarrow": false,
          "text": "0.36",
          "x": "LOW",
          "xref": "x",
          "y": "LOW",
          "yref": "y"
         },
         {
          "font": {
           "color": "#FFFFFF"
          },
          "showarrow": false,
          "text": "0.14",
          "x": "HIGH",
          "xref": "x",
          "y": "LOW",
          "yref": "y"
         },
         {
          "font": {
           "color": "#FFFFFF"
          },
          "showarrow": false,
          "text": "0.08",
          "x": "LOW",
          "xref": "x",
          "y": "HIGH",
          "yref": "y"
         },
         {
          "font": {
           "color": "#000000"
          },
          "showarrow": false,
          "text": "0.42",
          "x": "HIGH",
          "xref": "x",
          "y": "HIGH",
          "yref": "y"
         }
        ],
        "autosize": false,
        "font": {
         "size": 14
        },
        "height": 500,
        "template": {
         "data": {
          "bar": [
           {
            "error_x": {
             "color": "#2a3f5f"
            },
            "error_y": {
             "color": "#2a3f5f"
            },
            "marker": {
             "line": {
              "color": "#E5ECF6",
              "width": 0.5
             },
             "pattern": {
              "fillmode": "overlay",
              "size": 10,
              "solidity": 0.2
             }
            },
            "type": "bar"
           }
          ],
          "barpolar": [
           {
            "marker": {
             "line": {
              "color": "#E5ECF6",
              "width": 0.5
             },
             "pattern": {
              "fillmode": "overlay",
              "size": 10,
              "solidity": 0.2
             }
            },
            "type": "barpolar"
           }
          ],
          "carpet": [
           {
            "aaxis": {
             "endlinecolor": "#2a3f5f",
             "gridcolor": "white",
             "linecolor": "white",
             "minorgridcolor": "white",
             "startlinecolor": "#2a3f5f"
            },
            "baxis": {
             "endlinecolor": "#2a3f5f",
             "gridcolor": "white",
             "linecolor": "white",
             "minorgridcolor": "white",
             "startlinecolor": "#2a3f5f"
            },
            "type": "carpet"
           }
          ],
          "choropleth": [
           {
            "colorbar": {
             "outlinewidth": 0,
             "ticks": ""
            },
            "type": "choropleth"
           }
          ],
          "contour": [
           {
            "colorbar": {
             "outlinewidth": 0,
             "ticks": ""
            },
            "colorscale": [
             [
              0,
              "#0d0887"
             ],
             [
              0.1111111111111111,
              "#46039f"
             ],
             [
              0.2222222222222222,
              "#7201a8"
             ],
             [
              0.3333333333333333,
              "#9c179e"
             ],
             [
              0.4444444444444444,
              "#bd3786"
             ],
             [
              0.5555555555555556,
              "#d8576b"
             ],
             [
              0.6666666666666666,
              "#ed7953"
             ],
             [
              0.7777777777777778,
              "#fb9f3a"
             ],
             [
              0.8888888888888888,
              "#fdca26"
             ],
             [
              1,
              "#f0f921"
             ]
            ],
            "type": "contour"
           }
          ],
          "contourcarpet": [
           {
            "colorbar": {
             "outlinewidth": 0,
             "ticks": ""
            },
            "type": "contourcarpet"
           }
          ],
          "heatmap": [
           {
            "colorbar": {
             "outlinewidth": 0,
             "ticks": ""
            },
            "colorscale": [
             [
              0,
              "#0d0887"
             ],
             [
              0.1111111111111111,
              "#46039f"
             ],
             [
              0.2222222222222222,
              "#7201a8"
             ],
             [
              0.3333333333333333,
              "#9c179e"
             ],
             [
              0.4444444444444444,
              "#bd3786"
             ],
             [
              0.5555555555555556,
              "#d8576b"
             ],
             [
              0.6666666666666666,
              "#ed7953"
             ],
             [
              0.7777777777777778,
              "#fb9f3a"
             ],
             [
              0.8888888888888888,
              "#fdca26"
             ],
             [
              1,
              "#f0f921"
             ]
            ],
            "type": "heatmap"
           }
          ],
          "heatmapgl": [
           {
            "colorbar": {
             "outlinewidth": 0,
             "ticks": ""
            },
            "colorscale": [
             [
              0,
              "#0d0887"
             ],
             [
              0.1111111111111111,
              "#46039f"
             ],
             [
              0.2222222222222222,
              "#7201a8"
             ],
             [
              0.3333333333333333,
              "#9c179e"
             ],
             [
              0.4444444444444444,
              "#bd3786"
             ],
             [
              0.5555555555555556,
              "#d8576b"
             ],
             [
              0.6666666666666666,
              "#ed7953"
             ],
             [
              0.7777777777777778,
              "#fb9f3a"
             ],
             [
              0.8888888888888888,
              "#fdca26"
             ],
             [
              1,
              "#f0f921"
             ]
            ],
            "type": "heatmapgl"
           }
          ],
          "histogram": [
           {
            "marker": {
             "pattern": {
              "fillmode": "overlay",
              "size": 10,
              "solidity": 0.2
             }
            },
            "type": "histogram"
           }
          ],
          "histogram2d": [
           {
            "colorbar": {
             "outlinewidth": 0,
             "ticks": ""
            },
            "colorscale": [
             [
              0,
              "#0d0887"
             ],
             [
              0.1111111111111111,
              "#46039f"
             ],
             [
              0.2222222222222222,
              "#7201a8"
             ],
             [
              0.3333333333333333,
              "#9c179e"
             ],
             [
              0.4444444444444444,
              "#bd3786"
             ],
             [
              0.5555555555555556,
              "#d8576b"
             ],
             [
              0.6666666666666666,
              "#ed7953"
             ],
             [
              0.7777777777777778,
              "#fb9f3a"
             ],
             [
              0.8888888888888888,
              "#fdca26"
             ],
             [
              1,
              "#f0f921"
             ]
            ],
            "type": "histogram2d"
           }
          ],
          "histogram2dcontour": [
           {
            "colorbar": {
             "outlinewidth": 0,
             "ticks": ""
            },
            "colorscale": [
             [
              0,
              "#0d0887"
             ],
             [
              0.1111111111111111,
              "#46039f"
             ],
             [
              0.2222222222222222,
              "#7201a8"
             ],
             [
              0.3333333333333333,
              "#9c179e"
             ],
             [
              0.4444444444444444,
              "#bd3786"
             ],
             [
              0.5555555555555556,
              "#d8576b"
             ],
             [
              0.6666666666666666,
              "#ed7953"
             ],
             [
              0.7777777777777778,
              "#fb9f3a"
             ],
             [
              0.8888888888888888,
              "#fdca26"
             ],
             [
              1,
              "#f0f921"
             ]
            ],
            "type": "histogram2dcontour"
           }
          ],
          "mesh3d": [
           {
            "colorbar": {
             "outlinewidth": 0,
             "ticks": ""
            },
            "type": "mesh3d"
           }
          ],
          "parcoords": [
           {
            "line": {
             "colorbar": {
              "outlinewidth": 0,
              "ticks": ""
             }
            },
            "type": "parcoords"
           }
          ],
          "pie": [
           {
            "automargin": true,
            "type": "pie"
           }
          ],
          "scatter": [
           {
            "fillpattern": {
             "fillmode": "overlay",
             "size": 10,
             "solidity": 0.2
            },
            "type": "scatter"
           }
          ],
          "scatter3d": [
           {
            "line": {
             "colorbar": {
              "outlinewidth": 0,
              "ticks": ""
             }
            },
            "marker": {
             "colorbar": {
              "outlinewidth": 0,
              "ticks": ""
             }
            },
            "type": "scatter3d"
           }
          ],
          "scattercarpet": [
           {
            "marker": {
             "colorbar": {
              "outlinewidth": 0,
              "ticks": ""
             }
            },
            "type": "scattercarpet"
           }
          ],
          "scattergeo": [
           {
            "marker": {
             "colorbar": {
              "outlinewidth": 0,
              "ticks": ""
             }
            },
            "type": "scattergeo"
           }
          ],
          "scattergl": [
           {
            "marker": {
             "colorbar": {
              "outlinewidth": 0,
              "ticks": ""
             }
            },
            "type": "scattergl"
           }
          ],
          "scattermapbox": [
           {
            "marker": {
             "colorbar": {
              "outlinewidth": 0,
              "ticks": ""
             }
            },
            "type": "scattermapbox"
           }
          ],
          "scatterpolar": [
           {
            "marker": {
             "colorbar": {
              "outlinewidth": 0,
              "ticks": ""
             }
            },
            "type": "scatterpolar"
           }
          ],
          "scatterpolargl": [
           {
            "marker": {
             "colorbar": {
              "outlinewidth": 0,
              "ticks": ""
             }
            },
            "type": "scatterpolargl"
           }
          ],
          "scatterternary": [
           {
            "marker": {
             "colorbar": {
              "outlinewidth": 0,
              "ticks": ""
             }
            },
            "type": "scatterternary"
           }
          ],
          "surface": [
           {
            "colorbar": {
             "outlinewidth": 0,
             "ticks": ""
            },
            "colorscale": [
             [
              0,
              "#0d0887"
             ],
             [
              0.1111111111111111,
              "#46039f"
             ],
             [
              0.2222222222222222,
              "#7201a8"
             ],
             [
              0.3333333333333333,
              "#9c179e"
             ],
             [
              0.4444444444444444,
              "#bd3786"
             ],
             [
              0.5555555555555556,
              "#d8576b"
             ],
             [
              0.6666666666666666,
              "#ed7953"
             ],
             [
              0.7777777777777778,
              "#fb9f3a"
             ],
             [
              0.8888888888888888,
              "#fdca26"
             ],
             [
              1,
              "#f0f921"
             ]
            ],
            "type": "surface"
           }
          ],
          "table": [
           {
            "cells": {
             "fill": {
              "color": "#EBF0F8"
             },
             "line": {
              "color": "white"
             }
            },
            "header": {
             "fill": {
              "color": "#C8D4E3"
             },
             "line": {
              "color": "white"
             }
            },
            "type": "table"
           }
          ]
         },
         "layout": {
          "annotationdefaults": {
           "arrowcolor": "#2a3f5f",
           "arrowhead": 0,
           "arrowwidth": 1
          },
          "autotypenumbers": "strict",
          "coloraxis": {
           "colorbar": {
            "outlinewidth": 0,
            "ticks": ""
           }
          },
          "colorscale": {
           "diverging": [
            [
             0,
             "#8e0152"
            ],
            [
             0.1,
             "#c51b7d"
            ],
            [
             0.2,
             "#de77ae"
            ],
            [
             0.3,
             "#f1b6da"
            ],
            [
             0.4,
             "#fde0ef"
            ],
            [
             0.5,
             "#f7f7f7"
            ],
            [
             0.6,
             "#e6f5d0"
            ],
            [
             0.7,
             "#b8e186"
            ],
            [
             0.8,
             "#7fbc41"
            ],
            [
             0.9,
             "#4d9221"
            ],
            [
             1,
             "#276419"
            ]
           ],
           "sequential": [
            [
             0,
             "#0d0887"
            ],
            [
             0.1111111111111111,
             "#46039f"
            ],
            [
             0.2222222222222222,
             "#7201a8"
            ],
            [
             0.3333333333333333,
             "#9c179e"
            ],
            [
             0.4444444444444444,
             "#bd3786"
            ],
            [
             0.5555555555555556,
             "#d8576b"
            ],
            [
             0.6666666666666666,
             "#ed7953"
            ],
            [
             0.7777777777777778,
             "#fb9f3a"
            ],
            [
             0.8888888888888888,
             "#fdca26"
            ],
            [
             1,
             "#f0f921"
            ]
           ],
           "sequentialminus": [
            [
             0,
             "#0d0887"
            ],
            [
             0.1111111111111111,
             "#46039f"
            ],
            [
             0.2222222222222222,
             "#7201a8"
            ],
            [
             0.3333333333333333,
             "#9c179e"
            ],
            [
             0.4444444444444444,
             "#bd3786"
            ],
            [
             0.5555555555555556,
             "#d8576b"
            ],
            [
             0.6666666666666666,
             "#ed7953"
            ],
            [
             0.7777777777777778,
             "#fb9f3a"
            ],
            [
             0.8888888888888888,
             "#fdca26"
            ],
            [
             1,
             "#f0f921"
            ]
           ]
          },
          "colorway": [
           "#636efa",
           "#EF553B",
           "#00cc96",
           "#ab63fa",
           "#FFA15A",
           "#19d3f3",
           "#FF6692",
           "#B6E880",
           "#FF97FF",
           "#FECB52"
          ],
          "font": {
           "color": "#2a3f5f"
          },
          "geo": {
           "bgcolor": "white",
           "lakecolor": "white",
           "landcolor": "#E5ECF6",
           "showlakes": true,
           "showland": true,
           "subunitcolor": "white"
          },
          "hoverlabel": {
           "align": "left"
          },
          "hovermode": "closest",
          "mapbox": {
           "style": "light"
          },
          "paper_bgcolor": "white",
          "plot_bgcolor": "#E5ECF6",
          "polar": {
           "angularaxis": {
            "gridcolor": "white",
            "linecolor": "white",
            "ticks": ""
           },
           "bgcolor": "#E5ECF6",
           "radialaxis": {
            "gridcolor": "white",
            "linecolor": "white",
            "ticks": ""
           }
          },
          "scene": {
           "xaxis": {
            "backgroundcolor": "#E5ECF6",
            "gridcolor": "white",
            "gridwidth": 2,
            "linecolor": "white",
            "showbackground": true,
            "ticks": "",
            "zerolinecolor": "white"
           },
           "yaxis": {
            "backgroundcolor": "#E5ECF6",
            "gridcolor": "white",
            "gridwidth": 2,
            "linecolor": "white",
            "showbackground": true,
            "ticks": "",
            "zerolinecolor": "white"
           },
           "zaxis": {
            "backgroundcolor": "#E5ECF6",
            "gridcolor": "white",
            "gridwidth": 2,
            "linecolor": "white",
            "showbackground": true,
            "ticks": "",
            "zerolinecolor": "white"
           }
          },
          "shapedefaults": {
           "line": {
            "color": "#2a3f5f"
           }
          },
          "ternary": {
           "aaxis": {
            "gridcolor": "white",
            "linecolor": "white",
            "ticks": ""
           },
           "baxis": {
            "gridcolor": "white",
            "linecolor": "white",
            "ticks": ""
           },
           "bgcolor": "#E5ECF6",
           "caxis": {
            "gridcolor": "white",
            "linecolor": "white",
            "ticks": ""
           }
          },
          "title": {
           "x": 0.05
          },
          "xaxis": {
           "automargin": true,
           "gridcolor": "white",
           "linecolor": "white",
           "ticks": "",
           "title": {
            "standoff": 15
           },
           "zerolinecolor": "white",
           "zerolinewidth": 2
          },
          "yaxis": {
           "automargin": true,
           "gridcolor": "white",
           "linecolor": "white",
           "ticks": "",
           "title": {
            "standoff": 15
           },
           "zerolinecolor": "white",
           "zerolinewidth": 2
          }
         }
        },
        "width": 500,
        "xaxis": {
         "dtick": 1,
         "gridcolor": "rgb(0, 0, 0)",
         "side": "top",
         "ticks": "",
         "title": {
          "text": "Predicted Label"
         }
        },
        "yaxis": {
         "autorange": "reversed",
         "dtick": 1,
         "ticks": "",
         "ticksuffix": "  ",
         "title": {
          "text": "True Label"
         }
        }
       }
      }
     },
     "metadata": {},
     "output_type": "display_data"
    }
   ],
   "source": [
    "from sklearn.metrics import confusion_matrix\n",
    "import plotly.figure_factory as ff\n",
    "import numpy as np\n",
    "\n",
    "labels = [\"LOW\", \"HIGH\"]\n",
    "cm = confusion_matrix(final[\"SEVERITY\"], grid_search.predict(X), labels=labels)\n",
    "cm_normalized = cm.astype('float') / cm.sum()\n",
    "\n",
    "fig = ff.create_annotated_heatmap(\n",
    "    z=cm_normalized,\n",
    "    x=labels,\n",
    "    y=labels,\n",
    "    colorscale=\"deep_r\",\n",
    "    annotation_text=np.round(cm_normalized, 2),\n",
    ")\n",
    "\n",
    "fig.update_layout(\n",
    "    xaxis_title=\"Predicted Label\",\n",
    "    yaxis_title=\"True Label\",\n",
    "    font=dict(size=14),\n",
    "    yaxis=dict(autorange=\"reversed\"),\n",
    "    autosize=False,\n",
    "    width=500,\n",
    "    height=500,\n",
    ")\n",
    "\n",
    "fig.show()"
   ]
  },
  {
   "cell_type": "code",
   "execution_count": 30,
   "metadata": {},
   "outputs": [
    {
     "data": {
      "text/plain": [
       "np.float64(0.8477011494252874)"
      ]
     },
     "execution_count": 30,
     "metadata": {},
     "output_type": "execute_result"
    }
   ],
   "source": [
    "recall = cm[1, 1] / (cm[1, 1] + cm[1, 0])\n",
    "recall"
   ]
  },
  {
   "cell_type": "code",
   "execution_count": 31,
   "metadata": {},
   "outputs": [
    {
     "data": {
      "text/html": [
       "<div style=\"width:100%;\"><div style=\"position:relative;width:100%;height:0;padding-bottom:60%;\"><span style=\"color:#565656\">Make this Notebook Trusted to load map: File -> Trust Notebook</span><iframe srcdoc=\"&lt;!DOCTYPE html&gt;\n",
       "&lt;html&gt;\n",
       "&lt;head&gt;\n",
       "    \n",
       "    &lt;meta http-equiv=&quot;content-type&quot; content=&quot;text/html; charset=UTF-8&quot; /&gt;\n",
       "    \n",
       "        &lt;script&gt;\n",
       "            L_NO_TOUCH = false;\n",
       "            L_DISABLE_3D = false;\n",
       "        &lt;/script&gt;\n",
       "    \n",
       "    &lt;style&gt;html, body {width: 100%;height: 100%;margin: 0;padding: 0;}&lt;/style&gt;\n",
       "    &lt;style&gt;#map {position:absolute;top:0;bottom:0;right:0;left:0;}&lt;/style&gt;\n",
       "    &lt;script src=&quot;https://cdn.jsdelivr.net/npm/leaflet@1.9.3/dist/leaflet.js&quot;&gt;&lt;/script&gt;\n",
       "    &lt;script src=&quot;https://code.jquery.com/jquery-3.7.1.min.js&quot;&gt;&lt;/script&gt;\n",
       "    &lt;script src=&quot;https://cdn.jsdelivr.net/npm/bootstrap@5.2.2/dist/js/bootstrap.bundle.min.js&quot;&gt;&lt;/script&gt;\n",
       "    &lt;script src=&quot;https://cdnjs.cloudflare.com/ajax/libs/Leaflet.awesome-markers/2.0.2/leaflet.awesome-markers.js&quot;&gt;&lt;/script&gt;\n",
       "    &lt;link rel=&quot;stylesheet&quot; href=&quot;https://cdn.jsdelivr.net/npm/leaflet@1.9.3/dist/leaflet.css&quot;/&gt;\n",
       "    &lt;link rel=&quot;stylesheet&quot; href=&quot;https://cdn.jsdelivr.net/npm/bootstrap@5.2.2/dist/css/bootstrap.min.css&quot;/&gt;\n",
       "    &lt;link rel=&quot;stylesheet&quot; href=&quot;https://netdna.bootstrapcdn.com/bootstrap/3.0.0/css/bootstrap-glyphicons.css&quot;/&gt;\n",
       "    &lt;link rel=&quot;stylesheet&quot; href=&quot;https://cdn.jsdelivr.net/npm/@fortawesome/fontawesome-free@6.2.0/css/all.min.css&quot;/&gt;\n",
       "    &lt;link rel=&quot;stylesheet&quot; href=&quot;https://cdnjs.cloudflare.com/ajax/libs/Leaflet.awesome-markers/2.0.2/leaflet.awesome-markers.css&quot;/&gt;\n",
       "    &lt;link rel=&quot;stylesheet&quot; href=&quot;https://cdn.jsdelivr.net/gh/python-visualization/folium/folium/templates/leaflet.awesome.rotate.min.css&quot;/&gt;\n",
       "    \n",
       "            &lt;meta name=&quot;viewport&quot; content=&quot;width=device-width,\n",
       "                initial-scale=1.0, maximum-scale=1.0, user-scalable=no&quot; /&gt;\n",
       "            &lt;style&gt;\n",
       "                #map_b9b51d7e6862c13469940b971eb55e01 {\n",
       "                    position: relative;\n",
       "                    width: 100.0%;\n",
       "                    height: 100.0%;\n",
       "                    left: 0.0%;\n",
       "                    top: 0.0%;\n",
       "                }\n",
       "                .leaflet-container { font-size: 1rem; }\n",
       "            &lt;/style&gt;\n",
       "        \n",
       "    &lt;script src=&quot;https://cdnjs.cloudflare.com/ajax/libs/d3/3.5.5/d3.min.js&quot;&gt;&lt;/script&gt;\n",
       "&lt;/head&gt;\n",
       "&lt;body&gt;\n",
       "    \n",
       "    \n",
       "            &lt;div class=&quot;folium-map&quot; id=&quot;map_b9b51d7e6862c13469940b971eb55e01&quot; &gt;&lt;/div&gt;\n",
       "        \n",
       "&lt;/body&gt;\n",
       "&lt;script&gt;\n",
       "    \n",
       "    \n",
       "            var map_b9b51d7e6862c13469940b971eb55e01 = L.map(\n",
       "                &quot;map_b9b51d7e6862c13469940b971eb55e01&quot;,\n",
       "                {\n",
       "                    center: [48.0, -102.0],\n",
       "                    crs: L.CRS.EPSG3857,\n",
       "                    zoom: 4,\n",
       "                    zoomControl: true,\n",
       "                    preferCanvas: false,\n",
       "                }\n",
       "            );\n",
       "\n",
       "            \n",
       "\n",
       "        \n",
       "    \n",
       "            var tile_layer_93752a1535311db11d9a60aa0d155c6a = L.tileLayer(\n",
       "                &quot;https://tile.openstreetmap.org/{z}/{x}/{y}.png&quot;,\n",
       "                {&quot;attribution&quot;: &quot;\\u0026copy; \\u003ca href=\\&quot;https://www.openstreetmap.org/copyright\\&quot;\\u003eOpenStreetMap\\u003c/a\\u003e contributors&quot;, &quot;detectRetina&quot;: false, &quot;maxNativeZoom&quot;: 19, &quot;maxZoom&quot;: 19, &quot;minZoom&quot;: 0, &quot;noWrap&quot;: false, &quot;opacity&quot;: 1, &quot;subdomains&quot;: &quot;abc&quot;, &quot;tms&quot;: false}\n",
       "            );\n",
       "        \n",
       "    \n",
       "            tile_layer_93752a1535311db11d9a60aa0d155c6a.addTo(map_b9b51d7e6862c13469940b971eb55e01);\n",
       "        \n",
       "    \n",
       "            var choropleth_a3f2b76d3bb7ec36422bf536db517f15 = L.featureGroup(\n",
       "                {}\n",
       "            );\n",
       "        \n",
       "    \n",
       "        function geo_json_b136ad670cca5b3772cd13e29da978ad_styler(feature) {\n",
       "            switch(feature.id) {\n",
       "                case &quot;AL&quot;: case &quot;AR&quot;: case &quot;CA&quot;: case &quot;IL&quot;: case &quot;IA&quot;: case &quot;MA&quot;: case &quot;SC&quot;: case &quot;TN&quot;: \n",
       "                    return {&quot;color&quot;: &quot;black&quot;, &quot;fillColor&quot;: &quot;#fd8d3c&quot;, &quot;fillOpacity&quot;: 0.7, &quot;opacity&quot;: 0.2, &quot;weight&quot;: 1};\n",
       "                case &quot;AK&quot;: case &quot;MT&quot;: case &quot;ND&quot;: case &quot;RI&quot;: case &quot;SD&quot;: \n",
       "                    return {&quot;color&quot;: &quot;black&quot;, &quot;fillColor&quot;: &quot;black&quot;, &quot;fillOpacity&quot;: 0.7, &quot;opacity&quot;: 0.2, &quot;weight&quot;: 1};\n",
       "                case &quot;AZ&quot;: case &quot;CO&quot;: case &quot;DE&quot;: case &quot;ID&quot;: case &quot;IN&quot;: case &quot;LA&quot;: case &quot;MD&quot;: case &quot;MI&quot;: case &quot;MN&quot;: case &quot;MS&quot;: case &quot;NH&quot;: case &quot;NJ&quot;: case &quot;NM&quot;: case &quot;NY&quot;: case &quot;OK&quot;: case &quot;UT&quot;: case &quot;VT&quot;: case &quot;WV&quot;: \n",
       "                    return {&quot;color&quot;: &quot;black&quot;, &quot;fillColor&quot;: &quot;#bd0026&quot;, &quot;fillOpacity&quot;: 0.7, &quot;opacity&quot;: 0.2, &quot;weight&quot;: 1};\n",
       "                case &quot;CT&quot;: case &quot;FL&quot;: case &quot;GA&quot;: case &quot;HI&quot;: case &quot;KS&quot;: case &quot;KY&quot;: case &quot;ME&quot;: case &quot;MO&quot;: case &quot;NV&quot;: case &quot;NC&quot;: case &quot;OH&quot;: case &quot;OR&quot;: case &quot;PA&quot;: case &quot;TX&quot;: case &quot;WA&quot;: case &quot;WI&quot;: case &quot;WY&quot;: \n",
       "                    return {&quot;color&quot;: &quot;black&quot;, &quot;fillColor&quot;: &quot;#f03b20&quot;, &quot;fillOpacity&quot;: 0.7, &quot;opacity&quot;: 0.2, &quot;weight&quot;: 1};\n",
       "                case &quot;NE&quot;: \n",
       "                    return {&quot;color&quot;: &quot;black&quot;, &quot;fillColor&quot;: &quot;#ffffb2&quot;, &quot;fillOpacity&quot;: 0.7, &quot;opacity&quot;: 0.2, &quot;weight&quot;: 1};\n",
       "                default:\n",
       "                    return {&quot;color&quot;: &quot;black&quot;, &quot;fillColor&quot;: &quot;#feb24c&quot;, &quot;fillOpacity&quot;: 0.7, &quot;opacity&quot;: 0.2, &quot;weight&quot;: 1};\n",
       "            }\n",
       "        }\n",
       "\n",
       "        function geo_json_b136ad670cca5b3772cd13e29da978ad_onEachFeature(feature, layer) {\n",
       "            layer.on({\n",
       "            });\n",
       "        };\n",
       "        var geo_json_b136ad670cca5b3772cd13e29da978ad = L.geoJson(null, {\n",
       "                onEachFeature: geo_json_b136ad670cca5b3772cd13e29da978ad_onEachFeature,\n",
       "            \n",
       "                style: geo_json_b136ad670cca5b3772cd13e29da978ad_styler,\n",
       "        });\n",
       "\n",
       "        function geo_json_b136ad670cca5b3772cd13e29da978ad_add (data) {\n",
       "            geo_json_b136ad670cca5b3772cd13e29da978ad\n",
       "                .addData(data);\n",
       "        }\n",
       "            geo_json_b136ad670cca5b3772cd13e29da978ad_add({&quot;features&quot;: [{&quot;geometry&quot;: {&quot;coordinates&quot;: [[[-87.359296, 35.00118], [-85.606675, 34.984749], [-85.431413, 34.124869], [-85.184951, 32.859696], [-85.069935, 32.580372], [-84.960397, 32.421541], [-85.004212, 32.322956], [-84.889196, 32.262709], [-85.058981, 32.13674], [-85.053504, 32.01077], [-85.141136, 31.840985], [-85.042551, 31.539753], [-85.113751, 31.27686], [-85.004212, 31.003013], [-85.497137, 30.997536], [-87.600282, 30.997536], [-87.633143, 30.86609], [-87.408589, 30.674397], [-87.446927, 30.510088], [-87.37025, 30.427934], [-87.518128, 30.280057], [-87.655051, 30.247195], [-87.90699, 30.411504], [-87.934375, 30.657966], [-88.011052, 30.685351], [-88.10416, 30.499135], [-88.137022, 30.318396], [-88.394438, 30.367688], [-88.471115, 31.895754], [-88.241084, 33.796253], [-88.098683, 34.891641], [-88.202745, 34.995703], [-87.359296, 35.00118]]], &quot;type&quot;: &quot;Polygon&quot;}, &quot;id&quot;: &quot;AL&quot;, &quot;properties&quot;: {&quot;name&quot;: &quot;Alabama&quot;}, &quot;type&quot;: &quot;Feature&quot;}, {&quot;geometry&quot;: {&quot;coordinates&quot;: [[[[-131.602021, 55.117982], [-131.569159, 55.28229], [-131.355558, 55.183705], [-131.38842, 55.01392], [-131.645836, 55.035827], [-131.602021, 55.117982]]], [[[-131.832052, 55.42469], [-131.645836, 55.304197], [-131.749898, 55.128935], [-131.832052, 55.189182], [-131.832052, 55.42469]]], [[[-132.976733, 56.437924], [-132.735747, 56.459832], [-132.631685, 56.421493], [-132.664547, 56.273616], [-132.878148, 56.240754], [-133.069841, 56.333862], [-132.976733, 56.437924]]], [[[-133.595627, 56.350293], [-133.162949, 56.317431], [-133.05341, 56.125739], [-132.620732, 55.912138], [-132.472854, 55.780691], [-132.4619, 55.671152], [-132.357838, 55.649245], [-132.341408, 55.506844], [-132.166146, 55.364444], [-132.144238, 55.238474], [-132.029222, 55.276813], [-131.97993, 55.178228], [-131.958022, 54.789365], [-132.029222, 54.701734], [-132.308546, 54.718165], [-132.385223, 54.915335], [-132.483808, 54.898904], [-132.686455, 55.046781], [-132.746701, 54.997489], [-132.916486, 55.046781], [-132.889102, 54.898904], [-132.73027, 54.937242], [-132.626209, 54.882473], [-132.675501, 54.679826], [-132.867194, 54.701734], [-133.157472, 54.95915], [-133.239626, 55.090597], [-133.223195, 55.22752], [-133.453227, 55.216566], [-133.453227, 55.320628], [-133.277964, 55.331582], [-133.102702, 55.42469], [-133.17938, 55.588998], [-133.387503, 55.62186], [-133.420365, 55.884753], [-133.497042, 56.0162], [-133.639442, 55.923092], [-133.694212, 56.070969], [-133.546335, 56.142169], [-133.666827, 56.311955], [-133.595627, 56.350293]]], [[[-133.738027, 55.556137], [-133.546335, 55.490413], [-133.414888, 55.572568], [-133.283441, 55.534229], [-133.420365, 55.386352], [-133.633966, 55.430167], [-133.738027, 55.556137]]], [[[-133.907813, 56.930849], [-134.050213, 57.029434], [-133.885905, 57.095157], [-133.343688, 57.002049], [-133.102702, 57.007526], [-132.932917, 56.82131], [-132.620732, 56.667956], [-132.653593, 56.55294], [-132.817901, 56.492694], [-133.042456, 56.520078], [-133.201287, 56.448878], [-133.420365, 56.492694], [-133.66135, 56.448878], [-133.710643, 56.684386], [-133.688735, 56.837741], [-133.869474, 56.843218], [-133.907813, 56.930849]]], [[[-134.115936, 56.48174], [-134.25286, 56.558417], [-134.400737, 56.722725], [-134.417168, 56.848695], [-134.296675, 56.908941], [-134.170706, 56.848695], [-134.143321, 56.952757], [-133.748981, 56.772017], [-133.710643, 56.596755], [-133.847566, 56.574848], [-133.935197, 56.377678], [-133.836612, 56.322908], [-133.957105, 56.092877], [-134.110459, 56.142169], [-134.132367, 55.999769], [-134.230952, 56.070969], [-134.291198, 56.350293], [-134.115936, 56.48174]]], [[[-134.636246, 56.28457], [-134.669107, 56.169554], [-134.806031, 56.235277], [-135.178463, 56.67891], [-135.413971, 56.810356], [-135.331817, 56.914418], [-135.424925, 57.166357], [-135.687818, 57.369004], [-135.419448, 57.566174], [-135.298955, 57.48402], [-135.063447, 57.418296], [-134.849846, 57.407343], [-134.844369, 57.248511], [-134.636246, 56.728202], [-134.636246, 56.28457]]], [[[-134.712923, 58.223407], [-134.373353, 58.14673], [-134.176183, 58.157683], [-134.187137, 58.081006], [-133.902336, 57.807159], [-134.099505, 57.850975], [-134.148798, 57.757867], [-133.935197, 57.615466], [-133.869474, 57.363527], [-134.083075, 57.297804], [-134.154275, 57.210173], [-134.499322, 57.029434], [-134.603384, 57.034911], [-134.6472, 57.226604], [-134.575999, 57.341619], [-134.608861, 57.511404], [-134.729354, 57.719528], [-134.707446, 57.829067], [-134.784123, 58.097437], [-134.91557, 58.212453], [-134.953908, 58.409623], [-134.712923, 58.223407]]], [[[-135.857603, 57.330665], [-135.715203, 57.330665], [-135.567326, 57.149926], [-135.633049, 57.023957], [-135.857603, 56.996572], [-135.824742, 57.193742], [-135.857603, 57.330665]]], [[[-136.279328, 58.206976], [-135.978096, 58.201499], [-135.780926, 58.28913], [-135.496125, 58.168637], [-135.64948, 58.037191], [-135.59471, 57.987898], [-135.45231, 58.135776], [-135.107263, 58.086483], [-134.91557, 57.976944], [-135.025108, 57.779775], [-134.937477, 57.763344], [-134.822462, 57.500451], [-135.085355, 57.462112], [-135.572802, 57.675713], [-135.556372, 57.456635], [-135.709726, 57.369004], [-135.890465, 57.407343], [-136.000004, 57.544266], [-136.208128, 57.637374], [-136.366959, 57.829067], [-136.569606, 57.916698], [-136.558652, 58.075529], [-136.421728, 58.130299], [-136.377913, 58.267222], [-136.279328, 58.206976]]], [[[-147.079854, 60.200582], [-147.501579, 59.948643], [-147.53444, 59.850058], [-147.874011, 59.784335], [-147.80281, 59.937689], [-147.435855, 60.09652], [-147.205824, 60.271782], [-147.079854, 60.200582]]], [[[-147.561825, 60.578491], [-147.616594, 60.370367], [-147.758995, 60.156767], [-147.956165, 60.227967], [-147.791856, 60.474429], [-147.561825, 60.578491]]], [[[-147.786379, 70.245291], [-147.682318, 70.201475], [-147.162008, 70.15766], [-146.888161, 70.185044], [-146.510252, 70.185044], [-146.099482, 70.146706], [-145.858496, 70.168614], [-145.622988, 70.08646], [-145.195787, 69.993352], [-144.620708, 69.971444], [-144.461877, 70.026213], [-144.078491, 70.059075], [-143.914183, 70.130275], [-143.497935, 70.141229], [-143.503412, 70.091936], [-143.25695, 70.119321], [-142.747594, 70.042644], [-142.402547, 69.916674], [-142.079408, 69.856428], [-142.008207, 69.801659], [-141.712453, 69.790705], [-141.433129, 69.697597], [-141.378359, 69.63735], [-141.208574, 69.686643], [-141.00045, 69.648304], [-141.00045, 60.304644], [-140.53491, 60.22249], [-140.474664, 60.310121], [-139.987216, 60.184151], [-139.696939, 60.342983], [-139.088998, 60.359413], [-139.198537, 60.091043], [-139.045183, 59.997935], [-138.700135, 59.910304], [-138.623458, 59.767904], [-137.604747, 59.242118], [-137.445916, 58.908024], [-137.265177, 59.001132], [-136.827022, 59.159963], [-136.580559, 59.16544], [-136.465544, 59.285933], [-136.476498, 59.466672], [-136.301236, 59.466672], [-136.25742, 59.625503], [-135.945234, 59.663842], [-135.479694, 59.800766], [-135.025108, 59.565257], [-135.068924, 59.422857], [-134.959385, 59.280456], [-134.701969, 59.247595], [-134.378829, 59.033994], [-134.400737, 58.973748], [-134.25286, 58.858732], [-133.842089, 58.727285], [-133.173903, 58.152206], [-133.075318, 57.998852], [-132.867194, 57.845498], [-132.560485, 57.505928], [-132.253777, 57.21565], [-132.368792, 57.095157], [-132.05113, 57.051341], [-132.127807, 56.876079], [-131.870391, 56.804879], [-131.837529, 56.602232], [-131.580113, 56.613186], [-131.087188, 56.405062], [-130.78048, 56.366724], [-130.621648, 56.268139], [-130.468294, 56.240754], [-130.424478, 56.142169], [-130.101339, 56.114785], [-130.002754, 55.994292], [-130.150631, 55.769737], [-130.128724, 55.583521], [-129.986323, 55.276813], [-130.095862, 55.200136], [-130.336847, 54.920812], [-130.687372, 54.718165], [-130.785957, 54.822227], [-130.917403, 54.789365], [-131.010511, 54.997489], [-130.983126, 55.08512], [-131.092665, 55.189182], [-130.862634, 55.298721], [-130.928357, 55.337059], [-131.158389, 55.200136], [-131.284358, 55.287767], [-131.426759, 55.238474], [-131.843006, 55.457552], [-131.700606, 55.698537], [-131.963499, 55.616383], [-131.974453, 55.49589], [-132.182576, 55.588998], [-132.226392, 55.704014], [-132.083991, 55.829984], [-132.127807, 55.955953], [-132.324977, 55.851892], [-132.522147, 56.076446], [-132.642639, 56.032631], [-132.719317, 56.218847], [-132.527624, 56.339339], [-132.341408, 56.339339], [-132.396177, 56.487217], [-132.297592, 56.67891], [-132.450946, 56.673433], [-132.768609, 56.837741], [-132.993164, 57.034911], [-133.51895, 57.177311], [-133.507996, 57.577128], [-133.677781, 57.62642], [-133.639442, 57.790728], [-133.814705, 57.834544], [-134.072121, 58.053622], [-134.143321, 58.168637], [-134.586953, 58.206976], [-135.074401, 58.502731], [-135.282525, 59.192825], [-135.38111, 59.033994], [-135.337294, 58.891593], [-135.140124, 58.617746], [-135.189417, 58.573931], [-135.05797, 58.349376], [-135.085355, 58.201499], [-135.277048, 58.234361], [-135.430402, 58.398669], [-135.633049, 58.426053], [-135.91785, 58.382238], [-135.912373, 58.617746], [-136.087635, 58.814916], [-136.246466, 58.75467], [-136.876314, 58.962794], [-136.931084, 58.902547], [-136.586036, 58.836824], [-136.317666, 58.672516], [-136.213604, 58.667039], [-136.180743, 58.535592], [-136.043819, 58.382238], [-136.388867, 58.294607], [-136.591513, 58.349376], [-136.59699, 58.212453], [-136.859883, 58.316515], [-136.947514, 58.393192], [-137.111823, 58.393192], [-137.566409, 58.590362], [-137.900502, 58.765624], [-137.933364, 58.869686], [-138.11958, 59.02304], [-138.634412, 59.132579], [-138.919213, 59.247595], [-139.417615, 59.379041], [-139.746231, 59.505011], [-139.718846, 59.641934], [-139.625738, 59.598119], [-139.5162, 59.68575], [-139.625738, 59.88292], [-139.488815, 59.992458], [-139.554538, 60.041751], [-139.801, 59.833627], [-140.315833, 59.696704], [-140.92925, 59.745996], [-141.444083, 59.871966], [-141.46599, 59.970551], [-141.706976, 59.948643], [-141.964392, 60.019843], [-142.539471, 60.085566], [-142.873564, 60.091043], [-143.623905, 60.036274], [-143.892275, 59.997935], [-144.231845, 60.140336], [-144.65357, 60.206059], [-144.785016, 60.29369], [-144.834309, 60.441568], [-145.124586, 60.430614], [-145.223171, 60.299167], [-145.738004, 60.474429], [-145.820158, 60.551106], [-146.351421, 60.408706], [-146.608837, 60.238921], [-146.718376, 60.397752], [-146.608837, 60.485383], [-146.455483, 60.463475], [-145.951604, 60.578491], [-146.017328, 60.666122], [-146.252836, 60.622307], [-146.345944, 60.737322], [-146.565022, 60.753753], [-146.784099, 61.044031], [-146.866253, 60.972831], [-147.172962, 60.934492], [-147.271547, 60.972831], [-147.375609, 60.879723], [-147.758995, 60.912584], [-147.775426, 60.808523], [-148.032842, 60.781138], [-148.153334, 60.819476], [-148.065703, 61.005692], [-148.175242, 61.000215], [-148.350504, 60.803046], [-148.109519, 60.737322], [-148.087611, 60.594922], [-147.939734, 60.441568], [-148.027365, 60.277259], [-148.219058, 60.332029], [-148.273827, 60.249875], [-148.087611, 60.217013], [-147.983549, 59.997935], [-148.251919, 59.95412], [-148.399797, 59.997935], [-148.635305, 59.937689], [-148.755798, 59.986981], [-149.067984, 59.981505], [-149.05703, 60.063659], [-149.204907, 60.008889], [-149.287061, 59.904827], [-149.418508, 59.997935], [-149.582816, 59.866489], [-149.511616, 59.806242], [-149.741647, 59.729565], [-149.949771, 59.718611], [-150.031925, 59.61455], [-150.25648, 59.521442], [-150.409834, 59.554303], [-150.579619, 59.444764], [-150.716543, 59.450241], [-151.001343, 59.225687], [-151.308052, 59.209256], [-151.406637, 59.280456], [-151.592853, 59.159963], [-151.976239, 59.253071], [-151.888608, 59.422857], [-151.636669, 59.483103], [-151.47236, 59.472149], [-151.423068, 59.537872], [-151.127313, 59.669319], [-151.116359, 59.778858], [-151.505222, 59.63098], [-151.828361, 59.718611], [-151.8667, 59.778858], [-151.702392, 60.030797], [-151.423068, 60.211536], [-151.379252, 60.359413], [-151.297098, 60.386798], [-151.264237, 60.545629], [-151.406637, 60.720892], [-151.06159, 60.786615], [-150.404357, 61.038554], [-150.245526, 60.939969], [-150.042879, 60.912584], [-149.741647, 61.016646], [-150.075741, 61.15357], [-150.207187, 61.257632], [-150.47008, 61.246678], [-150.656296, 61.29597], [-150.711066, 61.252155], [-151.023251, 61.180954], [-151.165652, 61.044031], [-151.477837, 61.011169], [-151.800977, 60.852338], [-151.833838, 60.748276], [-152.080301, 60.693507], [-152.13507, 60.578491], [-152.310332, 60.507291], [-152.392486, 60.304644], [-152.732057, 60.173197], [-152.567748, 60.069136], [-152.704672, 59.915781], [-153.022334, 59.888397], [-153.049719, 59.691227], [-153.345474, 59.620026], [-153.438582, 59.702181], [-153.586459, 59.548826], [-153.761721, 59.543349], [-153.72886, 59.433811], [-154.117723, 59.368087], [-154.1944, 59.066856], [-153.750768, 59.050425], [-153.400243, 58.968271], [-153.301658, 58.869686], [-153.444059, 58.710854], [-153.679567, 58.612269], [-153.898645, 58.606793], [-153.920553, 58.519161], [-154.062953, 58.4863], [-153.99723, 58.376761], [-154.145107, 58.212453], [-154.46277, 58.059098], [-154.643509, 58.059098], [-154.818771, 58.004329], [-154.988556, 58.015283], [-155.120003, 57.955037], [-155.081664, 57.872883], [-155.328126, 57.829067], [-155.377419, 57.708574], [-155.547204, 57.785251], [-155.73342, 57.549743], [-156.045606, 57.566174], [-156.023698, 57.440204], [-156.209914, 57.473066], [-156.34136, 57.418296], [-156.34136, 57.248511], [-156.549484, 56.985618], [-156.883577, 56.952757], [-157.157424, 56.832264], [-157.20124, 56.766541], [-157.376502, 56.859649], [-157.672257, 56.607709], [-157.754411, 56.67891], [-157.918719, 56.657002], [-157.957058, 56.514601], [-158.126843, 56.459832], [-158.32949, 56.48174], [-158.488321, 56.339339], [-158.208997, 56.295524], [-158.510229, 55.977861], [-159.375585, 55.873799], [-159.616571, 55.594475], [-159.676817, 55.654722], [-159.643955, 55.829984], [-159.813741, 55.857368], [-160.027341, 55.791645], [-160.060203, 55.720445], [-160.394296, 55.605429], [-160.536697, 55.473983], [-160.580512, 55.567091], [-160.668143, 55.457552], [-160.865313, 55.528752], [-161.232268, 55.358967], [-161.506115, 55.364444], [-161.467776, 55.49589], [-161.588269, 55.62186], [-161.697808, 55.517798], [-161.686854, 55.408259], [-162.053809, 55.074166], [-162.179779, 55.15632], [-162.218117, 55.03035], [-162.470057, 55.052258], [-162.508395, 55.249428], [-162.661749, 55.293244], [-162.716519, 55.222043], [-162.579595, 55.134412], [-162.645319, 54.997489], [-162.847965, 54.926289], [-163.00132, 55.079643], [-163.187536, 55.090597], [-163.220397, 55.03035], [-163.034181, 54.942719], [-163.373752, 54.800319], [-163.14372, 54.76198], [-163.138243, 54.696257], [-163.329936, 54.74555], [-163.587352, 54.614103], [-164.085754, 54.61958], [-164.332216, 54.531949], [-164.354124, 54.466226], [-164.638925, 54.389548], [-164.847049, 54.416933], [-164.918249, 54.603149], [-164.710125, 54.663395], [-164.551294, 54.88795], [-164.34317, 54.893427], [-163.894061, 55.041304], [-163.532583, 55.046781], [-163.39566, 54.904381], [-163.291598, 55.008443], [-163.313505, 55.128935], [-163.105382, 55.183705], [-162.880827, 55.183705], [-162.579595, 55.446598], [-162.245502, 55.682106], [-161.807347, 55.89023], [-161.292514, 55.983338], [-161.078914, 55.939523], [-160.87079, 55.999769], [-160.816021, 55.912138], [-160.931036, 55.813553], [-160.805067, 55.736876], [-160.766728, 55.857368], [-160.509312, 55.868322], [-160.438112, 55.791645], [-160.27928, 55.76426], [-160.273803, 55.857368], [-160.536697, 55.939523], [-160.558604, 55.994292], [-160.383342, 56.251708], [-160.147834, 56.399586], [-159.830171, 56.541986], [-159.326293, 56.667956], [-158.959338, 56.848695], [-158.784076, 56.782971], [-158.641675, 56.810356], [-158.701922, 56.925372], [-158.658106, 57.034911], [-158.378782, 57.264942], [-157.995396, 57.41282], [-157.688688, 57.609989], [-157.705118, 57.719528], [-157.458656, 58.497254], [-157.07527, 58.705377], [-157.119086, 58.869686], [-158.039212, 58.634177], [-158.32949, 58.661562], [-158.40069, 58.760147], [-158.564998, 58.803962], [-158.619768, 58.913501], [-158.767645, 58.864209], [-158.860753, 58.694424], [-158.701922, 58.480823], [-158.893615, 58.387715], [-159.0634, 58.420577], [-159.392016, 58.760147], [-159.616571, 58.929932], [-159.731586, 58.929932], [-159.808264, 58.803962], [-159.906848, 58.782055], [-160.054726, 58.886116], [-160.235465, 58.902547], [-160.317619, 59.072332], [-160.854359, 58.88064], [-161.33633, 58.743716], [-161.374669, 58.667039], [-161.752577, 58.552023], [-161.938793, 58.656085], [-161.769008, 58.776578], [-161.829255, 59.061379], [-161.955224, 59.36261], [-161.703285, 59.48858], [-161.911409, 59.740519], [-162.092148, 59.88292], [-162.234548, 60.091043], [-162.448149, 60.178674], [-162.502918, 59.997935], [-162.760334, 59.959597], [-163.171105, 59.844581], [-163.66403, 59.795289], [-163.9324, 59.806242], [-164.162431, 59.866489], [-164.189816, 60.02532], [-164.386986, 60.074613], [-164.699171, 60.29369], [-164.962064, 60.337506], [-165.268773, 60.578491], [-165.060649, 60.68803], [-165.016834, 60.890677], [-165.175665, 60.846861], [-165.197573, 60.972831], [-165.120896, 61.076893], [-165.323543, 61.170001], [-165.34545, 61.071416], [-165.591913, 61.109754], [-165.624774, 61.279539], [-165.816467, 61.301447], [-165.920529, 61.416463], [-165.915052, 61.558863], [-166.106745, 61.49314], [-166.139607, 61.630064], [-165.904098, 61.662925], [-166.095791, 61.81628], [-165.756221, 61.827233], [-165.756221, 62.013449], [-165.674067, 62.139419], [-165.044219, 62.539236], [-164.912772, 62.659728], [-164.819664, 62.637821], [-164.874433, 62.807606], [-164.633448, 63.097884], [-164.425324, 63.212899], [-164.036462, 63.262192], [-163.73523, 63.212899], [-163.313505, 63.037637], [-163.039658, 63.059545], [-162.661749, 63.22933], [-162.272887, 63.486746], [-162.075717, 63.514131], [-162.026424, 63.448408], [-161.555408, 63.448408], [-161.13916, 63.503177], [-160.766728, 63.771547], [-160.766728, 63.837271], [-160.952944, 64.08921], [-160.974852, 64.237087], [-161.26513, 64.395918], [-161.374669, 64.532842], [-161.078914, 64.494503], [-160.79959, 64.609519], [-160.783159, 64.719058], [-161.144637, 64.921705], [-161.413007, 64.762873], [-161.664946, 64.790258], [-161.900455, 64.702627], [-162.168825, 64.680719], [-162.234548, 64.620473], [-162.541257, 64.532842], [-162.634365, 64.384965], [-162.787719, 64.324718], [-162.858919, 64.49998], [-163.045135, 64.538319], [-163.176582, 64.401395], [-163.253259, 64.467119], [-163.598306, 64.565704], [-164.304832, 64.560227], [-164.80871, 64.450688], [-165.000403, 64.434257], [-165.411174, 64.49998], [-166.188899, 64.576658], [-166.391546, 64.636904], [-166.484654, 64.735489], [-166.413454, 64.872412], [-166.692778, 64.987428], [-166.638008, 65.113398], [-166.462746, 65.179121], [-166.517516, 65.337952], [-166.796839, 65.337952], [-167.026871, 65.381768], [-167.47598, 65.414629], [-167.711489, 65.496784], [-168.072967, 65.578938], [-168.105828, 65.682999], [-167.541703, 65.819923], [-166.829701, 66.049954], [-166.3313, 66.186878], [-166.046499, 66.110201], [-165.756221, 66.09377], [-165.690498, 66.203309], [-165.86576, 66.21974], [-165.88219, 66.312848], [-165.186619, 66.466202], [-164.403417, 66.581218], [-163.981692, 66.592172], [-163.751661, 66.553833], [-163.872153, 66.389525], [-163.828338, 66.274509], [-163.915969, 66.192355], [-163.768091, 66.060908], [-163.494244, 66.082816], [-163.149197, 66.060908], [-162.749381, 66.088293], [-162.634365, 66.039001], [-162.371472, 66.028047], [-162.14144, 66.077339], [-161.840208, 66.02257], [-161.549931, 66.241647], [-161.341807, 66.252601], [-161.199406, 66.208786], [-161.128206, 66.334755], [-161.528023, 66.395002], [-161.911409, 66.345709], [-161.87307, 66.510017], [-162.174302, 66.68528], [-162.502918, 66.740049], [-162.601503, 66.89888], [-162.344087, 66.937219], [-162.015471, 66.778388], [-162.075717, 66.652418], [-161.916886, 66.553833], [-161.571838, 66.438817], [-161.489684, 66.55931], [-161.884024, 66.718141], [-161.714239, 67.002942], [-161.851162, 67.052235], [-162.240025, 66.991988], [-162.639842, 67.008419], [-162.700088, 67.057712], [-162.902735, 67.008419], [-163.740707, 67.128912], [-163.757138, 67.254881], [-164.009077, 67.534205], [-164.211724, 67.638267], [-164.534863, 67.725898], [-165.192096, 67.966884], [-165.493328, 68.059992], [-165.794559, 68.081899], [-166.243668, 68.246208], [-166.681824, 68.339316], [-166.703731, 68.372177], [-166.375115, 68.42147], [-166.227238, 68.574824], [-166.216284, 68.881533], [-165.329019, 68.859625], [-164.255539, 68.930825], [-163.976215, 68.985595], [-163.532583, 69.138949], [-163.110859, 69.374457], [-163.023228, 69.609966], [-162.842489, 69.812613], [-162.470057, 69.982398], [-162.311225, 70.108367], [-161.851162, 70.311014], [-161.779962, 70.256245], [-161.396576, 70.239814], [-160.837928, 70.343876], [-160.487404, 70.453415], [-159.649432, 70.792985], [-159.33177, 70.809416], [-159.298908, 70.760123], [-158.975769, 70.798462], [-158.658106, 70.787508], [-158.033735, 70.831323], [-157.420318, 70.979201], [-156.812377, 71.285909], [-156.565915, 71.351633], [-156.522099, 71.296863], [-155.585543, 71.170894], [-155.508865, 71.083263], [-155.832005, 70.968247], [-155.979882, 70.96277], [-155.974405, 70.809416], [-155.503388, 70.858708], [-155.476004, 70.940862], [-155.262403, 71.017539], [-155.191203, 70.973724], [-155.032372, 71.148986], [-154.566832, 70.990155], [-154.643509, 70.869662], [-154.353231, 70.8368], [-154.183446, 70.7656], [-153.931507, 70.880616], [-153.487874, 70.886093], [-153.235935, 70.924431], [-152.589656, 70.886093], [-152.26104, 70.842277], [-152.419871, 70.606769], [-151.817408, 70.546523], [-151.773592, 70.486276], [-151.187559, 70.382214], [-151.182082, 70.431507], [-150.760358, 70.49723], [-150.355064, 70.491753], [-150.349588, 70.436984], [-150.114079, 70.431507], [-149.867617, 70.508184], [-149.462323, 70.519138], [-149.177522, 70.486276], [-148.78866, 70.404122], [-148.607921, 70.420553], [-148.350504, 70.305537], [-148.202627, 70.349353], [-147.961642, 70.316491], [-147.786379, 70.245291]]], [[[-152.94018, 58.026237], [-152.945657, 57.982421], [-153.290705, 58.048145], [-153.044242, 58.305561], [-152.819688, 58.327469], [-152.666333, 58.562977], [-152.496548, 58.354853], [-152.354148, 58.426053], [-152.080301, 58.311038], [-152.080301, 58.152206], [-152.480117, 58.130299], [-152.655379, 58.059098], [-152.94018, 58.026237]]], [[[-153.958891, 57.538789], [-153.67409, 57.670236], [-153.931507, 57.69762], [-153.936983, 57.812636], [-153.723383, 57.889313], [-153.570028, 57.834544], [-153.548121, 57.719528], [-153.46049, 57.796205], [-153.455013, 57.96599], [-153.268797, 57.889313], [-153.235935, 57.998852], [-153.071627, 57.933129], [-152.874457, 57.933129], [-152.721103, 57.993375], [-152.469163, 57.889313], [-152.469163, 57.599035], [-152.151501, 57.620943], [-152.359625, 57.42925], [-152.74301, 57.505928], [-152.60061, 57.379958], [-152.710149, 57.275896], [-152.907319, 57.325188], [-152.912796, 57.128019], [-153.214027, 57.073249], [-153.312612, 56.991095], [-153.498828, 57.067772], [-153.695998, 56.859649], [-153.849352, 56.837741], [-154.013661, 56.744633], [-154.073907, 56.969187], [-154.303938, 56.848695], [-154.314892, 56.919895], [-154.523016, 56.991095], [-154.539447, 57.193742], [-154.742094, 57.275896], [-154.627078, 57.511404], [-154.227261, 57.659282], [-153.980799, 57.648328], [-153.958891, 57.538789]]], [[[-154.53397, 56.602232], [-154.742094, 56.399586], [-154.807817, 56.432447], [-154.53397, 56.602232]]], [[[-155.634835, 55.923092], [-155.476004, 55.912138], [-155.530773, 55.704014], [-155.793666, 55.731399], [-155.837482, 55.802599], [-155.634835, 55.923092]]], [[[-159.890418, 55.28229], [-159.950664, 55.068689], [-160.257373, 54.893427], [-160.109495, 55.161797], [-160.005433, 55.134412], [-159.890418, 55.28229]]], [[[-160.520266, 55.358967], [-160.33405, 55.358967], [-160.339527, 55.249428], [-160.525743, 55.128935], [-160.690051, 55.211089], [-160.794113, 55.134412], [-160.854359, 55.320628], [-160.79959, 55.380875], [-160.520266, 55.358967]]], [[[-162.256456, 54.981058], [-162.234548, 54.893427], [-162.349564, 54.838658], [-162.437195, 54.931766], [-162.256456, 54.981058]]], [[[-162.415287, 63.634624], [-162.563165, 63.536039], [-162.612457, 63.62367], [-162.415287, 63.634624]]], [[[-162.80415, 54.488133], [-162.590549, 54.449795], [-162.612457, 54.367641], [-162.782242, 54.373118], [-162.80415, 54.488133]]], [[[-165.548097, 54.29644], [-165.476897, 54.181425], [-165.630251, 54.132132], [-165.685021, 54.252625], [-165.548097, 54.29644]]], [[[-165.73979, 54.15404], [-166.046499, 54.044501], [-166.112222, 54.121178], [-165.980775, 54.219763], [-165.73979, 54.15404]]], [[[-166.364161, 60.359413], [-166.13413, 60.397752], [-166.084837, 60.326552], [-165.88219, 60.342983], [-165.685021, 60.277259], [-165.646682, 59.992458], [-165.750744, 59.89935], [-166.00816, 59.844581], [-166.062929, 59.745996], [-166.440838, 59.855535], [-166.6161, 59.850058], [-166.994009, 59.992458], [-167.125456, 59.992458], [-167.344534, 60.074613], [-167.421211, 60.206059], [-167.311672, 60.238921], [-166.93924, 60.206059], [-166.763978, 60.310121], [-166.577762, 60.321075], [-166.495608, 60.392275], [-166.364161, 60.359413]]], [[[-166.375115, 54.01164], [-166.210807, 53.934962], [-166.5449, 53.748746], [-166.539423, 53.715885], [-166.117699, 53.852808], [-166.112222, 53.776131], [-166.282007, 53.683023], [-166.555854, 53.622777], [-166.583239, 53.529669], [-166.878994, 53.431084], [-167.13641, 53.425607], [-167.306195, 53.332499], [-167.623857, 53.250345], [-167.793643, 53.337976], [-167.459549, 53.442038], [-167.355487, 53.425607], [-167.103548, 53.513238], [-167.163794, 53.611823], [-167.021394, 53.715885], [-166.807793, 53.666592], [-166.785886, 53.732316], [-167.015917, 53.754223], [-167.141887, 53.825424], [-167.032348, 53.945916], [-166.643485, 54.017116], [-166.561331, 53.880193], [-166.375115, 54.01164]]], [[[-168.790446, 53.157237], [-168.40706, 53.34893], [-168.385152, 53.431084], [-168.237275, 53.524192], [-168.007243, 53.568007], [-167.886751, 53.518715], [-167.842935, 53.387268], [-168.270136, 53.244868], [-168.500168, 53.036744], [-168.686384, 52.965544], [-168.790446, 53.157237]]], [[[-169.74891, 52.894344], [-169.705095, 52.795759], [-169.962511, 52.790282], [-169.989896, 52.856005], [-169.74891, 52.894344]]], [[[-170.148727, 57.221127], [-170.28565, 57.128019], [-170.313035, 57.221127], [-170.148727, 57.221127]]], [[[-170.669036, 52.697174], [-170.603313, 52.604066], [-170.789529, 52.538343], [-170.816914, 52.636928], [-170.669036, 52.697174]]], [[[-171.742517, 63.716778], [-170.94836, 63.5689], [-170.488297, 63.69487], [-170.280174, 63.683916], [-170.093958, 63.612716], [-170.044665, 63.492223], [-169.644848, 63.4265], [-169.518879, 63.366254], [-168.99857, 63.338869], [-168.686384, 63.295053], [-168.856169, 63.147176], [-169.108108, 63.180038], [-169.376478, 63.152653], [-169.513402, 63.08693], [-169.639372, 62.939052], [-169.831064, 63.075976], [-170.055619, 63.169084], [-170.263743, 63.180038], [-170.362328, 63.2841], [-170.866206, 63.415546], [-171.101715, 63.421023], [-171.463193, 63.306007], [-171.73704, 63.366254], [-171.852055, 63.486746], [-171.742517, 63.716778]]], [[[-172.432611, 52.390465], [-172.41618, 52.275449], [-172.607873, 52.253542], [-172.569535, 52.352127], [-172.432611, 52.390465]]], [[[-173.626584, 52.14948], [-173.495138, 52.105664], [-173.122706, 52.111141], [-173.106275, 52.07828], [-173.549907, 52.028987], [-173.626584, 52.14948]]], [[[-174.322156, 52.280926], [-174.327632, 52.379511], [-174.185232, 52.41785], [-173.982585, 52.319265], [-174.059262, 52.226157], [-174.179755, 52.231634], [-174.141417, 52.127572], [-174.333109, 52.116618], [-174.738403, 52.007079], [-174.968435, 52.039941], [-174.902711, 52.116618], [-174.656249, 52.105664], [-174.322156, 52.280926]]], [[[-176.469116, 51.853725], [-176.288377, 51.870156], [-176.288377, 51.744186], [-176.518409, 51.760617], [-176.80321, 51.61274], [-176.912748, 51.80991], [-176.792256, 51.815386], [-176.775825, 51.963264], [-176.627947, 51.968741], [-176.627947, 51.859202], [-176.469116, 51.853725]]], [[[-177.153734, 51.946833], [-177.044195, 51.897541], [-177.120872, 51.727755], [-177.274226, 51.678463], [-177.279703, 51.782525], [-177.153734, 51.946833]]], [[[-178.123152, 51.919448], [-177.953367, 51.913971], [-177.800013, 51.793479], [-177.964321, 51.651078], [-178.123152, 51.919448]]], [[[173.107557, 52.992929], [173.293773, 52.927205], [173.304726, 52.823143], [172.90491, 52.762897], [172.642017, 52.927205], [172.642017, 53.003883], [173.107557, 52.992929]]]], &quot;type&quot;: &quot;MultiPolygon&quot;}, &quot;id&quot;: &quot;AK&quot;, &quot;properties&quot;: {&quot;name&quot;: &quot;Alaska&quot;}, &quot;type&quot;: &quot;Feature&quot;}, {&quot;geometry&quot;: {&quot;coordinates&quot;: [[[-109.042503, 37.000263], [-109.04798, 31.331629], [-111.074448, 31.331629], [-112.246513, 31.704061], [-114.815198, 32.492741], [-114.72209, 32.717295], [-114.524921, 32.755634], [-114.470151, 32.843265], [-114.524921, 33.029481], [-114.661844, 33.034958], [-114.727567, 33.40739], [-114.524921, 33.54979], [-114.497536, 33.697668], [-114.535874, 33.933176], [-114.415382, 34.108438], [-114.256551, 34.174162], [-114.136058, 34.305608], [-114.333228, 34.448009], [-114.470151, 34.710902], [-114.634459, 34.87521], [-114.634459, 35.00118], [-114.574213, 35.138103], [-114.596121, 35.324319], [-114.678275, 35.516012], [-114.738521, 36.102045], [-114.371566, 36.140383], [-114.251074, 36.01989], [-114.152489, 36.025367], [-114.048427, 36.195153], [-114.048427, 37.000263], [-110.499369, 37.00574], [-109.042503, 37.000263]]], &quot;type&quot;: &quot;Polygon&quot;}, &quot;id&quot;: &quot;AZ&quot;, &quot;properties&quot;: {&quot;name&quot;: &quot;Arizona&quot;}, &quot;type&quot;: &quot;Feature&quot;}, {&quot;geometry&quot;: {&quot;coordinates&quot;: [[[-94.473842, 36.501861], [-90.152536, 36.496384], [-90.064905, 36.304691], [-90.218259, 36.184199], [-90.377091, 35.997983], [-89.730812, 35.997983], [-89.763673, 35.811767], [-89.911551, 35.756997], [-89.944412, 35.603643], [-90.130628, 35.439335], [-90.114197, 35.198349], [-90.212782, 35.023087], [-90.311367, 34.995703], [-90.251121, 34.908072], [-90.409952, 34.831394], [-90.481152, 34.661609], [-90.585214, 34.617794], [-90.568783, 34.420624], [-90.749522, 34.365854], [-90.744046, 34.300131], [-90.952169, 34.135823], [-90.891923, 34.026284], [-91.072662, 33.867453], [-91.231493, 33.560744], [-91.056231, 33.429298], [-91.143862, 33.347144], [-91.089093, 33.13902], [-91.16577, 33.002096], [-93.608485, 33.018527], [-94.041164, 33.018527], [-94.041164, 33.54979], [-94.183564, 33.593606], [-94.380734, 33.544313], [-94.484796, 33.637421], [-94.430026, 35.395519], [-94.616242, 36.501861], [-94.473842, 36.501861]]], &quot;type&quot;: &quot;Polygon&quot;}, &quot;id&quot;: &quot;AR&quot;, &quot;properties&quot;: {&quot;name&quot;: &quot;Arkansas&quot;}, &quot;type&quot;: &quot;Feature&quot;}, {&quot;geometry&quot;: {&quot;coordinates&quot;: [[[-123.233256, 42.006186], [-122.378853, 42.011663], [-121.037003, 41.995232], [-120.001861, 41.995232], [-119.996384, 40.264519], [-120.001861, 38.999346], [-118.71478, 38.101128], [-117.498899, 37.21934], [-116.540435, 36.501861], [-115.85034, 35.970598], [-114.634459, 35.00118], [-114.634459, 34.87521], [-114.470151, 34.710902], [-114.333228, 34.448009], [-114.136058, 34.305608], [-114.256551, 34.174162], [-114.415382, 34.108438], [-114.535874, 33.933176], [-114.497536, 33.697668], [-114.524921, 33.54979], [-114.727567, 33.40739], [-114.661844, 33.034958], [-114.524921, 33.029481], [-114.470151, 32.843265], [-114.524921, 32.755634], [-114.72209, 32.717295], [-116.04751, 32.624187], [-117.126467, 32.536556], [-117.24696, 32.668003], [-117.252437, 32.876127], [-117.329114, 33.122589], [-117.471515, 33.297851], [-117.7837, 33.538836], [-118.183517, 33.763391], [-118.260194, 33.703145], [-118.413548, 33.741483], [-118.391641, 33.840068], [-118.566903, 34.042715], [-118.802411, 33.998899], [-119.218659, 34.146777], [-119.278905, 34.26727], [-119.558229, 34.415147], [-119.875891, 34.40967], [-120.138784, 34.475393], [-120.472878, 34.448009], [-120.64814, 34.579455], [-120.609801, 34.858779], [-120.670048, 34.902595], [-120.631709, 35.099764], [-120.894602, 35.247642], [-120.905556, 35.450289], [-121.004141, 35.461243], [-121.168449, 35.636505], [-121.283465, 35.674843], [-121.332757, 35.784382], [-121.716143, 36.195153], [-121.896882, 36.315645], [-121.935221, 36.638785], [-121.858544, 36.6114], [-121.787344, 36.803093], [-121.929744, 36.978355], [-122.105006, 36.956447], [-122.335038, 37.115279], [-122.417192, 37.241248], [-122.400761, 37.361741], [-122.515777, 37.520572], [-122.515777, 37.783465], [-122.329561, 37.783465], [-122.406238, 38.15042], [-122.488392, 38.112082], [-122.504823, 37.931343], [-122.701993, 37.893004], [-122.937501, 38.029928], [-122.97584, 38.265436], [-123.129194, 38.451652], [-123.331841, 38.566668], [-123.44138, 38.698114], [-123.737134, 38.95553], [-123.687842, 39.032208], [-123.824765, 39.366301], [-123.764519, 39.552517], [-123.85215, 39.831841], [-124.109566, 40.105688], [-124.361506, 40.259042], [-124.410798, 40.439781], [-124.158859, 40.877937], [-124.109566, 41.025814], [-124.158859, 41.14083], [-124.065751, 41.442061], [-124.147905, 41.715908], [-124.257444, 41.781632], [-124.213628, 42.000709], [-123.233256, 42.006186]]], &quot;type&quot;: &quot;Polygon&quot;}, &quot;id&quot;: &quot;CA&quot;, &quot;properties&quot;: {&quot;name&quot;: &quot;California&quot;}, &quot;type&quot;: &quot;Feature&quot;}, {&quot;geometry&quot;: {&quot;coordinates&quot;: [[[-107.919731, 41.003906], [-105.728954, 40.998429], [-104.053011, 41.003906], [-102.053927, 41.003906], [-102.053927, 40.001626], [-102.042974, 36.994786], [-103.001438, 37.000263], [-104.337812, 36.994786], [-106.868158, 36.994786], [-107.421329, 37.000263], [-109.042503, 37.000263], [-109.042503, 38.166851], [-109.058934, 38.27639], [-109.053457, 39.125316], [-109.04798, 40.998429], [-107.919731, 41.003906]]], &quot;type&quot;: &quot;Polygon&quot;}, &quot;id&quot;: &quot;CO&quot;, &quot;properties&quot;: {&quot;name&quot;: &quot;Colorado&quot;}, &quot;type&quot;: &quot;Feature&quot;}, {&quot;geometry&quot;: {&quot;coordinates&quot;: [[[-73.053528, 42.039048], [-71.799309, 42.022617], [-71.799309, 42.006186], [-71.799309, 41.414677], [-71.859555, 41.321569], [-71.947186, 41.338], [-72.385341, 41.261322], [-72.905651, 41.28323], [-73.130205, 41.146307], [-73.371191, 41.102491], [-73.655992, 40.987475], [-73.727192, 41.102491], [-73.48073, 41.21203], [-73.55193, 41.294184], [-73.486206, 42.050002], [-73.053528, 42.039048]]], &quot;type&quot;: &quot;Polygon&quot;}, &quot;id&quot;: &quot;CT&quot;, &quot;properties&quot;: {&quot;name&quot;: &quot;Connecticut&quot;}, &quot;type&quot;: &quot;Feature&quot;}, {&quot;geometry&quot;: {&quot;coordinates&quot;: [[[-75.414089, 39.804456], [-75.507197, 39.683964], [-75.611259, 39.61824], [-75.589352, 39.459409], [-75.441474, 39.311532], [-75.403136, 39.065069], [-75.189535, 38.807653], [-75.09095, 38.796699], [-75.047134, 38.451652], [-75.693413, 38.462606], [-75.786521, 39.722302], [-75.616736, 39.831841], [-75.414089, 39.804456]]], &quot;type&quot;: &quot;Polygon&quot;}, &quot;id&quot;: &quot;DE&quot;, &quot;properties&quot;: {&quot;name&quot;: &quot;Delaware&quot;}, &quot;type&quot;: &quot;Feature&quot;}, {&quot;geometry&quot;: {&quot;coordinates&quot;: [[[-85.497137, 30.997536], [-85.004212, 31.003013], [-84.867289, 30.712735], [-83.498053, 30.647012], [-82.216449, 30.570335], [-82.167157, 30.356734], [-82.046664, 30.362211], [-82.002849, 30.564858], [-82.041187, 30.751074], [-81.948079, 30.827751], [-81.718048, 30.745597], [-81.444201, 30.707258], [-81.383954, 30.27458], [-81.257985, 29.787132], [-80.967707, 29.14633], [-80.524075, 28.461713], [-80.589798, 28.41242], [-80.56789, 28.094758], [-80.381674, 27.738757], [-80.091397, 27.021277], [-80.03115, 26.796723], [-80.036627, 26.566691], [-80.146166, 25.739673], [-80.239274, 25.723243], [-80.337859, 25.465826], [-80.304997, 25.383672], [-80.49669, 25.197456], [-80.573367, 25.241272], [-80.759583, 25.164595], [-81.077246, 25.120779], [-81.170354, 25.224841], [-81.126538, 25.378195], [-81.351093, 25.821827], [-81.526355, 25.903982], [-81.679709, 25.843735], [-81.800202, 26.090198], [-81.833064, 26.292844], [-82.041187, 26.517399], [-82.09048, 26.665276], [-82.057618, 26.878877], [-82.172634, 26.917216], [-82.145249, 26.791246], [-82.249311, 26.758384], [-82.566974, 27.300601], [-82.692943, 27.437525], [-82.391711, 27.837342], [-82.588881, 27.815434], [-82.720328, 27.689464], [-82.851774, 27.886634], [-82.676512, 28.434328], [-82.643651, 28.888914], [-82.764143, 28.998453], [-82.802482, 29.14633], [-82.994175, 29.179192], [-83.218729, 29.420177], [-83.399469, 29.518762], [-83.410422, 29.66664], [-83.536392, 29.721409], [-83.640454, 29.885717], [-84.02384, 30.104795], [-84.357933, 30.055502], [-84.341502, 29.902148], [-84.451041, 29.929533], [-84.867289, 29.743317], [-85.310921, 29.699501], [-85.299967, 29.80904], [-85.404029, 29.940487], [-85.924338, 30.236241], [-86.29677, 30.362211], [-86.630863, 30.395073], [-86.910187, 30.373165], [-87.518128, 30.280057], [-87.37025, 30.427934], [-87.446927, 30.510088], [-87.408589, 30.674397], [-87.633143, 30.86609], [-87.600282, 30.997536], [-85.497137, 30.997536]]], &quot;type&quot;: &quot;Polygon&quot;}, &quot;id&quot;: &quot;FL&quot;, &quot;properties&quot;: {&quot;name&quot;: &quot;Florida&quot;}, &quot;type&quot;: &quot;Feature&quot;}, {&quot;geometry&quot;: {&quot;coordinates&quot;: [[[-83.109191, 35.00118], [-83.322791, 34.787579], [-83.339222, 34.683517], [-83.005129, 34.469916], [-82.901067, 34.486347], [-82.747713, 34.26727], [-82.714851, 34.152254], [-82.55602, 33.94413], [-82.325988, 33.81816], [-82.194542, 33.631944], [-81.926172, 33.462159], [-81.937125, 33.347144], [-81.761863, 33.160928], [-81.493493, 33.007573], [-81.42777, 32.843265], [-81.416816, 32.629664], [-81.279893, 32.558464], [-81.121061, 32.290094], [-81.115584, 32.120309], [-80.885553, 32.032678], [-81.132015, 31.693108], [-81.175831, 31.517845], [-81.279893, 31.364491], [-81.290846, 31.20566], [-81.400385, 31.13446], [-81.444201, 30.707258], [-81.718048, 30.745597], [-81.948079, 30.827751], [-82.041187, 30.751074], [-82.002849, 30.564858], [-82.046664, 30.362211], [-82.167157, 30.356734], [-82.216449, 30.570335], [-83.498053, 30.647012], [-84.867289, 30.712735], [-85.004212, 31.003013], [-85.113751, 31.27686], [-85.042551, 31.539753], [-85.141136, 31.840985], [-85.053504, 32.01077], [-85.058981, 32.13674], [-84.889196, 32.262709], [-85.004212, 32.322956], [-84.960397, 32.421541], [-85.069935, 32.580372], [-85.184951, 32.859696], [-85.431413, 34.124869], [-85.606675, 34.984749], [-84.319594, 34.990226], [-83.618546, 34.984749], [-83.109191, 35.00118]]], &quot;type&quot;: &quot;Polygon&quot;}, &quot;id&quot;: &quot;GA&quot;, &quot;properties&quot;: {&quot;name&quot;: &quot;Georgia&quot;}, &quot;type&quot;: &quot;Feature&quot;}, {&quot;geometry&quot;: {&quot;coordinates&quot;: [[[[-155.634835, 18.948267], [-155.881297, 19.035898], [-155.919636, 19.123529], [-155.886774, 19.348084], [-156.062036, 19.73147], [-155.925113, 19.857439], [-155.826528, 20.032702], [-155.897728, 20.147717], [-155.87582, 20.26821], [-155.596496, 20.12581], [-155.284311, 20.021748], [-155.092618, 19.868393], [-155.092618, 19.736947], [-154.807817, 19.523346], [-154.983079, 19.348084], [-155.295265, 19.26593], [-155.514342, 19.134483], [-155.634835, 18.948267]]], [[[-156.587823, 21.029505], [-156.472807, 20.892581], [-156.324929, 20.952827], [-156.00179, 20.793996], [-156.051082, 20.651596], [-156.379699, 20.580396], [-156.445422, 20.60778], [-156.461853, 20.783042], [-156.631638, 20.821381], [-156.697361, 20.919966], [-156.587823, 21.029505]]], [[[-156.982162, 21.210244], [-157.080747, 21.106182], [-157.310779, 21.106182], [-157.239579, 21.221198], [-156.982162, 21.210244]]], [[[-157.951581, 21.697691], [-157.842042, 21.462183], [-157.896811, 21.325259], [-158.110412, 21.303352], [-158.252813, 21.582676], [-158.126843, 21.588153], [-157.951581, 21.697691]]], [[[-159.468693, 22.228955], [-159.353678, 22.218001], [-159.298908, 22.113939], [-159.33177, 21.966061], [-159.446786, 21.872953], [-159.764448, 21.987969], [-159.726109, 22.152277], [-159.468693, 22.228955]]]], &quot;type&quot;: &quot;MultiPolygon&quot;}, &quot;id&quot;: &quot;HI&quot;, &quot;properties&quot;: {&quot;name&quot;: &quot;Hawaii&quot;}, &quot;type&quot;: &quot;Feature&quot;}, {&quot;geometry&quot;: {&quot;coordinates&quot;: [[[-116.04751, 49.000239], [-116.04751, 47.976051], [-115.724371, 47.696727], [-115.718894, 47.42288], [-115.527201, 47.302388], [-115.324554, 47.258572], [-115.302646, 47.187372], [-114.930214, 46.919002], [-114.886399, 46.809463], [-114.623506, 46.705401], [-114.612552, 46.639678], [-114.322274, 46.645155], [-114.464674, 46.272723], [-114.492059, 46.037214], [-114.387997, 45.88386], [-114.568736, 45.774321], [-114.497536, 45.670259], [-114.546828, 45.560721], [-114.333228, 45.456659], [-114.086765, 45.593582], [-113.98818, 45.703121], [-113.807441, 45.604536], [-113.834826, 45.522382], [-113.736241, 45.330689], [-113.571933, 45.128042], [-113.45144, 45.056842], [-113.456917, 44.865149], [-113.341901, 44.782995], [-113.133778, 44.772041], [-113.002331, 44.448902], [-112.887315, 44.394132], [-112.783254, 44.48724], [-112.471068, 44.481763], [-112.241036, 44.569394], [-112.104113, 44.520102], [-111.868605, 44.563917], [-111.819312, 44.509148], [-111.616665, 44.547487], [-111.386634, 44.75561], [-111.227803, 44.580348], [-111.047063, 44.476286], [-111.047063, 42.000709], [-112.164359, 41.995232], [-114.04295, 41.995232], [-117.027882, 42.000709], [-117.027882, 43.830007], [-116.896436, 44.158624], [-116.97859, 44.240778], [-117.170283, 44.257209], [-117.241483, 44.394132], [-117.038836, 44.750133], [-116.934774, 44.782995], [-116.830713, 44.930872], [-116.847143, 45.02398], [-116.732128, 45.144473], [-116.671881, 45.319735], [-116.463758, 45.61549], [-116.545912, 45.752413], [-116.78142, 45.823614], [-116.918344, 45.993399], [-116.92382, 46.168661], [-117.055267, 46.343923], [-117.038836, 46.426077], [-117.044313, 47.762451], [-117.033359, 49.000239], [-116.04751, 49.000239]]], &quot;type&quot;: &quot;Polygon&quot;}, &quot;id&quot;: &quot;ID&quot;, &quot;properties&quot;: {&quot;name&quot;: &quot;Idaho&quot;}, &quot;type&quot;: &quot;Feature&quot;}, {&quot;geometry&quot;: {&quot;coordinates&quot;: [[[-90.639984, 42.510065], [-88.788778, 42.493634], [-87.802929, 42.493634], [-87.83579, 42.301941], [-87.682436, 42.077386], [-87.523605, 41.710431], [-87.529082, 39.34987], [-87.63862, 39.169131], [-87.512651, 38.95553], [-87.49622, 38.780268], [-87.62219, 38.637868], [-87.655051, 38.506421], [-87.83579, 38.292821], [-87.950806, 38.27639], [-87.923421, 38.15042], [-88.000098, 38.101128], [-88.060345, 37.865619], [-88.027483, 37.799896], [-88.15893, 37.657496], [-88.065822, 37.482234], [-88.476592, 37.389126], [-88.514931, 37.285064], [-88.421823, 37.153617], [-88.547792, 37.071463], [-88.914747, 37.224817], [-89.029763, 37.213863], [-89.183118, 37.038601], [-89.133825, 36.983832], [-89.292656, 36.994786], [-89.517211, 37.279587], [-89.435057, 37.34531], [-89.517211, 37.537003], [-89.517211, 37.690357], [-89.84035, 37.903958], [-89.949889, 37.88205], [-90.059428, 38.013497], [-90.355183, 38.216144], [-90.349706, 38.374975], [-90.179921, 38.632391], [-90.207305, 38.725499], [-90.10872, 38.845992], [-90.251121, 38.917192], [-90.470199, 38.961007], [-90.585214, 38.867899], [-90.661891, 38.928146], [-90.727615, 39.256762], [-91.061708, 39.470363], [-91.368417, 39.727779], [-91.494386, 40.034488], [-91.50534, 40.237135], [-91.417709, 40.379535], [-91.401278, 40.560274], [-91.121954, 40.669813], [-91.09457, 40.823167], [-90.963123, 40.921752], [-90.946692, 41.097014], [-91.111001, 41.239415], [-91.045277, 41.414677], [-90.656414, 41.463969], [-90.344229, 41.589939], [-90.311367, 41.743293], [-90.179921, 41.809016], [-90.141582, 42.000709], [-90.168967, 42.126679], [-90.393521, 42.225264], [-90.420906, 42.329326], [-90.639984, 42.510065]]], &quot;type&quot;: &quot;Polygon&quot;}, &quot;id&quot;: &quot;IL&quot;, &quot;properties&quot;: {&quot;name&quot;: &quot;Illinois&quot;}, &quot;type&quot;: &quot;Feature&quot;}, {&quot;geometry&quot;: {&quot;coordinates&quot;: [[[-85.990061, 41.759724], [-84.807042, 41.759724], [-84.807042, 41.694001], [-84.801565, 40.500028], [-84.817996, 39.103408], [-84.894673, 39.059592], [-84.812519, 38.785745], [-84.987781, 38.780268], [-85.173997, 38.68716], [-85.431413, 38.730976], [-85.42046, 38.533806], [-85.590245, 38.451652], [-85.655968, 38.325682], [-85.83123, 38.27639], [-85.924338, 38.024451], [-86.039354, 37.958727], [-86.263908, 38.051835], [-86.302247, 38.166851], [-86.521325, 38.040881], [-86.504894, 37.931343], [-86.729448, 37.893004], [-86.795172, 37.991589], [-87.047111, 37.893004], [-87.129265, 37.788942], [-87.381204, 37.93682], [-87.512651, 37.903958], [-87.600282, 37.975158], [-87.682436, 37.903958], [-87.934375, 37.893004], [-88.027483, 37.799896], [-88.060345, 37.865619], [-88.000098, 38.101128], [-87.923421, 38.15042], [-87.950806, 38.27639], [-87.83579, 38.292821], [-87.655051, 38.506421], [-87.62219, 38.637868], [-87.49622, 38.780268], [-87.512651, 38.95553], [-87.63862, 39.169131], [-87.529082, 39.34987], [-87.523605, 41.710431], [-87.42502, 41.644708], [-87.118311, 41.644708], [-86.822556, 41.759724], [-85.990061, 41.759724]]], &quot;type&quot;: &quot;Polygon&quot;}, &quot;id&quot;: &quot;IN&quot;, &quot;properties&quot;: {&quot;name&quot;: &quot;Indiana&quot;}, &quot;type&quot;: &quot;Feature&quot;}, {&quot;geometry&quot;: {&quot;coordinates&quot;: [[[-91.368417, 43.501391], [-91.215062, 43.501391], [-91.204109, 43.353514], [-91.056231, 43.254929], [-91.176724, 43.134436], [-91.143862, 42.909881], [-91.067185, 42.75105], [-90.711184, 42.636034], [-90.639984, 42.510065], [-90.420906, 42.329326], [-90.393521, 42.225264], [-90.168967, 42.126679], [-90.141582, 42.000709], [-90.179921, 41.809016], [-90.311367, 41.743293], [-90.344229, 41.589939], [-90.656414, 41.463969], [-91.045277, 41.414677], [-91.111001, 41.239415], [-90.946692, 41.097014], [-90.963123, 40.921752], [-91.09457, 40.823167], [-91.121954, 40.669813], [-91.401278, 40.560274], [-91.417709, 40.379535], [-91.527248, 40.412397], [-91.729895, 40.615043], [-91.833957, 40.609566], [-93.257961, 40.582182], [-94.632673, 40.571228], [-95.7664, 40.587659], [-95.881416, 40.719105], [-95.826646, 40.976521], [-95.925231, 41.201076], [-95.919754, 41.453015], [-96.095016, 41.540646], [-96.122401, 41.67757], [-96.062155, 41.798063], [-96.127878, 41.973325], [-96.264801, 42.039048], [-96.44554, 42.488157], [-96.631756, 42.707235], [-96.544125, 42.855112], [-96.511264, 43.052282], [-96.434587, 43.123482], [-96.560556, 43.222067], [-96.527695, 43.397329], [-96.582464, 43.479483], [-96.451017, 43.501391], [-91.368417, 43.501391]]], &quot;type&quot;: &quot;Polygon&quot;}, &quot;id&quot;: &quot;IA&quot;, &quot;properties&quot;: {&quot;name&quot;: &quot;Iowa&quot;}, &quot;type&quot;: &quot;Feature&quot;}, {&quot;geometry&quot;: {&quot;coordinates&quot;: [[[-101.90605, 40.001626], [-95.306337, 40.001626], [-95.207752, 39.908518], [-94.884612, 39.831841], [-95.109167, 39.541563], [-94.983197, 39.442978], [-94.824366, 39.20747], [-94.610765, 39.158177], [-94.616242, 37.000263], [-100.087706, 37.000263], [-102.042974, 36.994786], [-102.053927, 40.001626], [-101.90605, 40.001626]]], &quot;type&quot;: &quot;Polygon&quot;}, &quot;id&quot;: &quot;KS&quot;, &quot;properties&quot;: {&quot;name&quot;: &quot;Kansas&quot;}, &quot;type&quot;: &quot;Feature&quot;}, {&quot;geometry&quot;: {&quot;coordinates&quot;: [[[-83.903347, 38.769315], [-83.678792, 38.632391], [-83.519961, 38.703591], [-83.142052, 38.626914], [-83.032514, 38.725499], [-82.890113, 38.758361], [-82.846298, 38.588575], [-82.731282, 38.561191], [-82.594358, 38.424267], [-82.621743, 38.123036], [-82.50125, 37.931343], [-82.342419, 37.783465], [-82.293127, 37.668449], [-82.101434, 37.553434], [-81.969987, 37.537003], [-82.353373, 37.268633], [-82.720328, 37.120755], [-82.720328, 37.044078], [-82.868205, 36.978355], [-82.879159, 36.890724], [-83.070852, 36.852385], [-83.136575, 36.742847], [-83.673316, 36.600446], [-83.689746, 36.584015], [-84.544149, 36.594969], [-85.289013, 36.627831], [-85.486183, 36.616877], [-86.592525, 36.655216], [-87.852221, 36.633308], [-88.071299, 36.677123], [-88.054868, 36.496384], [-89.298133, 36.507338], [-89.418626, 36.496384], [-89.363857, 36.622354], [-89.215979, 36.578538], [-89.133825, 36.983832], [-89.183118, 37.038601], [-89.029763, 37.213863], [-88.914747, 37.224817], [-88.547792, 37.071463], [-88.421823, 37.153617], [-88.514931, 37.285064], [-88.476592, 37.389126], [-88.065822, 37.482234], [-88.15893, 37.657496], [-88.027483, 37.799896], [-87.934375, 37.893004], [-87.682436, 37.903958], [-87.600282, 37.975158], [-87.512651, 37.903958], [-87.381204, 37.93682], [-87.129265, 37.788942], [-87.047111, 37.893004], [-86.795172, 37.991589], [-86.729448, 37.893004], [-86.504894, 37.931343], [-86.521325, 38.040881], [-86.302247, 38.166851], [-86.263908, 38.051835], [-86.039354, 37.958727], [-85.924338, 38.024451], [-85.83123, 38.27639], [-85.655968, 38.325682], [-85.590245, 38.451652], [-85.42046, 38.533806], [-85.431413, 38.730976], [-85.173997, 38.68716], [-84.987781, 38.780268], [-84.812519, 38.785745], [-84.894673, 39.059592], [-84.817996, 39.103408], [-84.43461, 39.103408], [-84.231963, 38.895284], [-84.215533, 38.807653], [-83.903347, 38.769315]]], &quot;type&quot;: &quot;Polygon&quot;}, &quot;id&quot;: &quot;KY&quot;, &quot;properties&quot;: {&quot;name&quot;: &quot;Kentucky&quot;}, &quot;type&quot;: &quot;Feature&quot;}, {&quot;geometry&quot;: {&quot;coordinates&quot;: [[[-93.608485, 33.018527], [-91.16577, 33.002096], [-91.072662, 32.887081], [-91.143862, 32.843265], [-91.154816, 32.640618], [-91.006939, 32.514649], [-90.985031, 32.218894], [-91.105524, 31.988862], [-91.341032, 31.846462], [-91.401278, 31.621907], [-91.499863, 31.643815], [-91.516294, 31.27686], [-91.636787, 31.265906], [-91.565587, 31.068736], [-91.636787, 30.997536], [-89.747242, 30.997536], [-89.845827, 30.66892], [-89.681519, 30.449842], [-89.643181, 30.285534], [-89.522688, 30.181472], [-89.818443, 30.044549], [-89.84035, 29.945964], [-89.599365, 29.88024], [-89.495303, 30.039072], [-89.287179, 29.88024], [-89.30361, 29.754271], [-89.424103, 29.699501], [-89.648657, 29.748794], [-89.621273, 29.655686], [-89.69795, 29.513285], [-89.506257, 29.387316], [-89.199548, 29.348977], [-89.09001, 29.2011], [-89.002379, 29.179192], [-89.16121, 29.009407], [-89.336472, 29.042268], [-89.484349, 29.217531], [-89.851304, 29.310638], [-89.851304, 29.480424], [-90.032043, 29.425654], [-90.021089, 29.283254], [-90.103244, 29.151807], [-90.23469, 29.129899], [-90.333275, 29.277777], [-90.563307, 29.283254], [-90.645461, 29.129899], [-90.798815, 29.086084], [-90.963123, 29.179192], [-91.09457, 29.190146], [-91.220539, 29.436608], [-91.445094, 29.546147], [-91.532725, 29.529716], [-91.620356, 29.73784], [-91.883249, 29.710455], [-91.888726, 29.836425], [-92.146142, 29.715932], [-92.113281, 29.622824], [-92.31045, 29.535193], [-92.617159, 29.579009], [-92.97316, 29.715932], [-93.2251, 29.776178], [-93.767317, 29.726886], [-93.838517, 29.688547], [-93.926148, 29.787132], [-93.690639, 30.143133], [-93.767317, 30.334826], [-93.696116, 30.438888], [-93.728978, 30.575812], [-93.630393, 30.679874], [-93.526331, 30.93729], [-93.542762, 31.15089], [-93.816609, 31.556184], [-93.822086, 31.775262], [-94.041164, 31.994339], [-94.041164, 33.018527], [-93.608485, 33.018527]]], &quot;type&quot;: &quot;Polygon&quot;}, &quot;id&quot;: &quot;LA&quot;, &quot;properties&quot;: {&quot;name&quot;: &quot;Louisiana&quot;}, &quot;type&quot;: &quot;Feature&quot;}, {&quot;geometry&quot;: {&quot;coordinates&quot;: [[[-70.703921, 43.057759], [-70.824413, 43.128959], [-70.807983, 43.227544], [-70.966814, 43.34256], [-71.032537, 44.657025], [-71.08183, 45.303304], [-70.649151, 45.440228], [-70.720352, 45.511428], [-70.556043, 45.664782], [-70.386258, 45.735983], [-70.41912, 45.796229], [-70.260289, 45.889337], [-70.309581, 46.064599], [-70.210996, 46.327492], [-70.057642, 46.415123], [-69.997395, 46.694447], [-69.225147, 47.461219], [-69.044408, 47.428357], [-69.033454, 47.242141], [-68.902007, 47.176418], [-68.578868, 47.285957], [-68.376221, 47.285957], [-68.233821, 47.357157], [-67.954497, 47.198326], [-67.790188, 47.066879], [-67.779235, 45.944106], [-67.801142, 45.675736], [-67.456095, 45.604536], [-67.505388, 45.48952], [-67.417757, 45.379982], [-67.488957, 45.281397], [-67.346556, 45.128042], [-67.16034, 45.160904], [-66.979601, 44.804903], [-67.187725, 44.646072], [-67.308218, 44.706318], [-67.406803, 44.596779], [-67.549203, 44.624164], [-67.565634, 44.531056], [-67.75185, 44.54201], [-68.047605, 44.328409], [-68.118805, 44.476286], [-68.222867, 44.48724], [-68.173574, 44.328409], [-68.403606, 44.251732], [-68.458375, 44.377701], [-68.567914, 44.311978], [-68.82533, 44.311978], [-68.830807, 44.459856], [-68.984161, 44.426994], [-68.956777, 44.322932], [-69.099177, 44.103854], [-69.071793, 44.043608], [-69.258008, 43.923115], [-69.444224, 43.966931], [-69.553763, 43.840961], [-69.707118, 43.82453], [-69.833087, 43.720469], [-69.986442, 43.742376], [-70.030257, 43.851915], [-70.254812, 43.676653], [-70.194565, 43.567114], [-70.358873, 43.528776], [-70.369827, 43.435668], [-70.556043, 43.320652], [-70.703921, 43.057759]]], &quot;type&quot;: &quot;Polygon&quot;}, &quot;id&quot;: &quot;ME&quot;, &quot;properties&quot;: {&quot;name&quot;: &quot;Maine&quot;}, &quot;type&quot;: &quot;Feature&quot;}, {&quot;geometry&quot;: {&quot;coordinates&quot;: [[[[-75.994645, 37.95325], [-76.016553, 37.95325], [-76.043938, 37.95325], [-75.994645, 37.95325]]], [[[-79.477979, 39.722302], [-75.786521, 39.722302], [-75.693413, 38.462606], [-75.047134, 38.451652], [-75.244304, 38.029928], [-75.397659, 38.013497], [-75.671506, 37.95325], [-75.885106, 37.909435], [-75.879629, 38.073743], [-75.961783, 38.139466], [-75.846768, 38.210667], [-76.000122, 38.374975], [-76.049415, 38.303775], [-76.257538, 38.320205], [-76.328738, 38.500944], [-76.263015, 38.500944], [-76.257538, 38.736453], [-76.191815, 38.829561], [-76.279446, 39.147223], [-76.169907, 39.333439], [-76.000122, 39.366301], [-75.972737, 39.557994], [-76.098707, 39.536086], [-76.104184, 39.437501], [-76.367077, 39.311532], [-76.443754, 39.196516], [-76.460185, 38.906238], [-76.55877, 38.769315], [-76.514954, 38.539283], [-76.383508, 38.380452], [-76.399939, 38.259959], [-76.317785, 38.139466], [-76.3616, 38.057312], [-76.591632, 38.216144], [-76.920248, 38.292821], [-77.018833, 38.446175], [-77.205049, 38.358544], [-77.276249, 38.479037], [-77.128372, 38.632391], [-77.040741, 38.791222], [-76.909294, 38.895284], [-77.035264, 38.993869], [-77.117418, 38.933623], [-77.248864, 39.026731], [-77.456988, 39.076023], [-77.456988, 39.223901], [-77.566527, 39.306055], [-77.719881, 39.322485], [-77.834897, 39.601809], [-78.004682, 39.601809], [-78.174467, 39.694917], [-78.267575, 39.61824], [-78.431884, 39.623717], [-78.470222, 39.514178], [-78.765977, 39.585379], [-78.963147, 39.437501], [-79.094593, 39.470363], [-79.291763, 39.300578], [-79.488933, 39.20747], [-79.477979, 39.722302]]]], &quot;type&quot;: &quot;MultiPolygon&quot;}, &quot;id&quot;: &quot;MD&quot;, &quot;properties&quot;: {&quot;name&quot;: &quot;Maryland&quot;}, &quot;type&quot;: &quot;Feature&quot;}, {&quot;geometry&quot;: {&quot;coordinates&quot;: [[[-70.917521, 42.887974], [-70.818936, 42.871543], [-70.780598, 42.696281], [-70.824413, 42.55388], [-70.983245, 42.422434], [-70.988722, 42.269079], [-70.769644, 42.247172], [-70.638197, 42.08834], [-70.660105, 41.962371], [-70.550566, 41.929509], [-70.539613, 41.814493], [-70.260289, 41.715908], [-69.937149, 41.809016], [-70.008349, 41.672093], [-70.484843, 41.5516], [-70.660105, 41.546123], [-70.764167, 41.639231], [-70.928475, 41.611847], [-70.933952, 41.540646], [-71.120168, 41.496831], [-71.196845, 41.67757], [-71.22423, 41.710431], [-71.328292, 41.781632], [-71.383061, 42.01714], [-71.530939, 42.01714], [-71.799309, 42.006186], [-71.799309, 42.022617], [-73.053528, 42.039048], [-73.486206, 42.050002], [-73.508114, 42.08834], [-73.267129, 42.745573], [-72.456542, 42.729142], [-71.29543, 42.696281], [-71.185891, 42.789389], [-70.917521, 42.887974]]], &quot;type&quot;: &quot;Polygon&quot;}, &quot;id&quot;: &quot;MA&quot;, &quot;properties&quot;: {&quot;name&quot;: &quot;Massachusetts&quot;}, &quot;type&quot;: &quot;Feature&quot;}, {&quot;geometry&quot;: {&quot;coordinates&quot;: [[[[-83.454238, 41.732339], [-84.807042, 41.694001], [-84.807042, 41.759724], [-85.990061, 41.759724], [-86.822556, 41.759724], [-86.619909, 41.891171], [-86.482986, 42.115725], [-86.357016, 42.252649], [-86.263908, 42.444341], [-86.209139, 42.718189], [-86.231047, 43.013943], [-86.526801, 43.594499], [-86.433693, 43.813577], [-86.499417, 44.07647], [-86.269385, 44.34484], [-86.220093, 44.569394], [-86.252954, 44.689887], [-86.088646, 44.73918], [-86.066738, 44.903488], [-85.809322, 44.947303], [-85.612152, 45.128042], [-85.628583, 44.766564], [-85.524521, 44.750133], [-85.393075, 44.930872], [-85.387598, 45.237581], [-85.305444, 45.314258], [-85.031597, 45.363551], [-85.119228, 45.577151], [-84.938489, 45.75789], [-84.713934, 45.768844], [-84.461995, 45.653829], [-84.215533, 45.637398], [-84.09504, 45.494997], [-83.908824, 45.484043], [-83.596638, 45.352597], [-83.4871, 45.358074], [-83.317314, 45.144473], [-83.454238, 45.029457], [-83.322791, 44.88158], [-83.273499, 44.711795], [-83.333745, 44.339363], [-83.536392, 44.246255], [-83.585684, 44.054562], [-83.82667, 43.988839], [-83.958116, 43.758807], [-83.908824, 43.671176], [-83.667839, 43.589022], [-83.481623, 43.714992], [-83.262545, 43.972408], [-82.917498, 44.070993], [-82.747713, 43.994316], [-82.643651, 43.851915], [-82.539589, 43.435668], [-82.523158, 43.227544], [-82.413619, 42.975605], [-82.517681, 42.614127], [-82.681989, 42.559357], [-82.687466, 42.690804], [-82.797005, 42.652465], [-82.922975, 42.351234], [-83.125621, 42.236218], [-83.185868, 42.006186], [-83.437807, 41.814493], [-83.454238, 41.732339]]], [[[-85.508091, 45.730506], [-85.49166, 45.610013], [-85.623106, 45.588105], [-85.568337, 45.75789], [-85.508091, 45.730506]]], [[[-87.589328, 45.095181], [-87.742682, 45.199243], [-87.649574, 45.341643], [-87.885083, 45.363551], [-87.791975, 45.500474], [-87.781021, 45.675736], [-87.989145, 45.796229], [-88.10416, 45.922199], [-88.531362, 46.020784], [-88.662808, 45.987922], [-89.09001, 46.135799], [-90.119674, 46.338446], [-90.229213, 46.508231], [-90.415429, 46.568478], [-90.026566, 46.672539], [-89.851304, 46.793032], [-89.413149, 46.842325], [-89.128348, 46.990202], [-88.996902, 46.995679], [-88.887363, 47.099741], [-88.575177, 47.247618], [-88.416346, 47.373588], [-88.180837, 47.455742], [-87.956283, 47.384542], [-88.350623, 47.077833], [-88.443731, 46.973771], [-88.438254, 46.787555], [-88.246561, 46.929956], [-87.901513, 46.908048], [-87.633143, 46.809463], [-87.392158, 46.535616], [-87.260711, 46.486323], [-87.008772, 46.530139], [-86.948526, 46.469893], [-86.696587, 46.437031], [-86.159846, 46.667063], [-85.880522, 46.68897], [-85.508091, 46.678016], [-85.256151, 46.754694], [-85.064458, 46.760171], [-85.02612, 46.480847], [-84.82895, 46.442508], [-84.63178, 46.486323], [-84.549626, 46.4206], [-84.418179, 46.502754], [-84.127902, 46.530139], [-84.122425, 46.179615], [-83.990978, 46.031737], [-83.793808, 45.993399], [-83.7719, 46.091984], [-83.580208, 46.091984], [-83.476146, 45.987922], [-83.563777, 45.911245], [-84.111471, 45.976968], [-84.374364, 45.933153], [-84.659165, 46.053645], [-84.741319, 45.944106], [-84.70298, 45.850998], [-84.82895, 45.872906], [-85.015166, 46.00983], [-85.338305, 46.091984], [-85.502614, 46.097461], [-85.661445, 45.966014], [-85.924338, 45.933153], [-86.209139, 45.960537], [-86.324155, 45.905768], [-86.351539, 45.796229], [-86.663725, 45.703121], [-86.647294, 45.834568], [-86.784218, 45.861952], [-86.838987, 45.725029], [-87.069019, 45.719552], [-87.17308, 45.659305], [-87.326435, 45.423797], [-87.611236, 45.122565], [-87.589328, 45.095181]]], [[[-88.805209, 47.976051], [-89.057148, 47.850082], [-89.188594, 47.833651], [-89.177641, 47.937713], [-88.547792, 48.173221], [-88.668285, 48.008913], [-88.805209, 47.976051]]]], &quot;type&quot;: &quot;MultiPolygon&quot;}, &quot;id&quot;: &quot;MI&quot;, &quot;properties&quot;: {&quot;name&quot;: &quot;Michigan&quot;}, &quot;type&quot;: &quot;Feature&quot;}, {&quot;geometry&quot;: {&quot;coordinates&quot;: [[[-92.014696, 46.705401], [-92.091373, 46.749217], [-92.29402, 46.667063], [-92.29402, 46.075553], [-92.354266, 46.015307], [-92.639067, 45.933153], [-92.869098, 45.719552], [-92.885529, 45.577151], [-92.770513, 45.566198], [-92.644544, 45.440228], [-92.75956, 45.286874], [-92.737652, 45.117088], [-92.808852, 44.750133], [-92.545959, 44.569394], [-92.337835, 44.552964], [-92.233773, 44.443425], [-91.927065, 44.333886], [-91.877772, 44.202439], [-91.592971, 44.032654], [-91.43414, 43.994316], [-91.242447, 43.775238], [-91.269832, 43.616407], [-91.215062, 43.501391], [-91.368417, 43.501391], [-96.451017, 43.501391], [-96.451017, 45.297827], [-96.681049, 45.412843], [-96.856311, 45.604536], [-96.582464, 45.818137], [-96.560556, 45.933153], [-96.598895, 46.332969], [-96.719387, 46.437031], [-96.801542, 46.656109], [-96.785111, 46.924479], [-96.823449, 46.968294], [-96.856311, 47.609096], [-97.053481, 47.948667], [-97.130158, 48.140359], [-97.16302, 48.545653], [-97.097296, 48.682577], [-97.228743, 49.000239], [-95.152983, 49.000239], [-95.152983, 49.383625], [-94.955813, 49.372671], [-94.824366, 49.295994], [-94.69292, 48.775685], [-94.588858, 48.715438], [-94.260241, 48.699007], [-94.221903, 48.649715], [-93.838517, 48.627807], [-93.794701, 48.518268], [-93.466085, 48.545653], [-93.466085, 48.589469], [-93.208669, 48.644238], [-92.984114, 48.62233], [-92.726698, 48.540176], [-92.655498, 48.436114], [-92.50762, 48.447068], [-92.370697, 48.222514], [-92.304974, 48.315622], [-92.053034, 48.359437], [-92.009219, 48.266329], [-91.713464, 48.200606], [-91.713464, 48.112975], [-91.565587, 48.041775], [-91.264355, 48.080113], [-91.083616, 48.178698], [-90.837154, 48.238944], [-90.749522, 48.091067], [-90.579737, 48.123929], [-90.377091, 48.091067], [-90.141582, 48.112975], [-89.873212, 47.987005], [-89.615796, 48.008913], [-89.637704, 47.954144], [-89.971797, 47.828174], [-90.437337, 47.729589], [-90.738569, 47.625527], [-91.171247, 47.368111], [-91.357463, 47.20928], [-91.642264, 47.028541], [-92.091373, 46.787555], [-92.014696, 46.705401]]], &quot;type&quot;: &quot;Polygon&quot;}, &quot;id&quot;: &quot;MN&quot;, &quot;properties&quot;: {&quot;name&quot;: &quot;Minnesota&quot;}, &quot;type&quot;: &quot;Feature&quot;}, {&quot;geometry&quot;: {&quot;coordinates&quot;: [[[-88.471115, 34.995703], [-88.202745, 34.995703], [-88.098683, 34.891641], [-88.241084, 33.796253], [-88.471115, 31.895754], [-88.394438, 30.367688], [-88.503977, 30.323872], [-88.744962, 30.34578], [-88.843547, 30.411504], [-89.084533, 30.367688], [-89.418626, 30.252672], [-89.522688, 30.181472], [-89.643181, 30.285534], [-89.681519, 30.449842], [-89.845827, 30.66892], [-89.747242, 30.997536], [-91.636787, 30.997536], [-91.565587, 31.068736], [-91.636787, 31.265906], [-91.516294, 31.27686], [-91.499863, 31.643815], [-91.401278, 31.621907], [-91.341032, 31.846462], [-91.105524, 31.988862], [-90.985031, 32.218894], [-91.006939, 32.514649], [-91.154816, 32.640618], [-91.143862, 32.843265], [-91.072662, 32.887081], [-91.16577, 33.002096], [-91.089093, 33.13902], [-91.143862, 33.347144], [-91.056231, 33.429298], [-91.231493, 33.560744], [-91.072662, 33.867453], [-90.891923, 34.026284], [-90.952169, 34.135823], [-90.744046, 34.300131], [-90.749522, 34.365854], [-90.568783, 34.420624], [-90.585214, 34.617794], [-90.481152, 34.661609], [-90.409952, 34.831394], [-90.251121, 34.908072], [-90.311367, 34.995703], [-88.471115, 34.995703]]], &quot;type&quot;: &quot;Polygon&quot;}, &quot;id&quot;: &quot;MS&quot;, &quot;properties&quot;: {&quot;name&quot;: &quot;Mississippi&quot;}, &quot;type&quot;: &quot;Feature&quot;}, {&quot;geometry&quot;: {&quot;coordinates&quot;: [[[-91.833957, 40.609566], [-91.729895, 40.615043], [-91.527248, 40.412397], [-91.417709, 40.379535], [-91.50534, 40.237135], [-91.494386, 40.034488], [-91.368417, 39.727779], [-91.061708, 39.470363], [-90.727615, 39.256762], [-90.661891, 38.928146], [-90.585214, 38.867899], [-90.470199, 38.961007], [-90.251121, 38.917192], [-90.10872, 38.845992], [-90.207305, 38.725499], [-90.179921, 38.632391], [-90.349706, 38.374975], [-90.355183, 38.216144], [-90.059428, 38.013497], [-89.949889, 37.88205], [-89.84035, 37.903958], [-89.517211, 37.690357], [-89.517211, 37.537003], [-89.435057, 37.34531], [-89.517211, 37.279587], [-89.292656, 36.994786], [-89.133825, 36.983832], [-89.215979, 36.578538], [-89.363857, 36.622354], [-89.418626, 36.496384], [-89.484349, 36.496384], [-89.539119, 36.496384], [-89.533642, 36.249922], [-89.730812, 35.997983], [-90.377091, 35.997983], [-90.218259, 36.184199], [-90.064905, 36.304691], [-90.152536, 36.496384], [-94.473842, 36.501861], [-94.616242, 36.501861], [-94.616242, 37.000263], [-94.610765, 39.158177], [-94.824366, 39.20747], [-94.983197, 39.442978], [-95.109167, 39.541563], [-94.884612, 39.831841], [-95.207752, 39.908518], [-95.306337, 40.001626], [-95.552799, 40.264519], [-95.7664, 40.587659], [-94.632673, 40.571228], [-93.257961, 40.582182], [-91.833957, 40.609566]]], &quot;type&quot;: &quot;Polygon&quot;}, &quot;id&quot;: &quot;MO&quot;, &quot;properties&quot;: {&quot;name&quot;: &quot;Missouri&quot;}, &quot;type&quot;: &quot;Feature&quot;}, {&quot;geometry&quot;: {&quot;coordinates&quot;: [[[-104.047534, 49.000239], [-104.042057, 47.861036], [-104.047534, 45.944106], [-104.042057, 44.996596], [-104.058488, 44.996596], [-105.91517, 45.002073], [-109.080842, 45.002073], [-111.05254, 45.002073], [-111.047063, 44.476286], [-111.227803, 44.580348], [-111.386634, 44.75561], [-111.616665, 44.547487], [-111.819312, 44.509148], [-111.868605, 44.563917], [-112.104113, 44.520102], [-112.241036, 44.569394], [-112.471068, 44.481763], [-112.783254, 44.48724], [-112.887315, 44.394132], [-113.002331, 44.448902], [-113.133778, 44.772041], [-113.341901, 44.782995], [-113.456917, 44.865149], [-113.45144, 45.056842], [-113.571933, 45.128042], [-113.736241, 45.330689], [-113.834826, 45.522382], [-113.807441, 45.604536], [-113.98818, 45.703121], [-114.086765, 45.593582], [-114.333228, 45.456659], [-114.546828, 45.560721], [-114.497536, 45.670259], [-114.568736, 45.774321], [-114.387997, 45.88386], [-114.492059, 46.037214], [-114.464674, 46.272723], [-114.322274, 46.645155], [-114.612552, 46.639678], [-114.623506, 46.705401], [-114.886399, 46.809463], [-114.930214, 46.919002], [-115.302646, 47.187372], [-115.324554, 47.258572], [-115.527201, 47.302388], [-115.718894, 47.42288], [-115.724371, 47.696727], [-116.04751, 47.976051], [-116.04751, 49.000239], [-111.50165, 48.994762], [-109.453274, 49.000239], [-104.047534, 49.000239]]], &quot;type&quot;: &quot;Polygon&quot;}, &quot;id&quot;: &quot;MT&quot;, &quot;properties&quot;: {&quot;name&quot;: &quot;Montana&quot;}, &quot;type&quot;: &quot;Feature&quot;}, {&quot;geometry&quot;: {&quot;coordinates&quot;: [[[-103.324578, 43.002989], [-101.626726, 42.997512], [-98.499393, 42.997512], [-98.466531, 42.94822], [-97.951699, 42.767481], [-97.831206, 42.866066], [-97.688806, 42.844158], [-97.217789, 42.844158], [-96.692003, 42.657942], [-96.626279, 42.515542], [-96.44554, 42.488157], [-96.264801, 42.039048], [-96.127878, 41.973325], [-96.062155, 41.798063], [-96.122401, 41.67757], [-96.095016, 41.540646], [-95.919754, 41.453015], [-95.925231, 41.201076], [-95.826646, 40.976521], [-95.881416, 40.719105], [-95.7664, 40.587659], [-95.552799, 40.264519], [-95.306337, 40.001626], [-101.90605, 40.001626], [-102.053927, 40.001626], [-102.053927, 41.003906], [-104.053011, 41.003906], [-104.053011, 43.002989], [-103.324578, 43.002989]]], &quot;type&quot;: &quot;Polygon&quot;}, &quot;id&quot;: &quot;NE&quot;, &quot;properties&quot;: {&quot;name&quot;: &quot;Nebraska&quot;}, &quot;type&quot;: &quot;Feature&quot;}, {&quot;geometry&quot;: {&quot;coordinates&quot;: [[[-117.027882, 42.000709], [-114.04295, 41.995232], [-114.048427, 37.000263], [-114.048427, 36.195153], [-114.152489, 36.025367], [-114.251074, 36.01989], [-114.371566, 36.140383], [-114.738521, 36.102045], [-114.678275, 35.516012], [-114.596121, 35.324319], [-114.574213, 35.138103], [-114.634459, 35.00118], [-115.85034, 35.970598], [-116.540435, 36.501861], [-117.498899, 37.21934], [-118.71478, 38.101128], [-120.001861, 38.999346], [-119.996384, 40.264519], [-120.001861, 41.995232], [-118.698349, 41.989755], [-117.027882, 42.000709]]], &quot;type&quot;: &quot;Polygon&quot;}, &quot;id&quot;: &quot;NV&quot;, &quot;properties&quot;: {&quot;name&quot;: &quot;Nevada&quot;}, &quot;type&quot;: &quot;Feature&quot;}, {&quot;geometry&quot;: {&quot;coordinates&quot;: [[[-71.08183, 45.303304], [-71.032537, 44.657025], [-70.966814, 43.34256], [-70.807983, 43.227544], [-70.824413, 43.128959], [-70.703921, 43.057759], [-70.818936, 42.871543], [-70.917521, 42.887974], [-71.185891, 42.789389], [-71.29543, 42.696281], [-72.456542, 42.729142], [-72.544173, 42.80582], [-72.533219, 42.953697], [-72.445588, 43.008466], [-72.456542, 43.150867], [-72.379864, 43.572591], [-72.204602, 43.769761], [-72.116971, 43.994316], [-72.02934, 44.07647], [-72.034817, 44.322932], [-71.700724, 44.41604], [-71.536416, 44.585825], [-71.629524, 44.750133], [-71.4926, 44.914442], [-71.503554, 45.013027], [-71.361154, 45.270443], [-71.131122, 45.243058], [-71.08183, 45.303304]]], &quot;type&quot;: &quot;Polygon&quot;}, &quot;id&quot;: &quot;NH&quot;, &quot;properties&quot;: {&quot;name&quot;: &quot;New Hampshire&quot;}, &quot;type&quot;: &quot;Feature&quot;}, {&quot;geometry&quot;: {&quot;coordinates&quot;: [[[-74.236547, 41.14083], [-73.902454, 40.998429], [-74.022947, 40.708151], [-74.187255, 40.642428], [-74.274886, 40.489074], [-74.001039, 40.412397], [-73.979131, 40.297381], [-74.099624, 39.760641], [-74.411809, 39.360824], [-74.614456, 39.245808], [-74.795195, 38.993869], [-74.888303, 39.158177], [-75.178581, 39.240331], [-75.534582, 39.459409], [-75.55649, 39.607286], [-75.561967, 39.629194], [-75.507197, 39.683964], [-75.414089, 39.804456], [-75.145719, 39.88661], [-75.129289, 39.963288], [-74.82258, 40.127596], [-74.773287, 40.215227], [-75.058088, 40.417874], [-75.069042, 40.543843], [-75.195012, 40.576705], [-75.205966, 40.691721], [-75.052611, 40.866983], [-75.134765, 40.971045], [-74.882826, 41.179168], [-74.828057, 41.288707], [-74.69661, 41.359907], [-74.236547, 41.14083]]], &quot;type&quot;: &quot;Polygon&quot;}, &quot;id&quot;: &quot;NJ&quot;, &quot;properties&quot;: {&quot;name&quot;: &quot;New Jersey&quot;}, &quot;type&quot;: &quot;Feature&quot;}, {&quot;geometry&quot;: {&quot;coordinates&quot;: [[[-107.421329, 37.000263], [-106.868158, 36.994786], [-104.337812, 36.994786], [-103.001438, 37.000263], [-103.001438, 36.501861], [-103.039777, 36.501861], [-103.045254, 34.01533], [-103.067161, 33.002096], [-103.067161, 31.999816], [-106.616219, 31.999816], [-106.643603, 31.901231], [-106.528588, 31.786216], [-108.210008, 31.786216], [-108.210008, 31.331629], [-109.04798, 31.331629], [-109.042503, 37.000263], [-107.421329, 37.000263]]], &quot;type&quot;: &quot;Polygon&quot;}, &quot;id&quot;: &quot;NM&quot;, &quot;properties&quot;: {&quot;name&quot;: &quot;New Mexico&quot;}, &quot;type&quot;: &quot;Feature&quot;}, {&quot;geometry&quot;: {&quot;coordinates&quot;: [[[-73.343806, 45.013027], [-73.332852, 44.804903], [-73.387622, 44.618687], [-73.294514, 44.437948], [-73.321898, 44.246255], [-73.436914, 44.043608], [-73.349283, 43.769761], [-73.404052, 43.687607], [-73.245221, 43.523299], [-73.278083, 42.833204], [-73.267129, 42.745573], [-73.508114, 42.08834], [-73.486206, 42.050002], [-73.55193, 41.294184], [-73.48073, 41.21203], [-73.727192, 41.102491], [-73.655992, 40.987475], [-73.22879, 40.905321], [-73.141159, 40.965568], [-72.774204, 40.965568], [-72.587988, 40.998429], [-72.28128, 41.157261], [-72.259372, 41.042245], [-72.100541, 40.992952], [-72.467496, 40.845075], [-73.239744, 40.625997], [-73.562884, 40.582182], [-73.776484, 40.593136], [-73.935316, 40.543843], [-74.022947, 40.708151], [-73.902454, 40.998429], [-74.236547, 41.14083], [-74.69661, 41.359907], [-74.740426, 41.431108], [-74.89378, 41.436584], [-75.074519, 41.60637], [-75.052611, 41.754247], [-75.173104, 41.869263], [-75.249781, 41.863786], [-75.35932, 42.000709], [-79.76278, 42.000709], [-79.76278, 42.252649], [-79.76278, 42.269079], [-79.149363, 42.55388], [-79.050778, 42.690804], [-78.853608, 42.783912], [-78.930285, 42.953697], [-79.012439, 42.986559], [-79.072686, 43.260406], [-78.486653, 43.375421], [-77.966344, 43.369944], [-77.75822, 43.34256], [-77.533665, 43.233021], [-77.391265, 43.276836], [-76.958587, 43.271359], [-76.695693, 43.34256], [-76.41637, 43.523299], [-76.235631, 43.528776], [-76.230154, 43.802623], [-76.137046, 43.961454], [-76.3616, 44.070993], [-76.312308, 44.196962], [-75.912491, 44.366748], [-75.764614, 44.514625], [-75.282643, 44.848718], [-74.828057, 45.018503], [-74.148916, 44.991119], [-73.343806, 45.013027]]], &quot;type&quot;: &quot;Polygon&quot;}, &quot;id&quot;: &quot;NY&quot;, &quot;properties&quot;: {&quot;name&quot;: &quot;New York&quot;}, &quot;type&quot;: &quot;Feature&quot;}, {&quot;geometry&quot;: {&quot;coordinates&quot;: [[[-80.978661, 36.562108], [-80.294043, 36.545677], [-79.510841, 36.5402], [-75.868676, 36.551154], [-75.75366, 36.151337], [-76.032984, 36.189676], [-76.071322, 36.140383], [-76.410893, 36.080137], [-76.460185, 36.025367], [-76.68474, 36.008937], [-76.673786, 35.937736], [-76.399939, 35.987029], [-76.3616, 35.943213], [-76.060368, 35.992506], [-75.961783, 35.899398], [-75.781044, 35.937736], [-75.715321, 35.696751], [-75.775568, 35.581735], [-75.89606, 35.570781], [-76.147999, 35.324319], [-76.482093, 35.313365], [-76.536862, 35.14358], [-76.394462, 34.973795], [-76.279446, 34.940933], [-76.493047, 34.661609], [-76.673786, 34.694471], [-76.991448, 34.667086], [-77.210526, 34.60684], [-77.555573, 34.415147], [-77.82942, 34.163208], [-77.971821, 33.845545], [-78.179944, 33.916745], [-78.541422, 33.851022], [-79.675149, 34.80401], [-80.797922, 34.820441], [-80.781491, 34.935456], [-80.934845, 35.105241], [-81.038907, 35.044995], [-81.044384, 35.149057], [-82.276696, 35.198349], [-82.550543, 35.160011], [-82.764143, 35.066903], [-83.109191, 35.00118], [-83.618546, 34.984749], [-84.319594, 34.990226], [-84.29221, 35.225734], [-84.09504, 35.247642], [-84.018363, 35.41195], [-83.7719, 35.559827], [-83.498053, 35.565304], [-83.251591, 35.718659], [-82.994175, 35.773428], [-82.775097, 35.997983], [-82.638174, 36.063706], [-82.610789, 35.965121], [-82.216449, 36.156814], [-82.03571, 36.118475], [-81.909741, 36.304691], [-81.723525, 36.353984], [-81.679709, 36.589492], [-80.978661, 36.562108]]], &quot;type&quot;: &quot;Polygon&quot;}, &quot;id&quot;: &quot;NC&quot;, &quot;properties&quot;: {&quot;name&quot;: &quot;North Carolina&quot;}, &quot;type&quot;: &quot;Feature&quot;}, {&quot;geometry&quot;: {&quot;coordinates&quot;: [[[-97.228743, 49.000239], [-97.097296, 48.682577], [-97.16302, 48.545653], [-97.130158, 48.140359], [-97.053481, 47.948667], [-96.856311, 47.609096], [-96.823449, 46.968294], [-96.785111, 46.924479], [-96.801542, 46.656109], [-96.719387, 46.437031], [-96.598895, 46.332969], [-96.560556, 45.933153], [-104.047534, 45.944106], [-104.042057, 47.861036], [-104.047534, 49.000239], [-97.228743, 49.000239]]], &quot;type&quot;: &quot;Polygon&quot;}, &quot;id&quot;: &quot;ND&quot;, &quot;properties&quot;: {&quot;name&quot;: &quot;North Dakota&quot;}, &quot;type&quot;: &quot;Feature&quot;}, {&quot;geometry&quot;: {&quot;coordinates&quot;: [[[-80.518598, 41.978802], [-80.518598, 40.636951], [-80.666475, 40.582182], [-80.595275, 40.472643], [-80.600752, 40.319289], [-80.737675, 40.078303], [-80.830783, 39.711348], [-81.219646, 39.388209], [-81.345616, 39.344393], [-81.455155, 39.410117], [-81.57017, 39.267716], [-81.685186, 39.273193], [-81.811156, 39.0815], [-81.783771, 38.966484], [-81.887833, 38.873376], [-82.03571, 39.026731], [-82.221926, 38.785745], [-82.172634, 38.632391], [-82.293127, 38.577622], [-82.331465, 38.446175], [-82.594358, 38.424267], [-82.731282, 38.561191], [-82.846298, 38.588575], [-82.890113, 38.758361], [-83.032514, 38.725499], [-83.142052, 38.626914], [-83.519961, 38.703591], [-83.678792, 38.632391], [-83.903347, 38.769315], [-84.215533, 38.807653], [-84.231963, 38.895284], [-84.43461, 39.103408], [-84.817996, 39.103408], [-84.801565, 40.500028], [-84.807042, 41.694001], [-83.454238, 41.732339], [-83.065375, 41.595416], [-82.933929, 41.513262], [-82.835344, 41.589939], [-82.616266, 41.431108], [-82.479343, 41.381815], [-82.013803, 41.513262], [-81.739956, 41.485877], [-81.444201, 41.672093], [-81.011523, 41.852832], [-80.518598, 41.978802], [-80.518598, 41.978802]]], &quot;type&quot;: &quot;Polygon&quot;}, &quot;id&quot;: &quot;OH&quot;, &quot;properties&quot;: {&quot;name&quot;: &quot;Ohio&quot;}, &quot;type&quot;: &quot;Feature&quot;}, {&quot;geometry&quot;: {&quot;coordinates&quot;: [[[-100.087706, 37.000263], [-94.616242, 37.000263], [-94.616242, 36.501861], [-94.430026, 35.395519], [-94.484796, 33.637421], [-94.868182, 33.74696], [-94.966767, 33.861976], [-95.224183, 33.960561], [-95.289906, 33.87293], [-95.547322, 33.878407], [-95.602092, 33.933176], [-95.8376, 33.834591], [-95.936185, 33.889361], [-96.149786, 33.840068], [-96.346956, 33.686714], [-96.423633, 33.774345], [-96.631756, 33.845545], [-96.850834, 33.845545], [-96.922034, 33.960561], [-97.173974, 33.736006], [-97.256128, 33.861976], [-97.371143, 33.823637], [-97.458774, 33.905791], [-97.694283, 33.982469], [-97.869545, 33.851022], [-97.946222, 33.987946], [-98.088623, 34.004376], [-98.170777, 34.113915], [-98.36247, 34.157731], [-98.488439, 34.064623], [-98.570593, 34.146777], [-98.767763, 34.135823], [-98.986841, 34.223454], [-99.189488, 34.2125], [-99.260688, 34.404193], [-99.57835, 34.415147], [-99.698843, 34.382285], [-99.923398, 34.573978], [-100.000075, 34.563024], [-100.000075, 36.501861], [-101.812942, 36.501861], [-103.001438, 36.501861], [-103.001438, 37.000263], [-102.042974, 36.994786], [-100.087706, 37.000263]]], &quot;type&quot;: &quot;Polygon&quot;}, &quot;id&quot;: &quot;OK&quot;, &quot;properties&quot;: {&quot;name&quot;: &quot;Oklahoma&quot;}, &quot;type&quot;: &quot;Feature&quot;}, {&quot;geometry&quot;: {&quot;coordinates&quot;: [[[-123.211348, 46.174138], [-123.11824, 46.185092], [-122.904639, 46.08103], [-122.811531, 45.960537], [-122.762239, 45.659305], [-122.247407, 45.549767], [-121.809251, 45.708598], [-121.535404, 45.725029], [-121.217742, 45.670259], [-121.18488, 45.604536], [-120.637186, 45.746937], [-120.505739, 45.697644], [-120.209985, 45.725029], [-119.963522, 45.823614], [-119.525367, 45.911245], [-119.125551, 45.933153], [-118.988627, 45.998876], [-116.918344, 45.993399], [-116.78142, 45.823614], [-116.545912, 45.752413], [-116.463758, 45.61549], [-116.671881, 45.319735], [-116.732128, 45.144473], [-116.847143, 45.02398], [-116.830713, 44.930872], [-116.934774, 44.782995], [-117.038836, 44.750133], [-117.241483, 44.394132], [-117.170283, 44.257209], [-116.97859, 44.240778], [-116.896436, 44.158624], [-117.027882, 43.830007], [-117.027882, 42.000709], [-118.698349, 41.989755], [-120.001861, 41.995232], [-121.037003, 41.995232], [-122.378853, 42.011663], [-123.233256, 42.006186], [-124.213628, 42.000709], [-124.356029, 42.115725], [-124.432706, 42.438865], [-124.416275, 42.663419], [-124.553198, 42.838681], [-124.454613, 43.002989], [-124.383413, 43.271359], [-124.235536, 43.55616], [-124.169813, 43.8081], [-124.060274, 44.657025], [-124.076705, 44.772041], [-123.97812, 45.144473], [-123.939781, 45.659305], [-123.994551, 45.944106], [-123.945258, 46.113892], [-123.545441, 46.261769], [-123.370179, 46.146753], [-123.211348, 46.174138]]], &quot;type&quot;: &quot;Polygon&quot;}, &quot;id&quot;: &quot;OR&quot;, &quot;properties&quot;: {&quot;name&quot;: &quot;Oregon&quot;}, &quot;type&quot;: &quot;Feature&quot;}, {&quot;geometry&quot;: {&quot;coordinates&quot;: [[[-79.76278, 42.252649], [-79.76278, 42.000709], [-75.35932, 42.000709], [-75.249781, 41.863786], [-75.173104, 41.869263], [-75.052611, 41.754247], [-75.074519, 41.60637], [-74.89378, 41.436584], [-74.740426, 41.431108], [-74.69661, 41.359907], [-74.828057, 41.288707], [-74.882826, 41.179168], [-75.134765, 40.971045], [-75.052611, 40.866983], [-75.205966, 40.691721], [-75.195012, 40.576705], [-75.069042, 40.543843], [-75.058088, 40.417874], [-74.773287, 40.215227], [-74.82258, 40.127596], [-75.129289, 39.963288], [-75.145719, 39.88661], [-75.414089, 39.804456], [-75.616736, 39.831841], [-75.786521, 39.722302], [-79.477979, 39.722302], [-80.518598, 39.722302], [-80.518598, 40.636951], [-80.518598, 41.978802], [-80.518598, 41.978802], [-80.332382, 42.033571], [-79.76278, 42.269079], [-79.76278, 42.252649]]], &quot;type&quot;: &quot;Polygon&quot;}, &quot;id&quot;: &quot;PA&quot;, &quot;properties&quot;: {&quot;name&quot;: &quot;Pennsylvania&quot;}, &quot;type&quot;: &quot;Feature&quot;}, {&quot;geometry&quot;: {&quot;coordinates&quot;: [[[[-71.196845, 41.67757], [-71.120168, 41.496831], [-71.317338, 41.474923], [-71.196845, 41.67757]]], [[[-71.530939, 42.01714], [-71.383061, 42.01714], [-71.328292, 41.781632], [-71.22423, 41.710431], [-71.344723, 41.726862], [-71.448785, 41.578985], [-71.481646, 41.370861], [-71.859555, 41.321569], [-71.799309, 41.414677], [-71.799309, 42.006186], [-71.530939, 42.01714]]]], &quot;type&quot;: &quot;MultiPolygon&quot;}, &quot;id&quot;: &quot;RI&quot;, &quot;properties&quot;: {&quot;name&quot;: &quot;Rhode Island&quot;}, &quot;type&quot;: &quot;Feature&quot;}, {&quot;geometry&quot;: {&quot;coordinates&quot;: [[[-82.764143, 35.066903], [-82.550543, 35.160011], [-82.276696, 35.198349], [-81.044384, 35.149057], [-81.038907, 35.044995], [-80.934845, 35.105241], [-80.781491, 34.935456], [-80.797922, 34.820441], [-79.675149, 34.80401], [-78.541422, 33.851022], [-78.716684, 33.80173], [-78.935762, 33.637421], [-79.149363, 33.380005], [-79.187701, 33.171881], [-79.357487, 33.007573], [-79.582041, 33.007573], [-79.631334, 32.887081], [-79.866842, 32.755634], [-79.998289, 32.613234], [-80.206412, 32.552987], [-80.430967, 32.399633], [-80.452875, 32.328433], [-80.660998, 32.246279], [-80.885553, 32.032678], [-81.115584, 32.120309], [-81.121061, 32.290094], [-81.279893, 32.558464], [-81.416816, 32.629664], [-81.42777, 32.843265], [-81.493493, 33.007573], [-81.761863, 33.160928], [-81.937125, 33.347144], [-81.926172, 33.462159], [-82.194542, 33.631944], [-82.325988, 33.81816], [-82.55602, 33.94413], [-82.714851, 34.152254], [-82.747713, 34.26727], [-82.901067, 34.486347], [-83.005129, 34.469916], [-83.339222, 34.683517], [-83.322791, 34.787579], [-83.109191, 35.00118], [-82.764143, 35.066903]]], &quot;type&quot;: &quot;Polygon&quot;}, &quot;id&quot;: &quot;SC&quot;, &quot;properties&quot;: {&quot;name&quot;: &quot;South Carolina&quot;}, &quot;type&quot;: &quot;Feature&quot;}, {&quot;geometry&quot;: {&quot;coordinates&quot;: [[[-104.047534, 45.944106], [-96.560556, 45.933153], [-96.582464, 45.818137], [-96.856311, 45.604536], [-96.681049, 45.412843], [-96.451017, 45.297827], [-96.451017, 43.501391], [-96.582464, 43.479483], [-96.527695, 43.397329], [-96.560556, 43.222067], [-96.434587, 43.123482], [-96.511264, 43.052282], [-96.544125, 42.855112], [-96.631756, 42.707235], [-96.44554, 42.488157], [-96.626279, 42.515542], [-96.692003, 42.657942], [-97.217789, 42.844158], [-97.688806, 42.844158], [-97.831206, 42.866066], [-97.951699, 42.767481], [-98.466531, 42.94822], [-98.499393, 42.997512], [-101.626726, 42.997512], [-103.324578, 43.002989], [-104.053011, 43.002989], [-104.058488, 44.996596], [-104.042057, 44.996596], [-104.047534, 45.944106]]], &quot;type&quot;: &quot;Polygon&quot;}, &quot;id&quot;: &quot;SD&quot;, &quot;properties&quot;: {&quot;name&quot;: &quot;South Dakota&quot;}, &quot;type&quot;: &quot;Feature&quot;}, {&quot;geometry&quot;: {&quot;coordinates&quot;: [[[-88.054868, 36.496384], [-88.071299, 36.677123], [-87.852221, 36.633308], [-86.592525, 36.655216], [-85.486183, 36.616877], [-85.289013, 36.627831], [-84.544149, 36.594969], [-83.689746, 36.584015], [-83.673316, 36.600446], [-81.679709, 36.589492], [-81.723525, 36.353984], [-81.909741, 36.304691], [-82.03571, 36.118475], [-82.216449, 36.156814], [-82.610789, 35.965121], [-82.638174, 36.063706], [-82.775097, 35.997983], [-82.994175, 35.773428], [-83.251591, 35.718659], [-83.498053, 35.565304], [-83.7719, 35.559827], [-84.018363, 35.41195], [-84.09504, 35.247642], [-84.29221, 35.225734], [-84.319594, 34.990226], [-85.606675, 34.984749], [-87.359296, 35.00118], [-88.202745, 34.995703], [-88.471115, 34.995703], [-90.311367, 34.995703], [-90.212782, 35.023087], [-90.114197, 35.198349], [-90.130628, 35.439335], [-89.944412, 35.603643], [-89.911551, 35.756997], [-89.763673, 35.811767], [-89.730812, 35.997983], [-89.533642, 36.249922], [-89.539119, 36.496384], [-89.484349, 36.496384], [-89.418626, 36.496384], [-89.298133, 36.507338], [-88.054868, 36.496384]]], &quot;type&quot;: &quot;Polygon&quot;}, &quot;id&quot;: &quot;TN&quot;, &quot;properties&quot;: {&quot;name&quot;: &quot;Tennessee&quot;}, &quot;type&quot;: &quot;Feature&quot;}, {&quot;geometry&quot;: {&quot;coordinates&quot;: [[[-101.812942, 36.501861], [-100.000075, 36.501861], [-100.000075, 34.563024], [-99.923398, 34.573978], [-99.698843, 34.382285], [-99.57835, 34.415147], [-99.260688, 34.404193], [-99.189488, 34.2125], [-98.986841, 34.223454], [-98.767763, 34.135823], [-98.570593, 34.146777], [-98.488439, 34.064623], [-98.36247, 34.157731], [-98.170777, 34.113915], [-98.088623, 34.004376], [-97.946222, 33.987946], [-97.869545, 33.851022], [-97.694283, 33.982469], [-97.458774, 33.905791], [-97.371143, 33.823637], [-97.256128, 33.861976], [-97.173974, 33.736006], [-96.922034, 33.960561], [-96.850834, 33.845545], [-96.631756, 33.845545], [-96.423633, 33.774345], [-96.346956, 33.686714], [-96.149786, 33.840068], [-95.936185, 33.889361], [-95.8376, 33.834591], [-95.602092, 33.933176], [-95.547322, 33.878407], [-95.289906, 33.87293], [-95.224183, 33.960561], [-94.966767, 33.861976], [-94.868182, 33.74696], [-94.484796, 33.637421], [-94.380734, 33.544313], [-94.183564, 33.593606], [-94.041164, 33.54979], [-94.041164, 33.018527], [-94.041164, 31.994339], [-93.822086, 31.775262], [-93.816609, 31.556184], [-93.542762, 31.15089], [-93.526331, 30.93729], [-93.630393, 30.679874], [-93.728978, 30.575812], [-93.696116, 30.438888], [-93.767317, 30.334826], [-93.690639, 30.143133], [-93.926148, 29.787132], [-93.838517, 29.688547], [-94.002825, 29.68307], [-94.523134, 29.546147], [-94.70935, 29.622824], [-94.742212, 29.787132], [-94.873659, 29.672117], [-94.966767, 29.699501], [-95.016059, 29.557101], [-94.911997, 29.496854], [-94.895566, 29.310638], [-95.081782, 29.113469], [-95.383014, 28.867006], [-95.985477, 28.604113], [-96.045724, 28.647929], [-96.226463, 28.582205], [-96.23194, 28.642452], [-96.478402, 28.598636], [-96.593418, 28.724606], [-96.664618, 28.697221], [-96.401725, 28.439805], [-96.593418, 28.357651], [-96.774157, 28.406943], [-96.801542, 28.226204], [-97.026096, 28.039988], [-97.256128, 27.694941], [-97.404005, 27.333463], [-97.513544, 27.360848], [-97.540929, 27.229401], [-97.425913, 27.262263], [-97.480682, 26.99937], [-97.557359, 26.988416], [-97.562836, 26.840538], [-97.469728, 26.758384], [-97.442344, 26.457153], [-97.332805, 26.353091], [-97.30542, 26.161398], [-97.217789, 25.991613], [-97.524498, 25.887551], [-97.650467, 26.018997], [-97.885976, 26.06829], [-98.198161, 26.057336], [-98.466531, 26.221644], [-98.669178, 26.238075], [-98.822533, 26.369522], [-99.030656, 26.413337], [-99.173057, 26.539307], [-99.266165, 26.840538], [-99.446904, 27.021277], [-99.424996, 27.174632], [-99.50715, 27.33894], [-99.479765, 27.48134], [-99.605735, 27.640172], [-99.709797, 27.656603], [-99.879582, 27.799003], [-99.934351, 27.979742], [-100.082229, 28.14405], [-100.29583, 28.280974], [-100.399891, 28.582205], [-100.498476, 28.66436], [-100.629923, 28.905345], [-100.673738, 29.102515], [-100.799708, 29.244915], [-101.013309, 29.370885], [-101.062601, 29.458516], [-101.259771, 29.535193], [-101.413125, 29.754271], [-101.851281, 29.803563], [-102.114174, 29.792609], [-102.338728, 29.869286], [-102.388021, 29.765225], [-102.629006, 29.732363], [-102.809745, 29.524239], [-102.919284, 29.190146], [-102.97953, 29.184669], [-103.116454, 28.987499], [-103.280762, 28.982022], [-103.527224, 29.135376], [-104.146119, 29.381839], [-104.266611, 29.513285], [-104.507597, 29.639255], [-104.677382, 29.924056], [-104.688336, 30.181472], [-104.858121, 30.389596], [-104.896459, 30.570335], [-105.005998, 30.685351], [-105.394861, 30.855136], [-105.602985, 31.085167], [-105.77277, 31.167321], [-105.953509, 31.364491], [-106.205448, 31.468553], [-106.38071, 31.731446], [-106.528588, 31.786216], [-106.643603, 31.901231], [-106.616219, 31.999816], [-103.067161, 31.999816], [-103.067161, 33.002096], [-103.045254, 34.01533], [-103.039777, 36.501861], [-103.001438, 36.501861], [-101.812942, 36.501861]]], &quot;type&quot;: &quot;Polygon&quot;}, &quot;id&quot;: &quot;TX&quot;, &quot;properties&quot;: {&quot;name&quot;: &quot;Texas&quot;}, &quot;type&quot;: &quot;Feature&quot;}, {&quot;geometry&quot;: {&quot;coordinates&quot;: [[[-112.164359, 41.995232], [-111.047063, 42.000709], [-111.047063, 40.998429], [-109.04798, 40.998429], [-109.053457, 39.125316], [-109.058934, 38.27639], [-109.042503, 38.166851], [-109.042503, 37.000263], [-110.499369, 37.00574], [-114.048427, 37.000263], [-114.04295, 41.995232], [-112.164359, 41.995232]]], &quot;type&quot;: &quot;Polygon&quot;}, &quot;id&quot;: &quot;UT&quot;, &quot;properties&quot;: {&quot;name&quot;: &quot;Utah&quot;}, &quot;type&quot;: &quot;Feature&quot;}, {&quot;geometry&quot;: {&quot;coordinates&quot;: [[[-71.503554, 45.013027], [-71.4926, 44.914442], [-71.629524, 44.750133], [-71.536416, 44.585825], [-71.700724, 44.41604], [-72.034817, 44.322932], [-72.02934, 44.07647], [-72.116971, 43.994316], [-72.204602, 43.769761], [-72.379864, 43.572591], [-72.456542, 43.150867], [-72.445588, 43.008466], [-72.533219, 42.953697], [-72.544173, 42.80582], [-72.456542, 42.729142], [-73.267129, 42.745573], [-73.278083, 42.833204], [-73.245221, 43.523299], [-73.404052, 43.687607], [-73.349283, 43.769761], [-73.436914, 44.043608], [-73.321898, 44.246255], [-73.294514, 44.437948], [-73.387622, 44.618687], [-73.332852, 44.804903], [-73.343806, 45.013027], [-72.308664, 45.002073], [-71.503554, 45.013027]]], &quot;type&quot;: &quot;Polygon&quot;}, &quot;id&quot;: &quot;VT&quot;, &quot;properties&quot;: {&quot;name&quot;: &quot;Vermont&quot;}, &quot;type&quot;: &quot;Feature&quot;}, {&quot;geometry&quot;: {&quot;coordinates&quot;: [[[[-75.397659, 38.013497], [-75.244304, 38.029928], [-75.375751, 37.860142], [-75.512674, 37.799896], [-75.594828, 37.569865], [-75.802952, 37.197433], [-75.972737, 37.120755], [-76.027507, 37.257679], [-75.939876, 37.564388], [-75.671506, 37.95325], [-75.397659, 38.013497]]], [[[-76.016553, 37.95325], [-75.994645, 37.95325], [-76.043938, 37.95325], [-76.016553, 37.95325]]], [[[-78.349729, 39.464886], [-77.82942, 39.130793], [-77.719881, 39.322485], [-77.566527, 39.306055], [-77.456988, 39.223901], [-77.456988, 39.076023], [-77.248864, 39.026731], [-77.117418, 38.933623], [-77.040741, 38.791222], [-77.128372, 38.632391], [-77.248864, 38.588575], [-77.325542, 38.446175], [-77.281726, 38.342113], [-77.013356, 38.374975], [-76.964064, 38.216144], [-76.613539, 38.15042], [-76.514954, 38.024451], [-76.235631, 37.887527], [-76.3616, 37.608203], [-76.246584, 37.389126], [-76.383508, 37.285064], [-76.399939, 37.159094], [-76.273969, 37.082417], [-76.410893, 36.961924], [-76.619016, 37.120755], [-76.668309, 37.065986], [-76.48757, 36.95097], [-75.994645, 36.923586], [-75.868676, 36.551154], [-79.510841, 36.5402], [-80.294043, 36.545677], [-80.978661, 36.562108], [-81.679709, 36.589492], [-83.673316, 36.600446], [-83.136575, 36.742847], [-83.070852, 36.852385], [-82.879159, 36.890724], [-82.868205, 36.978355], [-82.720328, 37.044078], [-82.720328, 37.120755], [-82.353373, 37.268633], [-81.969987, 37.537003], [-81.986418, 37.454849], [-81.849494, 37.285064], [-81.679709, 37.20291], [-81.55374, 37.208387], [-81.362047, 37.339833], [-81.225123, 37.235771], [-80.967707, 37.290541], [-80.513121, 37.482234], [-80.474782, 37.421987], [-80.29952, 37.509618], [-80.294043, 37.690357], [-80.184505, 37.849189], [-79.998289, 37.997066], [-79.921611, 38.177805], [-79.724442, 38.364021], [-79.647764, 38.594052], [-79.477979, 38.457129], [-79.313671, 38.413313], [-79.209609, 38.495467], [-78.996008, 38.851469], [-78.870039, 38.763838], [-78.404499, 39.169131], [-78.349729, 39.464886]]]], &quot;type&quot;: &quot;MultiPolygon&quot;}, &quot;id&quot;: &quot;VA&quot;, &quot;properties&quot;: {&quot;name&quot;: &quot;Virginia&quot;}, &quot;type&quot;: &quot;Feature&quot;}, {&quot;geometry&quot;: {&quot;coordinates&quot;: [[[[-117.033359, 49.000239], [-117.044313, 47.762451], [-117.038836, 46.426077], [-117.055267, 46.343923], [-116.92382, 46.168661], [-116.918344, 45.993399], [-118.988627, 45.998876], [-119.125551, 45.933153], [-119.525367, 45.911245], [-119.963522, 45.823614], [-120.209985, 45.725029], [-120.505739, 45.697644], [-120.637186, 45.746937], [-121.18488, 45.604536], [-121.217742, 45.670259], [-121.535404, 45.725029], [-121.809251, 45.708598], [-122.247407, 45.549767], [-122.762239, 45.659305], [-122.811531, 45.960537], [-122.904639, 46.08103], [-123.11824, 46.185092], [-123.211348, 46.174138], [-123.370179, 46.146753], [-123.545441, 46.261769], [-123.72618, 46.300108], [-123.874058, 46.239861], [-124.065751, 46.327492], [-124.027412, 46.464416], [-123.895966, 46.535616], [-124.098612, 46.74374], [-124.235536, 47.285957], [-124.31769, 47.357157], [-124.427229, 47.740543], [-124.624399, 47.88842], [-124.706553, 48.184175], [-124.597014, 48.381345], [-124.394367, 48.288237], [-123.983597, 48.162267], [-123.704273, 48.167744], [-123.424949, 48.118452], [-123.162056, 48.167744], [-123.036086, 48.080113], [-122.800578, 48.08559], [-122.636269, 47.866512], [-122.515777, 47.882943], [-122.493869, 47.587189], [-122.422669, 47.318818], [-122.324084, 47.346203], [-122.422669, 47.576235], [-122.395284, 47.800789], [-122.230976, 48.030821], [-122.362422, 48.123929], [-122.373376, 48.288237], [-122.471961, 48.468976], [-122.422669, 48.600422], [-122.488392, 48.753777], [-122.647223, 48.775685], [-122.795101, 48.8907], [-122.756762, 49.000239], [-117.033359, 49.000239]]], [[[-122.718423, 48.310145], [-122.586977, 48.35396], [-122.608885, 48.151313], [-122.767716, 48.227991], [-122.718423, 48.310145]]], [[[-123.025132, 48.583992], [-122.915593, 48.715438], [-122.767716, 48.556607], [-122.811531, 48.419683], [-123.041563, 48.458022], [-123.025132, 48.583992]]]], &quot;type&quot;: &quot;MultiPolygon&quot;}, &quot;id&quot;: &quot;WA&quot;, &quot;properties&quot;: {&quot;name&quot;: &quot;Washington&quot;}, &quot;type&quot;: &quot;Feature&quot;}, {&quot;geometry&quot;: {&quot;coordinates&quot;: [[[-80.518598, 40.636951], [-80.518598, 39.722302], [-79.477979, 39.722302], [-79.488933, 39.20747], [-79.291763, 39.300578], [-79.094593, 39.470363], [-78.963147, 39.437501], [-78.765977, 39.585379], [-78.470222, 39.514178], [-78.431884, 39.623717], [-78.267575, 39.61824], [-78.174467, 39.694917], [-78.004682, 39.601809], [-77.834897, 39.601809], [-77.719881, 39.322485], [-77.82942, 39.130793], [-78.349729, 39.464886], [-78.404499, 39.169131], [-78.870039, 38.763838], [-78.996008, 38.851469], [-79.209609, 38.495467], [-79.313671, 38.413313], [-79.477979, 38.457129], [-79.647764, 38.594052], [-79.724442, 38.364021], [-79.921611, 38.177805], [-79.998289, 37.997066], [-80.184505, 37.849189], [-80.294043, 37.690357], [-80.29952, 37.509618], [-80.474782, 37.421987], [-80.513121, 37.482234], [-80.967707, 37.290541], [-81.225123, 37.235771], [-81.362047, 37.339833], [-81.55374, 37.208387], [-81.679709, 37.20291], [-81.849494, 37.285064], [-81.986418, 37.454849], [-81.969987, 37.537003], [-82.101434, 37.553434], [-82.293127, 37.668449], [-82.342419, 37.783465], [-82.50125, 37.931343], [-82.621743, 38.123036], [-82.594358, 38.424267], [-82.331465, 38.446175], [-82.293127, 38.577622], [-82.172634, 38.632391], [-82.221926, 38.785745], [-82.03571, 39.026731], [-81.887833, 38.873376], [-81.783771, 38.966484], [-81.811156, 39.0815], [-81.685186, 39.273193], [-81.57017, 39.267716], [-81.455155, 39.410117], [-81.345616, 39.344393], [-81.219646, 39.388209], [-80.830783, 39.711348], [-80.737675, 40.078303], [-80.600752, 40.319289], [-80.595275, 40.472643], [-80.666475, 40.582182], [-80.518598, 40.636951]]], &quot;type&quot;: &quot;Polygon&quot;}, &quot;id&quot;: &quot;WV&quot;, &quot;properties&quot;: {&quot;name&quot;: &quot;West Virginia&quot;}, &quot;type&quot;: &quot;Feature&quot;}, {&quot;geometry&quot;: {&quot;coordinates&quot;: [[[-90.415429, 46.568478], [-90.229213, 46.508231], [-90.119674, 46.338446], [-89.09001, 46.135799], [-88.662808, 45.987922], [-88.531362, 46.020784], [-88.10416, 45.922199], [-87.989145, 45.796229], [-87.781021, 45.675736], [-87.791975, 45.500474], [-87.885083, 45.363551], [-87.649574, 45.341643], [-87.742682, 45.199243], [-87.589328, 45.095181], [-87.627666, 44.974688], [-87.819359, 44.95278], [-87.983668, 44.722749], [-88.043914, 44.563917], [-87.928898, 44.536533], [-87.775544, 44.640595], [-87.611236, 44.837764], [-87.403112, 44.914442], [-87.238804, 45.166381], [-87.03068, 45.22115], [-87.047111, 45.089704], [-87.189511, 44.969211], [-87.468835, 44.552964], [-87.545512, 44.322932], [-87.540035, 44.158624], [-87.644097, 44.103854], [-87.737205, 43.8793], [-87.704344, 43.687607], [-87.791975, 43.561637], [-87.912467, 43.249452], [-87.885083, 43.002989], [-87.76459, 42.783912], [-87.802929, 42.493634], [-88.788778, 42.493634], [-90.639984, 42.510065], [-90.711184, 42.636034], [-91.067185, 42.75105], [-91.143862, 42.909881], [-91.176724, 43.134436], [-91.056231, 43.254929], [-91.204109, 43.353514], [-91.215062, 43.501391], [-91.269832, 43.616407], [-91.242447, 43.775238], [-91.43414, 43.994316], [-91.592971, 44.032654], [-91.877772, 44.202439], [-91.927065, 44.333886], [-92.233773, 44.443425], [-92.337835, 44.552964], [-92.545959, 44.569394], [-92.808852, 44.750133], [-92.737652, 45.117088], [-92.75956, 45.286874], [-92.644544, 45.440228], [-92.770513, 45.566198], [-92.885529, 45.577151], [-92.869098, 45.719552], [-92.639067, 45.933153], [-92.354266, 46.015307], [-92.29402, 46.075553], [-92.29402, 46.667063], [-92.091373, 46.749217], [-92.014696, 46.705401], [-91.790141, 46.694447], [-91.09457, 46.864232], [-90.837154, 46.95734], [-90.749522, 46.88614], [-90.886446, 46.754694], [-90.55783, 46.584908], [-90.415429, 46.568478]]], &quot;type&quot;: &quot;Polygon&quot;}, &quot;id&quot;: &quot;WI&quot;, &quot;properties&quot;: {&quot;name&quot;: &quot;Wisconsin&quot;}, &quot;type&quot;: &quot;Feature&quot;}, {&quot;geometry&quot;: {&quot;coordinates&quot;: [[[-109.080842, 45.002073], [-105.91517, 45.002073], [-104.058488, 44.996596], [-104.053011, 43.002989], [-104.053011, 41.003906], [-105.728954, 40.998429], [-107.919731, 41.003906], [-109.04798, 40.998429], [-111.047063, 40.998429], [-111.047063, 42.000709], [-111.047063, 44.476286], [-111.05254, 45.002073], [-109.080842, 45.002073]]], &quot;type&quot;: &quot;Polygon&quot;}, &quot;id&quot;: &quot;WY&quot;, &quot;properties&quot;: {&quot;name&quot;: &quot;Wyoming&quot;}, &quot;type&quot;: &quot;Feature&quot;}], &quot;type&quot;: &quot;FeatureCollection&quot;});\n",
       "\n",
       "        \n",
       "    \n",
       "            geo_json_b136ad670cca5b3772cd13e29da978ad.addTo(choropleth_a3f2b76d3bb7ec36422bf536db517f15);\n",
       "        \n",
       "    \n",
       "    var color_map_410c35375e6e2f5683fc00d5d137855c = {};\n",
       "\n",
       "    \n",
       "    color_map_410c35375e6e2f5683fc00d5d137855c.color = d3.scale.threshold()\n",
       "              .domain([0.0, 0.002004008016032064, 0.004008016032064128, 0.006012024048096192, 0.008016032064128256, 0.01002004008016032, 0.012024048096192385, 0.014028056112224449, 0.01603206412825651, 0.018036072144288578, 0.02004008016032064, 0.022044088176352707, 0.02404809619238477, 0.026052104208416832, 0.028056112224448898, 0.03006012024048096, 0.03206412825651302, 0.03406813627254509, 0.036072144288577156, 0.03807615230460922, 0.04008016032064128, 0.04208416833667335, 0.04408817635270541, 0.04609218436873747, 0.04809619238476954, 0.050100200400801605, 0.052104208416833664, 0.05410821643286573, 0.056112224448897796, 0.05811623246492986, 0.06012024048096192, 0.06212424849699399, 0.06412825651302605, 0.06613226452905811, 0.06813627254509018, 0.07014028056112225, 0.07214428857715431, 0.07414829659318638, 0.07615230460921844, 0.0781563126252505, 0.08016032064128256, 0.08216432865731463, 0.0841683366733467, 0.08617234468937876, 0.08817635270541083, 0.09018036072144289, 0.09218436873747494, 0.09418837675350701, 0.09619238476953908, 0.09819639278557114, 0.10020040080160321, 0.10220440881763528, 0.10420841683366733, 0.1062124248496994, 0.10821643286573146, 0.11022044088176353, 0.11222444889779559, 0.11422845691382766, 0.11623246492985972, 0.11823647294589178, 0.12024048096192384, 0.12224448897795591, 0.12424849699398798, 0.12625250501002003, 0.1282565130260521, 0.13026052104208416, 0.13226452905811623, 0.1342685370741483, 0.13627254509018036, 0.13827655310621242, 0.1402805611222445, 0.14228456913827656, 0.14428857715430862, 0.1462925851703407, 0.14829659318637275, 0.15030060120240482, 0.1523046092184369, 0.15430861723446893, 0.156312625250501, 0.15831663326653306, 0.16032064128256512, 0.1623246492985972, 0.16432865731462926, 0.16633266533066132, 0.1683366733466934, 0.17034068136272545, 0.17234468937875752, 0.1743486973947896, 0.17635270541082165, 0.17835671342685372, 0.18036072144288579, 0.18236472945891782, 0.1843687374749499, 0.18637274549098196, 0.18837675350701402, 0.1903807615230461, 0.19238476953907815, 0.19438877755511022, 0.1963927855711423, 0.19839679358717435, 0.20040080160320642, 0.20240480961923848, 0.20440881763527055, 0.20641282565130262, 0.20841683366733466, 0.21042084168336672, 0.2124248496993988, 0.21442885771543085, 0.21643286573146292, 0.218436873747495, 0.22044088176352705, 0.22244488977955912, 0.22444889779559118, 0.22645290581162325, 0.22845691382765532, 0.23046092184368738, 0.23246492985971945, 0.23446893787575152, 0.23647294589178355, 0.23847695390781562, 0.24048096192384769, 0.24248496993987975, 0.24448897795591182, 0.24649298597194388, 0.24849699398797595, 0.250501002004008, 0.25250501002004005, 0.2545090180360721, 0.2565130260521042, 0.25851703406813625, 0.2605210420841683, 0.2625250501002004, 0.26452905811623245, 0.2665330661322645, 0.2685370741482966, 0.27054108216432865, 0.2725450901803607, 0.2745490981963928, 0.27655310621242485, 0.2785571142284569, 0.280561122244489, 0.28256513026052105, 0.2845691382765531, 0.2865731462925852, 0.28857715430861725, 0.2905811623246493, 0.2925851703406814, 0.29458917835671344, 0.2965931863727455, 0.2985971943887776, 0.30060120240480964, 0.3026052104208417, 0.3046092184368738, 0.3066132264529058, 0.30861723446893785, 0.3106212424849699, 0.312625250501002, 0.31462925851703405, 0.3166332665330661, 0.3186372745490982, 0.32064128256513025, 0.3226452905811623, 0.3246492985971944, 0.32665330661322645, 0.3286573146292585, 0.3306613226452906, 0.33266533066132264, 0.3346693386773547, 0.3366733466933868, 0.33867735470941884, 0.3406813627254509, 0.342685370741483, 0.34468937875751504, 0.3466933867735471, 0.3486973947895792, 0.35070140280561124, 0.3527054108216433, 0.35470941883767537, 0.35671342685370744, 0.3587174348697395, 0.36072144288577157, 0.3627254509018036, 0.36472945891783565, 0.3667334669338677, 0.3687374749498998, 0.37074148296593185, 0.3727454909819639, 0.374749498997996, 0.37675350701402804, 0.3787575150300601, 0.3807615230460922, 0.38276553106212424, 0.3847695390781563, 0.3867735470941884, 0.38877755511022044, 0.3907815631262525, 0.3927855711422846, 0.39478957915831664, 0.3967935871743487, 0.39879759519038077, 0.40080160320641284, 0.4028056112224449, 0.40480961923847697, 0.40681362725450904, 0.4088176352705411, 0.41082164328657317, 0.41282565130260523, 0.4148296593186373, 0.4168336673346693, 0.4188376753507014, 0.42084168336673344, 0.4228456913827655, 0.4248496993987976, 0.42685370741482964, 0.4288577154308617, 0.4308617234468938, 0.43286573146292584, 0.4348697394789579, 0.43687374749499, 0.43887775551102204, 0.4408817635270541, 0.44288577154308617, 0.44488977955911824, 0.4468937875751503, 0.44889779559118237, 0.45090180360721444, 0.4529058116232465, 0.45490981963927857, 0.45691382765531063, 0.4589178356713427, 0.46092184368737477, 0.46292585170340683, 0.4649298597194389, 0.46693386773547096, 0.46893787575150303, 0.4709418837675351, 0.4729458917835671, 0.4749498997995992, 0.47695390781563124, 0.4789579158316633, 0.48096192384769537, 0.48296593186372744, 0.4849699398797595, 0.48697394789579157, 0.48897795591182364, 0.4909819639278557, 0.49298597194388777, 0.49498997995991983, 0.4969939879759519, 0.49899799599198397, 0.501002004008016, 0.503006012024048, 0.5050100200400801, 0.5070140280561122, 0.5090180360721442, 0.5110220440881763, 0.5130260521042084, 0.5150300601202404, 0.5170340681362725, 0.5190380761523046, 0.5210420841683366, 0.5230460921843687, 0.5250501002004008, 0.5270541082164328, 0.5290581162324649, 0.531062124248497, 0.533066132264529, 0.5350701402805611, 0.5370741482965932, 0.5390781563126252, 0.5410821643286573, 0.5430861723446894, 0.5450901803607214, 0.5470941883767535, 0.5490981963927856, 0.5511022044088176, 0.5531062124248497, 0.5551102204408818, 0.5571142284569138, 0.5591182364729459, 0.561122244488978, 0.56312625250501, 0.5651302605210421, 0.5671342685370742, 0.5691382765531062, 0.5711422845691383, 0.5731462925851704, 0.5751503006012024, 0.5771543086172345, 0.5791583166332666, 0.5811623246492986, 0.5831663326653307, 0.5851703406813628, 0.5871743486973948, 0.5891783567134269, 0.591182364729459, 0.593186372745491, 0.5951903807615231, 0.5971943887775552, 0.5991983967935872, 0.6012024048096193, 0.6032064128256514, 0.6052104208416834, 0.6072144288577155, 0.6092184368737475, 0.6112224448897795, 0.6132264529058116, 0.6152304609218436, 0.6172344689378757, 0.6192384769539078, 0.6212424849699398, 0.6232464929859719, 0.625250501002004, 0.627254509018036, 0.6292585170340681, 0.6312625250501002, 0.6332665330661322, 0.6352705410821643, 0.6372745490981964, 0.6392785571142284, 0.6412825651302605, 0.6432865731462926, 0.6452905811623246, 0.6472945891783567, 0.6492985971943888, 0.6513026052104208, 0.6533066132264529, 0.655310621242485, 0.657314629258517, 0.6593186372745491, 0.6613226452905812, 0.6633266533066132, 0.6653306613226453, 0.6673346693386774, 0.6693386773547094, 0.6713426853707415, 0.6733466933867736, 0.6753507014028056, 0.6773547094188377, 0.6793587174348698, 0.6813627254509018, 0.6833667334669339, 0.685370741482966, 0.687374749498998, 0.6893787575150301, 0.6913827655310621, 0.6933867735470942, 0.6953907815631263, 0.6973947895791583, 0.6993987975951904, 0.7014028056112225, 0.7034068136272545, 0.7054108216432866, 0.7074148296593187, 0.7094188376753507, 0.7114228456913828, 0.7134268537074149, 0.7154308617234469, 0.717434869739479, 0.7194388777555111, 0.7214428857715431, 0.7234468937875751, 0.7254509018036072, 0.7274549098196392, 0.7294589178356713, 0.7314629258517034, 0.7334669338677354, 0.7354709418837675, 0.7374749498997996, 0.7394789579158316, 0.7414829659318637, 0.7434869739478958, 0.7454909819639278, 0.7474949899799599, 0.749498997995992, 0.751503006012024, 0.7535070140280561, 0.7555110220440882, 0.7575150300601202, 0.7595190380761523, 0.7615230460921844, 0.7635270541082164, 0.7655310621242485, 0.7675350701402806, 0.7695390781563126, 0.7715430861723447, 0.7735470941883767, 0.7755511022044088, 0.7775551102204409, 0.779559118236473, 0.781563126252505, 0.7835671342685371, 0.7855711422845691, 0.7875751503006012, 0.7895791583166333, 0.7915831663326653, 0.7935871743486974, 0.7955911823647295, 0.7975951903807615, 0.7995991983967936, 0.8016032064128257, 0.8036072144288577, 0.8056112224448898, 0.8076152304609219, 0.8096192384769539, 0.811623246492986, 0.8136272545090181, 0.8156312625250501, 0.8176352705410822, 0.8196392785571143, 0.8216432865731463, 0.8236472945891784, 0.8256513026052105, 0.8276553106212425, 0.8296593186372746, 0.8316633266533067, 0.8336673346693386, 0.8356713426853707, 0.8376753507014028, 0.8396793587174348, 0.8416833667334669, 0.843687374749499, 0.845691382765531, 0.8476953907815631, 0.8496993987975952, 0.8517034068136272, 0.8537074148296593, 0.8557114228456913, 0.8577154308617234, 0.8597194388777555, 0.8617234468937875, 0.8637274549098196, 0.8657314629258517, 0.8677354709418837, 0.8697394789579158, 0.8717434869739479, 0.87374749498998, 0.875751503006012, 0.8777555110220441, 0.8797595190380761, 0.8817635270541082, 0.8837675350701403, 0.8857715430861723, 0.8877755511022044, 0.8897795591182365, 0.8917835671342685, 0.8937875751503006, 0.8957915831663327, 0.8977955911823647, 0.8997995991983968, 0.9018036072144289, 0.9038076152304609, 0.905811623246493, 0.9078156312625251, 0.9098196392785571, 0.9118236472945892, 0.9138276553106213, 0.9158316633266533, 0.9178356713426854, 0.9198396793587175, 0.9218436873747495, 0.9238476953907816, 0.9258517034068137, 0.9278557114228457, 0.9298597194388778, 0.9318637274549099, 0.9338677354709419, 0.935871743486974, 0.9378757515030061, 0.9398797595190381, 0.9418837675350702, 0.9438877755511023, 0.9458917835671342, 0.9478957915831663, 0.9498997995991983, 0.9519038076152304, 0.9539078156312625, 0.9559118236472945, 0.9579158316633266, 0.9599198396793587, 0.9619238476953907, 0.9639278557114228, 0.9659318637274549, 0.9679358717434869, 0.969939879759519, 0.9719438877755511, 0.9739478957915831, 0.9759519038076152, 0.9779559118236473, 0.9799599198396793, 0.9819639278557114, 0.9839679358717435, 0.9859719438877755, 0.9879759519038076, 0.9899799599198397, 0.9919839679358717, 0.9939879759519038, 0.9959919839679359, 0.9979959919839679, 1.0])\n",
       "              .range([&#x27;#ffffb2ff&#x27;, &#x27;#ffffb2ff&#x27;, &#x27;#ffffb2ff&#x27;, &#x27;#ffffb2ff&#x27;, &#x27;#ffffb2ff&#x27;, &#x27;#ffffb2ff&#x27;, &#x27;#ffffb2ff&#x27;, &#x27;#ffffb2ff&#x27;, &#x27;#ffffb2ff&#x27;, &#x27;#ffffb2ff&#x27;, &#x27;#ffffb2ff&#x27;, &#x27;#ffffb2ff&#x27;, &#x27;#ffffb2ff&#x27;, &#x27;#ffffb2ff&#x27;, &#x27;#ffffb2ff&#x27;, &#x27;#ffffb2ff&#x27;, &#x27;#ffffb2ff&#x27;, &#x27;#ffffb2ff&#x27;, &#x27;#ffffb2ff&#x27;, &#x27;#ffffb2ff&#x27;, &#x27;#ffffb2ff&#x27;, &#x27;#ffffb2ff&#x27;, &#x27;#ffffb2ff&#x27;, &#x27;#ffffb2ff&#x27;, &#x27;#ffffb2ff&#x27;, &#x27;#ffffb2ff&#x27;, &#x27;#ffffb2ff&#x27;, &#x27;#ffffb2ff&#x27;, &#x27;#ffffb2ff&#x27;, &#x27;#ffffb2ff&#x27;, &#x27;#ffffb2ff&#x27;, &#x27;#ffffb2ff&#x27;, &#x27;#ffffb2ff&#x27;, &#x27;#ffffb2ff&#x27;, &#x27;#ffffb2ff&#x27;, &#x27;#ffffb2ff&#x27;, &#x27;#ffffb2ff&#x27;, &#x27;#ffffb2ff&#x27;, &#x27;#ffffb2ff&#x27;, &#x27;#ffffb2ff&#x27;, &#x27;#ffffb2ff&#x27;, &#x27;#ffffb2ff&#x27;, &#x27;#ffffb2ff&#x27;, &#x27;#ffffb2ff&#x27;, &#x27;#ffffb2ff&#x27;, &#x27;#ffffb2ff&#x27;, &#x27;#ffffb2ff&#x27;, &#x27;#ffffb2ff&#x27;, &#x27;#ffffb2ff&#x27;, &#x27;#ffffb2ff&#x27;, &#x27;#ffffb2ff&#x27;, &#x27;#ffffb2ff&#x27;, &#x27;#ffffb2ff&#x27;, &#x27;#ffffb2ff&#x27;, &#x27;#ffffb2ff&#x27;, &#x27;#ffffb2ff&#x27;, &#x27;#ffffb2ff&#x27;, &#x27;#ffffb2ff&#x27;, &#x27;#ffffb2ff&#x27;, &#x27;#ffffb2ff&#x27;, &#x27;#ffffb2ff&#x27;, &#x27;#ffffb2ff&#x27;, &#x27;#ffffb2ff&#x27;, &#x27;#ffffb2ff&#x27;, &#x27;#ffffb2ff&#x27;, &#x27;#ffffb2ff&#x27;, &#x27;#ffffb2ff&#x27;, &#x27;#ffffb2ff&#x27;, &#x27;#ffffb2ff&#x27;, &#x27;#ffffb2ff&#x27;, &#x27;#ffffb2ff&#x27;, &#x27;#ffffb2ff&#x27;, &#x27;#ffffb2ff&#x27;, &#x27;#ffffb2ff&#x27;, &#x27;#ffffb2ff&#x27;, &#x27;#ffffb2ff&#x27;, &#x27;#ffffb2ff&#x27;, &#x27;#ffffb2ff&#x27;, &#x27;#ffffb2ff&#x27;, &#x27;#ffffb2ff&#x27;, &#x27;#ffffb2ff&#x27;, &#x27;#ffffb2ff&#x27;, &#x27;#ffffb2ff&#x27;, &#x27;#ffffb2ff&#x27;, &#x27;#fed976ff&#x27;, &#x27;#fed976ff&#x27;, &#x27;#fed976ff&#x27;, &#x27;#fed976ff&#x27;, &#x27;#fed976ff&#x27;, &#x27;#fed976ff&#x27;, &#x27;#fed976ff&#x27;, &#x27;#fed976ff&#x27;, &#x27;#fed976ff&#x27;, &#x27;#fed976ff&#x27;, &#x27;#fed976ff&#x27;, &#x27;#fed976ff&#x27;, &#x27;#fed976ff&#x27;, &#x27;#fed976ff&#x27;, &#x27;#fed976ff&#x27;, &#x27;#fed976ff&#x27;, &#x27;#fed976ff&#x27;, &#x27;#fed976ff&#x27;, &#x27;#fed976ff&#x27;, &#x27;#fed976ff&#x27;, &#x27;#fed976ff&#x27;, &#x27;#fed976ff&#x27;, &#x27;#fed976ff&#x27;, &#x27;#fed976ff&#x27;, &#x27;#fed976ff&#x27;, &#x27;#fed976ff&#x27;, &#x27;#fed976ff&#x27;, &#x27;#fed976ff&#x27;, &#x27;#fed976ff&#x27;, &#x27;#fed976ff&#x27;, &#x27;#fed976ff&#x27;, &#x27;#fed976ff&#x27;, &#x27;#fed976ff&#x27;, &#x27;#fed976ff&#x27;, &#x27;#fed976ff&#x27;, &#x27;#fed976ff&#x27;, &#x27;#fed976ff&#x27;, &#x27;#fed976ff&#x27;, &#x27;#fed976ff&#x27;, &#x27;#fed976ff&#x27;, &#x27;#fed976ff&#x27;, &#x27;#fed976ff&#x27;, &#x27;#fed976ff&#x27;, &#x27;#fed976ff&#x27;, &#x27;#fed976ff&#x27;, &#x27;#fed976ff&#x27;, &#x27;#fed976ff&#x27;, &#x27;#fed976ff&#x27;, &#x27;#fed976ff&#x27;, &#x27;#fed976ff&#x27;, &#x27;#fed976ff&#x27;, &#x27;#fed976ff&#x27;, &#x27;#fed976ff&#x27;, &#x27;#fed976ff&#x27;, &#x27;#fed976ff&#x27;, &#x27;#fed976ff&#x27;, &#x27;#fed976ff&#x27;, &#x27;#fed976ff&#x27;, &#x27;#fed976ff&#x27;, &#x27;#fed976ff&#x27;, &#x27;#fed976ff&#x27;, &#x27;#fed976ff&#x27;, &#x27;#fed976ff&#x27;, &#x27;#fed976ff&#x27;, &#x27;#fed976ff&#x27;, &#x27;#fed976ff&#x27;, &#x27;#fed976ff&#x27;, &#x27;#fed976ff&#x27;, &#x27;#fed976ff&#x27;, &#x27;#fed976ff&#x27;, &#x27;#fed976ff&#x27;, &#x27;#fed976ff&#x27;, &#x27;#fed976ff&#x27;, &#x27;#fed976ff&#x27;, &#x27;#fed976ff&#x27;, &#x27;#fed976ff&#x27;, &#x27;#fed976ff&#x27;, &#x27;#fed976ff&#x27;, &#x27;#fed976ff&#x27;, &#x27;#fed976ff&#x27;, &#x27;#fed976ff&#x27;, &#x27;#fed976ff&#x27;, &#x27;#fed976ff&#x27;, &#x27;#feb24cff&#x27;, &#x27;#feb24cff&#x27;, &#x27;#feb24cff&#x27;, &#x27;#feb24cff&#x27;, &#x27;#feb24cff&#x27;, &#x27;#feb24cff&#x27;, &#x27;#feb24cff&#x27;, &#x27;#feb24cff&#x27;, &#x27;#feb24cff&#x27;, &#x27;#feb24cff&#x27;, &#x27;#feb24cff&#x27;, &#x27;#feb24cff&#x27;, &#x27;#feb24cff&#x27;, &#x27;#feb24cff&#x27;, &#x27;#feb24cff&#x27;, &#x27;#feb24cff&#x27;, &#x27;#feb24cff&#x27;, &#x27;#feb24cff&#x27;, &#x27;#feb24cff&#x27;, &#x27;#feb24cff&#x27;, &#x27;#feb24cff&#x27;, &#x27;#feb24cff&#x27;, &#x27;#feb24cff&#x27;, &#x27;#feb24cff&#x27;, &#x27;#feb24cff&#x27;, &#x27;#feb24cff&#x27;, &#x27;#feb24cff&#x27;, &#x27;#feb24cff&#x27;, &#x27;#feb24cff&#x27;, &#x27;#feb24cff&#x27;, &#x27;#feb24cff&#x27;, &#x27;#feb24cff&#x27;, &#x27;#feb24cff&#x27;, &#x27;#feb24cff&#x27;, &#x27;#feb24cff&#x27;, &#x27;#feb24cff&#x27;, &#x27;#feb24cff&#x27;, &#x27;#feb24cff&#x27;, &#x27;#feb24cff&#x27;, &#x27;#feb24cff&#x27;, &#x27;#feb24cff&#x27;, &#x27;#feb24cff&#x27;, &#x27;#feb24cff&#x27;, &#x27;#feb24cff&#x27;, &#x27;#feb24cff&#x27;, &#x27;#feb24cff&#x27;, &#x27;#feb24cff&#x27;, &#x27;#feb24cff&#x27;, &#x27;#feb24cff&#x27;, &#x27;#feb24cff&#x27;, &#x27;#feb24cff&#x27;, &#x27;#feb24cff&#x27;, &#x27;#feb24cff&#x27;, &#x27;#feb24cff&#x27;, &#x27;#feb24cff&#x27;, &#x27;#feb24cff&#x27;, &#x27;#feb24cff&#x27;, &#x27;#feb24cff&#x27;, &#x27;#feb24cff&#x27;, &#x27;#feb24cff&#x27;, &#x27;#feb24cff&#x27;, &#x27;#feb24cff&#x27;, &#x27;#feb24cff&#x27;, &#x27;#feb24cff&#x27;, &#x27;#feb24cff&#x27;, &#x27;#feb24cff&#x27;, &#x27;#feb24cff&#x27;, &#x27;#feb24cff&#x27;, &#x27;#feb24cff&#x27;, &#x27;#feb24cff&#x27;, &#x27;#feb24cff&#x27;, &#x27;#feb24cff&#x27;, &#x27;#feb24cff&#x27;, &#x27;#feb24cff&#x27;, &#x27;#feb24cff&#x27;, &#x27;#feb24cff&#x27;, &#x27;#feb24cff&#x27;, &#x27;#feb24cff&#x27;, &#x27;#feb24cff&#x27;, &#x27;#feb24cff&#x27;, &#x27;#feb24cff&#x27;, &#x27;#feb24cff&#x27;, &#x27;#feb24cff&#x27;, &#x27;#fd8d3cff&#x27;, &#x27;#fd8d3cff&#x27;, &#x27;#fd8d3cff&#x27;, &#x27;#fd8d3cff&#x27;, &#x27;#fd8d3cff&#x27;, &#x27;#fd8d3cff&#x27;, &#x27;#fd8d3cff&#x27;, &#x27;#fd8d3cff&#x27;, &#x27;#fd8d3cff&#x27;, &#x27;#fd8d3cff&#x27;, &#x27;#fd8d3cff&#x27;, &#x27;#fd8d3cff&#x27;, &#x27;#fd8d3cff&#x27;, &#x27;#fd8d3cff&#x27;, &#x27;#fd8d3cff&#x27;, &#x27;#fd8d3cff&#x27;, &#x27;#fd8d3cff&#x27;, &#x27;#fd8d3cff&#x27;, &#x27;#fd8d3cff&#x27;, &#x27;#fd8d3cff&#x27;, &#x27;#fd8d3cff&#x27;, &#x27;#fd8d3cff&#x27;, &#x27;#fd8d3cff&#x27;, &#x27;#fd8d3cff&#x27;, &#x27;#fd8d3cff&#x27;, &#x27;#fd8d3cff&#x27;, &#x27;#fd8d3cff&#x27;, &#x27;#fd8d3cff&#x27;, &#x27;#fd8d3cff&#x27;, &#x27;#fd8d3cff&#x27;, &#x27;#fd8d3cff&#x27;, &#x27;#fd8d3cff&#x27;, &#x27;#fd8d3cff&#x27;, &#x27;#fd8d3cff&#x27;, &#x27;#fd8d3cff&#x27;, &#x27;#fd8d3cff&#x27;, &#x27;#fd8d3cff&#x27;, &#x27;#fd8d3cff&#x27;, &#x27;#fd8d3cff&#x27;, &#x27;#fd8d3cff&#x27;, &#x27;#fd8d3cff&#x27;, &#x27;#fd8d3cff&#x27;, &#x27;#fd8d3cff&#x27;, &#x27;#fd8d3cff&#x27;, &#x27;#fd8d3cff&#x27;, &#x27;#fd8d3cff&#x27;, &#x27;#fd8d3cff&#x27;, &#x27;#fd8d3cff&#x27;, &#x27;#fd8d3cff&#x27;, &#x27;#fd8d3cff&#x27;, &#x27;#fd8d3cff&#x27;, &#x27;#fd8d3cff&#x27;, &#x27;#fd8d3cff&#x27;, &#x27;#fd8d3cff&#x27;, &#x27;#fd8d3cff&#x27;, &#x27;#fd8d3cff&#x27;, &#x27;#fd8d3cff&#x27;, &#x27;#fd8d3cff&#x27;, &#x27;#fd8d3cff&#x27;, &#x27;#fd8d3cff&#x27;, &#x27;#fd8d3cff&#x27;, &#x27;#fd8d3cff&#x27;, &#x27;#fd8d3cff&#x27;, &#x27;#fd8d3cff&#x27;, &#x27;#fd8d3cff&#x27;, &#x27;#fd8d3cff&#x27;, &#x27;#fd8d3cff&#x27;, &#x27;#fd8d3cff&#x27;, &#x27;#fd8d3cff&#x27;, &#x27;#fd8d3cff&#x27;, &#x27;#fd8d3cff&#x27;, &#x27;#fd8d3cff&#x27;, &#x27;#fd8d3cff&#x27;, &#x27;#fd8d3cff&#x27;, &#x27;#fd8d3cff&#x27;, &#x27;#fd8d3cff&#x27;, &#x27;#fd8d3cff&#x27;, &#x27;#fd8d3cff&#x27;, &#x27;#fd8d3cff&#x27;, &#x27;#fd8d3cff&#x27;, &#x27;#fd8d3cff&#x27;, &#x27;#fd8d3cff&#x27;, &#x27;#fd8d3cff&#x27;, &#x27;#f03b20ff&#x27;, &#x27;#f03b20ff&#x27;, &#x27;#f03b20ff&#x27;, &#x27;#f03b20ff&#x27;, &#x27;#f03b20ff&#x27;, &#x27;#f03b20ff&#x27;, &#x27;#f03b20ff&#x27;, &#x27;#f03b20ff&#x27;, &#x27;#f03b20ff&#x27;, &#x27;#f03b20ff&#x27;, &#x27;#f03b20ff&#x27;, &#x27;#f03b20ff&#x27;, &#x27;#f03b20ff&#x27;, &#x27;#f03b20ff&#x27;, &#x27;#f03b20ff&#x27;, &#x27;#f03b20ff&#x27;, &#x27;#f03b20ff&#x27;, &#x27;#f03b20ff&#x27;, &#x27;#f03b20ff&#x27;, &#x27;#f03b20ff&#x27;, &#x27;#f03b20ff&#x27;, &#x27;#f03b20ff&#x27;, &#x27;#f03b20ff&#x27;, &#x27;#f03b20ff&#x27;, &#x27;#f03b20ff&#x27;, &#x27;#f03b20ff&#x27;, &#x27;#f03b20ff&#x27;, &#x27;#f03b20ff&#x27;, &#x27;#f03b20ff&#x27;, &#x27;#f03b20ff&#x27;, &#x27;#f03b20ff&#x27;, &#x27;#f03b20ff&#x27;, &#x27;#f03b20ff&#x27;, &#x27;#f03b20ff&#x27;, &#x27;#f03b20ff&#x27;, &#x27;#f03b20ff&#x27;, &#x27;#f03b20ff&#x27;, &#x27;#f03b20ff&#x27;, &#x27;#f03b20ff&#x27;, &#x27;#f03b20ff&#x27;, &#x27;#f03b20ff&#x27;, &#x27;#f03b20ff&#x27;, &#x27;#f03b20ff&#x27;, &#x27;#f03b20ff&#x27;, &#x27;#f03b20ff&#x27;, &#x27;#f03b20ff&#x27;, &#x27;#f03b20ff&#x27;, &#x27;#f03b20ff&#x27;, &#x27;#f03b20ff&#x27;, &#x27;#f03b20ff&#x27;, &#x27;#f03b20ff&#x27;, &#x27;#f03b20ff&#x27;, &#x27;#f03b20ff&#x27;, &#x27;#f03b20ff&#x27;, &#x27;#f03b20ff&#x27;, &#x27;#f03b20ff&#x27;, &#x27;#f03b20ff&#x27;, &#x27;#f03b20ff&#x27;, &#x27;#f03b20ff&#x27;, &#x27;#f03b20ff&#x27;, &#x27;#f03b20ff&#x27;, &#x27;#f03b20ff&#x27;, &#x27;#f03b20ff&#x27;, &#x27;#f03b20ff&#x27;, &#x27;#f03b20ff&#x27;, &#x27;#f03b20ff&#x27;, &#x27;#f03b20ff&#x27;, &#x27;#f03b20ff&#x27;, &#x27;#f03b20ff&#x27;, &#x27;#f03b20ff&#x27;, &#x27;#f03b20ff&#x27;, &#x27;#f03b20ff&#x27;, &#x27;#f03b20ff&#x27;, &#x27;#f03b20ff&#x27;, &#x27;#f03b20ff&#x27;, &#x27;#f03b20ff&#x27;, &#x27;#f03b20ff&#x27;, &#x27;#f03b20ff&#x27;, &#x27;#f03b20ff&#x27;, &#x27;#f03b20ff&#x27;, &#x27;#f03b20ff&#x27;, &#x27;#f03b20ff&#x27;, &#x27;#f03b20ff&#x27;, &#x27;#bd0026ff&#x27;, &#x27;#bd0026ff&#x27;, &#x27;#bd0026ff&#x27;, &#x27;#bd0026ff&#x27;, &#x27;#bd0026ff&#x27;, &#x27;#bd0026ff&#x27;, &#x27;#bd0026ff&#x27;, &#x27;#bd0026ff&#x27;, &#x27;#bd0026ff&#x27;, &#x27;#bd0026ff&#x27;, &#x27;#bd0026ff&#x27;, &#x27;#bd0026ff&#x27;, &#x27;#bd0026ff&#x27;, &#x27;#bd0026ff&#x27;, &#x27;#bd0026ff&#x27;, &#x27;#bd0026ff&#x27;, &#x27;#bd0026ff&#x27;, &#x27;#bd0026ff&#x27;, &#x27;#bd0026ff&#x27;, &#x27;#bd0026ff&#x27;, &#x27;#bd0026ff&#x27;, &#x27;#bd0026ff&#x27;, &#x27;#bd0026ff&#x27;, &#x27;#bd0026ff&#x27;, &#x27;#bd0026ff&#x27;, &#x27;#bd0026ff&#x27;, &#x27;#bd0026ff&#x27;, &#x27;#bd0026ff&#x27;, &#x27;#bd0026ff&#x27;, &#x27;#bd0026ff&#x27;, &#x27;#bd0026ff&#x27;, &#x27;#bd0026ff&#x27;, &#x27;#bd0026ff&#x27;, &#x27;#bd0026ff&#x27;, &#x27;#bd0026ff&#x27;, &#x27;#bd0026ff&#x27;, &#x27;#bd0026ff&#x27;, &#x27;#bd0026ff&#x27;, &#x27;#bd0026ff&#x27;, &#x27;#bd0026ff&#x27;, &#x27;#bd0026ff&#x27;, &#x27;#bd0026ff&#x27;, &#x27;#bd0026ff&#x27;, &#x27;#bd0026ff&#x27;, &#x27;#bd0026ff&#x27;, &#x27;#bd0026ff&#x27;, &#x27;#bd0026ff&#x27;, &#x27;#bd0026ff&#x27;, &#x27;#bd0026ff&#x27;, &#x27;#bd0026ff&#x27;, &#x27;#bd0026ff&#x27;, &#x27;#bd0026ff&#x27;, &#x27;#bd0026ff&#x27;, &#x27;#bd0026ff&#x27;, &#x27;#bd0026ff&#x27;, &#x27;#bd0026ff&#x27;, &#x27;#bd0026ff&#x27;, &#x27;#bd0026ff&#x27;, &#x27;#bd0026ff&#x27;, &#x27;#bd0026ff&#x27;, &#x27;#bd0026ff&#x27;, &#x27;#bd0026ff&#x27;, &#x27;#bd0026ff&#x27;, &#x27;#bd0026ff&#x27;, &#x27;#bd0026ff&#x27;, &#x27;#bd0026ff&#x27;, &#x27;#bd0026ff&#x27;, &#x27;#bd0026ff&#x27;, &#x27;#bd0026ff&#x27;, &#x27;#bd0026ff&#x27;, &#x27;#bd0026ff&#x27;, &#x27;#bd0026ff&#x27;, &#x27;#bd0026ff&#x27;, &#x27;#bd0026ff&#x27;, &#x27;#bd0026ff&#x27;, &#x27;#bd0026ff&#x27;, &#x27;#bd0026ff&#x27;, &#x27;#bd0026ff&#x27;, &#x27;#bd0026ff&#x27;, &#x27;#bd0026ff&#x27;, &#x27;#bd0026ff&#x27;, &#x27;#bd0026ff&#x27;, &#x27;#bd0026ff&#x27;, &#x27;#bd0026ff&#x27;]);\n",
       "    \n",
       "\n",
       "    color_map_410c35375e6e2f5683fc00d5d137855c.x = d3.scale.linear()\n",
       "              .domain([0.0, 1.0])\n",
       "              .range([0, 450 - 50]);\n",
       "\n",
       "    color_map_410c35375e6e2f5683fc00d5d137855c.legend = L.control({position: &#x27;topright&#x27;});\n",
       "    color_map_410c35375e6e2f5683fc00d5d137855c.legend.onAdd = function (map) {var div = L.DomUtil.create(&#x27;div&#x27;, &#x27;legend&#x27;); return div};\n",
       "    color_map_410c35375e6e2f5683fc00d5d137855c.legend.addTo(map_b9b51d7e6862c13469940b971eb55e01);\n",
       "\n",
       "    color_map_410c35375e6e2f5683fc00d5d137855c.xAxis = d3.svg.axis()\n",
       "        .scale(color_map_410c35375e6e2f5683fc00d5d137855c.x)\n",
       "        .orient(&quot;top&quot;)\n",
       "        .tickSize(1)\n",
       "        .tickValues([0.0, 0.16666666666666666, 0.3333333333333333, 0.5, 0.6666666666666666, 0.8333333333333333, 1.0]);\n",
       "\n",
       "    color_map_410c35375e6e2f5683fc00d5d137855c.svg = d3.select(&quot;.legend.leaflet-control&quot;).append(&quot;svg&quot;)\n",
       "        .attr(&quot;id&quot;, &#x27;legend&#x27;)\n",
       "        .attr(&quot;width&quot;, 450)\n",
       "        .attr(&quot;height&quot;, 40);\n",
       "\n",
       "    color_map_410c35375e6e2f5683fc00d5d137855c.g = color_map_410c35375e6e2f5683fc00d5d137855c.svg.append(&quot;g&quot;)\n",
       "        .attr(&quot;class&quot;, &quot;key&quot;)\n",
       "        .attr(&quot;transform&quot;, &quot;translate(25,16)&quot;);\n",
       "\n",
       "    color_map_410c35375e6e2f5683fc00d5d137855c.g.selectAll(&quot;rect&quot;)\n",
       "        .data(color_map_410c35375e6e2f5683fc00d5d137855c.color.range().map(function(d, i) {\n",
       "          return {\n",
       "            x0: i ? color_map_410c35375e6e2f5683fc00d5d137855c.x(color_map_410c35375e6e2f5683fc00d5d137855c.color.domain()[i - 1]) : color_map_410c35375e6e2f5683fc00d5d137855c.x.range()[0],\n",
       "            x1: i &lt; color_map_410c35375e6e2f5683fc00d5d137855c.color.domain().length ? color_map_410c35375e6e2f5683fc00d5d137855c.x(color_map_410c35375e6e2f5683fc00d5d137855c.color.domain()[i]) : color_map_410c35375e6e2f5683fc00d5d137855c.x.range()[1],\n",
       "            z: d\n",
       "          };\n",
       "        }))\n",
       "      .enter().append(&quot;rect&quot;)\n",
       "        .attr(&quot;height&quot;, 40 - 30)\n",
       "        .attr(&quot;x&quot;, function(d) { return d.x0; })\n",
       "        .attr(&quot;width&quot;, function(d) { return d.x1 - d.x0; })\n",
       "        .style(&quot;fill&quot;, function(d) { return d.z; });\n",
       "\n",
       "    color_map_410c35375e6e2f5683fc00d5d137855c.g.call(color_map_410c35375e6e2f5683fc00d5d137855c.xAxis).append(&quot;text&quot;)\n",
       "        .attr(&quot;class&quot;, &quot;caption&quot;)\n",
       "        .attr(&quot;y&quot;, 21)\n",
       "        .text(&quot;Accuracy&quot;);\n",
       "    \n",
       "            choropleth_a3f2b76d3bb7ec36422bf536db517f15.addTo(map_b9b51d7e6862c13469940b971eb55e01);\n",
       "        \n",
       "&lt;/script&gt;\n",
       "&lt;/html&gt;\" style=\"position:absolute;width:100%;height:100%;left:0;top:0;border:none !important;\" allowfullscreen webkitallowfullscreen mozallowfullscreen></iframe></div></div>"
      ],
      "text/plain": [
       "<folium.folium.Map at 0x2080eb5ce60>"
      ]
     },
     "execution_count": 31,
     "metadata": {},
     "output_type": "execute_result"
    }
   ],
   "source": [
    "dropped_na = severity.dropna(subset=[\"CAUSE.CATEGORY.DETAIL\", \"SEVERITY\"])\n",
    "\n",
    "def accuracies_by_state(df):\n",
    "    accuracy = lambda df: (model.predict(df.drop(\"SEVERITY\", axis=1)) == df[\"SEVERITY\"]).mean()\n",
    "    return {\n",
    "        state: accuracy(df[df[\"POSTAL.CODE\"] == state]) \n",
    "        for state in df[\"POSTAL.CODE\"].unique()\n",
    "        if len(df[df[\"POSTAL.CODE\"] == state])\n",
    "    }\n",
    "\n",
    "observed_accuracies = pd.Series(accuracies_by_state(dropped_na))\n",
    "plot_geo(observed_accuracies, legend_name=\"Accuracy\")\n",
    "# px.histogram(pd.Series(accuracies), title=\"Accuracy by State\")"
   ]
  },
  {
   "cell_type": "code",
   "execution_count": 32,
   "metadata": {},
   "outputs": [
    {
     "name": "stderr",
     "output_type": "stream",
     "text": [
      "100%|██████████| 1000/1000 [05:48<00:00,  2.87it/s]"
     ]
    },
    {
     "name": "stdout",
     "output_type": "stream",
     "text": [
      "p-value: 0.036\n",
      "Hypothesis: Fail to Reject\n"
     ]
    },
    {
     "name": "stderr",
     "output_type": "stream",
     "text": [
      "\n"
     ]
    }
   ],
   "source": [
    "from tqdm import tqdm\n",
    "\n",
    "observed = observed_accuracies.std()\n",
    "stats = np.array([])\n",
    "\n",
    "for _ in tqdm(range(1000)):\n",
    "    shuffled = dropped_na.assign(**{\"POSTAL.CODE\": np.random.permutation(dropped_na[\"POSTAL.CODE\"])})\n",
    "    stat = pd.Series(accuracies_by_state(shuffled)).std()\n",
    "    stats = np.append(stats, stat)\n",
    "\n",
    "pval = (stats >= observed).mean()\n",
    "result = \"Reject\" if pval < 0.01 else \"Fail to Reject\"\n",
    "print(f\"p-value: {pval}\\nHypothesis: {result}\")"
   ]
  },
  {
   "cell_type": "code",
   "execution_count": 33,
   "metadata": {},
   "outputs": [
    {
     "data": {
      "application/vnd.plotly.v1+json": {
       "config": {
        "plotlyServerURL": "https://plot.ly"
       },
       "data": [
        {
         "alignmentgroup": "True",
         "bingroup": "x",
         "hovertemplate": "variable=0<br>value=%{x}<br>count=%{y}<extra></extra>",
         "legendgroup": "0",
         "marker": {
          "color": "#636efa",
          "pattern": {
           "shape": ""
          }
         },
         "name": "0",
         "offsetgroup": "0",
         "orientation": "v",
         "showlegend": true,
         "type": "histogram",
         "x": [
          0.1394364414029729,
          0.14601376152335735,
          0.1845082336533707,
          0.12040752733451461,
          0.1478843467582861,
          0.13938887298821795,
          0.15607871450658925,
          0.14533294978808337,
          0.12443427408959402,
          0.12877695674968637,
          0.1465480819712243,
          0.1301079671915249,
          0.10722318206338906,
          0.11349231239711495,
          0.11663673660874593,
          0.1705630404876599,
          0.1737834276403526,
          0.12828407470725814,
          0.1399455651238649,
          0.14165420311826585,
          0.12432449350617443,
          0.14452646207645956,
          0.1388787928612924,
          0.14814560897755116,
          0.1712752246870173,
          0.11733731870758642,
          0.14405114659625423,
          0.13788531118178673,
          0.17647364012992067,
          0.19382050853973695,
          0.15824973750525076,
          0.16291852557233444,
          0.157782053083911,
          0.1485544568900414,
          0.13815527270440559,
          0.1305183396003996,
          0.12360262325726826,
          0.15653356907454843,
          0.13595122254389141,
          0.14911898479785943,
          0.15094667752062368,
          0.13394656823370477,
          0.124126619187655,
          0.14497312493318448,
          0.1665432141031056,
          0.1768977814413616,
          0.1604451259421227,
          0.11757601574994704,
          0.11436356746399157,
          0.10532951335004134,
          0.11539641368874208,
          0.13927627466646939,
          0.11659752215710252,
          0.13579133747794261,
          0.17368504080159464,
          0.145455856716008,
          0.12830495164248246,
          0.14339224155845687,
          0.12716991434755973,
          0.12001262151533458,
          0.11885607374992138,
          0.14540944382603535,
          0.13404234941459148,
          0.12599652008608483,
          0.16519428525564694,
          0.1388306246440989,
          0.16732605763805122,
          0.14376201410775877,
          0.1365666381252225,
          0.10895572948802675,
          0.13148842052885054,
          0.14345151274576926,
          0.12972950173710054,
          0.13572808120867086,
          0.13797465021035768,
          0.11425403745640389,
          0.11693142061753206,
          0.15707695457842874,
          0.17984253028235578,
          0.1280509344412238,
          0.14917349828629062,
          0.18214929902648966,
          0.12137108396876707,
          0.10747213061098551,
          0.1530848560474589,
          0.13758517094177303,
          0.12851047807210836,
          0.17605694843990652,
          0.17393988900204124,
          0.13138554869180147,
          0.1095934646256854,
          0.13021160410806432,
          0.12509336949450262,
          0.16464114881431818,
          0.11187508093754209,
          0.12158754743183467,
          0.15452572537671752,
          0.13241123731047846,
          0.12510713031532117,
          0.21555978774965429,
          0.14002607883046841,
          0.16610592709276037,
          0.1417048402007835,
          0.17217670946375166,
          0.16073100763369844,
          0.13698690356644888,
          0.1705759616049961,
          0.14811858954176876,
          0.1463402022501373,
          0.15775070631559995,
          0.17318111188199545,
          0.13071274568904248,
          0.11078825267121967,
          0.12067804424593634,
          0.1390080252620931,
          0.13732283520571872,
          0.14772632467112903,
          0.11997013116599578,
          0.2040870891486811,
          0.2018449122556215,
          0.16886482238836864,
          0.13324429420749076,
          0.12634488678413067,
          0.13824446190979123,
          0.1115725067979417,
          0.13990800358270308,
          0.12898862976672631,
          0.09564753041051548,
          0.12002516062239013,
          0.11867117075650112,
          0.1079094884081715,
          0.14911832678857195,
          0.13866385287023716,
          0.11402917906586456,
          0.1408058531545321,
          0.14125739114154887,
          0.13038067883103663,
          0.12733582563479437,
          0.10559563127151363,
          0.1372581561453129,
          0.14530244261777062,
          0.14087211825181645,
          0.1272075410232737,
          0.14346126133049114,
          0.12686958738817486,
          0.1883795206598828,
          0.1427165746996487,
          0.1542537456813213,
          0.12166241287126578,
          0.19126179481198669,
          0.12429007373563995,
          0.12932580031150026,
          0.12977843579029014,
          0.12240121571618814,
          0.13890415156672706,
          0.1547346637793722,
          0.11700918697351348,
          0.10826738369290832,
          0.14045670899180757,
          0.12528817292239405,
          0.12274565045023242,
          0.16594111564587044,
          0.1549942149606313,
          0.11201396485207629,
          0.1424004169053048,
          0.11712861194061569,
          0.13240076432872885,
          0.12952785834793487,
          0.1504247191848633,
          0.11912925574829676,
          0.13945478744521983,
          0.13686515617657966,
          0.13442979964662452,
          0.13527815261943993,
          0.174745902379358,
          0.15086798102039597,
          0.11871059769825054,
          0.15186491708079458,
          0.14267832408907358,
          0.15631465961119356,
          0.16938319829834284,
          0.15231234767101226,
          0.1200934799921187,
          0.13002091047683767,
          0.18781821712312652,
          0.11872124157871287,
          0.1553500485241716,
          0.1311643444366201,
          0.13815976373644318,
          0.14899831118638482,
          0.1562039577669871,
          0.1330294876922822,
          0.1435043069086387,
          0.13677447718692717,
          0.16490019644395618,
          0.12194074084991015,
          0.15805886424123491,
          0.14351357635462678,
          0.11825618098701907,
          0.16712275647282573,
          0.1504851992693744,
          0.1263939964343358,
          0.1335516321729499,
          0.11859492662421046,
          0.13815471939784407,
          0.12967100982674068,
          0.1551051808615614,
          0.18043625582486997,
          0.11828949811813902,
          0.1436440401073897,
          0.11530099715929804,
          0.1611921649111107,
          0.1330595054069796,
          0.14869613509647028,
          0.14958522447153141,
          0.14988051633824723,
          0.1499759169260395,
          0.1549174262924826,
          0.168979548748898,
          0.18779323073892984,
          0.1193960202939362,
          0.13078662028082674,
          0.1484557627061146,
          0.13273848726699905,
          0.1344302016066909,
          0.12097109624667085,
          0.1583381273809505,
          0.13285761536727111,
          0.14848226481423069,
          0.11120948603141301,
          0.19329723263442605,
          0.14165723355895143,
          0.1175827868538893,
          0.14114852948936005,
          0.12779298118168322,
          0.14545265157447546,
          0.13921700374299173,
          0.13974998276645956,
          0.13339692450998092,
          0.1169611909468413,
          0.13812699074890605,
          0.17596434237641737,
          0.13072080205043113,
          0.11688003331240139,
          0.12053144452492336,
          0.10805378177256804,
          0.1986726943476765,
          0.1352398052796832,
          0.12671096233778828,
          0.13467217836602305,
          0.11926971256188944,
          0.16991614497044144,
          0.13054400140629346,
          0.12121615289852794,
          0.15093548794821474,
          0.1141129906923524,
          0.12502689198172318,
          0.12065872108274371,
          0.15991522961171192,
          0.16368863455312319,
          0.13241075860976484,
          0.14479699183102043,
          0.14546829412043233,
          0.14981288604271645,
          0.12277672743679162,
          0.12877325300978038,
          0.13389205266970863,
          0.13244594291275666,
          0.12867521951913233,
          0.12073564913994993,
          0.12309154208756172,
          0.14093523695431143,
          0.12456311468446472,
          0.1501291424407483,
          0.12980071793326842,
          0.1389823379374237,
          0.21240947089511342,
          0.12037491818607172,
          0.12685970425677096,
          0.1654511181927844,
          0.12995664927612485,
          0.12749064875133134,
          0.1683369637910789,
          0.1485327508991368,
          0.17035919315601483,
          0.15599548568565777,
          0.17231004354438445,
          0.1296709418761026,
          0.13079499298145958,
          0.13686049512707138,
          0.1694842147376249,
          0.12305162883910398,
          0.16589056629584537,
          0.14029529451878517,
          0.12283791834075658,
          0.15293708506149592,
          0.12512005093119105,
          0.14229578934797676,
          0.14327138437557693,
          0.1735004277947716,
          0.19924804654254977,
          0.1332384165400035,
          0.1394407961721261,
          0.13782772252371955,
          0.13691055069231772,
          0.1500408781515784,
          0.11919953663398666,
          0.12512796742284354,
          0.14183630379289577,
          0.10890900930754595,
          0.13385007217071496,
          0.1332379852202958,
          0.1313605146631227,
          0.1369557242531196,
          0.20657359914739976,
          0.2119589890453754,
          0.18302737742933856,
          0.1372388417997078,
          0.12624941723160335,
          0.189243327201764,
          0.1382399626791376,
          0.17335682829384638,
          0.1454311150852665,
          0.1413383651654658,
          0.13446381111604838,
          0.1289137601963581,
          0.18116296267841853,
          0.16130066524007775,
          0.13396221562855581,
          0.2006596531186991,
          0.12712315374559088,
          0.1773645558814432,
          0.11243932632323932,
          0.12299674622741907,
          0.14119163630675957,
          0.13316896587053625,
          0.12978839582796628,
          0.14134179129638802,
          0.1593706902058939,
          0.12184732028241316,
          0.15453852399486787,
          0.19846805700194722,
          0.1140607790871779,
          0.15355586797141924,
          0.114702315246798,
          0.1245983728149742,
          0.11732761825120944,
          0.12339728772698948,
          0.13610501636877498,
          0.17356179313049402,
          0.12783647157109768,
          0.1289180042906437,
          0.11963858154698162,
          0.1628728784959954,
          0.12144938449111498,
          0.1352519255234479,
          0.14636537298635116,
          0.16721492768217563,
          0.12213077091159726,
          0.14203039822571958,
          0.1457367993751122,
          0.14444572573954054,
          0.12611665482039663,
          0.1183703186423821,
          0.13156877055241586,
          0.1505061570309568,
          0.1286565538394972,
          0.20609071159397885,
          0.14640811618157212,
          0.12609475447367127,
          0.17456077560687963,
          0.1140042601573094,
          0.14793228500874592,
          0.12846158481312697,
          0.12672564695269609,
          0.13916926052086973,
          0.14213695420289327,
          0.1348652976089113,
          0.15615894870503744,
          0.1235088298603458,
          0.14943531272710697,
          0.14436970593084972,
          0.14091404042379796,
          0.14197868141961015,
          0.1576324710866035,
          0.1645216690046888,
          0.14039159349283037,
          0.14252628602134682,
          0.15362898026388946,
          0.1875066552171578,
          0.12276825217075732,
          0.14553513261931536,
          0.1753988029959007,
          0.16382993480361335,
          0.15000094974477882,
          0.11930537211348916,
          0.13070099689691086,
          0.12419479753025717,
          0.14906035229974837,
          0.11331845865052236,
          0.1333635174189447,
          0.1432262399691673,
          0.15470845695283675,
          0.14935414583741163,
          0.11963938456174336,
          0.12685008257948938,
          0.140445271949828,
          0.1207754989318113,
          0.13197995822906397,
          0.14473869499343017,
          0.1286752246581574,
          0.15367462967358045,
          0.1332593416930133,
          0.12343907225058301,
          0.13889547257898746,
          0.1371550559435691,
          0.11607090942679069,
          0.14115226322941943,
          0.15487157182548353,
          0.11163653634163885,
          0.12671147460607954,
          0.11906036526790531,
          0.1250276444997245,
          0.1250642290295482,
          0.13647463809578828,
          0.1350901782545284,
          0.146457268762162,
          0.12578970656539895,
          0.10586943889844827,
          0.13248826072660969,
          0.12801295966605103,
          0.15286547964760433,
          0.14915567683058456,
          0.13381457011654224,
          0.12566745157844408,
          0.1351732643741137,
          0.10754575297226558,
          0.12869715662970002,
          0.12291970743797014,
          0.16194879696123235,
          0.13426819452346545,
          0.11767622648076757,
          0.12024165340831845,
          0.13256134645268458,
          0.18000049579380678,
          0.10768302538408453,
          0.1579984627681991,
          0.19764900343253067,
          0.16814817270893823,
          0.13347883319641826,
          0.12304623977316369,
          0.1304991748715057,
          0.1810682007867129,
          0.12968568974294914,
          0.14378282580842539,
          0.127316513654371,
          0.17070544790678313,
          0.1327545459055118,
          0.13795248249096323,
          0.11275723469827784,
          0.13021834353865033,
          0.1323731092708477,
          0.12025954283746908,
          0.12400989480587224,
          0.13999856108129036,
          0.15906460451917373,
          0.1154006536202137,
          0.14098677552757022,
          0.1347053093267725,
          0.1503391876807149,
          0.14190559442438572,
          0.1279760936122285,
          0.1627413194832128,
          0.11227424034568452,
          0.13752374788714775,
          0.169862497566843,
          0.16943212510982344,
          0.16497251651087655,
          0.1228503250064768,
          0.13235664244031603,
          0.1360854720992757,
          0.13080727852680782,
          0.13064347804660673,
          0.1767592684681637,
          0.11784524511493646,
          0.13898796626912094,
          0.12216867843635057,
          0.1263694386756033,
          0.12604675782319513,
          0.13258218112054143,
          0.1329755953773895,
          0.1749546865794737,
          0.18356401972491473,
          0.14576494616715027,
          0.13070659061309434,
          0.1551192007053237,
          0.14106795545651687,
          0.12071182666289697,
          0.15113973728627567,
          0.1138621264093676,
          0.13637490638715757,
          0.1342731160569701,
          0.1530516921873059,
          0.1293575823080414,
          0.1313910596424494,
          0.11989393876029808,
          0.16682100536274738,
          0.1266094201326499,
          0.1241841085123572,
          0.1540535953501684,
          0.10140728521728919,
          0.14572443347998454,
          0.1422365879239605,
          0.14774491761051833,
          0.1785045326655224,
          0.15195139250417597,
          0.11420382950547796,
          0.14342804529213785,
          0.13477738289467595,
          0.12959741720562384,
          0.11368826912285028,
          0.14731202599191556,
          0.13200189535211315,
          0.11848964403695685,
          0.12411306110762647,
          0.13162042746542343,
          0.16656473956580267,
          0.1230985036509757,
          0.11044421270711888,
          0.1330747101019287,
          0.13863180516767962,
          0.1269582123096493,
          0.11542204160422824,
          0.12379099173330461,
          0.11018622650593338,
          0.1417231069510673,
          0.13974004678786028,
          0.19413373629062095,
          0.1419891225263563,
          0.12234135207484904,
          0.13629683901885115,
          0.14328672349358165,
          0.15966295972267933,
          0.1305148984061541,
          0.14129234130011134,
          0.13046843460556537,
          0.14008781046169014,
          0.17201941681013333,
          0.13545346049618298,
          0.1095398474551372,
          0.1345238459958372,
          0.14629829264285232,
          0.1510735232943601,
          0.17615542967587094,
          0.15935693233731396,
          0.13438879549801827,
          0.17309133492354678,
          0.11140051072704096,
          0.13395179963285503,
          0.1332404436542258,
          0.14786637058043378,
          0.1821964677039103,
          0.1607551778265819,
          0.11337289877481321,
          0.11522206245401116,
          0.14101224926925546,
          0.1437512820722459,
          0.15436162500763834,
          0.13344146659955688,
          0.17044255494462798,
          0.12009732747143569,
          0.15885147774548164,
          0.1583057102751587,
          0.14780306666421547,
          0.12453700606320456,
          0.09896734569475321,
          0.12169944918394303,
          0.13950953272775068,
          0.14627318274622428,
          0.14280391102500142,
          0.1370381950896996,
          0.15080354870666857,
          0.13501703951744534,
          0.13980830866900668,
          0.1750172715084374,
          0.12259617257883408,
          0.14822638704790778,
          0.1261134959601074,
          0.11923466167119323,
          0.11420085044922171,
          0.12942236264660878,
          0.10653002167888714,
          0.14807742267608695,
          0.13907854168248887,
          0.1301714750798135,
          0.12292306015347178,
          0.12228118790345913,
          0.16722109229402998,
          0.1564939065141992,
          0.12566376407065807,
          0.10025167483137956,
          0.13757316033440853,
          0.13453765646657198,
          0.13968786493831295,
          0.14094418155969776,
          0.12038744362315063,
          0.13871036986867125,
          0.12556347236334522,
          0.12226977946462284,
          0.13364569692622896,
          0.1282663696530541,
          0.14589444356986553,
          0.15757317113339891,
          0.16549021526833316,
          0.13655188968701404,
          0.1217924044317018,
          0.1328558563644858,
          0.13470752640328815,
          0.14325273437913344,
          0.12363247439014,
          0.1661018628276365,
          0.10864333400173722,
          0.18503814051848752,
          0.1357358603056464,
          0.1350495885288538,
          0.16570506186328335,
          0.13516274664231664,
          0.14679979600752746,
          0.14414995129577288,
          0.1696132846512106,
          0.12596688638098277,
          0.1202849633094164,
          0.14108814007997134,
          0.1201418777281152,
          0.11085851193479934,
          0.17388154437606623,
          0.13329458908570985,
          0.11173067766594613,
          0.13326697852687305,
          0.17371343419621585,
          0.11515749679010605,
          0.1430587044497503,
          0.1684266839638257,
          0.11849562337530954,
          0.11745549824306262,
          0.16694247193576858,
          0.1906470254579827,
          0.1438893589382841,
          0.11723369710353576,
          0.15531822717900226,
          0.14036058584324726,
          0.13020451049683457,
          0.12856324578097636,
          0.16598095079552427,
          0.12429700013115896,
          0.17503650376539154,
          0.11338539310881994,
          0.16590930938014295,
          0.1414193856463518,
          0.1351811386022016,
          0.1335182600453822,
          0.13000750504084413,
          0.14136883886735352,
          0.12713020422466467,
          0.14791392734921519,
          0.12225420905980809,
          0.16427339751054715,
          0.13241625347109004,
          0.12783591758773558,
          0.13494193143478564,
          0.1422659627566782,
          0.11081695805792609,
          0.13550021703196702,
          0.15386239607538132,
          0.1575141291011513,
          0.1316063493446502,
          0.13228896516682423,
          0.1129453720408459,
          0.1494828814382206,
          0.13094507599548505,
          0.14006779142609904,
          0.1329182793807304,
          0.17041507256529764,
          0.1829603948706051,
          0.11308876450945061,
          0.17149225018771455,
          0.1736355139847985,
          0.16535447977318585,
          0.19129525407498296,
          0.17911727319278933,
          0.11777082870028797,
          0.13710951961690446,
          0.17213909128684193,
          0.13434690831797677,
          0.14546514673769106,
          0.13241394812045523,
          0.168251835206717,
          0.1139333334608399,
          0.13402959520084234,
          0.11177257002246763,
          0.11821485260730169,
          0.17755135412281806,
          0.17427382386974521,
          0.1801344682412863,
          0.15701345012326445,
          0.11693521566274247,
          0.13521362948489282,
          0.12440665128802264,
          0.1433767290458354,
          0.12582507441805946,
          0.14515074730335667,
          0.15097834545391536,
          0.11047960623887575,
          0.13294160355977097,
          0.13259367704655864,
          0.1273568923920193,
          0.1547080297853767,
          0.13080723371374922,
          0.17795331671400752,
          0.17256824883452715,
          0.13186475383210897,
          0.1337910628280839,
          0.14747266710452475,
          0.15036168567987815,
          0.1301645301293531,
          0.11425236766319392,
          0.16984196812476604,
          0.17639455334312965,
          0.13400194857005182,
          0.10496569168444464,
          0.1371887901183621,
          0.1390282136188686,
          0.11969987909951611,
          0.16100368608200338,
          0.11847342366411823,
          0.13611856668681896,
          0.12485658065601248,
          0.17213002103983308,
          0.15138809423194696,
          0.11503071257742499,
          0.12423320206582475,
          0.14646627866515471,
          0.11793353923832457,
          0.1415695513138617,
          0.13547401723016442,
          0.13160095685145876,
          0.14706896008187223,
          0.10929756584844673,
          0.12463138206076739,
          0.14303700546941703,
          0.13336225068880506,
          0.10286264485737119,
          0.1249844065546869,
          0.14278001927579198,
          0.13817763256219462,
          0.12466515216260234,
          0.11300894744594434,
          0.14281643107151132,
          0.1345790213473136,
          0.170520352482198,
          0.14987621177058644,
          0.12594222517987438,
          0.12927288540262805,
          0.154652284144041,
          0.12453498219579079,
          0.15284179492824423,
          0.18310580165175588,
          0.11265600279803992,
          0.1309101095224235,
          0.1575491438570046,
          0.1168292724459978,
          0.1159540488496833,
          0.1230145809705777,
          0.1283700151864539,
          0.15455209553602953,
          0.11726569279548905,
          0.11263206514013209,
          0.14979459206010098,
          0.1241629154787542,
          0.12640068460574683,
          0.16862952102398698,
          0.13167611853823635,
          0.13234470511012764,
          0.1143695482152685,
          0.1159693720647815,
          0.13568495243906117,
          0.11585966644369669,
          0.17316187329490768,
          0.1290981199886321,
          0.11566809710855439,
          0.15105386211977506,
          0.11670310050776567,
          0.14042846440226855,
          0.16445119143108639,
          0.12396598499431936,
          0.13705914043848313,
          0.1164057991475779,
          0.14353519331278852,
          0.16704433152599812,
          0.13820663272494774,
          0.12580196326397478,
          0.16823875267511515,
          0.1344587606828514,
          0.1692551049945512,
          0.15296852254186105,
          0.13703610755470877,
          0.2042419358137968,
          0.14162635365057866,
          0.10261946912775048,
          0.14143786364303312,
          0.12346386600414268,
          0.1273399184746968,
          0.1632701049655172,
          0.15116228640973742,
          0.14651956932527221,
          0.17538279600377882,
          0.20562830610830962,
          0.15368585842839533,
          0.1443044836357704,
          0.1350254800482085,
          0.17612755611150577,
          0.11762048545521836,
          0.14013958901311382,
          0.14583154623838962,
          0.1295941694988747,
          0.11264180969153283,
          0.13293671815932603,
          0.13982746879911262,
          0.12653856049630305,
          0.11688873660832616,
          0.11838970032443764,
          0.12008387937079701,
          0.14560073180890587,
          0.17131421139948957,
          0.12915052802290528,
          0.13655592301915428,
          0.12676022065752054,
          0.1287880735674496,
          0.1267323181334193,
          0.11212195414444563,
          0.12097087032375352,
          0.14489937491167582,
          0.1636321468534519,
          0.10642734790940184,
          0.10962584488954286,
          0.13194884871755047,
          0.15824774761572405,
          0.12657830280181515,
          0.162869533014104,
          0.16096888683427327,
          0.12369634398965117,
          0.1319012288903843,
          0.12381944064384294,
          0.14220088754624857,
          0.12486131112356681,
          0.12385096973887688,
          0.18389010962134486,
          0.16289776036716613,
          0.14434739352667403,
          0.15414666486380194,
          0.12517867332682892,
          0.11568014720250712,
          0.1326966111144918,
          0.13518592535354068,
          0.12043414398941879,
          0.12992907776038126,
          0.18551624175921655,
          0.14528532792804455,
          0.15235140879846068,
          0.158057214780106,
          0.12035739998061651,
          0.12869207806263322,
          0.12595416112111046,
          0.1379982934327099,
          0.1240408051628257,
          0.13914587544661175,
          0.14317275412942454,
          0.1726005624832206,
          0.13739506082350736,
          0.1408352248741744,
          0.12470372502331217,
          0.13148454367753046,
          0.14588318816592136,
          0.16486766285644472,
          0.1211232590679689,
          0.1466727598715033,
          0.13656127835316542,
          0.13770897058483922,
          0.12265082845859365,
          0.16865802178032344,
          0.164923758221318,
          0.14140536534178988,
          0.15602678476915055,
          0.12177437176790469,
          0.15382143249615668,
          0.1405598439275039,
          0.12514141182531516,
          0.15921721533907254,
          0.12252836800359435,
          0.18571851954214577,
          0.15349945314620267,
          0.1462562877630621,
          0.14469560328031048,
          0.1464950965943964,
          0.13323418454963448,
          0.13635052763755587,
          0.11865369800690195,
          0.14000874852300937,
          0.12998545160969072,
          0.12279116016019909,
          0.12498973803154476,
          0.11795285081290702,
          0.13885188017951985,
          0.12283341222176197,
          0.100580755847039,
          0.1267150205667035,
          0.10684798333692898,
          0.13210964046937596,
          0.13509379942463579,
          0.14298031564943692,
          0.14285755824079,
          0.1160437117485506,
          0.14765812804594408,
          0.14722022502002097,
          0.12210242809946784,
          0.174007025155018,
          0.17211695953033954,
          0.14390546185658162,
          0.18582512025449993,
          0.19118576807483875,
          0.13561728774632376,
          0.1451307318446974,
          0.13724175571263197,
          0.1108324393459433,
          0.13700107817405602,
          0.11130250573071226,
          0.17123405835089944,
          0.16772342401167417,
          0.16210497521237083,
          0.12615520611072886,
          0.15323411160236836,
          0.14677884264765698,
          0.13080351586756642,
          0.16990202994731163,
          0.12798253044585842,
          0.11048705197913097,
          0.14390789375709637,
          0.13593027578273031,
          0.12334998035319585,
          0.1588747261711633,
          0.16253456671154565,
          0.17245258259325896,
          0.14031696307607947,
          0.13017506269553472,
          0.13268169369648816,
          0.12832126334743676,
          0.1448217724096018,
          0.12397382634744843,
          0.10795065743841885,
          0.14488018892053442,
          0.16525530357264945,
          0.14774605034205715,
          0.15109562736304516,
          0.12733633473290412,
          0.13130922914783755,
          0.1250338942602695,
          0.12463785884820247,
          0.12867332949520635,
          0.1701804801675104,
          0.16772671829070923,
          0.1727768857515578,
          0.13946699084402175,
          0.1914428839140796,
          0.1287567278310707,
          0.13502489448771093,
          0.13263224198108292,
          0.15398751834329225,
          0.19126847068941105,
          0.16570594035011216,
          0.17692799548366325,
          0.1454832673822255,
          0.1359820145511611,
          0.18223953574381635,
          0.1576902739743196,
          0.12347564537271857,
          0.1299229150238036,
          0.1275285932631443,
          0.1438020408770326,
          0.17780104925337553,
          0.19341370994069398,
          0.15536460334793276,
          0.19900576796438676,
          0.1846292969458181,
          0.1632830934706265,
          0.17429704402357624,
          0.15487687689376964,
          0.15151635230366495,
          0.12924202946415092,
          0.11530715835524072,
          0.1161066369076172
         ],
         "xaxis": "x",
         "yaxis": "y"
        }
       ],
       "layout": {
        "annotations": [
         {
          "showarrow": false,
          "text": "0.036",
          "x": 0.18423854067493986,
          "xanchor": "left",
          "xref": "x",
          "y": 1,
          "yanchor": "top",
          "yref": "y domain"
         },
         {
          "showarrow": false,
          "text": "0.338",
          "x": 0.14531027731509835,
          "xanchor": "left",
          "xref": "x",
          "y": 1,
          "yanchor": "top",
          "yref": "y domain"
         }
        ],
        "barmode": "relative",
        "legend": {
         "title": {
          "text": "variable"
         },
         "tracegroupgap": 0
        },
        "shapes": [
         {
          "line": {
           "color": "red"
          },
          "type": "line",
          "x0": 0.18423854067493986,
          "x1": 0.18423854067493986,
          "xref": "x",
          "y0": 0,
          "y1": 1,
          "yref": "y domain"
         },
         {
          "line": {
           "color": "blue"
          },
          "type": "line",
          "x0": 0.14531027731509835,
          "x1": 0.14531027731509835,
          "xref": "x",
          "y0": 0,
          "y1": 1,
          "yref": "y domain"
         }
        ],
        "template": {
         "data": {
          "bar": [
           {
            "error_x": {
             "color": "#2a3f5f"
            },
            "error_y": {
             "color": "#2a3f5f"
            },
            "marker": {
             "line": {
              "color": "#E5ECF6",
              "width": 0.5
             },
             "pattern": {
              "fillmode": "overlay",
              "size": 10,
              "solidity": 0.2
             }
            },
            "type": "bar"
           }
          ],
          "barpolar": [
           {
            "marker": {
             "line": {
              "color": "#E5ECF6",
              "width": 0.5
             },
             "pattern": {
              "fillmode": "overlay",
              "size": 10,
              "solidity": 0.2
             }
            },
            "type": "barpolar"
           }
          ],
          "carpet": [
           {
            "aaxis": {
             "endlinecolor": "#2a3f5f",
             "gridcolor": "white",
             "linecolor": "white",
             "minorgridcolor": "white",
             "startlinecolor": "#2a3f5f"
            },
            "baxis": {
             "endlinecolor": "#2a3f5f",
             "gridcolor": "white",
             "linecolor": "white",
             "minorgridcolor": "white",
             "startlinecolor": "#2a3f5f"
            },
            "type": "carpet"
           }
          ],
          "choropleth": [
           {
            "colorbar": {
             "outlinewidth": 0,
             "ticks": ""
            },
            "type": "choropleth"
           }
          ],
          "contour": [
           {
            "colorbar": {
             "outlinewidth": 0,
             "ticks": ""
            },
            "colorscale": [
             [
              0,
              "#0d0887"
             ],
             [
              0.1111111111111111,
              "#46039f"
             ],
             [
              0.2222222222222222,
              "#7201a8"
             ],
             [
              0.3333333333333333,
              "#9c179e"
             ],
             [
              0.4444444444444444,
              "#bd3786"
             ],
             [
              0.5555555555555556,
              "#d8576b"
             ],
             [
              0.6666666666666666,
              "#ed7953"
             ],
             [
              0.7777777777777778,
              "#fb9f3a"
             ],
             [
              0.8888888888888888,
              "#fdca26"
             ],
             [
              1,
              "#f0f921"
             ]
            ],
            "type": "contour"
           }
          ],
          "contourcarpet": [
           {
            "colorbar": {
             "outlinewidth": 0,
             "ticks": ""
            },
            "type": "contourcarpet"
           }
          ],
          "heatmap": [
           {
            "colorbar": {
             "outlinewidth": 0,
             "ticks": ""
            },
            "colorscale": [
             [
              0,
              "#0d0887"
             ],
             [
              0.1111111111111111,
              "#46039f"
             ],
             [
              0.2222222222222222,
              "#7201a8"
             ],
             [
              0.3333333333333333,
              "#9c179e"
             ],
             [
              0.4444444444444444,
              "#bd3786"
             ],
             [
              0.5555555555555556,
              "#d8576b"
             ],
             [
              0.6666666666666666,
              "#ed7953"
             ],
             [
              0.7777777777777778,
              "#fb9f3a"
             ],
             [
              0.8888888888888888,
              "#fdca26"
             ],
             [
              1,
              "#f0f921"
             ]
            ],
            "type": "heatmap"
           }
          ],
          "heatmapgl": [
           {
            "colorbar": {
             "outlinewidth": 0,
             "ticks": ""
            },
            "colorscale": [
             [
              0,
              "#0d0887"
             ],
             [
              0.1111111111111111,
              "#46039f"
             ],
             [
              0.2222222222222222,
              "#7201a8"
             ],
             [
              0.3333333333333333,
              "#9c179e"
             ],
             [
              0.4444444444444444,
              "#bd3786"
             ],
             [
              0.5555555555555556,
              "#d8576b"
             ],
             [
              0.6666666666666666,
              "#ed7953"
             ],
             [
              0.7777777777777778,
              "#fb9f3a"
             ],
             [
              0.8888888888888888,
              "#fdca26"
             ],
             [
              1,
              "#f0f921"
             ]
            ],
            "type": "heatmapgl"
           }
          ],
          "histogram": [
           {
            "marker": {
             "pattern": {
              "fillmode": "overlay",
              "size": 10,
              "solidity": 0.2
             }
            },
            "type": "histogram"
           }
          ],
          "histogram2d": [
           {
            "colorbar": {
             "outlinewidth": 0,
             "ticks": ""
            },
            "colorscale": [
             [
              0,
              "#0d0887"
             ],
             [
              0.1111111111111111,
              "#46039f"
             ],
             [
              0.2222222222222222,
              "#7201a8"
             ],
             [
              0.3333333333333333,
              "#9c179e"
             ],
             [
              0.4444444444444444,
              "#bd3786"
             ],
             [
              0.5555555555555556,
              "#d8576b"
             ],
             [
              0.6666666666666666,
              "#ed7953"
             ],
             [
              0.7777777777777778,
              "#fb9f3a"
             ],
             [
              0.8888888888888888,
              "#fdca26"
             ],
             [
              1,
              "#f0f921"
             ]
            ],
            "type": "histogram2d"
           }
          ],
          "histogram2dcontour": [
           {
            "colorbar": {
             "outlinewidth": 0,
             "ticks": ""
            },
            "colorscale": [
             [
              0,
              "#0d0887"
             ],
             [
              0.1111111111111111,
              "#46039f"
             ],
             [
              0.2222222222222222,
              "#7201a8"
             ],
             [
              0.3333333333333333,
              "#9c179e"
             ],
             [
              0.4444444444444444,
              "#bd3786"
             ],
             [
              0.5555555555555556,
              "#d8576b"
             ],
             [
              0.6666666666666666,
              "#ed7953"
             ],
             [
              0.7777777777777778,
              "#fb9f3a"
             ],
             [
              0.8888888888888888,
              "#fdca26"
             ],
             [
              1,
              "#f0f921"
             ]
            ],
            "type": "histogram2dcontour"
           }
          ],
          "mesh3d": [
           {
            "colorbar": {
             "outlinewidth": 0,
             "ticks": ""
            },
            "type": "mesh3d"
           }
          ],
          "parcoords": [
           {
            "line": {
             "colorbar": {
              "outlinewidth": 0,
              "ticks": ""
             }
            },
            "type": "parcoords"
           }
          ],
          "pie": [
           {
            "automargin": true,
            "type": "pie"
           }
          ],
          "scatter": [
           {
            "fillpattern": {
             "fillmode": "overlay",
             "size": 10,
             "solidity": 0.2
            },
            "type": "scatter"
           }
          ],
          "scatter3d": [
           {
            "line": {
             "colorbar": {
              "outlinewidth": 0,
              "ticks": ""
             }
            },
            "marker": {
             "colorbar": {
              "outlinewidth": 0,
              "ticks": ""
             }
            },
            "type": "scatter3d"
           }
          ],
          "scattercarpet": [
           {
            "marker": {
             "colorbar": {
              "outlinewidth": 0,
              "ticks": ""
             }
            },
            "type": "scattercarpet"
           }
          ],
          "scattergeo": [
           {
            "marker": {
             "colorbar": {
              "outlinewidth": 0,
              "ticks": ""
             }
            },
            "type": "scattergeo"
           }
          ],
          "scattergl": [
           {
            "marker": {
             "colorbar": {
              "outlinewidth": 0,
              "ticks": ""
             }
            },
            "type": "scattergl"
           }
          ],
          "scattermapbox": [
           {
            "marker": {
             "colorbar": {
              "outlinewidth": 0,
              "ticks": ""
             }
            },
            "type": "scattermapbox"
           }
          ],
          "scatterpolar": [
           {
            "marker": {
             "colorbar": {
              "outlinewidth": 0,
              "ticks": ""
             }
            },
            "type": "scatterpolar"
           }
          ],
          "scatterpolargl": [
           {
            "marker": {
             "colorbar": {
              "outlinewidth": 0,
              "ticks": ""
             }
            },
            "type": "scatterpolargl"
           }
          ],
          "scatterternary": [
           {
            "marker": {
             "colorbar": {
              "outlinewidth": 0,
              "ticks": ""
             }
            },
            "type": "scatterternary"
           }
          ],
          "surface": [
           {
            "colorbar": {
             "outlinewidth": 0,
             "ticks": ""
            },
            "colorscale": [
             [
              0,
              "#0d0887"
             ],
             [
              0.1111111111111111,
              "#46039f"
             ],
             [
              0.2222222222222222,
              "#7201a8"
             ],
             [
              0.3333333333333333,
              "#9c179e"
             ],
             [
              0.4444444444444444,
              "#bd3786"
             ],
             [
              0.5555555555555556,
              "#d8576b"
             ],
             [
              0.6666666666666666,
              "#ed7953"
             ],
             [
              0.7777777777777778,
              "#fb9f3a"
             ],
             [
              0.8888888888888888,
              "#fdca26"
             ],
             [
              1,
              "#f0f921"
             ]
            ],
            "type": "surface"
           }
          ],
          "table": [
           {
            "cells": {
             "fill": {
              "color": "#EBF0F8"
             },
             "line": {
              "color": "white"
             }
            },
            "header": {
             "fill": {
              "color": "#C8D4E3"
             },
             "line": {
              "color": "white"
             }
            },
            "type": "table"
           }
          ]
         },
         "layout": {
          "annotationdefaults": {
           "arrowcolor": "#2a3f5f",
           "arrowhead": 0,
           "arrowwidth": 1
          },
          "autotypenumbers": "strict",
          "coloraxis": {
           "colorbar": {
            "outlinewidth": 0,
            "ticks": ""
           }
          },
          "colorscale": {
           "diverging": [
            [
             0,
             "#8e0152"
            ],
            [
             0.1,
             "#c51b7d"
            ],
            [
             0.2,
             "#de77ae"
            ],
            [
             0.3,
             "#f1b6da"
            ],
            [
             0.4,
             "#fde0ef"
            ],
            [
             0.5,
             "#f7f7f7"
            ],
            [
             0.6,
             "#e6f5d0"
            ],
            [
             0.7,
             "#b8e186"
            ],
            [
             0.8,
             "#7fbc41"
            ],
            [
             0.9,
             "#4d9221"
            ],
            [
             1,
             "#276419"
            ]
           ],
           "sequential": [
            [
             0,
             "#0d0887"
            ],
            [
             0.1111111111111111,
             "#46039f"
            ],
            [
             0.2222222222222222,
             "#7201a8"
            ],
            [
             0.3333333333333333,
             "#9c179e"
            ],
            [
             0.4444444444444444,
             "#bd3786"
            ],
            [
             0.5555555555555556,
             "#d8576b"
            ],
            [
             0.6666666666666666,
             "#ed7953"
            ],
            [
             0.7777777777777778,
             "#fb9f3a"
            ],
            [
             0.8888888888888888,
             "#fdca26"
            ],
            [
             1,
             "#f0f921"
            ]
           ],
           "sequentialminus": [
            [
             0,
             "#0d0887"
            ],
            [
             0.1111111111111111,
             "#46039f"
            ],
            [
             0.2222222222222222,
             "#7201a8"
            ],
            [
             0.3333333333333333,
             "#9c179e"
            ],
            [
             0.4444444444444444,
             "#bd3786"
            ],
            [
             0.5555555555555556,
             "#d8576b"
            ],
            [
             0.6666666666666666,
             "#ed7953"
            ],
            [
             0.7777777777777778,
             "#fb9f3a"
            ],
            [
             0.8888888888888888,
             "#fdca26"
            ],
            [
             1,
             "#f0f921"
            ]
           ]
          },
          "colorway": [
           "#636efa",
           "#EF553B",
           "#00cc96",
           "#ab63fa",
           "#FFA15A",
           "#19d3f3",
           "#FF6692",
           "#B6E880",
           "#FF97FF",
           "#FECB52"
          ],
          "font": {
           "color": "#2a3f5f"
          },
          "geo": {
           "bgcolor": "white",
           "lakecolor": "white",
           "landcolor": "#E5ECF6",
           "showlakes": true,
           "showland": true,
           "subunitcolor": "white"
          },
          "hoverlabel": {
           "align": "left"
          },
          "hovermode": "closest",
          "mapbox": {
           "style": "light"
          },
          "paper_bgcolor": "white",
          "plot_bgcolor": "#E5ECF6",
          "polar": {
           "angularaxis": {
            "gridcolor": "white",
            "linecolor": "white",
            "ticks": ""
           },
           "bgcolor": "#E5ECF6",
           "radialaxis": {
            "gridcolor": "white",
            "linecolor": "white",
            "ticks": ""
           }
          },
          "scene": {
           "xaxis": {
            "backgroundcolor": "#E5ECF6",
            "gridcolor": "white",
            "gridwidth": 2,
            "linecolor": "white",
            "showbackground": true,
            "ticks": "",
            "zerolinecolor": "white"
           },
           "yaxis": {
            "backgroundcolor": "#E5ECF6",
            "gridcolor": "white",
            "gridwidth": 2,
            "linecolor": "white",
            "showbackground": true,
            "ticks": "",
            "zerolinecolor": "white"
           },
           "zaxis": {
            "backgroundcolor": "#E5ECF6",
            "gridcolor": "white",
            "gridwidth": 2,
            "linecolor": "white",
            "showbackground": true,
            "ticks": "",
            "zerolinecolor": "white"
           }
          },
          "shapedefaults": {
           "line": {
            "color": "#2a3f5f"
           }
          },
          "ternary": {
           "aaxis": {
            "gridcolor": "white",
            "linecolor": "white",
            "ticks": ""
           },
           "baxis": {
            "gridcolor": "white",
            "linecolor": "white",
            "ticks": ""
           },
           "bgcolor": "#E5ECF6",
           "caxis": {
            "gridcolor": "white",
            "linecolor": "white",
            "ticks": ""
           }
          },
          "title": {
           "x": 0.05
          },
          "xaxis": {
           "automargin": true,
           "gridcolor": "white",
           "linecolor": "white",
           "ticks": "",
           "title": {
            "standoff": 15
           },
           "zerolinecolor": "white",
           "zerolinewidth": 2
          },
          "yaxis": {
           "automargin": true,
           "gridcolor": "white",
           "linecolor": "white",
           "ticks": "",
           "title": {
            "standoff": 15
           },
           "zerolinecolor": "white",
           "zerolinewidth": 2
          }
         }
        },
        "title": {
         "text": "Permutation Test Results"
        },
        "xaxis": {
         "anchor": "y",
         "domain": [
          0,
          1
         ],
         "title": {
          "text": "value"
         }
        },
        "yaxis": {
         "anchor": "x",
         "domain": [
          0,
          1
         ],
         "title": {
          "text": "count"
         }
        }
       }
      }
     },
     "metadata": {},
     "output_type": "display_data"
    }
   ],
   "source": [
    "observed_wo_nebraska = observed_accuracies.drop(\"NE\").std()\n",
    "pval_wo_nebraska = (stats >= observed_wo_nebraska).mean()\n",
    "\n",
    "fig = px.histogram(pd.Series(stats), title=\"Permutation Test Results\")\n",
    "fig.add_vline(x=observed, line_color=\"red\", annotation_text=pval)\n",
    "fig.add_vline(x=observed_wo_nebraska, line_color=\"blue\", annotation_text=pval_wo_nebraska)\n",
    "fig.show()"
   ]
  }
 ],
 "metadata": {
  "kernelspec": {
   "display_name": "Python 3",
   "language": "python",
   "name": "python3"
  },
  "language_info": {
   "codemirror_mode": {
    "name": "ipython",
    "version": 3
   },
   "file_extension": ".py",
   "mimetype": "text/x-python",
   "name": "python",
   "nbconvert_exporter": "python",
   "pygments_lexer": "ipython3",
   "version": "3.12.6"
  }
 },
 "nbformat": 4,
 "nbformat_minor": 2
}
